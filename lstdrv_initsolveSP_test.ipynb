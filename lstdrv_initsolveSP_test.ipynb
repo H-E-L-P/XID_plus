{
 "metadata": {
  "name": "",
  "signature": "sha256:d8ed7af244985fb716ba04c634ef8f604a31554df5f330c818b678f0a118c445"
 },
 "nbformat": 3,
 "nbformat_minor": 0,
 "worksheets": [
  {
   "cells": [
    {
     "cell_type": "code",
     "collapsed": false,
     "input": [
      "import numpy as np\n",
      "import astropy\n",
      "from astropy.io import fits\n",
      "from astropy import wcs\n",
      "import pylab as plt\n",
      "from astropy.convolution import Gaussian2DKernel\n",
      "\n",
      "%matplotlib inline"
     ],
     "language": "python",
     "metadata": {},
     "outputs": [],
     "prompt_number": 1
    },
    {
     "cell_type": "code",
     "collapsed": false,
     "input": [
      "im=np.empty((100,120))\n",
      "sx=np.random.random(30)*120\n",
      "sy=np.random.random(30)*100\n",
      "paxis=[13,13]\n",
      "prf=Gaussian2DKernel(2/2.355,x_size=paxis[0],y_size=paxis[1])\n",
      "prf.normalize(mode='peak')\n",
      "\n",
      "x_pix,y_pix=np.meshgrid(np.arange(0,120),np.arange(0,100))\n",
      "plt.imshow(im)\n",
      "plt.scatter(sx,sy)"
     ],
     "language": "python",
     "metadata": {},
     "outputs": [
      {
       "metadata": {},
       "output_type": "pyout",
       "prompt_number": 2,
       "text": [
        "<matplotlib.collections.PathCollection at 0x10f9e60d0>"
       ]
      },
      {
       "metadata": {},
       "output_type": "display_data",
       "png": "[encoded data removed]",
       "text": [
        "<matplotlib.figure.Figure at 0x10ed7f950>"
       ]
      }
     ],
     "prompt_number": 2
    },
    {
     "cell_type": "code",
     "collapsed": false,
     "input": [
      "def lstdrv_initsolveSP(sx,sy,prf,\n",
      "                       sig_map,noisy_map,x_pix,y_pix):\n",
      "                       #,bl,bu,psrc,psig,pmat,amat2,sn_map):\n",
      "    from scipy import interpolate\n",
      "    from scipy.sparse import coo_matrix\n",
      "\n",
      "    snsrc=sx.size\n",
      "    paxis1,paxis2=prf.shape\n",
      "    #cut down map to sources being fitted\n",
      "    #first get range around sources\n",
      "    mux=np.max(sx)\n",
      "    mlx=np.min(sx)\n",
      "    muy=np.max(sy)\n",
      "    mly=np.min(sy)\n",
      "    npix=(x_pix < mux+20) & (y_pix < muy+20) & (y_pix >= mly-20) & (x_pix >= mlx-20)\n",
      "    snpix=npix.sum()\n",
      "    #now cut down and flatten maps\n",
      "    sx_pix=x_pix[npix]\n",
      "    sy_pix=y_pix[npix]\n",
      "    snoisy_map=noisy_map[npix]\n",
      "    ssig_map=sig_map[npix]\n",
      "    amat_row=np.array([])\n",
      "    amat_col=np.array([])\n",
      "    amat_data=np.array([])\n",
      "\n",
      "    #create pointing array\n",
      "    for s in range(0,snsrc):\n",
      "\n",
      "\n",
      "\n",
      "        #diff from centre of beam for each pixel in x\n",
      "        dx = -1.0*np.rint(sx[s]).astype(long)+((paxis1-1.)/2.)+sx_pix\n",
      "        #diff from centre of beam for each pixel in y\n",
      "        dy = -1.0*np.rint(sy[s]).astype(long)+((paxis2-1.)/2.)+sy_pix\n",
      "        #diff from each pixel in prf\n",
      "        pindx=np.arange(0.0,paxis1)+sx[s]-np.rint(sx[s]).astype(long)\n",
      "        pindy=np.arange(0.0,paxis2)+sy[s]-np.rint(sy[s]).astype(long)\n",
      "        #diff from pixel centre\n",
      "        px=sx[s]-np.rint(sx[s]).astype(long)+(paxis1-1.)/2.\n",
      "        py=sy[s]-np.rint(sy[s]).astype(long)+(paxis2-1.)/2.\n",
      "        good = (dx >= 0) & (dx < paxis1) & (dy >= 0) & (dy < paxis2)\n",
      "        ngood = good.sum()\n",
      "        bad = np.asarray(good)==False\n",
      "        nbad=bad.sum()\n",
      "        if ngood > 0.5*prf.array.size:\n",
      "            ipx2,ipy2=np.meshgrid(pindx,pindy)\n",
      "            nprf=interpolate.Rbf(ipx2.ravel(),ipy2.ravel(),prf.array.ravel(),function='cubic')\n",
      "            atemp=np.empty((ngood))\n",
      "            for i in range(0,ngood):\n",
      "                atemp[i]=nprf(np.rint(dx[good][i]),np.rint(dy[good][i]))\n",
      "                \n",
      "                #print dx[good][i],dy[good][i],atemp[i]\n",
      "            ind=atemp == np.amax(atemp)\n",
      "            print ipx2.ravel()[ind],ipy2.ravel()[ind],sx[s],sy[s],nprf(ipx2.ravel()[6],),dx[good][ind],dy[good][ind]\n",
      "            amat_data=np.append(amat_data,atemp)\n",
      "            amat_row=np.append(amat_row,np.arange(0,snpix,dtype=long)[good])#what pixels the source contributes to\n",
      "            amat_col=np.append(amat_col,np.full(ngood,s))#what source we are on\n",
      "    #Add background contribution to pointing matrix\n",
      "    amat_data=np.append(amat_data,np.full(snpix,1))\n",
      "    amat_row=np.append(amat_row,np.arange(0,snpix,dtype=long))\n",
      "    amat_col=np.append(amat_col,np.full(snpix,s+1))\n",
      "    A=coo_matrix((amat_data, (amat_row, amat_col)), shape=(snpix, snsrc+1))\n",
      "    return amat_data,amat_row,amat_col,A,sx_pix,sy_pix,snoisy_map,ssig_map,snsrc,snpix\n"
     ],
     "language": "python",
     "metadata": {},
     "outputs": [],
     "prompt_number": 3
    },
    {
     "cell_type": "code",
     "collapsed": false,
     "input": [
      "amat_data,amat_row,amat_col,A,sx_pix,sy_pix,snoisy_map,ssig_map,snsrc,snpix=lstdrv_initsolveSP(sx,sy,prf,\n",
      "                       im,im*0.1,x_pix,y_pix)"
     ],
     "language": "python",
     "metadata": {},
     "outputs": [
      {
       "output_type": "stream",
       "stream": "stdout",
       "text": [
        "[ 6.1277442] [ 6.25714219] 28.1277441984 45.2571421915 0.985659877908 [ 6.] [ 6.]\n",
        "[ 6.19490731] [ 6.31631382] 33.1949073121 8.31631381526 0.987321980285 [ 6.] [ 6.]\n",
        "[ 6.23309753] [ 6.30494548] 15.2330975287 61.3049454811 0.995440701093 [ 6.] [ 6.]\n",
        "[ 7.49930676] [ 4.69252782] 115.499306762 75.6925278217 0.628358232301 [ 6.] [ 6.]\n",
        "[ 6.40436054] [ 6.2721225] 81.4043605376 59.2721225023 0.985046424585 [ 6.] [ 6.]\n",
        "[ 5.91418205] [ 6.01033138] 48.9141820475 99.010331375 0.991939875025 [ 6.] [ 6.]\n",
        "[ 5.6993785]"
       ]
      },
      {
       "output_type": "stream",
       "stream": "stdout",
       "text": [
        " [ 6.08716036] 18.6993784988 64.0871603582 0.888566006892 [ 6.] [ 6.]\n",
        "[ 4.12628621] [ 4.01886071] 2.12628621074 24.0188607107 0.989999003563 [ 6.] [ 6.]\n",
        "[ 5.68481404] [ 6.2938362] 21.6848140444 59.2938362016 0.759445973586 [ 6.] [ 6.]\n",
        "[ 5.50814155] [ 5.72433952] 33.5081415473 88.7243395227 0.961821807076 [ 6.] [ 6.]\n",
        "[ 6.22480705] [ 5.94900179] 35.2248070497 81.9490017924 0.939899602106 [ 6.] [ 6.]\n",
        "[ 9.25318625] [ 2.95438312] 119.253186254 78.95438312 0.930368935685 [ 6.] [ 6.]\n",
        "[ 5.74311767]"
       ]
      },
      {
       "output_type": "stream",
       "stream": "stdout",
       "text": [
        " [ 6.05918521] 112.743117673 32.0591852053 0.922850441859 [ 6.] [ 6.]\n",
        "[ 5.51590717] [ 5.87634327] 7.51590716612 43.8763432725 0.902190127707 [ 6.] [ 6.]\n",
        "[ 5.82506419] [ 6.15501121] 95.8250641942 20.1550112117 0.916589246817 [ 6.] [ 6.]\n",
        "[ 6.14695925] [ 6.37462028] 107.146959253 69.3746202776 0.957933911459 [ 6.] [ 6.]\n",
        "[ 6.37907136] [ 5.85337867] 91.3790713597 76.853378672 0.811334892908 [ 6.] [ 6.]\n",
        "[ 6.29937636]"
       ]
      },
      {
       "output_type": "stream",
       "stream": "stdout",
       "text": [
        " [ 6.27194212] 108.299376361 83.2719421205 0.999319498771 [ 6.] [ 6.]\n",
        "[ 6.13964248] [ 5.6351325] 16.1396424772 36.6351325037 0.823989772868 [ 6.] [ 6.]\n",
        "[ 5.70641277] [ 5.98728436] 71.706412772 92.9872843645 0.93784889656 [ 6.] [ 6.]\n",
        "[ 5.96496222] [ 5.80288194] 46.9649622168 83.8028819416 0.977896187815 [ 6.] [ 6.]\n",
        "[ 5.89884252] [ 5.63594687] 7.89884251995 50.635946871 0.944996803197 [ 6.] [ 6.]\n",
        "[ 5.59042426]"
       ]
      },
      {
       "output_type": "stream",
       "stream": "stdout",
       "text": [
        " [ 5.61191377] 64.5904242617 74.6119137661 0.999581159985 [ 6.] [ 6.]\n",
        "[ 6.05887014] [ 6.29964858] 8.05887013527 72.2996485833 0.953288552835 [ 6.] [ 6.]\n",
        "[ 6.49158195] [ 6.25787317] 28.491581948 83.2578731651 0.955817899821 [ 6.] [ 6.]\n",
        "[ 5.93813527] [ 6.44566097] 43.9381352746 94.4456609749 0.822203315835 [ 6.] [ 6.]\n",
        "[ 6.17136817] [ 3.55286006] 90.1713681656 3.55286006302 0.753360288776 [ 6.] [ 6.]\n",
        "[ 6.43519162] [ 6.07415316] 32.4351916166 45.0741531605 0.901897057342 [ 6.] [ 6.]\n",
        "[ 6.0791353]"
       ]
      },
      {
       "output_type": "stream",
       "stream": "stdout",
       "text": [
        " [ 5.92163935] 52.0791352972 26.9216393533 0.979076770255 [ 6.] [ 6.]\n",
        "[ 5.90338846] [ 6.40174295] 92.9033884613 70.4017429483 0.827619967572 [ 6.] [ 6.]\n"
       ]
      }
     ],
     "prompt_number": 4
    },
    {
     "cell_type": "code",
     "collapsed": false,
     "input": [
      "from scipy.sparse import coo_matrix\n",
      "f_vec=np.full((snsrc+1),5)\n",
      "f_vec[-1]=1\n",
      "\n",
      "f=coo_matrix((np.full((snsrc+1),5), (range(0,snsrc+1),np.zeros(snsrc+1))), shape=(snsrc+1, 1))\n",
      "print A.shape,f.shape\n",
      "rmap_new=A*f\n",
      "im[sy_pix,sx_pix]=np.asarray(rmap_new.todense()).reshape(-1)\n",
      "plt.imshow(im)\n",
      "plt.scatter(sx,sy)\n"
     ],
     "language": "python",
     "metadata": {},
     "outputs": [
      {
       "output_type": "stream",
       "stream": "stdout",
       "text": [
        "(12000, 31) (31, 1)\n"
       ]
      },
      {
       "metadata": {},
       "output_type": "pyout",
       "prompt_number": 5,
       "text": [
        "<matplotlib.collections.PathCollection at 0x10b624590>"
       ]
      },
      {
       "metadata": {},
       "output_type": "display_data",
       "png": "[encoded data removed]",
       "text": [
        "<matplotlib.figure.Figure at 0x110873650>"
       ]
      }
     ],
     "prompt_number": 5
    },
    {
     "cell_type": "code",
     "collapsed": false,
     "input": [],
     "language": "python",
     "metadata": {},
     "outputs": [],
     "prompt_number": 5
    },
    {
     "cell_type": "code",
     "collapsed": false,
     "input": [],
     "language": "python",
     "metadata": {},
     "outputs": []
    }
   ],
   "metadata": {}
  }
 ]
}