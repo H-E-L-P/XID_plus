{
 "cells": [
  {
   "cell_type": "code",
   "execution_count": 1,
   "metadata": {
    "collapsed": true,
    "slideshow": {
     "slide_type": "skip"
    }
   },
   "outputs": [],
   "source": [
    "import warnings\n",
    "from matplotlib.cbook import MatplotlibDeprecationWarning\n",
    "warnings.simplefilter('ignore', MatplotlibDeprecationWarning)\n",
    "warnings.simplefilter('ignore', UserWarning)\n",
    "warnings.simplefilter('ignore', RuntimeWarning)\n",
    "warnings.simplefilter('ignore',UnicodeWarning)"
   ]
  },
  {
   "cell_type": "markdown",
   "metadata": {
    "slideshow": {
     "slide_type": "slide"
    }
   },
   "source": [
    "\n",
    "![HELP logo](https://github.com/pdh21/FIR_bootcamp_2016/blob/master/Figures/Help_Logo.png?raw=true)\n",
    "# XID+\n",
    "### _Peter Hurley_"
   ]
  },
  {
   "cell_type": "markdown",
   "metadata": {
    "slideshow": {
     "slide_type": "subslide"
    }
   },
   "source": [
    "1. Uses a MCMC based approach to get FULL posterior\n",
    "2. Provide a natural framework to introduce additional prior information\n",
    "3. Allows more accurate estimate of flux density errors for each source\n",
    "4. Provides a platform for doing science with the maps (e.g Hierarchical stacking of LBGs, Luminosity function from the map etc)"
   ]
  },
  {
   "cell_type": "markdown",
   "metadata": {
    "slideshow": {
     "slide_type": "subslide"
    }
   },
   "source": [
    "![stan logo](https://github.com/stan-dev/logos/blob/master/pystan_logo_name.png?raw=true)\n"
   ]
  },
  {
   "cell_type": "markdown",
   "metadata": {
    "slideshow": {
     "slide_type": "notes"
    }
   },
   "source": [
    "Cross-identification tends to be done with catalogues, then science with the matched catalogues.\n",
    "\n",
    "XID+ takes a different philosophy.\n",
    "* Catalogues are a form of data compression. OK in some cases, not so much in others: \n",
    "    - i.e. confused images: catalogue compression loses correlation information\n",
    "* Ideally, science should be done without compression..\n",
    "\n",
    "XID+ provides a framework to cross identify galaxies we know about in different maps, with the idea that it can be extended to do science with the maps!!\n"
   ]
  },
  {
   "cell_type": "markdown",
   "metadata": {
    "slideshow": {
     "slide_type": "slide"
    }
   },
   "source": [
    "## Probabilistic Framework\n"
   ]
  },
  {
   "cell_type": "markdown",
   "metadata": {
    "slideshow": {
     "slide_type": "fragment"
    }
   },
   "source": [
    "Philosophy: \n",
    "* build a probabilistic generative model for the SPIRE maps\n",
    "* Infer model on SPIRE maps\n"
   ]
  },
  {
   "cell_type": "markdown",
   "metadata": {
    "slideshow": {
     "slide_type": "fragment"
    }
   },
   "source": [
    "### Bayes Theorem\n",
    "$p(\\mathbf{f}|\\mathbf{d}) \\propto p(\\mathbf{d}|\\mathbf{f}) \\times p(\\mathbf{f})$"
   ]
  },
  {
   "cell_type": "markdown",
   "metadata": {
    "slideshow": {
     "slide_type": "subslide"
    }
   },
   "source": [
    "### Generative Model\n",
    "In order to carry out Bayesian inference, we need a model to carry out inference on.\n",
    "\n",
    "For the SPIRE maps, our model is quite simple, with likelihood defined as:\n",
    "    $L = p(\\mathbf{d}|\\mathbf{f}) \\propto |\\mathbf{N_d}|^{-1/2} \\exp\\big\\{ -\\frac{1}{2}(\\mathbf{d}-\\mathbf{Af})^T\\mathbf{N_d}^{-1}(\\mathbf{d}-\\mathbf{Af})\\big\\}$\n",
    "\n",
    "where:\n",
    "    $\\mathbf{N_{d,ii}} =\\sigma_{inst.,ii}^2+\\sigma_{conf.}^2$\n",
    "    "
   ]
  },
  {
   "cell_type": "markdown",
   "metadata": {
    "slideshow": {
     "slide_type": "notes"
    }
   },
   "source": [
    "Simplest model for XID+ assumes following:\n",
    "* All sources are known and have positive flux (fi)\n",
    "* A global background (B) contributes to all pixels \n",
    "* PRF is fixed and known\n",
    "* Confusion noise is constant and not correlated across pixels\n",
    "---\n",
    "Because we are getting the joint probability distribution, our model is generative:\n",
    "    \n",
    "* Given parameters, we generate data and vica-versa\n",
    "    \n",
    "Compared to discriminative model (i.e. neural network), which only obtains conditional probability distribution:\n",
    "\n",
    "* Neural network, give inputs, get output. Can't go other way'\n",
    "\n",
    "Generative model is full probabilistic model. Allows more complex relationships between observed and target variables\n"
   ]
  },
  {
   "cell_type": "markdown",
   "metadata": {
    "slideshow": {
     "slide_type": "slide"
    }
   },
   "source": [
    "## XID+ in action\n",
    "XID+ applied to GALFORM simulation of COSMOS field"
   ]
  },
  {
   "cell_type": "markdown",
   "metadata": {
    "slideshow": {
     "slide_type": "subslide"
    }
   },
   "source": [
    "Lets look at part of COSMOS:"
   ]
  },
  {
   "cell_type": "markdown",
   "metadata": {
    "slideshow": {
     "slide_type": "notes"
    }
   },
   "source": [
    "Fit to Lacey GALFORM\n",
    "* SAM simulation (with dust) ran through SMAP pipeline_ similar depth and size as COSMOS\n",
    "* Used galaxies with an observed 100 micron flux of gt. $50\\mathbf{\\mu Jy}$. Gives 64823\n",
    "* used tiles of 0.2 degrees with buffer.\n",
    "* Uninformative prior: uniform in log space $10^{-8} - 10{^3} \\mathbf{mJy}$\n"
   ]
  },
  {
   "cell_type": "markdown",
   "metadata": {},
   "source": [
    "# RUN SCRIPT\n",
    "======================"
   ]
  },
  {
   "cell_type": "markdown",
   "metadata": {},
   "source": [
    "Import required modules"
   ]
  },
  {
   "cell_type": "code",
   "execution_count": 2,
   "metadata": {
    "slideshow": {
     "slide_type": "skip"
    }
   },
   "outputs": [],
   "source": [
    "from astropy.io import ascii, fits\n",
    "import pylab as plt\n",
    "%matplotlib inline\n",
    "from astropy import wcs\n",
    "\n",
    "\n",
    "import numpy as np\n",
    "import xidplus\n",
    "from xidplus import moc_routines\n",
    "import pickle"
   ]
  },
  {
   "cell_type": "markdown",
   "metadata": {
    "collapsed": true
   },
   "source": [
    "Set image and catalogue filenames"
   ]
  },
  {
   "cell_type": "code",
   "execution_count": 3,
   "metadata": {
    "collapsed": true
   },
   "outputs": [],
   "source": [
    "#Folder containing maps\n",
    "imfolder=xidplus.__path__[0]+'/../test_files/'\n",
    "\n",
    "pswfits=imfolder+'cosmos_itermap_lacey_07012015_simulated_observation_w_noise_PSW_hipe.fits.gz'#SPIRE 250 map\n",
    "pmwfits=imfolder+'cosmos_itermap_lacey_07012015_simulated_observation_w_noise_PMW_hipe.fits.gz'#SPIRE 350 map\n",
    "plwfits=imfolder+'cosmos_itermap_lacey_07012015_simulated_observation_w_noise_PLW_hipe.fits.gz'#SPIRE 500 map\n",
    "\n",
    "\n",
    "#Folder containing prior input catalogue\n",
    "catfolder=xidplus.__path__[0]+'/../test_files/'\n",
    "#prior catalogue\n",
    "prior_cat='lacey_07012015_MillGas.ALLVOLS_cat_PSW_COSMOS_test.fits'\n",
    "\n",
    "\n",
    "#output folder\n",
    "output_folder='./'"
   ]
  },
  {
   "cell_type": "markdown",
   "metadata": {},
   "source": [
    "Load in images, noise maps, header info and WCS information"
   ]
  },
  {
   "cell_type": "code",
   "execution_count": 4,
   "metadata": {
    "collapsed": true
   },
   "outputs": [],
   "source": [
    "#-----250-------------\n",
    "hdulist = fits.open(pswfits)\n",
    "im250phdu=hdulist[0].header\n",
    "im250hdu=hdulist[1].header\n",
    "\n",
    "im250=hdulist[1].data*1.0E3\n",
    "nim250=hdulist[2].data*1.0E3\n",
    "w_250 = wcs.WCS(hdulist[1].header)\n",
    "pixsize250=3600.0*w_250.wcs.cd[1,1] #pixel size (in arcseconds)\n",
    "hdulist.close()\n",
    "#-----350-------------\n",
    "hdulist = fits.open(pmwfits)\n",
    "im350phdu=hdulist[0].header\n",
    "im350hdu=hdulist[1].header\n",
    "\n",
    "im350=hdulist[1].data*1.0E3\n",
    "nim350=hdulist[2].data*1.0E3\n",
    "w_350 = wcs.WCS(hdulist[1].header)\n",
    "pixsize350=3600.0*w_350.wcs.cd[1,1] #pixel size (in arcseconds)\n",
    "hdulist.close()\n",
    "#-----500-------------\n",
    "hdulist = fits.open(plwfits)\n",
    "im500phdu=hdulist[0].header\n",
    "im500hdu=hdulist[1].header\n",
    "im500=hdulist[1].data*1.0E3\n",
    "nim500=hdulist[2].data*1.0E3\n",
    "w_500 = wcs.WCS(hdulist[1].header)\n",
    "pixsize500=3600.0*w_500.wcs.cd[1,1] #pixel size (in arcseconds)\n",
    "hdulist.close()"
   ]
  },
  {
   "cell_type": "markdown",
   "metadata": {},
   "source": [
    "Load in catalogue you want to fit (and make any cuts)"
   ]
  },
  {
   "cell_type": "code",
   "execution_count": 5,
   "metadata": {
    "collapsed": true
   },
   "outputs": [],
   "source": [
    "hdulist = fits.open(catfolder+prior_cat)\n",
    "fcat=hdulist[1].data\n",
    "hdulist.close()\n",
    "inra=fcat['RA']\n",
    "indec=fcat['DEC']\n",
    "\n",
    "sgood=fcat['S100']>0.050\n",
    "\n",
    "inra=inra[sgood]\n",
    "indec=indec[sgood]"
   ]
  },
  {
   "cell_type": "markdown",
   "metadata": {},
   "source": [
    "Set prior classes\n"
   ]
  },
  {
   "cell_type": "code",
   "execution_count": 6,
   "metadata": {
    "collapsed": true
   },
   "outputs": [],
   "source": [
    "#---prior250--------\n",
    "prior250=xidplus.prior(im250,nim250,im250phdu,im250hdu)#Initialise with map, uncertianty map, wcs info and primary header\n",
    "prior250.prior_cat(inra,indec,prior_cat)#Set input catalogue\n",
    "prior250.prior_bkg(-5.0,5)#Set prior on background (assumes Guassian pdf with mu and sigma)\n",
    "#---prior350--------\n",
    "prior350=xidplus.prior(im350,nim350,im350phdu,im350hdu)\n",
    "prior350.prior_cat(inra,indec,prior_cat)\n",
    "prior350.prior_bkg(-5.0,5)\n",
    "\n",
    "#---prior500--------\n",
    "prior500=xidplus.prior(im500,nim500,im500phdu,im500hdu)\n",
    "prior500.prior_cat(inra,indec,prior_cat)\n",
    "prior500.prior_bkg(-5.0,5)"
   ]
  },
  {
   "cell_type": "markdown",
   "metadata": {},
   "source": [
    "Set PSF"
   ]
  },
  {
   "cell_type": "code",
   "execution_count": 7,
   "metadata": {
    "collapsed": true
   },
   "outputs": [],
   "source": [
    "#pixsize array (size of pixels in arcseconds)\n",
    "pixsize=np.array([pixsize250,pixsize350,pixsize500])\n",
    "#point response function for the three bands\n",
    "prfsize=np.array([18.15,25.15,36.3])\n",
    "#use Gaussian2DKernel to create prf (requires stddev rather than fwhm hence pfwhm/2.355)\n",
    "from astropy.convolution import Gaussian2DKernel\n",
    "\n",
    "##---------fit using Gaussian beam-----------------------\n",
    "prf250=Gaussian2DKernel(prfsize[0]/2.355,x_size=101,y_size=101)\n",
    "prf250.normalize(mode='peak')\n",
    "prf350=Gaussian2DKernel(prfsize[1]/2.355,x_size=101,y_size=101)\n",
    "prf350.normalize(mode='peak')\n",
    "prf500=Gaussian2DKernel(prfsize[2]/2.355,x_size=101,y_size=101)\n",
    "prf500.normalize(mode='peak')\n",
    "\n",
    "pind250=np.arange(0,101,1)*1.0/pixsize[0] #get 250 scale in terms of pixel scale of map\n",
    "pind350=np.arange(0,101,1)*1.0/pixsize[1] #get 350 scale in terms of pixel scale of map\n",
    "pind500=np.arange(0,101,1)*1.0/pixsize[2] #get 500 scale in terms of pixel scale of map\n",
    "\n",
    "prior250.set_prf(prf250.array,pind250,pind250)#requires psf as 2d grid, and x and y bins for grid (in pixel scale)\n",
    "prior350.set_prf(prf350.array,pind350,pind350)\n",
    "prior500.set_prf(prf500.array,pind500,pind500)"
   ]
  },
  {
   "cell_type": "code",
   "execution_count": 8,
   "metadata": {},
   "outputs": [
    {
     "name": "stdout",
     "output_type": "stream",
     "text": [
      "fitting 64824 sources \n",
      "\n",
      "using 1239145, 1239145 and 309801 pixels\n"
     ]
    }
   ],
   "source": [
    "print('fitting '+ str(prior250.nsrc)+' sources \\n')\n",
    "print('using ' +  str(prior250.snpix)+', '+ str(prior250.snpix)+' and '+ str(prior500.snpix)+' pixels')\n"
   ]
  },
  {
   "cell_type": "markdown",
   "metadata": {},
   "source": [
    "Fitting this number of sources and datapoints is not practical. Suggest cutting down to a MOC based on a HEALPix tile with an order no greater than 10 for SPIRE."
   ]
  },
  {
   "cell_type": "code",
   "execution_count": 9,
   "metadata": {},
   "outputs": [],
   "source": [
    "order=10\n",
    "Tile=6977662\n",
    "moc=moc_routines.get_fitting_region(order,Tile)\n",
    "prior250.set_tile(moc)\n",
    "prior350.set_tile(moc)\n",
    "prior500.set_tile(moc)"
   ]
  },
  {
   "cell_type": "code",
   "execution_count": 10,
   "metadata": {},
   "outputs": [
    {
     "name": "stdout",
     "output_type": "stream",
     "text": [
      "fitting 165 sources \n",
      "\n",
      "using 2656, 1378 and 664 pixels\n"
     ]
    }
   ],
   "source": [
    "print('fitting '+ str(prior250.nsrc)+' sources \\n')\n",
    "print('using ' +  str(prior250.snpix)+', '+ str(prior350.snpix)+' and '+ str(prior500.snpix)+' pixels')\n"
   ]
  },
  {
   "cell_type": "markdown",
   "metadata": {},
   "source": [
    "Calculate pointing matrix"
   ]
  },
  {
   "cell_type": "code",
   "execution_count": 11,
   "metadata": {
    "collapsed": true
   },
   "outputs": [],
   "source": [
    "prior250.get_pointing_matrix()\n",
    "prior350.get_pointing_matrix()\n",
    "prior500.get_pointing_matrix()\n"
   ]
  },
  {
   "cell_type": "markdown",
   "metadata": {},
   "source": [
    "Default prior on flux is a uniform distribution, with a minimum and maximum of 0.01 and 1000.0 $\\mathrm{mJy}$ respectively for each source. running the function upper_lim _map resets the upper limit to the maximum flux value (plus a 5 sigma Background value) found in the map in which the source makes a contribution to."
   ]
  },
  {
   "cell_type": "code",
   "execution_count": 12,
   "metadata": {
    "collapsed": true
   },
   "outputs": [],
   "source": [
    "prior250.upper_lim_map()\n",
    "prior350.upper_lim_map()\n",
    "prior500.upper_lim_map()"
   ]
  },
  {
   "cell_type": "markdown",
   "metadata": {},
   "source": [
    "Now fit using the interface to pystan"
   ]
  },
  {
   "cell_type": "code",
   "execution_count": 13,
   "metadata": {},
   "outputs": [
    {
     "name": "stdout",
     "output_type": "stream",
     "text": [
      "/Users/pdh21/Work/Astro/XID_plus/notebooks/examples/XID+SPIRE.pkl found. Reusing\n"
     ]
    }
   ],
   "source": [
    "from xidplus.stan_fit import SPIRE\n",
    "fit=SPIRE.all_bands(prior250,prior350,prior500,iter=1500)\n"
   ]
  },
  {
   "cell_type": "markdown",
   "metadata": {},
   "source": [
    "Initialise the posterior class with the fit object from pystan, and save alongside the prior classes"
   ]
  },
  {
   "cell_type": "code",
   "execution_count": 14,
   "metadata": {},
   "outputs": [
    {
     "data": {
      "text/plain": [
       "Inference for Stan model: anon_model_b1d99dae621f9d8744cd35a49a4302a4.\n",
       "4 chains, each with iter=1500; warmup=750; thin=1; \n",
       "post-warmup draws per chain=750, total post-warmup draws=3000.\n",
       "\n",
       "                mean se_mean     sd   2.5%    25%    50%    75%  97.5%  n_eff   Rhat\n",
       "src_f[0,0]      0.13  5.5e-4   0.03   0.07   0.11   0.13   0.15   0.19   3000    1.0\n",
       "src_f[1,0]      0.15  6.7e-4   0.04   0.07   0.12   0.15   0.17   0.22   3000    1.0\n",
       "src_f[2,0]      0.17  1.1e-3   0.06   0.05   0.13   0.17   0.21   0.29   3000    1.0\n",
       "src_f[0,1]      0.03  4.5e-4   0.02 9.9e-4   0.01   0.02   0.04   0.09   3000    1.0\n",
       "src_f[1,1]      0.15  1.1e-3   0.06   0.03   0.11   0.15   0.19   0.26   3000    1.0\n",
       "src_f[2,1]      0.06  9.0e-4   0.05 1.9e-3   0.02   0.05   0.08   0.18   3000    1.0\n",
       "src_f[0,2]      0.12  1.2e-3   0.06   0.01   0.07   0.11   0.16   0.25   3000    1.0\n",
       "src_f[1,2]      0.11  1.3e-3   0.07 6.6e-3   0.06    0.1   0.16   0.27   3000    1.0\n",
       "src_f[2,2]      0.06  9.9e-4   0.05 1.7e-3   0.02   0.05   0.09    0.2   3000    1.0\n",
       "src_f[0,3]      0.17  1.1e-3   0.06   0.05   0.13   0.17   0.21   0.29   3000    1.0\n",
       "src_f[1,3]      0.17  1.3e-3   0.07   0.04   0.13   0.17   0.22   0.31   3000    1.0\n",
       "src_f[2,3]       0.1  1.6e-3   0.09 2.2e-3   0.03   0.08   0.15   0.32   3000    1.0\n",
       "src_f[0,4]      0.29  1.1e-3   0.06   0.17   0.25   0.29   0.33   0.42   3000    1.0\n",
       "src_f[1,4]      0.38  1.2e-3   0.07   0.25   0.33   0.38   0.42   0.51   3000    1.0\n",
       "src_f[2,4]       0.4  2.2e-3   0.12   0.17   0.32    0.4   0.48   0.63   3000    1.0\n",
       "src_f[0,5]      0.48  9.4e-4   0.05   0.38   0.45   0.49   0.52   0.58   3000    1.0\n",
       "src_f[1,5]      0.61  1.0e-3   0.06    0.5   0.58   0.61   0.65   0.72   3000    1.0\n",
       "src_f[2,5]       0.2  1.9e-3    0.1   0.02   0.12   0.19   0.27    0.4   3000    1.0\n",
       "src_f[0,6]      0.09  1.2e-3   0.06 3.0e-3   0.04   0.07   0.13   0.23   3000    1.0\n",
       "src_f[1,6]      0.07  9.3e-4   0.05 2.7e-3   0.03   0.06    0.1   0.19   3000    1.0\n",
       "src_f[2,6]      0.12  1.7e-3   0.09 4.4e-3   0.04    0.1   0.17   0.35   3000    1.0\n",
       "src_f[0,7]      0.08  7.4e-4   0.04 6.6e-3   0.05   0.07    0.1   0.16   3000    1.0\n",
       "src_f[1,7]      0.06  7.7e-4   0.04 2.9e-3   0.03   0.06   0.09   0.16   3000    1.0\n",
       "src_f[2,7]       0.1  1.4e-3   0.07 4.4e-3   0.04   0.08   0.15   0.27   3000    1.0\n",
       "src_f[0,8]      0.53  8.7e-4   0.05   0.44    0.5   0.53   0.56   0.62   3000    1.0\n",
       "src_f[1,8]       0.4  9.9e-4   0.05   0.29   0.36    0.4   0.44    0.5   3000    1.0\n",
       "src_f[2,8]      0.17  1.9e-3   0.11   0.01   0.09   0.16   0.24    0.4   3000    1.0\n",
       "src_f[0,9]      0.67  6.9e-4   0.04   0.59   0.64   0.67   0.69   0.74   3000    1.0\n",
       "src_f[1,9]      0.68  7.7e-4   0.04    0.6   0.65   0.68   0.71   0.76   3000    1.0\n",
       "src_f[2,9]      0.45  2.0e-3   0.11   0.23   0.37   0.45   0.52   0.66   3000    1.0\n",
       "src_f[0,10]     0.11  5.8e-4   0.03   0.05   0.09   0.11   0.13   0.17   3000    1.0\n",
       "src_f[1,10]      0.1  8.5e-4   0.05   0.01   0.07    0.1   0.13   0.19   3000    1.0\n",
       "src_f[2,10]     0.06  1.0e-3   0.05 1.7e-3   0.02   0.05   0.09    0.2   3000    1.0\n",
       "src_f[0,11]     0.16  1.1e-3   0.06   0.04   0.12   0.16    0.2   0.28   3000    1.0\n",
       "src_f[1,11]      0.2  1.2e-3   0.06   0.06   0.16    0.2   0.24   0.31   3000    1.0\n",
       "src_f[2,11]     0.07  1.0e-3   0.06 2.6e-3   0.03   0.06   0.11    0.2   3000    1.0\n",
       "src_f[0,12]     0.05  3.7e-4   0.02   0.01   0.04   0.05   0.07   0.09   3000    1.0\n",
       "src_f[1,12]     0.09  6.5e-4   0.04   0.02   0.07   0.09   0.12   0.16   3000    1.0\n",
       "src_f[2,12]     0.21  1.8e-3    0.1   0.03   0.14   0.21   0.28   0.42   3000    1.0\n",
       "src_f[0,13]     0.17  2.3e-3   0.13 5.2e-3   0.07   0.14   0.25   0.48   3000    1.0\n",
       "src_f[1,13]      0.2  2.5e-3   0.14 7.6e-3   0.08   0.17   0.29   0.51   3000    1.0\n",
       "src_f[2,13]     0.24  2.8e-3   0.15   0.01   0.11   0.22   0.35   0.56   3000    1.0\n",
       "src_f[0,14]     0.35  2.1e-3   0.12   0.12   0.27   0.34   0.43   0.57   3000    1.0\n",
       "src_f[1,14]     0.34  1.3e-3   0.07   0.17   0.29   0.34   0.39   0.46   3000    1.0\n",
       "src_f[2,14]     0.08  1.1e-3   0.06 3.0e-3   0.03   0.06   0.11   0.22   3000    1.0\n",
       "src_f[0,15]     0.28  1.1e-3   0.06   0.16   0.24   0.28   0.32    0.4   3000    1.0\n",
       "src_f[1,15]     0.11  1.1e-3   0.06   0.01   0.06    0.1   0.15   0.24   3000    1.0\n",
       "src_f[2,15]     0.12  1.6e-3   0.09 4.8e-3   0.05    0.1   0.17   0.33   3000    1.0\n",
       "src_f[0,16]     0.49  8.7e-4   0.05    0.4   0.46   0.49   0.52   0.58   3000    1.0\n",
       "src_f[1,16]     0.29  8.5e-4   0.05    0.2   0.26   0.29   0.32   0.38   3000    1.0\n",
       "src_f[2,16]     0.31  1.4e-3   0.08   0.15   0.26   0.31   0.36   0.45   3000    1.0\n",
       "src_f[0,17]     0.02  3.5e-4   0.02 4.3e-4 6.0e-3   0.02   0.03   0.07   3000    1.0\n",
       "src_f[1,17]     0.04  5.5e-4   0.03 1.3e-3   0.01   0.03   0.05   0.11   3000    1.0\n",
       "src_f[2,17]     0.08  1.1e-3   0.06 4.0e-3   0.03   0.07   0.12   0.22   3000    1.0\n",
       "src_f[0,18]     0.31  1.1e-3   0.06    0.2   0.27   0.31   0.35   0.43   3000    1.0\n",
       "src_f[1,18]     0.35  1.3e-3   0.07   0.21   0.31   0.36    0.4   0.49   3000    1.0\n",
       "src_f[2,18]     0.19  2.1e-3   0.12   0.01    0.1   0.17   0.26   0.44   3000    1.0\n",
       "src_f[0,19]     0.09  9.8e-4   0.05 4.7e-3   0.05   0.09   0.12    0.2   3000    1.0\n",
       "src_f[1,19]     0.21  1.2e-3   0.06   0.08   0.17   0.21   0.25   0.34   3000    1.0\n",
       "src_f[2,19]     0.26  2.3e-3   0.12   0.04   0.17   0.27   0.35   0.51   3000    1.0\n",
       "src_f[0,20]     0.09  7.6e-4   0.04   0.01   0.06   0.09   0.11   0.17   3000    1.0\n",
       "src_f[1,20]     0.03  5.1e-4   0.03 9.4e-4   0.01   0.02   0.05    0.1   3000    1.0\n",
       "src_f[2,20]     0.12  1.6e-3   0.09 7.0e-3   0.06   0.11   0.18   0.32   3000    1.0\n",
       "src_f[0,21]     0.12  7.7e-4   0.04   0.04   0.09   0.12   0.15   0.21   3000    1.0\n",
       "src_f[1,21]     0.05  6.3e-4   0.03 3.1e-3   0.03   0.05   0.08   0.13   3000    1.0\n",
       "src_f[2,21]     0.11  1.1e-3   0.06 7.4e-3   0.06    0.1   0.15   0.24   3000    1.0\n",
       "src_f[0,22]     0.38  6.3e-4   0.03   0.31   0.36   0.38    0.4   0.45   3000    1.0\n",
       "src_f[1,22]     0.47  6.6e-4   0.04    0.4   0.45   0.47    0.5   0.54   3000    1.0\n",
       "src_f[2,22]     0.42  1.4e-3   0.08   0.26   0.37   0.42   0.47   0.57   3000    1.0\n",
       "src_f[0,23]     0.37  8.5e-4   0.05   0.27   0.34   0.37    0.4   0.45   3000    1.0\n",
       "src_f[1,23]     0.19  9.4e-4   0.05   0.08   0.15   0.19   0.22   0.28   3000    1.0\n",
       "src_f[2,23]     0.18  1.8e-3    0.1   0.01    0.1   0.17   0.25   0.37   3000    1.0\n",
       "src_f[0,24]     0.05  4.6e-4   0.03 7.7e-3   0.04   0.05   0.07   0.11   3000    1.0\n",
       "src_f[1,24]     0.08  7.9e-4   0.04 6.6e-3   0.04   0.07    0.1   0.17   3000    1.0\n",
       "src_f[2,24]     0.08  1.3e-3   0.07 2.6e-3   0.03   0.06   0.12   0.28   3000    1.0\n",
       "src_f[0,25]     0.17  2.1e-3   0.12 9.0e-3   0.08   0.16   0.25   0.42   3000    1.0\n",
       "src_f[1,25]     0.17  2.2e-3   0.12 7.9e-3   0.07   0.15   0.25   0.44   3000    1.0\n",
       "src_f[2,25]     0.05  8.9e-4   0.05 1.5e-3   0.02   0.04   0.08   0.18   3000    1.0\n",
       "src_f[0,26]     0.09  1.0e-3   0.05 7.2e-3   0.05   0.09   0.13   0.21   3000    1.0\n",
       "src_f[1,26]     0.06  8.0e-4   0.04 2.4e-3   0.03   0.05   0.09   0.16   3000    1.0\n",
       "src_f[2,26]     0.06  1.0e-3   0.06 1.6e-3   0.02   0.05   0.09   0.21   3000    1.0\n",
       "src_f[0,27]      0.2  1.9e-3    0.1   0.02   0.13    0.2   0.28    0.4   3000    1.0\n",
       "src_f[1,27]     0.12  1.9e-3   0.09 5.2e-3   0.05    0.1   0.18   0.35   2410    1.0\n",
       "src_f[2,27]     0.13  1.8e-3    0.1 3.4e-3   0.05    0.1   0.19   0.35   3000    1.0\n",
       "src_f[0,28]      0.1  9.3e-4   0.05   0.01   0.06    0.1   0.13    0.2   3000    1.0\n",
       "src_f[1,28]     0.14  9.4e-4   0.05   0.04   0.11   0.14   0.18   0.24   3000    1.0\n",
       "src_f[2,28]     0.09  1.2e-3   0.07 2.9e-3   0.03   0.08   0.13   0.25   3000    1.0\n",
       "src_f[0,29]     0.05  7.4e-4   0.04 1.4e-3   0.02   0.04   0.07   0.15   3000    1.0\n",
       "src_f[1,29]     0.08  9.2e-4   0.05 4.6e-3   0.04   0.07   0.11   0.19   3000    1.0\n",
       "src_f[2,29]     0.08  1.1e-3   0.06 3.1e-3   0.03   0.07   0.11   0.22   3000    1.0\n",
       "src_f[0,30]     0.04  5.7e-4   0.03 1.4e-3   0.01   0.03   0.06   0.12   3000    1.0\n",
       "src_f[1,30]     0.04  6.3e-4   0.03 1.6e-3   0.01   0.03   0.06   0.13   3000    1.0\n",
       "src_f[2,30]     0.11  1.7e-3   0.09 3.9e-3   0.04   0.09   0.16   0.34   3000    1.0\n",
       "src_f[0,31]     0.14  1.2e-3   0.07   0.02   0.09   0.14   0.19   0.28   3000    1.0\n",
       "src_f[1,31]     0.12  1.3e-3   0.07 8.2e-3   0.07   0.12   0.17   0.27   3000    1.0\n",
       "src_f[2,31]     0.17  2.3e-3   0.12 5.5e-3   0.07   0.14   0.25   0.46   3000    1.0\n",
       "src_f[0,32]     0.04  5.3e-4   0.03 1.5e-3   0.02   0.04   0.06   0.11   3000    1.0\n",
       "src_f[1,32]     0.04  5.3e-4   0.03 1.2e-3   0.01   0.03   0.05   0.11   3000    1.0\n",
       "src_f[2,32]     0.08  1.1e-3   0.06 3.6e-3   0.03   0.07   0.12   0.23   3000    1.0\n",
       "src_f[0,33]     0.38  1.1e-3   0.06   0.26   0.34   0.38   0.42    0.5   3000    1.0\n",
       "src_f[1,33]     0.43  1.1e-3   0.06   0.31   0.39   0.43   0.47   0.55   3000    1.0\n",
       "src_f[2,33]     0.25  2.5e-3   0.13   0.02   0.15   0.25   0.34   0.51   3000    1.0\n",
       "src_f[0,34]     0.18  5.6e-4   0.03   0.12   0.16   0.18    0.2   0.24   3000    1.0\n",
       "src_f[1,34]     0.24  6.7e-4   0.04   0.16   0.21   0.24   0.26   0.31   3000    1.0\n",
       "src_f[2,34]     0.12  1.3e-3   0.06 9.8e-3   0.07   0.12   0.16   0.25   2357    1.0\n",
       "src_f[0,35]     0.16  1.7e-3   0.09   0.01   0.08   0.15   0.22   0.36   3000    1.0\n",
       "src_f[1,35]     0.06  9.7e-4   0.05 1.3e-3   0.02   0.04   0.08    0.2   3000    1.0\n",
       "src_f[2,35]     0.11  1.7e-3   0.09 2.9e-3   0.04   0.08   0.15   0.34   3000    1.0\n",
       "src_f[0,36]     0.08  1.0e-3   0.06 3.5e-3   0.03   0.07   0.11   0.22   3000    1.0\n",
       "src_f[1,36]     0.15  1.1e-3   0.06   0.04   0.11   0.15    0.2   0.28   3000    1.0\n",
       "src_f[2,36]     0.16  1.9e-3    0.1 8.8e-3   0.08   0.15   0.23   0.39   3000    1.0\n",
       "src_f[0,37]     0.14  1.6e-3   0.09 5.8e-3   0.06   0.13    0.2   0.33   3000    1.0\n",
       "src_f[1,37]     0.26  1.9e-3    0.1   0.05   0.19   0.27   0.33   0.45   3000    1.0\n",
       "src_f[2,37]     0.19  2.2e-3   0.12 8.6e-3   0.09   0.17   0.28   0.45   3000    1.0\n",
       "src_f[0,38]     0.06  7.1e-4   0.04 3.2e-3   0.03   0.05   0.08   0.15   3000    1.0\n",
       "src_f[1,38]     0.08  9.3e-4   0.05 5.0e-3   0.04   0.07   0.11   0.19   3000    1.0\n",
       "src_f[2,38]     0.06  1.0e-3   0.06 1.7e-3   0.02   0.05   0.09   0.21   3000    1.0\n",
       "src_f[0,39]     0.11  8.8e-4   0.05   0.02   0.08   0.11   0.14   0.21   3000    1.0\n",
       "src_f[1,39]     0.08  9.7e-4   0.05 3.1e-3   0.04   0.07   0.11   0.19   3000    1.0\n",
       "src_f[2,39]     0.15  1.6e-3   0.09 7.9e-3   0.08   0.14    0.2   0.32   3000    1.0\n",
       "src_f[0,40]     0.06  7.5e-4   0.04 2.3e-3   0.02   0.05   0.08   0.16   3000    1.0\n",
       "src_f[1,40]     0.04  6.2e-4   0.03 1.6e-3   0.02   0.03   0.06   0.12   3000    1.0\n",
       "src_f[2,40]     0.05  8.5e-4   0.05 1.6e-3   0.02   0.04   0.08   0.18   3000    1.0\n",
       "src_f[0,41]     0.02  2.9e-4   0.02 7.8e-4 7.6e-3   0.02   0.03   0.06   3000    1.0\n",
       "src_f[1,41]     0.02  3.3e-4   0.02 7.1e-4 7.9e-3   0.02   0.03   0.07   3000    1.0\n",
       "src_f[2,41]     0.17  1.4e-3   0.08   0.03   0.12   0.17   0.23   0.32   3000    1.0\n",
       "src_f[0,42]      0.1  1.1e-3   0.06 5.6e-3   0.05   0.09   0.14   0.23   3000    1.0\n",
       "src_f[1,42]     0.05  7.5e-4   0.04 1.7e-3   0.02   0.04   0.07   0.15   3000    1.0\n",
       "src_f[2,42]     0.06  9.5e-4   0.05 2.0e-3   0.02   0.05   0.09   0.19   3000    1.0\n",
       "src_f[0,43]     0.76  6.1e-4   0.03    0.7   0.74   0.76   0.79   0.83   3000    1.0\n",
       "src_f[1,43]     0.68  8.1e-4   0.04   0.59   0.65   0.68   0.71   0.77   3000    1.0\n",
       "src_f[2,43]     0.27  1.7e-3   0.09   0.09   0.21   0.28   0.34   0.45   3000    1.0\n",
       "src_f[0,44]     0.09  7.8e-4   0.04   0.01   0.06   0.09   0.12   0.18   3000    1.0\n",
       "src_f[1,44]     0.15  8.1e-4   0.04   0.06   0.12   0.15   0.18   0.24   3000    1.0\n",
       "src_f[2,44]     0.12  1.1e-3   0.06   0.01   0.07   0.11   0.16   0.25   3000    1.0\n",
       "src_f[0,45]      0.3  2.1e-3   0.12   0.07   0.22    0.3   0.38   0.53   3000    1.0\n",
       "src_f[1,45]     0.06  1.1e-3   0.06 1.5e-3   0.02   0.05   0.09   0.22   3000    1.0\n",
       "src_f[2,45]     0.07  1.1e-3   0.06 2.3e-3   0.03   0.06   0.11   0.22   3000    1.0\n",
       "src_f[0,46]     0.08  6.3e-4   0.03   0.02   0.06   0.08    0.1   0.15   3000    1.0\n",
       "src_f[1,46]     0.17  7.0e-4   0.04   0.09   0.14   0.17   0.19   0.24   3000    1.0\n",
       "src_f[2,46]     0.11  1.2e-3   0.06 7.4e-3   0.06    0.1   0.15   0.24   3000    1.0\n",
       "src_f[0,47]     0.02  3.2e-4   0.02 6.6e-4 6.4e-3   0.02   0.03   0.07   3000    1.0\n",
       "src_f[1,47]     0.13  9.6e-4   0.05   0.03   0.09   0.13   0.16   0.23   3000    1.0\n",
       "src_f[2,47]     0.09  1.1e-3   0.06 3.6e-3   0.04   0.07   0.12   0.23   3000    1.0\n",
       "src_f[0,48]     0.08  9.6e-4   0.05 4.6e-3   0.04   0.08   0.12    0.2   3000    1.0\n",
       "src_f[1,48]     0.12  1.1e-3   0.06   0.01   0.08   0.12   0.16   0.24   3000    1.0\n",
       "src_f[2,48]     0.18  2.3e-3   0.13 9.6e-3   0.08   0.16   0.27   0.48   3000    1.0\n",
       "src_f[0,49]     0.09  9.1e-4   0.05 6.7e-3   0.05   0.08   0.12   0.19   3000    1.0\n",
       "src_f[1,49]     0.04  5.5e-4   0.03 1.6e-3   0.02   0.04   0.06   0.11   3000    1.0\n",
       "src_f[2,49]     0.07  1.0e-3   0.06 2.1e-3   0.02   0.05    0.1   0.21   3000    1.0\n",
       "src_f[0,50]     0.16  2.0e-3   0.11 7.1e-3   0.07   0.15   0.24    0.4   3000    1.0\n",
       "src_f[1,50]      0.1  1.5e-3   0.08 3.0e-3   0.03   0.07   0.14    0.3   3000    1.0\n",
       "src_f[2,50]     0.14  1.9e-3   0.11 4.6e-3   0.05   0.11   0.19   0.39   3000    1.0\n",
       "src_f[0,51]     0.26  9.3e-4   0.05   0.17   0.23   0.26   0.29   0.36   3000    1.0\n",
       "src_f[1,51]     0.16  1.0e-3   0.06   0.04   0.12   0.16    0.2   0.27   3000    1.0\n",
       "src_f[2,51]     0.15  1.8e-3    0.1 8.8e-3   0.08   0.15   0.22   0.36   3000    1.0\n",
       "src_f[0,52]     0.71  1.1e-3   0.06   0.59   0.67   0.71   0.74   0.82   3000    1.0\n",
       "src_f[1,52]     0.24  9.7e-4   0.05   0.14   0.21   0.25   0.28   0.34   3000    1.0\n",
       "src_f[2,52]     0.17  1.6e-3   0.09   0.01    0.1   0.16   0.23   0.35   3000    1.0\n",
       "src_f[0,53]     0.04  5.2e-4   0.03 1.1e-3   0.01   0.03   0.05   0.11   3000    1.0\n",
       "src_f[1,53]     0.04  5.7e-4   0.0310.0e-4   0.01   0.03   0.06   0.12   3000    1.0\n",
       "src_f[2,53]     0.05  7.8e-4   0.04 1.4e-3   0.02   0.04   0.07   0.16   3000    1.0\n",
       "src_f[0,54]     0.09  1.2e-3   0.07 4.1e-3   0.04   0.08   0.13   0.25   3000    1.0\n",
       "src_f[1,54]     0.33  2.2e-3   0.12   0.07   0.25   0.34   0.41   0.54   3000    1.0\n",
       "src_f[2,54]     0.14  1.9e-3    0.1 4.6e-3   0.05   0.12    0.2   0.37   3000    1.0\n",
       "src_f[0,55]     0.53  1.1e-3   0.06   0.41   0.49   0.53   0.57   0.64   3000    1.0\n",
       "src_f[1,55]     0.32  7.2e-4   0.04   0.24   0.29   0.32   0.35    0.4   3000    1.0\n",
       "src_f[2,55]     0.17  2.0e-3   0.11 9.9e-3   0.08   0.16   0.25   0.41   3000    1.0\n",
       "src_f[0,56]     0.22  2.7e-3   0.15 8.2e-3    0.1    0.2   0.33   0.53   3000    1.0\n",
       "src_f[1,56]     0.19  2.3e-3   0.13   0.01   0.09   0.17   0.28   0.45   3000    1.0\n",
       "src_f[2,56]     0.13  1.9e-3    0.1 4.3e-3   0.04   0.11   0.19   0.37   3000    1.0\n",
       "src_f[0,57]     0.07  7.2e-4   0.04 3.6e-3   0.04   0.07    0.1   0.15   3000    1.0\n",
       "src_f[1,57]     0.04  5.9e-4   0.03 1.5e-3   0.02   0.03   0.06   0.12   3000    1.0\n",
       "src_f[2,57]     0.07  9.7e-4   0.05 2.7e-3   0.02   0.05    0.1    0.2   3000    1.0\n",
       "src_f[0,58]     0.12  8.9e-4   0.05   0.03   0.09   0.13   0.16   0.22   3000    1.0\n",
       "src_f[1,58]     0.06  8.2e-4   0.04 1.9e-3   0.02   0.05   0.08   0.17   3000    1.0\n",
       "src_f[2,58]     0.14  1.8e-3    0.1 7.6e-3   0.07   0.13   0.21   0.37   3000    1.0\n",
       "src_f[0,59]     0.05  5.9e-4   0.03 3.5e-3   0.03   0.05   0.07   0.12   3000    1.0\n",
       "src_f[1,59]     0.03  4.0e-4   0.02 6.4e-4 8.6e-3   0.02   0.04   0.08   3000    1.0\n",
       "src_f[2,59]     0.06  8.5e-4   0.05 2.3e-3   0.02   0.05   0.08   0.17   3000    1.0\n",
       "src_f[0,60]     0.16  8.2e-4   0.04   0.07   0.12   0.16   0.19   0.24   3000    1.0\n",
       "src_f[1,60]     0.18  1.1e-3   0.06   0.05   0.13   0.18   0.22    0.3   3000    1.0\n",
       "src_f[2,60]     0.07  1.1e-3   0.06 2.1e-3   0.02   0.05    0.1   0.22   3000    1.0\n",
       "src_f[0,61]      0.1  7.9e-4   0.04   0.01   0.07    0.1   0.12   0.18   3000    1.0\n",
       "src_f[1,61]     0.04  4.9e-4   0.03 1.3e-3   0.01   0.03   0.05    0.1   3000    1.0\n",
       "src_f[2,61]     0.08  1.0e-3   0.05 4.4e-3   0.04   0.07   0.12    0.2   3000    1.0\n",
       "src_f[0,62]     0.18  6.0e-4   0.03   0.11   0.15   0.18    0.2   0.24   3000    1.0\n",
       "src_f[1,62]     0.18  7.8e-4   0.04   0.09   0.15   0.18   0.21   0.26   3000    1.0\n",
       "src_f[2,62]     0.19  1.7e-3   0.09   0.02   0.12   0.18   0.25   0.38   3000    1.0\n",
       "src_f[0,63]     0.11  8.1e-4   0.04   0.03   0.08   0.11   0.14    0.2   3000    1.0\n",
       "src_f[1,63]      0.2  8.0e-4   0.04   0.11   0.17    0.2   0.23   0.28   3000    1.0\n",
       "src_f[2,63]     0.17  1.7e-3   0.09   0.02    0.1   0.17   0.24   0.35   3000    1.0\n",
       "src_f[0,64]     0.05  7.0e-4   0.04 1.5e-3   0.02   0.04   0.06   0.15   3000    1.0\n",
       "src_f[1,64]     0.11  1.2e-3   0.07 6.5e-3   0.06    0.1   0.16   0.25   3000    1.0\n",
       "src_f[2,64]     0.09  1.4e-3   0.07 3.1e-3   0.03   0.07   0.13   0.27   3000    1.0\n",
       "src_f[0,65]     0.04  4.3e-4   0.02 1.7e-3   0.02   0.03   0.05   0.09   3000    1.0\n",
       "src_f[1,65]     0.08  6.8e-4   0.04   0.01   0.06   0.08   0.11   0.16   3000    1.0\n",
       "src_f[2,65]     0.17  1.4e-3   0.07   0.03   0.11   0.17   0.22   0.32   3000    1.0\n",
       "src_f[0,66]     0.04  5.9e-4   0.03 2.0e-3   0.02   0.04   0.06   0.12   3000    1.0\n",
       "src_f[1,66]     0.04  5.6e-4   0.03 1.2e-3   0.01   0.03   0.05   0.11   3000    1.0\n",
       "src_f[2,66]     0.08  1.0e-3   0.06 3.5e-3   0.04   0.07   0.12   0.22   3000    1.0\n",
       "src_f[0,67]     0.11  8.7e-4   0.05   0.02   0.08   0.11   0.15   0.21   3000    1.0\n",
       "src_f[1,67]     0.07  8.5e-4   0.05 2.7e-3   0.03   0.06    0.1   0.17   3000    1.0\n",
       "src_f[2,67]     0.07  1.1e-3   0.06 2.7e-3   0.03   0.06   0.11   0.22   3000    1.0\n",
       "src_f[0,68]     0.15  1.1e-3   0.06   0.03   0.11   0.15   0.19   0.27   3000    1.0\n",
       "src_f[1,68]     0.08  9.3e-4   0.05 6.4e-3   0.04   0.08   0.12   0.19   3000    1.0\n",
       "src_f[2,68]     0.07  1.0e-3   0.06 2.0e-3   0.02   0.05    0.1   0.21   3000    1.0\n",
       "src_f[0,69]     0.02  3.3e-4   0.02 7.0e-4 7.8e-3   0.02   0.03   0.07   3000    1.0\n",
       "src_f[1,69]     0.04  6.3e-4   0.03 1.3e-3   0.02   0.03   0.06   0.13   3000    1.0\n",
       "src_f[2,69]     0.09  1.4e-3   0.08 2.8e-3   0.03   0.07   0.13   0.29   3000    1.0\n",
       "src_f[0,70]     0.01  1.6e-4 8.7e-3 3.1e-4 3.7e-3 8.1e-3   0.02   0.03   3000    1.0\n",
       "src_f[1,70]     0.08  5.7e-4   0.03   0.02   0.06   0.08    0.1   0.14   3000    1.0\n",
       "src_f[2,70]     0.16  1.6e-3   0.09   0.01   0.09   0.15   0.22   0.35   3000    1.0\n",
       "src_f[0,71]     0.08  9.0e-4   0.05 5.0e-3   0.05   0.08   0.12   0.19   3000    1.0\n",
       "src_f[1,71]     0.09  8.9e-4   0.05 6.9e-3   0.05   0.09   0.12   0.19   3000    1.0\n",
       "src_f[2,71]     0.05  8.4e-4   0.05 1.8e-3   0.02   0.04   0.08   0.17   3000    1.0\n",
       "src_f[0,72]     0.17  1.1e-3   0.06   0.05   0.13   0.17   0.21    0.3   3000    1.0\n",
       "src_f[1,72]     0.38  1.3e-3   0.07   0.22   0.33   0.38   0.43   0.51   3000    1.0\n",
       "src_f[2,72]     0.42  2.3e-3   0.13   0.16   0.33   0.42    0.5   0.66   3000    1.0\n",
       "src_f[0,73]      0.2  2.4e-3   0.13 8.2e-3   0.08   0.18   0.28    0.5   3000    1.0\n",
       "src_f[1,73]     0.15  2.2e-3   0.12 5.2e-3   0.05   0.12   0.23   0.43   3000    1.0\n",
       "src_f[2,73]     0.13  1.9e-3    0.1 4.7e-3   0.05   0.11    0.2   0.37   3000    1.0\n",
       "src_f[0,74]     0.29  1.5e-3   0.08   0.12   0.23   0.29   0.35   0.45   3000    1.0\n",
       "src_f[1,74]     0.23  2.0e-3   0.11   0.03   0.14   0.22   0.31   0.44   3000    1.0\n",
       "src_f[2,74]     0.08  1.2e-3   0.06 3.4e-3   0.03   0.06   0.11   0.24   3000    1.0\n",
       "src_f[0,75]     0.22  2.7e-3   0.15   0.01   0.11    0.2   0.33   0.53   3000    1.0\n",
       "src_f[1,75]     0.19  2.4e-3   0.13 6.7e-3   0.08   0.17   0.28   0.47   3000    1.0\n",
       "src_f[2,75]     0.13  1.8e-3    0.1 4.3e-3   0.05   0.11   0.19   0.37   3000    1.0\n",
       "src_f[0,76]     0.12  9.3e-4   0.05   0.02   0.09   0.12   0.15   0.22   3000    1.0\n",
       "src_f[1,76]     0.22  1.1e-3   0.06    0.1   0.18   0.22   0.26   0.33   3000    1.0\n",
       "src_f[2,76]      0.1  1.3e-3   0.07 5.2e-3   0.04   0.09   0.15   0.27   3000    1.0\n",
       "src_f[0,77]     0.45  1.8e-3    0.1   0.26   0.38   0.45   0.51   0.64   3000    1.0\n",
       "src_f[1,77]     0.64  1.6e-3   0.09   0.46   0.58   0.64    0.7   0.81   3000    1.0\n",
       "src_f[2,77]     0.61  3.6e-3    0.2   0.18   0.48   0.62   0.75   0.94   3000    1.0\n",
       "src_f[0,78]     0.03  4.4e-4   0.02 7.1e-4 9.5e-3   0.02   0.04   0.09   3000    1.0\n",
       "src_f[1,78]     0.05  7.1e-4   0.04 2.6e-3   0.02   0.05   0.08   0.14   3000    1.0\n",
       "src_f[2,78]     0.03  4.9e-4   0.03 8.2e-4 9.6e-3   0.02   0.04    0.1   3000    1.0\n",
       "src_f[0,79]     0.04  5.7e-4   0.03 1.5e-3   0.02   0.03   0.06   0.12   3000    1.0\n",
       "src_f[1,79]     0.04  5.4e-4   0.03 1.2e-3   0.01   0.03   0.05   0.11   3000    1.0\n",
       "src_f[2,79]     0.05  8.3e-4   0.05 1.7e-3   0.02   0.04   0.08   0.17   3000    1.0\n",
       "src_f[0,80]     0.05  6.8e-4   0.04 1.9e-3   0.02   0.04   0.07   0.14   3000    1.0\n",
       "src_f[1,80]     0.04  6.2e-4   0.03 1.1e-3   0.01   0.03   0.05   0.13   3000    1.0\n",
       "src_f[2,80]     0.06  9.1e-4   0.05 1.8e-3   0.02   0.04   0.08   0.18   3000    1.0\n",
       "src_f[0,81]     0.24  1.2e-3   0.07   0.11   0.19   0.24   0.28   0.37   3000    1.0\n",
       "src_f[1,81]     0.29 10.0e-4   0.05   0.18   0.25   0.29   0.32   0.39   3000    1.0\n",
       "src_f[2,81]     0.43  1.7e-3   0.09   0.24   0.37   0.43   0.49    0.6   3000    1.0\n",
       "src_f[0,82]     0.04  5.7e-4   0.03 1.3e-3   0.01   0.03   0.06   0.11   3000    1.0\n",
       "src_f[1,82]     0.03  4.5e-4   0.02 7.6e-4 9.7e-3   0.02   0.04   0.09   3000    1.0\n",
       "src_f[2,82]     0.07  1.1e-3   0.06 2.2e-3   0.03   0.06   0.11   0.21   3000    1.0\n",
       "src_f[0,83]     0.02  3.1e-4   0.02 1.1e-3 9.6e-3   0.02   0.03   0.06   3000    1.0\n",
       "src_f[1,83]     0.04  5.1e-4   0.03 1.2e-3   0.01   0.03   0.05    0.1   3000    1.0\n",
       "src_f[2,83]     0.17  1.9e-3    0.1 9.6e-3   0.08   0.16   0.24   0.39   3000    1.0\n",
       "src_f[0,84]     0.07  8.7e-4   0.05 4.3e-3   0.04   0.06    0.1   0.18   3000    1.0\n",
       "src_f[1,84]     0.09  1.2e-3   0.06 3.4e-3   0.04   0.08   0.13   0.23   3000    1.0\n",
       "src_f[2,84]     0.18  2.0e-3   0.11   0.01   0.09   0.17   0.25   0.42   3000    1.0\n",
       "src_f[0,85]     0.05  6.9e-4   0.04 1.8e-3   0.02   0.04   0.07   0.14   3000    1.0\n",
       "src_f[1,85]     0.04  5.5e-4   0.03 1.4e-3   0.01   0.03   0.05   0.11   3000    1.0\n",
       "src_f[2,85]     0.09  1.4e-3   0.07 2.8e-3   0.03   0.07   0.13   0.28   3000    1.0\n",
       "src_f[0,86]     0.03  5.1e-4   0.03 9.6e-4   0.01   0.02   0.04    0.1   3000    1.0\n",
       "src_f[1,86]     0.03  5.0e-4   0.03 1.1e-3   0.01   0.02   0.04    0.1   3000    1.0\n",
       "src_f[2,86]     0.07  1.0e-3   0.06 3.7e-3   0.03   0.06    0.1   0.21   3000    1.0\n",
       "src_f[0,87]     0.03  5.3e-4   0.03 1.1e-3   0.01   0.02   0.05   0.11   3000    1.0\n",
       "src_f[1,87]      0.1  1.1e-3   0.06 8.3e-3   0.06    0.1   0.14   0.24   3000    1.0\n",
       "src_f[2,87]     0.08  2.0e-3   0.08 2.6e-3   0.03   0.06   0.11   0.27   1369    1.0\n",
       "src_f[0,88]     0.36  6.8e-4   0.04   0.29   0.34   0.36   0.39   0.44   3000    1.0\n",
       "src_f[1,88]     0.38  7.1e-4   0.04    0.3   0.35   0.38   0.41   0.46   3000    1.0\n",
       "src_f[2,88]     0.25  1.7e-3   0.09   0.07   0.19   0.25   0.32   0.42   3000    1.0\n",
       "src_f[0,89]     0.05  3.9e-4   0.02   0.01   0.04   0.05   0.07    0.1   3000    1.0\n",
       "src_f[1,89]     0.06  6.4e-4   0.03 3.7e-3   0.03   0.05   0.08   0.14   3000    1.0\n",
       "src_f[2,89]     0.19  2.4e-3   0.13 8.4e-3   0.08   0.17   0.28   0.49   3000    1.0\n",
       "src_f[0,90]     0.48  2.5e-3   0.14   0.16    0.4    0.5   0.58   0.69   3000    1.0\n",
       "src_f[1,90]     0.36  2.8e-3   0.15   0.04   0.25   0.38   0.48   0.61   3000    1.0\n",
       "src_f[2,90]     0.26  2.9e-3   0.16   0.01   0.13   0.25   0.38   0.59   3000    1.0\n",
       "src_f[0,91]      0.1  9.6e-4   0.05   0.01   0.06    0.1   0.13   0.21   3000    1.0\n",
       "src_f[1,91]     0.02  3.5e-4   0.02 5.7e-4 6.1e-3   0.02   0.03   0.07   3000    1.0\n",
       "src_f[2,91]     0.04  6.5e-4   0.04 1.1e-3   0.01   0.03   0.06   0.13   3000    1.0\n",
       "src_f[0,92]     0.04  6.1e-4   0.03 1.5e-3   0.02   0.04   0.07   0.12   3000    1.0\n",
       "src_f[1,92]     0.04  5.6e-4   0.03 1.9e-3   0.02   0.04   0.06   0.11   3000    1.0\n",
       "src_f[2,92]     0.07  1.1e-3   0.06 2.6e-3   0.03   0.06   0.11   0.22   3000    1.0\n",
       "src_f[0,93]     0.06  6.6e-4   0.04 5.3e-3   0.03   0.06   0.09   0.14   3000    1.0\n",
       "src_f[1,93]     0.05  5.5e-4   0.03 4.5e-3   0.03   0.05   0.07   0.11   3000    1.0\n",
       "src_f[2,93]     0.25  1.2e-3   0.07   0.11    0.2   0.25   0.29   0.37   3000    1.0\n",
       "src_f[0,94]     0.06  7.3e-4   0.04 2.5e-3   0.02   0.05   0.08   0.14   3000    1.0\n",
       "src_f[1,94]      0.2  1.3e-3   0.07   0.05   0.15    0.2   0.25   0.33   3000    1.0\n",
       "src_f[2,94]     0.15  2.1e-3   0.11 7.7e-3   0.06   0.13   0.22   0.41   3000    1.0\n",
       "src_f[0,95]     0.18  2.2e-3   0.12 6.7e-3   0.08   0.17   0.27   0.44   3000    1.0\n",
       "src_f[1,95]     0.17  2.3e-3   0.13 5.4e-3   0.07   0.15   0.26   0.45   3000    1.0\n",
       "src_f[2,95]     0.06  9.2e-4   0.05 1.6e-3   0.02   0.04   0.08   0.18   3000    1.0\n",
       "src_f[0,96]     0.04  5.6e-4   0.03 1.5e-3   0.02   0.03   0.06   0.11   3000    1.0\n",
       "src_f[1,96]     0.03  4.6e-4   0.03 1.2e-3   0.01   0.02   0.04   0.09   3000    1.0\n",
       "src_f[2,96]     0.09  1.2e-3   0.06 4.8e-3   0.04   0.08   0.13   0.24   3000    1.0\n",
       "src_f[0,97]      0.2  1.5e-3   0.08   0.05   0.15    0.2   0.26   0.36   3000    1.0\n",
       "src_f[1,97]      0.3  1.9e-3    0.1   0.09   0.23    0.3   0.37   0.49   3000    1.0\n",
       "src_f[2,97]     0.17  2.4e-3   0.13 7.9e-3   0.06   0.14   0.25   0.48   3000    1.0\n",
       "src_f[0,98]     0.08  7.8e-4   0.04 9.1e-3   0.05   0.08   0.11   0.17   3000    1.0\n",
       "src_f[1,98]     0.06  8.2e-4   0.05 3.1e-3   0.03   0.05   0.09   0.16   3000    1.0\n",
       "src_f[2,98]     0.04  5.7e-4   0.03 1.1e-3   0.01   0.03   0.05   0.12   3000    1.0\n",
       "src_f[0,99]     0.92  3.7e-4   0.02   0.88    0.9   0.92   0.93   0.96   3000    1.0\n",
       "src_f[1,99]     0.77  6.8e-4   0.04   0.69   0.74   0.77   0.79   0.84   3000    1.0\n",
       "src_f[2,99]     0.37  2.8e-3   0.15   0.07   0.26   0.38   0.48   0.65   3000    1.0\n",
       "src_f[0,100]    0.19  9.8e-4   0.05   0.08   0.15   0.19   0.22   0.29   3000    1.0\n",
       "src_f[1,100]    0.14  1.0e-3   0.05   0.03    0.1   0.14   0.18   0.25   3000    1.0\n",
       "src_f[2,100]    0.06  9.1e-4   0.05 2.2e-3   0.02   0.05   0.09   0.19   3000    1.0\n",
       "src_f[0,101]    0.11  6.7e-4   0.04   0.04   0.08   0.11   0.13   0.18   3000    1.0\n",
       "src_f[1,101]    0.17  7.5e-4   0.04   0.09   0.14   0.17   0.19   0.25   3000    1.0\n",
       "src_f[2,101]     0.2  2.0e-3    0.1   0.03   0.13    0.2   0.27    0.4   2349    1.0\n",
       "src_f[0,102]    0.05  6.5e-4   0.04 3.0e-3   0.03   0.05   0.08   0.14   3000    1.0\n",
       "src_f[1,102]     0.1  1.2e-3   0.06 5.7e-3   0.05   0.09   0.14   0.23   2480    1.0\n",
       "src_f[2,102]    0.11  1.4e-3   0.08 4.0e-3   0.05   0.09   0.16   0.29   3000    1.0\n",
       "src_f[0,103]    0.08  9.2e-4   0.05 4.9e-3   0.04   0.08   0.11   0.19   3000    1.0\n",
       "src_f[1,103]    0.02  3.7e-4   0.02 6.8e-4 7.1e-3   0.02   0.03   0.07   3000    1.0\n",
       "src_f[2,103]    0.11  1.4e-3   0.08 5.6e-3   0.05    0.1   0.16   0.29   3000    1.0\n",
       "src_f[0,104]    0.16  8.9e-4   0.05   0.06   0.12   0.16   0.19   0.25   3000    1.0\n",
       "src_f[1,104]    0.18  1.0e-3   0.06   0.07   0.14   0.18   0.21   0.29   3000    1.0\n",
       "src_f[2,104]    0.29  2.2e-3   0.12   0.06   0.21   0.29   0.37   0.53   3000    1.0\n",
       "src_f[0,105]    0.29  7.4e-4   0.04    0.2   0.26   0.29   0.31   0.37   3000    1.0\n",
       "src_f[1,105]    0.36  1.0e-3   0.06   0.25   0.32   0.36    0.4   0.47   3000    1.0\n",
       "src_f[2,105]    0.15  1.6e-3   0.09   0.01   0.08   0.14   0.21   0.33   3000    1.0\n",
       "src_f[0,106]    0.07  8.6e-4   0.05 3.3e-3   0.03   0.06   0.09   0.18   3000    1.0\n",
       "src_f[1,106]    0.03  4.3e-4   0.02 8.5e-4 9.5e-3   0.02   0.04   0.09   3000    1.0\n",
       "src_f[2,106]    0.06  8.9e-4   0.05 2.2e-3   0.02   0.05   0.09   0.18   3000    1.0\n",
       "src_f[0,107]    0.29  1.1e-3   0.06   0.17   0.26   0.29   0.34   0.41   3000    1.0\n",
       "src_f[1,107]    0.05  6.5e-4   0.04 2.0e-3   0.02   0.04   0.07   0.14   3000    1.0\n",
       "src_f[2,107]    0.15  1.8e-3    0.1 7.1e-3   0.06   0.13   0.21   0.37   3000    1.0\n",
       "src_f[0,108]    0.08  7.7e-4   0.04 9.7e-3   0.05   0.08   0.11   0.17   3000    1.0\n",
       "src_f[1,108]    0.12  9.1e-4   0.05   0.02   0.08   0.12   0.15   0.22   3000    1.0\n",
       "src_f[2,108]    0.28  2.2e-3   0.12   0.05   0.19   0.28   0.36   0.51   3000    1.0\n",
       "src_f[0,109]    0.03  4.0e-4   0.02 8.7e-4 8.5e-3   0.02   0.04   0.08   3000    1.0\n",
       "src_f[1,109]    0.03  4.4e-4   0.02 1.4e-3   0.01   0.03   0.05   0.09   3000    1.0\n",
       "src_f[2,109]    0.15  1.2e-3   0.06   0.02   0.11   0.15   0.19   0.28   3000    1.0\n",
       "src_f[0,110]    0.07  7.9e-4   0.04 4.2e-3   0.04   0.07    0.1   0.17   3000    1.0\n",
       "src_f[1,110]    0.09  1.0e-3   0.06 7.7e-3   0.05   0.08   0.13   0.21   3000    1.0\n",
       "src_f[2,110]     0.1  1.6e-3   0.09 3.9e-3   0.04   0.08   0.15   0.32   3000    1.0\n",
       "src_f[0,111]    0.04  5.5e-4   0.03 2.2e-3   0.02   0.04   0.06   0.12   3000    1.0\n",
       "src_f[1,111]    0.03  4.4e-4   0.02 7.1e-410.0e-3   0.02   0.04   0.09   3000    1.0\n",
       "src_f[2,111]    0.08  1.1e-3   0.06 2.4e-3   0.03   0.06   0.11   0.23   3000    1.0\n",
       "src_f[0,112]    0.12  8.7e-4   0.05   0.03   0.09   0.12   0.15   0.21   3000    1.0\n",
       "src_f[1,112]    0.23  6.8e-4   0.04   0.16    0.2   0.23   0.25    0.3   3000    1.0\n",
       "src_f[2,112]    0.27  1.2e-3   0.07   0.14   0.22   0.27   0.31    0.4   3000    1.0\n",
       "src_f[0,113]    0.35  1.1e-3   0.06   0.22   0.31   0.36    0.4   0.47   3000    1.0\n",
       "src_f[1,113]    0.14  1.2e-3   0.06   0.02   0.09   0.14   0.19   0.26   3000    1.0\n",
       "src_f[2,113]    0.07  9.9e-4   0.05 2.2e-3   0.02   0.05   0.09    0.2   3000    1.0\n",
       "src_f[0,114]    0.04  5.3e-4   0.03 1.0e-3   0.01   0.03   0.05   0.11   3000    1.0\n",
       "src_f[1,114]    0.04  5.5e-4   0.03 1.4e-3   0.01   0.03   0.06   0.11   3000    1.0\n",
       "src_f[2,114]    0.09  1.2e-3   0.07 3.6e-3   0.04   0.08   0.13   0.25   3000    1.0\n",
       "src_f[0,115]    0.12  8.5e-4   0.05   0.03   0.09   0.12   0.16   0.21   3000    1.0\n",
       "src_f[1,115]    0.05  6.7e-4   0.04 1.9e-3   0.02   0.04   0.07   0.14   3000    1.0\n",
       "src_f[2,115]    0.11  1.3e-3   0.07 6.6e-3   0.05    0.1   0.16   0.27   3000    1.0\n",
       "src_f[0,116]    0.04  5.1e-4   0.03 1.0e-3   0.01   0.03   0.05    0.1   3000    1.0\n",
       "src_f[1,116]    0.05  6.1e-4   0.03 1.9e-3   0.02   0.05   0.07   0.13   3000    1.0\n",
       "src_f[2,116]    0.06  9.3e-4   0.05 1.9e-3   0.02   0.05   0.09   0.19   3000    1.0\n",
       "src_f[0,117]    0.03  4.7e-4   0.03 1.8e-3   0.01   0.03   0.05    0.1   3000    1.0\n",
       "src_f[1,117]    0.04  5.6e-4   0.03 1.6e-3   0.02   0.03   0.06   0.11   3000    1.0\n",
       "src_f[2,117]    0.07  9.8e-4   0.05 2.3e-3   0.03   0.05    0.1    0.2   3000    1.0\n",
       "src_f[0,118]    0.16  1.3e-3   0.07   0.02   0.11   0.15    0.2   0.29   3000    1.0\n",
       "src_f[1,118]    0.07  9.8e-4   0.05 3.0e-3   0.03   0.06   0.11    0.2   3000    1.0\n",
       "src_f[2,118]    0.17  2.0e-3   0.11 8.3e-3   0.08   0.16   0.24   0.41   3000    1.0\n",
       "src_f[0,119]    0.02  2.3e-4   0.01 7.3e-4 7.1e-3   0.01   0.02   0.05   3000    1.0\n",
       "src_f[1,119]    0.04  4.3e-4   0.02 2.2e-3   0.02   0.04   0.05   0.09   3000    1.0\n",
       "src_f[2,119]    0.07  1.0e-3   0.06 2.7e-3   0.03   0.06   0.11    0.2   3000    1.0\n",
       "src_f[0,120]    0.08  7.4e-4   0.04 6.6e-3   0.05   0.07    0.1   0.16   3000    1.0\n",
       "src_f[1,120]    0.26  9.7e-4   0.05   0.15   0.22   0.26    0.3   0.36   3000    1.0\n",
       "src_f[2,120]    0.26  1.8e-3    0.1   0.06   0.19   0.26   0.33   0.45   3000    1.0\n",
       "src_f[0,121]    0.08  6.3e-4   0.03   0.01   0.05   0.07    0.1   0.15   3000    1.0\n",
       "src_f[1,121]    0.04  5.2e-4   0.03 1.6e-3   0.02   0.04   0.06   0.11   3000    1.0\n",
       "src_f[2,121]    0.07  9.6e-4   0.05 2.1e-3   0.02   0.05    0.1   0.19   3000    1.0\n",
       "src_f[0,122]    0.32  1.9e-3    0.1   0.09   0.25   0.33   0.39   0.47   2566    1.0\n",
       "src_f[1,122]    0.15  2.0e-3   0.11 6.6e-3   0.06   0.13   0.23    0.4   3000    1.0\n",
       "src_f[2,122]    0.13  1.8e-3    0.1 4.0e-3   0.05   0.11   0.19   0.36   3000    1.0\n",
       "src_f[0,123]    0.34  1.7e-3   0.09   0.16   0.28   0.35   0.41   0.51   3000    1.0\n",
       "src_f[1,123]    0.14  2.0e-3    0.1 6.9e-3   0.06   0.12    0.2   0.37   2402    1.0\n",
       "src_f[2,123]    0.14  2.1e-3   0.11 4.4e-3   0.05   0.11    0.2   0.43   3000    1.0\n",
       "src_f[0,124]    0.19  1.2e-3   0.06   0.06   0.14   0.19   0.23   0.31   3000    1.0\n",
       "src_f[1,124]    0.32  9.2e-4   0.05   0.22   0.29   0.32   0.35   0.42   3000    1.0\n",
       "src_f[2,124]    0.39  2.1e-3   0.11   0.16   0.32    0.4   0.47    0.6   3000    1.0\n",
       "src_f[0,125]    0.62  9.0e-4   0.05   0.52   0.59   0.62   0.65   0.72   3000    1.0\n",
       "src_f[1,125]    0.53  1.1e-3   0.06   0.41   0.49   0.53   0.57   0.64   3000    1.0\n",
       "src_f[2,125]    0.18  1.8e-3    0.1   0.02   0.11   0.18   0.25   0.39   3000    1.0\n",
       "src_f[0,126]    0.08  7.6e-4   0.04 8.3e-3   0.05   0.07   0.11   0.16   3000    1.0\n",
       "src_f[1,126]    0.08  7.1e-4   0.04   0.01   0.06   0.08   0.11   0.16   3000    1.0\n",
       "src_f[2,126]    0.14  1.4e-3   0.08   0.01   0.08   0.13   0.19    0.3   3000    1.0\n",
       "src_f[0,127]    0.07  7.6e-4   0.04 6.1e-3   0.04   0.07    0.1   0.16   3000    1.0\n",
       "src_f[1,127]    0.06  5.9e-4   0.03 6.8e-3   0.04   0.06   0.08   0.13   3000    1.0\n",
       "src_f[2,127]    0.12  1.1e-3   0.06   0.01   0.08   0.12   0.17   0.25   3000    1.0\n",
       "src_f[0,128]    0.17  8.5e-4   0.05   0.08   0.14   0.16    0.2   0.26   3000    1.0\n",
       "src_f[1,128]    0.06  6.8e-4   0.04 4.8e-3   0.04   0.06   0.09   0.14   3000    1.0\n",
       "src_f[2,128]    0.21  2.3e-3   0.13   0.01   0.11    0.2    0.3   0.47   3000    1.0\n",
       "src_f[0,129]    0.03  4.1e-4   0.02 8.4e-4 8.9e-3   0.02   0.04   0.08   3000    1.0\n",
       "src_f[1,129]    0.14  1.1e-3   0.06   0.03   0.09   0.14   0.18   0.26   3000    1.0\n",
       "src_f[2,129]    0.46  2.6e-3   0.14   0.19   0.37   0.47   0.56   0.75   3000    1.0\n",
       "src_f[0,130]    0.03  4.2e-4   0.02 9.1e-4 8.9e-3   0.02   0.04   0.09   3000    1.0\n",
       "src_f[1,130]    0.02  3.1e-4   0.02 6.9e-4 6.5e-3   0.01   0.03   0.06   3000    1.0\n",
       "src_f[2,130]    0.05  7.6e-4   0.04 1.5e-3   0.02   0.04   0.07   0.15   3000    1.0\n",
       "src_f[0,131]    0.06  7.5e-4   0.04 2.7e-3   0.03   0.05   0.09   0.15   3000    1.0\n",
       "src_f[1,131]    0.04  6.3e-4   0.03 1.7e-3   0.02   0.04   0.06   0.13   3000    1.0\n",
       "src_f[2,131]    0.05  7.4e-4   0.04 1.3e-3   0.02   0.04   0.07   0.15   3000    1.0\n",
       "src_f[0,132]    0.14  8.3e-4   0.05   0.05   0.11   0.14   0.17   0.23   3000    1.0\n",
       "src_f[1,132]     0.2  8.2e-4   0.05   0.11   0.17    0.2   0.23   0.29   3000    1.0\n",
       "src_f[2,132]     0.1  1.1e-3   0.06 6.2e-3   0.05   0.09   0.13   0.23   3000    1.0\n",
       "src_f[0,133]    0.07  8.5e-4   0.05 5.7e-3   0.04   0.07    0.1   0.17   3000    1.0\n",
       "src_f[1,133]    0.11  7.3e-4   0.04   0.03   0.08   0.11   0.14   0.19   3000    1.0\n",
       "src_f[2,133]    0.05  6.7e-4   0.04 1.5e-3   0.02   0.04   0.07   0.14   3000    1.0\n",
       "src_f[0,134]    0.07  1.0e-3   0.06 2.9e-3   0.03   0.06    0.1   0.21   3000    1.0\n",
       "src_f[1,134]    0.08  9.8e-4   0.05 2.9e-3   0.03   0.07   0.11   0.19   3000    1.0\n",
       "src_f[2,134]    0.09  1.2e-3   0.07 3.7e-3   0.04   0.08   0.13   0.24   3000    1.0\n",
       "src_f[0,135]    0.03  4.3e-4   0.02 1.8e-3   0.01   0.03   0.05   0.09   3000    1.0\n",
       "src_f[1,135]    0.05  6.9e-4   0.04 1.5e-3   0.02   0.04   0.07   0.14   3000    1.0\n",
       "src_f[2,135]    0.09  1.4e-3   0.08 3.2e-3   0.03   0.07   0.13   0.29   3000    1.0\n",
       "src_f[0,136]    0.12  9.5e-4   0.05   0.02   0.08   0.12   0.16   0.22   3000    1.0\n",
       "src_f[1,136]    0.05  7.5e-4   0.04 2.7e-3   0.02   0.05   0.08   0.15   3000    1.0\n",
       "src_f[2,136]    0.12  1.5e-3   0.08 4.6e-3   0.05    0.1   0.17    0.3   3000    1.0\n",
       "src_f[0,137]    0.24  1.9e-3    0.1   0.05   0.17   0.24   0.32   0.43   3000    1.0\n",
       "src_f[1,137]    0.39  1.9e-3   0.11   0.16   0.33    0.4   0.47   0.57   3000    1.0\n",
       "src_f[2,137]    0.21  2.2e-3   0.12   0.01   0.12    0.2   0.29   0.47   3000    1.0\n",
       "src_f[0,138]    0.03  4.2e-4   0.02 7.7e-4 8.6e-3   0.02   0.04   0.09   3000    1.0\n",
       "src_f[1,138]    0.02  3.5e-4   0.02 5.7e-4 7.5e-3   0.02   0.03   0.07   3000    1.0\n",
       "src_f[2,138]    0.05  7.2e-4   0.04 1.2e-3   0.02   0.04   0.07   0.15   3000    1.0\n",
       "src_f[0,139]     0.1  9.4e-4   0.05 8.8e-3   0.06   0.09   0.13    0.2   3000    1.0\n",
       "src_f[1,139]    0.05  6.8e-4   0.04 2.6e-3   0.02   0.05   0.08   0.14   3000    1.0\n",
       "src_f[2,139]    0.11  1.6e-3   0.09 3.6e-3   0.04   0.09   0.16   0.33   3000    1.0\n",
       "src_f[0,140]    0.17  2.2e-3   0.12 7.1e-3   0.07   0.16   0.26   0.43   3000    1.0\n",
       "src_f[1,140]     0.1  1.6e-3   0.09 4.0e-3   0.04   0.08   0.15   0.31   3000    1.0\n",
       "src_f[2,140]    0.14  2.1e-3   0.12 4.1e-3   0.05   0.11    0.2   0.43   3000    1.0\n",
       "src_f[0,141]    0.07  8.5e-4   0.05 4.2e-3   0.04   0.07   0.11   0.18   3000    1.0\n",
       "src_f[1,141]     0.1  1.0e-3   0.06 8.6e-3   0.06    0.1   0.14   0.22   3000    1.0\n",
       "src_f[2,141]    0.12  1.4e-3   0.08 6.6e-3   0.06   0.11   0.17    0.3   3000    1.0\n",
       "src_f[0,142]     0.1  7.0e-4   0.04   0.03   0.07    0.1   0.12   0.18   3000    1.0\n",
       "src_f[1,142]    0.11  8.2e-4   0.05   0.02   0.08   0.11   0.14    0.2   3000    1.0\n",
       "src_f[2,142]    0.11  1.3e-3   0.07 5.4e-3   0.05    0.1   0.15   0.26   3000    1.0\n",
       "src_f[0,143]    0.17  1.0e-3   0.06   0.06   0.13   0.17   0.21   0.28   3000    1.0\n",
       "src_f[1,143]    0.17  1.3e-3   0.07   0.04   0.12   0.18   0.22   0.31   3000    1.0\n",
       "src_f[2,143]    0.16  2.0e-3   0.11 9.2e-3   0.07   0.14   0.23    0.4   3000    1.0\n",
       "src_f[0,144]    0.16  7.6e-4   0.04   0.07   0.13   0.16   0.19   0.24   3000    1.0\n",
       "src_f[1,144]    0.23 10.0e-4   0.05   0.13   0.19   0.23   0.27   0.34   3000    1.0\n",
       "src_f[2,144]    0.19  2.2e-3   0.11   0.01    0.1   0.18   0.26   0.41   2350    1.0\n",
       "src_f[0,145]    0.12  1.1e-3   0.06   0.01   0.07   0.11   0.16   0.24   3000    1.0\n",
       "src_f[1,145]    0.14  8.7e-4   0.05   0.05   0.11   0.14   0.17   0.23   3000    1.0\n",
       "src_f[2,145]    0.08  1.0e-3   0.06 4.0e-3   0.04   0.07   0.12   0.21   3000    1.0\n",
       "src_f[0,146]    0.05  5.6e-4   0.03 4.3e-3   0.03   0.05   0.07   0.12   3000    1.0\n",
       "src_f[1,146]    0.04  4.7e-4   0.03 1.7e-3   0.02   0.03   0.05    0.1   3000    1.0\n",
       "src_f[2,146]    0.06  8.2e-4   0.04 2.9e-3   0.03   0.05   0.09   0.17   3000    1.0\n",
       "src_f[0,147]    0.19  2.2e-3   0.12 8.7e-3   0.09   0.17   0.28   0.46   3000    1.0\n",
       "src_f[1,147]     0.1  1.6e-3   0.09 2.5e-3   0.03   0.07   0.15   0.31   3000    1.0\n",
       "src_f[2,147]    0.13  2.1e-3   0.11 4.2e-3   0.04    0.1   0.19   0.42   3000    1.0\n",
       "src_f[0,148]    0.62  8.9e-4   0.05   0.52   0.59   0.62   0.65   0.72   3000    1.0\n",
       "src_f[1,148]     0.6  1.0e-3   0.06   0.49   0.57    0.6   0.64   0.71   3000    1.0\n",
       "src_f[2,148]    0.33  2.3e-3   0.12   0.08   0.25   0.33   0.42   0.57   3000    1.0\n",
       "src_f[0,149]    0.05  7.3e-4   0.04 1.6e-3   0.02   0.04   0.07   0.15   3000    1.0\n",
       "src_f[1,149]    0.04  5.9e-4   0.03 9.7e-4   0.01   0.03   0.06   0.12   3000    1.0\n",
       "src_f[2,149]    0.05  7.9e-4   0.04 1.9e-3   0.02   0.04   0.08   0.16   3000    1.0\n",
       "src_f[0,150]    0.04  5.6e-4   0.03 1.1e-3   0.01   0.03   0.05   0.12   3000    1.0\n",
       "src_f[1,150]    0.05  7.2e-4   0.04 1.8e-3   0.02   0.04   0.07   0.14   3000    1.0\n",
       "src_f[2,150]     0.1  1.4e-3   0.08 3.0e-3   0.04   0.08   0.14    0.3   3000    1.0\n",
       "src_f[0,151]    0.05  6.3e-4   0.03 1.7e-3   0.02   0.04   0.07   0.13   3000    1.0\n",
       "src_f[1,151]    0.04  5.6e-4   0.03 1.6e-3   0.02   0.04   0.06   0.12   3000    1.0\n",
       "src_f[2,151]    0.05  8.4e-4   0.05 1.8e-3   0.02   0.04   0.07   0.17   3000    1.0\n",
       "src_f[0,152]    0.25  1.2e-3   0.07   0.12    0.2   0.25   0.29   0.38   3000    1.0\n",
       "src_f[1,152]    0.37  1.1e-3   0.06   0.25   0.33   0.37   0.41   0.49   3000    1.0\n",
       "src_f[2,152]    0.29  1.9e-3    0.1   0.08   0.22   0.29   0.36   0.48   3000    1.0\n",
       "src_f[0,153]    0.07  7.8e-4   0.04 3.1e-3   0.03   0.06   0.09   0.16   3000    1.0\n",
       "src_f[1,153]    0.07  9.4e-4   0.05 3.4e-3   0.03   0.06    0.1   0.19   3000    1.0\n",
       "src_f[2,153]    0.12  1.8e-3    0.1 3.8e-3   0.04    0.1   0.18   0.36   3000    1.0\n",
       "src_f[0,154]    0.05  6.7e-4   0.04 1.9e-3   0.02   0.04   0.07   0.13   3000    1.0\n",
       "src_f[1,154]    0.02  2.9e-4   0.02 4.4e-4 5.6e-3   0.01   0.03   0.06   3000    1.0\n",
       "src_f[2,154]    0.07  8.7e-4   0.05 3.0e-3   0.03   0.06   0.09   0.18   3000    1.0\n",
       "src_f[0,155]    0.05  5.7e-4   0.03 2.2e-3   0.02   0.04   0.07   0.12   3000    1.0\n",
       "src_f[1,155]    0.05  6.1e-4   0.03 2.1e-3   0.02   0.04   0.07   0.12   3000    1.0\n",
       "src_f[2,155]    0.04  6.0e-4   0.03 9.9e-4   0.01   0.03   0.06   0.12   3000    1.0\n",
       "src_f[0,156]    0.18  1.0e-3   0.06   0.06   0.14   0.18   0.21   0.29   3000    1.0\n",
       "src_f[1,156]    0.09  8.6e-4   0.05 8.4e-3   0.06   0.09   0.12   0.19   3000    1.0\n",
       "src_f[2,156]    0.08  1.1e-3   0.06 3.4e-3   0.04   0.07   0.12   0.23   3000    1.0\n",
       "src_f[0,157]    0.08  8.9e-4   0.05 4.3e-3   0.04   0.07   0.11   0.19   3000    1.0\n",
       "src_f[1,157]    0.06  7.9e-4   0.04 2.4e-3   0.03   0.05   0.09   0.16   3000    1.0\n",
       "src_f[2,157]    0.05  8.1e-4   0.04 1.4e-3   0.02   0.04   0.07   0.17   3000    1.0\n",
       "src_f[0,158]    0.38  9.6e-4   0.05   0.28   0.35   0.38   0.42   0.48   3000    1.0\n",
       "src_f[1,158]    0.27  1.0e-3   0.06   0.15   0.24   0.28   0.31   0.37   3000    1.0\n",
       "src_f[2,158]    0.42  1.8e-3    0.1    0.2   0.37   0.43   0.49   0.59   3000    1.0\n",
       "src_f[0,159]    0.17  1.0e-3   0.06   0.07   0.14   0.17   0.21   0.29   3000    1.0\n",
       "src_f[1,159]    0.28  7.7e-4   0.04    0.2   0.25   0.28   0.31   0.36   3000    1.0\n",
       "src_f[2,159]    0.12  1.2e-3   0.07   0.01   0.08   0.12   0.17   0.26   3000    1.0\n",
       "src_f[0,160]    0.14  1.1e-3   0.06   0.03    0.1   0.14   0.18   0.26   3000    1.0\n",
       "src_f[1,160]    0.18  1.0e-3   0.06   0.06   0.15   0.18   0.22   0.29   3000    1.0\n",
       "src_f[2,160]    0.18  1.9e-3    0.1   0.01    0.1   0.18   0.26   0.39   3000    1.0\n",
       "src_f[0,161]    0.13  8.7e-4   0.05   0.04    0.1   0.13   0.16   0.23   3000    1.0\n",
       "src_f[1,161]    0.05  6.0e-4   0.03 2.5e-3   0.02   0.04   0.07   0.12   3000    1.0\n",
       "src_f[2,161]    0.09  1.2e-3   0.07 3.8e-3   0.04   0.08   0.13   0.24   3000    1.0\n",
       "src_f[0,162]    0.21  6.8e-4   0.04   0.13   0.18   0.21   0.23   0.28   3000    1.0\n",
       "src_f[1,162]    0.17  8.0e-4   0.04   0.09   0.14   0.17    0.2   0.26   3000    1.0\n",
       "src_f[2,162]    0.08  1.1e-3   0.06 2.7e-3   0.03   0.07   0.12   0.22   3000    1.0\n",
       "src_f[0,163]     0.1  8.1e-4   0.04   0.02   0.07    0.1   0.13   0.19   3000    1.0\n",
       "src_f[1,163]    0.26  9.4e-4   0.05   0.16   0.23   0.26    0.3   0.36   3000    1.0\n",
       "src_f[2,163]    0.09  1.2e-3   0.06 3.3e-3   0.04   0.08   0.13   0.24   3000    1.0\n",
       "src_f[0,164]    0.24  1.2e-3   0.07    0.1   0.19   0.24   0.28   0.37   3000    1.0\n",
       "src_f[1,164]    0.09  1.4e-3   0.07 4.0e-3   0.04   0.08   0.14   0.25   2273    1.0\n",
       "src_f[2,164]    0.07 10.0e-4   0.05 3.3e-3   0.03   0.06   0.11    0.2   3000    1.0\n",
       "bkg[0]         -3.12  1.8e-3    0.1  -3.31  -3.19  -3.12  -3.05  -2.93   3000    1.0\n",
       "bkg[1]         -5.08  2.8e-3   0.15  -5.38  -5.18  -5.08  -4.97   -4.8   3000    1.0\n",
       "bkg[2]         -9.24  9.6e-3   0.52 -10.29  -9.59  -9.24  -8.89  -8.23   3000    1.0\n",
       "sigma_conf[0]   0.85  4.7e-3    0.2    0.4   0.73   0.86   0.99   1.19   1782    1.0\n",
       "sigma_conf[1]   1.15  2.8e-3   0.15   0.81   1.05   1.15   1.25   1.43   3000    1.0\n",
       "sigma_conf[2]   1.94  6.5e-3   0.36   1.18   1.71   1.96   2.19   2.57   3000    1.0\n",
       "lp__           -9339    0.57  18.45  -9376  -9351  -9339  -9326  -9303   1049    1.0\n",
       "\n",
       "Samples were drawn using NUTS at Wed May 24 17:53:17 2017.\n",
       "For each parameter, n_eff is a crude measure of effective sample size,\n",
       "and Rhat is the potential scale reduction factor on split chains (at \n",
       "convergence, Rhat=1)."
      ]
     },
     "execution_count": 14,
     "metadata": {},
     "output_type": "execute_result"
    }
   ],
   "source": [
    "fit"
   ]
  },
  {
   "cell_type": "code",
   "execution_count": 15,
   "metadata": {
    "collapsed": true
   },
   "outputs": [],
   "source": [
    "posterior=xidplus.posterior_stan(fit,[prior250,prior350,prior500])\n"
   ]
  },
  {
   "cell_type": "code",
   "execution_count": 16,
   "metadata": {},
   "outputs": [],
   "source": [
    "xidplus.save([prior250,prior350,prior500],posterior,'test')"
   ]
  },
  {
   "cell_type": "code",
   "execution_count": null,
   "metadata": {
    "collapsed": true
   },
   "outputs": [],
   "source": []
  }
 ],
 "metadata": {
  "celltoolbar": "Slideshow",
  "kernelspec": {
   "display_name": "Python [conda env:new]",
   "language": "python",
   "name": "conda-env-new-py"
  },
  "language_info": {
   "codemirror_mode": {
    "name": "ipython",
    "version": 3
   },
   "file_extension": ".py",
   "mimetype": "text/x-python",
   "name": "python",
   "nbconvert_exporter": "python",
   "pygments_lexer": "ipython3",
   "version": "3.6.0"
  }
 },
 "nbformat": 4,
 "nbformat_minor": 1
}
