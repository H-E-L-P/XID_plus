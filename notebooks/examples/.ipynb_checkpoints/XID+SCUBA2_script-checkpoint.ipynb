{
 "cells": [
  {
   "cell_type": "code",
   "execution_count": 1,
   "metadata": {
    "collapsed": false,
    "deletable": true,
    "editable": true,
    "slideshow": {
     "slide_type": "skip"
    }
   },
   "outputs": [],
   "source": [
    "import warnings\n",
    "from matplotlib.cbook import MatplotlibDeprecationWarning\n",
    "warnings.simplefilter('ignore', MatplotlibDeprecationWarning)\n",
    "warnings.simplefilter('ignore', UserWarning)\n",
    "warnings.simplefilter('ignore', RuntimeWarning)\n",
    "warnings.simplefilter('ignore',UnicodeWarning)"
   ]
  },
  {
   "cell_type": "markdown",
   "metadata": {
    "deletable": true,
    "editable": true,
    "slideshow": {
     "slide_type": "slide"
    }
   },
   "source": [
    "\n",
    "![HELP logo](https://github.com/pdh21/FIR_bootcamp_2016/blob/master/Figures/Help_Logo.png?raw=true)\n",
    "# XID+\n",
    "### _Peter Hurley  (SCUBA2-edits Matt Smith)_"
   ]
  },
  {
   "cell_type": "markdown",
   "metadata": {
    "deletable": true,
    "editable": true,
    "slideshow": {
     "slide_type": "subslide"
    }
   },
   "source": [
    "1. Uses a MCMC based approach to get FULL posterior\n",
    "2. Provide a natural framework to introduce additional prior information\n",
    "3. Allows more accurate estimate of flux density errors for each source\n",
    "4. Provides a platform for doing science with the maps (e.g Hierarchical stacking of LBGs, Luminosity function from the map etc)"
   ]
  },
  {
   "cell_type": "markdown",
   "metadata": {
    "deletable": true,
    "editable": true,
    "slideshow": {
     "slide_type": "subslide"
    }
   },
   "source": [
    "![stan logo](https://github.com/stan-dev/logos/blob/master/pystan_logo_name.png?raw=true)\n"
   ]
  },
  {
   "cell_type": "markdown",
   "metadata": {
    "deletable": true,
    "editable": true,
    "slideshow": {
     "slide_type": "notes"
    }
   },
   "source": [
    "Cross-identification tends to be done with catalogues, then science with the matched catalogues.\n",
    "\n",
    "XID+ takes a different philosophy.\n",
    "* Catalogues are a form of data compression. OK in some cases, not so much in others: \n",
    "    - i.e. confused images: catalogue compression loses correlation information\n",
    "* Ideally, science should be done without compression..\n",
    "\n",
    "XID+ provides a framework to cross identify galaxies we know about in different maps, with the idea that it can be extended to do science with the maps!!\n"
   ]
  },
  {
   "cell_type": "markdown",
   "metadata": {
    "deletable": true,
    "editable": true,
    "slideshow": {
     "slide_type": "slide"
    }
   },
   "source": [
    "## Probabilistic Framework\n"
   ]
  },
  {
   "cell_type": "markdown",
   "metadata": {
    "deletable": true,
    "editable": true,
    "slideshow": {
     "slide_type": "fragment"
    }
   },
   "source": [
    "Philosophy: \n",
    "* build a probabilistic generative model for the SPIRE maps\n",
    "* Infer model on SPIRE maps\n"
   ]
  },
  {
   "cell_type": "markdown",
   "metadata": {
    "deletable": true,
    "editable": true,
    "slideshow": {
     "slide_type": "fragment"
    }
   },
   "source": [
    "### Bayes Theorem\n",
    "$p(\\mathbf{f}|\\mathbf{d}) \\propto p(\\mathbf{d}|\\mathbf{f}) \\times p(\\mathbf{f})$"
   ]
  },
  {
   "cell_type": "markdown",
   "metadata": {
    "deletable": true,
    "editable": true,
    "slideshow": {
     "slide_type": "subslide"
    }
   },
   "source": [
    "### Generative Model\n",
    "In order to carry out Bayesian inference, we need a model to carry out inference on.\n",
    "\n",
    "For the SPIRE maps, our model is quite simple, with likelihood defined as:\n",
    "    $L = p(\\mathbf{d}|\\mathbf{f}) \\propto |\\mathbf{N_d}|^{-1/2} \\exp\\big\\{ -\\frac{1}{2}(\\mathbf{d}-\\mathbf{Af})^T\\mathbf{N_d}^{-1}(\\mathbf{d}-\\mathbf{Af})\\big\\}$\n",
    "\n",
    "where:\n",
    "    $\\mathbf{N_{d,ii}} =\\sigma_{inst.,ii}^2+\\sigma_{conf.}^2$\n",
    "    "
   ]
  },
  {
   "cell_type": "markdown",
   "metadata": {
    "deletable": true,
    "editable": true,
    "slideshow": {
     "slide_type": "notes"
    }
   },
   "source": [
    "Simplest model for XID+ assumes following:\n",
    "* All sources are known and have positive flux (fi)\n",
    "* A global background (B) contributes to all pixels \n",
    "* PRF is fixed and known\n",
    "* Confusion noise is constant and not correlated across pixels\n",
    "---\n",
    "Because we are getting the joint probability distribution, our model is generative:\n",
    "    \n",
    "* Given parameters, we generate data and vica-versa\n",
    "    \n",
    "Compared to discriminative model (i.e. neural network), which only obtains conditional probability distribution:\n",
    "\n",
    "* Neural network, give inputs, get output. Can't go other way'\n",
    "\n",
    "Generative model is full probabilistic model. Allows more complex relationships between observed and target variables\n"
   ]
  },
  {
   "cell_type": "markdown",
   "metadata": {
    "deletable": true,
    "editable": true,
    "slideshow": {
     "slide_type": "slide"
    }
   },
   "source": [
    "## XID+ in action\n",
    "XID+ applied to GALFORM simulation of COSMOS field"
   ]
  },
  {
   "cell_type": "markdown",
   "metadata": {
    "deletable": true,
    "editable": true,
    "slideshow": {
     "slide_type": "subslide"
    }
   },
   "source": [
    "Lets look at part of COSMOS:"
   ]
  },
  {
   "cell_type": "markdown",
   "metadata": {
    "deletable": true,
    "editable": true,
    "slideshow": {
     "slide_type": "notes"
    }
   },
   "source": [
    "Fit to Lacey GALFORM\n",
    "* SAM simulation (with dust) ran through SMAP pipeline_ similar depth and size as COSMOS\n",
    "* Used galaxies with an observed 100 micron flux of gt. $50\\mathbf{\\mu Jy}$. Gives 64823\n",
    "* used tiles of 0.2 degrees with buffer.\n",
    "* Uninformative prior: uniform in log space $10^{-8} - 10{^3} \\mathbf{mJy}$\n"
   ]
  },
  {
   "cell_type": "markdown",
   "metadata": {
    "deletable": true,
    "editable": true
   },
   "source": [
    "# RUN SCRIPT\n",
    "======================"
   ]
  },
  {
   "cell_type": "markdown",
   "metadata": {
    "deletable": true,
    "editable": true
   },
   "source": [
    "Import required modules"
   ]
  },
  {
   "cell_type": "code",
   "execution_count": 2,
   "metadata": {
    "collapsed": false,
    "deletable": true,
    "editable": true,
    "slideshow": {
     "slide_type": "skip"
    }
   },
   "outputs": [],
   "source": [
    "from astropy.io import ascii, fits\n",
    "import pylab as plt\n",
    "%matplotlib inline\n",
    "from astropy import wcs\n",
    "\n",
    "import sys\n",
    "sys.path.append(\"/home/gandalf/spxmws/Hard-Drive/help/XIDplus/XID_plus\") # temporary hack for MS machine\n",
    "import numpy as np\n",
    "import xidplus\n",
    "from xidplus import moc_routines\n",
    "import pickle"
   ]
  },
  {
   "cell_type": "markdown",
   "metadata": {
    "collapsed": true,
    "deletable": true,
    "editable": true
   },
   "source": [
    "Set image and catalogue filenames"
   ]
  },
  {
   "cell_type": "code",
   "execution_count": 3,
   "metadata": {
    "collapsed": true,
    "deletable": true,
    "editable": true
   },
   "outputs": [],
   "source": [
    "# set bands to run\n",
    "bands = {\"850\": True, \"450\":False}\n",
    "\n",
    "#Folder containing maps\n",
    "imfolder='/home/gandalf/spxmws/Hard-Drive/help/s2cosmos/'\n",
    "\n",
    "s850fits=imfolder+'COSMOS-850-edit.fits'#SPIRE 850 map\n",
    "s450fits=imfolder+'COSMOS-850-edit.fits'#SPIRE 450 map\n",
    "\n",
    "\n",
    "#Folder containing prior input catalogue\n",
    "catfolder=imfolder\n",
    "#prior catalogue\n",
    "prior_cat='dmu26_XID+SPIRE_COSMOS_20161129.fits'\n",
    "\n",
    "\n",
    "#output folder\n",
    "output_folder=imfolder"
   ]
  },
  {
   "cell_type": "markdown",
   "metadata": {
    "deletable": true,
    "editable": true
   },
   "source": [
    "Load in images, noise maps, header info and WCS information - set up to deal with a pipeline SCUBA-2 image)"
   ]
  },
  {
   "cell_type": "code",
   "execution_count": 4,
   "metadata": {
    "collapsed": false,
    "deletable": true,
    "editable": true
   },
   "outputs": [],
   "source": [
    "#-----850-------------\n",
    "if bands[\"850\"]:\n",
    "    # open fits file\n",
    "    hdulist = fits.open(s850fits)\n",
    "    \n",
    "    # adjust data and header into 2D rather than 3D\n",
    "    header850 = hdulist[0].header\n",
    "    header850['NAXIS'] = 2\n",
    "    header850[\"i_naxis\"] = 2\n",
    "    del(header850['NAXIS3'])\n",
    "    del(header850[\"CRPIX3\"])\n",
    "    del(header850[\"CDELT3\"])\n",
    "    del(header850[\"CRVAL3\"])\n",
    "    del(header850[\"CTYPE3\"])\n",
    "    del(header850[\"LBOUND3\"])\n",
    "    del(header850[\"CUNIT3\"])\n",
    "    \n",
    "    im850phdu=header850\n",
    "    im850hdu=header850\n",
    "    \n",
    "    # convert variance to error\n",
    "    nim850 = np.sqrt(hdulist[1].data[0,:,:])\n",
    "    \n",
    "    # convert units if needed\n",
    "    if im850hdu['BUNIT'] == 'mJy/beam':\n",
    "        im850 = hdulist[0].data[0,:,:]\n",
    "    elif im850hdu['BUNIT'] == 'mJy/arcsec**2':\n",
    "        im850=hdulist[0].data[0,:,:]*229.487\n",
    "        nim850=nim850.data*229.487\n",
    "    else:\n",
    "        raise Exception(\"Unit not Programmed\")\n",
    "      \n",
    "    w_850 = wcs.WCS(hdulist[0].header)\n",
    "    pixsizes850 = wcs.utils.proj_plane_pixel_scales(w_850)*3600.0\n",
    "    if np.abs(pixsizes850[0] - pixsizes850[1]) > 0.01:\n",
    "        raise Exception(\"Not programmed for Rectangular Pixels\")\n",
    "    pixsize850= pixsizes850[0]\n",
    "    hdulist.close()\n",
    "\n",
    "#-----450-------------\n",
    "if bands[\"450\"]:\n",
    "    hdulist = fits.open(s450fits)\n",
    "    im450phdu=hdulist[0].header\n",
    "    im450hdu=hdulist[0].header\n",
    "    \n",
    "    # adjust data and header into 2D rather than 3D\n",
    "    header450 = hdulist[0].header\n",
    "    header450['NAXIS'] = 2\n",
    "    header450[\"i_naxis\"] = 2\n",
    "    del(header450['NAXIS3'])\n",
    "    del(header450[\"CRPIX3\"])\n",
    "    del(header450[\"CDELT3\"])\n",
    "    del(header450[\"CRVAL3\"])\n",
    "    del(header450[\"CTYPE3\"])\n",
    "    del(header450[\"LBOUND3\"])\n",
    "    del(header450[\"CUNIT3\"])\n",
    "    \n",
    "    # convert variance to error\n",
    "    nim450 = np.sqrt(hdulist[1].data[0,:,:])\n",
    "    \n",
    "    # convert units if needed\n",
    "    if im450hdu['BUNIT'] == 'mJy/beam':\n",
    "        im450=hdulist[0].data[0,:,:]\n",
    "    elif im450hdu['BUNIT'] == 'mJy/arcsec**2':\n",
    "        im450=hdulist[0].data[0,:,:]*104.246\n",
    "        nim450=nim450.data*104.246\n",
    "    else:\n",
    "        raise Exception(\"Unit not Programmed\")\n",
    "    \n",
    "    w_450 = wcs.WCS(hdulist[1].header)\n",
    "    pixsizes450 = wcs.utils.proj_plane_pixel_scales(w_450)*3600.0\n",
    "    if np.abs(pixsizes450[0] - pixsizes450[1]) > 0.01:\n",
    "        raise Exception(\"Not programmed for Rectangular Pixels\")\n",
    "    pixsize450= pixsizes450[0]\n",
    "    hdulist.close()\n"
   ]
  },
  {
   "cell_type": "markdown",
   "metadata": {
    "deletable": true,
    "editable": true
   },
   "source": [
    "Load in catalogue you want to fit (and make any cuts)"
   ]
  },
  {
   "cell_type": "code",
   "execution_count": 5,
   "metadata": {
    "collapsed": false,
    "deletable": true,
    "editable": true
   },
   "outputs": [],
   "source": [
    "hdulist = fits.open(catfolder+prior_cat)\n",
    "fcat=hdulist[1].data\n",
    "hdulist.close()\n",
    "inra=fcat['RA']\n",
    "indec=fcat['DEC']\n",
    "\n",
    "#sgood=fcat['S100']>0.050\n",
    "\n",
    "#inra=inra[sgood]\n",
    "#indec=indec[sgood]"
   ]
  },
  {
   "cell_type": "markdown",
   "metadata": {
    "deletable": true,
    "editable": true
   },
   "source": [
    "Set prior classes\n"
   ]
  },
  {
   "cell_type": "code",
   "execution_count": 6,
   "metadata": {
    "collapsed": false,
    "deletable": true,
    "editable": true
   },
   "outputs": [],
   "source": [
    "#---prior850--------\n",
    "if bands[\"850\"]:\n",
    "    prior850=xidplus.prior(im850,nim850,im850phdu,im850hdu)#Initialise with map, uncertianty map, wcs info and primary header\n",
    "    prior850.prior_cat(inra,indec,prior_cat)#Set input catalogue\n",
    "    prior850.prior_bkg(-5.0,5)#Set prior on background (assumes Guassian pdf with mu and sigma)\n",
    "#---prior450--------\n",
    "if bands[\"450\"]:\n",
    "    prior450=xidplus.prior(im450,nim450,im450phdu,im450hdu)\n",
    "    prior450.prior_cat(inra,indec,prior_cat)\n",
    "    prior450.prior_bkg(-5.0,5)\n"
   ]
  },
  {
   "cell_type": "markdown",
   "metadata": {
    "deletable": true,
    "editable": true
   },
   "source": [
    "Set PSF"
   ]
  },
  {
   "cell_type": "code",
   "execution_count": 7,
   "metadata": {
    "collapsed": false,
    "deletable": true,
    "editable": true
   },
   "outputs": [],
   "source": [
    "#use Gaussian2DKernel to create prf (requires stddev rather than fwhm hence pfwhm/2.355)\n",
    "from astropy.convolution import Gaussian2DKernel\n",
    "\n",
    "#---PSF850-----------\n",
    "if bands[\"850\"]:\n",
    "    prf850=0.98*Gaussian2DKernel(13.0/2.355,x_size=101,y_size=101)+0.02*Gaussian2DKernel(48.0/2.355,x_size=101,y_size=101)\n",
    "    prf850.normalize(mode='peak')\n",
    "    pind850=np.arange(0,101,1)*1.0/pixsize850 #get 850 scale in terms of pixel scale of map\n",
    "    prior850.set_prf(prf850.array,pind850,pind850)#requires psf as 2d grid, and x and y bins for grid (in pixel scale)\n",
    "\n",
    "#---PSF450--------------\n",
    "if bands[\"450\"]:\n",
    "    prf450=0.94*Gaussian2DKernel(7.9/2.355,x_size=101,y_size=101)+0.06*Gaussian2DKernel(25.0/2.355,x_size=101,y_size=101)\n",
    "    prf450.normalize(mode='peak')\n",
    "    pind450=np.arange(0,101,1)*1.0/pixsize450 #get 450 scale in terms of pixel scale of map\n",
    "    prior450.set_prf(prf450.array,pind450,pind450)\n"
   ]
  },
  {
   "cell_type": "code",
   "execution_count": 8,
   "metadata": {
    "collapsed": false,
    "deletable": true,
    "editable": true
   },
   "outputs": [
    {
     "name": "stdout",
     "output_type": "stream",
     "text": [
      "fitting 44310 sources \n",
      "\n",
      "using 7976201\n"
     ]
    }
   ],
   "source": [
    "if bands[\"850\"] and bands[\"450\"]:\n",
    "    print 'fitting '+ str(prior850.nsrc)+' sources \\n'\n",
    "    print 'using ' +  str(prior850.snpix)+' and '+ str(prior450.snpix)+' pixels'\n",
    "elif bands[\"850\"]:\n",
    "    print 'fitting '+ str(prior850.nsrc)+' sources \\n'\n",
    "    print 'using ' +  str(prior850.snpix)\n",
    "else:\n",
    "    print 'fitting '+ str(prior450.nsrc)+' sources \\n'\n",
    "    print 'using ' +  str(prior450.snpix)\n"
   ]
  },
  {
   "cell_type": "markdown",
   "metadata": {
    "deletable": true,
    "editable": true
   },
   "source": [
    "Fitting this number of sources and datapoints is not practical. Suggest cutting down to a MOC based on a HEALPix tile with an order no greater than 10 for SPIRE."
   ]
  },
  {
   "cell_type": "code",
   "execution_count": 9,
   "metadata": {
    "collapsed": false,
    "deletable": true,
    "editable": true
   },
   "outputs": [],
   "source": [
    "order=10\n",
    "Tile=6978160\n",
    "moc=moc_routines.get_fitting_region(order,Tile)\n",
    "if bands[\"850\"]:\n",
    "    prior850.set_tile(moc)\n",
    "if bands[\"450\"]:\n",
    "    prior450.set_tile(moc)"
   ]
  },
  {
   "cell_type": "code",
   "execution_count": 10,
   "metadata": {
    "collapsed": false,
    "deletable": true,
    "editable": true
   },
   "outputs": [
    {
     "name": "stdout",
     "output_type": "stream",
     "text": [
      "fitting 149 sources \n",
      "\n",
      "using 23899\n"
     ]
    }
   ],
   "source": [
    "if bands[\"850\"] and bands[\"450\"]:\n",
    "    print 'fitting '+ str(prior850.nsrc)+' sources \\n'\n",
    "    print 'using ' +  str(prior850.snpix)+' and '+ str(prior450.snpix)+' pixels'\n",
    "elif bands[\"850\"]:\n",
    "    print 'fitting '+ str(prior850.nsrc)+' sources \\n'\n",
    "    print 'using ' +  str(prior850.snpix)\n",
    "else:\n",
    "    print 'fitting '+ str(prior450.nsrc)+' sources \\n'\n",
    "    print 'using ' +  str(prior450.snpix)\n"
   ]
  },
  {
   "cell_type": "markdown",
   "metadata": {
    "deletable": true,
    "editable": true
   },
   "source": [
    "Calculate pointing matrix"
   ]
  },
  {
   "cell_type": "code",
   "execution_count": 11,
   "metadata": {
    "collapsed": true,
    "deletable": true,
    "editable": true
   },
   "outputs": [],
   "source": [
    "if bands[\"850\"]:\n",
    "    prior850.get_pointing_matrix()\n",
    "if bands[\"450\"]:\n",
    "    prior450.get_pointing_matrix()\n"
   ]
  },
  {
   "cell_type": "markdown",
   "metadata": {
    "deletable": true,
    "editable": true
   },
   "source": [
    "Default prior on flux is a uniform distribution, with a minimum and maximum of 0.01 and 1000.0 $\\mathrm{mJy}$ respectively for each source. running the function upper_lim _map resets the upper limit to the maximum flux value (plus a 5 sigma Background value) found in the map in which the source makes a contribution to."
   ]
  },
  {
   "cell_type": "code",
   "execution_count": 12,
   "metadata": {
    "collapsed": true,
    "deletable": true,
    "editable": true
   },
   "outputs": [],
   "source": [
    "if bands[\"850\"]:\n",
    "    prior850.upper_lim_map()\n",
    "if bands[\"450\"]:\n",
    "    prior450.upper_lim_map()"
   ]
  },
  {
   "cell_type": "markdown",
   "metadata": {
    "deletable": true,
    "editable": true
   },
   "source": [
    "Now fit using the interface to pystan"
   ]
  },
  {
   "cell_type": "code",
   "execution_count": 13,
   "metadata": {
    "collapsed": false,
    "deletable": true,
    "editable": true,
    "scrolled": true
   },
   "outputs": [
    {
     "name": "stdout",
     "output_type": "stream",
     "text": [
      "./XID+SCUBA2.pkl found. Reusing\n"
     ]
    }
   ],
   "source": [
    "from xidplus.stan_fit import SCUBA2\n",
    "\n",
    "if bands[\"850\"]:\n",
    "    fit850=SCUBA2.single_band(prior850,iter=1500)\n",
    "if bands[\"450\"]:\n",
    "    fit450=SCUBA2.single_band(prior450,iter=1500)\n"
   ]
  },
  {
   "cell_type": "markdown",
   "metadata": {
    "deletable": true,
    "editable": true
   },
   "source": [
    "Initialise the posterior class with the fit object from pystan, and save alongside the prior classes"
   ]
  },
  {
   "cell_type": "code",
   "execution_count": 14,
   "metadata": {
    "collapsed": false,
    "deletable": true,
    "editable": true
   },
   "outputs": [],
   "source": [
    "outfile=output_folder+'Tile_'+str(Tile)+'_'+str(order)+'_new.pkl'\n",
    "output = {}\n",
    "\n",
    "if bands[\"850\"]:\n",
    "    posterior850=xidplus.posterior_stan(fit850,[prior850])\n",
    "    output['850'] = {\"prior\":prior850, 'posterior':posterior850}\n",
    "\n",
    "if bands[\"450\"]:\n",
    "    posterior450=xidplus.posterior_stan(fit450,[prior450])\n",
    "    output['450'] = {\"prior\":prior450, 'posterior':posterior450}\n",
    "\n",
    "with open(outfile, 'wb') as f:\n",
    "    pickle.dump(output,f)"
   ]
  },
  {
   "cell_type": "code",
   "execution_count": null,
   "metadata": {
    "collapsed": true,
    "deletable": true,
    "editable": true
   },
   "outputs": [],
   "source": []
  }
 ],
 "metadata": {
  "celltoolbar": "Slideshow",
  "kernelspec": {
   "display_name": "Python 2",
   "language": "python",
   "name": "python2"
  },
  "language_info": {
   "codemirror_mode": {
    "name": "ipython",
    "version": 2
   },
   "file_extension": ".py",
   "mimetype": "text/x-python",
   "name": "python",
   "nbconvert_exporter": "python",
   "pygments_lexer": "ipython2",
   "version": "2.7.10"
  }
 },
 "nbformat": 4,
 "nbformat_minor": 0
}
