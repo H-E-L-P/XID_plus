{
 "metadata": {
  "name": "",
  "signature": "sha256:f0db128aaf3f5c3ea511b73a70e2c8f51f8eea455052a6e54877b7de17b2483b"
 },
 "nbformat": 3,
 "nbformat_minor": 0,
 "worksheets": [
  {
   "cells": [
    {
     "cell_type": "code",
     "collapsed": false,
     "input": [
      "import numpy as np\n",
      "import astropy\n",
      "from astropy.io import fits\n",
      "from astropy import wcs\n",
      "import proto_XIDp_mod as xid_mod\n",
      "import pylab as plt\n",
      "%matplotlib inline"
     ],
     "language": "python",
     "metadata": {},
     "outputs": [],
     "prompt_number": 1
    },
    {
     "cell_type": "code",
     "collapsed": false,
     "input": [
      "#Folder containing maps\n",
      "imfolder='/research/astrodata/fir/hermes/xid/XID_2014/SMAP_images_v4.2/' \n",
      "#field\n",
      "field='GOODS-S'\n",
      "#SMAP version\n",
      "SMAPv='4.2'\n"
     ],
     "language": "python",
     "metadata": {},
     "outputs": [],
     "prompt_number": 2
    },
    {
     "cell_type": "code",
     "collapsed": false,
     "input": [
      "pswfits=imfolder+field+'_image_250_SMAP_v'+SMAPv+'.fits'#SPIRE 250 map\n",
      "pmwfits=imfolder+field+'_image_350_SMAP_v'+SMAPv+'.fits'#SPIRE 350 map\n",
      "plwfits=imfolder+field+'_image_500_SMAP_v'+SMAPv+'.fits'#SPIRE 500 map"
     ],
     "language": "python",
     "metadata": {},
     "outputs": [],
     "prompt_number": 3
    },
    {
     "cell_type": "code",
     "collapsed": false,
     "input": [
      "#-----250-------------\n",
      "hdulist = fits.open(pswfits)\n",
      "im250=hdulist[1].data*1.0E3\n",
      "nim250=hdulist[2].data*1.0E3\n",
      "w_250 = wcs.WCS(hdulist[1].header)\n",
      "pixsize250=3600.0*w_250.wcs.cd[1,1] #pixel size (in arcseconds)\n",
      "hdulist.close()\n",
      "#-----350-------------\n",
      "hdulist = fits.open(pmwfits)\n",
      "im350=hdulist[1].data*1.0E3\n",
      "nim350=hdulist[2].data*1.0E3\n",
      "w_350 = wcs.WCS(hdulist[1].header)\n",
      "pixsize350=3600.0*w_350.wcs.cd[1,1] #pixel size (in arcseconds)\n",
      "hdulist.close()\n",
      "#-----500-------------\n",
      "hdulist = fits.open(plwfits)\n",
      "im500=hdulist[1].data*1.0E3\n",
      "nim500=hdulist[2].data*1.0E3\n",
      "w_500 = wcs.WCS(hdulist[1].header)\n",
      "pixsize500=3600.0*w_500.wcs.cd[1,1] #pixel size (in arcseconds)\n",
      "hdulist.close()"
     ],
     "language": "python",
     "metadata": {},
     "outputs": [],
     "prompt_number": 4
    },
    {
     "cell_type": "code",
     "collapsed": false,
     "input": [
      "#Folder containing prior input catalogue\n",
      "folder=\"/research/astrodata/fir/hermes/xid/XID_2014/goodss/\"\n",
      "#prior catalogue\n",
      "prior_cat=\"cat_prior_24_goodss.fits\"\n",
      "hdulist = fits.open(folder+prior_cat)\n",
      "fcat=hdulist[1].data\n",
      "hdulist.close()\n",
      "inra=fcat['RA_IRAC']\n",
      "indec=fcat['DEC_IRAC']\n",
      "nrealcat=fcat.size\n",
      "bkg250=-2.0\n",
      "bkg350=-2.0\n",
      "bkg500=-2.0"
     ],
     "language": "python",
     "metadata": {},
     "outputs": [],
     "prompt_number": 5
    },
    {
     "cell_type": "code",
     "collapsed": false,
     "input": [
      "sx250,sy250,sra,sdec,n_src,sgood=xid_mod.cat_check_convert(inra,indec,w_250) "
     ],
     "language": "python",
     "metadata": {},
     "outputs": [],
     "prompt_number": 6
    },
    {
     "cell_type": "code",
     "collapsed": false,
     "input": [
      "#get positions of sources in terms of pixels for other two maps\n",
      "sx350,sy350=w_350.wcs_world2pix(sra,sdec,0)#still not convinced about origin. is it 0 or 1\n",
      "sx500,sy500=w_500.wcs_world2pix(sra,sdec,0)#still not convinced about origin. is it 0 or 1"
     ],
     "language": "python",
     "metadata": {},
     "outputs": [],
     "prompt_number": 7
    },
    {
     "cell_type": "code",
     "collapsed": false,
     "input": [
      "#-----250-------------\n",
      "bad=np.logical_or(np.logical_or\n",
      "                  (np.invert(np.isfinite(im250)),\n",
      "                   np.invert(np.isfinite(nim250))),(nim250 == 0))\n",
      "if(bad.sum() >0):\n",
      "    im250[bad]=0.\n",
      "    nim250[bad]=1.\n",
      "#-----350-------------\n",
      "bad=np.logical_or(np.logical_or\n",
      "                  (np.invert(np.isfinite(im350)),\n",
      "                   np.invert(np.isfinite(nim350))),(nim350 == 0))\n",
      "if(bad.sum() >0):\n",
      "    im350[bad]=0.\n",
      "    nim350[bad]=1.\n",
      "#-----500-------------\n",
      "bad=np.logical_or(np.logical_or\n",
      "                  (np.invert(np.isfinite(im500)),\n",
      "                   np.invert(np.isfinite(nim500))),(nim500 == 0))\n",
      "if(bad.sum() >0):\n",
      "    im500[bad]=0.\n",
      "    nim500[bad]=1."
     ],
     "language": "python",
     "metadata": {},
     "outputs": [],
     "prompt_number": 8
    },
    {
     "cell_type": "markdown",
     "metadata": {},
     "source": [
      "Load up High Z sources for stacking"
     ]
    },
    {
     "cell_type": "code",
     "collapsed": false,
     "input": [
      "#Folder containing prior input catalogue\n",
      "folder=\"'/research/astro/fir/HELP/high_z/\"\n",
      "#prior catalogue\n",
      "prior_cat=\"ZSOUTHDEEP.fits\"\n",
      "hdulist = fits.open(folder+prior_cat)\n",
      "fcat_z=hdulist[1].data\n",
      "hdulist.close()\n",
      "inra_z=fcat_z['RA']\n",
      "indec_z=fcat_z['DEC']\n",
      "nrealcat_z=fcat.size"
     ],
     "language": "python",
     "metadata": {},
     "outputs": [],
     "prompt_number": 9
    },
    {
     "cell_type": "code",
     "collapsed": false,
     "input": [
      "sx250_z,sy250_z,sra_z,sdec_z,n_src_z,sgood_z=xid_mod.cat_check_convert(inra_z,indec_z,w_250)"
     ],
     "language": "python",
     "metadata": {},
     "outputs": [],
     "prompt_number": 10
    },
    {
     "cell_type": "markdown",
     "metadata": {},
     "source": [
      "Sort out PRF"
     ]
    },
    {
     "cell_type": "code",
     "collapsed": false,
     "input": [
      "#pixsize array (size of pixels in arcseconds)\n",
      "pixsize=np.array([pixsize250,pixsize350,pixsize500])\n",
      "#point response function for the three bands\n",
      "prfsize=np.array([18.15,25.15,36.3])\n",
      "#set fwhm of prfs in terms of pixels\n",
      "pfwhm=prfsize/pixsize\n",
      "#set size of prf array (in pixels)\n",
      "paxis=[13,13]\n",
      "#use Gaussian2DKernel to create prf (requires stddev rather than fwhm hence pfwhm/2.355)\n",
      "from astropy.convolution import Gaussian2DKernel\n",
      "\n",
      "prf250=Gaussian2DKernel(pfwhm[0]/2.355,x_size=paxis[0],y_size=paxis[1])\n",
      "prf250.normalize(mode='peak')\n",
      "prf350=Gaussian2DKernel(pfwhm[1]/2.355,x_size=paxis[0],y_size=paxis[1])\n",
      "prf350.normalize(mode='peak')\n",
      "prf500=Gaussian2DKernel(pfwhm[2]/2.355,x_size=paxis[0],y_size=paxis[1])\n",
      "prf500.normalize(mode='peak')"
     ],
     "language": "python",
     "metadata": {},
     "outputs": [],
     "prompt_number": 11
    },
    {
     "cell_type": "code",
     "collapsed": false,
     "input": [
      "sx250_tot=np.append(sx250,sx250_z)\n",
      "sy250_tot=np.append(sy250,sy250_z)"
     ],
     "language": "python",
     "metadata": {},
     "outputs": [],
     "prompt_number": 12
    },
    {
     "cell_type": "code",
     "collapsed": false,
     "input": [
      "x_pix,y_pix=np.meshgrid(np.arange(0,w_250._naxis1),np.arange(0,w_250._naxis2))\n"
     ],
     "language": "python",
     "metadata": {},
     "outputs": [],
     "prompt_number": 13
    },
    {
     "cell_type": "code",
     "collapsed": false,
     "input": [
      "#get pointing matrix\n",
      "amat_data,amat_row,amat_col,A,sx_pix,sy_pix,snoisy_map,ssig_map,snsrc,snpix=xid_mod.lstdrv_initsolveSP(sx250_tot\n",
      "                                                                                                   ,sy250_tot,prf250,im250,nim250,x_pix,y_pix)"
     ],
     "language": "python",
     "metadata": {},
     "outputs": [],
     "prompt_number": 14
    },
    {
     "cell_type": "code",
     "collapsed": false,
     "input": [
      "fit_data,chains,iter=xid_mod.lstdrv_stan_highz(amat_data,amat_row,amat_col,snoisy_map,ssig_map,n_src,n_src_z,snpix,bkg250,3.0)"
     ],
     "language": "python",
     "metadata": {},
     "outputs": [
      {
       "output_type": "stream",
       "stream": "stdout",
       "text": [
        "./XID+highz.pkl not found. Compiling\n"
       ]
      }
     ]
    },
    {
     "cell_type": "code",
     "collapsed": false,
     "input": [
      "output_folder='/research/astro/fir/HELP/XID_plus_output/'\n",
      "outfile=output_folder+'goodss_highz_fit.pkl'\n",
      "with open(outfile, 'wb') as f:\n",
      "            pickle.dump({'A':A,'chains':fit_data,'x_pix':sx_pix,'y_pix':sy_pix,'sig_pix':snoisy_map,'im_pix':ssig_map,'snsrc':snsrc,'snpix':snpix}, f)"
     ],
     "language": "python",
     "metadata": {},
     "outputs": []
    }
   ],
   "metadata": {}
  }
 ]
}