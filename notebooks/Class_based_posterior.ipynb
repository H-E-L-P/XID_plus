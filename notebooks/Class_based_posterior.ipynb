{
 "metadata": {
  "name": "",
  "signature": "sha256:2f1d3ba270c2276f23325e2a19a2b86e751140db10ed80181a10ffda0c29e050"
 },
 "nbformat": 3,
 "nbformat_minor": 0,
 "worksheets": [
  {
   "cells": [
    {
     "cell_type": "code",
     "collapsed": false,
     "input": [
      "field='COSMOS'\n",
      "import pickle\n",
      "import numpy as np\n",
      "import pylab as plt\n",
      "%matplotlib inline\n",
      "obj=pickle.load(open('../XID_plus_output/XID+_'+field+'_obj.pkl', 'rb'))"
     ],
     "language": "python",
     "metadata": {},
     "outputs": [],
     "prompt_number": 1
    },
    {
     "cell_type": "code",
     "collapsed": false,
     "input": [
      "fit_d=obj['chains']"
     ],
     "language": "python",
     "metadata": {},
     "outputs": [],
     "prompt_number": 2
    },
    {
     "cell_type": "code",
     "collapsed": false,
     "input": [
      "print fit_d.shape"
     ],
     "language": "python",
     "metadata": {},
     "outputs": [
      {
       "output_type": "stream",
       "stream": "stdout",
       "text": [
        "(500, 4, 2941)\n"
       ]
      }
     ],
     "prompt_number": 3
    },
    {
     "cell_type": "code",
     "collapsed": false,
     "input": [
      "class posterior_stan(object):\n",
      "    def __init__(self,stan_fit,nsrc):\n",
      "        self.stan_fit=stan_fit\n",
      "        self.nsrc=nsrc\n",
      "    \n",
      "    def convergence_stats(self):\n",
      "        #function to calculate the between and within-sequence variance,\n",
      "        #marginal posterior variance, and R\n",
      "        #for one parameter, as described in DAT,sec 11.4\n",
      "        #(function will split each chain into two)\n",
      "        #chain is a n,m array, n=number of iterations,m=number of chains\n",
      "        #chain should not include warmup\n",
      "        #will return B,W,var_psi_y,R\n",
      "        R=np.array([])\n",
      "        n,m,s=self.stan_fit.shape\n",
      "        for i in range(0,s):\n",
      "            n_2=n/2.0\n",
      "            psi_j=np.empty((2*m))\n",
      "            s2_j=np.empty((2*m))\n",
      "            for j in range(0,m):\n",
      "                psi_j[j]=np.mean(self.stan_fit[0:n/2.0,j,i])\n",
      "                psi_j[j+m]=np.mean(self.stan_fit[n/2.0:,j,i])\n",
      "                #print np.power(chain[0:n/2.0,j]-psi_j[j],2)\n",
      "                #print np.power(chain[n/2.0:,j]-psi_j[j+m],2)\n",
      "                s2_j[j]=(1.0/((n/2.0)-1))*np.sum(np.power(self.stan_fit[0:n/2.0,j,i]-psi_j[j],2))\n",
      "                s2_j[j+m]=(1.0/((n/2.0)-1))*np.sum(np.power(self.stan_fit[n/2.0:,j,i]-psi_j[j+m],2))\n",
      "\n",
      "            psi=np.mean(psi_j)\n",
      "            B=((n/2.0)/(2.0*m-1))*np.sum(np.power(psi_j-psi,2))\n",
      "            W=np.mean(s2_j)\n",
      "            var_psi_y=(((n_2-1)/n_2)*W)\n",
      "            R=np.append(R,np.power(var_psi_y/W,0.5))\n",
      "        return R\n",
      "    \n",
      "    # define a function to get percentile for a particular parameter\n",
      "    def quantileGet(self,q):\n",
      "        chains,iter,nparam=self.stan_fit.shape\n",
      "        param=self.stan_fit.reshape((chains*iter,nparam))\n",
      "        #q is quantile\n",
      "        #param is array (nsamples,nparameters)\n",
      "        # make a list to store the quantiles\n",
      "        quants = []\n",
      " \n",
      "        # for every predicted value\n",
      "        for i in range(param.shape[1]):\n",
      "            # make a vector to store the predictions from each chain\n",
      "            val = []\n",
      " \n",
      "            # next go down the rows and store the values\n",
      "            for j in range(param.shape[0]):\n",
      "                val.append(param[j,i])\n",
      " \n",
      "            # return the quantile for the predictions.\n",
      "            quants.append(np.percentile(val, q))\n",
      " \n",
      "        return.quants=quants\n",
      "    \n",
      "    def covariance_sparse(self,threshold=0.1):\n",
      "        chains,iter,nparam=self.stan_fit.shape\n",
      "        ij=np.append(np.arange(0,self.nsrc+1),[np.arange(0,self.nsrc+1),np.arange(0,self.nsrc+1)])\n",
      "        bb=np.append(np.full(self.nsrc+1,0),[np.full(self.nsrc+1,1),np.full(self.nsrc+1,2)])\n",
      "        ij_cov=np.meshgrid(ij,ij)\n",
      "        bb_cov=np.meshgrid(bb,bb)\n",
      "        cov=np.cov(self.stan_fit.reshape((chains*iter,nparam)).T)\n",
      "        index=np.abs(cov)>threshold\n",
      "        print ij_cov[index]\n",
      "        XID_i,XID_j=ij_cov[index]\n",
      "        Band_k,Band_l=bb_cov[index]\n",
      "        sigma_i_j_k_l=cov[index]\n",
      "        index_dup=XID_i >= XID_j & Band_k >= Band_l\n",
      "        return XID_i[index_dup],XID_j[index_dup],Band_k[index_dup],Band_l[index_dup]\n",
      "\n",
      "        "
     ],
     "language": "python",
     "metadata": {},
     "outputs": [],
     "prompt_number": 12
    },
    {
     "cell_type": "code",
     "collapsed": false,
     "input": [
      "post=posterior_stan(fit_d,2939)"
     ],
     "language": "python",
     "metadata": {},
     "outputs": [],
     "prompt_number": 13
    },
    {
     "cell_type": "code",
     "collapsed": false,
     "input": [
      "post.nsrc"
     ],
     "language": "python",
     "metadata": {},
     "outputs": [
      {
       "metadata": {},
       "output_type": "pyout",
       "prompt_number": 14,
       "text": [
        "2939"
       ]
      }
     ],
     "prompt_number": 14
    },
    {
     "cell_type": "code",
     "collapsed": false,
     "input": [
      "print post.covariance_sparse(threshold=0.3)"
     ],
     "language": "python",
     "metadata": {},
     "outputs": [
      {
       "ename": "TypeError",
       "evalue": "only integer arrays with one element can be converted to an index",
       "output_type": "pyerr",
       "traceback": [
        "\u001b[0;31m---------------------------------------------------------------------------\u001b[0m\n\u001b[0;31mTypeError\u001b[0m                                 Traceback (most recent call last)",
        "\u001b[0;32m<ipython-input-11-5ddf69491374>\u001b[0m in \u001b[0;36m<module>\u001b[0;34m()\u001b[0m\n\u001b[0;32m----> 1\u001b[0;31m \u001b[0;32mprint\u001b[0m \u001b[0mpost\u001b[0m\u001b[0;34m.\u001b[0m\u001b[0mcovariance_sparse\u001b[0m\u001b[0;34m(\u001b[0m\u001b[0mthreshold\u001b[0m\u001b[0;34m=\u001b[0m\u001b[0;36m0.3\u001b[0m\u001b[0;34m)\u001b[0m\u001b[0;34m\u001b[0m\u001b[0m\n\u001b[0m",
        "\u001b[0;32m<ipython-input-8-ec2491936c23>\u001b[0m in \u001b[0;36mcovariance_sparse\u001b[0;34m(self, threshold)\u001b[0m\n\u001b[1;32m     64\u001b[0m         \u001b[0mcov\u001b[0m\u001b[0;34m=\u001b[0m\u001b[0mnp\u001b[0m\u001b[0;34m.\u001b[0m\u001b[0mcov\u001b[0m\u001b[0;34m(\u001b[0m\u001b[0mself\u001b[0m\u001b[0;34m.\u001b[0m\u001b[0mstan_fit\u001b[0m\u001b[0;34m.\u001b[0m\u001b[0mreshape\u001b[0m\u001b[0;34m(\u001b[0m\u001b[0;34m(\u001b[0m\u001b[0mchains\u001b[0m\u001b[0;34m*\u001b[0m\u001b[0miter\u001b[0m\u001b[0;34m,\u001b[0m\u001b[0mnparam\u001b[0m\u001b[0;34m)\u001b[0m\u001b[0;34m)\u001b[0m\u001b[0;34m.\u001b[0m\u001b[0mT\u001b[0m\u001b[0;34m)\u001b[0m\u001b[0;34m\u001b[0m\u001b[0m\n\u001b[1;32m     65\u001b[0m         \u001b[0mindex\u001b[0m\u001b[0;34m=\u001b[0m\u001b[0mnp\u001b[0m\u001b[0;34m.\u001b[0m\u001b[0mabs\u001b[0m\u001b[0;34m(\u001b[0m\u001b[0mcov\u001b[0m\u001b[0;34m)\u001b[0m\u001b[0;34m>\u001b[0m\u001b[0mthreshold\u001b[0m\u001b[0;34m\u001b[0m\u001b[0m\n\u001b[0;32m---> 66\u001b[0;31m         \u001b[0;32mprint\u001b[0m \u001b[0mij_cov\u001b[0m\u001b[0;34m[\u001b[0m\u001b[0mindex\u001b[0m\u001b[0;34m]\u001b[0m\u001b[0;34m\u001b[0m\u001b[0m\n\u001b[0m\u001b[1;32m     67\u001b[0m         \u001b[0mXID_i\u001b[0m\u001b[0;34m,\u001b[0m\u001b[0mXID_j\u001b[0m\u001b[0;34m=\u001b[0m\u001b[0mij_cov\u001b[0m\u001b[0;34m[\u001b[0m\u001b[0mindex\u001b[0m\u001b[0;34m]\u001b[0m\u001b[0;34m\u001b[0m\u001b[0m\n\u001b[1;32m     68\u001b[0m         \u001b[0mBand_k\u001b[0m\u001b[0;34m,\u001b[0m\u001b[0mBand_l\u001b[0m\u001b[0;34m=\u001b[0m\u001b[0mbb_cov\u001b[0m\u001b[0;34m[\u001b[0m\u001b[0mindex\u001b[0m\u001b[0;34m]\u001b[0m\u001b[0;34m\u001b[0m\u001b[0m\n",
        "\u001b[0;31mTypeError\u001b[0m: only integer arrays with one element can be converted to an index"
       ]
      }
     ],
     "prompt_number": 11
    },
    {
     "cell_type": "code",
     "collapsed": false,
     "input": [
      "print np.full(10,2)"
     ],
     "language": "python",
     "metadata": {},
     "outputs": [
      {
       "output_type": "stream",
       "stream": "stdout",
       "text": [
        "[ 2.  2.  2.  2.  2.  2.  2.  2.  2.  2.]\n"
       ]
      }
     ],
     "prompt_number": 17
    },
    {
     "cell_type": "code",
     "collapsed": false,
     "input": [
      "x,y=np.meshgrid(np.arange(0,10),np.arange(0,10))\n",
      "ind=(x > 4) & (y > 3)\n",
      "print x[ind]"
     ],
     "language": "python",
     "metadata": {},
     "outputs": [
      {
       "output_type": "stream",
       "stream": "stdout",
       "text": [
        "[5 6 7 8 9 5 6 7 8 9 5 6 7 8 9 5 6 7 8 9 5 6 7 8 9 5 6 7 8 9]\n"
       ]
      }
     ],
     "prompt_number": 21
    },
    {
     "cell_type": "code",
     "collapsed": false,
     "input": [],
     "language": "python",
     "metadata": {},
     "outputs": []
    }
   ],
   "metadata": {}
  }
 ]
}