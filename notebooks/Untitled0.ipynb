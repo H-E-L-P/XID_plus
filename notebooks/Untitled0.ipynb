{
 "metadata": {
  "name": "",
  "signature": "sha256:76d9b202a727318813160bc64bddd49c0dcb2f7e8fd5afa43d82d7fff26e232a"
 },
 "nbformat": 3,
 "nbformat_minor": 0,
 "worksheets": [
  {
   "cells": [
    {
     "cell_type": "code",
     "collapsed": false,
     "input": [
      "from astropy.io import fits\n",
      "import numpy as np\n",
      "#Folder containing prior input catalogue\n",
      "folder=\"/Users/pdh21/astrodata/COSMOS/\"\n",
      "#prior catalogue\n",
      "prior_cat=\"mod_cosmos-xid-pepprior-0512.fits\"\n",
      "hdulist = fits.open(folder+prior_cat)\n"
     ],
     "language": "python",
     "metadata": {},
     "outputs": [],
     "prompt_number": 17
    },
    {
     "cell_type": "code",
     "collapsed": false,
     "input": [
      "tbdata = hdulist[1].data # assuming the first extension is a table"
     ],
     "language": "python",
     "metadata": {},
     "outputs": [],
     "prompt_number": 18
    },
    {
     "cell_type": "code",
     "collapsed": false,
     "input": [
      "cols = hdulist[1].columns\n",
      "cols.info()"
     ],
     "language": "python",
     "metadata": {},
     "outputs": [
      {
       "output_type": "stream",
       "stream": "stdout",
       "text": [
        "name:\n",
        "    ['ID', 'RA_J2000', 'DEC_J2000', 'FLUX_24MIC', 'FLUX_ERR', 'XID', 'INRA', 'INDEC', 'F250', 'E250', 'ET250', 'CHI250', 'F350', 'E350', 'ET350', 'CHI350', 'F500', 'E500', 'ET500', 'CHI500', 'GID', 'GSIZE', 'BKG250', 'BKG350', 'BKG500']\n",
        "format:\n",
        "    ['J', 'D', 'D', 'E', 'E', 'J', 'D', 'D', 'E', 'E', 'E', 'E', 'E', 'E', 'E', 'E', 'E', 'E', 'E', 'E', 'J', 'I', 'E', 'E', 'E']\n",
        "unit:\n",
        "    ['', '', '', '', '', '', '', '', '', '', '', '', '', '', '', '', '', '', '', '', '', '', '', '', '']\n",
        "null:\n",
        "    ['', '', '', '', '', '', '', '', '', '', '', '', '', '', '', '', '', '', '', '', '', '', '', '', '']\n",
        "bscale:\n",
        "    ['', '', '', '', '', '', '', '', '', '', '', '', '', '', '', '', '', '', '', '', '', '', '', '', '']\n",
        "bzero:\n",
        "    ['', '', '', '', '', '', '', '', '', '', '', '', '', '', '', '', '', '', '', '', '', '', '', '', '']\n",
        "disp:\n",
        "    ['', '', '', '', '', '', '', '', '', '', '', '', '', '', '', '', '', '', '', '', '', '', '', '', '']\n",
        "start:\n",
        "    ['', '', '', '', '', '', '', '', '', '', '', '', '', '', '', '', '', '', '', '', '', '', '', '', '']\n",
        "dim:\n",
        "    ['', '', '', '', '', '', '', '', '', '', '', '', '', '', '', '', '', '', '', '', '', '', '', '', '']\n"
       ]
      }
     ],
     "prompt_number": 19
    },
    {
     "cell_type": "code",
     "collapsed": false,
     "input": [
      "dir(cols)\n",
      "cols.__add__"
     ],
     "language": "python",
     "metadata": {},
     "outputs": [
      {
       "metadata": {},
       "output_type": "pyout",
       "prompt_number": 20,
       "text": [
        "<bound method ColDefs.__add__ of ColDefs(\n",
        "    name = 'ID'; format = 'J'\n",
        "    name = 'RA_J2000'; format = 'D'\n",
        "    name = 'DEC_J2000'; format = 'D'\n",
        "    name = 'FLUX_24MIC'; format = 'E'\n",
        "    name = 'FLUX_ERR'; format = 'E'\n",
        "    name = 'XID'; format = 'J'\n",
        "    name = 'INRA'; format = 'D'\n",
        "    name = 'INDEC'; format = 'D'\n",
        "    name = 'F250'; format = 'E'\n",
        "    name = 'E250'; format = 'E'\n",
        "    name = 'ET250'; format = 'E'\n",
        "    name = 'CHI250'; format = 'E'\n",
        "    name = 'F350'; format = 'E'\n",
        "    name = 'E350'; format = 'E'\n",
        "    name = 'ET350'; format = 'E'\n",
        "    name = 'CHI350'; format = 'E'\n",
        "    name = 'F500'; format = 'E'\n",
        "    name = 'E500'; format = 'E'\n",
        "    name = 'ET500'; format = 'E'\n",
        "    name = 'CHI500'; format = 'E'\n",
        "    name = 'GID'; format = 'J'\n",
        "    name = 'GSIZE'; format = 'I'\n",
        "    name = 'BKG250'; format = 'E'\n",
        "    name = 'BKG350'; format = 'E'\n",
        "    name = 'BKG500'; format = 'E'\n",
        ")>"
       ]
      }
     ],
     "prompt_number": 20
    },
    {
     "cell_type": "code",
     "collapsed": false,
     "input": [
      "counts = np.array([312, 334, 308, 317])\n",
      "names = np.array(['NGC1', 'NGC2', 'NGC3', 'NGC4'])\n",
      "c1 = fits.Column(name='target', format='10A', array=names)\n",
      "c2 = fits.Column(name='counts', format='J', unit='DN', array=counts)\n",
      "c3 = fits.Column(name='notes', format='A10')\n",
      "c4 = fits.Column(name='spectrum', format='1000E')\n",
      "c5 = fits.Column(name='flag', format='L', array=[1, 0, 1, 1])\n",
      "tbhdu = fits.new_table([c1, c2, c3, c4, c5])"
     ],
     "language": "python",
     "metadata": {},
     "outputs": [
      {
       "output_type": "stream",
       "stream": "stderr",
       "text": [
        "WARNING: AstropyDeprecationWarning: The new_table function is deprecated and may be removed in a future version.\n",
        "        Use :meth:`BinTableHDU.from_columns` for new BINARY tables or :meth:`TableHDU.from_columns` for new ASCII tables instead. [astropy.utils.misc]\n",
        "WARNING:astropy:AstropyDeprecationWarning: The new_table function is deprecated and may be removed in a future version.\n",
        "        Use :meth:`BinTableHDU.from_columns` for new BINARY tables or :meth:`TableHDU.from_columns` for new ASCII tables instead.\n"
       ]
      }
     ],
     "prompt_number": 22
    },
    {
     "cell_type": "code",
     "collapsed": false,
     "input": [
      "tbhdu.header"
     ],
     "language": "python",
     "metadata": {},
     "outputs": [
      {
       "metadata": {},
       "output_type": "pyout",
       "prompt_number": 24,
       "text": [
        "XTENSION= 'BINTABLE'           / binary table extension                         \n",
        "BITPIX  =                    8 / array data type                                \n",
        "NAXIS   =                    2 / number of array dimensions                     \n",
        "NAXIS1  =                 4025 / length of dimension 1                          \n",
        "NAXIS2  =                    4 / length of dimension 2                          \n",
        "PCOUNT  =                    0 / number of group parameters                     \n",
        "GCOUNT  =                    1 / number of groups                               \n",
        "TFIELDS =                    5 / number of table fields                         \n",
        "TTYPE1  = 'target  '                                                            \n",
        "TFORM1  = '10A     '                                                            \n",
        "TTYPE2  = 'counts  '                                                            \n",
        "TFORM2  = 'J       '                                                            \n",
        "TUNIT2  = 'DN      '                                                            \n",
        "TTYPE3  = 'notes   '                                                            \n",
        "TFORM3  = '10A     '                                                            \n",
        "TTYPE4  = 'spectrum'                                                            \n",
        "TFORM4  = '1000E   '                                                            \n",
        "TTYPE5  = 'flag    '                                                            \n",
        "TFORM5  = 'L       '                                                            "
       ]
      }
     ],
     "prompt_number": 24
    },
    {
     "cell_type": "code",
     "collapsed": false,
     "input": [
      "dir(tbhdu.header)"
     ],
     "language": "python",
     "metadata": {},
     "outputs": [
      {
       "metadata": {},
       "output_type": "pyout",
       "prompt_number": 25,
       "text": [
        "['__add__',\n",
        " '__class__',\n",
        " '__contains__',\n",
        " '__delattr__',\n",
        " '__delitem__',\n",
        " '__dict__',\n",
        " '__doc__',\n",
        " '__eq__',\n",
        " '__format__',\n",
        " '__getattribute__',\n",
        " '__getitem__',\n",
        " '__hash__',\n",
        " '__iadd__',\n",
        " '__init__',\n",
        " '__iter__',\n",
        " '__len__',\n",
        " '__module__',\n",
        " '__new__',\n",
        " '__reduce__',\n",
        " '__reduce_ex__',\n",
        " '__repr__',\n",
        " '__setattr__',\n",
        " '__setitem__',\n",
        " '__sizeof__',\n",
        " '__str__',\n",
        " '__subclasshook__',\n",
        " '__weakref__',\n",
        " '_add_commentary',\n",
        " '_cardindex',\n",
        " '_cards',\n",
        " '_countblanks',\n",
        " '_find_end_card',\n",
        " '_from_blocks',\n",
        " '_haswildcard',\n",
        " '_keyword_from_index',\n",
        " '_keyword_indices',\n",
        " '_modified',\n",
        " '_relativeinsert',\n",
        " '_rvkc_indices',\n",
        " '_set_slice',\n",
        " '_splitcommentary',\n",
        " '_strip',\n",
        " '_update',\n",
        " '_updateindices',\n",
        " '_useblanks',\n",
        " '_wildcardmatch',\n",
        " 'add_blank',\n",
        " 'add_comment',\n",
        " 'add_history',\n",
        " 'append',\n",
        " 'ascard',\n",
        " 'cards',\n",
        " 'clear',\n",
        " 'comments',\n",
        " 'copy',\n",
        " 'count',\n",
        " 'extend',\n",
        " 'fromTxtFile',\n",
        " 'fromfile',\n",
        " 'fromkeys',\n",
        " 'fromstring',\n",
        " 'fromtextfile',\n",
        " 'get',\n",
        " 'get_comment',\n",
        " 'get_history',\n",
        " 'index',\n",
        " 'insert',\n",
        " 'items',\n",
        " 'iteritems',\n",
        " 'iterkeys',\n",
        " 'itervalues',\n",
        " 'keys',\n",
        " 'pop',\n",
        " 'popitem',\n",
        " 'remove',\n",
        " 'rename_key',\n",
        " 'rename_keyword',\n",
        " 'set',\n",
        " 'setdefault',\n",
        " 'toTxtFile',\n",
        " 'tofile',\n",
        " 'tostring',\n",
        " 'totextfile',\n",
        " 'update',\n",
        " 'values']"
       ]
      }
     ],
     "prompt_number": 25
    },
    {
     "cell_type": "code",
     "collapsed": false,
     "input": [
      "tbhdu.header.add_blank('TUCD2',after='TFORM2')"
     ],
     "language": "python",
     "metadata": {},
     "outputs": [],
     "prompt_number": 31
    },
    {
     "cell_type": "code",
     "collapsed": false,
     "input": [
      "tbhdu.header"
     ],
     "language": "python",
     "metadata": {},
     "outputs": [
      {
       "metadata": {},
       "output_type": "pyout",
       "prompt_number": 32,
       "text": [
        "XTENSION= 'BINTABLE'           / binary table extension                         \n",
        "BITPIX  =                    8 / array data type                                \n",
        "NAXIS   =                    2 / number of array dimensions                     \n",
        "NAXIS1  =                 4025 / length of dimension 1                          \n",
        "NAXIS2  =                    4 / length of dimension 2                          \n",
        "PCOUNT  =                    0 / number of group parameters                     \n",
        "GCOUNT  =                    1 / number of groups                               \n",
        "TFIELDS =                    5 / number of table fields                         \n",
        "TTYPE1  = 'target  '                                                            \n",
        "TFORM1  = '10A     '                                                            \n",
        "TTYPE2  = 'counts  '                                                            \n",
        "TFORM2  = 'J       '                                                            \n",
        "        TUCD2                                                                   \n",
        "TUNIT2  = 'DN      '                                                            \n",
        "TTYPE3  = 'notes   '                                                            \n",
        "TFORM3  = '10A     '                                                            \n",
        "TTYPE4  = 'spectrum'                                                            \n",
        "TFORM4  = '1000E   '                                                            \n",
        "TTYPE5  = 'flag    '                                                            \n",
        "TFORM5  = 'L       '                                                            \n",
        "COMMENT bonjour                                                                 "
       ]
      }
     ],
     "prompt_number": 32
    },
    {
     "cell_type": "code",
     "collapsed": false,
     "input": [
      "tbhdu.header.cards[12].keyword"
     ],
     "language": "python",
     "metadata": {},
     "outputs": [
      {
       "metadata": {},
       "output_type": "pyout",
       "prompt_number": 41,
       "text": [
        "''"
       ]
      }
     ],
     "prompt_number": 41
    },
    {
     "cell_type": "code",
     "collapsed": false,
     "input": [
      "tbhdu.header.rename_keyword('','TDESC2')"
     ],
     "language": "python",
     "metadata": {},
     "outputs": [
      {
       "ename": "ValueError",
       "evalue": "Regular and commentary keys can not be renamed to each other.",
       "output_type": "pyerr",
       "traceback": [
        "\u001b[0;31m---------------------------------------------------------------------------\u001b[0m\n\u001b[0;31mValueError\u001b[0m                                Traceback (most recent call last)",
        "\u001b[0;32m<ipython-input-50-901211b6df68>\u001b[0m in \u001b[0;36m<module>\u001b[0;34m()\u001b[0m\n\u001b[0;32m----> 1\u001b[0;31m \u001b[0mtbhdu\u001b[0m\u001b[0;34m.\u001b[0m\u001b[0mheader\u001b[0m\u001b[0;34m.\u001b[0m\u001b[0mrename_keyword\u001b[0m\u001b[0;34m(\u001b[0m\u001b[0;34m''\u001b[0m\u001b[0;34m,\u001b[0m\u001b[0;34m'TDESC2'\u001b[0m\u001b[0;34m)\u001b[0m\u001b[0;34m\u001b[0m\u001b[0m\n\u001b[0m",
        "\u001b[0;32m/usr/local/lib/python2.7/site-packages/astropy/io/fits/header.pyc\u001b[0m in \u001b[0;36mrename_keyword\u001b[0;34m(self, oldkeyword, newkeyword, force)\u001b[0m\n\u001b[1;32m   1572\u001b[0m             if not (newkeyword in Card._commentary_keywords and\n\u001b[1;32m   1573\u001b[0m                     oldkeyword in Card._commentary_keywords):\n\u001b[0;32m-> 1574\u001b[0;31m                 raise ValueError('Regular and commentary keys can not be '\n\u001b[0m\u001b[1;32m   1575\u001b[0m                                  'renamed to each other.')\n\u001b[1;32m   1576\u001b[0m         \u001b[0;32melif\u001b[0m \u001b[0;32mnot\u001b[0m \u001b[0mforce\u001b[0m \u001b[0;32mand\u001b[0m \u001b[0mnewkeyword\u001b[0m \u001b[0;32min\u001b[0m \u001b[0mself\u001b[0m\u001b[0;34m:\u001b[0m\u001b[0;34m\u001b[0m\u001b[0m\n",
        "\u001b[0;31mValueError\u001b[0m: Regular and commentary keys can not be renamed to each other."
       ]
      }
     ],
     "prompt_number": 50
    },
    {
     "cell_type": "code",
     "collapsed": false,
     "input": [
      "tbhdu.header.set('TUCD2','pos.eq.DEC',after=12)                         "
     ],
     "language": "python",
     "metadata": {},
     "outputs": [],
     "prompt_number": 64
    },
    {
     "cell_type": "code",
     "collapsed": false,
     "input": [
      "dir(tbhdu.header)"
     ],
     "language": "python",
     "metadata": {},
     "outputs": [
      {
       "metadata": {},
       "output_type": "pyout",
       "prompt_number": 65,
       "text": [
        "['__add__',\n",
        " '__class__',\n",
        " '__contains__',\n",
        " '__delattr__',\n",
        " '__delitem__',\n",
        " '__dict__',\n",
        " '__doc__',\n",
        " '__eq__',\n",
        " '__format__',\n",
        " '__getattribute__',\n",
        " '__getitem__',\n",
        " '__hash__',\n",
        " '__iadd__',\n",
        " '__init__',\n",
        " '__iter__',\n",
        " '__len__',\n",
        " '__module__',\n",
        " '__new__',\n",
        " '__reduce__',\n",
        " '__reduce_ex__',\n",
        " '__repr__',\n",
        " '__setattr__',\n",
        " '__setitem__',\n",
        " '__sizeof__',\n",
        " '__str__',\n",
        " '__subclasshook__',\n",
        " '__weakref__',\n",
        " '_add_commentary',\n",
        " '_cardindex',\n",
        " '_cards',\n",
        " '_countblanks',\n",
        " '_find_end_card',\n",
        " '_from_blocks',\n",
        " '_haswildcard',\n",
        " '_keyword_from_index',\n",
        " '_keyword_indices',\n",
        " '_modified',\n",
        " '_relativeinsert',\n",
        " '_rvkc_indices',\n",
        " '_set_slice',\n",
        " '_splitcommentary',\n",
        " '_strip',\n",
        " '_update',\n",
        " '_updateindices',\n",
        " '_useblanks',\n",
        " '_wildcardmatch',\n",
        " 'add_blank',\n",
        " 'add_comment',\n",
        " 'add_history',\n",
        " 'append',\n",
        " 'ascard',\n",
        " 'cards',\n",
        " 'clear',\n",
        " 'comments',\n",
        " 'copy',\n",
        " 'count',\n",
        " 'extend',\n",
        " 'fromTxtFile',\n",
        " 'fromfile',\n",
        " 'fromkeys',\n",
        " 'fromstring',\n",
        " 'fromtextfile',\n",
        " 'get',\n",
        " 'get_comment',\n",
        " 'get_history',\n",
        " 'index',\n",
        " 'insert',\n",
        " 'items',\n",
        " 'iteritems',\n",
        " 'iterkeys',\n",
        " 'itervalues',\n",
        " 'keys',\n",
        " 'pop',\n",
        " 'popitem',\n",
        " 'remove',\n",
        " 'rename_key',\n",
        " 'rename_keyword',\n",
        " 'set',\n",
        " 'setdefault',\n",
        " 'toTxtFile',\n",
        " 'tofile',\n",
        " 'tostring',\n",
        " 'totextfile',\n",
        " 'update',\n",
        " 'values']"
       ]
      }
     ],
     "prompt_number": 65
    },
    {
     "cell_type": "code",
     "collapsed": false,
     "input": [
      "tbhdu.header"
     ],
     "language": "python",
     "metadata": {},
     "outputs": [
      {
       "metadata": {},
       "output_type": "pyout",
       "prompt_number": 67,
       "text": [
        "XTENSION= 'BINTABLE'           / binary table extension                         \n",
        "BITPIX  =                    8 / array data type                                \n",
        "NAXIS   =                    2 / number of array dimensions                     \n",
        "NAXIS1  =                 4025 / length of dimension 1                          \n",
        "NAXIS2  =                    4 / length of dimension 2                          \n",
        "PCOUNT  =                    0 / number of group parameters                     \n",
        "GCOUNT  =                    1 / number of groups                               \n",
        "TFIELDS =                    5 / number of table fields                         \n",
        "TTYPE1  = 'target  '                                                            \n",
        "TFORM1  = '10A     '                                                            \n",
        "TTYPE2  = 'counts  '                                                            \n",
        "TFORM2  = 'J       '                                                            \n",
        "        TUCD2                                                                   \n",
        "TUCD2   = 'pos.eq.DEC'         / 12                                             \n",
        "TUNIT2  = 'DN      '                                                            \n",
        "TTYPE3  = 'notes   '                                                            \n",
        "TFORM3  = '10A     '                                                            \n",
        "TTYPE4  = 'spectrum'                                                            \n",
        "TFORM4  = '1000E   '                                                            \n",
        "TTYPE5  = 'flag    '                                                            \n",
        "TFORM5  = 'L       '                                                            \n",
        "COMMENT bonjour                                                                 "
       ]
      }
     ],
     "prompt_number": 67
    },
    {
     "cell_type": "code",
     "collapsed": false,
     "input": [],
     "language": "python",
     "metadata": {},
     "outputs": []
    }
   ],
   "metadata": {}
  }
 ]
}