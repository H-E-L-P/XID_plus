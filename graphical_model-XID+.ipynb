{
 "metadata": {
  "name": "",
  "signature": "sha256:973fa5478e31247128d9c9494d917d02e52a7a67d3d59698ceaa8b859cf1d23c"
 },
 "nbformat": 3,
 "nbformat_minor": 0,
 "worksheets": [
  {
   "cells": [
    {
     "cell_type": "code",
     "collapsed": false,
     "input": [
      "from matplotlib import rc\n",
      "%matplotlib inline\n",
      "rc(\"font\", family=\"serif\", size=12)\n",
      "rc(\"text\", usetex=True)\n",
      "import daft\n",
      "\n",
      "pgm = daft.PGM([10, 10], origin=[0.7, 0])\n",
      "\n",
      "\n",
      "# And a plate.\n",
      "pgm.add_plate(daft.Plate([0.9, 2.6, 6, 4.5], label=r\"known source $i$\",\n",
      "    shift=-0.1))\n",
      "pgm.add_plate(daft.Plate([2.6, 0.5, 3, 3], label=r\"pixel $j$\",\n",
      "    shift=-0.1))\n",
      "pgm.add_plate(daft.Plate([2.5, 0.12, 4, 3.5], label=r\"band $\\lambda$\",\n",
      "    shift=-0.1))"
     ],
     "language": "python",
     "metadata": {},
     "outputs": [],
     "prompt_number": 44
    },
    {
     "cell_type": "code",
     "collapsed": false,
     "input": [
      "pgm.add_node(daft.Node(\"A\", r\"$A_{i,j,\\lambda}$\", 4, 3, fixed=True))\n",
      "pgm.add_node(daft.Node(\"data\", r\"$D_{j,\\lambda}$\", 5, 1, observed=True))\n",
      "pgm.add_node(daft.Node(\"model\", r\"$m_{j,\\lambda}$\", 5, 2))\n",
      "pgm.add_node(daft.Node(\"background\", r\"$B_{\\lambda}$\", 6, 2))\n",
      "\n",
      "\n",
      "pgm.add_node(daft.Node(\"f_ir\", r\"$f_{i,\\lambda}$\", 6, 3))\n",
      "pgm.add_node(daft.Node(\"alpha\", r\"$\\alpha_i$\", 4, 4, fixed=True))\n",
      "pgm.add_node(daft.Node(\"delta\", r\"$\\delta_i$\", 3, 4, fixed=True))\n",
      "pgm.add_node(daft.Node(\"z\", r\"$z_i$\", 2, 4, fixed=True))\n",
      "pgm.add_node(daft.Node(\"r\", r\"$\\mathbf{r}_i$\", 3, 5, fixed=True))\n",
      "\n",
      "\n"
     ],
     "language": "python",
     "metadata": {},
     "outputs": [
      {
       "metadata": {},
       "output_type": "pyout",
       "prompt_number": 45,
       "text": [
        "<daft.Node at 0x113ec3e90>"
       ]
      }
     ],
     "prompt_number": 45
    },
    {
     "cell_type": "code",
     "collapsed": false,
     "input": [
      "pgm.add_edge(\"model\", \"data\")\n",
      "pgm.add_edge(\"background\", \"model\")\n",
      "pgm.add_edge(\"A\", \"model\")\n",
      "pgm.add_edge(\"f_ir\", \"model\")\n",
      "pgm.add_edge(\"alpha\", \"A\")\n",
      "pgm.add_edge(\"delta\", \"A\")\n",
      "pgm.add_edge(\"r\", \"z\",directed=False,plot_params={'ls':'dashed'})\n",
      "pgm.add_edge(\"r\", \"alpha\",directed=False,plot_params={'ls':'dashed'})\n",
      "pgm.add_edge(\"r\", \"delta\",directed=False,plot_params={'ls':'dashed'})\n",
      "\n",
      "pgm.add_edge(\"r\",\"f_ir\")\n"
     ],
     "language": "python",
     "metadata": {},
     "outputs": [
      {
       "metadata": {},
       "output_type": "pyout",
       "prompt_number": 46,
       "text": [
        "<daft.Edge at 0x113ec3550>"
       ]
      }
     ],
     "prompt_number": 46
    },
    {
     "cell_type": "code",
     "collapsed": false,
     "input": [
      "# Render and save.\n",
      "pgm.render()"
     ],
     "language": "python",
     "metadata": {},
     "outputs": [
      {
       "metadata": {},
       "output_type": "pyout",
       "prompt_number": 47,
       "text": [
        "<matplotlib.axes.Axes at 0x113eb8ad0>"
       ]
      },
      {
       "metadata": {},
       "output_type": "display_data",
       "png": "[encoded data removed]",
       "text": [
        "<matplotlib.figure.Figure at 0x113e5b590>"
       ]
      }
     ],
     "prompt_number": 47
    },
    {
     "cell_type": "code",
     "collapsed": false,
     "input": [
      "pgm.figure.savefig(\"graphical_model.pdf\")\n"
     ],
     "language": "python",
     "metadata": {},
     "outputs": [],
     "prompt_number": 48
    },
    {
     "cell_type": "code",
     "collapsed": false,
     "input": [],
     "language": "python",
     "metadata": {},
     "outputs": []
    }
   ],
   "metadata": {}
  }
 ]
}