{
 "cells": [
  {
   "cell_type": "code",
   "execution_count": 1,
   "metadata": {
    "collapsed": false
   },
   "outputs": [
    {
     "name": "stderr",
     "output_type": "stream",
     "text": [
      "/usr/local/lib/python2.7/site-packages/IPython/kernel/__init__.py:13: ShimWarning: The `IPython.kernel` package has been deprecated. You should import from ipykernel or jupyter_client instead.\n",
      "  \"You should import from ipykernel or jupyter_client instead.\", ShimWarning)\n"
     ]
    }
   ],
   "source": [
    "from astropy.io import ascii\n",
    "import pylab as plt\n",
    "from matplotlib.collections import LineCollection\n",
    "from matplotlib.colors import ListedColormap, BoundaryNorm\n",
    "from scipy.interpolate import interp1d\n",
    "\n",
    "%matplotlib inline\n",
    "import pystan\n",
    "import numpy as np"
   ]
  },
  {
   "cell_type": "code",
   "execution_count": null,
   "metadata": {
    "collapsed": true
   },
   "outputs": [],
   "source": [
    "GP_code = \"\"\"// Sample from Gaussian process\n",
    "// Fixed covar function: eta_sq=1, rho_sq=1, sigma_sq=0.1\n",
    "\n",
    "data {\n",
    "  int<lower=1> N;\n",
    "  real x[N];\n",
    "  real eta_sq;\n",
    "  real inv_rho_sq;\n",
    "  real sigma_sq;\n",
    "  \n",
    "}\n",
    "transformed data {\n",
    "  vector[N] mu;\n",
    "  cov_matrix[N] Sigma;\n",
    "  real<lower=0.0> rho_sq;\n",
    "  rho_sq <- inv(inv_rho_sq);\n",
    "  for (i in 1:N) \n",
    "    mu[i] <- 0;\n",
    "  for (i in 1:N) \n",
    "    for (j in 1:N)\n",
    "      Sigma[i,j] <- eta_sq * exp(-rho_sq * pow(x[i] - x[j],2)) + if_else(i==j, sigma_sq, 0.0);\n",
    "}\n",
    "parameters {\n",
    "  vector[N] y;\n",
    "}\n",
    "model {\n",
    "  y ~ multi_normal(mu,Sigma);\n",
    "}\"\"\""
   ]
  },
  {
   "cell_type": "code",
   "execution_count": null,
   "metadata": {
    "collapsed": true
   },
   "outputs": [],
   "source": [
    "z=np.arange(0,10,0.1)"
   ]
  },
  {
   "cell_type": "code",
   "execution_count": null,
   "metadata": {
    "collapsed": false
   },
   "outputs": [],
   "source": [
    "GP_data={'N': 100,\n",
    "         'x': z,\n",
    "         'eta_sq': 0.1,\n",
    "         'inv_rho_sq':1,\n",
    "         'sigma_sq':0.1}"
   ]
  },
  {
   "cell_type": "code",
   "execution_count": null,
   "metadata": {
    "collapsed": false
   },
   "outputs": [],
   "source": [
    "fit = pystan.stan(model_code=GP_code, data=GP_data,\n",
    "                  iter=1000, chains=4)"
   ]
  },
  {
   "cell_type": "code",
   "execution_count": null,
   "metadata": {
    "collapsed": true
   },
   "outputs": [],
   "source": []
  },
  {
   "cell_type": "code",
   "execution_count": null,
   "metadata": {
    "collapsed": false
   },
   "outputs": [],
   "source": [
    "samps=fit.extract(permuted=False, inc_warmup=False)"
   ]
  },
  {
   "cell_type": "code",
   "execution_count": null,
   "metadata": {
    "collapsed": false
   },
   "outputs": [],
   "source": [
    "samps.shape"
   ]
  },
  {
   "cell_type": "code",
   "execution_count": 2,
   "metadata": {
    "collapsed": false
   },
   "outputs": [],
   "source": [
    "import pylab as plt\n",
    "%matplotlib inline\n"
   ]
  },
  {
   "cell_type": "code",
   "execution_count": null,
   "metadata": {
    "collapsed": false
   },
   "outputs": [],
   "source": [
    "for i in range(0,100,10):\n",
    "    plt.plot(z,samps[i,0,0:-1])"
   ]
  },
  {
   "cell_type": "code",
   "execution_count": 3,
   "metadata": {
    "collapsed": true
   },
   "outputs": [],
   "source": [
    "M82 = ascii.read(\"/Users/pdh21/astrodata/COSMOS/WP5_COSMOS_XIDplus_P2/M82_template_norm.sed\")\n",
    "arp220 = ascii.read(\"/Users/pdh21/astrodata/COSMOS/WP5_COSMOS_XIDplus_P2/Arp220_template_norm.sed\")"
   ]
  },
  {
   "cell_type": "code",
   "execution_count": 4,
   "metadata": {
    "collapsed": true
   },
   "outputs": [],
   "source": [
    "class FilterDefinition:\n",
    "    def __init__(self):\n",
    "        \"\"\"\n",
    "        Placeholder for the filter definition information.\n",
    "        \"\"\"\n",
    "        self.name = None\n",
    "        self.wavelength = None\n",
    "        self.transmision = None\n",
    "\n",
    "class FilterFile:\n",
    "    def __init__(self, file='FILTER.RES.v8.R300'):\n",
    "        \"\"\"\n",
    "        Read a EAZY (HYPERZ) filter file.\n",
    "        \"\"\"\n",
    "        fp = open(file)\n",
    "        lines = fp.readlines()\n",
    "        fp.close()\n",
    "        \n",
    "        filters = []\n",
    "        wave = []\n",
    "        for line in lines:\n",
    "            try:\n",
    "                lspl = np.cast[float](line.split())\n",
    "                wave.append(lspl[1])\n",
    "                trans.append(lspl[2])\n",
    "            except (ValueError,IndexError):\n",
    "                if len(wave) > 0:\n",
    "                    new_filter = FilterDefinition()\n",
    "                    new_filter.name = header\n",
    "                    new_filter.wavelength = np.cast[float](wave)\n",
    "                    new_filter.transmission = np.cast[float](trans)\n",
    "                    filters.append(new_filter)\n",
    "                    \n",
    "                header = ' '.join(line.split()[1:])\n",
    "                wave = []\n",
    "                trans = []\n",
    "        # last one\n",
    "        new_filter = FilterDefinition()\n",
    "        new_filter.name = header\n",
    "        new_filter.wavelength = np.cast[float](wave)\n",
    "        new_filter.transmission = np.cast[float](trans)\n",
    "        filters.append(new_filter)\n",
    "           \n",
    "        self.filters = filters\n",
    "        self.NFILT = len(filters)\n",
    "    \n",
    "    def names(self):\n",
    "        \"\"\"\n",
    "        Print the filter names.\n",
    "        \"\"\"\n",
    "        for i in range(len(self.filters)):\n",
    "            print '%5d %s' %(i+1, self.filters[i].name)\n",
    "    \n",
    "    def write(self, file='xxx.res', verbose=True):\n",
    "        \"\"\"\n",
    "        Dump the filter information to a filter file.\n",
    "        \"\"\"\n",
    "        fp = open(file,'w')\n",
    "        for filter in self.filters:\n",
    "            fp.write('%6d %s\\n' %(len(filter.wavelength), filter.name))\n",
    "            for i in range(len(filter.wavelength)):\n",
    "                fp.write('%-6d %.5e %.5e\\n' %(i+1, filter.wavelength[i], filter.transmission[i]))\n",
    "        \n",
    "        fp.close()\n",
    "        if verbose:\n",
    "            print 'Wrote <%s>.' %(file)\n",
    "            \n",
    "    def search(self, search_string, case=True, verbose=True):\n",
    "        \"\"\" \n",
    "        Search filter names for `search_string`.  If `case` is True, then\n",
    "        match case.\n",
    "        \"\"\"\n",
    "        import re\n",
    "        \n",
    "        if not case:\n",
    "            search_string = search_string.upper()\n",
    "        \n",
    "        matched = []\n",
    "        \n",
    "        for i in range(len(self.filters)):\n",
    "            filt_name = self.filters[i].name\n",
    "            if not case:\n",
    "                filt_name = filt_name.upper()\n",
    "                \n",
    "            if re.search(search_string, filt_name) is not None:\n",
    "                if verbose:\n",
    "                    print '%5d %s' %(i+1, self.filters[i].name)\n",
    "                matched.append(i)\n",
    "        \n",
    "        return np.array(matched)"
   ]
  },
  {
   "cell_type": "code",
   "execution_count": 5,
   "metadata": {
    "collapsed": true
   },
   "outputs": [],
   "source": [
    "filter=FilterFile(file=\"/Users/pdh21/astrodata/COSMOS/WP5_COSMOS_XIDplus_P2/filters.res\")"
   ]
  },
  {
   "cell_type": "code",
   "execution_count": 6,
   "metadata": {
    "collapsed": true
   },
   "outputs": [],
   "source": [
    "SPIRE_250=filter.filters[215]\n",
    "SPIRE_350=filter.filters[216]\n",
    "SPIRE_500=filter.filters[217]"
   ]
  },
  {
   "cell_type": "code",
   "execution_count": 7,
   "metadata": {
    "collapsed": true
   },
   "outputs": [],
   "source": [
    "def fnu_filt(sed_fnu,filt_nu,filt_trans,nu_0,sed_f0):\n",
    "    #f_nu=Int(d_nu f_nu R_nu)/Int(d_nu (nu/nu_0)^-1 R_nu)\n",
    "    numerator=np.trapz(sed_fnu*filt_trans,x=filt_nu)\n",
    "    denominator=np.trapz(filt_trans*(nu_0/filt_nu),x=filt_nu)\n",
    "    \n",
    "    #colour correction\n",
    "    #C=Int(d_nu (nu/nu_0)^-1 R_nu)/Int(d_nu (f(nu)/f(nu_0)) R_nu)\n",
    "    C_num=np.trapz(filt_trans*(nu_0/filt_nu),x=filt_nu)\n",
    "    C_denom=np.trapz(filt_trans*(sed_fnu/sed_f0),x=filt_nu)\n",
    "\n",
    "    \n",
    "    return (numerator/denominator)*(C_num/C_denom)\n"
   ]
  },
  {
   "cell_type": "code",
   "execution_count": 8,
   "metadata": {
    "collapsed": false
   },
   "outputs": [],
   "source": [
    "\n",
    "flux=arp220['col2']*(arp220['col1']**2)/3E8\n",
    "wave=arp220['col1']/1E4\n",
    "S_250=[]\n",
    "S_350=[]\n",
    "S_500=[]\n",
    "red=[]\n",
    "for z in np.arange(0,3,0.05):\n",
    "    sed=interp1d((z+1.0)*wave, flux)\n",
    "    S_250.append(fnu_filt(sed(SPIRE_250.wavelength/1E4),3E8/(SPIRE_250.wavelength/1E10),SPIRE_250.transmission,3E8/250E-6,sed(250.0)))\n",
    "    S_350.append(fnu_filt(sed(SPIRE_350.wavelength/1E4),3E8/(SPIRE_350.wavelength/1E10),SPIRE_350.transmission,3E8/350E-6,sed(350.0)))\n",
    "    S_500.append(fnu_filt(sed(SPIRE_500.wavelength/1E4),3E8/(SPIRE_500.wavelength/1E10),SPIRE_500.transmission,3E8/500E-6,sed(500.0)))\n",
    "    red.append(z)\n",
    "    \n",
    "    \n",
    "flux=M82['col2']*((M82['col1']/1E10)**2)/3E8\n",
    "wave=M82['col1']/1E4\n",
    "S_250_M82=[]\n",
    "S_350_M82=[]\n",
    "S_500_M82=[]\n",
    "red=[]\n",
    "for z in np.arange(0,3,0.05):\n",
    "    sed=interp1d((z+1.0)*wave, flux,kind='slinear')\n",
    "    S_250_M82.append(fnu_filt(sed(SPIRE_250.wavelength/1E4),3E8/(SPIRE_250.wavelength/1E10),SPIRE_250.transmission,3E8/250E-6,sed(250.0)))\n",
    "    S_350_M82.append(fnu_filt(sed(SPIRE_350.wavelength/1E4),3E8/(SPIRE_350.wavelength/1E10),SPIRE_350.transmission,3E8/350E-6,sed(350.0)))\n",
    "    S_500_M82.append(fnu_filt(sed(SPIRE_500.wavelength/1E4),3E8/(SPIRE_500.wavelength/1E10),SPIRE_500.transmission,3E8/500E-6,sed(500.0)))\n",
    "    red.append(z)"
   ]
  },
  {
   "cell_type": "code",
   "execution_count": 9,
   "metadata": {
    "collapsed": false
   },
   "outputs": [
    {
     "data": {
      "text/plain": [
       "<matplotlib.text.Text at 0x115feb590>"
      ]
     },
     "execution_count": 9,
     "metadata": {},
     "output_type": "execute_result"
    },
    {
     "data": {
      "image/png": "[encoded data removed]",
      "text/plain": [
       "<matplotlib.figure.Figure at 0x115ed2350>"
      ]
     },
     "metadata": {},
     "output_type": "display_data"
    }
   ],
   "source": [
    "fig2 = plt.figure(figsize=(15,15))\n",
    "\n",
    "plt.subplot(2,2,1)\n",
    "plt.plot(red,np.array(S_500)/np.array(S_250), 'r')\n",
    "plt.plot(red,np.array(S_500_M82)/np.array(S_250_M82),'b')\n",
    "plt.xlabel('redshift')\n",
    "plt.ylabel(r'$S_{500}/S_{250}$')\n",
    "plt.subplot(2,2,2)\n",
    "plt.plot(red,np.array(S_350)/np.array(S_250), 'r')\n",
    "plt.plot(red,np.array(S_350_M82)/np.array(S_250_M82),'b')\n",
    "plt.xlabel('redshift')\n",
    "plt.ylabel(r'$S_{350}/S_{250}$')\n",
    "plt.subplot(2,2,3)\n",
    "plt.plot(red,np.array(S_500)/np.array(S_350), 'r')\n",
    "plt.plot(red,np.array(S_500_M82)/np.array(S_350_M82),'b')\n",
    "plt.xlabel('redshift')\n",
    "plt.ylabel(r'$S_{500}/S_{350}$')"
   ]
  },
  {
   "cell_type": "markdown",
   "metadata": {},
   "source": [
    "# $S_{250}/S_{500}$ GP fit"
   ]
  },
  {
   "cell_type": "code",
   "execution_count": null,
   "metadata": {
    "collapsed": true
   },
   "outputs": [],
   "source": [
    "samps_arp220=fit_arp_250_500.extract(permuted=False, inc_warmup=False)\n",
    "samps_M82=fit_M82_250_500.extract(permuted=False, inc_warmup=False)"
   ]
  },
  {
   "cell_type": "code",
   "execution_count": null,
   "metadata": {
    "collapsed": false
   },
   "outputs": [],
   "source": [
    "plt.hist(samps_arp220[:,:,0].flatten(),bins=np.arange(0,30,1),alpha=0.5)\n",
    "plt.hist(samps_M82[:,:,0].flatten(),bins=np.arange(0,30,1),alpha=0.5)\n",
    "plt.xlabel(r'$\\eta^2$')"
   ]
  },
  {
   "cell_type": "code",
   "execution_count": null,
   "metadata": {
    "collapsed": false
   },
   "outputs": [],
   "source": [
    "plt.hist(samps_arp220[:,0,1].flatten(),bins=np.arange(0,30,1),alpha=0.5)\n",
    "plt.hist(samps_M82[:,0,1].flatten(),bins=np.arange(0,30,1),alpha=0.5)\n",
    "plt.xlabel(r'$l^2$')"
   ]
  },
  {
   "cell_type": "markdown",
   "metadata": {},
   "source": [
    "# $S_{350}/S_{500}$ GP fit"
   ]
  },
  {
   "cell_type": "code",
   "execution_count": null,
   "metadata": {
    "collapsed": false
   },
   "outputs": [],
   "source": [
    "GP_data={'N': len(red),\n",
    "         'x': red,\n",
    "         'y':np.array(S_350)/np.array(S_500)}\n",
    "fit_arp_350_500 = pystan.stan(model_code=GP_code, data=GP_data,\n",
    "                  iter=1000, chains=4)\n",
    "GP_data={'N': len(red),\n",
    "         'x': red,\n",
    "         'y':np.array(S_350_M82)/np.array(S_500_M82)}\n",
    "fit_M82_350_500 = pystan.stan(model_code=GP_code, data=GP_data,\n",
    "                  iter=1000, chains=4)"
   ]
  },
  {
   "cell_type": "code",
   "execution_count": null,
   "metadata": {
    "collapsed": true
   },
   "outputs": [],
   "source": [
    "samps_arp220=fit_arp_350_500.extract(permuted=False, inc_warmup=False)\n",
    "samps_M82=fit_M82_350_500.extract(permuted=False, inc_warmup=False)"
   ]
  },
  {
   "cell_type": "code",
   "execution_count": null,
   "metadata": {
    "collapsed": false
   },
   "outputs": [],
   "source": [
    "plt.hist(samps_arp220[:,:,0].flatten(),bins=np.arange(0,30,1),alpha=0.5)\n",
    "plt.hist(samps_M82[:,:,0].flatten(),bins=np.arange(0,30,1),alpha=0.5)\n",
    "plt.xlabel(r'$\\eta^2$')"
   ]
  },
  {
   "cell_type": "code",
   "execution_count": null,
   "metadata": {
    "collapsed": false
   },
   "outputs": [],
   "source": [
    "plt.hist(samps_arp220[:,0,1].flatten(),bins=np.arange(0,30,1),alpha=0.5)\n",
    "plt.hist(samps_M82[:,0,1].flatten(),bins=np.arange(0,30,1),alpha=0.5)\n",
    "plt.xlabel(r'$l^2$')"
   ]
  },
  {
   "cell_type": "markdown",
   "metadata": {},
   "source": [
    "# $S_{250}/S_{350}$ GP fit"
   ]
  },
  {
   "cell_type": "code",
   "execution_count": null,
   "metadata": {
    "collapsed": false
   },
   "outputs": [],
   "source": [
    "GP_data={'N': len(red),\n",
    "         'x': red,\n",
    "         'y':np.array(S_250)/np.array(S_350)}\n",
    "fit_arp_250_350 = pystan.stan(model_code=GP_code, data=GP_data,\n",
    "                  iter=1000, chains=4)\n",
    "GP_data={'N': len(red),\n",
    "         'x': red,\n",
    "         'y':np.array(S_250_M82)/np.array(S_350_M82)}\n",
    "fit_M82_250_350 = pystan.stan(model_code=GP_code, data=GP_data,\n",
    "                  iter=1000, chains=4)"
   ]
  },
  {
   "cell_type": "code",
   "execution_count": null,
   "metadata": {
    "collapsed": true
   },
   "outputs": [],
   "source": [
    "samps_arp220=fit_arp_250_350.extract(permuted=False, inc_warmup=False)\n",
    "samps_M82=fit_M82_250_350.extract(permuted=False, inc_warmup=False)"
   ]
  },
  {
   "cell_type": "code",
   "execution_count": null,
   "metadata": {
    "collapsed": false
   },
   "outputs": [],
   "source": [
    "plt.hist(samps_arp220[:,:,0].flatten(),bins=np.arange(0,30,1),alpha=0.5)\n",
    "plt.hist(samps_M82[:,:,0].flatten(),bins=np.arange(0,30,1),alpha=0.5)\n",
    "plt.xlabel(r'$\\eta^2$')"
   ]
  },
  {
   "cell_type": "code",
   "execution_count": null,
   "metadata": {
    "collapsed": false
   },
   "outputs": [],
   "source": [
    "plt.hist(samps_arp220[:,0,1].flatten(),bins=np.arange(0,30,1),alpha=0.5)\n",
    "plt.hist(samps_M82[:,0,1].flatten(),bins=np.arange(0,30,1),alpha=0.5)\n",
    "plt.xlabel(r'$l^2$')"
   ]
  },
  {
   "cell_type": "markdown",
   "metadata": {},
   "source": [
    "# GP fit and sim using Arp220 as prior"
   ]
  },
  {
   "cell_type": "code",
   "execution_count": 12,
   "metadata": {
    "collapsed": true
   },
   "outputs": [],
   "source": [
    "zpred=np.arange(0,5,0.5)"
   ]
  },
  {
   "cell_type": "code",
   "execution_count": 13,
   "metadata": {
    "collapsed": true
   },
   "outputs": [],
   "source": [
    "GP_code = \"\"\"/// Fit a Gaussian process's hyperparameters\n",
    "// for squared exponential prior\n",
    "\n",
    "data {\n",
    "  int<lower=1> N;\n",
    "  vector[N] z;\n",
    "  vector[N] S500_S350;\n",
    "  vector[N] S500_S250;\n",
    "  vector[N] S350_S250;\n",
    "  int<lower=1> Npred;\n",
    "  vector[Npred] zpred;\n",
    "\n",
    "  \n",
    "}\n",
    "transformed data {\n",
    "  vector[N+Npred] mu;\n",
    "  for (i in 1:N+Npred) \n",
    "    mu[i] <- 0;\n",
    "}\n",
    "parameters {\n",
    "  real<lower=0> eta_sq;\n",
    "  real<lower=0> rho_sq;\n",
    "  real<lower=0> sigma_sq;\n",
    "  vector[Npred] S500_S350_pred;\n",
    "  vector[Npred] S500_S250_pred;\n",
    "  vector[Npred] S350_S250_pred;\n",
    "  }\n",
    "model {\n",
    "  matrix[N+Npred,N+Npred] Sigma;\n",
    "  matrix[N+Npred,N+Npred] L;\n",
    "  vector[N+Npred] zall;\n",
    "  vector[N+Npred] S500_S350_all;\n",
    "  vector[N+Npred] S500_S250_all;\n",
    "  vector[N+Npred] S350_S250_all;\n",
    "\n",
    "  for (k in 1:N) {\n",
    "    zall[k] <- z[k];\n",
    "    S500_S350_all[k] <- S500_S350[k];\n",
    "    S500_S250_all[k] <- S500_S250[k];\n",
    "    S350_S250_all[k] <- S350_S250[k];\n",
    "  }\n",
    "  for (k in 1:Npred) {\n",
    "    zall[k+N] <- zpred[k];\n",
    "    S500_S350_all[k+N] <- S500_S350_pred[k];\n",
    "    S500_S250_all[k+N] <- S500_S250_pred[k];\n",
    "    S350_S250_all[k+N] <- S350_S250_pred[k];\n",
    "  }\n",
    "\n",
    "  // off-diagonal elements\n",
    "  for (i in 1:(N+Npred-1)) {\n",
    "    for (j in (i+1):N+Npred) {\n",
    "      Sigma[i,j] <- eta_sq * exp(-rho_sq * pow(zall[i] - zall[j],2));\n",
    "      Sigma[j,i] <- Sigma[i,j];\n",
    "    }\n",
    "  }\n",
    "\n",
    "  // diagonal elements\n",
    "  for (k in 1:N+Npred)\n",
    "    Sigma[k,k] <- eta_sq + sigma_sq; // + jitter\n",
    "    \n",
    "  L <- cholesky_decompose(Sigma);\n",
    "  eta_sq ~ cauchy(0,5);\n",
    "  rho_sq ~ cauchy(0,5);\n",
    "  sigma_sq ~ cauchy(0,5);\n",
    "  \n",
    "  S500_S350_all ~ multi_normal_cholesky(mu,L);\n",
    "  S500_S250_all ~ multi_normal_cholesky(mu,L);\n",
    "  S350_S250_all ~ multi_normal_cholesky(mu,L);\n",
    "\n",
    "  \n",
    "}\"\"\""
   ]
  },
  {
   "cell_type": "code",
   "execution_count": null,
   "metadata": {
    "collapsed": false
   },
   "outputs": [],
   "source": [
    "GP_data={'N': len(red),\n",
    "         'z': red,\n",
    "         'S500_S350':np.array(S_500)/np.array(S_350),\n",
    "         'S500_S250':np.array(S_500)/np.array(S_250),\n",
    "         'S350_S250':np.array(S_350)/np.array(S_250),\n",
    "         'Npred': zpred.size,\n",
    "         'zpred':zpred}\n",
    "fit_ = pystan.stan(model_code=GP_code, data=GP_data,\n",
    "                  iter=1000, chains=4)"
   ]
  },
  {
   "cell_type": "code",
   "execution_count": null,
   "metadata": {
    "collapsed": false
   },
   "outputs": [],
   "source": [
    "fit_.constrained_param_names()"
   ]
  },
  {
   "cell_type": "code",
   "execution_count": null,
   "metadata": {
    "collapsed": false
   },
   "outputs": [],
   "source": [
    "stan_fit=fit_.extract(permuted=False, inc_warmup=False)\n",
    "stan_fit.shape"
   ]
  },
  {
   "cell_type": "code",
   "execution_count": null,
   "metadata": {
    "collapsed": false
   },
   "outputs": [],
   "source": [
    "import triangle\n",
    "\n",
    "figure = triangle.corner(stan_fit[:,:,0:3].reshape(2000,3), labels=[r\"$\\eta^2$\", r\"$\\rho^2$\", r\"$\\sigma^2$\"],\n",
    "                         quantiles=[0.16, 0.5, 0.84],\n",
    "                         show_titles=True, title_args={\"fontsize\": 12})"
   ]
  },
  {
   "cell_type": "code",
   "execution_count": null,
   "metadata": {
    "collapsed": false
   },
   "outputs": [],
   "source": [
    "S500_S350_pred=np.empty((zpred.size,3))\n",
    "S500_S250_pred=np.empty((zpred.size,3))\n",
    "S350_S250_pred=np.empty((zpred.size,3))\n",
    "for i in range(0,zpred.size):\n",
    "    S500_S350_pred[i,:]=np.percentile(stan_fit[:,:,3+i].reshape(2000,1),q=(16.0,50.0,84.0))\n",
    "    S500_S250_pred[i,:]=np.percentile(stan_fit[:,:,3+i+zpred.size].reshape(2000,1),q=(16,50,84))\n",
    "    S350_S250_pred[i,:]=np.percentile(stan_fit[:,:,3+i+2*zpred.size].reshape(2000,1),q=(16,50,84))\n"
   ]
  },
  {
   "cell_type": "code",
   "execution_count": null,
   "metadata": {
    "collapsed": false
   },
   "outputs": [],
   "source": [
    "fig, (ax1, ax2, ax3) = plt.subplots(3, 1, sharex=True,figsize=(10,10))\n",
    "\n",
    "ax1.fill_between(zpred, S500_S350_pred[:,0],S500_S350_pred[:,2],alpha=0.5)\n",
    "ax1.plot(red,np.array(S_500)/np.array(S_350),'r')\n",
    "ax1.set_ylabel(r'$S_{500}/S_{350}$')\n",
    "\n",
    "ax2.fill_between(zpred, S500_S250_pred[:,0],S500_S250_pred[:,2],alpha=0.5)\n",
    "ax2.plot(red,np.array(S_500)/np.array(S_250),'r')\n",
    "ax2.set_ylabel(r'$S_{500}/S_{250}$')\n",
    "\n",
    "ax3.fill_between(zpred, S350_S250_pred[:,0],S350_S250_pred[:,2],alpha=0.5)\n",
    "ax3.plot(red,np.array(S_350)/np.array(S_250),'r')\n",
    "ax3.set_ylabel(r'$S_{350}/S_{250}$')\n",
    "ax3.set_xlabel('z')"
   ]
  },
  {
   "cell_type": "code",
   "execution_count": null,
   "metadata": {
    "collapsed": true
   },
   "outputs": [],
   "source": []
  },
  {
   "cell_type": "markdown",
   "metadata": {},
   "source": [
    "# GP fit and sim using Arp220 and M82 as prior"
   ]
  },
  {
   "cell_type": "code",
   "execution_count": 14,
   "metadata": {
    "collapsed": false,
    "scrolled": true
   },
   "outputs": [
    {
     "name": "stderr",
     "output_type": "stream",
     "text": [
      "/usr/local/Cellar/python/2.7.10_2/Frameworks/Python.framework/Versions/2.7/lib/python2.7/multiprocessing/queues.py:392: UserWarning: Pickling fit objects is an experimental feature!\n",
      "The relevant StanModel instance must be pickled along with this fit object.\n",
      "When unpickling the StanModel must be unpickled first.\n",
      "  return send(obj)\n",
      "/usr/local/Cellar/python/2.7.10_2/Frameworks/Python.framework/Versions/2.7/lib/python2.7/multiprocessing/queues.py:392: UserWarning: Pickling fit objects is an experimental feature!\n",
      "The relevant StanModel instance must be pickled along with this fit object.\n",
      "When unpickling the StanModel must be unpickled first.\n",
      "  return send(obj)\n",
      "/usr/local/Cellar/python/2.7.10_2/Frameworks/Python.framework/Versions/2.7/lib/python2.7/multiprocessing/queues.py:392: UserWarning: Pickling fit objects is an experimental feature!\n",
      "The relevant StanModel instance must be pickled along with this fit object.\n",
      "When unpickling the StanModel must be unpickled first.\n",
      "  return send(obj)\n",
      "/usr/local/Cellar/python/2.7.10_2/Frameworks/Python.framework/Versions/2.7/lib/python2.7/multiprocessing/queues.py:392: UserWarning: Pickling fit objects is an experimental feature!\n",
      "The relevant StanModel instance must be pickled along with this fit object.\n",
      "When unpickling the StanModel must be unpickled first.\n",
      "  return send(obj)\n"
     ]
    }
   ],
   "source": [
    "GP_data={'N': 2*len(red),\n",
    "         'z': red+red,\n",
    "         'S500_S350':np.append(np.array(S_500)/np.array(S_350),np.array(S_500_M82)/np.array(S_350_M82)),\n",
    "         'S500_S250':np.append(np.array(S_500)/np.array(S_250),np.array(S_500_M82)/np.array(S_250_M82)),\n",
    "         'S350_S250':np.append(np.array(S_350)/np.array(S_250),np.array(S_350_M82)/np.array(S_250_M82)),\n",
    "         'Npred': zpred.size,\n",
    "         'zpred':zpred}\n",
    "fit_ = pystan.stan(model_code=GP_code, data=GP_data,\n",
    "                  iter=1000, chains=4)"
   ]
  },
  {
   "cell_type": "code",
   "execution_count": 15,
   "metadata": {
    "collapsed": false
   },
   "outputs": [
    {
     "data": {
      "text/plain": [
       "(500, 4, 34)"
      ]
     },
     "execution_count": 15,
     "metadata": {},
     "output_type": "execute_result"
    }
   ],
   "source": [
    "stan_fit=fit_.extract(permuted=False, inc_warmup=False)\n",
    "stan_fit.shape"
   ]
  },
  {
   "cell_type": "code",
   "execution_count": 17,
   "metadata": {
    "collapsed": false
   },
   "outputs": [
    {
     "name": "stdout",
     "output_type": "stream",
     "text": [
      "Quantiles:\n",
      "[(0.16, 0.30904832333908305), (0.5, 0.50118889781184972), (0.84, 0.90235177179008796)]\n",
      "Quantiles:\n",
      "[(0.16, 0.26050651084042364), (0.5, 0.35164628395333403), (0.84, 0.45826509124364484)]\n",
      "Quantiles:"
     ]
    },
    {
     "name": "stderr",
     "output_type": "stream",
     "text": [
      "/usr/local/lib/python2.7/site-packages/matplotlib/collections.py:608: FutureWarning: elementwise comparison failed; returning scalar instead, but in the future will perform elementwise comparison\n",
      "  if self._edgecolors_original != 'face':\n",
      "/usr/local/lib/python2.7/site-packages/matplotlib/collections.py:548: FutureWarning: elementwise comparison failed; returning scalar instead, but in the future will perform elementwise comparison\n",
      "  if self._edgecolors == 'face':\n"
     ]
    },
    {
     "name": "stdout",
     "output_type": "stream",
     "text": [
      "\n",
      "[(0.16, 0.0040544226924616256), (0.5, 0.0043946415870594084), (0.84, 0.0047600285085041775)]\n"
     ]
    },
    {
     "data": {
      "image/png": "[encoded data removed]",
      "text/plain": [
       "<matplotlib.figure.Figure at 0x11629ab10>"
      ]
     },
     "metadata": {},
     "output_type": "display_data"
    }
   ],
   "source": [
    "import triangle\n",
    "figure = triangle.corner(stan_fit[:,:,0:3].reshape(2000,3), labels=[r\"$\\eta^2$\", r\"$\\rho^2$\", r\"$\\sigma^2$\"],\n",
    "                         quantiles=[0.16, 0.5, 0.84],\n",
    "                         show_titles=True, title_args={\"fontsize\": 12})"
   ]
  },
  {
   "cell_type": "code",
   "execution_count": 18,
   "metadata": {
    "collapsed": false
   },
   "outputs": [],
   "source": [
    "S500_S350_pred=np.empty((zpred.size,3))\n",
    "S500_S250_pred=np.empty((zpred.size,3))\n",
    "S350_S250_pred=np.empty((zpred.size,3))\n",
    "for i in range(0,zpred.size):\n",
    "    S500_S350_pred[i,:]=np.percentile(stan_fit[:,:,3+i].reshape(2000,1),q=(16.0,50.0,84.0))\n",
    "    S500_S250_pred[i,:]=np.percentile(stan_fit[:,:,3+i+zpred.size].reshape(2000,1),q=(16,50,84))\n",
    "    S350_S250_pred[i,:]=np.percentile(stan_fit[:,:,3+i+2*zpred.size].reshape(2000,1),q=(16,50,84))\n"
   ]
  },
  {
   "cell_type": "code",
   "execution_count": 19,
   "metadata": {
    "collapsed": false
   },
   "outputs": [
    {
     "data": {
      "text/plain": [
       "<matplotlib.text.Text at 0x118ce6f10>"
      ]
     },
     "execution_count": 19,
     "metadata": {},
     "output_type": "execute_result"
    },
    {
     "data": {
      "image/png": "[encoded data removed]",
      "text/plain": [
       "<matplotlib.figure.Figure at 0x115f8f9d0>"
      ]
     },
     "metadata": {},
     "output_type": "display_data"
    }
   ],
   "source": [
    "fig, (ax1, ax2, ax3) = plt.subplots(3, 1, sharex=True,figsize=(10,10))\n",
    "\n",
    "ax1.fill_between(zpred, S500_S350_pred[:,0],S500_S350_pred[:,2],alpha=0.5)\n",
    "ax1.plot(red,np.array(S_500)/np.array(S_350),'r')\n",
    "ax1.plot(red,np.array(S_500_M82)/np.array(S_350_M82),'b')\n",
    "ax1.set_ylabel(r'$S_{500}/S_{350}$')\n",
    "\n",
    "ax2.fill_between(zpred, S500_S250_pred[:,0],S500_S250_pred[:,2],alpha=0.5)\n",
    "ax2.plot(red,np.array(S_500)/np.array(S_250),'r')\n",
    "ax2.plot(red,np.array(S_500_M82)/np.array(S_250_M82),'b')\n",
    "\n",
    "ax2.set_ylabel(r'$S_{500}/S_{250}$')\n",
    "\n",
    "ax3.fill_between(zpred, S350_S250_pred[:,0],S350_S250_pred[:,2],alpha=0.5)\n",
    "ax3.plot(red,np.array(S_350)/np.array(S_250),'r')\n",
    "ax3.plot(red,np.array(S_350_M82)/np.array(S_250_M82),'b')\n",
    "\n",
    "ax3.set_ylabel(r'$S_{350}/S_{250}$')\n",
    "ax3.set_xlabel('z')"
   ]
  },
  {
   "cell_type": "code",
   "execution_count": 20,
   "metadata": {
    "collapsed": true
   },
   "outputs": [],
   "source": [
    "import pickle\n",
    "with open('./arp220_m82_GP_prior.pkl', 'wb') as f:\n",
    "    pickle.dump({'zpred':zpred,'S500_S350_pred':S500_S350_pred[:,1],'S500_S250_pred':S500_S250_pred[:,1],'S350_S250_pred':S350_S250_pred[:,1]},f)"
   ]
  },
  {
   "cell_type": "markdown",
   "metadata": {},
   "source": [
    "# Better GP param priors"
   ]
  },
  {
   "cell_type": "code",
   "execution_count": null,
   "metadata": {
    "collapsed": true
   },
   "outputs": [],
   "source": [
    "GP_code = \"\"\"/// Fit a Gaussian process's hyperparameters\n",
    "// for squared exponential prior\n",
    "\n",
    "data {\n",
    "  int<lower=1> N;\n",
    "  vector[N] z;\n",
    "  vector[N] S500_S350;\n",
    "  vector[N] S500_S250;\n",
    "  vector[N] S350_S250;\n",
    "  int<lower=1> Npred;\n",
    "  real<lower=0> eta_sq;\n",
    "  real<lower=0> rho_sq;\n",
    "  real<lower=0> sigma_sq;\n",
    "\n",
    "  \n",
    "}\n",
    "transformed data {\n",
    "  vector[N+Npred] mu;\n",
    "  for (i in 1:N+Npred) \n",
    "    mu[i] <- 1;\n",
    "}\n",
    "parameters {\n",
    "\n",
    "  vector<lower=0.0>[Npred] S500_S350_pred;\n",
    "  vector<lower=0.0>[Npred] S500_S250_pred;\n",
    "  vector<lower=0.0>[Npred] S350_S250_pred;\n",
    "  vector<lower=0.0,upper=3>[Npred] zpred;\n",
    "  }\n",
    "model {\n",
    "  matrix[N+Npred,N+Npred] Sigma;\n",
    "  matrix[N+Npred,N+Npred] L;\n",
    "  vector[N+Npred] zall;\n",
    "  vector[N+Npred] S500_S350_all;\n",
    "  vector[N+Npred] S500_S250_all;\n",
    "  vector[N+Npred] S350_S250_all;\n",
    "\n",
    "  for (k in 1:N) {\n",
    "    zall[k] <- z[k];\n",
    "    S500_S350_all[k] <- S500_S350[k];\n",
    "    S500_S250_all[k] <- S500_S250[k];\n",
    "    S350_S250_all[k] <- S350_S250[k];\n",
    "  }\n",
    "  for (k in 1:Npred) {\n",
    "    zall[k+N] <- zpred[k];\n",
    "    S500_S350_all[k+N] <- S500_S350_pred[k];\n",
    "    S500_S250_all[k+N] <- S500_S250_pred[k];\n",
    "    S350_S250_all[k+N] <- S350_S250_pred[k];\n",
    "  }\n",
    "\n",
    "  // off-diagonal elements\n",
    "  for (i in 1:(N+Npred-1)) {\n",
    "    for (j in (i+1):N+Npred) {\n",
    "      Sigma[i,j] <- eta_sq * exp(-rho_sq * pow(zall[i] - zall[j],2));\n",
    "      Sigma[j,i] <- Sigma[i,j];\n",
    "    }\n",
    "  }\n",
    "\n",
    "  // diagonal elements\n",
    "  for (k in 1:N+Npred)\n",
    "    Sigma[k,k] <- eta_sq + sigma_sq; // + jitter\n",
    "    \n",
    "  L <- cholesky_decompose(Sigma);\n",
    "\n",
    "  \n",
    "  S500_S350_all ~ multi_normal_cholesky(mu,L);\n",
    "  S500_S250_all ~ multi_normal_cholesky(mu,L);\n",
    "  S350_S250_all ~ multi_normal_cholesky(mu,L);\n",
    "\n",
    "  \n",
    "}\"\"\""
   ]
  },
  {
   "cell_type": "code",
   "execution_count": null,
   "metadata": {
    "collapsed": false
   },
   "outputs": [],
   "source": [
    "GP_data={'N': 2*len(red),\n",
    "         'z': red+red,\n",
    "         'S500_S350':np.append(np.array(S_500)/np.array(S_350),np.array(S_500_M82)/np.array(S_350_M82)),\n",
    "         'S500_S250':np.append(np.array(S_500)/np.array(S_250),np.array(S_500_M82)/np.array(S_250_M82)),\n",
    "         'S350_S250':np.append(np.array(S_350)/np.array(S_250),np.array(S_350_M82)/np.array(S_250_M82)),\n",
    "         'Npred': zpred.size,\n",
    "         'eta_sq':1.0,\n",
    "         'rho_sq': 0.25,\n",
    "         'sigma_sq':0.01,\n",
    "        }\n",
    "fit_ = pystan.stan(model_code=GP_code, data=GP_data,\n",
    "                  iter=1000, chains=4)"
   ]
  },
  {
   "cell_type": "code",
   "execution_count": null,
   "metadata": {
    "collapsed": false
   },
   "outputs": [],
   "source": [
    "stan_fit=fit_.extract(permuted=False, inc_warmup=False)\n",
    "stan_fit.shape"
   ]
  },
  {
   "cell_type": "code",
   "execution_count": null,
   "metadata": {
    "collapsed": false
   },
   "outputs": [],
   "source": [
    "fit_.constrained_param_names()"
   ]
  },
  {
   "cell_type": "code",
   "execution_count": null,
   "metadata": {
    "collapsed": false
   },
   "outputs": [],
   "source": [
    "figure = triangle.corner(stan_fit[:,:,0:3].reshape(2000,3), labels=[r\"$\\eta^2$\", r\"$\\rho^2$\", r\"$\\sigma^2$\"],\n",
    "                         quantiles=[0.16, 0.5, 0.84],\n",
    "                         show_titles=True, title_args={\"fontsize\": 12})"
   ]
  },
  {
   "cell_type": "code",
   "execution_count": null,
   "metadata": {
    "collapsed": false
   },
   "outputs": [],
   "source": [
    "S500_S350_pred=np.empty((zpred.size,3))\n",
    "S500_S250_pred=np.empty((zpred.size,3))\n",
    "S350_S250_pred=np.empty((zpred.size,3))\n",
    "\n",
    "S250=10.0\n",
    "SED_500=np.empty((2000,zpred.size))\n",
    "SED_350=np.empty((2000,zpred.size))\n",
    "\n",
    "for i in range(0,zpred.size):\n",
    "    S500_S350_pred[i,:]=np.percentile(stan_fit[:,:,i].reshape(2000,1),q=(16.0,50.0,84.0))\n",
    "    S500_S250_pred[i,:]=np.percentile(stan_fit[:,:,i+zpred.size].reshape(2000,1),q=(16,50,84))\n",
    "    S350_S250_pred[i,:]=np.percentile(stan_fit[:,:,i+2*zpred.size].reshape(2000,1),q=(16,50,84))\n",
    "    #S250*S500_S250=S500\n",
    "    SED_500[:,i]=S250*stan_fit[:,:,i+zpred.size].flatten()\n",
    "    #S250*S350_S250=S250\n",
    "    SED_350[:,i]=S250*stan_fit[:,:,i+2*zpred.size].flatten()\n"
   ]
  },
  {
   "cell_type": "code",
   "execution_count": null,
   "metadata": {
    "collapsed": false
   },
   "outputs": [],
   "source": [
    "fig, (ax1, ax2, ax3) = plt.subplots(3, 1, sharex=True,figsize=(10,10))\n",
    "\n",
    "ax1.fill_between(zpred, S500_S350_pred[:,0],S500_S350_pred[:,2],alpha=0.5)\n",
    "ax1.plot(red,np.array(S_500)/np.array(S_350),'r')\n",
    "ax1.plot(red,np.array(S_500_M82)/np.array(S_350_M82),'b')\n",
    "ax1.set_ylabel(r'$S_{500}/S_{350}$')\n",
    "\n",
    "ax2.fill_between(zpred, S500_S250_pred[:,0],S500_S250_pred[:,2],alpha=0.5)\n",
    "ax2.plot(red,np.array(S_500)/np.array(S_250),'r')\n",
    "ax2.plot(red,np.array(S_500_M82)/np.array(S_250_M82),'b')\n",
    "\n",
    "ax2.set_ylabel(r'$S_{500}/S_{250}$')\n",
    "\n",
    "ax3.fill_between(zpred, S350_S250_pred[:,0],S350_S250_pred[:,2],alpha=0.5)\n",
    "ax3.plot(red,np.array(S_350)/np.array(S_250),'r')\n",
    "ax3.plot(red,np.array(S_350_M82)/np.array(S_250_M82),'b')\n",
    "\n",
    "ax3.set_ylabel(r'$S_{350}/S_{250}$')\n",
    "ax3.set_xlabel('z')"
   ]
  },
  {
   "cell_type": "code",
   "execution_count": null,
   "metadata": {
    "collapsed": false
   },
   "outputs": [],
   "source": [
    "plt.figure(figsize=(10,10))\n",
    "color=['b-','g-','y-','r-']\n",
    "for i in range(0,4):\n",
    "    for j in range(0,2000):\n",
    "        SED_lambda=np.array([250.0/(1+zpred[i]),350.0/(1+zpred[i]),500.0/(1+zpred[i])])\n",
    "        SED_flux=np.array([S250,SED_350[j,i],SED_500[j,i]])\n",
    "        plt.plot(SED_lambda,SED_flux,color[i])\n"
   ]
  },
  {
   "cell_type": "code",
   "execution_count": null,
   "metadata": {
    "collapsed": false
   },
   "outputs": [],
   "source": [
    "print 2*len(red)+zpred.size"
   ]
  },
  {
   "cell_type": "code",
   "execution_count": null,
   "metadata": {
    "collapsed": false
   },
   "outputs": [],
   "source": [
    "plt.hist(stan_fit[:,:,10*3].reshape(2000,1))"
   ]
  },
  {
   "cell_type": "code",
   "execution_count": null,
   "metadata": {
    "collapsed": false
   },
   "outputs": [],
   "source": [
    "for i in range(0,10):\n",
    "    plt.plot(stan_fit[:,:,i+10*3].reshape(2000,1),stan_fit[:,:,i+20].reshape(2000,1),'o')\n"
   ]
  },
  {
   "cell_type": "code",
   "execution_count": null,
   "metadata": {
    "collapsed": false
   },
   "outputs": [],
   "source": [
    "len(red)"
   ]
  },
  {
   "cell_type": "code",
   "execution_count": 21,
   "metadata": {
    "collapsed": true
   },
   "outputs": [],
   "source": [
    "from xidplus import moc_routines as mocr"
   ]
  },
  {
   "cell_type": "code",
   "execution_count": 22,
   "metadata": {
    "collapsed": false
   },
   "outputs": [
    {
     "data": {
      "text/plain": [
       "array([27912454])"
      ]
     },
     "execution_count": 22,
     "metadata": {},
     "output_type": "execute_result"
    }
   ],
   "source": [
    "mocr.get_HEALPix_pixels(11,150.13718,2.16921,unique=True)"
   ]
  },
  {
   "cell_type": "code",
   "execution_count": null,
   "metadata": {
    "collapsed": true
   },
   "outputs": [],
   "source": []
  }
 ],
 "metadata": {
  "kernelspec": {
   "display_name": "Python 2",
   "language": "python",
   "name": "python2"
  },
  "language_info": {
   "codemirror_mode": {
    "name": "ipython",
    "version": 2
   },
   "file_extension": ".py",
   "mimetype": "text/x-python",
   "name": "python",
   "nbconvert_exporter": "python",
   "pygments_lexer": "ipython2",
   "version": "2.7.10"
  }
 },
 "nbformat": 4,
 "nbformat_minor": 0
}
