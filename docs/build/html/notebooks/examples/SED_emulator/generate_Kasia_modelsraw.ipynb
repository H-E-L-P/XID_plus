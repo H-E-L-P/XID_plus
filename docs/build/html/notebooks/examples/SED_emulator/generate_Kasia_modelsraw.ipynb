{
 "cells": [
  {
   "cell_type": "code",
   "execution_count": 97,
   "id": "97f49b04",
   "metadata": {},
   "outputs": [],
   "source": [
    "import numpy as onp\n",
    "from astropy.cosmology import Planck13\n",
    "from astropy.table import Table, vstack\n",
    "import subprocess\n",
    "from astropy.constants import L_sun, M_sun\n",
    "import glob\n",
    "import pylab as plt"
   ]
  },
  {
   "cell_type": "markdown",
   "id": "2eb0706f",
   "metadata": {},
   "source": [
    "### Advice from Kasia\n",
    "Use the following modules:\n",
    "* `Dale 2014` dust module with one parameter ($\\alpha$) however, $\\alpha$ can only take certian values in Cigale\n",
    "    * 0.0625, 0.1250, 0.1875, 0.2500,0.3125, 0.3750, 0.4375, 0.5000, 0.5625, 0.6250, 0.6875, 0.7500,0.8125, 0.8750, 0.9375, 1.0000, 1.0625, 1.1250, 1.1875, 1.2500,1.3125, 1.3750, 1.4375, 1.5000, 1.5625, 1.6250, 1.6875, 1.7500, 1.8125, 1.8750, 1.9375, 2.0000, 2.0625, 2.1250, 2.1875, 2.2500,2.3125, 2.3750, 2.4375, 2.5000, 2.5625, 2.6250, 2.6875, 2.7500,2.8125, 2.8750, 2.9375, 3.0000, 3.0625, 3.1250, 3.1875, 3.2500, 3.3125, 3.3750, 3.4375, 3.5000, 3.5625, 3.6250, 3.6875, 3.7500, 3.8125, 3.8750, 3.9375, 4.0000\n",
    "* `sfhdelayed` starforamtion history module. Has parameters $\\tau$ (500-6500) ($age$ can be calculated from redshift). $f_{burst}$ is set to 0\n",
    "* `bc03`stellar population synthesis module (don't change parameters)\n",
    "* `dustatt_2powerlaws` \n",
    "    * set $Av_BC$ the V band attenuation in the birth clouds to between 0 - 4\n",
    "    * set `BC_to_ISM_factor` to 0.7\n",
    "    \n",
    "Final parameters: $alpha$, $AV_BC$,$\\tau$,$z$,$SFR$,$AGN$\n",
    "\n",
    "Ideally, I would generate values from prior. I can do that for $AV_BC$,$\\tau$,$z$,$SFR$,$AGN$ but not $\\alpha$ given that there are fixed values."
   ]
  },
  {
   "cell_type": "code",
   "execution_count": 2,
   "id": "22133043",
   "metadata": {},
   "outputs": [],
   "source": [
    "def generate_CIGALE_String(vals):\n",
    "    return onp.array2string(vals, separator=',',formatter={'float_kind':lambda x: \"%.4f\" % x}).replace('\\n','')"
   ]
  },
  {
   "cell_type": "code",
   "execution_count": 153,
   "id": "38328bae",
   "metadata": {},
   "outputs": [],
   "source": [
    "alpha=onp.array([0.0625, 0.1250, 0.1875, 0.2500,0.3125, 0.3750, 0.4375, 0.5000, 0.5625, 0.6250, 0.6875, 0.7500,0.8125, 0.8750, 0.9375, 1.0000, 1.0625, 1.1250, 1.1875, 1.2500,1.3125, 1.3750, 1.4375, 1.5000, 1.5625, 1.6250, 1.6875, 1.7500, 1.8125, 1.8750, 1.9375, 2.0000, 2.0625, 2.1250, 2.1875, 2.2500,2.3125, 2.3750, 2.4375, 2.5000, 2.5625, 2.6250, 2.6875, 2.7500,2.8125, 2.8750, 2.9375, 3.0000, 3.0625, 3.1250, 3.1875, 3.2500, 3.3125, 3.3750, 3.4375, 3.5000, 3.5625, 3.6250, 3.6875, 3.7500, 3.8125, 3.8750, 3.9375, 4.0000])\n",
    "alpha=alpha[::4]\n",
    "#av_bc=onp.arange(0.1,4.0,0.2)\n",
    "av_bc=onp.arange(0.1,4.0,0.25)\n",
    "#tau=onp.arange(500,6500,200)\n",
    "tau=onp.arange(500,6500,400)\n",
    "age=onp.arange(1000,10001,750)\n",
    "z=onp.arange(0.05,6,0.4)#10.0**onp.arange(-2.5,0.77,0.1)\n",
    "#sfr=10.0**onp.arange(-2,4.75,0.25)\n",
    "sfr=10.0**onp.arange(-2,4.75,0.5)\n",
    "agn_frac=onp.arange(0,1.0,0.075)\n",
    "#agn_frac=onp.arange(0,1,0.1)\n"
   ]
  },
  {
   "cell_type": "code",
   "execution_count": 160,
   "id": "a411085f",
   "metadata": {},
   "outputs": [
    {
     "data": {
      "text/plain": [
       "146764800"
      ]
     },
     "execution_count": 160,
     "metadata": {},
     "output_type": "execute_result"
    }
   ],
   "source": [
    "alpha.size*av_bc.size*tau.size*agn_frac.size*age.size*sfr.size*z.size"
   ]
  },
  {
   "cell_type": "code",
   "execution_count": 155,
   "id": "44679834",
   "metadata": {},
   "outputs": [
    {
     "name": "stdout",
     "output_type": "stream",
     "text": [
      "16 16 15 15 14 14\n"
     ]
    }
   ],
   "source": [
    "print(alpha.size,av_bc.size,tau.size,z.size,sfr.size,agn_frac.size)"
   ]
  },
  {
   "cell_type": "code",
   "execution_count": 156,
   "id": "5ddc08f5",
   "metadata": {},
   "outputs": [],
   "source": [
    "params=[alpha,av_bc,tau,z,sfr,agn_frac]\n",
    "parameter_names=onp.array(['tau_main','age_main','Av_BC','alpha','fracAGN','redshift'])\n",
    "parameters={'tau_main':tau,'age_main':age,\n",
    "                'Av_BC':av_bc,'alpha':alpha,'fracAGN':agn_frac,'redshift':z,'sfr':sfr}\n",
    "  "
   ]
  },
  {
   "cell_type": "code",
   "execution_count": 158,
   "id": "8877a4a5",
   "metadata": {},
   "outputs": [
    {
     "data": {
      "text/plain": [
       "array([1000, 1750, 2500, 3250, 4000, 4750, 5500])"
      ]
     },
     "execution_count": 158,
     "metadata": {},
     "output_type": "execute_result"
    }
   ],
   "source": [
    "parameters['age_main'][parameters['age_main']<Planck13.age(1.0).value*1000.0]\n"
   ]
  },
  {
   "cell_type": "code",
   "execution_count": 164,
   "id": "e1b2dae2",
   "metadata": {},
   "outputs": [],
   "source": [
    "def generate_SEDs(parameter_names,parameters,path_to_cigale,path_to_ini_file,filename='tmp'):\n",
    "    col_scale=['omegacam_u', 'omegacam_g','omegacam_r','omegacam_i','omegacam_z', 'irac_i1','spire_250','spire_350','spire_500','dust.luminosity','sfh.sfr','stellar.m_star']\n",
    "\n",
    "    for i,z in enumerate(parameters['redshift']):\n",
    "        print(i)\n",
    "        fracagn=True\n",
    "        parameters_tmp = dict(parameters)\n",
    "        parameters_tmp['redshift']=[z]\n",
    "        parameters_tmp['age_main']=parameters['age_main'][parameters['age_main']<Planck13.age(z).value*1000.0]\n",
    "        fin = open(path_to_cigale+path_to_ini_file)\n",
    "        fout = open(path_to_cigale+\"pcigale.ini\", \"wt\")\n",
    "        for line in fin:\n",
    "            ind_line=[param + \" =\" in line for param in parameter_names]\n",
    "            if any(ind_line):\n",
    "                param=parameter_names[onp.array(ind_line)]\n",
    "                if param[0]=='fracAGN':\n",
    "                    if fracagn:\n",
    "                        fout.write(line)\n",
    "                        fracagn=False\n",
    "                    else:\n",
    "                        fout.write(\"   \"+param[0]+\" = \" + \", \".join(['{:.13f}'.format(i) for i in parameters_tmp[param[0]]]) + ' \\n')\n",
    "                        fracagn=True\n",
    "                else:\n",
    "                    fout.write(\"   \"+param[0]+\" = \" + \", \".join(['{:.13f}'.format(i) for i in parameters_tmp[param[0]]]) + ' \\n')\n",
    "            else:\n",
    "                fout.write(line)\n",
    "        fin.close()\n",
    "        fout.close()\n",
    "        from shutil import copyfile, move, rmtree\n",
    "        copyfile(path_to_cigale+path_to_ini_file+\".spec\",path_to_cigale+\"pcigale.ini.spec\")\n",
    "\n",
    "        p = subprocess.Popen(['pcigale', 'run'], cwd=path_to_cigale)\n",
    "        p.wait()\n",
    "        try:\n",
    "            rmtree(path_to_cigale+'{}/'.format(filename))\n",
    "        except(FileNotFoundError):\n",
    "            print('---')\n",
    "        move(path_to_cigale+'/out/', path_to_cigale+'/{}/'.format(filename))\n",
    "        SEDs = Table.read(path_to_cigale+'/{}//models-block-0.fits'.format(filename))\n",
    "        SEDs['dust.luminosity']=SEDs['dust.luminosity']/L_sun.value\n",
    "        #repeat the SED table by the number of scale steps\n",
    "        dataset=vstack([SEDs for i in range(0,parameters_tmp['sfr'].size)])\n",
    "        #repeat the scale range by the number of entries in table (so I can easily multiply each column)\n",
    "        scale_table=onp.repeat(parameters_tmp['sfr'],len(SEDs))/dataset['sfh.sfr']\n",
    "        \n",
    "        for c in col_scale:\n",
    "            dataset[c]=dataset[c]*scale_table\n",
    "        dataset['log10_sfh.sfr']=onp.log10(dataset['sfh.sfr'])\n",
    "        dataset.write('/Volumes/pdh_storage_2/kasia_gen_SEDs_z{}.fits'.format(i),overwrite=True)"
   ]
  },
  {
   "cell_type": "code",
   "execution_count": 165,
   "id": "9d0c84db",
   "metadata": {},
   "outputs": [
    {
     "name": "stdout",
     "output_type": "stream",
     "text": [
      "0\n",
      "1\n",
      "2\n",
      "3\n",
      "4\n",
      "5\n",
      "6\n",
      "7\n",
      "8\n",
      "9\n",
      "10\n",
      "11\n",
      "12\n",
      "13\n",
      "14\n"
     ]
    }
   ],
   "source": [
    "path_to_cigale='/Volumes/pdh_storage/cigale/'\n",
    "path_to_ini_file='pcigale_kasia_nn.ini'\n",
    "generate_SEDs(parameter_names,parameters,path_to_cigale,path_to_ini_file,filename='tmp')"
   ]
  },
  {
   "cell_type": "code",
   "execution_count": 174,
   "id": "ed433b04",
   "metadata": {},
   "outputs": [],
   "source": [
    "SED=Table.read('/Volumes/pdh_storage_2/kasia_gen_SEDs_zall.fits')"
   ]
  },
  {
   "cell_type": "code",
   "execution_count": 175,
   "id": "818b6114",
   "metadata": {},
   "outputs": [
    {
     "data": {
      "text/html": [
       "<i>Table length=5</i>\n",
       "<table id=\"table140580847523040\" class=\"table-striped table-bordered table-condensed\">\n",
       "<thead><tr><th>id</th><th>irac_i1</th><th>omegacam_g</th><th>omegacam_i</th><th>omegacam_r</th><th>omegacam_u</th><th>omegacam_z</th><th>spire_250</th><th>spire_350</th><th>spire_500</th><th>dust.luminosity</th><th>sfh.sfr</th><th>stellar.m_star</th><th>agn.fracAGN</th><th>attenuation.Av_BC</th><th>dust.alpha</th><th>sfh.age_main</th><th>sfh.tau_main</th><th>universe.redshift</th><th>log10_sfh.sfr</th></tr></thead>\n",
       "<thead><tr><th></th><th>mJy</th><th>mJy</th><th>mJy</th><th>mJy</th><th>mJy</th><th>mJy</th><th>mJy</th><th>mJy</th><th>mJy</th><th>W</th><th>solMass / yr</th><th>solMass</th><th></th><th>mag</th><th></th><th>Myr</th><th>Myr</th><th></th><th>solMass / yr</th></tr></thead>\n",
       "<thead><tr><th>int64</th><th>float64</th><th>float64</th><th>float64</th><th>float64</th><th>float64</th><th>float64</th><th>float64</th><th>float64</th><th>float64</th><th>float64</th><th>float64</th><th>float64</th><th>float64</th><th>float64</th><th>float64</th><th>float64</th><th>float64</th><th>float64</th><th>float64</th></tr></thead>\n",
       "<tr><td>0</td><td>0.0014188181560717973</td><td>0.002261927995354806</td><td>0.0026057414020026247</td><td>0.0024747374399131474</td><td>0.0011612105792080999</td><td>0.002789009172163457</td><td>0.019411635962933924</td><td>0.007586463352231668</td><td>0.002712597070067274</td><td>25031118.564180978</td><td>0.01</td><td>8688687.765422262</td><td>0.0</td><td>0.1</td><td>0.0625</td><td>1000.0</td><td>500.0</td><td>0.05</td><td>-2.0</td></tr>\n",
       "<tr><td>1</td><td>0.002735534804431096</td><td>0.002536757579342284</td><td>0.002956215651590011</td><td>0.0027929335424689817</td><td>0.0014006338549327206</td><td>0.0031744483796747503</td><td>0.019421063164926252</td><td>0.007589650850007532</td><td>0.00271373874356861</td><td>25031118.564180978</td><td>0.01</td><td>8688687.765422262</td><td>0.075</td><td>0.1</td><td>0.0625</td><td>1000.0</td><td>500.0</td><td>0.05</td><td>-2.0</td></tr>\n",
       "<tr><td>2</td><td>0.004284613214265571</td><td>0.002860086501680496</td><td>0.003368538298163409</td><td>0.003167281898417024</td><td>0.0016823082969616872</td><td>0.0036279062708645094</td><td>0.019432153990799582</td><td>0.007593400847390899</td><td>0.002715081888864299</td><td>25031118.564180978</td><td>0.01</td><td>8688687.765422262</td><td>0.15</td><td>0.1</td><td>0.0625</td><td>1000.0</td><td>500.0</td><td>0.05</td><td>-2.0</td></tr>\n",
       "<tr><td>3</td><td>0.006133513251809939</td><td>0.0032459952154390054</td><td>0.0038606653279445588</td><td>0.003614084774871138</td><td>0.0020185003729317427</td><td>0.004169130205510349</td><td>0.019445391428132265</td><td>0.007597876650719436</td><td>0.002716684997765604</td><td>25031118.564180978</td><td>0.01</td><td>8688687.765422262</td><td>0.225</td><td>0.1</td><td>0.0625</td><td>1000.0</td><td>500.0</td><td>0.05</td><td>-2.0</td></tr>\n",
       "<tr><td>4</td><td>0.00837860615454239</td><td>0.0037145986535743383</td><td>0.0044582481498216696</td><td>0.004156631124851133</td><td>0.0024267336080382395</td><td>0.004826330697580299</td><td>0.01946146545917909</td><td>0.00760331155476123</td><td>0.002718631630002904</td><td>25031118.564180978</td><td>0.01</td><td>8688687.765422262</td><td>0.3</td><td>0.1</td><td>0.0625</td><td>1000.0</td><td>500.0</td><td>0.05</td><td>-2.0</td></tr>\n",
       "</table>"
      ],
      "text/plain": [
       "<Table length=5>\n",
       "  id         irac_i1        ... universe.redshift log10_sfh.sfr\n",
       "               mJy          ...                    solMass / yr\n",
       "int64        float64        ...      float64         float64   \n",
       "----- --------------------- ... ----------------- -------------\n",
       "    0 0.0014188181560717973 ...              0.05          -2.0\n",
       "    1  0.002735534804431096 ...              0.05          -2.0\n",
       "    2  0.004284613214265571 ...              0.05          -2.0\n",
       "    3  0.006133513251809939 ...              0.05          -2.0\n",
       "    4   0.00837860615454239 ...              0.05          -2.0"
      ]
     },
     "execution_count": 175,
     "metadata": {},
     "output_type": "execute_result"
    }
   ],
   "source": [
    "SED[0:5]"
   ]
  },
  {
   "cell_type": "code",
   "execution_count": 176,
   "id": "ec02a831",
   "metadata": {},
   "outputs": [],
   "source": [
    "ind = (SED['log10_sfh.sfr']>2) & (SED['universe.redshift']<3)"
   ]
  },
  {
   "cell_type": "code",
   "execution_count": 177,
   "id": "00e526c7",
   "metadata": {},
   "outputs": [
    {
     "data": {
      "text/html": [
       "<i>Table length=13440000</i>\n",
       "<table id=\"table140580847521976\" class=\"table-striped table-bordered table-condensed\">\n",
       "<thead><tr><th>id</th><th>irac_i1</th><th>omegacam_g</th><th>omegacam_i</th><th>omegacam_r</th><th>omegacam_u</th><th>omegacam_z</th><th>spire_250</th><th>spire_350</th><th>spire_500</th><th>dust.luminosity</th><th>sfh.sfr</th><th>stellar.m_star</th><th>agn.fracAGN</th><th>attenuation.Av_BC</th><th>dust.alpha</th><th>sfh.age_main</th><th>sfh.tau_main</th><th>universe.redshift</th><th>log10_sfh.sfr</th></tr></thead>\n",
       "<thead><tr><th></th><th>mJy</th><th>mJy</th><th>mJy</th><th>mJy</th><th>mJy</th><th>mJy</th><th>mJy</th><th>mJy</th><th>mJy</th><th>W</th><th>solMass / yr</th><th>solMass</th><th></th><th>mag</th><th></th><th>Myr</th><th>Myr</th><th></th><th>solMass / yr</th></tr></thead>\n",
       "<thead><tr><th>int64</th><th>float64</th><th>float64</th><th>float64</th><th>float64</th><th>float64</th><th>float64</th><th>float64</th><th>float64</th><th>float64</th><th>float64</th><th>float64</th><th>float64</th><th>float64</th><th>float64</th><th>float64</th><th>float64</th><th>float64</th><th>float64</th><th>float64</th></tr></thead>\n",
       "<tr><td>0</td><td>44.86696958787138</td><td>71.52844368619948</td><td>82.40077823728733</td><td>78.25806921019633</td><td>36.72070273380958</td><td>88.19621399137205</td><td>613.8498275290706</td><td>239.9050357844832</td><td>85.77985115711942</td><td>791553470445.355</td><td>316.22776601683796</td><td>274760432167.73132</td><td>0.0</td><td>0.1</td><td>0.0625</td><td>1000.0</td><td>500.0</td><td>0.05</td><td>2.5</td></tr>\n",
       "<tr><td>1</td><td>86.50520600665531</td><td>80.2193182241692</td><td>93.48374713663202</td><td>88.32031347684594</td><td>44.29193149529261</td><td>100.38487194403172</td><td>614.1479418316528</td><td>240.0058333145677</td><td>85.81595404320421</td><td>791553470445.355</td><td>316.22776601683796</td><td>274760432167.73132</td><td>0.075</td><td>0.1</td><td>0.0625</td><td>1000.0</td><td>500.0</td><td>0.05</td><td>2.5</td></tr>\n",
       "<tr><td>2</td><td>135.4913664993425</td><td>90.44387650413364</td><td>106.52253407703759</td><td>100.15824790819849</td><td>53.19925944997855</td><td>114.72446953539612</td><td>614.4986645405734</td><td>240.12441864407882</td><td>85.8584280268334</td><td>791553470445.355</td><td>316.22776601683796</td><td>274760432167.73132</td><td>0.15</td><td>0.1</td><td>0.0625</td><td>1000.0</td><td>500.0</td><td>0.05</td><td>2.5</td></tr>\n",
       "<tr><td>3</td><td>193.95871934545283</td><td>102.64738154796213</td><td>122.08495719945708</td><td>114.28739545529666</td><td>63.83058636363592</td><td>131.83947311218583</td><td>614.9172690641236</td><td>240.2659559728502</td><td>85.90912278148753</td><td>791553470445.355</td><td>316.22776601683796</td><td>274760432167.73132</td><td>0.225</td><td>0.1</td><td>0.0625</td><td>1000.0</td><td>500.0</td><td>0.05</td><td>2.5</td></tr>\n",
       "<tr><td>4</td><td>264.9547906585869</td><td>117.4659233868967</td><td>140.98218527668075</td><td>131.444217476773</td><td>76.74005475879133</td><td>152.6219774554305</td><td>615.4255745570059</td><td>240.43782272921544</td><td>85.9706806978533</td><td>791553470445.355</td><td>316.22776601683796</td><td>274760432167.73132</td><td>0.3</td><td>0.1</td><td>0.0625</td><td>1000.0</td><td>500.0</td><td>0.05</td><td>2.5</td></tr>\n",
       "<tr><td>5</td><td>352.98991908687316</td><td>135.84091526717563</td><td>164.41474809243817</td><td>152.71867678340377</td><td>92.74779556878406</td><td>178.3922828410539</td><td>616.05587336818</td><td>240.65093750710835</td><td>86.04701251414686</td><td>791553470445.355</td><td>316.22776601683796</td><td>274760432167.73132</td><td>0.375</td><td>0.1</td><td>0.0625</td><td>1000.0</td><td>500.0</td><td>0.05</td><td>2.5</td></tr>\n",
       "<tr><td>6</td><td>465.03462799560094</td><td>159.22726856934875</td><td>194.23800985794753</td><td>179.79526135547914</td><td>113.1212838724111</td><td>211.19085333184728</td><td>616.8580718551287</td><td>240.92217449715392</td><td>86.14416209852045</td><td>791553470445.355</td><td>316.22776601683796</td><td>274760432167.73132</td><td>0.45</td><td>0.1</td><td>0.0625</td><td>1000.0</td><td>500.0</td><td>0.05</td><td>2.5</td></tr>\n",
       "<tr><td>7</td><td>612.4618765597166</td><td>189.99878607220816</td><td>233.4791437599336</td><td>215.42234631873623</td><td>139.92850532455196</td><td>254.3468671355228</td><td>617.9135961800615</td><td>241.2790652735296</td><td>86.27199049901205</td><td>791553470445.355</td><td>316.22776601683796</td><td>274760432167.73132</td><td>0.525</td><td>0.1</td><td>0.0625</td><td>1000.0</td><td>500.0</td><td>0.05</td><td>2.5</td></tr>\n",
       "<tr><td>8</td><td>815.1743433353757</td><td>232.30962263863984</td><td>287.4357028751644</td><td>264.4095881432148</td><td>176.7884348212457</td><td>313.6863861155767</td><td>619.364942126844</td><td>241.76979009104613</td><td>86.447754549688</td><td>791553470445.355</td><td>316.22776601683796</td><td>274760432167.73132</td><td>0.6</td><td>0.1</td><td>0.0625</td><td>1000.0</td><td>500.0</td><td>0.05</td><td>2.5</td></tr>\n",
       "<tr><td>...</td><td>...</td><td>...</td><td>...</td><td>...</td><td>...</td><td>...</td><td>...</td><td>...</td><td>...</td><td>...</td><td>...</td><td>...</td><td>...</td><td>...</td><td>...</td><td>...</td><td>...</td><td>...</td><td>...</td></tr>\n",
       "<tr><td>107510</td><td>6.039551525740913</td><td>1.8843682458819926</td><td>2.670660999350837</td><td>2.434596168477741</td><td>1.022397130422596</td><td>2.8907740888211566</td><td>239.73639666013543</td><td>553.2179207547798</td><td>1130.8151411933263</td><td>231002565335041.84</td><td>31622.776601683792</td><td>23995938235774.152</td><td>0.3</td><td>3.85</td><td>3.8125</td><td>1750.0</td><td>6100.0</td><td>2.85</td><td>4.5</td></tr>\n",
       "<tr><td>107511</td><td>8.426838171118403</td><td>2.63811541582226</td><td>3.7389168311745085</td><td>3.4084326941502185</td><td>1.4313559817076555</td><td>4.047059419553925</td><td>243.4341320233715</td><td>554.5143676706155</td><td>1131.2353776104064</td><td>231002565335041.84</td><td>31622.776601683792</td><td>23995938235774.152</td><td>0.375</td><td>3.85</td><td>3.8125</td><td>1750.0</td><td>6100.0</td><td>2.85</td><td>4.5</td></tr>\n",
       "<tr><td>107512</td><td>11.465202992507933</td><td>3.597429995746238</td><td>5.098515162586452</td><td>4.647860999551554</td><td>1.9518490651613676</td><td>5.518695295031992</td><td>248.14034066749005</td><td>556.1643910180427</td><td>1131.770223959417</td><td>231002565335041.84</td><td>31622.776601683792</td><td>23995938235774.152</td><td>0.45</td><td>3.85</td><td>3.8125</td><td>1750.0</td><td>6100.0</td><td>2.85</td><td>4.5</td></tr>\n",
       "<tr><td>107513</td><td>15.463051441704685</td><td>4.859686021961996</td><td>6.887460335496904</td><td>6.27868771718489</td><td>2.6367083854951994</td><td>7.455058289082081</td><td>254.33272046238292</td><td>558.3354743699205</td><td>1132.473969155484</td><td>231002565335041.84</td><td>31622.776601683792</td><td>23995938235774.152</td><td>0.525</td><td>3.85</td><td>3.8125</td><td>1750.0</td><td>6100.0</td><td>2.85</td><td>4.5</td></tr>\n",
       "<tr><td>107514</td><td>20.96009305935022</td><td>6.595288058008667</td><td>9.347259948248778</td><td>8.521074453930728</td><td>3.5783899509542176</td><td>10.117557405900955</td><td>262.8472426803607</td><td>561.3207139787526</td><td>1133.441618800076</td><td>231002565335041.84</td><td>31622.776601683792</td><td>23995938235774.152</td><td>0.6</td><td>3.85</td><td>3.8125</td><td>1750.0</td><td>6100.0</td><td>2.85</td><td>4.5</td></tr>\n",
       "<tr><td>107515</td><td>28.994230808216784</td><td>9.13193718761534</td><td>12.942351689963063</td><td>11.798408915328494</td><td>4.954693777394325</td><td>14.008902268943931</td><td>275.2915443835589</td><td>565.6837564839686</td><td>1134.8558759729417</td><td>231002565335041.84</td><td>31622.776601683792</td><td>23995938235774.152</td><td>0.675</td><td>3.85</td><td>3.8125</td><td>1750.0</td><td>6100.0</td><td>2.85</td><td>4.5</td></tr>\n",
       "<tr><td>107516</td><td>41.84885120640326</td><td>13.190575794986009</td><td>18.694498476705895</td><td>17.042144053564908</td><td>7.156779899698488</td><td>20.23505404981267</td><td>295.202427108676</td><td>572.6646244923145</td><td>1137.1186874495259</td><td>231002565335041.84</td><td>31622.776601683792</td><td>23995938235774.152</td><td>0.75</td><td>3.85</td><td>3.8125</td><td>1750.0</td><td>6100.0</td><td>2.85</td><td>4.5</td></tr>\n",
       "<tr><td>107517</td><td>65.72171766017814</td><td>20.728047494388687</td><td>29.377056794942593</td><td>26.780509310289673</td><td>11.246368412549083</td><td>31.797907357140343</td><td>332.1797807410364</td><td>585.6290936506708</td><td>1141.3210516203258</td><td>231002565335041.84</td><td>31622.776601683792</td><td>23995938235774.152</td><td>0.825</td><td>3.85</td><td>3.8125</td><td>1750.0</td><td>6100.0</td><td>2.85</td><td>4.5</td></tr>\n",
       "<tr><td>107518</td><td>125.40388379461542</td><td>39.5717267428954</td><td>56.08345259053439</td><td>51.12642245210164</td><td>21.470339694675584</td><td>60.70504062545956</td><td>424.6231648219374</td><td>618.0402665465618</td><td>1151.8269620473252</td><td>231002565335041.84</td><td>31622.776601683792</td><td>23995938235774.152</td><td>0.9</td><td>3.85</td><td>3.8125</td><td>1750.0</td><td>6100.0</td><td>2.85</td><td>4.5</td></tr>\n",
       "<tr><td>107519</td><td>543.1790467356755</td><td>171.4774814824421</td><td>243.02822315967654</td><td>221.54781444478508</td><td>93.03813866956092</td><td>263.05497350369365</td><td>1071.726853388243</td><td>844.9184768177984</td><td>1225.368335036322</td><td>231002565335041.84</td><td>31622.776601683792</td><td>23995938235774.152</td><td>0.975</td><td>3.85</td><td>3.8125</td><td>1750.0</td><td>6100.0</td><td>2.85</td><td>4.5</td></tr>\n",
       "</table>"
      ],
      "text/plain": [
       "<Table length=13440000>\n",
       "  id        irac_i1           omegacam_g     ... universe.redshift log10_sfh.sfr\n",
       "              mJy                mJy         ...                    solMass / yr\n",
       "int64       float64            float64       ...      float64         float64   \n",
       "------ ------------------ ------------------ ... ----------------- -------------\n",
       "     0  44.86696958787138  71.52844368619948 ...              0.05           2.5\n",
       "     1  86.50520600665531   80.2193182241692 ...              0.05           2.5\n",
       "     2  135.4913664993425  90.44387650413364 ...              0.05           2.5\n",
       "     3 193.95871934545283 102.64738154796213 ...              0.05           2.5\n",
       "     4  264.9547906585869  117.4659233868967 ...              0.05           2.5\n",
       "     5 352.98991908687316 135.84091526717563 ...              0.05           2.5\n",
       "     6 465.03462799560094 159.22726856934875 ...              0.05           2.5\n",
       "     7  612.4618765597166 189.99878607220816 ...              0.05           2.5\n",
       "     8  815.1743433353757 232.30962263863984 ...              0.05           2.5\n",
       "   ...                ...                ... ...               ...           ...\n",
       "107510  6.039551525740913 1.8843682458819926 ...              2.85           4.5\n",
       "107511  8.426838171118403   2.63811541582226 ...              2.85           4.5\n",
       "107512 11.465202992507933  3.597429995746238 ...              2.85           4.5\n",
       "107513 15.463051441704685  4.859686021961996 ...              2.85           4.5\n",
       "107514  20.96009305935022  6.595288058008667 ...              2.85           4.5\n",
       "107515 28.994230808216784   9.13193718761534 ...              2.85           4.5\n",
       "107516  41.84885120640326 13.190575794986009 ...              2.85           4.5\n",
       "107517  65.72171766017814 20.728047494388687 ...              2.85           4.5\n",
       "107518 125.40388379461542   39.5717267428954 ...              2.85           4.5\n",
       "107519  543.1790467356755  171.4774814824421 ...              2.85           4.5"
      ]
     },
     "execution_count": 177,
     "metadata": {},
     "output_type": "execute_result"
    }
   ],
   "source": [
    "SED[ind]"
   ]
  },
  {
   "cell_type": "code",
   "execution_count": 178,
   "id": "49633062",
   "metadata": {},
   "outputs": [],
   "source": [
    "tmpSED_extra=SED[ind][onp.random.choice(len(SED[ind]), 1000000, replace=False)]"
   ]
  },
  {
   "cell_type": "code",
   "execution_count": 179,
   "id": "38f21f82",
   "metadata": {},
   "outputs": [],
   "source": [
    "tmpSED_extra.write('./colab_kasia_gen_1E6_20220125_extra.fits')"
   ]
  },
  {
   "cell_type": "code",
   "execution_count": 170,
   "id": "e41abe6a",
   "metadata": {},
   "outputs": [],
   "source": [
    "tmpSED=SED[onp.random.choice(len(SED), 2000000, replace=False)]"
   ]
  },
  {
   "cell_type": "code",
   "execution_count": 171,
   "id": "1e06aca3",
   "metadata": {},
   "outputs": [],
   "source": [
    "tmpSED.write('./colab_kasia_gen_2E6_20220120.fits')"
   ]
  },
  {
   "cell_type": "code",
   "execution_count": 57,
   "id": "029fc07e",
   "metadata": {},
   "outputs": [
    {
     "name": "stderr",
     "output_type": "stream",
     "text": [
      "/Users/pdh21/anaconda3/envs/xidplus/lib/python3.6/site-packages/ipykernel_launcher.py:3: RuntimeWarning: Mean of empty slice\n",
      "  This is separate from the ipykernel package so we can avoid doing imports until\n"
     ]
    },
    {
     "name": "stdout",
     "output_type": "stream",
     "text": [
      "nan ./kasia_gen_SEDs_z1.258925411794174.fits\n",
      "nan ./kasia_gen_SEDs_z3.9810717055349976.fits\n",
      "nan ./kasia_gen_SEDs_z0.3162277660168392.fits\n",
      "nan ./kasia_gen_SEDs_z0.006309573444801936.fits\n",
      "nan ./kasia_gen_SEDs_z0.03162277660168386.fits\n",
      "nan ./kasia_gen_SEDs_z0.1584893192461119.fits\n",
      "nan ./kasia_gen_SEDs_z0.0630957344480195.fits\n",
      "nan ./kasia_gen_SEDs_z0.012589254117941687.fits\n",
      "nan ./kasia_gen_SEDs_z0.01584893192461116.fits\n",
      "nan ./kasia_gen_SEDs_z2.5118864315095952.fits\n",
      "nan ./kasia_gen_SEDs_z0.6309573444801962.fits\n",
      "nan ./kasia_gen_SEDs_z0.025118864315095846.fits\n",
      "nan ./kasia_gen_SEDs_z0.03981071705534982.fits\n",
      "nan ./kasia_gen_SEDs_z0.251188643150959.fits\n",
      "nan ./kasia_gen_SEDs_z0.0031622776601683794.fits\n",
      "nan ./kasia_gen_SEDs_z0.398107170553499.fits\n",
      "nan ./kasia_gen_SEDs_z0.05011872336272735.fits\n",
      "nan ./kasia_gen_SEDs_z1.995262314968891.fits\n",
      "nan ./kasia_gen_SEDs_z5.011872336272756.fits\n",
      "nan ./kasia_gen_SEDs_z0.01995262314968883.fits\n",
      "nan ./kasia_gen_SEDs_z0.12589254117941714.fits\n",
      "nan ./kasia_gen_SEDs_z0.01000000000000001.fits\n",
      "nan ./kasia_gen_SEDs_z0.5011872336272746.fits\n",
      "nan ./kasia_gen_SEDs_z1.000000000000005.fits\n",
      "nan ./kasia_gen_SEDs_z0.07943282347242837.fits\n",
      "nan ./kasia_gen_SEDs_z0.10000000000000031.fits\n",
      "nan ./kasia_gen_SEDs_z0.005011872336272725.fits\n",
      "nan ./kasia_gen_SEDs_z0.7943282347242854.fits\n",
      "nan ./kasia_gen_SEDs_z0.1995262314968887.fits\n",
      "nan ./kasia_gen_SEDs_z1.5848931924611223.fits\n",
      "nan ./kasia_gen_SEDs_z0.003981071705534973.fits\n",
      "nan ./kasia_gen_SEDs_z3.1622776601683986.fits\n",
      "nan ./kasia_gen_SEDs_z0.00794328234724282.fits\n"
     ]
    }
   ],
   "source": [
    "for i in glob.glob('./kasia_gen_SEDs_z*'):\n",
    "    t=Table.read(i)\n",
    "    print(onp.nanmean(t['spire_250']),i)"
   ]
  },
  {
   "cell_type": "code",
   "execution_count": 51,
   "id": "55a38cdb",
   "metadata": {},
   "outputs": [],
   "source": [
    "SEDs = Table.read(path_to_cigale+'/{}//models-block-0.fits'.format('tmp'))"
   ]
  },
  {
   "cell_type": "code",
   "execution_count": 52,
   "id": "8420d62a",
   "metadata": {},
   "outputs": [
    {
     "data": {
      "text/html": [
       "<i>Table length=12288</i>\n",
       "<table id=\"table140581198683664\" class=\"table-striped table-bordered table-condensed\">\n",
       "<thead><tr><th>id</th><th>spire_250</th><th>spire_350</th><th>spire_500</th><th>dust.luminosity</th><th>sfh.sfr</th><th>stellar.m_star</th><th>agn.fracAGN</th><th>attenuation.Av_BC</th><th>dust.alpha</th><th>sfh.tau_main</th><th>universe.redshift</th></tr></thead>\n",
       "<thead><tr><th></th><th>mJy</th><th>mJy</th><th>mJy</th><th>W</th><th>solMass / yr</th><th>solMass</th><th></th><th>mag</th><th></th><th>Myr</th><th></th></tr></thead>\n",
       "<thead><tr><th>int64</th><th>float64</th><th>float64</th><th>float64</th><th>float64</th><th>float64</th><th>float64</th><th>float64</th><th>float64</th><th>float64</th><th>float64</th><th>float64</th></tr></thead>\n",
       "<tr><td>0</td><td>nan</td><td>nan</td><td>nan</td><td>nan</td><td>nan</td><td>nan</td><td>nan</td><td>nan</td><td>nan</td><td>nan</td><td>nan</td></tr>\n",
       "<tr><td>1</td><td>nan</td><td>nan</td><td>nan</td><td>nan</td><td>nan</td><td>nan</td><td>nan</td><td>nan</td><td>nan</td><td>nan</td><td>nan</td></tr>\n",
       "<tr><td>2</td><td>nan</td><td>nan</td><td>nan</td><td>nan</td><td>nan</td><td>nan</td><td>nan</td><td>nan</td><td>nan</td><td>nan</td><td>nan</td></tr>\n",
       "<tr><td>3</td><td>nan</td><td>nan</td><td>nan</td><td>nan</td><td>nan</td><td>nan</td><td>nan</td><td>nan</td><td>nan</td><td>nan</td><td>nan</td></tr>\n",
       "<tr><td>4</td><td>nan</td><td>nan</td><td>nan</td><td>nan</td><td>nan</td><td>nan</td><td>nan</td><td>nan</td><td>nan</td><td>nan</td><td>nan</td></tr>\n",
       "<tr><td>5</td><td>nan</td><td>nan</td><td>nan</td><td>nan</td><td>nan</td><td>nan</td><td>nan</td><td>nan</td><td>nan</td><td>nan</td><td>nan</td></tr>\n",
       "<tr><td>6</td><td>nan</td><td>nan</td><td>nan</td><td>nan</td><td>nan</td><td>nan</td><td>nan</td><td>nan</td><td>nan</td><td>nan</td><td>nan</td></tr>\n",
       "<tr><td>7</td><td>nan</td><td>nan</td><td>nan</td><td>nan</td><td>nan</td><td>nan</td><td>nan</td><td>nan</td><td>nan</td><td>nan</td><td>nan</td></tr>\n",
       "<tr><td>8</td><td>nan</td><td>nan</td><td>nan</td><td>nan</td><td>nan</td><td>nan</td><td>nan</td><td>nan</td><td>nan</td><td>nan</td><td>nan</td></tr>\n",
       "<tr><td>...</td><td>...</td><td>...</td><td>...</td><td>...</td><td>...</td><td>...</td><td>...</td><td>...</td><td>...</td><td>...</td><td>...</td></tr>\n",
       "<tr><td>12278</td><td>nan</td><td>nan</td><td>nan</td><td>nan</td><td>nan</td><td>nan</td><td>nan</td><td>nan</td><td>nan</td><td>nan</td><td>nan</td></tr>\n",
       "<tr><td>12279</td><td>nan</td><td>nan</td><td>nan</td><td>nan</td><td>nan</td><td>nan</td><td>nan</td><td>nan</td><td>nan</td><td>nan</td><td>nan</td></tr>\n",
       "<tr><td>12280</td><td>nan</td><td>nan</td><td>nan</td><td>nan</td><td>nan</td><td>nan</td><td>nan</td><td>nan</td><td>nan</td><td>nan</td><td>nan</td></tr>\n",
       "<tr><td>12281</td><td>nan</td><td>nan</td><td>nan</td><td>nan</td><td>nan</td><td>nan</td><td>nan</td><td>nan</td><td>nan</td><td>nan</td><td>nan</td></tr>\n",
       "<tr><td>12282</td><td>nan</td><td>nan</td><td>nan</td><td>nan</td><td>nan</td><td>nan</td><td>nan</td><td>nan</td><td>nan</td><td>nan</td><td>nan</td></tr>\n",
       "<tr><td>12283</td><td>nan</td><td>nan</td><td>nan</td><td>nan</td><td>nan</td><td>nan</td><td>nan</td><td>nan</td><td>nan</td><td>nan</td><td>nan</td></tr>\n",
       "<tr><td>12284</td><td>nan</td><td>nan</td><td>nan</td><td>nan</td><td>nan</td><td>nan</td><td>nan</td><td>nan</td><td>nan</td><td>nan</td><td>nan</td></tr>\n",
       "<tr><td>12285</td><td>nan</td><td>nan</td><td>nan</td><td>nan</td><td>nan</td><td>nan</td><td>nan</td><td>nan</td><td>nan</td><td>nan</td><td>nan</td></tr>\n",
       "<tr><td>12286</td><td>nan</td><td>nan</td><td>nan</td><td>nan</td><td>nan</td><td>nan</td><td>nan</td><td>nan</td><td>nan</td><td>nan</td><td>nan</td></tr>\n",
       "<tr><td>12287</td><td>nan</td><td>nan</td><td>nan</td><td>nan</td><td>nan</td><td>nan</td><td>nan</td><td>nan</td><td>nan</td><td>nan</td><td>nan</td></tr>\n",
       "</table>"
      ],
      "text/plain": [
       "<Table length=12288>\n",
       "  id  spire_250 spire_350 ... dust.alpha sfh.tau_main universe.redshift\n",
       "         mJy       mJy    ...                Myr                       \n",
       "int64  float64   float64  ...  float64     float64         float64     \n",
       "----- --------- --------- ... ---------- ------------ -----------------\n",
       "    0       nan       nan ...        nan          nan               nan\n",
       "    1       nan       nan ...        nan          nan               nan\n",
       "    2       nan       nan ...        nan          nan               nan\n",
       "    3       nan       nan ...        nan          nan               nan\n",
       "    4       nan       nan ...        nan          nan               nan\n",
       "    5       nan       nan ...        nan          nan               nan\n",
       "    6       nan       nan ...        nan          nan               nan\n",
       "    7       nan       nan ...        nan          nan               nan\n",
       "    8       nan       nan ...        nan          nan               nan\n",
       "  ...       ...       ... ...        ...          ...               ...\n",
       "12278       nan       nan ...        nan          nan               nan\n",
       "12279       nan       nan ...        nan          nan               nan\n",
       "12280       nan       nan ...        nan          nan               nan\n",
       "12281       nan       nan ...        nan          nan               nan\n",
       "12282       nan       nan ...        nan          nan               nan\n",
       "12283       nan       nan ...        nan          nan               nan\n",
       "12284       nan       nan ...        nan          nan               nan\n",
       "12285       nan       nan ...        nan          nan               nan\n",
       "12286       nan       nan ...        nan          nan               nan\n",
       "12287       nan       nan ...        nan          nan               nan"
      ]
     },
     "execution_count": 52,
     "metadata": {},
     "output_type": "execute_result"
    }
   ],
   "source": [
    "SEDs"
   ]
  },
  {
   "cell_type": "code",
   "execution_count": 86,
   "id": "74cd0e6e",
   "metadata": {},
   "outputs": [
    {
     "data": {
      "text/plain": [
       "array([0.31622777])"
      ]
     },
     "execution_count": 86,
     "metadata": {},
     "output_type": "execute_result"
    }
   ],
   "source": [
    "parameters['redshift'][20:21]"
   ]
  },
  {
   "cell_type": "code",
   "execution_count": 143,
   "id": "a58184be",
   "metadata": {},
   "outputs": [],
   "source": [
    "SEDs=Table.read('./kasia_gen_SEDS_zall.fits')"
   ]
  },
  {
   "cell_type": "code",
   "execution_count": 146,
   "id": "ba7afaf9",
   "metadata": {},
   "outputs": [
    {
     "data": {
      "text/plain": [
       "(array([  208320.,  2176797.,  6353576., 10537392., 11559455.,  8531064.,\n",
       "         4159210.,   778986.,   129860.,    23324.]),\n",
       " array([-5.38983722, -3.48497987, -1.58012252,  0.32473482,  2.22959217,\n",
       "         4.13444952,  6.03930686,  7.94416421,  9.84902156, 11.7538789 ,\n",
       "        13.65873625]),\n",
       " <BarContainer object of 10 artists>)"
      ]
     },
     "execution_count": 146,
     "metadata": {},
     "output_type": "execute_result"
    },
    {
     "data": {
      "image/png": "[encoded data removed]",
      "text/plain": [
       "<Figure size 432x288 with 1 Axes>"
      ]
     },
     "metadata": {
      "needs_background": "light"
     },
     "output_type": "display_data"
    }
   ],
   "source": [
    "plt.hist(onp.log10(SEDs['spire_250']))"
   ]
  },
  {
   "cell_type": "code",
   "execution_count": null,
   "id": "6c1d84da",
   "metadata": {},
   "outputs": [],
   "source": []
  }
 ],
 "metadata": {
  "kernelspec": {
   "display_name": "Python 3",
   "language": "python",
   "name": "python3"
  },
  "language_info": {
   "codemirror_mode": {
    "name": "ipython",
    "version": 3
   },
   "file_extension": ".py",
   "mimetype": "text/x-python",
   "name": "python",
   "nbconvert_exporter": "python",
   "pygments_lexer": "ipython3",
   "version": "3.6.13"
  }
 },
 "nbformat": 4,
 "nbformat_minor": 5
}
