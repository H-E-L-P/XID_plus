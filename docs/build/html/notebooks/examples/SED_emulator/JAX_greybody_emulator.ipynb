{
 "cells": [
  {
   "cell_type": "markdown",
   "metadata": {},
   "source": [
    "# The JAX emulator: Greybody prototype\n",
    "In this notebook, I will prototype my idea for emulating radiative transfer codes with a Deepnet in order for it to be used inside xidplus. As `numpyro` uses JAX, the Deepnet wil ideally be trained with a JAX network. As a proof of concept, I will use a greybody rather than a radiative transfer code."
   ]
  },
  {
   "cell_type": "code",
   "execution_count": 27,
   "metadata": {},
   "outputs": [],
   "source": [
    "import fitIR\n",
    "import fitIR.models as models\n",
    "import fitIR.analyse as analyse\n",
    "from astropy.cosmology import WMAP9 as cosmo\n",
    "import jax\n",
    "import numpy as onp\n",
    "import pylab as plt\n",
    "import astropy.units as u\n",
    "import scipy.integrate as integrate\n",
    "%matplotlib inline\n",
    "\n",
    "import jax.numpy as np\n",
    "from jax import grad, jit, vmap, value_and_grad\n",
    "from jax import random\n",
    "from jax import vmap # for auto-vectorizing functions\n",
    "from functools import partial # for use with vmap\n",
    "from jax import jit # for compiling functions for speedup\n",
    "from jax.experimental import stax # neural network library\n",
    "from jax.experimental.stax import Conv, Dense, MaxPool, Relu, Flatten, LogSoftmax, LeakyRelu # neural network layers\n",
    "\n",
    "from jax.experimental import optimizers\n",
    "from jax.tree_util import tree_multimap  # Element-wise manipulation of collections of numpy arrays \n",
    "import matplotlib.pyplot as plt # visualization\n",
    "# Generate key which is used to generate random numbers\n",
    "key = random.PRNGKey(1)"
   ]
  },
  {
   "cell_type": "markdown",
   "metadata": {},
   "source": [
    "The first step is to create a training and validation dataset. To do this I will randomly sample from parameter space (rather than a grid). I will create a function to do the sampling. I will also define function to do the transform and inverse_transform from standardised values to physical values."
   ]
  },
  {
   "cell_type": "code",
   "execution_count": 28,
   "metadata": {},
   "outputs": [],
   "source": [
    "def standarise_uniform(lims):\n",
    "    param_sd=(lims[1]-lims[0])/np.sqrt(12.0)\n",
    "    param_mean=0.5*(lims[1]+lims[0])\n",
    "    return param_sd,param_mean\n",
    "\n",
    "def generate_samples(size=100,lims=np.array([[6,16],[0,7],[20,80]])):\n",
    "    \"\"\"Sample from uniform space\"\"\"\n",
    "    #get parameter values from uniform distribution\n",
    "    LIR=onp.random.uniform(low=lims[0,0],high=lims[0,1],size=size)\n",
    "    #sample in log10 space for redshift\n",
    "    redshift=onp.random.uniform(low=lims[1,0],high=lims[1,1],size=size)\n",
    "    #sample in log10 space\n",
    "    temperature=onp.random.uniform(low=lims[2,0],high=lims[2,1],size=size)\n",
    "    #get standard deviation and mean for uniform dist\n",
    "    LIR_sd,LIR_mean=standarise_uniform(lims[0,:])\n",
    "    \n",
    "    red_sd, red_mean=standarise_uniform(lims[1,:])\n",
    "    \n",
    "    temp_sd,temp_mean=standarise_uniform(lims[2,:])\n",
    "    \n",
    "    return onp.vstack((LIR,redshift,temperature)).T,onp.vstack(((LIR-LIR_mean)/LIR_sd,(redshift-red_mean)/red_sd,(temperature-temp_mean)/temp_sd)).T"
   ]
  },
  {
   "cell_type": "code",
   "execution_count": 30,
   "metadata": {},
   "outputs": [],
   "source": [
    "def transform_parameters(param,lims=np.array([[6,16],[0,7],[20,80]])):\n",
    "    \"\"\"transform from physical values to standardised values\"\"\"\n",
    "    LIR_sd,LIR_mean=standarise_uniform(lims[0,:])\n",
    "    \n",
    "    red_sd, red_mean=standarise_uniform(lims[1,:])\n",
    "    \n",
    "    temp_sd,temp_mean=standarise_uniform(lims[2,:])\n",
    "    \n",
    "    LIR_norm=(param[0]-LIR_mean)/LIR_sd\n",
    "    red_norm=(param[1]-red_mean)/red_sd\n",
    "    temp_norm=(param[2]-temp_mean)/temp_sd\n",
    "    return np.vstack((LIR_norm,red_norm,temp_norm)).T\n",
    "\n",
    "def inverse_transform_parameters(param,lims=np.array([[6,16],[0,7],[20,80]])):\n",
    "    \"\"\" Transform from standardised parameters to physical values\n",
    "    function works with posterior samples\"\"\"\n",
    "    LIR_sd,LIR_mean=standarise_uniform(lims[0,:])\n",
    "    \n",
    "    red_sd, red_mean=standarise_uniform(lims[1,:])\n",
    "    \n",
    "    temp_sd,temp_mean=standarise_uniform(lims[2,:])\n",
    "    \n",
    "    LIR=param[...,0]*LIR_sd+LIR_mean\n",
    "    red=param[...,1]*red_sd+red_mean\n",
    "    temp=param[...,2]*temp_sd+temp_mean\n",
    "    return np.stack((LIR.T,red.T,temp.T)).T"
   ]
  },
  {
   "cell_type": "markdown",
   "metadata": {},
   "source": [
    "I need to convolve the grebody with the relevant filters. I will use the code I already wrote in xidplus for the original SED work"
   ]
  },
  {
   "cell_type": "code",
   "execution_count": 38,
   "metadata": {},
   "outputs": [],
   "source": [
    "import xidplus\n",
    "from xidplus import filters\n",
    "filter_=filters.FilterFile(file=xidplus.__path__[0]+'/../test_files/filters.res')\n",
    "SPIRE_250=filter_.filters[215]\n",
    "SPIRE_350=filter_.filters[216]\n",
    "SPIRE_500=filter_.filters[217]\n",
    "MIPS_24=filter_.filters[201]\n",
    "PACS_100=filter_.filters[250]\n",
    "PACS_160=filter_.filters[251]\n",
    "\n",
    "bands=[SPIRE_250,SPIRE_350,SPIRE_500]#,PACS_100,PACS_160]\n",
    "eff_lam=[250.0,350.0,500.0]#, 100.0,160.0]\n",
    "\n",
    "from scipy.interpolate import interp1d\n",
    "\n",
    "def get_fluxes(samples):\n",
    "    measured=onp.empty((samples.shape[0],len(bands)))\n",
    "    val = onp.linspace(onp.log10(3E8/8E-6),onp.log10(3E8/1E-3),1000)\n",
    "    val = 10**val\n",
    "    for i,s in enumerate(samples):\n",
    "        z=s[1]\n",
    "        prior = {}\n",
    "        prior['z'] = s[1]\n",
    "        prior['log10LIR'] = s[0]\n",
    "        prior['T'] = s[2]\n",
    "        prior['emissivity'] = 1.5\n",
    "\n",
    "\n",
    "\n",
    "        source = models.greybody(prior)\n",
    "\n",
    "        nu,lnu = source.generate_greybody(val,z)\n",
    "        wave = 3E8/nu*1E6\n",
    "        sed=interp1d(wave,lnu)\n",
    "        dist = cosmo.luminosity_distance(z).to(u.cm).value\n",
    "\n",
    "        for b in range(0,len(bands)):\n",
    "            measured[i,b]=(1.0+z)*filters.fnu_filt(sed(bands[b].wavelength/1E4),\n",
    "                                     3E8/(bands[b].wavelength/1E10),\n",
    "                                     bands[b].transmission,\n",
    "                                     3E8/(eff_lam[b]*1E-6),\n",
    "                                     sed(eff_lam[b]))/(4*onp.pi*dist**2)\n",
    "    return measured/10**(-26)"
   ]
  },
  {
   "cell_type": "markdown",
   "metadata": {},
   "source": [
    "## DeepNet building\n",
    "I will build a multi input, multi output deepnet model as my emulator, with parameters as input and the observed flux as outputs. I will train on log10 flux to make the model easier to train, and have already standarised the input parameters. I wilkl be using `stax` which can be thought of as the `Keras` equivalent for `JAX`. This [blog](https://blog.evjang.com/2019/02/maml-jax.html) was useful starting point."
   ]
  },
  {
   "cell_type": "code",
   "execution_count": 39,
   "metadata": {},
   "outputs": [],
   "source": [
    "import torch\n",
    "from torch.utils.data import Dataset, DataLoader\n",
    "## class for sed using the torch dataset class\n",
    "class sed_data(Dataset):\n",
    "    \n",
    "    def __init__(self,params,fluxes):\n",
    "        self.X=params\n",
    "        self.y=fluxes\n",
    "    def __len__(self):\n",
    "        return len(self.X)\n",
    "    def __getitem__(self,idx):\n",
    "        return self.X[idx],self.y[idx]"
   ]
  },
  {
   "cell_type": "markdown",
   "metadata": {},
   "source": [
    "I will use batches to help train the network"
   ]
  },
  {
   "cell_type": "code",
   "execution_count": 40,
   "metadata": {},
   "outputs": [],
   "source": [
    "batch_size=10\n",
    "## generate random SED samples\n",
    "samp_train,samp_stand_train=generate_samples(2000)\n",
    "## Use Steve's code and xidplus filters to get fluxes\n",
    "measured_train=get_fluxes(samp_train)\n",
    "## use data in SED dataclass\n",
    "ds = sed_data(samp_stand_train,measured_train)\n",
    "## use torch DataLoader\n",
    "train_loader = DataLoader(ds, batch_size=batch_size,)\n",
    "## do same but for test set\n",
    "samp_test,samp_stand_test=generate_samples(500)\n",
    "measured_test=get_fluxes(samp_test)\n",
    "\n",
    "ds = sed_data(samp_stand_test,measured_test)\n",
    "test_loader = DataLoader(ds, batch_size=batch_size)"
   ]
  },
  {
   "cell_type": "code",
   "execution_count": 41,
   "metadata": {},
   "outputs": [],
   "source": [
    "# Use stax to set up network initialization and evaluation functions\n",
    "net_init, net_apply = stax.serial(\n",
    "    Dense(128), LeakyRelu,\n",
    "    Dense(128), LeakyRelu,\n",
    "    Dense(len(bands))\n",
    ")\n",
    "in_shape = (-1, 3,)\n",
    "out_shape, net_params = net_init(key,in_shape)"
   ]
  },
  {
   "cell_type": "code",
   "execution_count": 42,
   "metadata": {},
   "outputs": [],
   "source": [
    "def loss(params, inputs, targets):\n",
    "    # Computes average loss for the batch\n",
    "    predictions = net_apply(params, inputs)\n",
    "    return np.mean((targets - predictions)**2)\n",
    "\n",
    "def batch_loss(p,x_b,y_b):\n",
    "    loss_b=vmap(partial(loss,p))(x_b,y_b)\n",
    "    return np.mean(loss_b)"
   ]
  },
  {
   "cell_type": "code",
   "execution_count": 43,
   "metadata": {},
   "outputs": [],
   "source": [
    "def sample_batch(outer_batch_size,inner_batch_size):\n",
    "    def get_batch():\n",
    "        xs, ys = [], []\n",
    "        for i in range(0,outer_batch_size):\n",
    "            samp_train,samp_stand_train=generate_samples(inner_batch_size)\n",
    "            ## Use Steve's code and xidplus filters to get fluxes\n",
    "            measured_train=get_fluxes(samp_train)\n",
    "            xs.append(samp_stand_train)\n",
    "            ys.append(np.log(measured_train))\n",
    "        return np.stack(xs), np.stack(ys)\n",
    "    x1, y1 = get_batch()\n",
    "    return x1, y1"
   ]
  },
  {
   "cell_type": "code",
   "execution_count": 44,
   "metadata": {},
   "outputs": [
    {
     "name": "stdout",
     "output_type": "stream",
     "text": [
      "0\n",
      "100\n",
      "200\n",
      "300\n",
      "400\n",
      "500\n",
      "600\n",
      "700\n",
      "800\n",
      "900\n",
      "1000\n",
      "1100\n",
      "1200\n",
      "1300\n",
      "1400\n",
      "1500\n",
      "1600\n",
      "1700\n",
      "1800\n",
      "1900\n",
      "2000\n",
      "2100\n",
      "2200\n",
      "2300\n",
      "2400\n",
      "2500\n",
      "2600\n",
      "2700\n",
      "2800\n",
      "2900\n",
      "3000\n",
      "3100\n",
      "3200\n",
      "3300\n",
      "3400\n",
      "3500\n",
      "3600\n",
      "3700\n",
      "3800\n",
      "3900\n"
     ]
    }
   ],
   "source": [
    "opt_init, opt_update, get_params= optimizers.adam(step_size=1e-3)\n",
    "out_shape, net_params = net_init(key,in_shape)\n",
    "opt_state = opt_init(net_params)\n",
    "\n",
    "@jit\n",
    "def step(i, opt_state, x1, y1):\n",
    "    p = get_params(opt_state)\n",
    "    g = grad(batch_loss)(p, x1, y1)\n",
    "    loss_tmp=batch_loss(p,x1,y1)\n",
    "    return opt_update(i, g, opt_state),loss_tmp\n",
    "\n",
    "np_batched_loss_1 = []\n",
    "valid_loss=[]\n",
    "K=40\n",
    "for i in range(4000):\n",
    "    # sample random batchs for training\n",
    "    x1_b, y1_b = sample_batch(10, K)\n",
    "    # sample random batches for validation\n",
    "    x2_b,y2_b = sample_batch(1,K)\n",
    "    opt_state, l = step(i, opt_state, x1_b, y1_b)\n",
    "    p = get_params(opt_state)\n",
    "    valid_loss.append(batch_loss(p,x2_b,y2_b))\n",
    "    np_batched_loss_1.append(l)\n",
    "    if i % 100 == 0:\n",
    "        print(i)\n",
    "net_params = get_params(opt_state)"
   ]
  },
  {
   "cell_type": "code",
   "execution_count": 53,
   "metadata": {},
   "outputs": [
    {
     "name": "stdout",
     "output_type": "stream",
     "text": [
      "0\n",
      "100\n",
      "200\n",
      "300\n",
      "400\n",
      "500\n",
      "600\n",
      "700\n",
      "800\n",
      "900\n",
      "1000\n",
      "1100\n",
      "1200\n",
      "1300\n",
      "1400\n",
      "1500\n",
      "1600\n",
      "1700\n",
      "1800\n",
      "1900\n",
      "2000\n",
      "2100\n",
      "2200\n",
      "2300\n",
      "2400\n",
      "2500\n",
      "2600\n",
      "2700\n",
      "2800\n",
      "2900\n",
      "3000\n",
      "3100\n",
      "3200\n",
      "3300\n",
      "3400\n",
      "3500\n",
      "3600\n",
      "3700\n",
      "3800\n",
      "3900\n",
      "4000\n",
      "4100\n",
      "4200\n",
      "4300\n",
      "4400\n",
      "4500\n",
      "4600\n",
      "4700\n",
      "4800\n",
      "4900\n"
     ]
    }
   ],
   "source": [
    "opt_init, opt_update, get_params= optimizers.adam(step_size=1e-4)\n",
    "\n",
    "for i in range(5000):\n",
    "    # sample random batchs for training\n",
    "    x1_b, y1_b = sample_batch(10, K)\n",
    "    # sample random batches for validation\n",
    "    x2_b,y2_b = sample_batch(1,K)\n",
    "    opt_state, l = step(i, opt_state, x1_b, y1_b)\n",
    "    p = get_params(opt_state)\n",
    "    valid_loss.append(batch_loss(p,x2_b,y2_b))\n",
    "    np_batched_loss_1.append(l)\n",
    "    if i % 100 == 0:\n",
    "        print(i)\n",
    "net_params = get_params(opt_state)"
   ]
  },
  {
   "cell_type": "code",
   "execution_count": 54,
   "metadata": {},
   "outputs": [
    {
     "data": {
      "text/plain": [
       "<matplotlib.legend.Legend at 0x7f8ba5788b70>"
      ]
     },
     "execution_count": 54,
     "metadata": {},
     "output_type": "execute_result"
    },
    {
     "data": {
      "image/png": "[encoded data removed]",
      "text/plain": [
       "<Figure size 720x360 with 1 Axes>"
      ]
     },
     "metadata": {
      "needs_background": "light"
     },
     "output_type": "display_data"
    }
   ],
   "source": [
    "plt.figure(figsize=(10,5))\n",
    "plt.semilogy(np_batched_loss_1,label='Training loss')\n",
    "plt.semilogy(valid_loss,label='Validation loss')\n",
    "plt.xlabel('Iteration')\n",
    "plt.ylabel('Loss (MSE)')\n",
    "plt.legend()\n"
   ]
  },
  {
   "cell_type": "markdown",
   "metadata": {},
   "source": [
    "## Investigate performance of each band of emulator\n",
    "To visulise performance of the trainied emulator, I will show the difference between real and emulated for each band."
   ]
  },
  {
   "cell_type": "code",
   "execution_count": 55,
   "metadata": {},
   "outputs": [],
   "source": [
    "x,y=sample_batch(100,100)\n",
    "predictions = net_apply(net_params,x)"
   ]
  },
  {
   "cell_type": "code",
   "execution_count": 60,
   "metadata": {},
   "outputs": [
    {
     "data": {
      "image/png": "[encoded data removed]",
      "text/plain": [
       "<Figure size 3600x720 with 3 Axes>"
      ]
     },
     "metadata": {
      "needs_background": "light"
     },
     "output_type": "display_data"
    }
   ],
   "source": [
    "res=(predictions-y)/(y)\n",
    "fig,axes=plt.subplots(1,3,figsize=(50,10))\n",
    "for i in range(0,3):\n",
    "    axes[i].hist(res[:,:,i].flatten()*100.0,np.arange(-20,20,0.5))\n",
    "    axes[i].set_title(bands[i].name)\n",
    "    axes[i].set_xlabel(r'$\\frac{f_{pred} - f_{True}}{f_{True}} \\ \\%$ error')\n",
    "plt.subplots_adjust(wspace=0.5)"
   ]
  },
  {
   "cell_type": "markdown",
   "metadata": {},
   "source": [
    "## Save network\n",
    "Having trained and validated network, I need to save the network and relevant functions"
   ]
  },
  {
   "cell_type": "code",
   "execution_count": 61,
   "metadata": {},
   "outputs": [],
   "source": [
    "import cloudpickle\n"
   ]
  },
  {
   "cell_type": "code",
   "execution_count": 62,
   "metadata": {},
   "outputs": [
    {
     "data": {
      "text/plain": [
       "(<function jax.experimental.stax.serial.<locals>.init_fun(rng, input_shape)>,\n",
       " <function jax.experimental.stax.serial.<locals>.apply_fun(params, inputs, **kwargs)>)"
      ]
     },
     "execution_count": 62,
     "metadata": {},
     "output_type": "execute_result"
    }
   ],
   "source": [
    "with open('GB_emulator_20210324_notlog10z_T.pkl', 'wb') as f:\n",
    "    cloudpickle.dump({'net_init':net_init,'net_apply': net_apply,'params':net_params,'transform_parameters':transform_parameters,'inverse_transform_parameters':inverse_transform_parameters}, f)\n",
    "    \n",
    "net_init, net_apply"
   ]
  },
  {
   "cell_type": "code",
   "execution_count": 17,
   "metadata": {},
   "outputs": [
    {
     "data": {
      "text/plain": [
       "<function __main__.transform_parameters(param, lims=DeviceArray([[ 6.  , 16.  ],\n",
       "             [-2.  ,  1.  ],\n",
       "             [ 1.  ,  1.85]], dtype=float32))>"
      ]
     },
     "execution_count": 17,
     "metadata": {},
     "output_type": "execute_result"
    }
   ],
   "source": [
    "transform_parameters\n"
   ]
  },
  {
   "cell_type": "code",
   "execution_count": 18,
   "metadata": {},
   "outputs": [],
   "source": [
    "from xidplus.numpyro_fit.misc import load_emulator"
   ]
  },
  {
   "cell_type": "code",
   "execution_count": 19,
   "metadata": {},
   "outputs": [],
   "source": [
    "obj=load_emulator('GB_emulator_20210323.pkl')"
   ]
  },
  {
   "cell_type": "code",
   "execution_count": null,
   "metadata": {},
   "outputs": [],
   "source": []
  }
 ],
 "metadata": {
  "kernelspec": {
   "display_name": "Python 3",
   "language": "python",
   "name": "python3"
  }
 },
 "nbformat": 4,
 "nbformat_minor": 2
}
