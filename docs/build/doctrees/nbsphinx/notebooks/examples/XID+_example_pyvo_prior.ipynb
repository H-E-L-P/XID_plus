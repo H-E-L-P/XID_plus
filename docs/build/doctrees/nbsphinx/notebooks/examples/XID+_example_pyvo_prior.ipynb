{
 "cells": [
  {
   "cell_type": "code",
   "execution_count": 1,
   "metadata": {},
   "outputs": [
    {
     "name": "stderr",
     "output_type": "stream",
     "text": [
      "WARNING: AstropyDeprecationWarning: block_reduce was moved to the astropy.nddata.blocks module.  Please update your import statement. [astropy.nddata.utils]\n"
     ]
    }
   ],
   "source": [
    "from astropy.io import ascii, fits\n",
    "import astropy\n",
    "import pylab as plt\n",
    "%matplotlib inline\n",
    "from astropy import wcs\n",
    "from astropy.table import Table,Column,join,hstack\n",
    "from astropy.coordinates import SkyCoord\n",
    "from astropy import units as u\n",
    "import pymoc\n",
    "import glob\n",
    "from time import sleep\n",
    "import os\n",
    "\n",
    "\n",
    "import numpy as np\n",
    "import xidplus\n",
    "from xidplus import moc_routines\n",
    "import pickle\n",
    "import xidplus.catalogue as cat\n",
    "\n",
    "import sys\n",
    "from herschelhelp_internal.utils import inMoc,flux_to_mag\n",
    "from xidplus.stan_fit import SPIRE\n",
    "\n",
    "import aplpy\n",
    "import seaborn as sns\n",
    "#sns.set(color_codes=True)\n",
    "import pandas as pd\n",
    "#sns.set_style(\"white\")\n",
    "import xidplus.posterior_maps as postmaps\n",
    "import pyvo as vo\n",
    "\n"
   ]
  },
  {
   "cell_type": "markdown",
   "metadata": {},
   "source": [
    "First we select the field that the sources we are considering are in. If the sources span multiple fields that each field will need to be run individually as the FIR maps from seperate fields cannot be easily combined."
   ]
  },
  {
   "cell_type": "code",
   "execution_count": 3,
   "metadata": {},
   "outputs": [
    {
     "name": "stdout",
     "output_type": "stream",
     "text": [
      "ELAIS-N1\n"
     ]
    }
   ],
   "source": [
    "fields = ['AKARI-NEP',\n",
    " 'AKARI-SEP',\n",
    " 'Bootes',\n",
    " 'CDFS-SWIRE',\n",
    " 'COSMOS',\n",
    " 'EGS',\n",
    " 'ELAIS-N1',\n",
    " 'ELAIS-N2',\n",
    " 'ELAIS-S1',\n",
    " 'GAMA-09',\n",
    " 'GAMA-12',\n",
    " 'GAMA-15',\n",
    " 'HDF-N',\n",
    " 'Herschel-Stripe-82',\n",
    " 'Lockman-SWIRE',\n",
    " 'NGP',\n",
    " 'SA13',\n",
    " 'SGP',\n",
    " 'SPIRE-NEP',\n",
    " 'SSDF',\n",
    " 'XMM-13hr',\n",
    " 'XMM-LSS',\n",
    " 'xFLS']\n",
    "\n",
    "field_use = fields[6]\n",
    "print(field_use)"
   ]
  },
  {
   "cell_type": "markdown",
   "metadata": {},
   "source": [
    "Here you provide the coordinate of the objects you are planning to run XID+ on and their ID's if any \n",
    "If no ids are provided then they will be numbered 1-N)"
   ]
  },
  {
   "cell_type": "code",
   "execution_count": 19,
   "metadata": {},
   "outputs": [],
   "source": [
    "ras = [242,243]#enter your ra here as a list of numpy array\n",
    "decs = [55,55] #enter your dec here as a list or numpy array\n",
    "object_coords = SkyCoord(ra=ras*u.degree,dec=decs*u.degree)\n",
    "\n",
    "ids = [] #add your ids here as a list or numpy array\n",
    "if len(ids)==0:\n",
    "    ids = np.arange(0,len(ras),1)"
   ]
  },
  {
   "cell_type": "markdown",
   "metadata": {},
   "source": [
    "Run the pyvo query to create a table of all help sources within the desired radius of your objects"
   ]
  },
  {
   "cell_type": "code",
   "execution_count": 12,
   "metadata": {},
   "outputs": [
    {
     "name": "stdout",
     "output_type": "stream",
     "text": [
      "Job running\n"
     ]
    },
    {
     "name": "stderr",
     "output_type": "stream",
     "text": [
      "WARNING: UnknownElementWarning: None:7:166: UnknownElementWarning: Unknown element errorSummary [pyvo.utils.xml.elements]\n",
      "WARNING:astropy:UnknownElementWarning: None:7:166: UnknownElementWarning: Unknown element errorSummary\n",
      "WARNING: UnknownElementWarning: None:7:215: UnknownElementWarning: Unknown element message [pyvo.utils.xml.elements]\n",
      "WARNING:astropy:UnknownElementWarning: None:7:215: UnknownElementWarning: Unknown element message\n"
     ]
    },
    {
     "name": "stdout",
     "output_type": "stream",
     "text": [
      "job finsihed\n",
      "VO call failed\n"
     ]
    }
   ],
   "source": [
    "#setup a connection to the HELP VO server at Sussex\n",
    "search_radius = 60/3600 #distance away from object that the VO query will look for galaxies in degrees\n",
    "#for SPIRE AND PACS we recommend 60\" and for MIPS we reccomend 30\"\n",
    "\n",
    "\n",
    "service = vo.dal.TAPService(\"https://herschel-vos.phys.sussex.ac.uk/__system__/tap/run/tap\")\n",
    "\n",
    "for n,coords in enumerate(object_coords):\n",
    "    ra = coords.ra\n",
    "    dec = coords.dec\n",
    "    query_spire_pacs = \"\"\"\n",
    "        SELECT ra, dec, help_id, flag_optnir_det, f_mips_24\n",
    "        FROM herschelhelp.main\n",
    "        WHERE (\n",
    "        herschelhelp.main.field = '{}' AND\n",
    "        herschelhelp.main.falg_optnir_det>=5 AND\n",
    "        herschelhelp.main.f_mips_24>20\n",
    "        ) AND\n",
    "        WHERE CONTAINS(POINT('ICRS',ra, dec), CIRCLE('ICRS',{},{},{}))=1\n",
    "        \"\"\".format(field_use,ra,dec,search_radius)\n",
    "    \n",
    "    query_mips = \"\"\"\n",
    "        SELECT ra, dec, help_id, flag_optnir_det, f_irac_i1, f_irac_i2, f_irac_i3, f_irac_i4\n",
    "        FROM herschelhelp.main\n",
    "        WHERE (\n",
    "        herschelhelp.main.field = '{}' AND\n",
    "        herschelhelp.main.falg_optnir_det>=5 AND\n",
    "        ) AND\n",
    "        WHERE CONTAINS(POINT('ICRS',ra, dec), CIRCLE('ICRS',{},{},{}))=1\n",
    "        \"\"\".format(field_use,ra,dec,search_radius)\n",
    "        \n",
    "        \n",
    "    try:\n",
    "        job = service.submit_job(query)\n",
    "        job.run()\n",
    "\n",
    "        while job.phase == \"EXECUTING\":\n",
    "            print(\"Job running\")\n",
    "            sleep(5)\n",
    "        print('Job finsihed')        \n",
    "\n",
    "        if n==0:\n",
    "            prior_help = job.fetch_result().to_table()\n",
    "            print('table created with {} rows'.format(len(table)))\n",
    "        else:\n",
    "            result = job.fetch_result().to_table()\n",
    "            prior_help = astropy.table.vstack([result,table],join_type='outer')\n",
    "            print('table editied, added {} rows'.format(len(result)))\n",
    "\n",
    "\n",
    "        done_fields.append(field)\n",
    "    except:\n",
    "        print('VO call failed')\n",
    "    job.delete()"
   ]
  },
  {
   "cell_type": "code",
   "execution_count": 18,
   "metadata": {},
   "outputs": [
    {
     "ename": "NameError",
     "evalue": "name 'prior_cat' is not defined",
     "output_type": "error",
     "traceback": [
      "\u001b[0;31m---------------------------------------------------------------------------\u001b[0m",
      "\u001b[0;31mNameError\u001b[0m                                 Traceback (most recent call last)",
      "\u001b[0;32m<ipython-input-18-ec3ae170ea85>\u001b[0m in \u001b[0;36m<module>\u001b[0;34m()\u001b[0m\n\u001b[0;32m----> 1\u001b[0;31m \u001b[0mprint\u001b[0m\u001b[0;34m(\u001b[0m\u001b[0mlen\u001b[0m\u001b[0;34m(\u001b[0m\u001b[0mprior_cat\u001b[0m\u001b[0;34m)\u001b[0m\u001b[0;34m)\u001b[0m\u001b[0;34m\u001b[0m\u001b[0;34m\u001b[0m\u001b[0m\n\u001b[0m\u001b[1;32m      2\u001b[0m \u001b[0mprior_cat\u001b[0m\u001b[0;34m[\u001b[0m\u001b[0;34m:\u001b[0m\u001b[0;36m5\u001b[0m\u001b[0;34m]\u001b[0m\u001b[0;34m\u001b[0m\u001b[0;34m\u001b[0m\u001b[0m\n",
      "\u001b[0;31mNameError\u001b[0m: name 'prior_cat' is not defined"
     ]
    }
   ],
   "source": [
    "print(len(prior_help))\n",
    "prior_help[:5]"
   ]
  },
  {
   "cell_type": "markdown",
   "metadata": {},
   "source": [
    "Run the below cell if you are running XID+ on SPIRE or PACS maps"
   ]
  },
  {
   "cell_type": "code",
   "execution_count": null,
   "metadata": {},
   "outputs": [],
   "source": [
    "cra = Column(ras,name='ra')\n",
    "cdec = Column(decs,name='dec')\n",
    "cids = Column(ids,name='help_id')\n",
    "cdet = Column(np.zeros(len(ras))-99,name='flag_optnir_det')\n",
    "cmips = Column(np.zeros(len(ras))*np.nan,name='f_mips_24')\n",
    "prior_new = Table()\n",
    "prior_new.add_columns([cra,cdec,cids,cdet,cmips])\n",
    "\n",
    "\n",
    "prior_cat = vstack([prior_help,prior_new])\n",
    "len(prior_cat)\n",
    "prior_cat[:5]"
   ]
  },
  {
   "cell_type": "markdown",
   "metadata": {},
   "source": [
    "Run the below cells if you are running XID+ on MIPS maps"
   ]
  },
  {
   "cell_type": "code",
   "execution_count": null,
   "metadata": {},
   "outputs": [],
   "source": [
    "#provides limits on teh flat prior used in XID based on the galaxies IRAC fluxes\n",
    "MIPS_lower=np.full(len(prior_help),0.0)\n",
    "MIPS_upper=np.full(len(prior_help),1E5)\n",
    "for i in range(len(prior_cat)):\n",
    "    if np.isnan(prior_cat['f_irac_i4'][i])==False:\n",
    "        MIPS_lower[i]=prior_cat['f_irac_i4'][i]/500.0\n",
    "        MIPS_upper[i]=prior_cat['f_irac_i4'][i]*500.0\n",
    "    elif np.isnan(prior_cat['f_irac_i3'][i])==False:\n",
    "        MIPS_lower[i]=prior_cat['f_irac_i3'][i]/500.0\n",
    "        MIPS_upper[i]=prior_cat['f_irac_i3'][i]*500.0\n",
    "    elif np.isnan(prior_cat['f_irac_i2'][i])==False:\n",
    "        MIPS_lower[i]=prior_cat['f_irac_i2'][i]/500.0\n",
    "        MIPS_upper[i]=prior_cat['f_irac_i2'][i]*500.0\n",
    "    elif np.isnan(prior_cat['f_irac_i1'][i])==False:\n",
    "        MIPS_lower[i]=prior_cat['f_irac_i1'][i]/500.0\n",
    "        MIPS_upper[i]=prior_cat['f_irac_i1'][i]*500.0\n",
    "        \n",
    "mips_lower_col = Column(MIPS_lower,name='MIPS_lower')\n",
    "mips_upper_col = Column(MIPS_upper,name='MIPS_upper')\n",
    "prior_help.add_columns([mips_lower_col,mips_upper_col])"
   ]
  },
  {
   "cell_type": "code",
   "execution_count": null,
   "metadata": {},
   "outputs": [],
   "source": [
    "#add your IRAC fluxes here, if your objects don't have IRAC fluxes then they will be set to nan\n",
    "i1_f = np.zeros(len(ras))*np.nan\n",
    "i2_f = np.zeros(len(ras))*np.nan\n",
    "i3_f = np.zeros(len(ras))*np.nan\n",
    "i4_f = np.zeros(len(ras))*np.nan\n",
    "\n",
    "cra = Column(ras,name='ra')\n",
    "cdec = Column(decs,name='dec')\n",
    "cids = Column(ids,name='help_id')\n",
    "cdet = Column(np.zeros(len(ras))-99,name='flag_optnir_det')\n",
    "ci1 = Column(i1_f,name='f_irac_i1')\n",
    "ci2 = Column(i2_f,name='f_irac_i2')\n",
    "ci3 = Column(i3_f,name='f_irac_i3')\n",
    "ci4 = Column(i4_f,name='f_irac_i4')\n",
    "\n",
    "\n",
    "\n",
    "MIPS_lower=np.full(len(lofar_prior),0.0)\n",
    "MIPS_upper=np.full(len(lofar_prior),1E5)\n",
    "for i in range(len(lofar_prior)):\n",
    "    if np.isnan(lofar_prior['f_irac_i4'][i])==False:\n",
    "        MIPS_lower[i]=lofar_prior['f_irac_i4'][i]/500.0\n",
    "        MIPS_upper[i]=lofar_prior['f_irac_i4'][i]*500.0\n",
    "    elif np.isnan(lofar_prior['f_irac_i3'][i])==False:\n",
    "        MIPS_lower[i]=lofar_prior['f_irac_i3'][i]/500.0\n",
    "        MIPS_upper[i]=lofar_prior['f_irac_i3'][i]*500.0\n",
    "    elif np.isnan(lofar_prior['f_irac_i2'][i])==False:\n",
    "        MIPS_lower[i]=lofar_prior['f_irac_i2'][i]/500.0\n",
    "        MIPS_upper[i]=lofar_prior['f_irac_i2'][i]*500.0\n",
    "    elif np.isnan(lofar_prior['f_irac_i1'][i])==False:\n",
    "        MIPS_lower[i]=lofar_prior['f_irac_i1'][i]/500.0\n",
    "        MIPS_upper[i]=lofar_prior['f_irac_i1'][i]*500.0\n",
    "        \n",
    "mips_lower_col = Column(MIPS_lower,name='MIPS_lower')\n",
    "mips_upper_col = Column(MIPS_upper,name='MIPS_upper')\n",
    "prior_new = Table()\n",
    "prior_new.add_columns([cra,cdec,cids,cdet,ci1,ci2,ci3,ci4,mips_lower_col,mips_upper_col])\n",
    "\n",
    "\n",
    "prior_cat = vstack([prior_help,prior_new])\n",
    "len(prior_cat)"
   ]
  },
  {
   "cell_type": "markdown",
   "metadata": {},
   "source": [
    "Now that we have created the prior we can run XID+"
   ]
  },
  {
   "cell_type": "markdown",
   "metadata": {},
   "source": [
    "## Load in the FIR maps"
   ]
  },
  {
   "cell_type": "markdown",
   "metadata": {},
   "source": [
    "here we load in the SPIRE maps but you can substitue this with PACS and MIPS yourself"
   ]
  },
  {
   "cell_type": "code",
   "execution_count": null,
   "metadata": {},
   "outputs": [],
   "source": [
    "#Read in the herschel images\n",
    "imfolder='../../../../../HELP/dmu_products/dmu19/dmu19_HELP-SPIRE-maps/data/'\n",
    "\n",
    "pswfits=imfolder+'ELAIS-N1_SPIRE250_v1.0.fits'#SPIRE 250 map\n",
    "pmwfits=imfolder+'ELAIS-N1_SPIRE350_v1.0.fits'#SPIRE 350 map\n",
    "plwfits=imfolder+'ELAIS-N1_SPIRE500_v1.0.fits'#SPIRE 500 map\n",
    "\n",
    "#-----250-------------\n",
    "hdulist = fits.open(pswfits)\n",
    "im250phdu=hdulist[0].header\n",
    "im250hdu=hdulist['image'].header\n",
    "\n",
    "im250=hdulist['image'].data*1.0E3 #convert to mJy\n",
    "nim250=hdulist['error'].data*1.0E3 #convert to mJy\n",
    "w_250 = wcs.WCS(hdulist['image'].header)\n",
    "pixsize250=3600.0*w_250.wcs.cd[1,1] #pixel size (in arcseconds)\n",
    "hdulist.close()\n",
    "#-----350-------------\n",
    "hdulist = fits.open(pmwfits)\n",
    "im350phdu=hdulist[0].header\n",
    "im350hdu=hdulist['image'].header\n",
    "\n",
    "im350=hdulist['image'].data*1.0E3 #convert to mJy\n",
    "nim350=hdulist['error'].data*1.0E3 #convert to mJy\n",
    "w_350 = wcs.WCS(hdulist['image'].header)\n",
    "pixsize350=3600.0*w_350.wcs.cd[1,1] #pixel size (in arcseconds)\n",
    "hdulist.close()\n",
    "#-----500-------------\n",
    "hdulist = fits.open(plwfits)\n",
    "im500phdu=hdulist[0].header\n",
    "im500hdu=hdulist['image'].header \n",
    "im500=hdulist['image'].data*1.0E3 #convert to mJy\n",
    "nim500=hdulist['error'].data*1.0E3 #convert to mJy\n",
    "w_500 = wcs.WCS(hdulist['image'].header)\n",
    "pixsize500=3600.0*w_500.wcs.cd[1,1] #pixel size (in arcseconds)\n",
    "hdulist.close()"
   ]
  },
  {
   "cell_type": "markdown",
   "metadata": {},
   "source": [
    "Create a moc around each of your objects that will be used to cut doen the SPIRE image"
   ]
  },
  {
   "cell_type": "code",
   "execution_count": null,
   "metadata": {},
   "outputs": [],
   "source": [
    "moc=pymoc.util.catalog.catalog_to_moc(object_coords,search_radius,15)"
   ]
  },
  {
   "cell_type": "markdown",
   "metadata": {},
   "source": [
    "finish initalising the prior "
   ]
  },
  {
   "cell_type": "code",
   "execution_count": null,
   "metadata": {},
   "outputs": [],
   "source": [
    "#---prior250--------\n",
    "prior250=xidplus.prior(im250,nim250,im250phdu,im250hdu, moc=moc)#Initialise with map, uncertianty map, wcs info and primary header\n",
    "prior250.prior_cat(prior_cat['ra'],prior_cat['dec'],'prior_cat',ID=prior_cat['help_id'])#Set input catalogue\n",
    "prior250.prior_bkg(-5.0,5)#Set prior on background (assumes Gaussian pdf with mu and sigma)\n",
    "#---prior350--------\n",
    "prior350=xidplus.prior(im350,nim350,im350phdu,im350hdu, moc=moc)\n",
    "prior350.prior_cat(prior_cat['ra'],prior_cat['dec'],'prior_cat',ID=prior_cat['help_id'])\n",
    "prior350.prior_bkg(-5.0,5)\n",
    "\n",
    "#---prior500--------\n",
    "prior500=xidplus.prior(im500,nim500,im500phdu,im500hdu, moc=moc)\n",
    "prior500.prior_cat(prior_cat['ra'],prior_cat['dec'],'prior_cat',ID=prior_cat['help_id'])\n",
    "prior500.prior_bkg(-5.0,5)"
   ]
  },
  {
   "cell_type": "code",
   "execution_count": null,
   "metadata": {},
   "outputs": [],
   "source": [
    "#pixsize array (size of pixels in arcseconds)\n",
    "pixsize=np.array([pixsize250,pixsize350,pixsize500])\n",
    "#point response function for the three bands\n",
    "prfsize=np.array([18.15,25.15,36.3])\n",
    "#use Gaussian2DKernel to create prf (requires stddev rather than fwhm hence pfwhm/2.355)\n",
    "from astropy.convolution import Gaussian2DKernel\n",
    "\n",
    "##---------fit using Gaussian beam-----------------------\n",
    "prf250=Gaussian2DKernel(prfsize[0]/2.355,x_size=101,y_size=101)\n",
    "prf250.normalize(mode='peak')\n",
    "prf350=Gaussian2DKernel(prfsize[1]/2.355,x_size=101,y_size=101)\n",
    "prf350.normalize(mode='peak')\n",
    "prf500=Gaussian2DKernel(prfsize[2]/2.355,x_size=101,y_size=101)\n",
    "prf500.normalize(mode='peak')\n",
    "\n",
    "pind250=np.arange(0,101,1)*1.0/pixsize[0] #get 250 scale in terms of pixel scale of map\n",
    "pind350=np.arange(0,101,1)*1.0/pixsize[1] #get 350 scale in terms of pixel scale of map\n",
    "pind500=np.arange(0,101,1)*1.0/pixsize[2] #get 500 scale in terms of pixel scale of map\n",
    "\n",
    "prior250.set_prf(prf250.array,pind250,pind250)#requires PRF as 2d grid, and x and y bins for grid (in pixel scale)\n",
    "prior350.set_prf(prf350.array,pind350,pind350)\n",
    "prior500.set_prf(prf500.array,pind500,pind500)"
   ]
  },
  {
   "cell_type": "code",
   "execution_count": null,
   "metadata": {},
   "outputs": [],
   "source": [
    "print('fitting '+ str(prior250.nsrc)+' sources \\n')\n",
    "print('using ' +  str(prior250.snpix)+', '+ str(prior350.snpix)+' and '+ str(prior500.snpix)+' pixels')"
   ]
  },
  {
   "cell_type": "code",
   "execution_count": null,
   "metadata": {},
   "outputs": [],
   "source": [
    "prior250.get_pointing_matrix()\n",
    "prior350.get_pointing_matrix()\n",
    "prior500.get_pointing_matrix()"
   ]
  },
  {
   "cell_type": "code",
   "execution_count": null,
   "metadata": {},
   "outputs": [],
   "source": [
    "prior250.upper_lim_map()\n",
    "prior350.upper_lim_map()\n",
    "prior500.upper_lim_map()"
   ]
  },
  {
   "cell_type": "markdown",
   "metadata": {},
   "source": [
    "run XID+ and save the output"
   ]
  },
  {
   "cell_type": "code",
   "execution_count": null,
   "metadata": {},
   "outputs": [],
   "source": [
    "from xidplus.stan_fit import SPIRE\n",
    "fit=SPIRE.all_bands(prior250,prior350,prior500,iter=1000)"
   ]
  },
  {
   "cell_type": "code",
   "execution_count": null,
   "metadata": {},
   "outputs": [],
   "source": [
    "posterior=xidplus.posterior_stan(fit,[prior250,prior350,prior500])\n",
    "xidplus.save([prior250,prior350,prior500],posterior,'YOUR_FILE_NAME_HERE')"
   ]
  }
 ],
 "metadata": {
  "kernelspec": {
   "display_name": "Python 3",
   "language": "python",
   "name": "python3"
  },
  "language_info": {
   "codemirror_mode": {
    "name": "ipython",
    "version": 3
   },
   "file_extension": ".py",
   "mimetype": "text/x-python",
   "name": "python",
   "nbconvert_exporter": "python",
   "pygments_lexer": "ipython3",
   "version": "3.7.9"
  }
 },
 "nbformat": 4,
 "nbformat_minor": 4
}
