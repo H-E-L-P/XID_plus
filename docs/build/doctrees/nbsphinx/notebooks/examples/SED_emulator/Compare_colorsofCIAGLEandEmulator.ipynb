{
 "cells": [
  {
   "cell_type": "code",
   "execution_count": 2,
   "id": "f82c8f13",
   "metadata": {},
   "outputs": [
    {
     "name": "stderr",
     "output_type": "stream",
     "text": [
      "/Users/pdh21/anaconda3/envs/xidplus/lib/python3.6/site-packages/dask/config.py:168: YAMLLoadWarning: calling yaml.load() without Loader=... is deprecated, as the default Loader is unsafe. Please read https://msg.pyyaml.org/load for full details.\n",
      "  data = yaml.load(f.read()) or {}\n",
      "WARNING: AstropyDeprecationWarning: block_reduce was moved to the astropy.nddata.blocks module.  Please update your import statement. [astropy.nddata.utils]\n"
     ]
    }
   ],
   "source": [
    "from astropy.table import Table\n",
    "import pylab as plt\n",
    "from xidplus.numpyro_fit.misc import load_emulator\n",
    "import seaborn as sns\n",
    "import numpy as np\n",
    "import jax.numpy as jnp\n",
    "\n",
    "%matplotlib inline"
   ]
  },
  {
   "cell_type": "code",
   "execution_count": 3,
   "id": "0bee39f4",
   "metadata": {},
   "outputs": [],
   "source": [
    "data=Table.read('./kasia_gen_SEDS_zall.fits')\n"
   ]
  },
  {
   "cell_type": "code",
   "execution_count": 12,
   "id": "a44cd1be",
   "metadata": {},
   "outputs": [
    {
     "data": {
      "text/html": [
       "<i>Table length=44457984</i>\n",
       "<table id=\"table140433982973488\" class=\"table-striped table-bordered table-condensed\">\n",
       "<thead><tr><th>id</th><th>spire_250</th><th>spire_350</th><th>spire_500</th><th>dust.luminosity</th><th>sfh.sfr</th><th>stellar.m_star</th><th>agn.fracAGN</th><th>attenuation.Av_BC</th><th>dust.alpha</th><th>sfh.age_main</th><th>sfh.tau_main</th><th>universe.redshift</th><th>log10_sfh.sfr</th></tr></thead>\n",
       "<thead><tr><th></th><th>mJy</th><th>mJy</th><th>mJy</th><th>W</th><th>solMass / yr</th><th>solMass</th><th></th><th>mag</th><th></th><th>Myr</th><th>Myr</th><th></th><th>solMass / yr</th></tr></thead>\n",
       "<thead><tr><th>int64</th><th>float64</th><th>float64</th><th>float64</th><th>float64</th><th>float64</th><th>float64</th><th>float64</th><th>float64</th><th>float64</th><th>float64</th><th>float64</th><th>float64</th><th>float64</th></tr></thead>\n",
       "<tr><td>0</td><td>4.411296753774093</td><td>1.7070287328618072</td><td>0.6059010576347069</td><td>25031118.564180978</td><td>0.01</td><td>8688687.765422262</td><td>0.0</td><td>0.1</td><td>0.0625</td><td>1000.0</td><td>500.0</td><td>0.0031622776602</td><td>-2.0</td></tr>\n",
       "<tr><td>1</td><td>4.414154490037779</td><td>1.7080047409492833</td><td>0.6062552784851811</td><td>25031118.564180978</td><td>0.01</td><td>8688687.765422262</td><td>0.1</td><td>0.1</td><td>0.0625</td><td>1000.0</td><td>500.0</td><td>0.0031622776602</td><td>-2.0</td></tr>\n",
       "<tr><td>2</td><td>4.417726660367385</td><td>1.709224751058628</td><td>0.6066980545482739</td><td>25031118.564180978</td><td>0.01</td><td>8688687.765422262</td><td>0.2</td><td>0.1</td><td>0.0625</td><td>1000.0</td><td>500.0</td><td>0.0031622776602</td><td>-2.0</td></tr>\n",
       "<tr><td>3</td><td>4.422319450791165</td><td>1.710793335484929</td><td>0.6072673380579644</td><td>25031118.564180978</td><td>0.01</td><td>8688687.765422262</td><td>0.3</td><td>0.1</td><td>0.0625</td><td>1000.0</td><td>500.0</td><td>0.0031622776602</td><td>-2.0</td></tr>\n",
       "<tr><td>4</td><td>4.525250208003563</td><td>1.7491750936247186</td><td>0.6195228189229224</td><td>25031118.564180978</td><td>0.01</td><td>8688687.765422262</td><td>0.0</td><td>0.1</td><td>0.1875</td><td>1000.0</td><td>500.0</td><td>0.0031622776602</td><td>-2.0</td></tr>\n",
       "<tr><td>5</td><td>4.528107944267248</td><td>1.7501511017121951</td><td>0.6198770397733966</td><td>25031118.564180978</td><td>0.01</td><td>8688687.765422262</td><td>0.1</td><td>0.1</td><td>0.1875</td><td>1000.0</td><td>500.0</td><td>0.0031622776602</td><td>-2.0</td></tr>\n",
       "<tr><td>6</td><td>4.531680114596854</td><td>1.7513711118215398</td><td>0.6203198158364893</td><td>25031118.564180978</td><td>0.01</td><td>8688687.765422262</td><td>0.2</td><td>0.1</td><td>0.1875</td><td>1000.0</td><td>500.0</td><td>0.0031622776602</td><td>-2.0</td></tr>\n",
       "<tr><td>7</td><td>4.536272905020635</td><td>1.7529396962478412</td><td>0.6208890993461801</td><td>25031118.564180978</td><td>0.01</td><td>8688687.765422262</td><td>0.3</td><td>0.1</td><td>0.1875</td><td>1000.0</td><td>500.0</td><td>0.0031622776602</td><td>-2.0</td></tr>\n",
       "<tr><td>8</td><td>4.6649869297883875</td><td>1.801065084350765</td><td>0.6364464462227206</td><td>25031118.564180978</td><td>0.01</td><td>8688687.765422262</td><td>0.0</td><td>0.1</td><td>0.3125</td><td>1000.0</td><td>500.0</td><td>0.0031622776602</td><td>-2.0</td></tr>\n",
       "<tr><td>...</td><td>...</td><td>...</td><td>...</td><td>...</td><td>...</td><td>...</td><td>...</td><td>...</td><td>...</td><td>...</td><td>...</td><td>...</td><td>...</td></tr>\n",
       "<tr><td>61430</td><td>17943993.268422667</td><td>8672083.461371437</td><td>3093044.767655919</td><td>336223476043342.6</td><td>31622.776601683792</td><td>181137367562170.28</td><td>0.2</td><td>3.6</td><td>3.6875</td><td>9000.0</td><td>6000.0</td><td>0.0251188643151</td><td>4.5</td></tr>\n",
       "<tr><td>61431</td><td>17945029.724159658</td><td>8672435.82359508</td><td>3093171.755873231</td><td>336223476043342.6</td><td>31622.776601683792</td><td>181137367562170.28</td><td>0.3</td><td>3.6</td><td>3.6875</td><td>9000.0</td><td>6000.0</td><td>0.0251188643151</td><td>4.5</td></tr>\n",
       "<tr><td>61432</td><td>18131427.830722403</td><td>8786621.887239601</td><td>3138184.618522174</td><td>336223476043342.6</td><td>31622.776601683792</td><td>181137367562170.28</td><td>0.0</td><td>3.6</td><td>3.8125</td><td>9000.0</td><td>6000.0</td><td>0.0251188643151</td><td>4.5</td></tr>\n",
       "<tr><td>61433</td><td>18132072.736514308</td><td>8786841.134845423</td><td>3138263.633412946</td><td>336223476043342.6</td><td>31622.776601683792</td><td>181137367562170.28</td><td>0.1</td><td>3.6</td><td>3.8125</td><td>9000.0</td><td>6000.0</td><td>0.0251188643151</td><td>4.5</td></tr>\n",
       "<tr><td>61434</td><td>18132878.868754193</td><td>8787115.194352701</td><td>3138362.4020264107</td><td>336223476043342.6</td><td>31622.776601683792</td><td>181137367562170.28</td><td>0.2</td><td>3.6</td><td>3.8125</td><td>9000.0</td><td>6000.0</td><td>0.0251188643151</td><td>4.5</td></tr>\n",
       "<tr><td>61435</td><td>18133915.324491184</td><td>8787467.556576345</td><td>3138489.390243723</td><td>336223476043342.6</td><td>31622.776601683792</td><td>181137367562170.28</td><td>0.3</td><td>3.6</td><td>3.8125</td><td>9000.0</td><td>6000.0</td><td>0.0251188643151</td><td>4.5</td></tr>\n",
       "<tr><td>61436</td><td>18296756.59170101</td><td>8890284.23330905</td><td>3178109.88975285</td><td>336223476043342.6</td><td>31622.776601683792</td><td>181137367562170.28</td><td>0.0</td><td>3.6</td><td>3.9375</td><td>9000.0</td><td>6000.0</td><td>0.0251188643151</td><td>4.5</td></tr>\n",
       "<tr><td>61437</td><td>18297401.49749291</td><td>8890503.48091487</td><td>3178188.9046436213</td><td>336223476043342.6</td><td>31622.776601683792</td><td>181137367562170.28</td><td>0.1</td><td>3.6</td><td>3.9375</td><td>9000.0</td><td>6000.0</td><td>0.0251188643151</td><td>4.5</td></tr>\n",
       "<tr><td>61438</td><td>18298207.629732795</td><td>8890777.540422147</td><td>3178287.6732570874</td><td>336223476043342.6</td><td>31622.776601683792</td><td>181137367562170.28</td><td>0.2</td><td>3.6</td><td>3.9375</td><td>9000.0</td><td>6000.0</td><td>0.0251188643151</td><td>4.5</td></tr>\n",
       "<tr><td>61439</td><td>18299244.085469786</td><td>8891129.902645791</td><td>3178414.6614743993</td><td>336223476043342.6</td><td>31622.776601683792</td><td>181137367562170.28</td><td>0.3</td><td>3.6</td><td>3.9375</td><td>9000.0</td><td>6000.0</td><td>0.0251188643151</td><td>4.5</td></tr>\n",
       "</table>"
      ],
      "text/plain": [
       "<Table length=44457984>\n",
       "  id      spire_250          spire_350      ... universe.redshift log10_sfh.sfr\n",
       "             mJy                mJy         ...                    solMass / yr\n",
       "int64      float64            float64       ...      float64         float64   \n",
       "----- ------------------ ------------------ ... ----------------- -------------\n",
       "    0  4.411296753774093 1.7070287328618072 ...   0.0031622776602          -2.0\n",
       "    1  4.414154490037779 1.7080047409492833 ...   0.0031622776602          -2.0\n",
       "    2  4.417726660367385  1.709224751058628 ...   0.0031622776602          -2.0\n",
       "    3  4.422319450791165  1.710793335484929 ...   0.0031622776602          -2.0\n",
       "    4  4.525250208003563 1.7491750936247186 ...   0.0031622776602          -2.0\n",
       "    5  4.528107944267248 1.7501511017121951 ...   0.0031622776602          -2.0\n",
       "    6  4.531680114596854 1.7513711118215398 ...   0.0031622776602          -2.0\n",
       "    7  4.536272905020635 1.7529396962478412 ...   0.0031622776602          -2.0\n",
       "    8 4.6649869297883875  1.801065084350765 ...   0.0031622776602          -2.0\n",
       "  ...                ...                ... ...               ...           ...\n",
       "61430 17943993.268422667  8672083.461371437 ...   0.0251188643151           4.5\n",
       "61431 17945029.724159658   8672435.82359508 ...   0.0251188643151           4.5\n",
       "61432 18131427.830722403  8786621.887239601 ...   0.0251188643151           4.5\n",
       "61433 18132072.736514308  8786841.134845423 ...   0.0251188643151           4.5\n",
       "61434 18132878.868754193  8787115.194352701 ...   0.0251188643151           4.5\n",
       "61435 18133915.324491184  8787467.556576345 ...   0.0251188643151           4.5\n",
       "61436  18296756.59170101   8890284.23330905 ...   0.0251188643151           4.5\n",
       "61437  18297401.49749291   8890503.48091487 ...   0.0251188643151           4.5\n",
       "61438 18298207.629732795  8890777.540422147 ...   0.0251188643151           4.5\n",
       "61439 18299244.085469786  8891129.902645791 ...   0.0251188643151           4.5"
      ]
     },
     "execution_count": 12,
     "metadata": {},
     "output_type": "execute_result"
    }
   ],
   "source": [
    "data"
   ]
  },
  {
   "cell_type": "code",
   "execution_count": 17,
   "id": "d84d20b5",
   "metadata": {},
   "outputs": [],
   "source": [
    "ind=(data['sfh.sfr']==100) & (data['universe.redshift']==0.0251188643151) & (data['dust.alpha']==3.6875) & (data['attenuation.Av_BC']==1.1)"
   ]
  },
  {
   "cell_type": "code",
   "execution_count": 22,
   "id": "77570f88",
   "metadata": {},
   "outputs": [
    {
     "data": {
      "image/png": "[encoded data removed]",
      "text/plain": [
       "<Figure size 432x288 with 1 Axes>"
      ]
     },
     "metadata": {
      "needs_background": "light"
     },
     "output_type": "display_data"
    }
   ],
   "source": [
    "plt.plot(data[ind]['sfh.tau_main'],data[ind]['spire_250'],'o')\n",
    "plt.yscale('log')"
   ]
  },
  {
   "cell_type": "code",
   "execution_count": 4,
   "id": "f76463e7",
   "metadata": {},
   "outputs": [
    {
     "data": {
      "text/plain": [
       "(0.0, 4.0)"
      ]
     },
     "execution_count": 4,
     "metadata": {},
     "output_type": "execute_result"
    },
    {
     "data": {
      "image/png": "[encoded data removed]",
      "text/plain": [
       "<Figure size 432x288 with 1 Axes>"
      ]
     },
     "metadata": {
      "needs_background": "light"
     },
     "output_type": "display_data"
    }
   ],
   "source": [
    "plt.plot(data['spire_250']/data['spire_350'],data['spire_350']/data['spire_500'],'o')\n",
    "plt.xlim(0,4)\n",
    "plt.ylim(0,4)"
   ]
  },
  {
   "cell_type": "code",
   "execution_count": null,
   "id": "801c04b9",
   "metadata": {},
   "outputs": [],
   "source": []
  },
  {
   "cell_type": "code",
   "execution_count": 7,
   "id": "d2f58b4f",
   "metadata": {},
   "outputs": [],
   "source": [
    "emulator=load_emulator('./CIGALE_emulator_20210420_log10sfr_uniformAGN_z.npz')\n"
   ]
  },
  {
   "cell_type": "code",
   "execution_count": null,
   "id": "532861bb",
   "metadata": {},
   "outputs": [],
   "source": []
  },
  {
   "cell_type": "code",
   "execution_count": 8,
   "id": "b18f8e92",
   "metadata": {},
   "outputs": [],
   "source": [
    "params=np.vstack((np.random.normal(1,3,1000),np.random.beta(1,3,1000),np.random.uniform(0,6,1000))).T"
   ]
  },
  {
   "cell_type": "code",
   "execution_count": 9,
   "id": "7cbecea4",
   "metadata": {},
   "outputs": [
    {
     "name": "stderr",
     "output_type": "stream",
     "text": [
      "W0118 13:33:03.271687 4569578944 xla_bridge.py:135] No GPU/TPU found, falling back to CPU. (Set TF_CPP_MIN_LOG_LEVEL=0 and rerun for more info.)\n"
     ]
    }
   ],
   "source": [
    "src_f = np.exp(np.array(jnp.exp(emulator['net_apply'](emulator['params'], params))))\n"
   ]
  },
  {
   "cell_type": "code",
   "execution_count": 10,
   "id": "551b63c9",
   "metadata": {},
   "outputs": [
    {
     "data": {
      "text/plain": [
       "(0.0, 4.0)"
      ]
     },
     "execution_count": 10,
     "metadata": {},
     "output_type": "execute_result"
    },
    {
     "data": {
      "image/png": "[encoded data removed]",
      "text/plain": [
       "<Figure size 432x288 with 1 Axes>"
      ]
     },
     "metadata": {
      "needs_background": "light"
     },
     "output_type": "display_data"
    }
   ],
   "source": [
    "#plt.plot(data['spire_250']/data['spire_350'],data['spire_350']/data['spire_500'],'o',alpha=0.5)\n",
    "plt.plot(src_f[:,0]/src_f[:,1],src_f[:,1]/src_f[:,2],'ro',alpha=0.5)\n",
    "plt.xlim(0,4)\n",
    "plt.ylim(0,4)\n"
   ]
  },
  {
   "cell_type": "code",
   "execution_count": 51,
   "id": "7e9f6323",
   "metadata": {},
   "outputs": [
    {
     "data": {
      "text/html": [
       "<i>Table length=5</i>\n",
       "<table id=\"table140210847070080\" class=\"table-striped table-bordered table-condensed\">\n",
       "<thead><tr><th>id</th><th>spire_250</th><th>spire_350</th><th>spire_500</th><th>dust.luminosity</th><th>sfh.sfr</th><th>stellar.m_star</th><th>agn.fracAGN</th><th>attenuation.Av_BC</th><th>dust.alpha</th><th>sfh.tau_main</th><th>universe.redshift</th></tr></thead>\n",
       "<thead><tr><th></th><th>mJy</th><th>mJy</th><th>mJy</th><th>W</th><th>solMass / yr</th><th>solMass</th><th></th><th>mag</th><th></th><th>Myr</th><th></th></tr></thead>\n",
       "<thead><tr><th>int64</th><th>float64</th><th>float64</th><th>float64</th><th>float64</th><th>float64</th><th>float64</th><th>float64</th><th>float64</th><th>float64</th><th>float64</th><th>float64</th></tr></thead>\n",
       "<tr><td>0</td><td>0.041621887445926216</td><td>0.0002080181415828583</td><td>2.926302473957815</td><td>163086241946.35803</td><td>2285.3842238885068</td><td>5170197363.6743555</td><td>0.2287869561655</td><td>2.8773710997301</td><td>0.875</td><td>4136.0</td><td>3.2312133884323</td></tr>\n",
       "<tr><td>0</td><td>0.019655286851182056</td><td>0.0002964214284852536</td><td>0.00014968833934695205</td><td>1301117562.9224253</td><td>0.02952183098477212</td><td>10254106544048.4</td><td>0.0659241997702</td><td>1.6244705608249</td><td>0.1875</td><td>4370.0</td><td>4.5875034068096</td></tr>\n",
       "<tr><td>0</td><td>1.1506986992346848</td><td>225.90909807934815</td><td>6.915402736253743e-05</td><td>44953686280197.1</td><td>7516.589672174983</td><td>17390745137.038807</td><td>0.836677627888</td><td>1.3014726358861</td><td>1.125</td><td>5642.0</td><td>5.9429822537025</td></tr>\n",
       "<tr><td>0</td><td>2907.64342324597</td><td>32.994055897694075</td><td>14.988485108568183</td><td>335179046751.79706</td><td>8.089860829410162</td><td>498222333.5690045</td><td>0.1043819947759</td><td>1.9722444509443</td><td>2.5625</td><td>3264.0</td><td>0.6359529324044</td></tr>\n",
       "<tr><td>0</td><td>68.19325323190652</td><td>0.009632378759604269</td><td>0.0024900351480657973</td><td>699820530.3835655</td><td>130.0101872005839</td><td>831849678.8735007</td><td>0.0613394728339</td><td>3.1364487246045</td><td>2.25</td><td>5381.0</td><td>3.5932659978029</td></tr>\n",
       "</table>"
      ],
      "text/plain": [
       "<Table length=5>\n",
       "  id       spire_250       ... sfh.tau_main universe.redshift\n",
       "              mJy          ...     Myr                       \n",
       "int64       float64        ...   float64         float64     \n",
       "----- -------------------- ... ------------ -----------------\n",
       "    0 0.041621887445926216 ...       4136.0   3.2312133884323\n",
       "    0 0.019655286851182056 ...       4370.0   4.5875034068096\n",
       "    0   1.1506986992346848 ...       5642.0   5.9429822537025\n",
       "    0     2907.64342324597 ...       3264.0   0.6359529324044\n",
       "    0    68.19325323190652 ...       5381.0   3.5932659978029"
      ]
     },
     "execution_count": 51,
     "metadata": {},
     "output_type": "execute_result"
    }
   ],
   "source": [
    "data[0:5]"
   ]
  },
  {
   "cell_type": "code",
   "execution_count": 59,
   "id": "5ba958ee",
   "metadata": {},
   "outputs": [
    {
     "data": {
      "text/plain": [
       "[<matplotlib.lines.Line2D at 0x7f856273f8d0>]"
      ]
     },
     "execution_count": 59,
     "metadata": {},
     "output_type": "execute_result"
    },
    {
     "data": {
      "image/png": "[encoded data removed]",
      "text/plain": [
       "<Figure size 432x288 with 1 Axes>"
      ]
     },
     "metadata": {
      "needs_background": "light"
     },
     "output_type": "display_data"
    }
   ],
   "source": [
    "plt.plot(np.log10(data['spire_250']),data['attenuation.Av_BC'],'o')\n"
   ]
  },
  {
   "cell_type": "code",
   "execution_count": 46,
   "id": "51b7971d",
   "metadata": {},
   "outputs": [
    {
     "data": {
      "text/html": [
       "&lt;Column name=&apos;universe.redshift&apos; dtype=&apos;float64&apos; length=28337&gt;\n",
       "<table>\n",
       "<tr><td>3.2312133884323</td></tr>\n",
       "<tr><td>4.5875034068096</td></tr>\n",
       "<tr><td>5.9429822537025</td></tr>\n",
       "<tr><td>0.6359529324044</td></tr>\n",
       "<tr><td>3.5932659978029</td></tr>\n",
       "<tr><td>1.8713190278726</td></tr>\n",
       "<tr><td>4.1702110360301</td></tr>\n",
       "<tr><td>0.4216650338058</td></tr>\n",
       "<tr><td>3.7643498643524</td></tr>\n",
       "<tr><td>3.1600160576012</td></tr>\n",
       "<tr><td>3.4125055680069</td></tr>\n",
       "<tr><td>2.2513125193855</td></tr>\n",
       "<tr><td>...</td></tr>\n",
       "<tr><td>1.1730489680186</td></tr>\n",
       "<tr><td>3.7536826640913</td></tr>\n",
       "<tr><td>2.1124610071923</td></tr>\n",
       "<tr><td>4.3133210135527</td></tr>\n",
       "<tr><td>1.4813117362325</td></tr>\n",
       "<tr><td>4.9181695151816</td></tr>\n",
       "<tr><td>1.9225882311663</td></tr>\n",
       "<tr><td>2.0364684158154</td></tr>\n",
       "<tr><td>2.2188886438772</td></tr>\n",
       "<tr><td>5.7178895774012</td></tr>\n",
       "<tr><td>2.2632639703966</td></tr>\n",
       "<tr><td>4.0078688142308</td></tr>\n",
       "</table>"
      ],
      "text/plain": [
       "<Column name='universe.redshift' dtype='float64' length=28337>\n",
       "3.2312133884323\n",
       "4.5875034068096\n",
       "5.9429822537025\n",
       "0.6359529324044\n",
       "3.5932659978029\n",
       "1.8713190278726\n",
       "4.1702110360301\n",
       "0.4216650338058\n",
       "3.7643498643524\n",
       "3.1600160576012\n",
       "3.4125055680069\n",
       "2.2513125193855\n",
       "            ...\n",
       "1.1730489680186\n",
       "3.7536826640913\n",
       "2.1124610071923\n",
       "4.3133210135527\n",
       "1.4813117362325\n",
       "4.9181695151816\n",
       "1.9225882311663\n",
       "2.0364684158154\n",
       "2.2188886438772\n",
       "5.7178895774012\n",
       "2.2632639703966\n",
       "4.0078688142308"
      ]
     },
     "execution_count": 46,
     "metadata": {},
     "output_type": "execute_result"
    }
   ],
   "source": [
    "data['universe.redshift']"
   ]
  },
  {
   "cell_type": "code",
   "execution_count": null,
   "id": "9a848015",
   "metadata": {},
   "outputs": [],
   "source": []
  }
 ],
 "metadata": {
  "kernelspec": {
   "display_name": "Python 3",
   "language": "python",
   "name": "python3"
  },
  "language_info": {
   "codemirror_mode": {
    "name": "ipython",
    "version": 3
   },
   "file_extension": ".py",
   "mimetype": "text/x-python",
   "name": "python",
   "nbconvert_exporter": "python",
   "pygments_lexer": "ipython3",
   "version": "3.6.13"
  }
 },
 "nbformat": 4,
 "nbformat_minor": 5
}
