{
 "cells": [
  {
   "cell_type": "code",
   "execution_count": 1,
   "metadata": {
    "collapsed": true
   },
   "outputs": [],
   "source": [
    "from astropy.io import ascii, fits\n",
    "import pylab as plt\n",
    "%matplotlib inline\n",
    "from astropy import wcs\n",
    "\n",
    "\n",
    "import numpy as np\n",
    "import xidplus"
   ]
  },
  {
   "cell_type": "code",
   "execution_count": 2,
   "metadata": {},
   "outputs": [
    {
     "name": "stdout",
     "output_type": "stream",
     "text": [
      "0.0001\n",
      "0.0001\n",
      "0.0001\n",
      "0.0001\n"
     ]
    }
   ],
   "source": [
    "from xidplus import sed\n",
    "SEDs,df =sed.mrr_templates()"
   ]
  },
  {
   "cell_type": "code",
   "execution_count": 3,
   "metadata": {
    "collapsed": true
   },
   "outputs": [],
   "source": [
    "import pystan"
   ]
  },
  {
   "cell_type": "code",
   "execution_count": 4,
   "metadata": {
    "collapsed": true
   },
   "outputs": [],
   "source": [
    "code=\"\"\"\n",
    "// Fit the hyperparameters of a latent-variable Gaussian process with an\n",
    "// exponentiated quadratic kernel and a Gaussian likelihood and predict\n",
    "// out-of-sample observations\n",
    "\n",
    "data {\n",
    "  int<lower=1> N1;\n",
    "  real x1[N1];\n",
    "  vector[N1] y1;\n",
    "  int<lower=1> N2;\n",
    "  real x2[N2];\n",
    "}\n",
    "transformed data {\n",
    "  real delta = 1e-9;\n",
    "  int<lower=1> N = N1 + N2;\n",
    "  real x[N];\n",
    "  for (n1 in 1:N1) x[n1] = x1[n1];\n",
    "  for (n2 in 1:N2) x[N1 + n2] = x2[n2];\n",
    "}\n",
    "parameters {\n",
    "  real<lower=0> rho;\n",
    "  real<lower=0> alpha;\n",
    "  real<lower=0> sigma;\n",
    "  vector[N] eta;\n",
    "}\n",
    "transformed parameters {\n",
    "  vector[N] f;\n",
    "  {\n",
    "    matrix[N, N] L_K;\n",
    "    matrix[N, N] K = cov_exp_quad(x, alpha, rho);\n",
    "  \n",
    "    // diagonal elements\n",
    "    for (n in 1:N)\n",
    "      K[n, n] = K[n, n] + delta;\n",
    "    \n",
    "    L_K = cholesky_decompose(K);\n",
    "    f = L_K * eta;\n",
    "  }\n",
    "}\n",
    "model {\n",
    "  rho ~ inv_gamma(5, 5);\n",
    "  alpha ~ normal(0, 5);\n",
    "  sigma ~ normal(0, 0.01);\n",
    "  eta ~ normal(0, 1);\n",
    "\n",
    "  y1 ~ normal(f[1:N1], sigma);\n",
    "}\n",
    "generated quantities {\n",
    "  vector[N2] y2;\n",
    "  for (n2 in 1:N2)\n",
    "    y2[n2] = normal_rng(f[N1 + n2], sigma);\n",
    "}\n",
    "\"\"\""
   ]
  },
  {
   "cell_type": "code",
   "execution_count": 5,
   "metadata": {},
   "outputs": [
    {
     "name": "stderr",
     "output_type": "stream",
     "text": [
      "INFO:pystan:COMPILING THE C++ CODE FOR MODEL anon_model_704128430b2e65b20cb8cd7d3976cd8c NOW.\n"
     ]
    }
   ],
   "source": [
    "sm=pystan.StanModel(model_code=code)"
   ]
  },
  {
   "cell_type": "code",
   "execution_count": 53,
   "metadata": {
    "collapsed": true
   },
   "outputs": [],
   "source": [
    "red=np.arange(0,8,0.01)\n",
    "red[0]=0.000001\n",
    "fit_data={'N1':SEDs[0,0,250:350].size,\n",
    "      'x1':red[250:350],\n",
    "      'y1':np.log10(SEDs[0,0,250:350]),\n",
    "      'N2':1,\n",
    "      'x2':[3]\n",
    "     }"
   ]
  },
  {
   "cell_type": "code",
   "execution_count": null,
   "metadata": {
    "collapsed": true
   },
   "outputs": [],
   "source": []
  },
  {
   "cell_type": "code",
   "execution_count": 54,
   "metadata": {
    "collapsed": true
   },
   "outputs": [],
   "source": [
    "fit=sm.sampling(data=fit_data, iter=1000,chains=2)"
   ]
  },
  {
   "cell_type": "code",
   "execution_count": 55,
   "metadata": {
    "collapsed": true
   },
   "outputs": [],
   "source": [
    "from xidplus.stan_fit import stan_utility as su"
   ]
  },
  {
   "cell_type": "code",
   "execution_count": 56,
   "metadata": {},
   "outputs": [
    {
     "name": "stdout",
     "output_type": "stream",
     "text": [
      "0.0 of 1000 iterations ended with a divergence (0.0%)\n"
     ]
    }
   ],
   "source": [
    "su.check_div(fit)"
   ]
  },
  {
   "cell_type": "code",
   "execution_count": 57,
   "metadata": {
    "collapsed": true
   },
   "outputs": [],
   "source": [
    "su.check_energy(fit)"
   ]
  },
  {
   "cell_type": "code",
   "execution_count": 58,
   "metadata": {},
   "outputs": [
    {
     "name": "stdout",
     "output_type": "stream",
     "text": [
      "1000 of 1000 iterations saturated the maximum tree depth of 10 (100.0%)\n",
      "Run again with max_depth set to a larger value to avoid saturation\n"
     ]
    }
   ],
   "source": [
    "su.check_treedepth(fit)"
   ]
  },
  {
   "cell_type": "code",
   "execution_count": 59,
   "metadata": {
    "collapsed": true
   },
   "outputs": [],
   "source": [
    "samples=fit.extract()"
   ]
  },
  {
   "cell_type": "code",
   "execution_count": 11,
   "metadata": {},
   "outputs": [
    {
     "ename": "NameError",
     "evalue": "name 'samples' is not defined",
     "output_type": "error",
     "traceback": [
      "\u001b[0;31m---------------------------------------------------------------------------\u001b[0m",
      "\u001b[0;31mNameError\u001b[0m                                 Traceback (most recent call last)",
      "\u001b[0;32m<ipython-input-11-b18d5d672aaa>\u001b[0m in \u001b[0;36m<module>\u001b[0;34m()\u001b[0m\n\u001b[0;32m----> 1\u001b[0;31m \u001b[0mplt\u001b[0m\u001b[0;34m.\u001b[0m\u001b[0mplot\u001b[0m\u001b[0;34m(\u001b[0m\u001b[0mred\u001b[0m\u001b[0;34m[\u001b[0m\u001b[0;36m250\u001b[0m\u001b[0;34m:\u001b[0m\u001b[0;36m350\u001b[0m\u001b[0;34m]\u001b[0m\u001b[0;34m,\u001b[0m\u001b[0mnp\u001b[0m\u001b[0;34m.\u001b[0m\u001b[0mmedian\u001b[0m\u001b[0;34m(\u001b[0m\u001b[0msamples\u001b[0m\u001b[0;34m[\u001b[0m\u001b[0;34m'f'\u001b[0m\u001b[0;34m]\u001b[0m\u001b[0;34m,\u001b[0m\u001b[0maxis\u001b[0m\u001b[0;34m=\u001b[0m\u001b[0;36m0\u001b[0m\u001b[0;34m)\u001b[0m\u001b[0;34m[\u001b[0m\u001b[0;36m0\u001b[0m\u001b[0;34m:\u001b[0m\u001b[0;34m-\u001b[0m\u001b[0;36m1\u001b[0m\u001b[0;34m]\u001b[0m\u001b[0;34m)\u001b[0m\u001b[0;34m\u001b[0m\u001b[0m\n\u001b[0m\u001b[1;32m      2\u001b[0m \u001b[0mplt\u001b[0m\u001b[0;34m.\u001b[0m\u001b[0mplot\u001b[0m\u001b[0;34m(\u001b[0m\u001b[0mred\u001b[0m\u001b[0;34m,\u001b[0m\u001b[0mnp\u001b[0m\u001b[0;34m.\u001b[0m\u001b[0mlog10\u001b[0m\u001b[0;34m(\u001b[0m\u001b[0mSEDs\u001b[0m\u001b[0;34m[\u001b[0m\u001b[0;36m0\u001b[0m\u001b[0;34m,\u001b[0m\u001b[0;36m0\u001b[0m\u001b[0;34m,\u001b[0m\u001b[0;34m:\u001b[0m\u001b[0;34m]\u001b[0m\u001b[0;34m)\u001b[0m\u001b[0;34m)\u001b[0m\u001b[0;34m\u001b[0m\u001b[0m\n",
      "\u001b[0;31mNameError\u001b[0m: name 'samples' is not defined"
     ]
    }
   ],
   "source": [
    "plt.plot(red[250:350],np.median(samples['f'],axis=0)[0:-1])\n",
    "plt.plot(red,np.log10(SEDs[0,0,:]))"
   ]
  },
  {
   "cell_type": "code",
   "execution_count": 68,
   "metadata": {},
   "outputs": [
    {
     "data": {
      "text/plain": [
       "[<matplotlib.lines.Line2D at 0x122185eb8>]"
      ]
     },
     "execution_count": 68,
     "metadata": {},
     "output_type": "execute_result"
    },
    {
     "data": {
      "image/png": "[encoded data removed]",
      "text/plain": [
       "<matplotlib.figure.Figure at 0x11e8ac550>"
      ]
     },
     "metadata": {},
     "output_type": "display_data"
    }
   ],
   "source": [
    "plt.plot(samples['rho'])"
   ]
  },
  {
   "cell_type": "code",
   "execution_count": 70,
   "metadata": {},
   "outputs": [
    {
     "data": {
      "text/plain": [
       "[<matplotlib.lines.Line2D at 0x122318470>]"
      ]
     },
     "execution_count": 70,
     "metadata": {},
     "output_type": "execute_result"
    },
    {
     "data": {
      "image/png": "[encoded data removed]",
      "text/plain": [
       "<matplotlib.figure.Figure at 0x121da0f28>"
      ]
     },
     "metadata": {},
     "output_type": "display_data"
    }
   ],
   "source": [
    "plt.plot(samples['alpha'])"
   ]
  },
  {
   "cell_type": "code",
   "execution_count": null,
   "metadata": {
    "collapsed": true
   },
   "outputs": [],
   "source": []
  },
  {
   "cell_type": "code",
   "execution_count": 4,
   "metadata": {
    "collapsed": true
   },
   "outputs": [],
   "source": [
    "code=\"\"\"\n",
    "// Fit the hyperparameters of a latent-variable Gaussian process with an\n",
    "// exponentiated quadratic kernel and a Gaussian likelihood and predict\n",
    "// out-of-sample observations\n",
    "\n",
    "data {\n",
    "  int<lower=1> N1;\n",
    "  real x1[N1];\n",
    "  vector[N1] y1;\n",
    "  int<lower=1> N2;\n",
    "  real x2[N2];\n",
    "}\n",
    "transformed data {\n",
    "  real delta = 1e-9;\n",
    "  real rho = 0.15;\n",
    "  real alpha = 10;\n",
    "  real sigma = 0.01;\n",
    "  int<lower=1> N = N1 + N2;\n",
    "  real x[N];\n",
    "  for (n1 in 1:N1) x[n1] = x1[n1];\n",
    "  for (n2 in 1:N2) x[N1 + n2] = x2[n2];\n",
    "}\n",
    "parameters {\n",
    "  vector[N] eta;\n",
    "}\n",
    "transformed parameters {\n",
    "  vector[N] f;\n",
    "  {\n",
    "    matrix[N, N] L_K;\n",
    "    matrix[N, N] K = cov_exp_quad(x, alpha, rho);\n",
    "  \n",
    "    // diagonal elements\n",
    "    for (n in 1:N)\n",
    "      K[n, n] = K[n, n] + delta;\n",
    "    \n",
    "    L_K = cholesky_decompose(K);\n",
    "    f = L_K * eta;\n",
    "  }\n",
    "}\n",
    "model {\n",
    "  eta ~ normal(0, 1);\n",
    "  y1 ~ normal(f[1:N1], sigma);\n",
    "}\n",
    "generated quantities {\n",
    "  vector[N2] y2;\n",
    "  for (n2 in 1:N2)\n",
    "    y2[n2] = normal_rng(f[N1 + n2], sigma);\n",
    "}\n",
    "\"\"\""
   ]
  },
  {
   "cell_type": "code",
   "execution_count": 5,
   "metadata": {},
   "outputs": [
    {
     "name": "stderr",
     "output_type": "stream",
     "text": [
      "INFO:pystan:COMPILING THE C++ CODE FOR MODEL anon_model_3586be1a4bf1cb2b85d5c403b41ae979 NOW.\n"
     ]
    }
   ],
   "source": [
    "sm=pystan.StanModel(model_code=code)"
   ]
  },
  {
   "cell_type": "code",
   "execution_count": 8,
   "metadata": {
    "collapsed": true
   },
   "outputs": [],
   "source": [
    "red=np.arange(0,8,0.1)\n",
    "red[0]=0.000001\n",
    "fit_data={'N1':SEDs[0,0,:].size,\n",
    "      'x1':red,\n",
    "      'y1':np.log10(SEDs[0,0,:]),\n",
    "      'N2':1,\n",
    "      'x2':[3]\n",
    "     }"
   ]
  },
  {
   "cell_type": "code",
   "execution_count": 9,
   "metadata": {
    "collapsed": true
   },
   "outputs": [],
   "source": [
    "fit=sm.sampling(data=fit_data, iter=1000,chains=2)"
   ]
  },
  {
   "cell_type": "code",
   "execution_count": 10,
   "metadata": {},
   "outputs": [
    {
     "data": {
      "text/plain": [
       "Inference for Stan model: anon_model_3586be1a4bf1cb2b85d5c403b41ae979.\n",
       "2 chains, each with iter=1000; warmup=500; thin=1; \n",
       "post-warmup draws per chain=500, total post-warmup draws=1000.\n",
       "\n",
       "          mean se_mean     sd   2.5%    25%    50%    75%  97.5%  n_eff   Rhat\n",
       "eta[0]  3.5e-3  3.2e-5 1.0e-3 1.5e-3 2.8e-3 3.5e-3 4.2e-3 5.6e-3   1000    1.0\n",
       "eta[1]   -1.68  6.7e-5 2.1e-3  -1.69  -1.68  -1.68  -1.68  -1.68   1000    1.0\n",
       "eta[2]    0.55  1.2e-4 3.7e-3   0.54   0.54   0.55   0.55   0.55   1000    1.0\n",
       "eta[3]   -1.71  1.8e-4 5.8e-3  -1.72  -1.71  -1.71  -1.71   -1.7   1000    1.0\n",
       "eta[4]    0.35  2.6e-4 8.4e-3   0.34   0.35   0.35   0.36   0.37   1000    1.0\n",
       "eta[5]   -1.44  3.7e-4   0.01  -1.47  -1.45  -1.44  -1.44  -1.42    926    1.0\n",
       "eta[6]    0.06  4.8e-4   0.01   0.03   0.05   0.06   0.07   0.09    841    1.0\n",
       "eta[7]   -1.19  5.9e-4   0.02  -1.22   -1.2  -1.19  -1.18  -1.16    781    1.0\n",
       "eta[8]   -0.18  6.8e-4   0.02  -0.21  -0.19  -0.18  -0.16  -0.14    751    1.0\n",
       "eta[9]    -1.0  7.6e-4   0.02  -1.04  -1.02   -1.0  -0.99  -0.97    716    1.0\n",
       "eta[10]  -0.34  8.3e-4   0.02  -0.38  -0.36  -0.34  -0.33   -0.3    672    1.0\n",
       "eta[11]  -0.66  9.1e-4   0.02  -0.71  -0.68  -0.66  -0.64  -0.62    623   1.01\n",
       "eta[12]  -0.94  9.6e-4   0.02  -0.98  -0.96  -0.94  -0.92  -0.89    587   1.01\n",
       "eta[13]  -0.15  9.8e-4   0.02   -0.2  -0.17  -0.15  -0.14  -0.11    571    1.0\n",
       "eta[14]  -1.23  9.7e-4   0.02  -1.28  -1.25  -1.23  -1.22  -1.19    586    1.0\n",
       "eta[15]  -0.08  9.4e-4   0.02  -0.13   -0.1  -0.08  -0.07  -0.04    630    1.0\n",
       "eta[16]  -1.18  9.3e-4   0.02  -1.23   -1.2  -1.18  -1.17  -1.13    676    1.0\n",
       "eta[17]  -0.19  9.4e-4   0.02  -0.24  -0.21  -0.19  -0.18  -0.15    703    1.0\n",
       "eta[18]  -1.03  9.6e-4   0.03  -1.08  -1.05  -1.03  -1.02  -0.98    704    1.0\n",
       "eta[19]  -0.42  9.9e-4   0.03  -0.47  -0.44  -0.42   -0.4  -0.37    679    1.0\n",
       "eta[20]  -0.73  1.0e-3   0.03  -0.78  -0.75  -0.73  -0.71  -0.68    641    1.0\n",
       "eta[21]  -0.63  1.1e-3   0.03  -0.68  -0.65  -0.63  -0.61  -0.58    616    1.0\n",
       "eta[22]  -0.66  1.1e-3   0.03  -0.71  -0.68  -0.66  -0.64  -0.61    612    1.0\n",
       "eta[23]  -0.69  1.1e-3   0.03  -0.74  -0.71  -0.69  -0.67  -0.64    622    1.0\n",
       "eta[24]  -0.69  1.1e-3   0.03  -0.74   -0.7  -0.69  -0.67  -0.63    638    1.0\n",
       "eta[25]  -0.69  1.1e-3   0.03  -0.74   -0.7  -0.69  -0.67  -0.63    645    1.0\n",
       "eta[26]  -0.71  1.1e-3   0.03  -0.76  -0.73  -0.71  -0.69  -0.65    649    1.0\n",
       "eta[27]  -0.64  1.0e-3   0.03  -0.69  -0.66  -0.64  -0.62  -0.59    665    1.0\n",
       "eta[28]  -0.62  1.0e-3   0.03  -0.68  -0.64  -0.62  -0.61  -0.57    662    1.0\n",
       "eta[29]   -0.7  1.0e-3   0.03  -0.75  -0.72   -0.7  -0.68  -0.65    679    1.0\n",
       "eta[30]  -0.85  9.8e-4   0.03   -0.9  -0.87  -0.85  -0.83   -0.8    705    1.0\n",
       "eta[31]   -0.5  9.6e-4   0.03  -0.55  -0.51   -0.5  -0.48  -0.45    735    1.0\n",
       "eta[32]  -0.95  9.5e-4   0.03   -1.0  -0.97  -0.95  -0.93   -0.9    740    1.0\n",
       "eta[33]  -0.49  9.5e-4   0.03  -0.54  -0.51  -0.49  -0.48  -0.45    723    1.0\n",
       "eta[34]  -0.92  9.5e-4   0.03  -0.97  -0.94  -0.92   -0.9  -0.87    703    1.0\n",
       "eta[35]  -0.56  9.6e-4   0.02  -0.61  -0.57  -0.56  -0.54  -0.51    680    1.0\n",
       "eta[36]  -0.87  9.6e-4   0.02  -0.92  -0.89  -0.87  -0.85  -0.82    675    1.0\n",
       "eta[37]  -0.62  9.7e-4   0.03  -0.67  -0.64  -0.62   -0.6  -0.57    686    1.0\n",
       "eta[38]  -0.83  1.0e-3   0.03  -0.88  -0.85  -0.83  -0.81  -0.78    619    1.0\n",
       "eta[39]  -0.67  9.8e-4   0.03  -0.72  -0.69  -0.67  -0.65  -0.62    687    1.0\n",
       "eta[40]  -0.81 10.0e-4   0.03  -0.86  -0.83  -0.81  -0.79  -0.76    673    1.0\n",
       "eta[41]  -0.69  1.0e-3   0.03  -0.74  -0.71  -0.69  -0.67  -0.63    664    1.0\n",
       "eta[42]   -0.8  1.0e-3   0.03  -0.85  -0.82   -0.8  -0.78  -0.75    659    1.0\n",
       "eta[43]  -0.71  1.0e-3   0.03  -0.76  -0.73  -0.71  -0.69  -0.65    655    1.0\n",
       "eta[44]  -0.79  1.0e-3   0.03  -0.85  -0.81  -0.79  -0.77  -0.74    656    1.0\n",
       "eta[45]  -0.73  1.0e-3   0.03  -0.78  -0.74  -0.73  -0.71  -0.67    654   1.01\n",
       "eta[46]  -0.78  1.0e-3   0.03  -0.84   -0.8  -0.78  -0.76  -0.73    648   1.01\n",
       "eta[47]  -0.74  1.1e-3   0.03  -0.79  -0.76  -0.74  -0.72  -0.69    649   1.01\n",
       "eta[48]  -0.78  1.1e-3   0.03  -0.83   -0.8  -0.78  -0.76  -0.73    643   1.01\n",
       "eta[49]  -0.75  1.1e-3   0.03  -0.81  -0.77  -0.75  -0.74   -0.7    625   1.01\n",
       "eta[50]  -0.78  1.1e-3   0.03  -0.83   -0.8  -0.78  -0.76  -0.73    609   1.01\n",
       "eta[51]  -0.76  1.1e-3   0.03  -0.82  -0.78  -0.76  -0.75  -0.71    599   1.01\n",
       "eta[52]  -0.78  1.1e-3   0.03  -0.83   -0.8  -0.78  -0.76  -0.73    607   1.01\n",
       "eta[53]  -0.77  1.1e-3   0.03  -0.82  -0.79  -0.77  -0.76  -0.72    618   1.01\n",
       "eta[54]  -0.79  1.1e-3   0.03  -0.84  -0.81  -0.79  -0.77  -0.74    625    1.0\n",
       "eta[55]  -0.78  1.1e-3   0.03  -0.83   -0.8  -0.79  -0.77  -0.73    625    1.0\n",
       "eta[56]  -0.79  1.0e-3   0.03  -0.84  -0.81  -0.79  -0.78  -0.74    635    1.0\n",
       "eta[57]   -0.8  1.0e-3   0.03  -0.85  -0.82   -0.8  -0.78  -0.75    639    1.0\n",
       "eta[58]   -0.8  9.8e-4   0.02  -0.85  -0.82   -0.8  -0.79  -0.76    638    1.0\n",
       "eta[59]  -0.81  9.7e-4   0.02  -0.86  -0.83  -0.81   -0.8  -0.77    637    1.0\n",
       "eta[60]  -0.82  9.8e-4   0.02  -0.87  -0.84  -0.82  -0.81  -0.77    637    1.0\n",
       "eta[61]  -0.35 10.0e-4   0.03   -0.4  -0.37  -0.35  -0.33   -0.3    628    1.0\n",
       "eta[62]  -1.11  1.0e-3   0.03  -1.16  -1.12   -1.1  -1.09  -1.06    624    1.0\n",
       "eta[63]   -0.2  1.0e-3   0.03  -0.25  -0.21   -0.2  -0.18  -0.14    629    1.0\n",
       "eta[64]  -1.46  1.0e-3   0.03  -1.52  -1.48  -1.46  -1.45  -1.41    644    1.0\n",
       "eta[65]   0.05  1.1e-3   0.03-5.2e-3   0.03   0.04   0.06    0.1    628    1.0\n",
       "eta[66]  -2.06  1.1e-3   0.03  -2.11  -2.08  -2.06  -2.04  -2.01    591    1.0\n",
       "eta[67]   0.61  1.1e-3   0.03   0.56   0.59   0.61   0.63   0.66    562    1.0\n",
       "eta[68]  -2.33  1.1e-3   0.03  -2.38  -2.35  -2.33  -2.31  -2.28    545    1.0\n",
       "eta[69]   0.56  1.1e-3   0.03   0.51   0.54   0.56   0.58   0.61    538    1.0\n",
       "eta[70]  -2.08  1.1e-3   0.03  -2.13   -2.1  -2.08  -2.07  -2.03    547    1.0\n",
       "eta[71]   0.21  1.1e-3   0.03   0.16    0.2   0.22   0.23   0.26    554    1.0\n",
       "eta[72]  -1.73  1.1e-3   0.02  -1.78  -1.75  -1.73  -1.72  -1.68    550    1.0\n",
       "eta[73]  -0.12  1.0e-3   0.02  -0.17  -0.14  -0.12  -0.11  -0.08    566    1.0\n",
       "eta[74]  -1.45  9.9e-4   0.02  -1.49  -1.46  -1.45  -1.43   -1.4    612    1.0\n",
       "eta[75]  -0.38  9.5e-4   0.02  -0.42  -0.39  -0.38  -0.36  -0.33    675    1.0\n",
       "eta[76]  -1.25  9.1e-4   0.02  -1.29  -1.26  -1.25  -1.23   -1.2    738    1.0\n",
       "eta[77]  -0.55  8.8e-4   0.03   -0.6  -0.57  -0.55  -0.54   -0.5    827    1.0\n",
       "eta[78]  -1.12  8.1e-4   0.03  -1.17  -1.13  -1.12   -1.1  -1.07   1000    1.0\n",
       "eta[79]  -0.67  8.2e-4   0.03  -0.72  -0.69  -0.67  -0.65  -0.62   1000    1.0\n",
       "eta[80]  -0.01    0.03   1.03   -2.0  -0.71   0.02   0.72   1.97   1000    1.0\n",
       "f[0]      0.04  3.2e-4   0.01   0.02   0.03   0.04   0.04   0.06   1000    1.0\n",
       "f[1]    -10.04  3.2e-4   0.01 -10.06 -10.05 -10.04 -10.04 -10.02   1000    1.0\n",
       "f[2]    -10.71  3.2e-4   0.01 -10.73 -10.71 -10.71  -10.7 -10.69   1000    1.0\n",
       "f[3]     -11.1  3.1e-4 9.8e-3 -11.12 -11.11  -11.1  -11.1 -11.09   1000    1.0\n",
       "f[4]    -11.39  3.3e-4   0.01 -11.41  -11.4 -11.39 -11.38 -11.37   1000    1.0\n",
       "f[5]    -11.61  3.1e-4 9.8e-3 -11.62 -11.61 -11.61  -11.6 -11.59   1000    1.0\n",
       "f[6]    -11.78  3.3e-4   0.01  -11.8 -11.79 -11.78 -11.78 -11.76    901    1.0\n",
       "f[7]    -11.93  3.1e-4 9.7e-3 -11.95 -11.93 -11.93 -11.92 -11.91   1000    1.0\n",
       "f[8]    -12.05  3.8e-4   0.01 -12.07 -12.06 -12.05 -12.04 -12.03    774    1.0\n",
       "f[9]    -12.16  3.1e-4 9.9e-3 -12.18 -12.17 -12.16 -12.15 -12.14   1000    1.0\n",
       "f[10]   -12.25  3.3e-4 9.8e-3 -12.27 -12.26 -12.25 -12.25 -12.23    890    1.0\n",
       "f[11]   -11.65  3.8e-4 9.8e-3 -11.67 -11.66 -11.65 -11.65 -11.63    673    1.0\n",
       "f[12]    -12.4  3.1e-4 9.7e-3 -12.42  -12.4  -12.4 -12.39 -12.38   1000    1.0\n",
       "f[13]    -12.5  3.2e-4   0.01 -12.52 -12.51  -12.5  -12.5 -12.48   1000    1.0\n",
       "f[14]   -12.58  3.3e-4   0.01  -12.6 -12.58 -12.58 -12.57 -12.56   1000    1.0\n",
       "f[15]   -12.65  3.1e-4 9.9e-3 -12.67 -12.65 -12.65 -12.64 -12.63   1000    1.0\n",
       "f[16]   -12.71  3.1e-4 9.8e-3 -12.72 -12.71 -12.71  -12.7 -12.69   1000    1.0\n",
       "f[17]   -12.71  3.7e-4   0.01 -12.73 -12.72 -12.71  -12.7 -12.69    785    1.0\n",
       "f[18]   -12.66  3.3e-4   0.01 -12.68 -12.67 -12.66 -12.65 -12.64   1000    1.0\n",
       "f[19]   -12.89  3.1e-4 9.7e-3 -12.91 -12.89 -12.89 -12.88 -12.87   1000    1.0\n",
       "f[20]   -12.66  3.2e-4   0.01 -12.68 -12.67 -12.66 -12.65 -12.64   1000    1.0\n",
       "f[21]   -12.49  3.2e-4 9.9e-3 -12.51  -12.5 -12.49 -12.49 -12.47    942    1.0\n",
       "f[22]   -12.59  3.2e-4   0.01 -12.61  -12.6 -12.59 -12.59 -12.57   1000    1.0\n",
       "f[23]   -12.78  3.2e-4 9.9e-3  -12.8 -12.79 -12.78 -12.77 -12.76    947    1.0\n",
       "f[24]   -13.03  3.1e-4 9.8e-3 -13.05 -13.04 -13.03 -13.02 -13.01   1000    1.0\n",
       "f[25]   -13.21  3.2e-4   0.01 -13.24 -13.22 -13.21 -13.21 -13.19   1000    1.0\n",
       "f[26]   -13.35  3.4e-4 9.9e-3 -13.37 -13.36 -13.35 -13.35 -13.33    842    1.0\n",
       "f[27]   -13.32  3.1e-4 9.8e-3 -13.34 -13.32 -13.32 -13.31  -13.3   1000    1.0\n",
       "f[28]   -12.94  3.1e-4 9.9e-3 -12.96 -12.95 -12.94 -12.93 -12.92   1000    1.0\n",
       "f[29]    -12.7  3.3e-4   0.01 -12.73 -12.71  -12.7  -12.7 -12.68   1000    1.0\n",
       "f[30]   -13.41  3.2e-4   0.01 -13.43 -13.41 -13.41  -13.4 -13.39    985    1.0\n",
       "f[31]   -13.71  3.1e-4 9.9e-3 -13.73 -13.72 -13.71 -13.71 -13.69   1000    1.0\n",
       "f[32]   -13.78  3.2e-4   0.01  -13.8 -13.79 -13.78 -13.77 -13.76   1000    1.0\n",
       "f[33]   -13.85  3.2e-410.0e-3 -13.87 -13.85 -13.85 -13.84 -13.83   1000    1.0\n",
       "f[34]   -13.91  3.2e-410.0e-3 -13.93 -13.92 -13.91  -13.9 -13.89   1000    1.0\n",
       "f[35]   -13.98  3.2e-4   0.01  -14.0 -13.98 -13.98 -13.97 -13.95   1000    1.0\n",
       "f[36]   -14.04  3.2e-4   0.01 -14.06 -14.05 -14.04 -14.04 -14.02    963    1.0\n",
       "f[37]   -14.12  3.2e-4   0.01 -14.14 -14.12 -14.12 -14.11  -14.1    985    1.0\n",
       "f[38]   -14.19  3.2e-410.0e-3 -14.21  -14.2 -14.19 -14.18 -14.17    994    1.0\n",
       "f[39]   -14.27  3.2e-4   0.01 -14.29 -14.28 -14.27 -14.26 -14.25   1000    1.0\n",
       "f[40]   -14.36  3.5e-4   0.01 -14.38 -14.37 -14.36 -14.35 -14.34    818    1.0\n",
       "f[41]    -14.4  3.1e-4 9.9e-3 -14.42 -14.41  -14.4  -14.4 -14.39   1000    1.0\n",
       "f[42]   -14.45  3.3e-4   0.01 -14.47 -14.46 -14.45 -14.44 -14.43    919    1.0\n",
       "f[43]   -14.49  3.1e-4 9.8e-3 -14.51  -14.5 -14.49 -14.49 -14.48   1000    1.0\n",
       "f[44]   -14.54  3.1e-4 9.9e-3 -14.56 -14.55 -14.54 -14.53 -14.52   1000    1.0\n",
       "f[45]   -14.59  3.2e-4   0.01 -14.61  -14.6 -14.59 -14.58 -14.57   1000   1.01\n",
       "f[46]   -14.64  3.1e-4 9.9e-3 -14.65 -14.64 -14.64 -14.63 -14.62   1000    1.0\n",
       "f[47]   -14.68  3.2e-4 9.9e-3  -14.7 -14.69 -14.68 -14.68 -14.67    944    1.0\n",
       "f[48]   -14.73  3.1e-4 9.7e-3 -14.75 -14.74 -14.73 -14.73 -14.71   1000    1.0\n",
       "f[49]   -14.78  3.1e-4 9.9e-3  -14.8 -14.79 -14.78 -14.78 -14.77   1000   1.01\n",
       "f[50]   -14.84  3.2e-4   0.01 -14.86 -14.84 -14.84 -14.83 -14.82   1000    1.0\n",
       "f[51]   -14.89  3.2e-4   0.01 -14.91  -14.9 -14.89 -14.89 -14.87   1000    1.0\n",
       "f[52]   -14.95  3.3e-4   0.01 -14.97 -14.96 -14.95 -14.94 -14.93   1000    1.0\n",
       "f[53]   -15.01  3.4e-4   0.01 -15.03 -15.02 -15.01 -15.01 -14.99    899    1.0\n",
       "f[54]   -15.08  3.2e-4   0.01  -15.1 -15.09 -15.08 -15.07 -15.06   1000    1.0\n",
       "f[55]   -15.15  3.1e-4 9.5e-3 -15.17 -15.16 -15.15 -15.14 -15.13    921    1.0\n",
       "f[56]   -15.23  3.2e-410.0e-3 -15.25 -15.23 -15.23 -15.22 -15.21   1000    1.0\n",
       "f[57]   -15.32  3.3e-4 9.6e-3 -15.33 -15.32 -15.31 -15.31  -15.3    857    1.0\n",
       "f[58]   -15.41  3.4e-4 9.9e-3 -15.43 -15.42 -15.41 -15.41 -15.39    864    1.0\n",
       "f[59]   -15.53  3.3e-4   0.01 -15.55 -15.54 -15.53 -15.53 -15.51    982    1.0\n",
       "f[60]   -15.68  3.2e-4   0.01  -15.7 -15.69 -15.68 -15.67 -15.66   1000    1.0\n",
       "f[61]   -14.36  3.4e-4   0.01 -14.38 -14.37 -14.36 -14.36 -14.34    945    1.0\n",
       "f[62]   -13.52  3.2e-4   0.01 -13.54 -13.53 -13.52 -13.51  -13.5    978    1.0\n",
       "f[63]   -13.11  3.4e-4   0.01 -13.13 -13.12 -13.11  -13.1 -13.09    920    1.0\n",
       "f[64]   -14.04  3.2e-4   0.01 -14.06 -14.05 -14.04 -14.03 -14.02   1000    1.0\n",
       "f[65]   -14.37  3.1e-4 9.7e-3 -14.38 -14.37 -14.37 -14.36 -14.35    993    1.0\n",
       "f[66]    -16.1  3.4e-4 9.9e-3 -16.12 -16.11  -16.1 -16.09 -16.08    851    1.0\n",
       "f[67]   -16.15  3.1e-4 9.9e-3 -16.17 -16.16 -16.15 -16.15 -16.13   1000    1.0\n",
       "f[68]   -16.21  3.3e-4   0.01 -16.23 -16.21 -16.21  -16.2 -16.19   1000    1.0\n",
       "f[69]   -16.25  3.1e-4 9.9e-3 -16.27 -16.26 -16.25 -16.24 -16.23   1000    1.0\n",
       "f[70]   -16.29  3.2e-410.0e-3 -16.31  -16.3 -16.29 -16.28 -16.27   1000    1.0\n",
       "f[71]   -16.33  3.3e-410.0e-3 -16.35 -16.34 -16.33 -16.32 -16.31    905    1.0\n",
       "f[72]   -16.37  3.1e-4 9.9e-3 -16.39 -16.38 -16.37 -16.37 -16.36   1000    1.0\n",
       "f[73]   -16.42  3.2e-4   0.01 -16.44 -16.43 -16.42 -16.41  -16.4   1000    1.0\n",
       "f[74]   -16.47  3.2e-4   0.01 -16.49 -16.47 -16.47 -16.46 -16.45   1000    1.0\n",
       "f[75]   -16.52  3.2e-4   0.01 -16.54 -16.52 -16.52 -16.51  -16.5   1000    1.0\n",
       "f[76]   -16.57  3.2e-4   0.01 -16.59 -16.58 -16.57 -16.56 -16.55   1000    1.0\n",
       "f[77]   -16.63  3.1e-4 9.8e-3 -16.65 -16.63 -16.63 -16.62 -16.61   1000    1.0\n",
       "f[78]   -16.69  3.2e-4 9.8e-3 -16.71 -16.69 -16.69 -16.68 -16.67    930    1.0\n",
       "f[79]   -16.76  3.2e-4 9.9e-3 -16.78 -16.76 -16.76 -16.75 -16.74    960    1.0\n",
       "f[80]   -13.41  3.2e-4   0.01 -13.43 -13.41 -13.41  -13.4 -13.39    985    1.0\n",
       "y2[0]   -13.41  4.6e-4   0.01 -13.43 -13.42 -13.41 -13.39 -13.38   1000    1.0\n",
       "lp__    -73.83    0.33   6.45  -87.2 -78.29 -73.63  -69.1 -62.05    371    1.0\n",
       "\n",
       "Samples were drawn using NUTS at Fri May  4 10:56:07 2018.\n",
       "For each parameter, n_eff is a crude measure of effective sample size,\n",
       "and Rhat is the potential scale reduction factor on split chains (at \n",
       "convergence, Rhat=1)."
      ]
     },
     "execution_count": 10,
     "metadata": {},
     "output_type": "execute_result"
    }
   ],
   "source": [
    "fit"
   ]
  },
  {
   "cell_type": "code",
   "execution_count": 11,
   "metadata": {},
   "outputs": [
    {
     "data": {
      "text/plain": [
       "[<matplotlib.lines.Line2D at 0x11a059e80>]"
      ]
     },
     "execution_count": 11,
     "metadata": {},
     "output_type": "execute_result"
    },
    {
     "data": {
      "image/png": "[encoded data removed]",
      "text/plain": [
       "<matplotlib.figure.Figure at 0x11a0d9438>"
      ]
     },
     "metadata": {},
     "output_type": "display_data"
    }
   ],
   "source": [
    "plt.plot(red,np.log10(SEDs[0,0,:]))"
   ]
  },
  {
   "cell_type": "code",
   "execution_count": 12,
   "metadata": {
    "collapsed": true
   },
   "outputs": [],
   "source": [
    "samples=fit.extract()"
   ]
  },
  {
   "cell_type": "code",
   "execution_count": 16,
   "metadata": {},
   "outputs": [
    {
     "data": {
      "text/plain": [
       "[<matplotlib.lines.Line2D at 0x11aee86d8>]"
      ]
     },
     "execution_count": 16,
     "metadata": {},
     "output_type": "execute_result"
    },
    {
     "data": {
      "image/png": "[encoded data removed]",
      "text/plain": [
       "<matplotlib.figure.Figure at 0x11adf8710>"
      ]
     },
     "metadata": {},
     "output_type": "display_data"
    }
   ],
   "source": [
    "plt.plot(red,samples['f'][0,:-1])\n",
    "plt.plot(red,np.log10(SEDs[0,0,:]),'o',alpha=0.1)"
   ]
  },
  {
   "cell_type": "code",
   "execution_count": 17,
   "metadata": {
    "collapsed": true
   },
   "outputs": [],
   "source": [
    "code=\"\"\"\n",
    "functions {\n",
    "  vector gp_pred_rng(real[] x2,\n",
    "                     vector y1, real[] x1,\n",
    "                     real alpha, real rho, real sigma, real delta) {\n",
    "    int N1 = rows(y1);\n",
    "    int N2 = size(x2);\n",
    "    vector[N2] f2;\n",
    "    {\n",
    "      matrix[N1, N1] K =   cov_exp_quad(x1, alpha, rho)\n",
    "                         + diag_matrix(rep_vector(square(sigma), N1));\n",
    "      matrix[N1, N1] L_K = cholesky_decompose(K);\n",
    "\n",
    "      vector[N1] L_K_div_y1 = mdivide_left_tri_low(L_K, y1);\n",
    "      vector[N1] K_div_y1 = mdivide_right_tri_low(L_K_div_y1', L_K)';\n",
    "      matrix[N1, N2] k_x1_x2 = cov_exp_quad(x1, x2, alpha, rho);\n",
    "      vector[N2] f2_mu = (k_x1_x2' * K_div_y1);\n",
    "      matrix[N1, N2] v_pred = mdivide_left_tri_low(L_K, k_x1_x2);\n",
    "      matrix[N2, N2] cov_f2 =   cov_exp_quad(x2, alpha, rho) - v_pred' * v_pred\n",
    "                              + diag_matrix(rep_vector(delta, N2));\n",
    "      f2 = multi_normal_rng(f2_mu, cov_f2);\n",
    "    }\n",
    "    return f2;\n",
    "  }\n",
    "}\n",
    "\n",
    "data {\n",
    "  int<lower=1> N;\n",
    "  real x[N];\n",
    "  vector[N] y;\n",
    "\n",
    "  int<lower=1> N_predict;\n",
    "  real x_predict[N_predict];\n",
    "\n",
    "  real<lower=0> rho;\n",
    "  real<lower=0> alpha;\n",
    "  real<lower=0> sigma;\n",
    "}\n",
    "\n",
    "transformed data {\n",
    "  matrix[N, N] cov =   cov_exp_quad(x, alpha, rho)\n",
    "                     + diag_matrix(rep_vector(1e-10, N));\n",
    "  matrix[N, N] L_cov = cholesky_decompose(cov);\n",
    "}\n",
    "\n",
    "parameters {}\n",
    "model {}\n",
    "\n",
    "generated quantities {\n",
    "  vector[N_predict] f_predict = gp_pred_rng(x_predict, y, x, alpha, rho, sigma, 1e-10);\n",
    "  vector[N_predict] y_predict;\n",
    "\n",
    "  for (n in 1:N_predict)\n",
    "    y_predict[n] = normal_rng(f_predict[n], sigma);\n",
    "}\"\"\""
   ]
  },
  {
   "cell_type": "code",
   "execution_count": 18,
   "metadata": {},
   "outputs": [
    {
     "name": "stderr",
     "output_type": "stream",
     "text": [
      "INFO:pystan:COMPILING THE C++ CODE FOR MODEL anon_model_fbb57ffdb42988e1caf1e58c8b47a9f3 NOW.\n"
     ]
    }
   ],
   "source": [
    "sm2=pystan.StanModel(model_code=code)"
   ]
  },
  {
   "cell_type": "code",
   "execution_count": 43,
   "metadata": {
    "collapsed": true
   },
   "outputs": [],
   "source": [
    "redpred=np.random.uniform(1,4,100)"
   ]
  },
  {
   "cell_type": "code",
   "execution_count": 44,
   "metadata": {
    "collapsed": true
   },
   "outputs": [],
   "source": [
    "red=np.arange(0,8,0.1)\n",
    "red[0]=0.000001\n",
    "fit_data={'N':SEDs[0,0,:].size,\n",
    "      'x':red,\n",
    "      'y':np.log10(SEDs[0,0,:]),\n",
    "      'N_predict':redpred.size,\n",
    "      'x_predict':redpred,\n",
    "      'rho':0.15,\n",
    "      'alpha':1.0,\n",
    "      'sigma':0.01\n",
    "     }"
   ]
  },
  {
   "cell_type": "code",
   "execution_count": 45,
   "metadata": {
    "collapsed": true
   },
   "outputs": [],
   "source": [
    "fit2=sm2.sampling(data=fit_data, iter=1000,chains=2,algorithm=\"Fixed_param\",warmup=0)"
   ]
  },
  {
   "cell_type": "code",
   "execution_count": 46,
   "metadata": {},
   "outputs": [
    {
     "data": {
      "text/plain": [
       "Inference for Stan model: anon_model_fbb57ffdb42988e1caf1e58c8b47a9f3.\n",
       "2 chains, each with iter=1000; warmup=0; thin=1; \n",
       "post-warmup draws per chain=1000, total post-warmup draws=2000.\n",
       "\n",
       "                mean se_mean     sd   2.5%    25%    50%    75%  97.5%  n_eff   Rhat\n",
       "f_predict[0]  -13.25  2.3e-4   0.01 -13.27 -13.26 -13.25 -13.25 -13.23   1836    1.0\n",
       "f_predict[1]  -13.84  2.2e-4 9.8e-3 -13.86 -13.85 -13.84 -13.84 -13.83   1914    1.0\n",
       "f_predict[2]   -12.7  2.3e-4   0.01 -12.72 -12.71  -12.7  -12.7 -12.68   2000    1.0\n",
       "f_predict[3]  -12.63  2.2e-4   0.01 -12.65 -12.64 -12.63 -12.63 -12.61   2000    1.0\n",
       "f_predict[4]  -12.56  2.1e-4 9.6e-3 -12.58 -12.57 -12.56 -12.56 -12.54   2000    1.0\n",
       "f_predict[5]  -13.17  2.3e-4 9.7e-3 -13.19 -13.18 -13.17 -13.16 -13.15   1777    1.0\n",
       "f_predict[6]  -13.77  2.2e-4 9.8e-3 -13.79 -13.78 -13.77 -13.76 -13.75   2000    1.0\n",
       "f_predict[7]  -12.52  2.3e-4   0.01 -12.54 -12.52 -12.52 -12.51  -12.5   1981    1.0\n",
       "f_predict[8]  -13.28  2.4e-4   0.01  -13.3 -13.29 -13.28 -13.27 -13.26   1824    1.0\n",
       "f_predict[9]  -12.02  2.3e-4   0.01 -12.04 -12.02 -12.02 -12.01  -12.0   2000    1.0\n",
       "f_predict[10] -12.67  2.1e-4 9.6e-3 -12.69 -12.67 -12.67 -12.66 -12.65   1992    1.0\n",
       "f_predict[11] -13.23  2.3e-4 9.8e-3 -13.25 -13.24 -13.23 -13.22 -13.21   1825    1.0\n",
       "f_predict[12] -14.04  2.2e-4 9.8e-3 -14.06 -14.05 -14.04 -14.04 -14.02   1894    1.0\n",
       "f_predict[13] -13.98  2.3e-4 9.9e-3  -14.0 -13.99 -13.98 -13.98 -13.96   1855    1.0\n",
       "f_predict[14]  -12.6  2.2e-410.0e-3 -12.62 -12.61  -12.6  -12.6 -12.58   1985    1.0\n",
       "f_predict[15] -14.05  2.4e-4 9.8e-3 -14.07 -14.05 -14.05 -14.04 -14.03   1726    1.0\n",
       "f_predict[16] -13.94  2.3e-4   0.01 -13.96 -13.95 -13.94 -13.94 -13.92   1921    1.0\n",
       "f_predict[17] -13.75  2.2e-4 9.9e-3 -13.77 -13.76 -13.75 -13.74 -13.73   2000    1.0\n",
       "f_predict[18] -14.32  2.2e-4 9.9e-3 -14.34 -14.33 -14.32 -14.31  -14.3   2000    1.0\n",
       "f_predict[19] -14.13  2.2e-4 9.8e-3 -14.15 -14.14 -14.13 -14.13 -14.11   2000    1.0\n",
       "f_predict[20] -12.65  2.2e-4 9.7e-3 -12.67 -12.66 -12.65 -12.65 -12.64   1888    1.0\n",
       "f_predict[21] -14.15  2.2e-410.0e-3 -14.17 -14.15 -14.15 -14.14 -14.13   2000    1.0\n",
       "f_predict[22] -12.76  2.2e-4 9.9e-3 -12.78 -12.76 -12.76 -12.75 -12.74   2000    1.0\n",
       "f_predict[23]  -12.7  2.2e-4 9.7e-3 -12.72  -12.7  -12.7 -12.69 -12.68   2000    1.0\n",
       "f_predict[24] -12.64  2.2e-4 9.7e-3 -12.66 -12.65 -12.64 -12.63 -12.62   1967    1.0\n",
       "f_predict[25] -13.97  2.3e-4 9.9e-3 -13.99 -13.98 -13.97 -13.97 -13.95   1902    1.0\n",
       "f_predict[26] -13.38  2.2e-4 9.8e-3  -13.4 -13.39 -13.38 -13.38 -13.36   2000    1.0\n",
       "f_predict[27] -14.14  2.2e-4 9.9e-3 -14.16 -14.14 -14.14 -14.13 -14.12   2000    1.0\n",
       "f_predict[28]  -12.8  2.4e-4 9.9e-3 -12.82 -12.81  -12.8 -12.79 -12.78   1770    1.0\n",
       "f_predict[29] -14.36  2.2e-4 9.8e-3 -14.38 -14.36 -14.36 -14.35 -14.34   1934    1.0\n",
       "f_predict[30] -12.73  2.2e-4 9.8e-3 -12.75 -12.73 -12.73 -12.72 -12.71   1989    1.0\n",
       "f_predict[31] -12.89  2.3e-4   0.01 -12.91  -12.9 -12.89 -12.88 -12.87   2000    1.0\n",
       "f_predict[32] -12.17  2.3e-4   0.01 -12.19 -12.17 -12.17 -12.16 -12.15   1933    1.0\n",
       "f_predict[33] -12.73  2.3e-410.0e-3 -12.75 -12.74 -12.73 -12.73 -12.71   1955    1.0\n",
       "f_predict[34] -13.85  2.2e-4 9.7e-3 -13.87 -13.85 -13.85 -13.84 -13.83   1923    1.0\n",
       "f_predict[35] -12.63  2.3e-4   0.01 -12.65 -12.63 -12.63 -12.62 -12.61   1984    1.0\n",
       "f_predict[36] -12.78  2.2e-4 9.8e-3  -12.8 -12.79 -12.78 -12.77 -12.76   2000    1.0\n",
       "f_predict[37] -13.99  2.2e-4 9.9e-3 -14.01  -14.0 -13.99 -13.99 -13.97   1955    1.0\n",
       "f_predict[38] -12.64  2.2e-4 9.7e-3 -12.66 -12.65 -12.64 -12.63 -12.62   1955    1.0\n",
       "f_predict[39] -11.69  2.3e-4 9.9e-3 -11.71 -11.69 -11.69 -11.68 -11.67   1821    1.0\n",
       "f_predict[40] -12.64  2.2e-4 9.7e-3 -12.66 -12.65 -12.64 -12.64 -12.62   1955    1.0\n",
       "f_predict[41]  -13.6  2.5e-4   0.01 -13.62 -13.61  -13.6  -13.6 -13.58   1641    1.0\n",
       "f_predict[42] -13.35  2.3e-4   0.01 -13.37 -13.36 -13.35 -13.35 -13.33   1863    1.0\n",
       "f_predict[43] -14.01  2.3e-4 9.9e-3 -14.03 -14.02 -14.01 -14.01 -13.99   1885    1.0\n",
       "f_predict[44] -12.68  2.1e-4 9.5e-3  -12.7 -12.69 -12.68 -12.67 -12.66   2000    1.0\n",
       "f_predict[45] -13.11  2.2e-4 9.8e-3 -13.13 -13.11 -13.11  -13.1 -13.09   1957    1.0\n",
       "f_predict[46] -14.06  2.5e-410.0e-3 -14.08 -14.07 -14.06 -14.06 -14.04   1646    1.0\n",
       "f_predict[47] -12.47  2.2e-4 9.8e-3 -12.49 -12.48 -12.47 -12.47 -12.45   1993    1.0\n",
       "f_predict[48] -13.11  2.2e-4 9.8e-3 -13.13 -13.11 -13.11  -13.1 -13.09   2000    1.0\n",
       "f_predict[49] -12.66  2.1e-4 9.5e-3 -12.68 -12.66 -12.66 -12.65 -12.64   2000    1.0\n",
       "f_predict[50] -12.61  2.1e-4 9.6e-3 -12.63 -12.62 -12.61 -12.61 -12.59   2000    1.0\n",
       "f_predict[51] -13.11  2.2e-4 9.8e-3 -13.13 -13.11 -13.11  -13.1 -13.09   1955    1.0\n",
       "f_predict[52] -12.75  2.3e-4   0.01 -12.77 -12.76 -12.75 -12.75 -12.73   1957    1.0\n",
       "f_predict[53] -12.93  2.2e-4   0.01 -12.95 -12.93 -12.93 -12.92 -12.91   2000    1.0\n",
       "f_predict[54] -13.73  2.2e-4 9.8e-3 -13.75 -13.73 -13.73 -13.72 -13.71   2000    1.0\n",
       "f_predict[55] -12.63  2.3e-4   0.01 -12.65 -12.64 -12.63 -12.62 -12.61   1998    1.0\n",
       "f_predict[56] -13.82  2.3e-4   0.01 -13.84 -13.82 -13.82 -13.81  -13.8   1973    1.0\n",
       "f_predict[57] -13.94  2.3e-4   0.01 -13.96 -13.95 -13.94 -13.93 -13.92   1931    1.0\n",
       "f_predict[58] -13.59  2.5e-4   0.01 -13.61  -13.6 -13.59 -13.59 -13.58   1643    1.0\n",
       "f_predict[59] -12.95  2.1e-4 9.6e-3 -12.97 -12.96 -12.95 -12.95 -12.94   2000    1.0\n",
       "f_predict[60]  -11.8  2.3e-4   0.01 -11.82  -11.8  -11.8 -11.79 -11.78   1882    1.0\n",
       "f_predict[61] -14.36  2.2e-4 9.8e-3 -14.38 -14.36 -14.36 -14.35 -14.34   1929    1.0\n",
       "f_predict[62] -14.22  2.3e-4   0.01 -14.24 -14.23 -14.22 -14.22  -14.2   1963    1.0\n",
       "f_predict[63] -14.29  2.2e-4 9.7e-3 -14.31  -14.3 -14.29 -14.28 -14.27   2000    1.0\n",
       "f_predict[64] -14.19  2.2e-4 9.7e-3 -14.21  -14.2 -14.19 -14.19 -14.17   2000    1.0\n",
       "f_predict[65] -12.75  2.3e-4   0.01 -12.77 -12.76 -12.75 -12.75 -12.73   1973    1.0\n",
       "f_predict[66] -12.95  2.2e-4 9.8e-3 -12.96 -12.95 -12.95 -12.94 -12.93   2000    1.0\n",
       "f_predict[67] -12.72  2.1e-4 9.6e-3 -12.74 -12.73 -12.72 -12.72  -12.7   2000    1.0\n",
       "f_predict[68] -12.81  2.4e-4 9.9e-3 -12.83 -12.81 -12.81  -12.8 -12.79   1768    1.0\n",
       "f_predict[69] -12.47  2.2e-4 9.8e-3 -12.49 -12.48 -12.47 -12.46 -12.45   1986    1.0\n",
       "f_predict[70] -12.62  2.2e-4   0.01 -12.64 -12.63 -12.62 -12.62  -12.6   2000    1.0\n",
       "f_predict[71] -12.76  2.3e-4 9.9e-3 -12.78 -12.77 -12.76 -12.76 -12.75   1798    1.0\n",
       "f_predict[72] -13.36  2.4e-4   0.01 -13.38 -13.37 -13.36 -13.35 -13.34   1847    1.0\n",
       "f_predict[73] -12.67  2.1e-4 9.6e-3 -12.69 -12.67 -12.67 -12.66 -12.65   1992    1.0\n",
       "f_predict[74] -13.75  2.2e-4 9.9e-3 -13.77 -13.75 -13.75 -13.74 -13.73   2000    1.0\n",
       "f_predict[75] -12.64  2.2e-4 9.7e-3 -12.66 -12.65 -12.64 -12.64 -12.63   1997    1.0\n",
       "f_predict[76] -13.82  2.3e-4   0.01 -13.84 -13.83 -13.82 -13.82  -13.8   1945    1.0\n",
       "f_predict[77]  -12.7  2.2e-4 9.8e-3 -12.72 -12.71  -12.7  -12.7 -12.69   1989    1.0\n",
       "f_predict[78] -12.67  2.3e-4 9.9e-3 -12.69 -12.68 -12.67 -12.67 -12.65   1890    1.0\n",
       "f_predict[79] -13.72  2.2e-4 9.7e-3 -13.74 -13.73 -13.72 -13.71  -13.7   1999    1.0\n",
       "f_predict[80] -12.61  2.1e-4 9.6e-3 -12.63 -12.62 -12.61 -12.61  -12.6   2000    1.0\n",
       "f_predict[81] -12.65  2.2e-4 9.7e-3 -12.67 -12.66 -12.65 -12.65 -12.63   2000    1.0\n",
       "f_predict[82] -13.59  2.5e-4   0.01 -13.61 -13.59 -13.59 -13.58 -13.57   1646    1.0\n",
       "f_predict[83]  -14.1  2.4e-4 9.9e-3 -14.12  -14.1  -14.1 -14.09 -14.08   1732    1.0\n",
       "f_predict[84]  -12.5  2.3e-4   0.01 -12.52 -12.51  -12.5 -12.49 -12.48   2000    1.0\n",
       "f_predict[85] -12.67  2.2e-4   0.01 -12.69 -12.68 -12.67 -12.66 -12.65   2000    1.0\n",
       "f_predict[86] -14.23  2.3e-4   0.01 -14.25 -14.24 -14.23 -14.22 -14.21   1967    1.0\n",
       "f_predict[87] -12.81  2.4e-4 9.9e-3 -12.83 -12.82 -12.81  -12.8 -12.79   1768    1.0\n",
       "f_predict[88] -12.88  2.2e-4 9.6e-3  -12.9 -12.89 -12.88 -12.88 -12.86   1843    1.0\n",
       "f_predict[89] -12.67  2.1e-4 9.6e-3 -12.69 -12.68 -12.67 -12.67 -12.65   2000    1.0\n",
       "f_predict[90] -13.01  2.2e-4 9.8e-3 -13.03 -13.02 -13.01  -13.0 -12.99   2000    1.0\n",
       "f_predict[91] -13.34  2.3e-4 9.7e-3 -13.36 -13.35 -13.34 -13.33 -13.32   1808    1.0\n",
       "f_predict[92] -12.68  2.1e-4 9.6e-3  -12.7 -12.69 -12.68 -12.68 -12.66   2000    1.0\n",
       "f_predict[93] -14.26  2.2e-4 9.9e-3 -14.28 -14.26 -14.26 -14.25 -14.24   2000    1.0\n",
       "f_predict[94] -14.08  2.5e-4   0.01  -14.1 -14.08 -14.08 -14.07 -14.06   1631    1.0\n",
       "f_predict[95] -14.31  2.2e-4 9.8e-3 -14.33 -14.31 -14.31  -14.3 -14.29   2000    1.0\n",
       "f_predict[96] -12.71  2.3e-4   0.01 -12.73 -12.72 -12.71  -12.7 -12.69   2000    1.0\n",
       "f_predict[97] -12.59  2.2e-410.0e-3 -12.61 -12.59 -12.59 -12.58 -12.57   2000    1.0\n",
       "f_predict[98]  -12.0  2.3e-4   0.01 -12.02 -12.01  -12.0  -12.0 -11.98   2000    1.0\n",
       "f_predict[99] -12.52  2.3e-4   0.01 -12.54 -12.53 -12.52 -12.52  -12.5   1974    1.0\n",
       "y_predict[0]  -13.25  3.2e-4   0.01 -13.28 -13.26 -13.25 -13.24 -13.23   1902    1.0\n",
       "y_predict[1]  -13.84  3.4e-4   0.01 -13.87 -13.85 -13.84 -13.84 -13.82   1640    1.0\n",
       "y_predict[2]   -12.7  3.2e-4   0.01 -12.73 -12.71  -12.7 -12.69 -12.68   2000    1.0\n",
       "y_predict[3]  -12.63  3.2e-4   0.01 -12.66 -12.64 -12.63 -12.62 -12.61   2000    1.0\n",
       "y_predict[4]  -12.56  3.1e-4   0.01 -12.59 -12.57 -12.56 -12.55 -12.53   2000    1.0\n",
       "y_predict[5]  -13.17  3.3e-4   0.01  -13.2 -13.18 -13.17 -13.16 -13.14   1906    1.0\n",
       "y_predict[6]  -13.77  3.2e-4   0.01  -13.8 -13.78 -13.77 -13.76 -13.74   2000    1.0\n",
       "y_predict[7]  -12.52  3.2e-4   0.01 -12.54 -12.53 -12.52 -12.51 -12.49   2000    1.0\n",
       "y_predict[8]  -13.28  3.2e-4   0.01 -13.31 -13.29 -13.28 -13.27 -13.25   1950    1.0\n",
       "y_predict[9]  -12.02  3.2e-4   0.01 -12.05 -12.03 -12.02 -12.01 -11.99   2000    1.0\n",
       "y_predict[10] -12.67  3.1e-4   0.01 -12.69 -12.68 -12.67 -12.66 -12.64   2000    1.0\n",
       "y_predict[11] -13.23  3.1e-4   0.01 -13.26 -13.24 -13.23 -13.22  -13.2   2000    1.0\n",
       "y_predict[12] -14.04  3.2e-4   0.01 -14.07 -14.05 -14.04 -14.03 -14.02   1967    1.0\n",
       "y_predict[13] -13.98  3.2e-4   0.01 -14.01 -13.99 -13.98 -13.97 -13.95   2000    1.0\n",
       "y_predict[14] -12.61  3.3e-4   0.01 -12.63 -12.61 -12.61  -12.6 -12.58   1799    1.0\n",
       "y_predict[15] -14.05  3.2e-4   0.01 -14.08 -14.06 -14.05 -14.04 -14.02   2000    1.0\n",
       "y_predict[16] -13.94  3.1e-4   0.01 -13.97 -13.95 -13.94 -13.93 -13.92   2000    1.0\n",
       "y_predict[17] -13.75  3.2e-4   0.01 -13.78 -13.76 -13.75 -13.74 -13.72   2000    1.0\n",
       "y_predict[18] -14.32  3.1e-4   0.01 -14.35 -14.33 -14.32 -14.31 -14.29   2000    1.0\n",
       "y_predict[19] -14.13  3.2e-4   0.01 -14.16 -14.14 -14.13 -14.12  -14.1   1935    1.0\n",
       "y_predict[20] -12.65  3.1e-4   0.01 -12.68 -12.66 -12.65 -12.64 -12.63   2000    1.0\n",
       "y_predict[21] -14.15  3.3e-4   0.01 -14.17 -14.16 -14.15 -14.14 -14.12   1800    1.0\n",
       "y_predict[22] -12.76  3.2e-4   0.01 -12.78 -12.77 -12.76 -12.75 -12.73   2000    1.0\n",
       "y_predict[23]  -12.7  3.2e-4   0.01 -12.73 -12.71  -12.7 -12.69 -12.67   2000    1.0\n",
       "y_predict[24] -12.64  3.1e-4   0.01 -12.67 -12.65 -12.64 -12.63 -12.61   1986    1.0\n",
       "y_predict[25] -13.97  3.1e-4   0.01  -14.0 -13.98 -13.97 -13.96 -13.95   2000    1.0\n",
       "y_predict[26] -13.38  3.0e-4   0.01 -13.41 -13.39 -13.38 -13.37 -13.35   2000    1.0\n",
       "y_predict[27] -14.14  3.2e-4   0.01 -14.17 -14.15 -14.14 -14.13 -14.11   2000    1.0\n",
       "y_predict[28]  -12.8  3.2e-4   0.01 -12.83 -12.81  -12.8 -12.79 -12.77   1901    1.0\n",
       "y_predict[29] -14.36  3.2e-4   0.01 -14.38 -14.37 -14.36 -14.35 -14.33   2000    1.0\n",
       "y_predict[30] -12.73  3.1e-4   0.01 -12.75 -12.74 -12.73 -12.72  -12.7   2000    1.0\n",
       "y_predict[31] -12.89  3.2e-4   0.01 -12.92  -12.9 -12.89 -12.88 -12.86   1929    1.0\n",
       "y_predict[32] -12.17  3.1e-4   0.01 -12.19 -12.17 -12.17 -12.16 -12.14   1960    1.0\n",
       "y_predict[33] -12.73  3.1e-4   0.01 -12.76 -12.74 -12.73 -12.72 -12.71   1913    1.0\n",
       "y_predict[34] -13.85  3.2e-4   0.01 -13.88 -13.86 -13.85 -13.84 -13.82   1923    1.0\n",
       "y_predict[35] -12.63  3.2e-4   0.01 -12.66 -12.64 -12.63 -12.62  -12.6   2000    1.0\n",
       "y_predict[36] -12.78  3.1e-4   0.01 -12.81 -12.79 -12.78 -12.77 -12.75   2000    1.0\n",
       "y_predict[37] -13.99  3.1e-4   0.01 -14.02  -14.0 -13.99 -13.98 -13.97   2000    1.0\n",
       "y_predict[38] -12.64  3.1e-4   0.01 -12.67 -12.65 -12.64 -12.63 -12.61   1968    1.0\n",
       "y_predict[39] -11.69  3.2e-4   0.01 -11.72  -11.7 -11.69 -11.68 -11.66   2000    1.0\n",
       "y_predict[40] -12.64  3.1e-4   0.01 -12.67 -12.65 -12.64 -12.63 -12.61   1956    1.0\n",
       "y_predict[41]  -13.6  3.4e-4   0.01 -13.63 -13.61  -13.6 -13.59 -13.58   1832    1.0\n",
       "y_predict[42] -13.35  3.2e-4   0.01 -13.38 -13.36 -13.35 -13.34 -13.33   1859    1.0\n",
       "y_predict[43] -14.01  3.3e-4   0.01 -14.04 -14.02 -14.01  -14.0 -13.99   1886    1.0\n",
       "y_predict[44] -12.68  3.0e-4   0.01 -12.71 -12.69 -12.68 -12.67 -12.65   2000    1.0\n",
       "y_predict[45] -13.11  3.0e-4   0.01 -13.13 -13.11 -13.11  -13.1 -13.08   2000    1.0\n",
       "y_predict[46] -14.06  3.3e-4   0.01 -14.09 -14.07 -14.06 -14.05 -14.04   2000    1.0\n",
       "y_predict[47] -12.47  3.1e-4   0.01  -12.5 -12.48 -12.47 -12.46 -12.44   2000    1.0\n",
       "y_predict[48] -13.11  3.1e-4   0.01 -13.13 -13.12 -13.11  -13.1 -13.08   2000    1.0\n",
       "y_predict[49] -12.66  3.1e-4   0.01 -12.69 -12.67 -12.66 -12.65 -12.63   2000    1.0\n",
       "y_predict[50] -12.61  3.1e-4   0.01 -12.64 -12.62 -12.61  -12.6 -12.58   2000    1.0\n",
       "y_predict[51] -13.11  3.3e-4   0.01 -13.14 -13.12 -13.11  -13.1 -13.08   1857    1.0\n",
       "y_predict[52] -12.75  3.2e-4   0.01 -12.78 -12.76 -12.75 -12.74 -12.73   1928    1.0\n",
       "y_predict[53] -12.93  3.2e-4   0.01 -12.95 -12.94 -12.93 -12.92  -12.9   2000    1.0\n",
       "y_predict[54] -13.73  3.5e-4   0.01 -13.76 -13.74 -13.73 -13.72  -13.7   1505    1.0\n",
       "y_predict[55] -12.63  3.3e-4   0.01 -12.66 -12.64 -12.63 -12.62  -12.6   1811    1.0\n",
       "y_predict[56] -13.82  3.4e-4   0.01 -13.85 -13.83 -13.82 -13.81 -13.79   1868    1.0\n",
       "y_predict[57] -13.94  3.5e-4   0.01 -13.97 -13.95 -13.94 -13.93 -13.91   1695    1.0\n",
       "y_predict[58] -13.59  3.2e-4   0.01 -13.62  -13.6 -13.59 -13.59 -13.57   1850    1.0\n",
       "y_predict[59] -12.95  3.1e-4   0.01 -12.98 -12.96 -12.95 -12.94 -12.93   1932    1.0\n",
       "y_predict[60]  -11.8  3.3e-4   0.01 -11.82 -11.81  -11.8 -11.79 -11.77   1933    1.0\n",
       "y_predict[61] -14.36  3.1e-4   0.01 -14.38 -14.37 -14.36 -14.35 -14.33   2000    1.0\n",
       "y_predict[62] -14.22  3.1e-4   0.01 -14.25 -14.23 -14.22 -14.21  -14.2   2000    1.0\n",
       "y_predict[63] -14.29  3.0e-4   0.01 -14.32  -14.3 -14.29 -14.28 -14.26   2000    1.0\n",
       "y_predict[64] -14.19  3.1e-4   0.01 -14.22  -14.2 -14.19 -14.18 -14.17   2000    1.0\n",
       "y_predict[65] -12.75  3.2e-4   0.01 -12.78 -12.76 -12.75 -12.74 -12.73   1960    1.0\n",
       "y_predict[66] -12.95  3.2e-4   0.01 -12.97 -12.96 -12.95 -12.94 -12.92   2000    1.0\n",
       "y_predict[67] -12.72  3.1e-4   0.01 -12.75 -12.73 -12.72 -12.71  -12.7   2000    1.0\n",
       "y_predict[68] -12.81  3.4e-4   0.01 -12.84 -12.82 -12.81  -12.8 -12.78   1777    1.0\n",
       "y_predict[69] -12.47  3.1e-4   0.01  -12.5 -12.48 -12.47 -12.46 -12.44   2000    1.0\n",
       "y_predict[70] -12.62  3.3e-4   0.01 -12.65 -12.63 -12.62 -12.61 -12.59   1895    1.0\n",
       "y_predict[71] -12.77  3.5e-4   0.01 -12.79 -12.77 -12.77 -12.76 -12.74   1609    1.0\n",
       "y_predict[72] -13.36  3.4e-4   0.01 -13.39 -13.37 -13.36 -13.35 -13.33   1734    1.0\n",
       "y_predict[73] -12.67  3.2e-4   0.01 -12.69 -12.68 -12.67 -12.66 -12.64   1871    1.0\n",
       "y_predict[74] -13.75  3.3e-4   0.01 -13.78 -13.76 -13.75 -13.74 -13.72   1929    1.0\n",
       "y_predict[75] -12.64  3.1e-4   0.01 -12.67 -12.65 -12.64 -12.63 -12.62   1963    1.0\n",
       "y_predict[76] -13.82  3.2e-4   0.01 -13.85 -13.83 -13.82 -13.81  -13.8   2000    1.0\n",
       "y_predict[77]  -12.7  3.2e-4   0.01 -12.73 -12.71  -12.7 -12.69 -12.68   1962    1.0\n",
       "y_predict[78] -12.67  3.3e-4   0.01  -12.7 -12.68 -12.67 -12.66 -12.64   1819    1.0\n",
       "y_predict[79] -13.72  3.2e-4   0.01 -13.75 -13.73 -13.72 -13.71 -13.69   1914    1.0\n",
       "y_predict[80] -12.61  3.1e-4   0.01 -12.64 -12.62 -12.61 -12.61 -12.59   2000    1.0\n",
       "y_predict[81] -12.65  3.2e-4   0.01 -12.68 -12.66 -12.65 -12.64 -12.63   2000    1.0\n",
       "y_predict[82] -13.59  3.2e-4   0.01 -13.62  -13.6 -13.59 -13.58 -13.56   1934    1.0\n",
       "y_predict[83]  -14.1  3.7e-4   0.01 -14.12 -14.11  -14.1 -14.09 -14.07   1378    1.0\n",
       "y_predict[84]  -12.5  3.2e-4   0.01 -12.53 -12.51  -12.5 -12.49 -12.47   1965    1.0\n",
       "y_predict[85] -12.67  3.2e-4   0.01  -12.7 -12.68 -12.67 -12.66 -12.64   2000    1.0\n",
       "y_predict[86] -14.23  3.2e-4   0.01 -14.26 -14.24 -14.23 -14.22  -14.2   1917    1.0\n",
       "y_predict[87] -12.81  3.3e-4   0.01 -12.84 -12.82 -12.81  -12.8 -12.78   1859    1.0\n",
       "y_predict[88] -12.88  3.2e-4   0.01 -12.91 -12.89 -12.88 -12.87 -12.86   1862    1.0\n",
       "y_predict[89] -12.67  3.4e-4   0.01  -12.7 -12.68 -12.67 -12.66 -12.65   1716    1.0\n",
       "y_predict[90] -13.01  3.2e-4   0.01 -13.04 -13.02 -13.01  -13.0 -12.98   2000    1.0\n",
       "y_predict[91] -13.34  3.1e-4   0.01 -13.37 -13.35 -13.34 -13.33 -13.31   1940    1.0\n",
       "y_predict[92] -12.68  3.1e-4   0.01 -12.71 -12.69 -12.68 -12.67 -12.66   2000    1.0\n",
       "y_predict[93] -14.26  3.1e-4   0.01 -14.28 -14.27 -14.26 -14.25 -14.23   2000    1.0\n",
       "y_predict[94] -14.08  3.7e-4   0.01 -14.11 -14.09 -14.08 -14.07 -14.05   1501    1.0\n",
       "y_predict[95] -14.31  3.2e-4   0.01 -14.34 -14.32 -14.31  -14.3 -14.28   1932    1.0\n",
       "y_predict[96] -12.71  3.1e-4   0.01 -12.74 -12.72 -12.71  -12.7 -12.68   2000    1.0\n",
       "y_predict[97] -12.59  3.1e-4   0.01 -12.61  -12.6 -12.59 -12.58 -12.56   1999    1.0\n",
       "y_predict[98]  -12.0  3.4e-4   0.01 -12.03 -12.01  -12.0 -11.99 -11.97   1945    1.0\n",
       "y_predict[99] -12.52  3.2e-4   0.01 -12.55 -12.53 -12.52 -12.51 -12.49   2000    1.0\n",
       "lp__             0.0     0.0    0.0    0.0    0.0    0.0    0.0    0.0   2000    nan\n",
       "\n",
       "Samples were drawn using Fixed_param at Fri May  4 12:50:14 2018.\n",
       "For each parameter, n_eff is a crude measure of effective sample size,\n",
       "and Rhat is the potential scale reduction factor on split chains (at \n",
       "convergence, Rhat=1)."
      ]
     },
     "execution_count": 46,
     "metadata": {},
     "output_type": "execute_result"
    }
   ],
   "source": [
    "fit2"
   ]
  },
  {
   "cell_type": "code",
   "execution_count": 39,
   "metadata": {
    "collapsed": true
   },
   "outputs": [],
   "source": [
    "samples=fit2.extract()"
   ]
  },
  {
   "cell_type": "code",
   "execution_count": 42,
   "metadata": {},
   "outputs": [
    {
     "data": {
      "text/plain": [
       "(array([  13.,   36.,  121.,  302.,  449.,  490.,  362.,  151.,   66.,   10.]),\n",
       " array([-12.2758251 , -12.26693632, -12.25804754, -12.24915876,\n",
       "        -12.24026997, -12.23138119, -12.22249241, -12.21360363,\n",
       "        -12.20471485, -12.19582607, -12.18693729]),\n",
       " <a list of 10 Patch objects>)"
      ]
     },
     "execution_count": 42,
     "metadata": {},
     "output_type": "execute_result"
    },
    {
     "data": {
      "image/png": "[encoded data removed]",
      "text/plain": [
       "<matplotlib.figure.Figure at 0x11ba5a710>"
      ]
     },
     "metadata": {},
     "output_type": "display_data"
    }
   ],
   "source": [
    "plt.hist(samples['y_predict'])"
   ]
  },
  {
   "cell_type": "code",
   "execution_count": null,
   "metadata": {
    "collapsed": true
   },
   "outputs": [],
   "source": [
    "code=\"\"\"\n",
    "functions {\n",
    "  vector gp_pred_lpdf(real[] x2,\n",
    "                     vector y1, real[] x1,\n",
    "                     real alpha, real rho, real sigma, real delta,vector src_f) {\n",
    "    int N1 = rows(y1);\n",
    "    int N2 = size(x2);\n",
    "    vector[N2] f2;\n",
    "    {\n",
    "      matrix[N1, N1] K =   cov_exp_quad(x1, alpha, rho)\n",
    "                         + diag_matrix(rep_vector(square(sigma), N1));\n",
    "      matrix[N1, N1] L_K = cholesky_decompose(K);\n",
    "\n",
    "      vector[N1] L_K_div_y1 = mdivide_left_tri_low(L_K, y1);\n",
    "      vector[N1] K_div_y1 = mdivide_right_tri_low(L_K_div_y1', L_K)';\n",
    "      matrix[N1, N2] k_x1_x2 = cov_exp_quad(x1, x2, alpha, rho);\n",
    "      vector[N2] f2_mu = (k_x1_x2' * K_div_y1);\n",
    "      matrix[N1, N2] v_pred = mdivide_left_tri_low(L_K, k_x1_x2);\n",
    "      matrix[N2, N2] cov_f2 =   cov_exp_quad(x2, alpha, rho) - v_pred' * v_pred\n",
    "                              + diag_matrix(rep_vector(delta, N2));\n",
    "      multi_normal_lpdf(f2_mu, cov_f2);\n",
    "    }\n",
    "    return multi_normal_lpdf(src_f|f2_mu,cov_f2);\n",
    "  }\n",
    "}\n",
    "\n",
    "data {\n",
    "  int<lower=1> N;\n",
    "  real x[N];\n",
    "  vector[N] y;\n",
    "\n",
    "  int<lower=1> N_predict;\n",
    "  real x_predict[N_predict];\n",
    "\n",
    "  real<lower=0> rho;\n",
    "  real<lower=0> alpha;\n",
    "  real<lower=0> sigma;\n",
    "}\n",
    "\n",
    "transformed data {\n",
    "  matrix[N, N] cov =   cov_exp_quad(x, alpha, rho)\n",
    "                     + diag_matrix(rep_vector(1e-10, N));\n",
    "  matrix[N, N] L_cov = cholesky_decompose(cov);\n",
    "}\n",
    "\n",
    "parameters {}\n",
    "model {}\n",
    "\n",
    "generated quantities {\n",
    "  vector[N_predict] f_predict = gp_pred_rng(x_predict, y, x, alpha, rho, sigma, 1e-10);\n",
    "  vector[N_predict] y_predict;\n",
    "\n",
    "  for (n in 1:N_predict)\n",
    "    y_predict[n] = normal_rng(f_predict[n], sigma);\n",
    "}\"\"\""
   ]
  }
 ],
 "metadata": {
  "kernelspec": {
   "display_name": "Python [conda env:new]",
   "language": "python",
   "name": "conda-env-new-py"
  },
  "language_info": {
   "codemirror_mode": {
    "name": "ipython",
    "version": 3
   },
   "file_extension": ".py",
   "mimetype": "text/x-python",
   "name": "python",
   "nbconvert_exporter": "python",
   "pygments_lexer": "ipython3",
   "version": "3.6.0"
  }
 },
 "nbformat": 4,
 "nbformat_minor": 2
}
