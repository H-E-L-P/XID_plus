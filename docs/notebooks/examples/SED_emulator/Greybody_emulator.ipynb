{
 "cells": [
  {
   "cell_type": "code",
   "execution_count": 1,
   "metadata": {},
   "outputs": [
    {
     "name": "stderr",
     "output_type": "stream",
     "text": [
      "/Users/pdh21/anaconda3/envs/xidplus/lib/python3.6/site-packages/jax/lib/xla_bridge.py:130: UserWarning: No GPU/TPU found, falling back to CPU.\n",
      "  warnings.warn('No GPU/TPU found, falling back to CPU.')\n"
     ]
    }
   ],
   "source": [
    "import fitIR\n",
    "import fitIR.models as models\n",
    "import fitIR.analyse as analyse\n",
    "from astropy.cosmology import WMAP9 as cosmo\n",
    "import jax\n",
    "import numpy as np\n",
    "import pylab as plt\n",
    "import astropy.units as u\n",
    "import scipy.integrate as integrate\n",
    "%matplotlib inline\n",
    "\n",
    "import jax.numpy as jnp\n",
    "from jax import grad, jit, vmap, value_and_grad\n",
    "from jax import random\n",
    "\n",
    "# Generate key which is used to generate random numbers\n",
    "key = random.PRNGKey(1)"
   ]
  },
  {
   "cell_type": "code",
   "execution_count": 2,
   "metadata": {},
   "outputs": [],
   "source": [
    "from jax.experimental import stax"
   ]
  },
  {
   "cell_type": "markdown",
   "metadata": {},
   "source": [
    "## Make training set by randomly sampling parameter space"
   ]
  },
  {
   "cell_type": "code",
   "execution_count": 3,
   "metadata": {},
   "outputs": [],
   "source": [
    "totlir = np.arange(8,15,0.6)\n",
    "redshift = np.arange(0.01,5.01,0.5)\n",
    "temperature = np.arange(10,70,10)"
   ]
  },
  {
   "cell_type": "code",
   "execution_count": 4,
   "metadata": {},
   "outputs": [],
   "source": [
    "def generate_samples(size=100):\n",
    "    #get parameter values from uniform distribution\n",
    "    LIR=np.random.uniform(low=8,high=15,size=size)\n",
    "    redshift=np.random.uniform(low=0.01,high=6,size=size)\n",
    "    temperature=np.random.uniform(low=10,high=70,size=size)\n",
    "    #get standard deviation and mean for uniform dist\n",
    "    LIR_sd=(15-8)/np.sqrt(12)\n",
    "    LIR_mean=0.5*(15+8)\n",
    "    \n",
    "    red_sd=(6-0.01)/np.sqrt(12)\n",
    "    red_mean=0.5*(0.01+6)\n",
    "    \n",
    "    temp_sd=(70-10)/np.sqrt(12)\n",
    "    temp_mean=0.5*(70+10)\n",
    "    return np.vstack((LIR,redshift,temperature)).T,np.vstack(((LIR-LIR_mean)/LIR_sd,(redshift-red_mean)/red_sd,(temperature-temp_mean)/temp_sd)).T"
   ]
  },
  {
   "cell_type": "code",
   "execution_count": 5,
   "metadata": {},
   "outputs": [],
   "source": [
    "samp,samp_stand=generate_samples(1000)"
   ]
  },
  {
   "cell_type": "code",
   "execution_count": 6,
   "metadata": {},
   "outputs": [
    {
     "data": {
      "text/plain": [
       "(1000, 3)"
      ]
     },
     "execution_count": 6,
     "metadata": {},
     "output_type": "execute_result"
    }
   ],
   "source": [
    "samp.shape"
   ]
  },
  {
   "cell_type": "code",
   "execution_count": 7,
   "metadata": {},
   "outputs": [
    {
     "name": "stderr",
     "output_type": "stream",
     "text": [
      "/Users/pdh21/anaconda3/envs/xidplus/lib/python3.6/site-packages/dask/config.py:168: YAMLLoadWarning: calling yaml.load() without Loader=... is deprecated, as the default Loader is unsafe. Please read https://msg.pyyaml.org/load for full details.\n",
      "  data = yaml.load(f.read()) or {}\n",
      "WARNING: AstropyDeprecationWarning: block_reduce was moved to the astropy.nddata.blocks module.  Please update your import statement. [astropy.nddata.utils]\n",
      "WARNING: Logging before flag parsing goes to stderr.\n",
      "W0104 11:48:46.144933 4605595072 logger.py:204] AstropyDeprecationWarning: block_reduce was moved to the astropy.nddata.blocks module.  Please update your import statement.\n"
     ]
    }
   ],
   "source": [
    "import xidplus\n",
    "from xidplus import filters\n",
    "filter_=filters.FilterFile(file=xidplus.__path__[0]+'/../test_files/filters.res')"
   ]
  },
  {
   "cell_type": "code",
   "execution_count": 8,
   "metadata": {},
   "outputs": [],
   "source": [
    "SPIRE_250=filter_.filters[215]\n",
    "SPIRE_350=filter_.filters[216]\n",
    "SPIRE_500=filter_.filters[217]\n",
    "MIPS_24=filter_.filters[201]\n",
    "PACS_100=filter_.filters[250]\n",
    "PACS_160=filter_.filters[251]\n",
    "\n",
    "bands=[SPIRE_250,SPIRE_350,SPIRE_500,MIPS_24,PACS_100,PACS_160]\n",
    "eff_lam=[250.0,350.0,500.0,24.0, 100.0,160.0]"
   ]
  },
  {
   "cell_type": "code",
   "execution_count": 9,
   "metadata": {},
   "outputs": [],
   "source": [
    "from scipy.interpolate import interp1d\n",
    "\n",
    "def get_fluxes(samples):\n",
    "    measured=np.empty_like(samples)\n",
    "    val = np.linspace(np.log10(3E8/8E-6),np.log10(3E8/1E-3),1000)\n",
    "    val = 10**val\n",
    "    for i,s in enumerate(samples):\n",
    "        z=s[1]\n",
    "        prior = {}\n",
    "        prior['z'] = s[1]\n",
    "        prior['log10LIR'] = s[0]\n",
    "        prior['T'] = s[2]\n",
    "        prior['emissivity'] = 1.5\n",
    "\n",
    "\n",
    "\n",
    "        source = models.greybody(prior)\n",
    "\n",
    "        nu,lnu = source.generate_greybody(val,z)\n",
    "        wave = 3E8/nu*1E6\n",
    "        sed=interp1d(wave,lnu)\n",
    "        dist = cosmo.luminosity_distance(z).to(u.cm).value\n",
    "\n",
    "        for b in range(0,3):\n",
    "            measured[i,b]=(1.0+z)*filters.fnu_filt(sed(bands[b].wavelength/1E4),\n",
    "                                     3E8/(bands[b].wavelength/1E10),\n",
    "                                     bands[b].transmission,\n",
    "                                     3E8/(eff_lam[b]*1E-6),\n",
    "                                     sed(eff_lam[b]))/(4*np.pi*dist**2)\n",
    "    return measured/10**(-26)"
   ]
  },
  {
   "cell_type": "code",
   "execution_count": 10,
   "metadata": {},
   "outputs": [],
   "source": [
    "measured=get_fluxes(samp)"
   ]
  },
  {
   "cell_type": "markdown",
   "metadata": {},
   "source": [
    "## Use stax to create neural net"
   ]
  },
  {
   "cell_type": "code",
   "execution_count": 221,
   "metadata": {},
   "outputs": [],
   "source": [
    "from jax.experimental import stax\n",
    "from jax.experimental.stax import (BatchNorm, Conv, Dense, Flatten,\n",
    "                                   Relu, LogSoftmax,LeakyRelu)\n",
    "import time\n"
   ]
  },
  {
   "cell_type": "code",
   "execution_count": 63,
   "metadata": {},
   "outputs": [],
   "source": [
    "batch_size=100\n",
    "num_inputs=3\n",
    "num_bands=3\n",
    "#stax provides an intialising function and a function for doing a forward pass\n",
    "init_fun,sed_emu = stax.serial(Dense(num_inputs),Relu,\n",
    "                               Dense(20),Relu,\n",
    "                              Dense(num_bands))\n"
   ]
  },
  {
   "cell_type": "code",
   "execution_count": 64,
   "metadata": {},
   "outputs": [],
   "source": [
    "#function to get initial parameters of neural net\n",
    "_, params = init_fun(key, (batch_size, num_inputs))"
   ]
  },
  {
   "cell_type": "code",
   "execution_count": 70,
   "metadata": {},
   "outputs": [],
   "source": [
    "import torch\n",
    "from torch.utils.data import Dataset, DataLoader"
   ]
  },
  {
   "cell_type": "code",
   "execution_count": null,
   "metadata": {},
   "outputs": [],
   "source": []
  },
  {
   "cell_type": "code",
   "execution_count": 71,
   "metadata": {},
   "outputs": [],
   "source": [
    "## class for sed using the torch dataset class\n",
    "class sed_data(Dataset):\n",
    "    \n",
    "    def __init__(self,params,fluxes):\n",
    "        self.X=params\n",
    "        self.y=fluxes\n",
    "    def __len__(self):\n",
    "        return len(self.X)\n",
    "    def __getitem__(self,idx):\n",
    "        return self.X[idx],self.y[idx]"
   ]
  },
  {
   "cell_type": "code",
   "execution_count": 72,
   "metadata": {},
   "outputs": [],
   "source": [
    "## generate random SED samples\n",
    "samp_train,samp_stand_train=generate_samples(2000)\n",
    "## Use Steve's code and xidplus filters to get fluxes\n",
    "measured_train=get_fluxes(samp_train)\n",
    "## use data in SED dataclass\n",
    "ds = sed_data(samp_stand_train,measured_train)\n",
    "## use torch DataLoader\n",
    "train_loader = DataLoader(ds, batch_size=batch_size,)\n",
    "## do same but for test set\n",
    "samp_test,samp_stand_test=generate_samples(500)\n",
    "measured_test=get_fluxes(samp_test)\n",
    "\n",
    "ds = sed_data(samp_stand_test,measured_test)\n",
    "test_loader = DataLoader(ds, batch_size=batch_size)"
   ]
  },
  {
   "cell_type": "markdown",
   "metadata": {},
   "source": [
    "the update function computes teh gradient of the loss with respect to the parameters for a batch. We use predefined optimisers and choose Adan to be our optmisier"
   ]
  },
  {
   "cell_type": "code",
   "execution_count": 77,
   "metadata": {},
   "outputs": [],
   "source": [
    "from jax.experimental import optimizers\n",
    "\n",
    "@jit\n",
    "def update(params, x, y, opt_state):\n",
    "    \"\"\" Compute the gradient for a batch and update the parameters \"\"\"\n",
    "    value, grads = value_and_grad(loss)(params, x, y)\n",
    "    opt_state = opt_update(0, grads, opt_state)\n",
    "    return get_params(opt_state), opt_state, value\n",
    "\n",
    "\n"
   ]
  },
  {
   "cell_type": "code",
   "execution_count": 83,
   "metadata": {},
   "outputs": [],
   "source": [
    "def accuracy(params, data_loader):\n",
    "    \"\"\" Compute the accuracy for the SED emulator\"\"\"\n",
    "    acc_total = 0\n",
    "    for batch_idx, (data, target) in enumerate(data_loader):\n",
    "        x=jnp.asarray(data)\n",
    "        predicted_flux=sed_emu(params, x)\n",
    "        acc_total += jnp.sum((predicted_flux - jnp.asarray(target))**2)\n",
    "    return acc_total/len(data_loader.dataset)\n",
    "\n",
    "def loss(params, images, targets):\n",
    "    preds = sed_emu(params, jnp.asarray(images))\n",
    "    return jnp.sqrt(jnp.mean((jnp.asarray(targets) - preds)**2))"
   ]
  },
  {
   "cell_type": "code",
   "execution_count": 86,
   "metadata": {},
   "outputs": [],
   "source": [
    "def run_greybody_training_loop(num_epochs, opt_state):\n",
    "    \"\"\" Implements a learning loop over epochs. \"\"\"\n",
    "    # Initialize placeholder for loggin\n",
    "    log_acc_train, log_acc_test, train_loss = [], [], []\n",
    "\n",
    "    # Get the initial set of parameters\n",
    "    params = get_params(opt_state)\n",
    "\n",
    "    # Get initial accuracy after random init\n",
    "    train_acc = accuracy(params, train_loader)\n",
    "    test_acc = accuracy(params, test_loader)\n",
    "    log_acc_train.append(train_acc)\n",
    "    log_acc_test.append(test_acc)\n",
    "\n",
    "    # Loop over the training epochs\n",
    "    for epoch in range(num_epochs):\n",
    "        start_time = time.time()\n",
    "        for batch_idx, (data, target) in enumerate(train_loader):\n",
    "            x=jnp.asarray(data)\n",
    "            y=jnp.asarray(target)\n",
    "            params, opt_state, loss = update(params, x, y, opt_state)\n",
    "            train_loss.append(loss)\n",
    "\n",
    "        epoch_time = time.time() - start_time\n",
    "        print(len(params))\n",
    "        train_acc = accuracy(params, train_loader)\n",
    "        test_acc = accuracy(params, test_loader)\n",
    "        log_acc_train.append(train_acc)\n",
    "        log_acc_test.append(test_acc)\n",
    "        print(\"Epoch {} | T: {:0.2f} | Train A: {:0.3f} | Test A: {:0.3f}\".format(epoch+1, epoch_time,\n",
    "                                                                    train_acc, test_acc,))\n",
    "\n",
    "    return train_loss, log_acc_train, log_acc_test"
   ]
  },
  {
   "cell_type": "code",
   "execution_count": 89,
   "metadata": {},
   "outputs": [
    {
     "name": "stdout",
     "output_type": "stream",
     "text": [
      "5\n",
      "Epoch 1 | T: 0.08 | Train A: 1612982910976.000 | Test A: 202752896.000\n",
      "5\n",
      "Epoch 2 | T: 0.08 | Train A: 1612982910976.000 | Test A: 202753440.000\n",
      "5\n",
      "Epoch 3 | T: 0.07 | Train A: 1612982910976.000 | Test A: 202753904.000\n",
      "5\n",
      "Epoch 4 | T: 0.08 | Train A: 1612982910976.000 | Test A: 202754352.000\n",
      "5\n",
      "Epoch 5 | T: 0.08 | Train A: 1612982910976.000 | Test A: 202754864.000\n",
      "5\n",
      "Epoch 6 | T: 0.07 | Train A: 1612982910976.000 | Test A: 202755440.000\n",
      "5\n",
      "Epoch 7 | T: 0.08 | Train A: 1612982910976.000 | Test A: 202756128.000\n",
      "5\n",
      "Epoch 8 | T: 0.07 | Train A: 1612983042048.000 | Test A: 202756848.000\n",
      "5\n",
      "Epoch 9 | T: 0.06 | Train A: 1612983042048.000 | Test A: 202757568.000\n",
      "5\n",
      "Epoch 10 | T: 0.07 | Train A: 1612983042048.000 | Test A: 202758224.000\n",
      "5\n",
      "Epoch 11 | T: 0.07 | Train A: 1612983042048.000 | Test A: 202758912.000\n",
      "5\n",
      "Epoch 12 | T: 0.06 | Train A: 1612983042048.000 | Test A: 202759600.000\n",
      "5\n",
      "Epoch 13 | T: 0.07 | Train A: 1612983042048.000 | Test A: 202760272.000\n",
      "5\n",
      "Epoch 14 | T: 0.08 | Train A: 1612983042048.000 | Test A: 202760960.000\n",
      "5\n",
      "Epoch 15 | T: 0.07 | Train A: 1612983042048.000 | Test A: 202761712.000\n",
      "5\n",
      "Epoch 16 | T: 0.10 | Train A: 1612983304192.000 | Test A: 202762480.000\n",
      "5\n",
      "Epoch 17 | T: 0.06 | Train A: 1612983304192.000 | Test A: 202763232.000\n",
      "5\n",
      "Epoch 18 | T: 0.06 | Train A: 1612983304192.000 | Test A: 202764016.000\n",
      "5\n",
      "Epoch 19 | T: 0.06 | Train A: 1612983304192.000 | Test A: 202764816.000\n",
      "5\n",
      "Epoch 20 | T: 0.09 | Train A: 1612983304192.000 | Test A: 202765600.000\n"
     ]
    }
   ],
   "source": [
    "step_size = 1e-5\n",
    "opt_init, opt_update, get_params = optimizers.adam(step_size)\n",
    "opt_state = opt_init(params)\n",
    "num_epochs = 20\n",
    "\n",
    "train_loss, train_log, test_log = run_greybody_training_loop(num_epochs,\n",
    "                                                          opt_state)\n"
   ]
  },
  {
   "cell_type": "code",
   "execution_count": 90,
   "metadata": {},
   "outputs": [
    {
     "data": {
      "text/plain": [
       "[<matplotlib.lines.Line2D at 0x7f8149a10978>]"
      ]
     },
     "execution_count": 90,
     "metadata": {},
     "output_type": "execute_result"
    },
    {
     "data": {
      "image/png": "[encoded data removed]",
      "text/plain": [
       "<Figure size 432x288 with 1 Axes>"
      ]
     },
     "metadata": {
      "needs_background": "light"
     },
     "output_type": "display_data"
    }
   ],
   "source": [
    "plt.plot(train_log)"
   ]
  },
  {
   "cell_type": "markdown",
   "metadata": {},
   "source": [
    "## try simplifying"
   ]
  },
  {
   "cell_type": "code",
   "execution_count": 568,
   "metadata": {},
   "outputs": [
    {
     "ename": "KeyboardInterrupt",
     "evalue": "",
     "output_type": "error",
     "traceback": [
      "\u001b[0;31m---------------------------------------------------------------------------\u001b[0m",
      "\u001b[0;31mKeyboardInterrupt\u001b[0m                         Traceback (most recent call last)",
      "\u001b[0;32m<ipython-input-568-393ad2f19ff4>\u001b[0m in \u001b[0;36m<module>\u001b[0;34m\u001b[0m\n\u001b[1;32m     47\u001b[0m \u001b[0;32mfor\u001b[0m \u001b[0mi\u001b[0m \u001b[0;32min\u001b[0m \u001b[0mrange\u001b[0m\u001b[0;34m(\u001b[0m\u001b[0;36m50000\u001b[0m\u001b[0;34m)\u001b[0m\u001b[0;34m:\u001b[0m\u001b[0;34m\u001b[0m\u001b[0m\n\u001b[1;32m     48\u001b[0m     \u001b[0;31m# Train step\u001b[0m\u001b[0;34m\u001b[0m\u001b[0;34m\u001b[0m\u001b[0m\n\u001b[0;32m---> 49\u001b[0;31m     \u001b[0mopt_state\u001b[0m\u001b[0;34m,\u001b[0m\u001b[0mloss_iter\u001b[0m\u001b[0;34m,\u001b[0m\u001b[0mloss_test_iter\u001b[0m \u001b[0;34m=\u001b[0m \u001b[0mstep\u001b[0m\u001b[0;34m(\u001b[0m\u001b[0mi\u001b[0m\u001b[0;34m,\u001b[0m \u001b[0mopt_state\u001b[0m\u001b[0;34m)\u001b[0m\u001b[0;34m\u001b[0m\u001b[0m\n\u001b[0m\u001b[1;32m     50\u001b[0m     \u001b[0mall_loss\u001b[0m\u001b[0;34m.\u001b[0m\u001b[0mappend\u001b[0m\u001b[0;34m(\u001b[0m\u001b[0mloss_iter\u001b[0m\u001b[0;34m)\u001b[0m\u001b[0;34m\u001b[0m\u001b[0m\n\u001b[1;32m     51\u001b[0m     \u001b[0mall_loss_test\u001b[0m\u001b[0;34m.\u001b[0m\u001b[0mappend\u001b[0m\u001b[0;34m(\u001b[0m\u001b[0mloss_test_iter\u001b[0m\u001b[0;34m)\u001b[0m\u001b[0;34m\u001b[0m\u001b[0m\n",
      "\u001b[0;32m~/anaconda3/envs/xidplus/lib/python3.6/site-packages/jax/api.py\u001b[0m in \u001b[0;36mf_jitted\u001b[0;34m(*args, **kwargs)\u001b[0m\n\u001b[1;32m    215\u001b[0m         \u001b[0mbackend\u001b[0m\u001b[0;34m=\u001b[0m\u001b[0mbackend\u001b[0m\u001b[0;34m,\u001b[0m\u001b[0;34m\u001b[0m\u001b[0m\n\u001b[1;32m    216\u001b[0m         \u001b[0mname\u001b[0m\u001b[0;34m=\u001b[0m\u001b[0mflat_fun\u001b[0m\u001b[0;34m.\u001b[0m\u001b[0m__name__\u001b[0m\u001b[0;34m,\u001b[0m\u001b[0;34m\u001b[0m\u001b[0m\n\u001b[0;32m--> 217\u001b[0;31m         donated_invars=donated_invars)\n\u001b[0m\u001b[1;32m    218\u001b[0m     \u001b[0;32mreturn\u001b[0m \u001b[0mtree_unflatten\u001b[0m\u001b[0;34m(\u001b[0m\u001b[0mout_tree\u001b[0m\u001b[0;34m(\u001b[0m\u001b[0;34m)\u001b[0m\u001b[0;34m,\u001b[0m \u001b[0mout\u001b[0m\u001b[0;34m)\u001b[0m\u001b[0;34m\u001b[0m\u001b[0m\n\u001b[1;32m    219\u001b[0m \u001b[0;34m\u001b[0m\u001b[0m\n",
      "\u001b[0;32m~/anaconda3/envs/xidplus/lib/python3.6/site-packages/jax/core.py\u001b[0m in \u001b[0;36mbind\u001b[0;34m(self, fun, *args, **params)\u001b[0m\n\u001b[1;32m   1160\u001b[0m \u001b[0;34m\u001b[0m\u001b[0m\n\u001b[1;32m   1161\u001b[0m   \u001b[0;32mdef\u001b[0m \u001b[0mbind\u001b[0m\u001b[0;34m(\u001b[0m\u001b[0mself\u001b[0m\u001b[0;34m,\u001b[0m \u001b[0mfun\u001b[0m\u001b[0;34m,\u001b[0m \u001b[0;34m*\u001b[0m\u001b[0margs\u001b[0m\u001b[0;34m,\u001b[0m \u001b[0;34m**\u001b[0m\u001b[0mparams\u001b[0m\u001b[0;34m)\u001b[0m\u001b[0;34m:\u001b[0m\u001b[0;34m\u001b[0m\u001b[0m\n\u001b[0;32m-> 1162\u001b[0;31m     \u001b[0;32mreturn\u001b[0m \u001b[0mcall_bind\u001b[0m\u001b[0;34m(\u001b[0m\u001b[0mself\u001b[0m\u001b[0;34m,\u001b[0m \u001b[0mfun\u001b[0m\u001b[0;34m,\u001b[0m \u001b[0;34m*\u001b[0m\u001b[0margs\u001b[0m\u001b[0;34m,\u001b[0m \u001b[0;34m**\u001b[0m\u001b[0mparams\u001b[0m\u001b[0;34m)\u001b[0m\u001b[0;34m\u001b[0m\u001b[0m\n\u001b[0m\u001b[1;32m   1163\u001b[0m \u001b[0;34m\u001b[0m\u001b[0m\n\u001b[1;32m   1164\u001b[0m   \u001b[0;32mdef\u001b[0m \u001b[0mprocess\u001b[0m\u001b[0;34m(\u001b[0m\u001b[0mself\u001b[0m\u001b[0;34m,\u001b[0m \u001b[0mtrace\u001b[0m\u001b[0;34m,\u001b[0m \u001b[0mfun\u001b[0m\u001b[0;34m,\u001b[0m \u001b[0mtracers\u001b[0m\u001b[0;34m,\u001b[0m \u001b[0mparams\u001b[0m\u001b[0;34m)\u001b[0m\u001b[0;34m:\u001b[0m\u001b[0;34m\u001b[0m\u001b[0m\n",
      "\u001b[0;32m~/anaconda3/envs/xidplus/lib/python3.6/site-packages/jax/core.py\u001b[0m in \u001b[0;36mcall_bind\u001b[0;34m(primitive, fun, *args, **params)\u001b[0m\n\u001b[1;32m   1151\u001b[0m   \u001b[0mtracers\u001b[0m \u001b[0;34m=\u001b[0m \u001b[0mmap\u001b[0m\u001b[0;34m(\u001b[0m\u001b[0mtop_trace\u001b[0m\u001b[0;34m.\u001b[0m\u001b[0mfull_raise\u001b[0m\u001b[0;34m,\u001b[0m \u001b[0margs\u001b[0m\u001b[0;34m)\u001b[0m\u001b[0;34m\u001b[0m\u001b[0m\n\u001b[1;32m   1152\u001b[0m   \u001b[0;32mwith\u001b[0m \u001b[0mmaybe_new_sublevel\u001b[0m\u001b[0;34m(\u001b[0m\u001b[0mtop_trace\u001b[0m\u001b[0;34m)\u001b[0m\u001b[0;34m:\u001b[0m\u001b[0;34m\u001b[0m\u001b[0m\n\u001b[0;32m-> 1153\u001b[0;31m     \u001b[0mouts\u001b[0m \u001b[0;34m=\u001b[0m \u001b[0mprimitive\u001b[0m\u001b[0;34m.\u001b[0m\u001b[0mprocess\u001b[0m\u001b[0;34m(\u001b[0m\u001b[0mtop_trace\u001b[0m\u001b[0;34m,\u001b[0m \u001b[0mfun\u001b[0m\u001b[0;34m,\u001b[0m \u001b[0mtracers\u001b[0m\u001b[0;34m,\u001b[0m \u001b[0mparams\u001b[0m\u001b[0;34m)\u001b[0m\u001b[0;34m\u001b[0m\u001b[0m\n\u001b[0m\u001b[1;32m   1154\u001b[0m   \u001b[0;32mreturn\u001b[0m \u001b[0mmap\u001b[0m\u001b[0;34m(\u001b[0m\u001b[0mfull_lower\u001b[0m\u001b[0;34m,\u001b[0m \u001b[0mapply_todos\u001b[0m\u001b[0;34m(\u001b[0m\u001b[0menv_trace_todo\u001b[0m\u001b[0;34m(\u001b[0m\u001b[0;34m)\u001b[0m\u001b[0;34m,\u001b[0m \u001b[0mouts\u001b[0m\u001b[0;34m)\u001b[0m\u001b[0;34m)\u001b[0m\u001b[0;34m\u001b[0m\u001b[0m\n\u001b[1;32m   1155\u001b[0m \u001b[0;34m\u001b[0m\u001b[0m\n",
      "\u001b[0;32m~/anaconda3/envs/xidplus/lib/python3.6/site-packages/jax/core.py\u001b[0m in \u001b[0;36mprocess\u001b[0;34m(self, trace, fun, tracers, params)\u001b[0m\n\u001b[1;32m   1163\u001b[0m \u001b[0;34m\u001b[0m\u001b[0m\n\u001b[1;32m   1164\u001b[0m   \u001b[0;32mdef\u001b[0m \u001b[0mprocess\u001b[0m\u001b[0;34m(\u001b[0m\u001b[0mself\u001b[0m\u001b[0;34m,\u001b[0m \u001b[0mtrace\u001b[0m\u001b[0;34m,\u001b[0m \u001b[0mfun\u001b[0m\u001b[0;34m,\u001b[0m \u001b[0mtracers\u001b[0m\u001b[0;34m,\u001b[0m \u001b[0mparams\u001b[0m\u001b[0;34m)\u001b[0m\u001b[0;34m:\u001b[0m\u001b[0;34m\u001b[0m\u001b[0m\n\u001b[0;32m-> 1165\u001b[0;31m     \u001b[0;32mreturn\u001b[0m \u001b[0mtrace\u001b[0m\u001b[0;34m.\u001b[0m\u001b[0mprocess_call\u001b[0m\u001b[0;34m(\u001b[0m\u001b[0mself\u001b[0m\u001b[0;34m,\u001b[0m \u001b[0mfun\u001b[0m\u001b[0;34m,\u001b[0m \u001b[0mtracers\u001b[0m\u001b[0;34m,\u001b[0m \u001b[0mparams\u001b[0m\u001b[0;34m)\u001b[0m\u001b[0;34m\u001b[0m\u001b[0m\n\u001b[0m\u001b[1;32m   1166\u001b[0m \u001b[0;34m\u001b[0m\u001b[0m\n\u001b[1;32m   1167\u001b[0m   \u001b[0;32mdef\u001b[0m \u001b[0mpost_process\u001b[0m\u001b[0;34m(\u001b[0m\u001b[0mself\u001b[0m\u001b[0;34m,\u001b[0m \u001b[0mtrace\u001b[0m\u001b[0;34m,\u001b[0m \u001b[0mout_tracers\u001b[0m\u001b[0;34m,\u001b[0m \u001b[0mparams\u001b[0m\u001b[0;34m)\u001b[0m\u001b[0;34m:\u001b[0m\u001b[0;34m\u001b[0m\u001b[0m\n",
      "\u001b[0;32m~/anaconda3/envs/xidplus/lib/python3.6/site-packages/jax/core.py\u001b[0m in \u001b[0;36mprocess_call\u001b[0;34m(self, primitive, f, tracers, params)\u001b[0m\n\u001b[1;32m    573\u001b[0m \u001b[0;34m\u001b[0m\u001b[0m\n\u001b[1;32m    574\u001b[0m   \u001b[0;32mdef\u001b[0m \u001b[0mprocess_call\u001b[0m\u001b[0;34m(\u001b[0m\u001b[0mself\u001b[0m\u001b[0;34m,\u001b[0m \u001b[0mprimitive\u001b[0m\u001b[0;34m,\u001b[0m \u001b[0mf\u001b[0m\u001b[0;34m,\u001b[0m \u001b[0mtracers\u001b[0m\u001b[0;34m,\u001b[0m \u001b[0mparams\u001b[0m\u001b[0;34m)\u001b[0m\u001b[0;34m:\u001b[0m\u001b[0;34m\u001b[0m\u001b[0m\n\u001b[0;32m--> 575\u001b[0;31m     \u001b[0;32mreturn\u001b[0m \u001b[0mprimitive\u001b[0m\u001b[0;34m.\u001b[0m\u001b[0mimpl\u001b[0m\u001b[0;34m(\u001b[0m\u001b[0mf\u001b[0m\u001b[0;34m,\u001b[0m \u001b[0;34m*\u001b[0m\u001b[0mtracers\u001b[0m\u001b[0;34m,\u001b[0m \u001b[0;34m**\u001b[0m\u001b[0mparams\u001b[0m\u001b[0;34m)\u001b[0m\u001b[0;34m\u001b[0m\u001b[0m\n\u001b[0m\u001b[1;32m    576\u001b[0m   \u001b[0mprocess_map\u001b[0m \u001b[0;34m=\u001b[0m \u001b[0mprocess_call\u001b[0m\u001b[0;34m\u001b[0m\u001b[0m\n\u001b[1;32m    577\u001b[0m \u001b[0;34m\u001b[0m\u001b[0m\n",
      "\u001b[0;32m~/anaconda3/envs/xidplus/lib/python3.6/site-packages/jax/interpreters/xla.py\u001b[0m in \u001b[0;36m_xla_call_impl\u001b[0;34m(fun, device, backend, name, donated_invars, *args)\u001b[0m\n\u001b[1;32m    557\u001b[0m                                *unsafe_map(arg_spec, args))\n\u001b[1;32m    558\u001b[0m   \u001b[0;32mtry\u001b[0m\u001b[0;34m:\u001b[0m\u001b[0;34m\u001b[0m\u001b[0m\n\u001b[0;32m--> 559\u001b[0;31m     \u001b[0;32mreturn\u001b[0m \u001b[0mcompiled_fun\u001b[0m\u001b[0;34m(\u001b[0m\u001b[0;34m*\u001b[0m\u001b[0margs\u001b[0m\u001b[0;34m)\u001b[0m\u001b[0;34m\u001b[0m\u001b[0m\n\u001b[0m\u001b[1;32m    560\u001b[0m   \u001b[0;32mexcept\u001b[0m \u001b[0mFloatingPointError\u001b[0m\u001b[0;34m:\u001b[0m\u001b[0;34m\u001b[0m\u001b[0m\n\u001b[1;32m    561\u001b[0m     \u001b[0;32massert\u001b[0m \u001b[0mFLAGS\u001b[0m\u001b[0;34m.\u001b[0m\u001b[0mjax_debug_nans\u001b[0m  \u001b[0;31m# compiled_fun can only raise in this case\u001b[0m\u001b[0;34m\u001b[0m\u001b[0m\n",
      "\u001b[0;32m~/anaconda3/envs/xidplus/lib/python3.6/site-packages/jax/interpreters/xla.py\u001b[0m in \u001b[0;36m_execute_compiled\u001b[0;34m(compiled, avals, handlers, *args)\u001b[0m\n\u001b[1;32m    799\u001b[0m   \u001b[0mdevice\u001b[0m\u001b[0;34m,\u001b[0m \u001b[0;34m=\u001b[0m \u001b[0mcompiled\u001b[0m\u001b[0;34m.\u001b[0m\u001b[0mlocal_devices\u001b[0m\u001b[0;34m(\u001b[0m\u001b[0;34m)\u001b[0m\u001b[0;34m\u001b[0m\u001b[0m\n\u001b[1;32m    800\u001b[0m   \u001b[0minput_bufs\u001b[0m \u001b[0;34m=\u001b[0m \u001b[0mlist\u001b[0m\u001b[0;34m(\u001b[0m\u001b[0mit\u001b[0m\u001b[0;34m.\u001b[0m\u001b[0mchain\u001b[0m\u001b[0;34m.\u001b[0m\u001b[0mfrom_iterable\u001b[0m\u001b[0;34m(\u001b[0m\u001b[0mdevice_put\u001b[0m\u001b[0;34m(\u001b[0m\u001b[0mx\u001b[0m\u001b[0;34m,\u001b[0m \u001b[0mdevice\u001b[0m\u001b[0;34m)\u001b[0m \u001b[0;32mfor\u001b[0m \u001b[0mx\u001b[0m \u001b[0;32min\u001b[0m \u001b[0margs\u001b[0m \u001b[0;32mif\u001b[0m \u001b[0mx\u001b[0m \u001b[0;32mis\u001b[0m \u001b[0;32mnot\u001b[0m \u001b[0mtoken\u001b[0m\u001b[0;34m)\u001b[0m\u001b[0;34m)\u001b[0m\u001b[0;34m\u001b[0m\u001b[0m\n\u001b[0;32m--> 801\u001b[0;31m   \u001b[0mout_bufs\u001b[0m \u001b[0;34m=\u001b[0m \u001b[0mcompiled\u001b[0m\u001b[0;34m.\u001b[0m\u001b[0mexecute\u001b[0m\u001b[0;34m(\u001b[0m\u001b[0minput_bufs\u001b[0m\u001b[0;34m)\u001b[0m\u001b[0;34m\u001b[0m\u001b[0m\n\u001b[0m\u001b[1;32m    802\u001b[0m   \u001b[0;32mif\u001b[0m \u001b[0mFLAGS\u001b[0m\u001b[0;34m.\u001b[0m\u001b[0mjax_debug_nans\u001b[0m\u001b[0;34m:\u001b[0m \u001b[0mcheck_nans\u001b[0m\u001b[0;34m(\u001b[0m\u001b[0mxla_call_p\u001b[0m\u001b[0;34m,\u001b[0m \u001b[0mout_bufs\u001b[0m\u001b[0;34m)\u001b[0m\u001b[0;34m\u001b[0m\u001b[0m\n\u001b[1;32m    803\u001b[0m   \u001b[0;32mreturn\u001b[0m \u001b[0;34m[\u001b[0m\u001b[0mhandler\u001b[0m\u001b[0;34m(\u001b[0m\u001b[0;34m*\u001b[0m\u001b[0mbs\u001b[0m\u001b[0;34m)\u001b[0m \u001b[0;32mfor\u001b[0m \u001b[0mhandler\u001b[0m\u001b[0;34m,\u001b[0m \u001b[0mbs\u001b[0m \u001b[0;32min\u001b[0m \u001b[0mzip\u001b[0m\u001b[0;34m(\u001b[0m\u001b[0mhandlers\u001b[0m\u001b[0;34m,\u001b[0m \u001b[0m_partition_outputs\u001b[0m\u001b[0;34m(\u001b[0m\u001b[0mavals\u001b[0m\u001b[0;34m,\u001b[0m \u001b[0mout_bufs\u001b[0m\u001b[0;34m)\u001b[0m\u001b[0;34m)\u001b[0m\u001b[0;34m]\u001b[0m\u001b[0;34m\u001b[0m\u001b[0m\n",
      "\u001b[0;31mKeyboardInterrupt\u001b[0m: "
     ]
    }
   ],
   "source": [
    "\n",
    "samp_train,samp_stand_train=generate_samples(10000)\n",
    "measured_train=get_fluxes(samp_train)\n",
    "\n",
    "ds = sed_data(samp_stand_train,measured_train)\n",
    "\n",
    "train_loader = DataLoader(ds, batch_size=batch_size,)\n",
    "\n",
    "samp_test,samp_stand_test=generate_samples(500)\n",
    "measured_test=get_fluxes(samp_test)\n",
    "\n",
    "num_inputs=3\n",
    "num_bands=1\n",
    "init_fun,sed_emu = stax.serial(Dense(num_inputs),Relu,\n",
    "                              Dense(num_bands))\n",
    "# Initialise the network with four inputs\n",
    "out_shape, net_params = init_fun(key,(-1, 3))\n",
    "\n",
    "\n",
    "ytrain=jnp.asarray(measured_train[:,0])\n",
    "Xtrain=jnp.asarray(samp_stand_train)\n",
    "ytest=jnp.asarray(measured_test[:,0])\n",
    "Xtest=jnp.asarray(samp_stand_test)\n",
    "def loss(params):\n",
    "    predictions = sed_emu(params, Xtrain)\n",
    "    return jnp.mean((ytrain - predictions)**2)\n",
    "def loss_test(params):\n",
    "    predictions = sed_emu(params, Xtest)\n",
    "    return jnp.mean((ytest - predictions)**2)\n",
    "\n",
    "\n",
    "opt_init, opt_update, get_params = optimizers.adam(0.01)\n",
    "\n",
    "@jit\n",
    "def step(i, opt_state):\n",
    "    # Parameters for the optimisation algorithm\n",
    "    params = get_params(opt_state)\n",
    "    # Gradient of the loss function\n",
    "    g = grad(loss)(params)\n",
    "    # Update step\n",
    "    return opt_update(i, g, opt_state),loss(params),loss_test(params)\n",
    "# Optimiser initialisation\n",
    "opt_state = opt_init(net_params)\n",
    "\n",
    "all_loss=[]\n",
    "all_loss_test=[]\n",
    "for i in range(50000):\n",
    "    # Train step\n",
    "    opt_state,loss_iter,loss_test_iter = step(i, opt_state)\n",
    "    all_loss.append(loss_iter)\n",
    "    all_loss_test.append(loss_test_iter)\n",
    "\n",
    "# Final parameters after training\n",
    "net_params = get_params(opt_state)"
   ]
  },
  {
   "cell_type": "code",
   "execution_count": 569,
   "metadata": {},
   "outputs": [
    {
     "data": {
      "text/plain": [
       "DeviceArray([[ 1.15468442e+00],\n",
       "             [-9.58508172e-04],\n",
       "             [ 2.54261899e+00],\n",
       "             [ 3.60584527e-01],\n",
       "             [-9.58508172e-04],\n",
       "             [ 2.07726550e+00],\n",
       "             [ 9.92553949e-01],\n",
       "             [-9.58508172e-04],\n",
       "             [ 2.42397380e+00],\n",
       "             [ 2.25675121e-01],\n",
       "             [-9.58508172e-04],\n",
       "             [ 1.56079197e+00],\n",
       "             [-9.58508172e-04],\n",
       "             [ 2.42112923e+00],\n",
       "             [-4.59634215e-02],\n",
       "             [-2.07831711e-02],\n",
       "             [-3.63815483e-03],\n",
       "             [-4.87463474e-02],\n",
       "             [ 1.26780784e-02],\n",
       "             [ 2.65504003e+00],\n",
       "             [ 9.33449447e-01],\n",
       "             [ 3.37957054e-01],\n",
       "             [-9.58508172e-04],\n",
       "             [-9.58508172e-04],\n",
       "             [-9.58508172e-04],\n",
       "             [-9.58508172e-04],\n",
       "             [ 7.08476484e-01],\n",
       "             [-9.58508172e-04],\n",
       "             [ 6.70050085e-01],\n",
       "             [-9.58508172e-04],\n",
       "             [-9.58508172e-04],\n",
       "             [-9.58508172e-04],\n",
       "             [-9.58508172e-04],\n",
       "             [-9.58508172e-04],\n",
       "             [ 2.29025197e+00],\n",
       "             [ 2.45833492e+00],\n",
       "             [-9.58508172e-04],\n",
       "             [ 2.53023952e-01],\n",
       "             [ 3.36646605e+00],\n",
       "             [ 1.12742388e+00],\n",
       "             [-9.58508172e-04],\n",
       "             [-9.58508172e-04],\n",
       "             [-9.58508172e-04],\n",
       "             [-9.58508172e-04],\n",
       "             [-9.58508172e-04],\n",
       "             [ 7.37486780e-01],\n",
       "             [ 1.14556301e+00],\n",
       "             [-9.58508172e-04],\n",
       "             [ 2.45107889e+00],\n",
       "             [-8.30899831e-03],\n",
       "             [-9.58508172e-04],\n",
       "             [-9.58508172e-04],\n",
       "             [-9.58508172e-04],\n",
       "             [-9.58508172e-04],\n",
       "             [-9.58508172e-04],\n",
       "             [-9.58508172e-04],\n",
       "             [-9.58508172e-04],\n",
       "             [-9.58508172e-04],\n",
       "             [-9.58508172e-04],\n",
       "             [ 1.88620603e+00],\n",
       "             [-9.58508172e-04],\n",
       "             [-8.54014605e-02],\n",
       "             [ 1.26462663e-03],\n",
       "             [ 7.60492921e-01],\n",
       "             [-9.58508172e-04],\n",
       "             [-9.58508172e-04],\n",
       "             [ 2.11973637e-02],\n",
       "             [-9.58508172e-04],\n",
       "             [ 5.43062389e-01],\n",
       "             [-9.58508172e-04],\n",
       "             [-3.95501554e-02],\n",
       "             [-9.58508172e-04],\n",
       "             [ 5.96175730e-01],\n",
       "             [ 1.57901466e+00],\n",
       "             [ 3.13268751e-02],\n",
       "             [-9.58508172e-04],\n",
       "             [-4.78294715e-02],\n",
       "             [-9.58508172e-04],\n",
       "             [ 6.70954704e-01],\n",
       "             [ 2.45240355e+00],\n",
       "             [ 1.23606078e-01],\n",
       "             [ 3.76608753e+00],\n",
       "             [-9.58508172e-04],\n",
       "             [ 9.04388279e-02],\n",
       "             [-9.58508172e-04],\n",
       "             [ 9.68263298e-02],\n",
       "             [ 1.20879924e+00],\n",
       "             [-9.58508172e-04],\n",
       "             [ 3.99760783e-01],\n",
       "             [-9.58508172e-04],\n",
       "             [ 1.06341207e+00],\n",
       "             [-9.58508172e-04],\n",
       "             [ 1.59416497e+00],\n",
       "             [-9.58508172e-04],\n",
       "             [-9.58508172e-04],\n",
       "             [-9.58508172e-04],\n",
       "             [-9.58508172e-04],\n",
       "             [-9.58508172e-04],\n",
       "             [-9.58508172e-04],\n",
       "             [ 1.98000729e+00],\n",
       "             [-9.58508172e-04],\n",
       "             [-9.58508172e-04],\n",
       "             [-9.58508172e-04],\n",
       "             [ 3.10756564e-01],\n",
       "             [ 1.43007517e+00],\n",
       "             [ 3.09739560e-01],\n",
       "             [-9.58508172e-04],\n",
       "             [-9.58508172e-04],\n",
       "             [ 2.00219893e+00],\n",
       "             [ 4.44864899e-01],\n",
       "             [-9.58508172e-04],\n",
       "             [-2.23131012e-02],\n",
       "             [-9.58508172e-04],\n",
       "             [ 5.54561436e-01],\n",
       "             [ 3.48940992e+00],\n",
       "             [-9.58508172e-04],\n",
       "             [ 8.38076234e-01],\n",
       "             [ 2.51870096e-01],\n",
       "             [ 1.22517738e-02],\n",
       "             [ 1.65864229e+00],\n",
       "             [-9.58508172e-04],\n",
       "             [ 3.26522887e-01],\n",
       "             [-9.58508172e-04],\n",
       "             [ 2.00894713e+00],\n",
       "             [ 1.69056046e+00],\n",
       "             [ 2.11957169e+00],\n",
       "             [ 4.13133651e-02],\n",
       "             [ 2.30553699e+00],\n",
       "             [ 4.39177006e-01],\n",
       "             [ 9.29203212e-01],\n",
       "             [-7.32375905e-02],\n",
       "             [ 1.95634222e+00],\n",
       "             [ 9.30451453e-02],\n",
       "             [ 2.66024208e+00],\n",
       "             [ 1.20262635e+00],\n",
       "             [ 6.85943246e-01],\n",
       "             [-9.58508172e-04],\n",
       "             [ 2.04046631e+00],\n",
       "             [-9.58508172e-04],\n",
       "             [-9.58508172e-04],\n",
       "             [-9.58508172e-04],\n",
       "             [ 4.22765702e-01],\n",
       "             [-9.58508172e-04],\n",
       "             [ 1.16487467e+00],\n",
       "             [-9.58508172e-04],\n",
       "             [ 1.86354935e+00],\n",
       "             [-9.58508172e-04],\n",
       "             [-9.58508172e-04],\n",
       "             [ 2.06652239e-01],\n",
       "             [ 2.36769032e+00],\n",
       "             [-3.49428840e-02],\n",
       "             [ 1.80661845e+00],\n",
       "             [ 2.92194390e+00],\n",
       "             [-9.58508172e-04],\n",
       "             [-9.58508172e-04],\n",
       "             [ 8.83281305e-02],\n",
       "             [ 1.00651944e+00],\n",
       "             [ 1.32672429e+00],\n",
       "             [-9.58508172e-04],\n",
       "             [-9.58508172e-04],\n",
       "             [ 1.23403108e+00],\n",
       "             [-9.58508172e-04],\n",
       "             [ 2.55370712e+00],\n",
       "             [ 1.57427931e+00],\n",
       "             [-9.58508172e-04],\n",
       "             [ 2.74964261e+00],\n",
       "             [-9.58508172e-04],\n",
       "             [ 2.01618028e+00],\n",
       "             [ 2.12437820e+00],\n",
       "             [-9.58508172e-04],\n",
       "             [ 1.35899627e+00],\n",
       "             [-9.58508172e-04],\n",
       "             [ 8.47430825e-02],\n",
       "             [ 1.93455076e+00],\n",
       "             [ 4.79390144e-01],\n",
       "             [ 4.26982582e-01],\n",
       "             [-9.58508172e-04],\n",
       "             [ 1.36406803e+00],\n",
       "             [ 1.03376615e+00],\n",
       "             [ 2.17851710e+00],\n",
       "             [-4.90818778e-03],\n",
       "             [-7.52505660e-02],\n",
       "             [ 9.08556998e-01],\n",
       "             [ 2.23048449e+00],\n",
       "             [ 1.88323116e+00],\n",
       "             [-9.58508172e-04],\n",
       "             [-9.58508172e-04],\n",
       "             [-7.51304105e-02],\n",
       "             [ 1.63734949e+00],\n",
       "             [-9.58508172e-04],\n",
       "             [ 9.05178666e-01],\n",
       "             [ 1.92167208e-01],\n",
       "             [-9.58508172e-04],\n",
       "             [-9.58508172e-04],\n",
       "             [-9.58508172e-04],\n",
       "             [ 6.48726404e-01],\n",
       "             [-9.58508172e-04],\n",
       "             [-9.58508172e-04],\n",
       "             [ 4.73501742e-01],\n",
       "             [ 2.48021126e+00],\n",
       "             [ 5.46120346e-01],\n",
       "             [ 2.39680481e+00],\n",
       "             [-9.58508172e-04],\n",
       "             [-9.58508172e-04],\n",
       "             [ 3.52483541e-01],\n",
       "             [ 9.23355043e-01],\n",
       "             [-4.91245277e-02],\n",
       "             [-9.58508172e-04],\n",
       "             [-9.58508172e-04],\n",
       "             [ 4.40184474e-02],\n",
       "             [-9.58508172e-04],\n",
       "             [ 1.92564821e+00],\n",
       "             [ 2.45729908e-02],\n",
       "             [ 8.60888958e-01],\n",
       "             [-9.58508172e-04],\n",
       "             [ 1.10020638e+00],\n",
       "             [ 2.01163435e+00],\n",
       "             [-9.58508172e-04],\n",
       "             [-9.58508172e-04],\n",
       "             [ 6.40236139e-02],\n",
       "             [-9.58508172e-04],\n",
       "             [ 2.89744663e+00],\n",
       "             [ 1.31634557e+00],\n",
       "             [ 3.54226613e+00],\n",
       "             [-9.58508172e-04],\n",
       "             [ 5.94921231e-01],\n",
       "             [-9.58508172e-04],\n",
       "             [-9.58508172e-04],\n",
       "             [-2.43302714e-02],\n",
       "             [ 4.88250367e-02],\n",
       "             [-9.58508172e-04],\n",
       "             [-9.58508172e-04],\n",
       "             [-5.64744212e-02],\n",
       "             [ 1.38399935e+00],\n",
       "             [-9.58508172e-04],\n",
       "             [-9.58508172e-04],\n",
       "             [-9.58508172e-04],\n",
       "             [ 2.02204275e+00],\n",
       "             [-9.58508172e-04],\n",
       "             [ 3.76921058e-01],\n",
       "             [-9.58508172e-04],\n",
       "             [ 2.43769269e-02],\n",
       "             [-9.58508172e-04],\n",
       "             [ 2.69250751e+00],\n",
       "             [-9.58508172e-04],\n",
       "             [ 2.32621837e+00],\n",
       "             [-9.58508172e-04],\n",
       "             [ 2.58438587e+00],\n",
       "             [-9.58508172e-04],\n",
       "             [-9.58508172e-04],\n",
       "             [ 1.01696908e+00],\n",
       "             [ 1.73390257e+00],\n",
       "             [-9.58508172e-04],\n",
       "             [-9.58508172e-04],\n",
       "             [ 1.99509430e+00],\n",
       "             [ 2.67987669e-01],\n",
       "             [-9.58508172e-04],\n",
       "             [-9.58508172e-04],\n",
       "             [-9.58508172e-04],\n",
       "             [ 1.55209315e+00],\n",
       "             [ 2.27504349e+00],\n",
       "             [ 4.64258194e-01],\n",
       "             [ 1.10433686e+00],\n",
       "             [-9.58508172e-04],\n",
       "             [-9.58508172e-04],\n",
       "             [ 6.90037131e-01],\n",
       "             [ 1.00987956e-01],\n",
       "             [ 2.27970600e+00],\n",
       "             [-9.58508172e-04],\n",
       "             [-9.58508172e-04],\n",
       "             [ 1.37808812e+00],\n",
       "             [-9.58508172e-04],\n",
       "             [-9.58508172e-04],\n",
       "             [-9.58508172e-04],\n",
       "             [-9.58508172e-04],\n",
       "             [ 2.39720154e+00],\n",
       "             [ 4.33399320e-01],\n",
       "             [ 1.65839744e+00],\n",
       "             [ 8.97593558e-01],\n",
       "             [-9.58508172e-04],\n",
       "             [ 2.35519743e+00],\n",
       "             [-9.58508172e-04],\n",
       "             [ 5.07159948e-01],\n",
       "             [-9.58508172e-04],\n",
       "             [-9.58508172e-04],\n",
       "             [ 3.15303898e+00],\n",
       "             [-9.58508172e-04],\n",
       "             [-9.58508172e-04],\n",
       "             [-5.45516573e-02],\n",
       "             [-9.58508172e-04],\n",
       "             [-9.58508172e-04],\n",
       "             [-9.58508172e-04],\n",
       "             [ 3.09337878e+00],\n",
       "             [ 2.78536773e+00],\n",
       "             [ 1.55179846e+00],\n",
       "             [ 1.26088941e+00],\n",
       "             [ 3.61017078e-01],\n",
       "             [ 3.45767707e-01],\n",
       "             [-9.58508172e-04],\n",
       "             [ 2.36897063e+00],\n",
       "             [ 1.37667274e+00],\n",
       "             [-9.58508172e-04],\n",
       "             [ 1.83456016e+00],\n",
       "             [ 1.44041264e+00],\n",
       "             [ 1.20654106e+00],\n",
       "             [ 2.65489578e+00],\n",
       "             [ 5.55496335e-01],\n",
       "             [ 1.02238917e+00],\n",
       "             [ 1.37920137e-02],\n",
       "             [ 7.86814094e-01],\n",
       "             [-9.58508172e-04],\n",
       "             [-6.98722973e-02],\n",
       "             [ 9.13126469e-01],\n",
       "             [ 1.06834280e+00],\n",
       "             [ 1.88309038e+00],\n",
       "             [-9.58508172e-04],\n",
       "             [ 1.54450321e+00],\n",
       "             [ 1.04756260e+00],\n",
       "             [ 2.53113604e+00],\n",
       "             [ 2.85527802e+00],\n",
       "             [-2.84498073e-02],\n",
       "             [ 3.24711490e+00],\n",
       "             [-5.81370434e-03],\n",
       "             [ 3.06740403e+00],\n",
       "             [ 1.86203986e-01],\n",
       "             [ 1.23081028e+00],\n",
       "             [-7.00905593e-03],\n",
       "             [-9.58508172e-04],\n",
       "             [ 6.43971324e-01],\n",
       "             [-9.58508172e-04],\n",
       "             [ 1.09394586e+00],\n",
       "             [ 5.28709926e-02],\n",
       "             [ 1.72040805e-01],\n",
       "             [-9.58508172e-04],\n",
       "             [-2.61565717e-03],\n",
       "             [ 1.51694965e+00],\n",
       "             [-9.58508172e-04],\n",
       "             [-9.58508172e-04],\n",
       "             [ 2.31565833e+00],\n",
       "             [-9.58508172e-04],\n",
       "             [ 1.35126865e+00],\n",
       "             [ 1.45849001e+00],\n",
       "             [ 3.05494547e-01],\n",
       "             [ 2.87097645e+00],\n",
       "             [-9.58508172e-04],\n",
       "             [-9.58508172e-04],\n",
       "             [-9.58508172e-04],\n",
       "             [ 4.68674414e-02],\n",
       "             [ 1.03463399e+00],\n",
       "             [ 1.31633985e+00],\n",
       "             [-9.58508172e-04],\n",
       "             [ 1.18405735e+00],\n",
       "             [ 3.13880825e+00],\n",
       "             [-9.58508172e-04],\n",
       "             [ 1.50886238e+00],\n",
       "             [-2.93864030e-02],\n",
       "             [ 2.03841142e-02],\n",
       "             [-9.58508172e-04],\n",
       "             [-9.58508172e-04],\n",
       "             [ 3.01921701e+00],\n",
       "             [ 2.29553556e+00],\n",
       "             [ 2.01732588e+00],\n",
       "             [-9.58508172e-04],\n",
       "             [ 9.46528018e-01],\n",
       "             [-9.58508172e-04],\n",
       "             [ 2.86717629e+00],\n",
       "             [ 2.71883035e+00],\n",
       "             [ 7.31794894e-01],\n",
       "             [ 5.31512618e-01],\n",
       "             [ 8.79150271e-01],\n",
       "             [-2.28600409e-02],\n",
       "             [ 3.83761692e+00],\n",
       "             [ 1.34883475e+00],\n",
       "             [ 2.17892602e-01],\n",
       "             [ 1.80289721e+00],\n",
       "             [-9.58508172e-04],\n",
       "             [ 3.15685129e+00],\n",
       "             [-9.58508172e-04],\n",
       "             [ 2.56981421e+00],\n",
       "             [ 1.70582068e+00],\n",
       "             [-9.58508172e-04],\n",
       "             [ 3.58788967e+00],\n",
       "             [ 2.52764678e+00],\n",
       "             [-7.90248811e-02],\n",
       "             [-9.58508172e-04],\n",
       "             [ 3.26229744e-02],\n",
       "             [-9.58508172e-04],\n",
       "             [-9.58508172e-04],\n",
       "             [ 2.07186556e+00],\n",
       "             [-9.58508172e-04],\n",
       "             [-9.58508172e-04],\n",
       "             [ 3.46536845e-01],\n",
       "             [-9.58508172e-04],\n",
       "             [-9.58508172e-04],\n",
       "             [-9.58508172e-04],\n",
       "             [-9.58508172e-04],\n",
       "             [-3.50891314e-02],\n",
       "             [ 2.16071844e+00],\n",
       "             [ 2.22161841e+00],\n",
       "             [-9.58508172e-04],\n",
       "             [ 1.61531448e+00],\n",
       "             [ 2.28193617e+00],\n",
       "             [-9.58508172e-04],\n",
       "             [-9.58508172e-04],\n",
       "             [-9.58508172e-04],\n",
       "             [ 7.46373296e-01],\n",
       "             [-4.68290448e-02],\n",
       "             [ 1.97060442e+00],\n",
       "             [-9.58508172e-04],\n",
       "             [-9.58508172e-04],\n",
       "             [-9.58508172e-04],\n",
       "             [ 1.59249604e-01],\n",
       "             [-2.71804426e-02],\n",
       "             [-9.58508172e-04],\n",
       "             [-9.58508172e-04],\n",
       "             [-9.58508172e-04],\n",
       "             [ 5.32205880e-01],\n",
       "             [ 1.67027545e+00],\n",
       "             [ 1.73068613e-01],\n",
       "             [-9.58508172e-04],\n",
       "             [ 9.47348952e-01],\n",
       "             [ 1.40376246e+00],\n",
       "             [-9.58508172e-04],\n",
       "             [-9.58508172e-04],\n",
       "             [ 2.01150608e+00],\n",
       "             [-9.58508172e-04],\n",
       "             [ 1.25453806e+00],\n",
       "             [-9.58508172e-04],\n",
       "             [-9.58508172e-04],\n",
       "             [-9.58508172e-04],\n",
       "             [ 6.99561387e-02],\n",
       "             [-9.66768190e-02],\n",
       "             [ 1.45439386e+00],\n",
       "             [-9.58508172e-04],\n",
       "             [ 9.94647443e-01],\n",
       "             [-9.58508172e-04],\n",
       "             [-9.58508172e-04],\n",
       "             [ 2.70569825e+00],\n",
       "             [ 1.54835320e+00],\n",
       "             [ 2.61701584e-01],\n",
       "             [ 1.57478595e+00],\n",
       "             [ 2.00593066e+00],\n",
       "             [-9.58508172e-04],\n",
       "             [-9.58508172e-04],\n",
       "             [ 2.87573314e+00],\n",
       "             [ 2.29976583e+00],\n",
       "             [-5.11386767e-02],\n",
       "             [ 2.86163974e+00],\n",
       "             [-2.39126179e-02],\n",
       "             [-9.58508172e-04],\n",
       "             [ 1.57842660e+00],\n",
       "             [-9.58508172e-04],\n",
       "             [ 5.12519062e-01],\n",
       "             [ 5.17725408e-01],\n",
       "             [-5.52048571e-02],\n",
       "             [-9.58508172e-04],\n",
       "             [-3.10496055e-02],\n",
       "             [ 3.59770894e-01],\n",
       "             [ 8.05077255e-02],\n",
       "             [ 1.21304858e+00],\n",
       "             [ 1.74713719e+00],\n",
       "             [-9.58508172e-04],\n",
       "             [-9.58508172e-04],\n",
       "             [ 2.16574207e-01],\n",
       "             [ 1.17360139e+00],\n",
       "             [-4.75306176e-02],\n",
       "             [ 4.00898308e-01],\n",
       "             [-1.12742849e-01],\n",
       "             [ 2.83119202e-01],\n",
       "             [-9.58508172e-04],\n",
       "             [ 3.15581274e+00],\n",
       "             [ 2.45394722e-01],\n",
       "             [ 5.26303768e-01],\n",
       "             [ 5.82113922e-01],\n",
       "             [-9.58508172e-04],\n",
       "             [ 1.65560460e+00],\n",
       "             [-9.58508172e-04],\n",
       "             [-9.58508172e-04],\n",
       "             [-9.58508172e-04],\n",
       "             [ 1.34197697e-01],\n",
       "             [ 2.85542655e+00],\n",
       "             [ 2.10580516e+00],\n",
       "             [ 1.23970079e+00],\n",
       "             [ 1.26059330e+00],\n",
       "             [ 1.71865857e+00],\n",
       "             [-9.58508172e-04],\n",
       "             [ 2.72349739e+00],\n",
       "             [-9.58508172e-04],\n",
       "             [ 5.35831869e-01],\n",
       "             [-4.67675552e-02],\n",
       "             [ 6.16959214e-01],\n",
       "             [ 7.35738099e-01],\n",
       "             [ 1.25880384e+00],\n",
       "             [ 7.86045194e-01],\n",
       "             [ 1.98532951e+00],\n",
       "             [-9.58508172e-04],\n",
       "             [-9.58508172e-04],\n",
       "             [ 2.66943359e+00],\n",
       "             [-9.58508172e-04],\n",
       "             [-9.58508172e-04]], dtype=float32)"
      ]
     },
     "execution_count": 569,
     "metadata": {},
     "output_type": "execute_result"
    }
   ],
   "source": [
    "sed_emu(net_params,jnp.asarray(samp_stand_test))"
   ]
  },
  {
   "cell_type": "code",
   "execution_count": 570,
   "metadata": {},
   "outputs": [
    {
     "data": {
      "text/plain": [
       "[<matplotlib.lines.Line2D at 0x7fb1b4507358>]"
      ]
     },
     "execution_count": 570,
     "metadata": {},
     "output_type": "execute_result"
    },
    {
     "data": {
      "image/png": "[encoded data removed]",
      "text/plain": [
       "<Figure size 432x288 with 1 Axes>"
      ]
     },
     "metadata": {
      "needs_background": "light"
     },
     "output_type": "display_data"
    }
   ],
   "source": [
    "plt.semilogy(all_loss)\n",
    "plt.plot(all_loss_test)"
   ]
  },
  {
   "cell_type": "markdown",
   "metadata": {},
   "source": [
    "### Try simple linear regression with Stax\n",
    "To get to the bottom of Stax, I will use to predict $y=xcos(x)+sin(2x)$"
   ]
  },
  {
   "cell_type": "code",
   "execution_count": 301,
   "metadata": {},
   "outputs": [],
   "source": [
    "x=np.arange(0,20,0.1)\n",
    "def simple_func(x):\n",
    "    y=np.sin(x)+0.2*np.random.normal(size=x.shape)\n",
    "    return y"
   ]
  },
  {
   "cell_type": "code",
   "execution_count": 302,
   "metadata": {},
   "outputs": [
    {
     "data": {
      "text/plain": [
       "Text(0, 0.5, 'y')"
      ]
     },
     "execution_count": 302,
     "metadata": {},
     "output_type": "execute_result"
    },
    {
     "data": {
      "image/png": "[encoded data removed]",
      "text/plain": [
       "<Figure size 432x288 with 1 Axes>"
      ]
     },
     "metadata": {
      "needs_background": "light"
     },
     "output_type": "display_data"
    }
   ],
   "source": [
    "plt.plot(x,simple_func(x))\n",
    "plt.xlabel('x')\n",
    "plt.ylabel('y')"
   ]
  },
  {
   "cell_type": "code",
   "execution_count": 343,
   "metadata": {},
   "outputs": [],
   "source": [
    "batch_size=40\n",
    "num_inputs=1\n",
    "num_bands=1\n",
    "#stax provides an intialising function and a function for doing a forward pass\n",
    "init_fun,simple_emu = stax.serial(Dense(num_inputs),LeakyRelu,\n",
    "                                  Dense(200),LeakyRelu,\n",
    "                              Dense(num_bands))\n"
   ]
  },
  {
   "cell_type": "code",
   "execution_count": 344,
   "metadata": {},
   "outputs": [],
   "source": [
    "#function to get initial parameters of neural net\n",
    "_, params = init_fun(key, (batch_size, num_inputs))\n",
    "\n",
    "## class for sed using the torch dataset class\n",
    "class simple_data(Dataset):\n",
    "    \n",
    "    def __init__(self,x,y):\n",
    "        self.X=x\n",
    "        self.y=y\n",
    "    def __len__(self):\n",
    "        return len(self.X)\n",
    "    def __getitem__(self,idx):\n",
    "        return self.X[idx],self.y[idx]"
   ]
  },
  {
   "cell_type": "code",
   "execution_count": 345,
   "metadata": {},
   "outputs": [],
   "source": [
    "train_x=np.random.uniform(-10,10,(4000,1))\n",
    "train_y=simple_func(train_x)\n",
    "test_x=np.random.uniform(-10,10,(1000,1))\n",
    "test_y=simple_func(test_x)"
   ]
  },
  {
   "cell_type": "code",
   "execution_count": 346,
   "metadata": {},
   "outputs": [],
   "source": [
    "\n",
    "## use data in Simple dataclass\n",
    "ds = simple_data(train_x,train_y)\n",
    "## use torch DataLoader\n",
    "train_loader = DataLoader(ds, batch_size=batch_size,)\n",
    "## do same but for test set\n",
    "\n",
    "ds = sed_data(test_x,test_y)\n",
    "test_loader = DataLoader(ds, batch_size=batch_size)"
   ]
  },
  {
   "cell_type": "code",
   "execution_count": 347,
   "metadata": {},
   "outputs": [],
   "source": [
    "def accuracy(params, data_loader):\n",
    "    \"\"\" Compute the accuracy for the SED emulator\"\"\"\n",
    "    acc_total = 0\n",
    "    for batch_idx, (data, target) in enumerate(data_loader):\n",
    "        x=jnp.asarray(data)\n",
    "        predicted=simple_emu(params, x)\n",
    "        acc_total += jnp.sum((predicted - jnp.asarray(target))**2)\n",
    "    return acc_total/len(data_loader.dataset)\n",
    "\n",
    "def loss(params, images, targets):\n",
    "    preds = simple_emu(params, jnp.asarray(images))\n",
    "    return jnp.mean((jnp.asarray(targets) - preds)**2)"
   ]
  },
  {
   "cell_type": "code",
   "execution_count": 348,
   "metadata": {},
   "outputs": [],
   "source": [
    "def run_simple_training_loop(num_epochs, opt_state):\n",
    "    \"\"\" Implements a learning loop over epochs. \"\"\"\n",
    "    # Initialize placeholder for loggin\n",
    "    log_acc_train, log_acc_test, train_loss = [], [], []\n",
    "\n",
    "    # Get the initial set of parameters\n",
    "    params = get_params(opt_state)\n",
    "\n",
    "    # Get initial accuracy after random init\n",
    "    train_acc = accuracy(params, train_loader)\n",
    "    test_acc = accuracy(params, test_loader)\n",
    "    log_acc_train.append(train_acc)\n",
    "    log_acc_test.append(test_acc)\n",
    "\n",
    "    # Loop over the training epochs\n",
    "    for epoch in range(num_epochs):\n",
    "        start_time = time.time()\n",
    "        for batch_idx, (data, target) in enumerate(train_loader):\n",
    "            x=jnp.asarray(data)\n",
    "            y=jnp.asarray(target)\n",
    "            params, opt_state, loss = update(params, x, y, opt_state)\n",
    "            train_loss.append(loss)\n",
    "\n",
    "        epoch_time = time.time() - start_time\n",
    "        train_acc = accuracy(params, train_loader)\n",
    "        test_acc = accuracy(params, test_loader)\n",
    "        log_acc_train.append(train_acc)\n",
    "        log_acc_test.append(test_acc)\n",
    "        if epoch%50==0:\n",
    "            print(\"Epoch {} | T: {:0.2f} | Train A: {:0.3f} | Test A: {:0.3f}\".format(epoch+1, epoch_time,\n",
    "                                                                        train_acc, test_acc,))\n",
    "\n",
    "    return train_loss, log_acc_train, log_acc_test,params"
   ]
  },
  {
   "cell_type": "code",
   "execution_count": 349,
   "metadata": {},
   "outputs": [
    {
     "name": "stdout",
     "output_type": "stream",
     "text": [
      "[(Traced<ShapedArray(float32[1,1])>with<DynamicJaxprTrace(level=0/1)>, Traced<ShapedArray(float32[1])>with<DynamicJaxprTrace(level=0/1)>), (), (Traced<ShapedArray(float32[1,200])>with<DynamicJaxprTrace(level=0/1)>, Traced<ShapedArray(float32[200])>with<DynamicJaxprTrace(level=0/1)>), (), (Traced<ShapedArray(float32[200,1])>with<DynamicJaxprTrace(level=0/1)>, Traced<ShapedArray(float32[1])>with<DynamicJaxprTrace(level=0/1)>)]\n",
      "Epoch 1 | T: 0.87 | Train A: 0.527 | Test A: 0.509\n",
      "Epoch 51 | T: 0.21 | Train A: 0.508 | Test A: 0.498\n",
      "Epoch 101 | T: 0.25 | Train A: 0.502 | Test A: 0.500\n",
      "Epoch 151 | T: 0.25 | Train A: 0.503 | Test A: 0.504\n",
      "Epoch 201 | T: 0.18 | Train A: 0.503 | Test A: 0.500\n",
      "Epoch 251 | T: 0.27 | Train A: 0.503 | Test A: 0.500\n",
      "Epoch 301 | T: 0.22 | Train A: 0.503 | Test A: 0.501\n",
      "Epoch 351 | T: 0.27 | Train A: 0.503 | Test A: 0.500\n",
      "Epoch 401 | T: 0.22 | Train A: 0.504 | Test A: 0.501\n",
      "Epoch 451 | T: 0.23 | Train A: 0.503 | Test A: 0.500\n"
     ]
    }
   ],
   "source": [
    "#function to get initial parameters of neural net\n",
    "_, params = init_fun(key, (batch_size, num_inputs))\n",
    "step_size = 0.05\n",
    "opt_init, opt_update, get_params = optimizers.adam(step_size)\n",
    "opt_state = opt_init(params)\n",
    "num_epochs = 500\n",
    "my_images = []\n",
    "train_loss, train_log, test_log,params = run_simple_training_loop(num_epochs,\n",
    "                                                          opt_state)\n"
   ]
  },
  {
   "cell_type": "code",
   "execution_count": 339,
   "metadata": {},
   "outputs": [
    {
     "data": {
      "text/plain": [
       "[<matplotlib.lines.Line2D at 0x7f811e3e2940>]"
      ]
     },
     "execution_count": 339,
     "metadata": {},
     "output_type": "execute_result"
    },
    {
     "data": {
      "image/png": "[encoded data removed]",
      "text/plain": [
       "<Figure size 432x288 with 1 Axes>"
      ]
     },
     "metadata": {
      "needs_background": "light"
     },
     "output_type": "display_data"
    }
   ],
   "source": [
    "plt.plot(train_loss)"
   ]
  },
  {
   "cell_type": "code",
   "execution_count": 340,
   "metadata": {},
   "outputs": [],
   "source": [
    "\n",
    "predicted=simple_emu(params, test_x)"
   ]
  },
  {
   "cell_type": "code",
   "execution_count": 341,
   "metadata": {},
   "outputs": [
    {
     "name": "stdout",
     "output_type": "stream",
     "text": [
      "(1000, 1)\n"
     ]
    }
   ],
   "source": [
    "print(test_y.shape)\n"
   ]
  },
  {
   "cell_type": "code",
   "execution_count": 342,
   "metadata": {},
   "outputs": [
    {
     "data": {
      "text/plain": [
       "[<matplotlib.lines.Line2D at 0x7f81233f6828>]"
      ]
     },
     "execution_count": 342,
     "metadata": {},
     "output_type": "execute_result"
    },
    {
     "data": {
      "image/png": "[encoded data removed]",
      "text/plain": [
       "<Figure size 432x288 with 1 Axes>"
      ]
     },
     "metadata": {
      "needs_background": "light"
     },
     "output_type": "display_data"
    }
   ],
   "source": [
    "plt.plot(test_x,predicted,'o')\n",
    "plt.plot(test_x,test_y,'ro',alpha=0.5)"
   ]
  },
  {
   "cell_type": "markdown",
   "metadata": {},
   "source": [
    "### Retry with [Eric Jang's tutorial on meta learning](https://blog.evjang.com/2019/02/maml-jax.html)"
   ]
  },
  {
   "cell_type": "code",
   "execution_count": 350,
   "metadata": {},
   "outputs": [],
   "source": [
    "import jax.numpy as np\n",
    "from jax import grad"
   ]
  },
  {
   "cell_type": "code",
   "execution_count": 351,
   "metadata": {},
   "outputs": [
    {
     "name": "stdout",
     "output_type": "stream",
     "text": [
      "2.7182817\n",
      "2.7182817\n",
      "2.7182817\n",
      "4.0\n",
      "2.0\n",
      "0.0\n"
     ]
    }
   ],
   "source": [
    "f = lambda x : np.exp(x)\n",
    "g = lambda x : np.square(x)\n",
    "print(grad(f)(1.)) # = e^{1}\n",
    "print(grad(grad(f))(1.))\n",
    "print(grad(grad(grad(f)))(1.))\n",
    "\n",
    "print(grad(g)(2.)) # 2x = 4\n",
    "print(grad(grad(g))(2.)) # x = 2\n",
    "print(grad(grad(grad(g)))(2.)) # x = 0\n"
   ]
  },
  {
   "cell_type": "code",
   "execution_count": 353,
   "metadata": {},
   "outputs": [],
   "source": [
    "from jax import vmap # for auto-vectorizing functions\n",
    "from functools import partial # for use with vmap\n",
    "from jax import jit # for compiling functions for speedup\n",
    "from jax.experimental import stax # neural network library\n",
    "from jax.experimental.stax import Conv, Dense, MaxPool, Relu, Flatten, LogSoftmax # neural network layers\n",
    "import matplotlib.pyplot as plt # visualization"
   ]
  },
  {
   "cell_type": "code",
   "execution_count": 355,
   "metadata": {},
   "outputs": [],
   "source": [
    "# Use stax to set up network initialization and evaluation functions\n",
    "net_init, net_apply = stax.serial(\n",
    "    Dense(40), Relu,\n",
    "    Dense(40), Relu,\n",
    "    Dense(1)\n",
    ")\n",
    "in_shape = (-1, 1,)\n",
    "out_shape, net_params = net_init(key,in_shape)"
   ]
  },
  {
   "cell_type": "code",
   "execution_count": 356,
   "metadata": {},
   "outputs": [],
   "source": [
    "def loss(params, inputs, targets):\n",
    "    # Computes average loss for the batch\n",
    "    predictions = net_apply(params, inputs)\n",
    "    return np.mean((targets - predictions)**2)\n"
   ]
  },
  {
   "cell_type": "code",
   "execution_count": 357,
   "metadata": {},
   "outputs": [
    {
     "data": {
      "text/plain": [
       "<matplotlib.legend.Legend at 0x7f811f500cf8>"
      ]
     },
     "execution_count": 357,
     "metadata": {},
     "output_type": "execute_result"
    },
    {
     "data": {
      "image/png": "[encoded data removed]",
      "text/plain": [
       "<Figure size 432x288 with 1 Axes>"
      ]
     },
     "metadata": {
      "needs_background": "light"
     },
     "output_type": "display_data"
    }
   ],
   "source": [
    "# batch the inference across K=100\n",
    "xrange_inputs = np.linspace(-5,5,100).reshape((100, 1)) # (k, 1)\n",
    "targets = np.sin(xrange_inputs)\n",
    "predictions = vmap(partial(net_apply, net_params))(xrange_inputs)\n",
    "losses = vmap(partial(loss, net_params))(xrange_inputs, targets) # per-input loss\n",
    "plt.plot(xrange_inputs, predictions, label='prediction')\n",
    "plt.plot(xrange_inputs, losses, label='loss')\n",
    "plt.plot(xrange_inputs, targets, label='target')\n",
    "plt.legend()"
   ]
  },
  {
   "cell_type": "code",
   "execution_count": 358,
   "metadata": {},
   "outputs": [],
   "source": [
    "import numpy as onp\n",
    "from jax.experimental import optimizers\n",
    "from jax.tree_util import tree_multimap  # Element-wise manipulation of collections of numpy arrays "
   ]
  },
  {
   "cell_type": "code",
   "execution_count": 364,
   "metadata": {},
   "outputs": [],
   "source": [
    "opt_init, opt_update,get_params = optimizers.adam(step_size=1e-2)\n",
    "opt_state = opt_init(net_params)\n",
    "# Define a compiled update step\n",
    "@jit\n",
    "def step(i, opt_state, x1, y1):\n",
    "    p = get_params(opt_state)\n",
    "    g = grad(loss)(p, x1, y1)\n",
    "    loss_tmp=loss(p,x1,y1)\n",
    "    return opt_update(i, g, opt_state),loss_tmp\n",
    "loss_all=[]\n",
    "for i in range(100):\n",
    "    opt_state,loss_tmp = step(i, opt_state, xrange_inputs, targets)\n",
    "    loss_all.append(loss_tmp)\n",
    "net_params = get_params(opt_state)"
   ]
  },
  {
   "cell_type": "code",
   "execution_count": 365,
   "metadata": {},
   "outputs": [
    {
     "data": {
      "text/plain": [
       "<matplotlib.legend.Legend at 0x7f81366d8b38>"
      ]
     },
     "execution_count": 365,
     "metadata": {},
     "output_type": "execute_result"
    },
    {
     "data": {
      "image/png": "[encoded data removed]",
      "text/plain": [
       "<Figure size 432x288 with 1 Axes>"
      ]
     },
     "metadata": {
      "needs_background": "light"
     },
     "output_type": "display_data"
    }
   ],
   "source": [
    "#batch the inference across K=100\n",
    "xrange_inputs = np.linspace(-5,5,100).reshape((100, 1)) # (k, 1)\n",
    "targets = np.sin(xrange_inputs)\n",
    "predictions = vmap(partial(net_apply, net_params))(xrange_inputs)\n",
    "losses = vmap(partial(loss, net_params))(xrange_inputs, targets) # per-input loss\n",
    "plt.plot(xrange_inputs, predictions, label='prediction')\n",
    "plt.plot(xrange_inputs, losses, label='loss')\n",
    "plt.plot(xrange_inputs, targets, label='target')\n",
    "plt.legend()"
   ]
  },
  {
   "cell_type": "code",
   "execution_count": 366,
   "metadata": {},
   "outputs": [
    {
     "data": {
      "text/plain": [
       "[<matplotlib.lines.Line2D at 0x7f8133029208>]"
      ]
     },
     "execution_count": 366,
     "metadata": {},
     "output_type": "execute_result"
    },
    {
     "data": {
      "image/png": "[encoded data removed]",
      "text/plain": [
       "<Figure size 432x288 with 1 Axes>"
      ]
     },
     "metadata": {
      "needs_background": "light"
     },
     "output_type": "display_data"
    }
   ],
   "source": [
    "plt.plot(loss_all)"
   ]
  },
  {
   "cell_type": "code",
   "execution_count": null,
   "metadata": {},
   "outputs": [],
   "source": [
    "def maml_loss(p, x1, y1, x2, y2):\n",
    "    p2 = inner_update(p, x1, y1)\n",
    "    return loss(p2, x2, y2)"
   ]
  },
  {
   "cell_type": "code",
   "execution_count": null,
   "metadata": {},
   "outputs": [],
   "source": [
    "# vmapped version of maml loss.\n",
    "# returns scalar for all tasks.\n",
    "def batch_maml_loss(p, x1_b, y1_b, x2_b, y2_b):\n",
    "    task_losses = vmap(partial(maml_loss, p))(x1_b, y1_b, x2_b, y2_b)\n",
    "    return np.mean(task_losses)"
   ]
  },
  {
   "cell_type": "code",
   "execution_count": 372,
   "metadata": {},
   "outputs": [],
   "source": [
    "def batch_loss(p,x_b,y_b):\n",
    "    loss_b=vmap(partial(loss,p))(x_b,y_b)\n",
    "    return np.mean(loss_b)"
   ]
  },
  {
   "cell_type": "code",
   "execution_count": 373,
   "metadata": {},
   "outputs": [],
   "source": [
    "import numpy as onp\n",
    "# batch the inference across K=100\n",
    "xrange_inputs = np.linspace(-5,5,100).reshape((100, 1)) # (k, 1)\n",
    "targets = np.sin(xrange_inputs)\n",
    "\n",
    "def sample_batch(outer_batch_size,inner_batch_size):\n",
    "    def get_batch():\n",
    "        xs, ys = [], []\n",
    "        A=1\n",
    "        phase=0\n",
    "        for i in range(0,outer_batch_size):\n",
    "            x = onp.random.uniform(low=-5., high=5., size=(inner_batch_size, 1))\n",
    "            y = A * onp.sin(x + phase)\n",
    "            xs.append(x)\n",
    "            ys.append(y)\n",
    "        return np.stack(xs), np.stack(ys)\n",
    "    x1, y1 = get_batch()\n",
    "    return x1, y1\n",
    "    \n",
    "    \n",
    "    "
   ]
  },
  {
   "cell_type": "code",
   "execution_count": 377,
   "metadata": {},
   "outputs": [
    {
     "name": "stdout",
     "output_type": "stream",
     "text": [
      "0\n",
      "1000\n",
      "2000\n",
      "3000\n",
      "4000\n",
      "5000\n",
      "6000\n",
      "7000\n",
      "8000\n",
      "9000\n",
      "10000\n",
      "11000\n",
      "12000\n",
      "13000\n",
      "14000\n",
      "15000\n",
      "16000\n",
      "17000\n",
      "18000\n",
      "19000\n"
     ]
    }
   ],
   "source": [
    "opt_init, opt_update, get_params= optimizers.adam(step_size=1e-3)\n",
    "out_shape, net_params = net_init(key,in_shape)\n",
    "opt_state = opt_init(net_params)\n",
    "\n",
    "@jit\n",
    "def step(i, opt_state, x1, y1):\n",
    "    p = get_params(opt_state)\n",
    "    g = grad(batch_loss)(p, x1, y1)\n",
    "    loss_tmp=batch_loss(p,x1,y1)\n",
    "    return opt_update(i, g, opt_state),loss_tmp\n",
    "\n",
    "np_batched_loss_1 = []\n",
    "K=20\n",
    "for i in range(20000):\n",
    "    x1_b, y1_b = sample_batch(1, K)\n",
    "    opt_state, l = step(i, opt_state, x1_b, y1_b)\n",
    "    np_batched_loss_1.append(l)\n",
    "    if i % 1000 == 0:\n",
    "        print(i)\n",
    "net_params = get_params(opt_state)"
   ]
  },
  {
   "cell_type": "code",
   "execution_count": 379,
   "metadata": {},
   "outputs": [
    {
     "data": {
      "text/plain": [
       "[<matplotlib.lines.Line2D at 0x7f8110a182e8>]"
      ]
     },
     "execution_count": 379,
     "metadata": {},
     "output_type": "execute_result"
    },
    {
     "data": {
      "image/png": "[encoded data removed]",
      "text/plain": [
       "<Figure size 432x288 with 1 Axes>"
      ]
     },
     "metadata": {
      "needs_background": "light"
     },
     "output_type": "display_data"
    }
   ],
   "source": []
  },
  {
   "cell_type": "code",
   "execution_count": 380,
   "metadata": {},
   "outputs": [
    {
     "data": {
      "text/plain": [
       "<matplotlib.legend.Legend at 0x7f81125b06d8>"
      ]
     },
     "execution_count": 380,
     "metadata": {},
     "output_type": "execute_result"
    },
    {
     "data": {
      "image/png": "[encoded data removed]",
      "text/plain": [
       "<Figure size 432x288 with 1 Axes>"
      ]
     },
     "metadata": {
      "needs_background": "light"
     },
     "output_type": "display_data"
    }
   ],
   "source": [
    "#batch the inference across K=100\n",
    "xrange_inputs = np.linspace(-5,5,100).reshape((100, 1)) # (k, 1)\n",
    "targets = np.sin(xrange_inputs)\n",
    "predictions = vmap(partial(net_apply, net_params))(xrange_inputs)\n",
    "losses = vmap(partial(loss, net_params))(xrange_inputs, targets) # per-input loss\n",
    "plt.plot(xrange_inputs, predictions, label='prediction')\n",
    "plt.plot(xrange_inputs, losses, label='loss')\n",
    "plt.plot(xrange_inputs, targets, label='target')\n",
    "plt.legend()"
   ]
  },
  {
   "cell_type": "code",
   "execution_count": null,
   "metadata": {},
   "outputs": [],
   "source": []
  }
 ],
 "metadata": {
  "kernelspec": {
   "display_name": "Python 3",
   "language": "python",
   "name": "python3"
  },
  "language_info": {
   "codemirror_mode": {
    "name": "ipython",
    "version": 3
   },
   "file_extension": ".py",
   "mimetype": "text/x-python",
   "name": "python",
   "nbconvert_exporter": "python",
   "pygments_lexer": "ipython3",
   "version": "3.6.6"
  }
 },
 "nbformat": 4,
 "nbformat_minor": 2
}
