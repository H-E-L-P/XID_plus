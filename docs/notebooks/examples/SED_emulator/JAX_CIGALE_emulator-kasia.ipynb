{
 "cells": [
  {
   "cell_type": "markdown",
   "metadata": {},
   "source": [
    "# The JAX emulator: CIGALE prototype\n",
    "In this notebook, I will prototype my idea for emulating radiative transfer codes with a Deepnet in order for it to be used inside xidplus. As `numpyro` uses JAX, the Deepnet wil ideally be trained with a JAX network. I will use CIGALE"
   ]
  },
  {
   "cell_type": "markdown",
   "metadata": {},
   "source": [
    "### Advice from Kasia\n",
    "Use the following modules:\n",
    "* `Dale 2014` dust module with one parameter ($\\alpha$) however, $\\alpha$ can only take certian values in Cigale\n",
    "    * 0.0625, 0.1250, 0.1875, 0.2500,0.3125, 0.3750, 0.4375, 0.5000, 0.5625, 0.6250, 0.6875, 0.7500,0.8125, 0.8750, 0.9375, 1.0000, 1.0625, 1.1250, 1.1875, 1.2500,1.3125, 1.3750, 1.4375, 1.5000, 1.5625, 1.6250, 1.6875, 1.7500, 1.8125, 1.8750, 1.9375, 2.0000, 2.0625, 2.1250, 2.1875, 2.2500,2.3125, 2.3750, 2.4375, 2.5000, 2.5625, 2.6250, 2.6875, 2.7500,2.8125, 2.8750, 2.9375, 3.0000, 3.0625, 3.1250, 3.1875, 3.2500, 3.3125, 3.3750, 3.4375, 3.5000, 3.5625, 3.6250, 3.6875, 3.7500, 3.8125, 3.8750, 3.9375, 4.0000\n",
    "* `sfhdelayed` starforamtion history module. Has parameters $\\tau$ (500-6500) ($age$ can be calculated from redshift). $f_{burst}$ is set to 0\n",
    "* `bc03`stellar population synthesis module (don't change parameters)\n",
    "* `dustatt_2powerlaws` \n",
    "    * set $Av_BC$ the V band attenuation in the birth clouds to between 0 - 4\n",
    "    * set `BC_to_ISM_factor` to 0.7\n",
    "    \n",
    "Final parameters: $alpha$, $AV_BC$,$\\tau$,$z$,$SFR$,$AGN$\n",
    "\n",
    "Ideally, I would generate values from prior. I can do that for $AV_BC$,$\\tau$,$z$,$SFR$,$AGN$ but not $\\alpha$ given that there are fixed values."
   ]
  },
  {
   "cell_type": "code",
   "execution_count": 1,
   "metadata": {},
   "outputs": [
    {
     "name": "stderr",
     "output_type": "stream",
     "text": [
      "W0117 13:51:39.512974 4613914048 xla_bridge.py:135] No GPU/TPU found, falling back to CPU. (Set TF_CPP_MIN_LOG_LEVEL=0 and rerun for more info.)\n",
      "/Users/pdh21/anaconda3/envs/xidplus/lib/python3.6/site-packages/dask/config.py:168: YAMLLoadWarning: calling yaml.load() without Loader=... is deprecated, as the default Loader is unsafe. Please read https://msg.pyyaml.org/load for full details.\n",
      "  data = yaml.load(f.read()) or {}\n",
      "WARNING: AstropyDeprecationWarning: block_reduce was moved to the astropy.nddata.blocks module.  Please update your import statement. [astropy.nddata.utils]\n",
      "W0117 13:51:41.490610 4613914048 logger.py:204] AstropyDeprecationWarning: block_reduce was moved to the astropy.nddata.blocks module.  Please update your import statement.\n"
     ]
    }
   ],
   "source": [
    "\n",
    "from astropy.cosmology import WMAP9 as cosmo\n",
    "import jax\n",
    "import numpy as onp\n",
    "import pylab as plt\n",
    "import astropy.units as u\n",
    "import scipy.integrate as integrate\n",
    "%matplotlib inline\n",
    "\n",
    "import jax.numpy as np\n",
    "from jax import grad, jit, vmap, value_and_grad\n",
    "from jax import random\n",
    "from jax import vmap # for auto-vectorizing functions\n",
    "from functools import partial # for use with vmap\n",
    "from jax import jit # for compiling functions for speedup\n",
    "from jax.experimental import stax # neural network library\n",
    "from jax.experimental.stax import Conv, Dense, MaxPool, Relu, Flatten, LogSoftmax, LeakyRelu # neural network layers\n",
    "\n",
    "from jax.experimental import optimizers\n",
    "from jax.tree_util import tree_multimap  # Element-wise manipulation of collections of numpy arrays \n",
    "import matplotlib.pyplot as plt # visualization\n",
    "# Generate key which is used to generate random numbers\n",
    "key = random.PRNGKey(2)\n",
    "from xidplus import cigale"
   ]
  },
  {
   "cell_type": "code",
   "execution_count": 2,
   "metadata": {},
   "outputs": [],
   "source": [
    "onp.random.seed(2)"
   ]
  },
  {
   "cell_type": "markdown",
   "metadata": {},
   "source": [
    "### Generate CIGALE SEDs"
   ]
  },
  {
   "cell_type": "code",
   "execution_count": 3,
   "metadata": {},
   "outputs": [],
   "source": [
    "from astropy.io import fits\n",
    "from astropy.table import Table\n",
    "import scipy.stats as stats"
   ]
  },
  {
   "cell_type": "code",
   "execution_count": 4,
   "metadata": {},
   "outputs": [],
   "source": [
    "alpha=onp.array([0.0625, 0.1250, 0.1875, 0.2500,0.3125, 0.3750, 0.4375, 0.5000, 0.5625, 0.6250, 0.6875, 0.7500,0.8125, 0.8750, 0.9375, 1.0000, 1.0625, 1.1250, 1.1875, 1.2500,1.3125, 1.3750, 1.4375, 1.5000, 1.5625, 1.6250, 1.6875, 1.7500, 1.8125, 1.8750, 1.9375, 2.0000, 2.0625, 2.1250, 2.1875, 2.2500,2.3125, 2.3750, 2.4375, 2.5000, 2.5625, 2.6250, 2.6875, 2.7500,2.8125, 2.8750, 2.9375, 3.0000, 3.0625, 3.1250, 3.1875, 3.2500, 3.3125, 3.3750, 3.4375, 3.5000, 3.5625, 3.6250, 3.6875, 3.7500, 3.8125, 3.8750, 3.9375, 4.0000])\n",
    "alpha_rv = stats.randint(0, len(alpha))\n",
    "av_bc_rv=stats.uniform(0.1,4.0)\n",
    "tau_rv=stats.randint(500,6500)\n",
    "z_rv=stats.uniform(0.01,6)\n",
    "sfr_rv=stats.loguniform(0.01,30000)\n",
    "agn_frac_rv=stats.beta(1,3)"
   ]
  },
  {
   "cell_type": "code",
   "execution_count": 5,
   "metadata": {},
   "outputs": [],
   "source": [
    "from astropy.cosmology import Planck13"
   ]
  },
  {
   "cell_type": "code",
   "execution_count": 6,
   "metadata": {},
   "outputs": [
    {
     "data": {
      "text/plain": [
       "2.875"
      ]
     },
     "execution_count": 6,
     "metadata": {},
     "output_type": "execute_result"
    }
   ],
   "source": [
    "z=z_rv.rvs(1)[0]\n",
    "onp.int(Planck13.age(z).value*1000)\n",
    "alpha[alpha_rv.rvs(1)[0]]"
   ]
  },
  {
   "cell_type": "code",
   "execution_count": 7,
   "metadata": {},
   "outputs": [
    {
     "name": "stdout",
     "output_type": "stream",
     "text": [
      "---\n"
     ]
    }
   ],
   "source": [
    "nsamp=1\n",
    "from astropy.constants import L_sun, M_sun\n",
    "from astropy.table import vstack\n",
    "col_scale=['spire_250','spire_350','spire_500','dust.luminosity','sfh.sfr','stellar.m_star']\n",
    "parameter_names=onp.array(['tau_main','age_main','Av_BC','alpha','fracAGN','redshift'])\n",
    "all_SEDs=[]\n",
    "for i in range(0,nsamp):\n",
    "    z=z_rv.rvs(1)[0]\n",
    "    \n",
    "    parameters={'tau_main':[tau_rv.rvs(1)[0]],'age_main':[onp.int(Planck13.age(z).value*1000)],\n",
    "                'Av_BC':[av_bc_rv.rvs(1)[0]],'alpha':[alpha[alpha_rv.rvs(1)[0]]],'fracAGN':[agn_frac_rv.rvs(1)[0]],'redshift':[z]}\n",
    "    path_to_cigale='/Volumes/pdh_storage/cigale/'\n",
    "    path_to_ini_file='pcigale_kasia_nn.ini'\n",
    "    SEDs=cigale.generate_SEDs(parameter_names, parameters, path_to_cigale, path_to_ini_file, filename = 'tmp_single')\n",
    "    #set more appropriate units for dust\n",
    "\n",
    "    SEDs['dust.luminosity']=SEDs['dust.luminosity']/L_sun.value\n",
    "    scale=1.0/SEDs['sfh.sfr']\n",
    "    for c in col_scale:\n",
    "        SEDs[c]=SEDs[c]*scale*sfr_rv.rvs(1)[0]\n",
    "    all_SEDs.append(SEDs)\n",
    "    if i and i % 100 == 0:\n",
    "        tmp_SEDs=vstack(all_SEDs)\n",
    "        tmp_SEDs.write('kasia_gen_SEDs_{}.fits'.format(i),overwrite=True)\n",
    "        all_SEDs=[]"
   ]
  },
  {
   "cell_type": "code",
   "execution_count": 9,
   "metadata": {},
   "outputs": [
    {
     "data": {
      "text/html": [
       "<i>Table length=1</i>\n",
       "<table id=\"table140660779053296\" class=\"table-striped table-bordered table-condensed\">\n",
       "<thead><tr><th>id</th><th>spire_250</th><th>spire_350</th><th>spire_500</th><th>dust.luminosity</th><th>sfh.sfr</th><th>stellar.m_star</th><th>agn.fracAGN</th><th>attenuation.Av_BC</th><th>dust.alpha</th><th>sfh.tau_main</th><th>universe.redshift</th></tr></thead>\n",
       "<thead><tr><th></th><th>mJy</th><th>mJy</th><th>mJy</th><th>W</th><th>solMass / yr</th><th>solMass</th><th></th><th>mag</th><th></th><th>Myr</th><th></th></tr></thead>\n",
       "<thead><tr><th>int64</th><th>float64</th><th>float64</th><th>float64</th><th>float64</th><th>float64</th><th>float64</th><th>float64</th><th>float64</th><th>float64</th><th>float64</th><th>float64</th></tr></thead>\n",
       "<tr><td>0</td><td>0.0022648338953013686</td><td>0.6101981528070004</td><td>0.13285984543787135</td><td>486811658.0261648</td><td>21.20839313475317</td><td>71919897.44752046</td><td>0.100848769635</td><td>2.038996387135</td><td>0.5</td><td>3014.0</td><td>5.5992451949267</td></tr>\n",
       "</table>"
      ],
      "text/plain": [
       "<Table length=1>\n",
       "  id        spire_250       ... sfh.tau_main universe.redshift\n",
       "               mJy          ...     Myr                       \n",
       "int64        float64        ...   float64         float64     \n",
       "----- --------------------- ... ------------ -----------------\n",
       "    0 0.0022648338953013686 ...       3014.0   5.5992451949267"
      ]
     },
     "execution_count": 9,
     "metadata": {},
     "output_type": "execute_result"
    }
   ],
   "source": [
    "all_SEDs[0]"
   ]
  },
  {
   "cell_type": "markdown",
   "metadata": {},
   "source": [
    "### Generate values for CIGALE"
   ]
  },
  {
   "cell_type": "markdown",
   "metadata": {},
   "source": [
    "Redshift"
   ]
  },
  {
   "cell_type": "code",
   "execution_count": 3,
   "metadata": {},
   "outputs": [
    {
     "data": {
      "text/plain": [
       "'[0.0032,0.0040,0.0050,0.0063,0.0079,0.0100,0.0126,0.0158,0.0200,0.0251, 0.0316,0.0398,0.0501,0.0631,0.0794,0.1000,0.1259,0.1585,0.1995,0.2512, 0.3162,0.3981,0.5012,0.6310,0.7943,1.0000,1.2589,1.5849,1.9953,2.5119, 3.1623,3.9810,5.0118]'"
      ]
     },
     "execution_count": 3,
     "metadata": {},
     "output_type": "execute_result"
    }
   ],
   "source": [
    "onp.array2string(10.0**np.arange(-2.5,0.77,0.1), separator=',',formatter={'float_kind':lambda x: \"%.4f\" % x}).replace('\\n','')"
   ]
  },
  {
   "cell_type": "code",
   "execution_count": 5,
   "metadata": {},
   "outputs": [
    {
     "data": {
      "text/plain": [
       "'[0.1000,0.4000,0.7000,1.0000,1.3000,1.6000,1.9000,2.2000,2.5000,2.8000, 3.1000,3.4000,3.7000]'"
      ]
     },
     "execution_count": 5,
     "metadata": {},
     "output_type": "execute_result"
    }
   ],
   "source": [
    "onp.array2string(np.arange(0.1,4,0.3),separator=',',formatter={'float_kind':lambda x: \"%.4f\" % x}).replace('\\n','')"
   ]
  },
  {
   "cell_type": "markdown",
   "metadata": {},
   "source": [
    "AGN frac"
   ]
  },
  {
   "cell_type": "code",
   "execution_count": 4,
   "metadata": {},
   "outputs": [
    {
     "data": {
      "text/plain": [
       "'[0.001,0.076,0.151,0.226,0.301,0.376,0.451,0.526,0.601,0.676,0.751,0.826, 0.901,0.976]'"
      ]
     },
     "execution_count": 4,
     "metadata": {},
     "output_type": "execute_result"
    }
   ],
   "source": [
    "onp.array2string(np.arange(0.001,1,0.075),separator=',',formatter={'float_kind':lambda x: \"%.3f\" % x}).replace('\\n','')"
   ]
  },
  {
   "cell_type": "code",
   "execution_count": 14,
   "metadata": {},
   "outputs": [],
   "source": [
    "SEDs=Table.read('/Volumes/pdh_storage/cigale/out/models-block-0.fits')\n",
    "#set more appropriate units for dust\n",
    "from astropy.constants import L_sun, M_sun\n",
    "SEDs['dust.luminosity']=SEDs['dust.luminosity']/L_sun.value\n"
   ]
  },
  {
   "cell_type": "code",
   "execution_count": 15,
   "metadata": {},
   "outputs": [],
   "source": [
    "SEDs=SEDs[onp.isfinite(SEDs['spire_250'])]"
   ]
  },
  {
   "cell_type": "code",
   "execution_count": 16,
   "metadata": {},
   "outputs": [
    {
     "data": {
      "text/html": [
       "<i>Table length=766584</i>\n",
       "<table id=\"table140374676319928\" class=\"table-striped table-bordered table-condensed\">\n",
       "<thead><tr><th>id</th><th>spire_250</th><th>spire_350</th><th>spire_500</th><th>dust.luminosity</th><th>sfh.sfr</th><th>stellar.m_star</th><th>agn.fracAGN</th><th>attenuation.Av_BC</th><th>dust.alpha</th><th>sfh.tau_main</th><th>universe.redshift</th></tr></thead>\n",
       "<thead><tr><th></th><th>mJy</th><th>mJy</th><th>mJy</th><th>W</th><th>solMass / yr</th><th>solMass</th><th></th><th>mag</th><th></th><th>Myr</th><th></th></tr></thead>\n",
       "<thead><tr><th>int64</th><th>float64</th><th>float64</th><th>float64</th><th>float64</th><th>float64</th><th>float64</th><th>float64</th><th>float64</th><th>float64</th><th>float64</th><th>float64</th></tr></thead>\n",
       "<tr><td>0</td><td>6.664787981156792e-09</td><td>2.579075857126304e-09</td><td>9.154350728346564e-10</td><td>0.038722519393397305</td><td>9.100896611075192e-13</td><td>0.7106245236562091</td><td>0.001</td><td>0.1</td><td>0.0625</td><td>500.0</td><td>0.0032</td></tr>\n",
       "<tr><td>1</td><td>4.272567065611162e-09</td><td>1.6536408901353577e-09</td><td>5.87030971959381e-10</td><td>0.038722519393397305</td><td>9.100896611075192e-13</td><td>0.7106245236562091</td><td>0.001</td><td>0.1</td><td>0.0625</td><td>500.0</td><td>0.004</td></tr>\n",
       "<tr><td>2</td><td>2.7401305723303493e-09</td><td>1.0607611243982099e-09</td><td>3.766230281788533e-10</td><td>0.038722519393397305</td><td>9.100896611075192e-13</td><td>0.7106245236562091</td><td>0.001</td><td>0.1</td><td>0.0625</td><td>500.0</td><td>0.005</td></tr>\n",
       "<tr><td>3</td><td>1.7306250478806803e-09</td><td>6.701473917718022e-10</td><td>2.379845841843187e-10</td><td>0.038722519393397305</td><td>9.100896611075192e-13</td><td>0.7106245236562091</td><td>0.001</td><td>0.1</td><td>0.0625</td><td>500.0</td><td>0.0063</td></tr>\n",
       "<tr><td>4</td><td>1.1042574710404118e-09</td><td>4.277475805942584e-10</td><td>1.5194164617231545e-10</td><td>0.038722519393397305</td><td>9.100896611075192e-13</td><td>0.7106245236562091</td><td>0.001</td><td>0.1</td><td>0.0625</td><td>500.0</td><td>0.0079</td></tr>\n",
       "<tr><td>5</td><td>6.921688128956865e-10</td><td>2.682413523259305e-10</td><td>9.531300799051766e-11</td><td>0.038722519393397305</td><td>9.100896611075192e-13</td><td>0.7106245236562091</td><td>0.001</td><td>0.1</td><td>0.0625</td><td>500.0</td><td>0.01</td></tr>\n",
       "<tr><td>6</td><td>4.383324492387039e-10</td><td>1.6996450724863183e-10</td><td>6.041772738676337e-11</td><td>0.038722519393397305</td><td>9.100896611075192e-13</td><td>0.7106245236562091</td><td>0.001</td><td>0.1</td><td>0.0625</td><td>500.0</td><td>0.0126</td></tr>\n",
       "<tr><td>7</td><td>2.8060358442643693e-10</td><td>1.0887903487586143e-10</td><td>3.872338294196482e-11</td><td>0.038722519393397305</td><td>9.100896611075192e-13</td><td>0.7106245236562091</td><td>0.001</td><td>0.1</td><td>0.0625</td><td>500.0</td><td>0.0158</td></tr>\n",
       "<tr><td>8</td><td>1.76640824425344e-10</td><td>6.860116573487778e-11</td><td>2.4414330913992916e-11</td><td>0.038722519393397305</td><td>9.100896611075192e-13</td><td>0.7106245236562091</td><td>0.001</td><td>0.1</td><td>0.0625</td><td>500.0</td><td>0.02</td></tr>\n",
       "<tr><td>...</td><td>...</td><td>...</td><td>...</td><td>...</td><td>...</td><td>...</td><td>...</td><td>...</td><td>...</td><td>...</td><td>...</td></tr>\n",
       "<tr><td>936920</td><td>4.180120188131009e-09</td><td>2.279554068131366e-09</td><td>8.862791987996791e-10</td><td>2.7215645330526343</td><td>3.043543887708004e-10</td><td>0.7458014251288891</td><td>0.976</td><td>3.7</td><td>3.8125</td><td>6500.0</td><td>0.1585</td></tr>\n",
       "<tr><td>936921</td><td>2.6973612030185035e-09</td><td>1.53319068418658e-09</td><td>6.107980206774365e-10</td><td>2.7215645330526343</td><td>3.043543887708004e-10</td><td>0.7458014251288891</td><td>0.976</td><td>3.7</td><td>3.8125</td><td>6500.0</td><td>0.1995</td></tr>\n",
       "<tr><td>936922</td><td>1.739194959219224e-09</td><td>1.0405509059273366e-09</td><td>4.2836867144943303e-10</td><td>2.7215645330526343</td><td>3.043543887708004e-10</td><td>0.7458014251288891</td><td>0.976</td><td>3.7</td><td>3.8125</td><td>6500.0</td><td>0.2512</td></tr>\n",
       "<tr><td>936923</td><td>1.1203244047978009e-09</td><td>7.117275303365271e-10</td><td>3.0684724728393533e-10</td><td>2.7215645330526343</td><td>3.043543887708004e-10</td><td>0.7458014251288891</td><td>0.976</td><td>3.7</td><td>3.8125</td><td>6500.0</td><td>0.3162</td></tr>\n",
       "<tr><td>936924</td><td>7.184718848946818e-10</td><td>4.904663179404575e-10</td><td>2.2385185558941362e-10</td><td>2.7215645330526343</td><td>3.043543887708004e-10</td><td>0.7458014251288891</td><td>0.976</td><td>3.7</td><td>3.8125</td><td>6500.0</td><td>0.3981</td></tr>\n",
       "<tr><td>936925</td><td>4.5472465481360163e-10</td><td>3.4056288922272863e-10</td><td>1.6601722094507004e-10</td><td>2.7215645330526343</td><td>3.043543887708004e-10</td><td>0.7458014251288891</td><td>0.976</td><td>3.7</td><td>3.8125</td><td>6500.0</td><td>0.5012</td></tr>\n",
       "<tr><td>936926</td><td>2.809778318620063e-10</td><td>2.365965208434481e-10</td><td>1.2557261930427586e-10</td><td>2.7215645330526343</td><td>3.043543887708004e-10</td><td>0.7458014251288891</td><td>0.976</td><td>3.7</td><td>3.8125</td><td>6500.0</td><td>0.631</td></tr>\n",
       "<tr><td>936927</td><td>1.6942009956054125e-10</td><td>1.6188532123400123e-10</td><td>9.648888800160375e-11</td><td>2.7215645330526343</td><td>3.043543887708004e-10</td><td>0.7458014251288891</td><td>0.976</td><td>3.7</td><td>3.8125</td><td>6500.0</td><td>0.7943</td></tr>\n",
       "<tr><td>936928</td><td>9.770824072814998e-11</td><td>1.0890000383211227e-10</td><td>7.3871444850475e-11</td><td>2.7215645330526343</td><td>3.043543887708004e-10</td><td>0.7458014251288891</td><td>0.976</td><td>3.7</td><td>3.8125</td><td>6500.0</td><td>1.0</td></tr>\n",
       "<tr><td>936929</td><td>5.431522249781972e-11</td><td>7.013899714623192e-11</td><td>5.648483209645334e-11</td><td>2.7215645330526343</td><td>3.043543887708004e-10</td><td>0.7458014251288891</td><td>0.976</td><td>3.7</td><td>3.8125</td><td>6500.0</td><td>1.2589</td></tr>\n",
       "</table>"
      ],
      "text/plain": [
       "<Table length=766584>\n",
       "  id         spire_250        ... sfh.tau_main universe.redshift\n",
       "                mJy           ...     Myr                       \n",
       "int64         float64         ...   float64         float64     \n",
       "------ ---------------------- ... ------------ -----------------\n",
       "     0  6.664787981156792e-09 ...        500.0            0.0032\n",
       "     1  4.272567065611162e-09 ...        500.0             0.004\n",
       "     2 2.7401305723303493e-09 ...        500.0             0.005\n",
       "     3 1.7306250478806803e-09 ...        500.0            0.0063\n",
       "     4 1.1042574710404118e-09 ...        500.0            0.0079\n",
       "     5  6.921688128956865e-10 ...        500.0              0.01\n",
       "     6  4.383324492387039e-10 ...        500.0            0.0126\n",
       "     7 2.8060358442643693e-10 ...        500.0            0.0158\n",
       "     8   1.76640824425344e-10 ...        500.0              0.02\n",
       "   ...                    ... ...          ...               ...\n",
       "936920  4.180120188131009e-09 ...       6500.0            0.1585\n",
       "936921 2.6973612030185035e-09 ...       6500.0            0.1995\n",
       "936922  1.739194959219224e-09 ...       6500.0            0.2512\n",
       "936923 1.1203244047978009e-09 ...       6500.0            0.3162\n",
       "936924  7.184718848946818e-10 ...       6500.0            0.3981\n",
       "936925 4.5472465481360163e-10 ...       6500.0            0.5012\n",
       "936926  2.809778318620063e-10 ...       6500.0             0.631\n",
       "936927 1.6942009956054125e-10 ...       6500.0            0.7943\n",
       "936928  9.770824072814998e-11 ...       6500.0               1.0\n",
       "936929  5.431522249781972e-11 ...       6500.0            1.2589"
      ]
     },
     "execution_count": 16,
     "metadata": {},
     "output_type": "execute_result"
    }
   ],
   "source": [
    "SEDs"
   ]
  },
  {
   "cell_type": "code",
   "execution_count": 8,
   "metadata": {},
   "outputs": [],
   "source": [
    "from astropy.table import vstack"
   ]
  },
  {
   "cell_type": "code",
   "execution_count": 24,
   "metadata": {},
   "outputs": [
    {
     "data": {
      "text/plain": [
       "DeviceArray([1.0000000e+08, 1.0000000e+08, 1.0000000e+08, ...,\n",
       "             5.6234133e+13, 5.6234133e+13, 5.6234133e+13], dtype=float32)"
      ]
     },
     "execution_count": 24,
     "metadata": {},
     "output_type": "execute_result"
    }
   ],
   "source": [
    "(1.0/dataset['sfh.sfr'])*dataset['sfh.sfr']*10.0**scale_table"
   ]
  },
  {
   "cell_type": "code",
   "execution_count": 25,
   "metadata": {},
   "outputs": [],
   "source": [
    "# define a range of scales\n",
    "scale=np.arange(8,14,0.25)\n",
    "#repeat the SED table by the number of scale steps\n",
    "dataset=vstack([SEDs for i in range(0,scale.size)])\n",
    "#repeat the scale range by the number of entries in table (so I can easily multiply each column)\n",
    "scale_table=np.repeat(scale,len(SEDs))\n",
    "#parameters to scale\n",
    "col_scale=['spire_250','spire_350','spire_500','dust.luminosity','sfh.sfr','stellar.m_star']\n",
    "for c in col_scale:\n",
    "    dataset[c]=dataset[c]*10.0**scale_table\n",
    "dataset['log10_sfh.sfr']=onp.log10(dataset['sfh.sfr'])\n",
    "dataset['log10_universe.redshift']=onp.log10(dataset['universe.redshift'])\n",
    "# transform AGN fraction to logit scale\n",
    "dataset['logit_agnfrac']=onp.log(dataset['agn.fracAGN']/(1-dataset['agn.fracAGN']))\n",
    "#shuffle dataset\n",
    "dataset=dataset[onp.random.choice(len(dataset), len(dataset), replace=False)]"
   ]
  },
  {
   "cell_type": "code",
   "execution_count": 26,
   "metadata": {},
   "outputs": [
    {
     "data": {
      "image/png": "[encoded data removed]",
      "text/plain": [
       "<Figure size 432x288 with 1 Axes>"
      ]
     },
     "metadata": {
      "needs_background": "light"
     },
     "output_type": "display_data"
    }
   ],
   "source": [
    "plt.hist(dataset['log10_sfh.sfr'],bins=(np.arange(0,14)));\n"
   ]
  },
  {
   "cell_type": "code",
   "execution_count": 27,
   "metadata": {},
   "outputs": [
    {
     "data": {
      "text/html": [
       "<i>Table length=18398016</i>\n",
       "<table id=\"table140374676318752\" class=\"table-striped table-bordered table-condensed\">\n",
       "<thead><tr><th>id</th><th>spire_250</th><th>spire_350</th><th>spire_500</th><th>dust.luminosity</th><th>sfh.sfr</th><th>stellar.m_star</th><th>agn.fracAGN</th><th>attenuation.Av_BC</th><th>dust.alpha</th><th>sfh.tau_main</th><th>universe.redshift</th><th>log10_sfh.sfr</th><th>log10_universe.redshift</th><th>logit_agnfrac</th></tr></thead>\n",
       "<thead><tr><th></th><th></th><th></th><th></th><th></th><th></th><th></th><th></th><th>mag</th><th></th><th>Myr</th><th></th><th></th><th></th><th></th></tr></thead>\n",
       "<thead><tr><th>int64</th><th>float32</th><th>float32</th><th>float32</th><th>float32</th><th>float32</th><th>float32</th><th>float64</th><th>float64</th><th>float64</th><th>float64</th><th>float64</th><th>float32</th><th>float64</th><th>float64</th></tr></thead>\n",
       "<tr><td>490252</td><td>1160.6235</td><td>483.27942</td><td>163.47063</td><td>6990731300.0</td><td>0.740176</td><td>2342796500.0</td><td>0.151</td><td>3.1</td><td>1.8125</td><td>3500.0</td><td>0.0079</td><td>-0.13066499</td><td>-2.1023729087095586</td><td>-1.726779349496423</td></tr>\n",
       "<tr><td>428429</td><td>0.006685692</td><td>0.0031328278</td><td>0.0012310973</td><td>370134140.0</td><td>0.037604094</td><td>131436680.0</td><td>0.301</td><td>3.7</td><td>1.0625</td><td>3000.0</td><td>0.631</td><td>-1.4247649</td><td>-0.19997064075586568</td><td>-0.8425404774849347</td></tr>\n",
       "<tr><td>652959</td><td>31.126167</td><td>20.64707</td><td>9.253553</td><td>128308100000.0</td><td>49.521706</td><td>132313310000.0</td><td>0.301</td><td>0.1</td><td>3.0625</td><td>5000.0</td><td>0.3981</td><td>1.6947956</td><td>-0.40000782241590205</td><td>-0.8425404774849347</td></tr>\n",
       "<tr><td>442192</td><td>0.079513066</td><td>0.0880193</td><td>0.057997216</td><td>2390347000.0</td><td>0.41623157</td><td>1317451300.0</td><td>0.076</td><td>0.4</td><td>3.0625</td><td>3500.0</td><td>1.0</td><td>-0.38066497</td><td>0.0</td><td>-2.497978731355353</td></tr>\n",
       "<tr><td>731545</td><td>3343.0225</td><td>1588.2834</td><td>559.03064</td><td>1607026000.0</td><td>0.2885123</td><td>744739500.0</td><td>0.451</td><td>0.4</td><td>3.8125</td><td>5500.0</td><td>0.004</td><td>-0.5398357</td><td>-2.3979400086720375</td><td>-0.19663110200685208</td></tr>\n",
       "<tr><td>297069</td><td>64940.26</td><td>29118.043</td><td>10031.254</td><td>109114300000.0</td><td>18.232462</td><td>73675686000.0</td><td>0.001</td><td>0.4</td><td>2.4375</td><td>2500.0</td><td>0.0063</td><td>1.2608453</td><td>-2.2006594505464183</td><td>-6.906754778648554</td></tr>\n",
       "<tr><td>651641</td><td>15.117687</td><td>10.061898</td><td>4.695546</td><td>228167660000.0</td><td>88.06343</td><td>235290030000.0</td><td>0.451</td><td>0.1</td><td>2.0625</td><td>5000.0</td><td>0.631</td><td>1.9447956</td><td>-0.19997064075586568</td><td>-0.19663110200685208</td></tr>\n",
       "<tr><td>422446</td><td>1345.552</td><td>524.6432</td><td>184.69086</td><td>2069125900000.0</td><td>211.46336</td><td>739122800000.0</td><td>0.376</td><td>3.4</td><td>0.8125</td><td>3000.0</td><td>0.0631</td><td>2.3252351</td><td>-1.1999706407558657</td><td>-0.5065612249795332</td></tr>\n",
       "<tr><td>15840</td><td>10975444.0</td><td>5164211.5</td><td>1809722.2</td><td>3510720300000.0</td><td>16.183937</td><td>12636890000000.0</td><td>0.301</td><td>0.7</td><td>3.4375</td><td>500.0</td><td>0.0032</td><td>1.2090842</td><td>-2.494850021680094</td><td>-0.8425404774849347</td></tr>\n",
       "<tr><td>...</td><td>...</td><td>...</td><td>...</td><td>...</td><td>...</td><td>...</td><td>...</td><td>...</td><td>...</td><td>...</td><td>...</td><td>...</td><td>...</td><td>...</td></tr>\n",
       "<tr><td>910821</td><td>0.28527886</td><td>0.12397792</td><td>0.046376057</td><td>8344027600.0</td><td>0.962453</td><td>2358431200.0</td><td>0.451</td><td>2.5</td><td>1.0625</td><td>6500.0</td><td>0.3981</td><td>-0.016620466</td><td>-0.40000782241590205</td><td>-0.19663110200685208</td></tr>\n",
       "<tr><td>58962</td><td>65.922844</td><td>54.73664</td><td>29.82822</td><td>1228408800000.0</td><td>2.8779564</td><td>2247192000000.0</td><td>0.601</td><td>3.1</td><td>2.4375</td><td>500.0</td><td>0.7943</td><td>0.4590842</td><td>-0.100015437450609</td><td>0.409633517645344</td></tr>\n",
       "<tr><td>629153</td><td>20246.586</td><td>8485.822</td><td>2887.1501</td><td>762779100000.0</td><td>84.27728</td><td>235025710000.0</td><td>0.826</td><td>2.8</td><td>1.8125</td><td>4500.0</td><td>0.02</td><td>1.9257106</td><td>-1.6989700043360187</td><td>1.5575394743064488</td></tr>\n",
       "<tr><td>312169</td><td>71.154</td><td>31.868464</td><td>12.169908</td><td>2863594200000.0</td><td>324.2241</td><td>1310159500000.0</td><td>0.676</td><td>1.3</td><td>1.0625</td><td>2500.0</td><td>0.5012</td><td>2.5108452</td><td>-0.29998893767788765</td><td>0.7354495602506349</td></tr>\n",
       "<tr><td>756017</td><td>0.033807244</td><td>0.015279059</td><td>0.005686972</td><td>435289900.0</td><td>0.051305547</td><td>132435496.0</td><td>0.376</td><td>1.9</td><td>1.4375</td><td>5500.0</td><td>0.3162</td><td>-1.2898357</td><td>-0.5000381344038097</td><td>-0.5065612249795332</td></tr>\n",
       "<tr><td>793732</td><td>0.24976146</td><td>0.09897569</td><td>0.035220087</td><td>1360693600.0</td><td>0.5282062</td><td>1325376600.0</td><td>0.001</td><td>0.1</td><td>0.8125</td><td>6000.0</td><td>0.1259</td><td>-0.27719647</td><td>-0.8999742698921374</td><td>-6.906754778648554</td></tr>\n",
       "<tr><td>686684</td><td>93.57015</td><td>59.161423</td><td>25.373728</td><td>238183660000.0</td><td>27.8481</td><td>74405240000.0</td><td>0.301</td><td>1.9</td><td>3.4375</td><td>5000.0</td><td>0.3162</td><td>1.4447956</td><td>-0.5000381344038097</td><td>-0.8425404774849347</td></tr>\n",
       "<tr><td>381481</td><td>317.95352</td><td>147.73785</td><td>51.53464</td><td>168833300.0</td><td>0.021146337</td><td>73912280.0</td><td>0.751</td><td>1.0</td><td>3.0625</td><td>3000.0</td><td>0.004</td><td>-1.6747649</td><td>-2.3979400086720375</td><td>1.1039527552994273</td></tr>\n",
       "<tr><td>278641</td><td>69.425896</td><td>31.19034</td><td>11.923465</td><td>2824174600000.0</td><td>256.11032</td><td>1304143600000.0</td><td>0.076</td><td>3.4</td><td>1.0625</td><td>2000.0</td><td>0.5012</td><td>2.408427</td><td>-0.29998893767788765</td><td>-2.497978731355353</td></tr>\n",
       "<tr><td>631975</td><td>4519.575</td><td>5312.5625</td><td>3645.5122</td><td>135643430000000.0</td><td>14986.8545</td><td>41794140000000.0</td><td>0.901</td><td>2.8</td><td>3.8125</td><td>4500.0</td><td>1.0</td><td>4.1757107</td><td>0.0</td><td>2.2083854074737483</td></tr>\n",
       "</table>"
      ],
      "text/plain": [
       "<Table length=18398016>\n",
       "  id    spire_250   spire_350   ... log10_universe.redshift    logit_agnfrac    \n",
       "                                ...                                             \n",
       "int64    float32     float32    ...         float64               float64       \n",
       "------ ----------- ------------ ... ----------------------- --------------------\n",
       "490252   1160.6235    483.27942 ...     -2.1023729087095586   -1.726779349496423\n",
       "428429 0.006685692 0.0031328278 ...    -0.19997064075586568  -0.8425404774849347\n",
       "652959   31.126167     20.64707 ...    -0.40000782241590205  -0.8425404774849347\n",
       "442192 0.079513066    0.0880193 ...                     0.0   -2.497978731355353\n",
       "731545   3343.0225    1588.2834 ...     -2.3979400086720375 -0.19663110200685208\n",
       "297069    64940.26    29118.043 ...     -2.2006594505464183   -6.906754778648554\n",
       "651641   15.117687    10.061898 ...    -0.19997064075586568 -0.19663110200685208\n",
       "422446    1345.552     524.6432 ...     -1.1999706407558657  -0.5065612249795332\n",
       " 15840  10975444.0    5164211.5 ...      -2.494850021680094  -0.8425404774849347\n",
       "   ...         ...          ... ...                     ...                  ...\n",
       "910821  0.28527886   0.12397792 ...    -0.40000782241590205 -0.19663110200685208\n",
       " 58962   65.922844     54.73664 ...      -0.100015437450609    0.409633517645344\n",
       "629153   20246.586     8485.822 ...     -1.6989700043360187   1.5575394743064488\n",
       "312169      71.154    31.868464 ...    -0.29998893767788765   0.7354495602506349\n",
       "756017 0.033807244  0.015279059 ...     -0.5000381344038097  -0.5065612249795332\n",
       "793732  0.24976146   0.09897569 ...     -0.8999742698921374   -6.906754778648554\n",
       "686684    93.57015    59.161423 ...     -0.5000381344038097  -0.8425404774849347\n",
       "381481   317.95352    147.73785 ...     -2.3979400086720375   1.1039527552994273\n",
       "278641   69.425896     31.19034 ...    -0.29998893767788765   -2.497978731355353\n",
       "631975    4519.575    5312.5625 ...                     0.0   2.2083854074737483"
      ]
     },
     "execution_count": 27,
     "metadata": {},
     "output_type": "execute_result"
    }
   ],
   "source": [
    "dataset"
   ]
  },
  {
   "cell_type": "markdown",
   "metadata": {},
   "source": [
    "## DeepNet building\n",
    "I will build a multi input, multi output deepnet model as my emulator, with parameters as input and the observed flux as outputs. I will train on log10 flux to make the model easier to train, and have already standarised the input parameters. I wilkl be using `stax` which can be thought of as the `Keras` equivalent for `JAX`. This [blog](https://blog.evjang.com/2019/02/maml-jax.html) was useful starting point."
   ]
  },
  {
   "cell_type": "markdown",
   "metadata": {},
   "source": [
    "I will use batches to help train the network"
   ]
  },
  {
   "cell_type": "code",
   "execution_count": 38,
   "metadata": {},
   "outputs": [],
   "source": [
    "dataset=dataset[0:18000000]"
   ]
  },
  {
   "cell_type": "code",
   "execution_count": 40,
   "metadata": {},
   "outputs": [
    {
     "data": {
      "text/plain": [
       "15000.0"
      ]
     },
     "execution_count": 40,
     "metadata": {},
     "output_type": "execute_result"
    }
   ],
   "source": [
    "len(dataset)/1200"
   ]
  },
  {
   "cell_type": "code",
   "execution_count": 41,
   "metadata": {},
   "outputs": [],
   "source": [
    "split=0.75\n",
    "inner_batch_size=1200\n",
    "\n",
    "train_ind=onp.round(0.75*len(dataset)).astype(int)\n",
    "train=dataset[0:train_ind]\n",
    "validation=dataset[train_ind:]\n",
    "input_cols=['log10_sfh.sfr','agn.fracAGN','universe.redshift', 'attenuation.Av_BC','dust.alpha','sfh.tau_main']\n",
    "output_cols=['spire_250','spire_350','spire_500']\n",
    "train_batch_X=np.asarray([i.data for i in train[input_cols].values()]).reshape(len(input_cols)\n",
    "                                                                               ,inner_batch_size,onp.round(len(train)/inner_batch_size).astype(int)).T.astype(float)\n",
    "train_batch_Y=np.asarray([np.log(i.data) for i in train[output_cols].values()]).reshape(len(output_cols),\n",
    "                                                                                          inner_batch_size,onp.round(len(train)/inner_batch_size).astype(int)).T.astype(float)\n",
    "validation_batch_X=np.asarray([i.data for i in validation[input_cols].values()]).reshape(len(input_cols)\n",
    "                                                                               ,inner_batch_size,onp.round(len(validation)/inner_batch_size).astype(int)).T.astype(float)\n",
    "validation_batch_Y=np.asarray([np.log(i.data) for i in validation[output_cols].values()]).reshape(len(output_cols),\n",
    "                                                                                          inner_batch_size,onp.round(len(validation)/inner_batch_size).astype(int)).T.astype(float)"
   ]
  },
  {
   "cell_type": "code",
   "execution_count": 42,
   "metadata": {},
   "outputs": [],
   "source": [
    "# Use stax to set up network initialization and evaluation functions\n",
    "net_init, net_apply = stax.serial(\n",
    "    Dense(128), LeakyRelu,\n",
    "    Dense(128), LeakyRelu,\n",
    "    Dense(128), LeakyRelu,\n",
    "    Dense(128), Relu,\n",
    "    Dense(len(output_cols))\n",
    ")\n",
    "in_shape = (-1, len(input_cols),)\n",
    "out_shape, net_params = net_init(key,in_shape)"
   ]
  },
  {
   "cell_type": "code",
   "execution_count": null,
   "metadata": {},
   "outputs": [],
   "source": []
  },
  {
   "cell_type": "code",
   "execution_count": 43,
   "metadata": {},
   "outputs": [],
   "source": [
    "def loss(params, inputs, targets):\n",
    "    # Computes average loss for the batch\n",
    "    predictions = net_apply(params, inputs)\n",
    "    return np.mean((targets - predictions)**2)\n",
    "\n",
    "def batch_loss(p,x_b,y_b):\n",
    "    loss_b=vmap(partial(loss,p))(x_b,y_b)\n",
    "    return np.mean(loss_b)"
   ]
  },
  {
   "cell_type": "code",
   "execution_count": null,
   "metadata": {},
   "outputs": [
    {
     "name": "stdout",
     "output_type": "stream",
     "text": [
      "0\n"
     ]
    }
   ],
   "source": [
    "opt_init, opt_update, get_params= optimizers.adam(step_size=5e-4)\n",
    "out_shape, net_params = net_init(key,in_shape)\n",
    "opt_state = opt_init(net_params)\n",
    "\n",
    "@jit\n",
    "def step(i, opt_state, x1, y1):\n",
    "    p = get_params(opt_state)\n",
    "    g = grad(batch_loss)(p, x1, y1)\n",
    "    loss_tmp=batch_loss(p,x1,y1)\n",
    "    return opt_update(i, g, opt_state),loss_tmp\n",
    "\n",
    "np_batched_loss_1 = []\n",
    "valid_loss=[]\n",
    "for i in range(10000):\n",
    "    opt_state, l = step(i, opt_state, train_batch_X, train_batch_Y)\n",
    "    p = get_params(opt_state)\n",
    "    valid_loss.append(batch_loss(p,validation_batch_X,validation_batch_Y))\n",
    "    np_batched_loss_1.append(l)\n",
    "    if i % 100 == 0:\n",
    "        print(i)\n",
    "net_params = get_params(opt_state)"
   ]
  },
  {
   "cell_type": "code",
   "execution_count": null,
   "metadata": {},
   "outputs": [],
   "source": [
    "for i in range(2000):\n",
    "    opt_state, l = step(i, opt_state, train_batch_X, train_batch_Y)\n",
    "    p = get_params(opt_state)\n",
    "    valid_loss.append(batch_loss(p,validation_batch_X,validation_batch_Y))\n",
    "    np_batched_loss_1.append(l)\n",
    "    if i % 100 == 0:\n",
    "        print(i)\n",
    "net_params = get_params(opt_state)"
   ]
  },
  {
   "cell_type": "code",
   "execution_count": 52,
   "metadata": {},
   "outputs": [
    {
     "data": {
      "text/plain": [
       "<matplotlib.legend.Legend at 0x7fbc8e8fedd8>"
      ]
     },
     "execution_count": 52,
     "metadata": {},
     "output_type": "execute_result"
    },
    {
     "data": {
      "image/png": "[encoded data removed]",
      "text/plain": [
       "<Figure size 1440x720 with 1 Axes>"
      ]
     },
     "metadata": {
      "needs_background": "light"
     },
     "output_type": "display_data"
    }
   ],
   "source": [
    "plt.figure(figsize=(20,10))\n",
    "plt.semilogy(np_batched_loss_1,label='Training loss')\n",
    "plt.semilogy(valid_loss,label='Validation loss')\n",
    "plt.xlabel('Iteration')\n",
    "plt.ylabel('Loss (MSE)')\n",
    "plt.legend()\n"
   ]
  },
  {
   "cell_type": "markdown",
   "metadata": {},
   "source": [
    "## Investigate performance of each band of emulator\n",
    "To visulise performance of the trainied emulator, I will show the difference between real and emulated for each band."
   ]
  },
  {
   "cell_type": "code",
   "execution_count": 53,
   "metadata": {},
   "outputs": [],
   "source": [
    "net_params = get_params(opt_state)\n",
    "predictions = net_apply(net_params,validation_batch_X)"
   ]
  },
  {
   "cell_type": "code",
   "execution_count": 54,
   "metadata": {},
   "outputs": [
    {
     "data": {
      "text/plain": [
       "(41, 1200, 3)"
      ]
     },
     "execution_count": 54,
     "metadata": {},
     "output_type": "execute_result"
    }
   ],
   "source": [
    "validation_batch_X.shape"
   ]
  },
  {
   "cell_type": "code",
   "execution_count": 55,
   "metadata": {},
   "outputs": [
    {
     "data": {
      "text/plain": [
       "(1200, 3)"
      ]
     },
     "execution_count": 55,
     "metadata": {},
     "output_type": "execute_result"
    }
   ],
   "source": [
    "validation_batch_X[0,:,:].shape"
   ]
  },
  {
   "cell_type": "code",
   "execution_count": 56,
   "metadata": {},
   "outputs": [
    {
     "data": {
      "image/png": "[encoded data removed]",
      "text/plain": [
       "<Figure size 3600x216 with 3 Axes>"
      ]
     },
     "metadata": {
      "needs_background": "light"
     },
     "output_type": "display_data"
    }
   ],
   "source": [
    "res=((np.exp(predictions)-np.exp(validation_batch_Y))/(np.exp(validation_batch_Y)))\n",
    "fig,axes=plt.subplots(1,len(output_cols),figsize=(50,len(output_cols)))\n",
    "for i in range(0,len(output_cols)):\n",
    "    axes[i].hist(res[:,:,i].flatten()*100.0,np.arange(-10,10,0.1))\n",
    "    axes[i].set_title(output_cols[i])\n",
    "    axes[i].set_xlabel(r'$\\frac{f_{pred} - f_{True}}{f_{True}} \\ \\%$ error')\n",
    "plt.subplots_adjust(wspace=0.5)"
   ]
  },
  {
   "cell_type": "markdown",
   "metadata": {},
   "source": [
    "## Save network\n",
    "Having trained and validated network, I need to save the network and relevant functions"
   ]
  },
  {
   "cell_type": "code",
   "execution_count": 57,
   "metadata": {},
   "outputs": [],
   "source": [
    "import cloudpickle\n"
   ]
  },
  {
   "cell_type": "code",
   "execution_count": 58,
   "metadata": {},
   "outputs": [
    {
     "data": {
      "text/plain": [
       "(<function jax.experimental.stax.serial.<locals>.init_fun(rng, input_shape)>,\n",
       " <function jax.experimental.stax.serial.<locals>.apply_fun(params, inputs, **kwargs)>)"
      ]
     },
     "execution_count": 58,
     "metadata": {},
     "output_type": "execute_result"
    }
   ],
   "source": [
    "with open('CIGALE_emulator_20210330_log10sfr_uniformAGN_z.pkl', 'wb') as f:\n",
    "    cloudpickle.dump({'net_init':net_init,'net_apply': net_apply,'params':net_params}, f)\n",
    "    \n",
    "net_init, net_apply"
   ]
  },
  {
   "cell_type": "markdown",
   "metadata": {},
   "source": [
    "## Does SED look right?"
   ]
  },
  {
   "cell_type": "code",
   "execution_count": 59,
   "metadata": {},
   "outputs": [],
   "source": [
    "wave=np.array([250,350,500])"
   ]
  },
  {
   "cell_type": "code",
   "execution_count": 63,
   "metadata": {},
   "outputs": [
    {
     "data": {
      "text/plain": [
       "[<matplotlib.lines.Line2D at 0x7fbc8a5d20b8>]"
      ]
     },
     "execution_count": 63,
     "metadata": {},
     "output_type": "execute_result"
    },
    {
     "data": {
      "image/png": "[encoded data removed]",
      "text/plain": [
       "<Figure size 432x288 with 1 Axes>"
      ]
     },
     "metadata": {
      "needs_background": "light"
     },
     "output_type": "display_data"
    }
   ],
   "source": [
    "plt.loglog(wave,np.exp(net_apply(net_params,np.array([2.95, 0.801, 0.1]))),'o')\n",
    "#plt.loglog(wave,10.0**net_apply(net_params,np.array([3.0,0.0,0.0])),'o')\n",
    "plt.loglog(wave,dataset[(dataset['universe.redshift']==0.1) & (dataset['agn.fracAGN'] == 0.801) & (dataset['sfh.sfr']>900) & (dataset['sfh.sfr']<1100)][output_cols].values())"
   ]
  },
  {
   "cell_type": "code",
   "execution_count": 65,
   "metadata": {},
   "outputs": [
    {
     "data": {
      "text/html": [
       "<i>Table length=1</i>\n",
       "<table id=\"table140447713941040\" class=\"table-striped table-bordered table-condensed\">\n",
       "<thead><tr><th>id</th><th>IRAC1</th><th>megacam_g</th><th>megacam_i</th><th>megacam_r</th><th>megacam_u</th><th>megacam_y</th><th>megacam_z</th><th>mips_24</th><th>spire_250</th><th>spire_350</th><th>spire_500</th><th>dust.luminosity</th><th>dust.mass</th><th>sfh.sfr</th><th>stellar.m_star</th><th>agn.fracAGN</th><th>attenuation.BC_to_ISM_factor</th><th>attenuation.bessell_b</th><th>attenuation.galex_fuv</th><th>attenuation.slope_BC</th><th>attenuation.slope_ISM</th><th>dust.qpah</th><th>dust.umin</th><th>sfh.age</th><th>sfh.burst_age</th><th>sfh.f_burst</th><th>sfh.tau_main</th><th>universe.redshift</th><th>log10_sfh.sfr</th><th>log10_universe.redshift</th><th>logit_agnfrac</th></tr></thead>\n",
       "<thead><tr><th></th><th></th><th></th><th></th><th></th><th></th><th></th><th></th><th></th><th></th><th></th><th></th><th></th><th></th><th></th><th></th><th></th><th></th><th>mag</th><th>mag</th><th>mag</th><th></th><th></th><th></th><th>Myr</th><th></th><th></th><th></th><th></th><th></th><th></th><th></th></tr></thead>\n",
       "<thead><tr><th>int64</th><th>float32</th><th>float32</th><th>float32</th><th>float32</th><th>float32</th><th>float32</th><th>float32</th><th>float32</th><th>float32</th><th>float32</th><th>float32</th><th>float32</th><th>float32</th><th>float32</th><th>float32</th><th>float64</th><th>float64</th><th>float64</th><th>float64</th><th>float64</th><th>float64</th><th>float64</th><th>float64</th><th>float64</th><th>float64</th><th>float64</th><th>float64</th><th>float64</th><th>float32</th><th>float64</th><th>float64</th></tr></thead>\n",
       "<tr><td>2699</td><td>3561.7131</td><td>0.81075984</td><td>2.373399</td><td>1.5528784</td><td>0.25492316</td><td>2.4790812</td><td>3.5117917</td><td>12396.599</td><td>8839.021</td><td>3535.3625</td><td>1214.4366</td><td>8037312500000.0</td><td>4314639400.0</td><td>904.5928</td><td>175056060000.0</td><td>0.801</td><td>0.5</td><td>4.376290746740257</td><td>9.392077535240679</td><td>-0.7</td><td>-0.7</td><td>1.12</td><td>10.0</td><td>1000.0</td><td>50.0</td><td>0.1</td><td>3000.0</td><td>0.1</td><td>2.956453</td><td>-1.0</td><td>1.3925561223438672</td></tr>\n",
       "</table>"
      ],
      "text/plain": [
       "<Table length=1>\n",
       "  id    IRAC1   megacam_g  ... log10_universe.redshift   logit_agnfrac   \n",
       "                           ...                                           \n",
       "int64  float32   float32   ...         float64              float64      \n",
       "----- --------- ---------- ... ----------------------- ------------------\n",
       " 2699 3561.7131 0.81075984 ...                    -1.0 1.3925561223438672"
      ]
     },
     "execution_count": 65,
     "metadata": {},
     "output_type": "execute_result"
    }
   ],
   "source": [
    "dataset[(dataset['universe.redshift']==0.1) & (dataset['agn.fracAGN'] == 0.801) & (dataset['sfh.sfr']>900) & (dataset['sfh.sfr']<1100)]"
   ]
  },
  {
   "cell_type": "code",
   "execution_count": 1,
   "metadata": {},
   "outputs": [
    {
     "name": "stderr",
     "output_type": "stream",
     "text": [
      "/Users/pdh21/anaconda3/envs/xidplus/lib/python3.6/site-packages/dask/config.py:168: YAMLLoadWarning: calling yaml.load() without Loader=... is deprecated, as the default Loader is unsafe. Please read https://msg.pyyaml.org/load for full details.\n",
      "  data = yaml.load(f.read()) or {}\n",
      "WARNING: AstropyDeprecationWarning: block_reduce was moved to the astropy.nddata.blocks module.  Please update your import statement. [astropy.nddata.utils]\n"
     ]
    }
   ],
   "source": [
    "import xidplus"
   ]
  },
  {
   "cell_type": "code",
   "execution_count": 2,
   "metadata": {},
   "outputs": [],
   "source": [
    "from xidplus.numpyro_fit.misc import load_emulator"
   ]
  },
  {
   "cell_type": "code",
   "execution_count": 4,
   "metadata": {},
   "outputs": [],
   "source": [
    "obj=load_emulator('CIGALE_emulator_20210330_log10sfr_uniformAGN_z.pkl')"
   ]
  },
  {
   "cell_type": "code",
   "execution_count": 6,
   "metadata": {},
   "outputs": [
    {
     "data": {
      "text/plain": [
       "list"
      ]
     },
     "execution_count": 6,
     "metadata": {},
     "output_type": "execute_result"
    }
   ],
   "source": [
    "type(obj['params'])"
   ]
  },
  {
   "cell_type": "code",
   "execution_count": 7,
   "metadata": {},
   "outputs": [],
   "source": [
    "import json"
   ]
  },
  {
   "cell_type": "code",
   "execution_count": 9,
   "metadata": {},
   "outputs": [],
   "source": [
    "import numpy as np"
   ]
  },
  {
   "cell_type": "code",
   "execution_count": 35,
   "metadata": {},
   "outputs": [],
   "source": [
    "np.savez('CIGALE_emulator_20210610_kasia',obj['params'],allow_pickle=True)"
   ]
  },
  {
   "cell_type": "code",
   "execution_count": 34,
   "metadata": {},
   "outputs": [
    {
     "name": "stdout",
     "output_type": "stream",
     "text": [
      "CIGALE_emulator_20210303.pkl\n",
      "CIGALE_emulator_20210305.pkl\n",
      "CIGALE_emulator_20210310_log10sfr_uniformAGN_log10z.pkl\n",
      "CIGALE_emulator_20210311_log10sfr_uniformAGN_log10z_irac1.pkl\n",
      "CIGALE_emulator_20210315_log10sfr_uniformAGN_log10z_irac1_megacam.pkl\n",
      "CIGALE_emulator_20210329_log10sfr_uniformAGN_z_log_irac1_megacam.pkl\n",
      "CIGALE_emulator_20210330_log10sfr_uniformAGN_z.pkl\n",
      "CIGALE_emulator_20210420_log10sfr_uniformAGN_z.pkl.npz\n",
      "GB_emulator_20210106.pkl\n",
      "GB_emulator_20210209.pkl\n",
      "GB_emulator_20210323.pkl\n",
      "GB_emulator_20210324_notlog10z_T.pkl\n",
      "Greybody_emulator.ipynb\n",
      "JAX_CIGALE_emulator.ipynb\n",
      "JAX_greybody_emulator.ipynb\n",
      "Prior_pred_fits_0.pkl\n",
      "Prior_pred_fits_1.pkl\n",
      "Prior_pred_fits_2.pkl\n",
      "Prior_pred_fits_3.pkl\n",
      "Prior_pred_fits_4.pkl\n",
      "Prior_pred_fits_5.pkl\n",
      "Prior_pred_fits_6.pkl\n",
      "Prior_pred_fits_7.pkl\n",
      "Prior_pred_fits_8.pkl\n",
      "Prior_pred_fits_9.pkl\n",
      "XID+SED_Model_Building.ipynb\n",
      "XID+SED_Principled_Workflow-VI.ipynb\n",
      "XID+SED_Principled_Workflow.ipynb\n",
      "XID+example_run_script-Prior_predictive_checks.ipynb\n",
      "XID+posterior_analysis_validation-sed_emulator.ipynb\n",
      "params_save.npz\n",
      "params_save.txt\n",
      "prior_pred_dist.m4v\n",
      "prior_pred_dist_fit.m4v\n",
      "test.fits\n",
      "test_multivariate_cholesky.ipynb\n",
      "test_numpyro_sed.pkl\n",
      "test_numpyro_sed_prior_pred.pkl\n"
     ]
    }
   ],
   "source": [
    "ls"
   ]
  },
  {
   "cell_type": "code",
   "execution_count": 25,
   "metadata": {},
   "outputs": [],
   "source": [
    "x=np.load('params_save.npz',allow_pickle=True)"
   ]
  },
  {
   "cell_type": "code",
   "execution_count": 30,
   "metadata": {},
   "outputs": [
    {
     "data": {
      "text/plain": [
       "[(array([[ 1.53069824e-01, -2.10883975e-01,  2.01293573e-01,\n",
       "           2.00886243e-05,  8.39339555e-05, -1.59104392e-01,\n",
       "          -3.11721444e-01,  8.15778226e-02, -1.30519122e-01,\n",
       "           2.66870164e-04,  2.02755541e-01,  2.00401381e-01,\n",
       "           2.55665570e-01,  9.49345157e-03, -2.87445990e-04,\n",
       "           2.97707498e-01,  2.03495666e-01,  6.32490441e-02,\n",
       "           1.99170873e-01,  1.80119430e-04,  1.20747246e-01,\n",
       "          -1.67233795e-01, -2.98334770e-02, -3.50672485e-06,\n",
       "           1.22021355e-01,  1.01019315e-01,  1.96768597e-01,\n",
       "          -1.26161918e-01,  3.03663150e-03,  2.84228637e-03,\n",
       "           1.29882827e-01, -7.99915791e-02, -1.29280478e-01,\n",
       "           4.20932584e-02, -8.54701623e-02,  5.27626090e-02,\n",
       "          -1.17510051e-01,  1.01156078e-01,  4.60322537e-02,\n",
       "           8.14467445e-02,  5.08916415e-02,  1.00427233e-01,\n",
       "           9.20651853e-03,  4.08653691e-02, -4.04455874e-04,\n",
       "          -8.63167420e-02, -1.63388662e-02, -6.32612929e-02,\n",
       "          -4.41273190e-02,  1.39217749e-01,  1.20777473e-01,\n",
       "          -2.40870282e-01,  2.55658120e-01,  1.09948285e-01,\n",
       "          -3.47286537e-02,  2.67806593e-02,  9.29918215e-02,\n",
       "           1.18900443e-05, -1.36361867e-01,  8.80834250e-06,\n",
       "           8.88264403e-02, -9.57389420e-05, -9.50625315e-02,\n",
       "           2.03881428e-01, -1.61554329e-02, -1.62480952e-04,\n",
       "          -2.17100427e-01,  6.52862415e-02, -2.11271066e-02,\n",
       "          -8.55357293e-03,  1.26932263e-01, -1.71124235e-01,\n",
       "          -5.88358827e-02, -5.16286343e-02, -1.39274625e-05,\n",
       "           5.35593834e-04,  9.61367711e-02,  1.18201040e-01,\n",
       "          -4.81214654e-03,  9.21703850e-06, -6.21714629e-02,\n",
       "          -8.35517049e-02,  1.48129642e-01,  9.29927846e-05,\n",
       "           1.15547804e-02, -1.89512312e-01,  4.78157401e-02,\n",
       "           1.76594645e-01,  1.74783200e-01,  5.14295287e-02,\n",
       "           8.22573304e-02,  9.21452641e-02,  4.19164710e-02,\n",
       "          -2.96897590e-01, -3.95684547e-05, -1.62488356e-01,\n",
       "          -5.28006442e-03, -2.46928513e-01,  1.66877523e-01,\n",
       "          -7.30078593e-02, -5.51951900e-02, -2.95307606e-01,\n",
       "           5.55741927e-03, -1.36754781e-01,  3.92581522e-02,\n",
       "          -6.33591320e-04,  2.59832561e-01, -1.40803531e-01,\n",
       "           2.81424731e-01,  2.48177692e-01, -2.55979836e-01,\n",
       "          -2.00387673e-03,  9.41594772e-06,  4.10088524e-02,\n",
       "          -2.16915846e-01,  2.05238029e-01,  5.90725578e-02,\n",
       "          -1.07257450e-02,  4.88407686e-02,  1.20324254e-01,\n",
       "          -3.98441069e-02, -8.82441998e-02, -6.40106574e-02,\n",
       "           9.10342392e-03,  3.94968502e-03,  6.52407557e-02,\n",
       "          -4.41694545e-04,  2.32200782e-05],\n",
       "         [-9.56135169e-02, -4.26747017e-02,  2.31635168e-01,\n",
       "          -4.34760768e-05, -1.41721021e-03, -1.05505474e-01,\n",
       "          -1.71429455e-01,  2.83397526e-01, -2.90613860e-01,\n",
       "           1.34984814e-02, -2.04954833e-01, -1.09364532e-01,\n",
       "           2.36716960e-02,  1.02085277e-01, -7.57721486e-04,\n",
       "           3.01513523e-01, -7.43361935e-02,  6.67992011e-02,\n",
       "          -2.26764724e-01,  1.24011317e-03, -6.82956874e-02,\n",
       "          -2.27028634e-02, -3.38605016e-01, -7.59451223e-06,\n",
       "           2.47587293e-01, -1.05594315e-01,  6.80167899e-02,\n",
       "          -3.21082734e-02,  2.73950666e-01,  2.28774473e-02,\n",
       "           1.39960796e-01,  1.27722230e-02, -1.43947393e-01,\n",
       "           3.11916452e-02, -1.90591291e-01, -8.27737749e-02,\n",
       "          -1.02607206e-01,  1.33461252e-01, -1.05700260e-02,\n",
       "          -1.02083698e-01,  5.75763918e-02,  1.34090975e-01,\n",
       "           2.15719789e-01,  2.12458178e-01, -4.04632092e-03,\n",
       "          -3.49481136e-01,  2.00065210e-01,  2.42629960e-01,\n",
       "           1.93042323e-01,  2.50296980e-01,  8.94507915e-02,\n",
       "          -9.58382115e-02, -2.28494462e-02,  2.36369818e-01,\n",
       "          -1.27528459e-01, -3.69563773e-02, -4.67114002e-02,\n",
       "           2.74982722e-03, -9.03799571e-03, -4.51136657e-05,\n",
       "           2.58287728e-01,  3.40779708e-03,  9.73177031e-02,\n",
       "          -6.85589537e-02,  6.38271775e-03,  1.67258189e-03,\n",
       "           1.97855867e-02, -9.07262564e-02, -2.09668845e-01,\n",
       "          -4.53785360e-02,  1.67807788e-01, -8.33287239e-02,\n",
       "           3.52400422e-01,  1.22029133e-01,  8.00654367e-02,\n",
       "           9.65318363e-03,  1.72288101e-02, -1.01203807e-02,\n",
       "           1.56366780e-01, -1.68244774e-03, -2.37100329e-02,\n",
       "          -1.73389837e-01,  1.95295420e-02, -1.99440308e-03,\n",
       "           8.00025314e-02, -5.56620248e-02,  1.02638401e-01,\n",
       "          -1.10902466e-01,  3.06838099e-02, -4.44191992e-02,\n",
       "          -8.43552127e-02, -1.01193162e-02,  2.33832449e-02,\n",
       "          -6.29129075e-03,  4.06327425e-03, -8.32595825e-02,\n",
       "          -3.15990485e-02, -1.56893134e-02,  2.82309711e-01,\n",
       "           2.82361269e-01, -5.72224781e-02,  1.26476690e-01,\n",
       "          -2.54863471e-01,  2.34438434e-01,  2.19621658e-01,\n",
       "          -3.14361751e-01,  1.25776291e-01,  3.03557932e-01,\n",
       "           5.59490025e-02,  1.51903592e-02, -2.60025859e-02,\n",
       "          -5.54666389e-03, -1.84743130e-05, -6.40727952e-02,\n",
       "          -2.44256482e-01, -4.81589586e-02, -2.26609573e-01,\n",
       "           1.23653643e-01,  1.95894942e-01, -6.13540150e-02,\n",
       "           1.45041913e-01, -2.85595238e-01, -4.65233065e-02,\n",
       "           5.48471771e-02,  1.05303042e-01,  2.79892176e-01,\n",
       "           5.61308339e-02, -1.89330840e-05],\n",
       "         [ 1.41446022e-02, -2.01077163e-01, -1.00045651e-01,\n",
       "          -8.03999066e-01, -8.95831764e-01,  4.21975218e-02,\n",
       "          -1.63626343e-01, -2.76833862e-01, -9.76875201e-02,\n",
       "           5.06179988e-01,  4.87757809e-02,  1.41420245e-01,\n",
       "          -2.07441241e-01,  4.01056767e-01, -8.05710256e-01,\n",
       "           6.44692872e-03,  2.21009120e-01, -1.69436529e-01,\n",
       "          -6.67921826e-02, -1.05775523e+00,  8.38957876e-02,\n",
       "          -2.98910160e-02, -1.46367446e-01, -6.53301001e-01,\n",
       "          -1.04626469e-01, -1.58328131e-01,  2.53040403e-01,\n",
       "           6.34190068e-02,  4.76733029e-01, -5.84724784e-01,\n",
       "           3.33633602e-01, -1.21292204e-01, -2.23500072e-03,\n",
       "           2.00990856e-01, -1.68379713e-02,  1.11320294e-01,\n",
       "          -1.31700095e-02, -1.03982717e-01, -4.40700680e-01,\n",
       "           2.74899751e-01,  2.59439200e-01,  2.15766475e-01,\n",
       "           3.26091349e-01, -6.15844578e-02, -6.39787376e-01,\n",
       "           1.57167748e-01, -1.39899984e-01,  8.18154663e-02,\n",
       "          -2.17399538e-01, -6.46281019e-02,  1.34346440e-01,\n",
       "           2.12652043e-01, -9.76891369e-02,  3.79553400e-02,\n",
       "           1.54967695e-01, -4.33932215e-01, -1.18579738e-01,\n",
       "          -1.39027762e+00,  2.06093520e-01, -7.32906520e-01,\n",
       "          -2.59851754e-01, -9.46300507e-01,  5.03597856e-02,\n",
       "          -7.38284066e-02, -3.75461280e-01, -8.37107539e-01,\n",
       "          -2.82007039e-01, -1.31407663e-01,  1.10969849e-01,\n",
       "           2.02970564e-01, -7.02738762e-02,  3.28801498e-02,\n",
       "           1.80798143e-01, -3.50165248e-01,  4.46210891e-01,\n",
       "          -6.59628510e-01, -2.87261099e-01,  2.80246645e-01,\n",
       "           2.50837177e-01, -1.16137397e+00, -1.68976769e-01,\n",
       "          -8.80870670e-02, -4.61860485e-02, -9.82364774e-01,\n",
       "           3.16690683e-01,  1.90806836e-01,  5.66026270e-02,\n",
       "          -1.44116074e-01, -2.78943963e-03,  2.78720170e-01,\n",
       "          -8.42702761e-02, -4.45272118e-01,  2.31863722e-01,\n",
       "           3.17606293e-02, -1.17060268e+00,  8.20184126e-02,\n",
       "          -5.30681014e-01,  1.83141917e-01, -4.02189136e-01,\n",
       "          -2.00566091e-03,  8.20839126e-03,  2.02945963e-01,\n",
       "           1.09732404e-01,  2.25487888e-01,  4.87290174e-02,\n",
       "          -1.38762947e-02,  1.79363459e-01,  1.78430855e-01,\n",
       "          -2.75342762e-02, -1.79975152e-01, -2.09120149e-03,\n",
       "          -6.71783090e-01, -6.95732594e-01,  2.93099910e-01,\n",
       "          -2.42147833e-01, -2.94341862e-01,  5.07360250e-02,\n",
       "           3.43546301e-01,  6.06366359e-02,  9.93927941e-02,\n",
       "           1.48736641e-01,  2.39289686e-01,  1.30173057e-01,\n",
       "           3.49565655e-01,  1.92776322e-01, -5.48308827e-02,\n",
       "          -4.40925032e-01, -8.10449481e-01]], dtype=float32),\n",
       "  array([ 0.04993482, -0.01212634,  0.0791207 ,  0.00492666,  0.01319074,\n",
       "         -0.10325487, -0.1346548 ,  0.10120684, -0.0575023 , -0.02011754,\n",
       "          0.06913678,  0.04907846,  0.04280977,  0.00189588,  0.00704372,\n",
       "          0.05355757,  0.06565716,  0.08904282,  0.03973582,  0.00688254,\n",
       "          0.06209717, -0.08303745, -0.03966172,  0.00399084,  0.06877296,\n",
       "          0.12979364,  0.06964204,  0.31554383,  0.13802093,  0.02556979,\n",
       "          0.4289254 , -0.0503752 , -0.07069702,  0.03091657, -0.06025747,\n",
       "          0.0746284 , -0.08132786,  0.04863249,  0.06814621,  0.0508422 ,\n",
       "          0.08750687,  0.06362367,  0.05117381,  0.07356688,  0.02762729,\n",
       "          0.09656563,  0.07198024, -0.26193607, -0.0602057 ,  0.08606211,\n",
       "          0.07281027, -0.06211648,  0.07160514,  0.06034514,  0.30626503,\n",
       "          0.0429852 ,  0.14285904,  0.03020917,  0.13712466,  0.00450039,\n",
       "          0.09005794,  0.0123495 ,  0.36532483,  0.08149678,  0.18150629,\n",
       "          0.00565592, -0.11370263,  0.09517168,  0.21982178,  0.08685449,\n",
       "          0.08191731, -0.07257076,  0.2534638 ,  0.3897213 , -0.00143844,\n",
       "          0.01895614,  0.10273186,  0.11818916,  0.00264214,  0.0128728 ,\n",
       "         -0.08194415, -0.0661905 ,  0.07294855,  0.00806362, -0.00107712,\n",
       "         -0.00505454,  0.06896237,  0.0813387 ,  0.06515121, -0.07235986,\n",
       "          0.07138455,  0.10467188,  0.16391854, -0.0606044 ,  0.010386  ,\n",
       "          0.19612047,  0.10880241, -0.08573751,  0.07287953,  0.3737235 ,\n",
       "         -0.02502817, -0.07157979, -0.01277431,  0.14055003,  0.05926196,\n",
       "          0.29733676,  0.05263878, -0.1505707 ,  0.05544473,  0.07868218,\n",
       "         -0.07834595,  0.05206577,  0.00429451,  0.05404095, -0.09889918,\n",
       "         -0.0151882 ,  0.09757402,  0.19194539,  0.07196058,  0.03609553,\n",
       "         -0.3547578 ,  0.04935162,  0.14975967,  0.01198729,  0.01796428,\n",
       "          0.02070589,  0.04502893,  0.00497391], dtype=float32)),\n",
       " (),\n",
       " (array([[-0.03422838, -0.02585936,  0.07256419, ...,  0.10604588,\n",
       "           0.07892369,  0.1075211 ],\n",
       "         [-0.02576409, -0.04324246, -0.14388034, ..., -0.14141543,\n",
       "          -0.14632596, -0.13177887],\n",
       "         [-0.03215259,  0.08260014,  0.04717227, ...,  0.12862837,\n",
       "          -0.10882525,  0.09364428],\n",
       "         ...,\n",
       "         [-0.08749322, -0.0168451 , -0.05433867, ..., -0.03359725,\n",
       "          -0.00382601,  0.15514964],\n",
       "         [-0.10678113,  0.2651945 , -0.29697   , ..., -0.05284815,\n",
       "          -0.02245768,  0.07594308],\n",
       "         [-0.8964345 ,  0.4518805 , -0.8790541 , ...,  0.1999891 ,\n",
       "          -0.5511756 ,  0.20147882]], dtype=float32),\n",
       "  array([ 0.04318503,  0.06401413,  0.10552775,  0.1473793 ,  0.03431362,\n",
       "         -0.04497027,  0.04367442,  0.07699274,  0.04165394,  0.07037516,\n",
       "          0.08304454,  0.0683172 ,  0.00262007,  0.05374337,  0.03608707,\n",
       "          0.16427258,  0.04042302, -0.00634741, -0.02428112,  0.06873304,\n",
       "          0.0518212 ,  0.04075989,  0.06424611,  0.05797005,  0.0316513 ,\n",
       "          0.2345811 , -0.02713604,  0.04995387, -0.04329855,  0.1378327 ,\n",
       "          0.05642162,  0.06783304,  0.0543987 ,  0.05031141, -0.02864387,\n",
       "          0.1944591 ,  0.20191945, -0.23888457, -0.00107816,  0.05796514,\n",
       "          0.06788929,  0.06220463,  0.04600336,  0.04127879,  0.23460324,\n",
       "          0.02737976, -0.02148593,  0.12680675,  0.07559889,  0.09663132,\n",
       "          0.09608997,  0.02774669,  0.05582898,  0.01978187,  0.0213549 ,\n",
       "          0.15664043,  0.05999393, -0.03036105,  0.07454889,  0.12296706,\n",
       "          0.00878114,  0.04319701,  0.03167537,  0.05068729, -0.01067725,\n",
       "          0.06127113,  0.14654745, -0.01772743,  0.04000608,  0.07163013,\n",
       "          0.05569566,  0.06486893, -0.03135101,  0.04571848,  0.07377528,\n",
       "          0.06323048,  0.05599957, -0.00325564,  0.05290375,  0.18670882,\n",
       "          0.04943348,  0.05839921, -0.01254695,  0.00374835,  0.04091755,\n",
       "          0.06934862,  0.05295921,  0.12965381,  0.26518968,  0.02922123,\n",
       "          0.0759641 ,  0.06503931, -0.02622866,  0.08374478, -0.05003466,\n",
       "          0.04679668,  0.00959557, -0.00260884, -0.01219916,  0.0059711 ,\n",
       "          0.05894898,  0.04760699,  0.04448665,  0.14146328,  0.04171022,\n",
       "          0.00039654,  0.14147858,  0.05612815,  0.03840605,  0.04201587,\n",
       "          0.0598927 ,  0.0404181 , -0.0121826 ,  0.002291  ,  0.02991664,\n",
       "          0.06338561,  0.05918598,  0.10408899, -0.05643817,  0.04786403,\n",
       "          0.17926623,  0.04988811,  0.05208017,  0.05186151,  0.0571902 ,\n",
       "          0.05716937, -0.02336271,  0.04936297], dtype=float32)),\n",
       " (),\n",
       " (array([[-4.78656381e-01, -4.84813273e-01, -5.50405860e-01],\n",
       "         [ 3.35031658e-01,  1.76466942e-01,  1.48843542e-01],\n",
       "         [-3.45053434e-01, -6.55529320e-01, -2.37278402e-01],\n",
       "         [-9.41956460e-01, -9.29954112e-01, -8.69155824e-01],\n",
       "         [ 2.55623072e-01, -3.67746176e-03,  1.26485467e-01],\n",
       "         [-5.47391735e-02, -1.23208657e-01, -1.38787791e-01],\n",
       "         [ 2.61397302e-01,  2.81228703e-02,  6.48772046e-02],\n",
       "         [ 2.01461002e-01,  1.97006389e-01,  1.24496259e-01],\n",
       "         [ 1.88138280e-02,  2.08875373e-01,  2.70739555e-01],\n",
       "         [ 2.38008395e-01,  2.37070963e-01,  4.67405587e-01],\n",
       "         [ 1.37017727e-01,  3.44284713e-01,  1.73349738e-01],\n",
       "         [ 2.18866974e-01,  2.30267376e-01, -6.88656420e-02],\n",
       "         [-6.76326990e-01, -6.99695110e-01, -1.38253331e-01],\n",
       "         [ 7.44611695e-02,  3.46906662e-01,  1.94446564e-01],\n",
       "         [ 1.27352834e-01,  3.37143987e-02,  7.34688267e-02],\n",
       "         [-1.10179520e+00, -9.15884078e-01, -9.38202620e-01],\n",
       "         [ 2.16434851e-01,  1.61506251e-01,  4.67592180e-02],\n",
       "         [-8.43614116e-02, -1.60350174e-01, -4.02493781e-04],\n",
       "         [-2.11055398e-01, -8.97642747e-02,  5.72317876e-02],\n",
       "         [ 2.15646937e-01,  2.57510275e-01,  1.78803712e-01],\n",
       "         [ 2.71565050e-01, -5.99395931e-02,  1.79622740e-01],\n",
       "         [ 7.15189651e-02,  2.59319156e-01,  2.61098385e-01],\n",
       "         [ 1.86891183e-01,  2.48789236e-01,  2.18168437e-01],\n",
       "         [ 1.84291024e-02,  2.42671505e-01,  2.19747853e-02],\n",
       "         [ 2.03428015e-01,  3.54187727e-01,  2.82053471e-01],\n",
       "         [ 7.03351319e-01,  8.09539080e-01,  7.72811830e-01],\n",
       "         [ 9.11437124e-02, -1.44656196e-01,  2.22388536e-01],\n",
       "         [ 2.26557896e-01, -1.10934088e-02,  2.13816017e-01],\n",
       "         [-1.12496905e-01, -1.87045932e-01, -5.97019009e-02],\n",
       "         [-7.61769235e-01, -7.72123635e-01, -9.75890219e-01],\n",
       "         [ 3.05190325e-01,  1.32497445e-01,  2.17855945e-01],\n",
       "         [ 1.31501675e-01,  1.12660259e-01,  1.65270157e-02],\n",
       "         [-5.56640387e-01, -4.99232233e-01, -2.92703152e-01],\n",
       "         [ 2.19774038e-01,  3.95686179e-02,  2.31017187e-01],\n",
       "         [-1.77604914e-01, -6.38101920e-02, -4.09325399e-02],\n",
       "         [-1.03784680e+00, -9.10168588e-01, -1.07743847e+00],\n",
       "         [-1.00170982e+00, -1.04068625e+00, -8.59334171e-01],\n",
       "         [ 8.45464468e-01,  2.08024696e-01, -4.88651544e-02],\n",
       "         [-4.31112051e-01, -1.91040486e-01, -3.56914222e-01],\n",
       "         [ 2.79779643e-01,  2.50112742e-01,  2.09560946e-01],\n",
       "         [ 5.63736148e-02,  2.27240503e-01,  2.81559199e-01],\n",
       "         [-7.16340959e-01, -4.02274430e-01, -5.70875406e-01],\n",
       "         [ 2.46527553e-01, -8.15471187e-02,  2.10321933e-01],\n",
       "         [ 1.37722507e-01, -1.67197183e-01,  3.23957533e-01],\n",
       "         [-8.45782340e-01, -1.05558038e+00, -1.12943280e+00],\n",
       "         [-3.96439135e-01, -2.55469799e-01, -4.35159922e-01],\n",
       "         [-2.39666134e-01,  1.18508175e-01, -3.05553824e-01],\n",
       "         [-6.16362095e-01, -5.21952748e-01, -6.37968063e-01],\n",
       "         [ 1.39270779e-02,  2.06092358e-01,  2.47910649e-01],\n",
       "         [-6.25008523e-01, -6.01777017e-01, -5.92815816e-01],\n",
       "         [ 1.96474746e-01,  1.98963687e-01, -1.47557515e-03],\n",
       "         [ 1.63086876e-01,  1.93513006e-01,  2.37006247e-01],\n",
       "         [ 1.29517719e-01,  1.98047608e-01,  2.71610498e-01],\n",
       "         [-1.42343462e-01,  7.90357590e-02, -8.58355612e-02],\n",
       "         [-5.27097523e-01, -3.60084742e-01, -4.36733454e-01],\n",
       "         [-8.70184779e-01, -2.06790432e-01, -1.00296281e-01],\n",
       "         [ 1.94708794e-01,  6.13125302e-02,  4.15276922e-02],\n",
       "         [ 1.23108901e-01, -2.63996720e-01, -2.07525179e-01],\n",
       "         [ 8.23504180e-02,  2.37032309e-01,  1.45315722e-01],\n",
       "         [-3.39615971e-01, -5.39651752e-01, -5.03607452e-01],\n",
       "         [-1.77049398e-01, -7.85850435e-02, -1.31696507e-01],\n",
       "         [ 4.49967720e-02,  3.20405841e-01,  1.52601779e-01],\n",
       "         [ 2.26537839e-01,  2.06401661e-01, -1.26141608e-01],\n",
       "         [-9.73755196e-02,  3.00717533e-01,  2.03305751e-01],\n",
       "         [-1.77933872e-02, -1.02676630e-01, -3.10888700e-02],\n",
       "         [ 2.64976263e-01,  2.50689447e-01,  1.67717174e-01],\n",
       "         [-2.89391667e-01, -5.38424611e-01, -5.13043404e-01],\n",
       "         [-1.12035535e-01, -2.91938297e-02,  5.71100600e-02],\n",
       "         [-6.81093931e-01, -7.79274285e-01, -8.95485103e-01],\n",
       "         [ 7.11113261e-03,  2.08368346e-01,  1.09029703e-01],\n",
       "         [ 2.67163366e-01,  9.01261866e-02,  2.32021391e-01],\n",
       "         [ 7.61629567e-02,  1.28208548e-01,  1.77933559e-01],\n",
       "         [-2.42862012e-02, -1.42082199e-01,  9.67771187e-02],\n",
       "         [ 1.93336159e-01,  8.01900402e-02,  1.84268087e-01],\n",
       "         [ 3.80656809e-01,  1.73509553e-01,  3.48442614e-01],\n",
       "         [-4.12368387e-01, -5.81474602e-01, -3.72003049e-01],\n",
       "         [ 2.31199354e-01,  9.51954871e-02,  9.01686102e-02],\n",
       "         [-2.30810836e-01,  3.19271423e-02, -2.17658013e-01],\n",
       "         [ 1.37645110e-01,  1.10636175e-01,  1.41822726e-01],\n",
       "         [-8.80627453e-01, -1.19069552e+00, -1.06030595e+00],\n",
       "         [ 1.34634405e-01,  2.07669675e-01,  3.21988791e-01],\n",
       "         [ 1.95426956e-01,  2.12161362e-01,  1.53630190e-02],\n",
       "         [-1.22733235e-01,  2.31809001e-02, -2.72758193e-02],\n",
       "         [ 3.04959603e-02, -6.61364049e-02, -2.81280249e-01],\n",
       "         [ 1.67098984e-01,  5.76136671e-02,  2.03342289e-01],\n",
       "         [ 2.42621675e-01,  4.24271375e-01,  3.72970521e-01],\n",
       "         [ 3.52295369e-01,  1.11584626e-01, -6.89266324e-02],\n",
       "         [-4.39384192e-01, -4.31890994e-01, -6.38583899e-01],\n",
       "         [ 5.71117282e-01,  4.89224911e-01,  3.75584066e-01],\n",
       "         [-3.42314690e-01, -6.00230023e-02,  3.19120228e-01],\n",
       "         [-5.33911943e-01, -4.10487771e-01, -4.53867435e-01],\n",
       "         [ 6.27191663e-02,  1.59758374e-01,  2.63538938e-02],\n",
       "         [ 1.95248798e-01,  3.79788578e-02,  2.10875288e-01],\n",
       "         [-5.45423508e-01, -3.39853108e-01, -3.81522626e-01],\n",
       "         [-2.18804523e-01, -5.64338192e-02, -2.85992641e-02],\n",
       "         [-5.62148280e-02,  2.20772356e-01,  8.28550979e-02],\n",
       "         [-4.09969002e-01, -3.73499215e-01, -1.92373544e-01],\n",
       "         [-5.19106209e-01, -1.23261869e-01, -1.96268767e-01],\n",
       "         [-1.57062620e-01, -1.10868244e-02,  6.20706715e-02],\n",
       "         [-1.57321051e-01, -3.06500614e-01, -2.30024591e-01],\n",
       "         [ 3.59437205e-02,  3.52994859e-01,  2.38882601e-01],\n",
       "         [ 1.36312008e-01,  1.38561815e-01,  2.23111033e-01],\n",
       "         [ 1.66426688e-01,  1.44103363e-01,  1.08864978e-01],\n",
       "         [-4.31933135e-01, -4.29439902e-01, -5.28308690e-01],\n",
       "         [-4.10688035e-02,  2.73244053e-01,  1.24709614e-01],\n",
       "         [-1.84629008e-01, -1.24577269e-01,  5.33142388e-02],\n",
       "         [-1.08149683e+00, -8.98993015e-01, -1.14275980e+00],\n",
       "         [ 2.08761305e-01,  1.56309798e-01, -1.25824418e-02],\n",
       "         [-4.95516181e-01, -3.53564203e-01, -1.31432191e-01],\n",
       "         [ 3.55273299e-02,  1.20648474e-01,  2.36399055e-01],\n",
       "         [ 8.50410089e-02, -1.47752538e-02,  2.15277553e-01],\n",
       "         [ 2.11633042e-01,  1.01077348e-01,  3.30886878e-02],\n",
       "         [-1.06111094e-01,  1.07693918e-01, -9.53614414e-02],\n",
       "         [-1.75395906e-01, -3.53530228e-01, -1.19211458e-01],\n",
       "         [ 2.68203467e-01,  2.82129109e-01, -1.54477522e-01],\n",
       "         [ 1.70596585e-01,  1.52597874e-01,  6.76318184e-02],\n",
       "         [ 5.46143129e-02,  1.23157211e-01,  8.29520896e-02],\n",
       "         [-5.31307220e-01, -1.78458467e-01, -5.32431602e-01],\n",
       "         [-1.97006300e-01, -1.22562185e-01, -7.49048591e-02],\n",
       "         [ 2.81229258e-01, -6.29485771e-02,  2.03068763e-01],\n",
       "         [-4.78337079e-01, -7.24266708e-01, -7.22120702e-01],\n",
       "         [ 3.39150280e-01,  6.52333498e-02,  1.42264619e-01],\n",
       "         [ 1.33290380e-01,  3.07468604e-02,  2.74779916e-01],\n",
       "         [-7.64167402e-04,  4.02096054e-03,  2.88234293e-01],\n",
       "         [ 2.67466605e-01,  2.52607644e-01,  2.24442825e-01],\n",
       "         [ 1.75580591e-01,  1.17959879e-01,  2.54109591e-01],\n",
       "         [-1.54530272e-01, -1.21206172e-01,  6.84056804e-02],\n",
       "         [ 3.03603262e-01,  1.25999466e-01,  8.91618878e-02]], dtype=float32),\n",
       "  array([0.02325003, 0.04449695, 0.04215444], dtype=float32))]"
      ]
     },
     "execution_count": 30,
     "metadata": {},
     "output_type": "execute_result"
    }
   ],
   "source": [
    "x['arr_0'].tolist()"
   ]
  },
  {
   "cell_type": "code",
   "execution_count": 31,
   "metadata": {},
   "outputs": [
    {
     "data": {
      "text/plain": [
       "[(array([[ 1.53069824e-01, -2.10883975e-01,  2.01293573e-01,\n",
       "           2.00886243e-05,  8.39339555e-05, -1.59104392e-01,\n",
       "          -3.11721444e-01,  8.15778226e-02, -1.30519122e-01,\n",
       "           2.66870164e-04,  2.02755541e-01,  2.00401381e-01,\n",
       "           2.55665570e-01,  9.49345157e-03, -2.87445990e-04,\n",
       "           2.97707498e-01,  2.03495666e-01,  6.32490441e-02,\n",
       "           1.99170873e-01,  1.80119430e-04,  1.20747246e-01,\n",
       "          -1.67233795e-01, -2.98334770e-02, -3.50672485e-06,\n",
       "           1.22021355e-01,  1.01019315e-01,  1.96768597e-01,\n",
       "          -1.26161918e-01,  3.03663150e-03,  2.84228637e-03,\n",
       "           1.29882827e-01, -7.99915791e-02, -1.29280478e-01,\n",
       "           4.20932584e-02, -8.54701623e-02,  5.27626090e-02,\n",
       "          -1.17510051e-01,  1.01156078e-01,  4.60322537e-02,\n",
       "           8.14467445e-02,  5.08916415e-02,  1.00427233e-01,\n",
       "           9.20651853e-03,  4.08653691e-02, -4.04455874e-04,\n",
       "          -8.63167420e-02, -1.63388662e-02, -6.32612929e-02,\n",
       "          -4.41273190e-02,  1.39217749e-01,  1.20777473e-01,\n",
       "          -2.40870282e-01,  2.55658120e-01,  1.09948285e-01,\n",
       "          -3.47286537e-02,  2.67806593e-02,  9.29918215e-02,\n",
       "           1.18900443e-05, -1.36361867e-01,  8.80834250e-06,\n",
       "           8.88264403e-02, -9.57389420e-05, -9.50625315e-02,\n",
       "           2.03881428e-01, -1.61554329e-02, -1.62480952e-04,\n",
       "          -2.17100427e-01,  6.52862415e-02, -2.11271066e-02,\n",
       "          -8.55357293e-03,  1.26932263e-01, -1.71124235e-01,\n",
       "          -5.88358827e-02, -5.16286343e-02, -1.39274625e-05,\n",
       "           5.35593834e-04,  9.61367711e-02,  1.18201040e-01,\n",
       "          -4.81214654e-03,  9.21703850e-06, -6.21714629e-02,\n",
       "          -8.35517049e-02,  1.48129642e-01,  9.29927846e-05,\n",
       "           1.15547804e-02, -1.89512312e-01,  4.78157401e-02,\n",
       "           1.76594645e-01,  1.74783200e-01,  5.14295287e-02,\n",
       "           8.22573304e-02,  9.21452641e-02,  4.19164710e-02,\n",
       "          -2.96897590e-01, -3.95684547e-05, -1.62488356e-01,\n",
       "          -5.28006442e-03, -2.46928513e-01,  1.66877523e-01,\n",
       "          -7.30078593e-02, -5.51951900e-02, -2.95307606e-01,\n",
       "           5.55741927e-03, -1.36754781e-01,  3.92581522e-02,\n",
       "          -6.33591320e-04,  2.59832561e-01, -1.40803531e-01,\n",
       "           2.81424731e-01,  2.48177692e-01, -2.55979836e-01,\n",
       "          -2.00387673e-03,  9.41594772e-06,  4.10088524e-02,\n",
       "          -2.16915846e-01,  2.05238029e-01,  5.90725578e-02,\n",
       "          -1.07257450e-02,  4.88407686e-02,  1.20324254e-01,\n",
       "          -3.98441069e-02, -8.82441998e-02, -6.40106574e-02,\n",
       "           9.10342392e-03,  3.94968502e-03,  6.52407557e-02,\n",
       "          -4.41694545e-04,  2.32200782e-05],\n",
       "         [-9.56135169e-02, -4.26747017e-02,  2.31635168e-01,\n",
       "          -4.34760768e-05, -1.41721021e-03, -1.05505474e-01,\n",
       "          -1.71429455e-01,  2.83397526e-01, -2.90613860e-01,\n",
       "           1.34984814e-02, -2.04954833e-01, -1.09364532e-01,\n",
       "           2.36716960e-02,  1.02085277e-01, -7.57721486e-04,\n",
       "           3.01513523e-01, -7.43361935e-02,  6.67992011e-02,\n",
       "          -2.26764724e-01,  1.24011317e-03, -6.82956874e-02,\n",
       "          -2.27028634e-02, -3.38605016e-01, -7.59451223e-06,\n",
       "           2.47587293e-01, -1.05594315e-01,  6.80167899e-02,\n",
       "          -3.21082734e-02,  2.73950666e-01,  2.28774473e-02,\n",
       "           1.39960796e-01,  1.27722230e-02, -1.43947393e-01,\n",
       "           3.11916452e-02, -1.90591291e-01, -8.27737749e-02,\n",
       "          -1.02607206e-01,  1.33461252e-01, -1.05700260e-02,\n",
       "          -1.02083698e-01,  5.75763918e-02,  1.34090975e-01,\n",
       "           2.15719789e-01,  2.12458178e-01, -4.04632092e-03,\n",
       "          -3.49481136e-01,  2.00065210e-01,  2.42629960e-01,\n",
       "           1.93042323e-01,  2.50296980e-01,  8.94507915e-02,\n",
       "          -9.58382115e-02, -2.28494462e-02,  2.36369818e-01,\n",
       "          -1.27528459e-01, -3.69563773e-02, -4.67114002e-02,\n",
       "           2.74982722e-03, -9.03799571e-03, -4.51136657e-05,\n",
       "           2.58287728e-01,  3.40779708e-03,  9.73177031e-02,\n",
       "          -6.85589537e-02,  6.38271775e-03,  1.67258189e-03,\n",
       "           1.97855867e-02, -9.07262564e-02, -2.09668845e-01,\n",
       "          -4.53785360e-02,  1.67807788e-01, -8.33287239e-02,\n",
       "           3.52400422e-01,  1.22029133e-01,  8.00654367e-02,\n",
       "           9.65318363e-03,  1.72288101e-02, -1.01203807e-02,\n",
       "           1.56366780e-01, -1.68244774e-03, -2.37100329e-02,\n",
       "          -1.73389837e-01,  1.95295420e-02, -1.99440308e-03,\n",
       "           8.00025314e-02, -5.56620248e-02,  1.02638401e-01,\n",
       "          -1.10902466e-01,  3.06838099e-02, -4.44191992e-02,\n",
       "          -8.43552127e-02, -1.01193162e-02,  2.33832449e-02,\n",
       "          -6.29129075e-03,  4.06327425e-03, -8.32595825e-02,\n",
       "          -3.15990485e-02, -1.56893134e-02,  2.82309711e-01,\n",
       "           2.82361269e-01, -5.72224781e-02,  1.26476690e-01,\n",
       "          -2.54863471e-01,  2.34438434e-01,  2.19621658e-01,\n",
       "          -3.14361751e-01,  1.25776291e-01,  3.03557932e-01,\n",
       "           5.59490025e-02,  1.51903592e-02, -2.60025859e-02,\n",
       "          -5.54666389e-03, -1.84743130e-05, -6.40727952e-02,\n",
       "          -2.44256482e-01, -4.81589586e-02, -2.26609573e-01,\n",
       "           1.23653643e-01,  1.95894942e-01, -6.13540150e-02,\n",
       "           1.45041913e-01, -2.85595238e-01, -4.65233065e-02,\n",
       "           5.48471771e-02,  1.05303042e-01,  2.79892176e-01,\n",
       "           5.61308339e-02, -1.89330840e-05],\n",
       "         [ 1.41446022e-02, -2.01077163e-01, -1.00045651e-01,\n",
       "          -8.03999066e-01, -8.95831764e-01,  4.21975218e-02,\n",
       "          -1.63626343e-01, -2.76833862e-01, -9.76875201e-02,\n",
       "           5.06179988e-01,  4.87757809e-02,  1.41420245e-01,\n",
       "          -2.07441241e-01,  4.01056767e-01, -8.05710256e-01,\n",
       "           6.44692872e-03,  2.21009120e-01, -1.69436529e-01,\n",
       "          -6.67921826e-02, -1.05775523e+00,  8.38957876e-02,\n",
       "          -2.98910160e-02, -1.46367446e-01, -6.53301001e-01,\n",
       "          -1.04626469e-01, -1.58328131e-01,  2.53040403e-01,\n",
       "           6.34190068e-02,  4.76733029e-01, -5.84724784e-01,\n",
       "           3.33633602e-01, -1.21292204e-01, -2.23500072e-03,\n",
       "           2.00990856e-01, -1.68379713e-02,  1.11320294e-01,\n",
       "          -1.31700095e-02, -1.03982717e-01, -4.40700680e-01,\n",
       "           2.74899751e-01,  2.59439200e-01,  2.15766475e-01,\n",
       "           3.26091349e-01, -6.15844578e-02, -6.39787376e-01,\n",
       "           1.57167748e-01, -1.39899984e-01,  8.18154663e-02,\n",
       "          -2.17399538e-01, -6.46281019e-02,  1.34346440e-01,\n",
       "           2.12652043e-01, -9.76891369e-02,  3.79553400e-02,\n",
       "           1.54967695e-01, -4.33932215e-01, -1.18579738e-01,\n",
       "          -1.39027762e+00,  2.06093520e-01, -7.32906520e-01,\n",
       "          -2.59851754e-01, -9.46300507e-01,  5.03597856e-02,\n",
       "          -7.38284066e-02, -3.75461280e-01, -8.37107539e-01,\n",
       "          -2.82007039e-01, -1.31407663e-01,  1.10969849e-01,\n",
       "           2.02970564e-01, -7.02738762e-02,  3.28801498e-02,\n",
       "           1.80798143e-01, -3.50165248e-01,  4.46210891e-01,\n",
       "          -6.59628510e-01, -2.87261099e-01,  2.80246645e-01,\n",
       "           2.50837177e-01, -1.16137397e+00, -1.68976769e-01,\n",
       "          -8.80870670e-02, -4.61860485e-02, -9.82364774e-01,\n",
       "           3.16690683e-01,  1.90806836e-01,  5.66026270e-02,\n",
       "          -1.44116074e-01, -2.78943963e-03,  2.78720170e-01,\n",
       "          -8.42702761e-02, -4.45272118e-01,  2.31863722e-01,\n",
       "           3.17606293e-02, -1.17060268e+00,  8.20184126e-02,\n",
       "          -5.30681014e-01,  1.83141917e-01, -4.02189136e-01,\n",
       "          -2.00566091e-03,  8.20839126e-03,  2.02945963e-01,\n",
       "           1.09732404e-01,  2.25487888e-01,  4.87290174e-02,\n",
       "          -1.38762947e-02,  1.79363459e-01,  1.78430855e-01,\n",
       "          -2.75342762e-02, -1.79975152e-01, -2.09120149e-03,\n",
       "          -6.71783090e-01, -6.95732594e-01,  2.93099910e-01,\n",
       "          -2.42147833e-01, -2.94341862e-01,  5.07360250e-02,\n",
       "           3.43546301e-01,  6.06366359e-02,  9.93927941e-02,\n",
       "           1.48736641e-01,  2.39289686e-01,  1.30173057e-01,\n",
       "           3.49565655e-01,  1.92776322e-01, -5.48308827e-02,\n",
       "          -4.40925032e-01, -8.10449481e-01]], dtype=float32),\n",
       "  array([ 0.04993482, -0.01212634,  0.0791207 ,  0.00492666,  0.01319074,\n",
       "         -0.10325487, -0.1346548 ,  0.10120684, -0.0575023 , -0.02011754,\n",
       "          0.06913678,  0.04907846,  0.04280977,  0.00189588,  0.00704372,\n",
       "          0.05355757,  0.06565716,  0.08904282,  0.03973582,  0.00688254,\n",
       "          0.06209717, -0.08303745, -0.03966172,  0.00399084,  0.06877296,\n",
       "          0.12979364,  0.06964204,  0.31554383,  0.13802093,  0.02556979,\n",
       "          0.4289254 , -0.0503752 , -0.07069702,  0.03091657, -0.06025747,\n",
       "          0.0746284 , -0.08132786,  0.04863249,  0.06814621,  0.0508422 ,\n",
       "          0.08750687,  0.06362367,  0.05117381,  0.07356688,  0.02762729,\n",
       "          0.09656563,  0.07198024, -0.26193607, -0.0602057 ,  0.08606211,\n",
       "          0.07281027, -0.06211648,  0.07160514,  0.06034514,  0.30626503,\n",
       "          0.0429852 ,  0.14285904,  0.03020917,  0.13712466,  0.00450039,\n",
       "          0.09005794,  0.0123495 ,  0.36532483,  0.08149678,  0.18150629,\n",
       "          0.00565592, -0.11370263,  0.09517168,  0.21982178,  0.08685449,\n",
       "          0.08191731, -0.07257076,  0.2534638 ,  0.3897213 , -0.00143844,\n",
       "          0.01895614,  0.10273186,  0.11818916,  0.00264214,  0.0128728 ,\n",
       "         -0.08194415, -0.0661905 ,  0.07294855,  0.00806362, -0.00107712,\n",
       "         -0.00505454,  0.06896237,  0.0813387 ,  0.06515121, -0.07235986,\n",
       "          0.07138455,  0.10467188,  0.16391854, -0.0606044 ,  0.010386  ,\n",
       "          0.19612047,  0.10880241, -0.08573751,  0.07287953,  0.3737235 ,\n",
       "         -0.02502817, -0.07157979, -0.01277431,  0.14055003,  0.05926196,\n",
       "          0.29733676,  0.05263878, -0.1505707 ,  0.05544473,  0.07868218,\n",
       "         -0.07834595,  0.05206577,  0.00429451,  0.05404095, -0.09889918,\n",
       "         -0.0151882 ,  0.09757402,  0.19194539,  0.07196058,  0.03609553,\n",
       "         -0.3547578 ,  0.04935162,  0.14975967,  0.01198729,  0.01796428,\n",
       "          0.02070589,  0.04502893,  0.00497391], dtype=float32)),\n",
       " (),\n",
       " (array([[-0.03422838, -0.02585936,  0.07256419, ...,  0.10604588,\n",
       "           0.07892369,  0.1075211 ],\n",
       "         [-0.02576409, -0.04324246, -0.14388034, ..., -0.14141543,\n",
       "          -0.14632596, -0.13177887],\n",
       "         [-0.03215259,  0.08260014,  0.04717227, ...,  0.12862837,\n",
       "          -0.10882525,  0.09364428],\n",
       "         ...,\n",
       "         [-0.08749322, -0.0168451 , -0.05433867, ..., -0.03359725,\n",
       "          -0.00382601,  0.15514964],\n",
       "         [-0.10678113,  0.2651945 , -0.29697   , ..., -0.05284815,\n",
       "          -0.02245768,  0.07594308],\n",
       "         [-0.8964345 ,  0.4518805 , -0.8790541 , ...,  0.1999891 ,\n",
       "          -0.5511756 ,  0.20147882]], dtype=float32),\n",
       "  array([ 0.04318503,  0.06401413,  0.10552775,  0.1473793 ,  0.03431362,\n",
       "         -0.04497027,  0.04367442,  0.07699274,  0.04165394,  0.07037516,\n",
       "          0.08304454,  0.0683172 ,  0.00262007,  0.05374337,  0.03608707,\n",
       "          0.16427258,  0.04042302, -0.00634741, -0.02428112,  0.06873304,\n",
       "          0.0518212 ,  0.04075989,  0.06424611,  0.05797005,  0.0316513 ,\n",
       "          0.2345811 , -0.02713604,  0.04995387, -0.04329855,  0.1378327 ,\n",
       "          0.05642162,  0.06783304,  0.0543987 ,  0.05031141, -0.02864387,\n",
       "          0.1944591 ,  0.20191945, -0.23888457, -0.00107816,  0.05796514,\n",
       "          0.06788929,  0.06220463,  0.04600336,  0.04127879,  0.23460324,\n",
       "          0.02737976, -0.02148593,  0.12680675,  0.07559889,  0.09663132,\n",
       "          0.09608997,  0.02774669,  0.05582898,  0.01978187,  0.0213549 ,\n",
       "          0.15664043,  0.05999393, -0.03036105,  0.07454889,  0.12296706,\n",
       "          0.00878114,  0.04319701,  0.03167537,  0.05068729, -0.01067725,\n",
       "          0.06127113,  0.14654745, -0.01772743,  0.04000608,  0.07163013,\n",
       "          0.05569566,  0.06486893, -0.03135101,  0.04571848,  0.07377528,\n",
       "          0.06323048,  0.05599957, -0.00325564,  0.05290375,  0.18670882,\n",
       "          0.04943348,  0.05839921, -0.01254695,  0.00374835,  0.04091755,\n",
       "          0.06934862,  0.05295921,  0.12965381,  0.26518968,  0.02922123,\n",
       "          0.0759641 ,  0.06503931, -0.02622866,  0.08374478, -0.05003466,\n",
       "          0.04679668,  0.00959557, -0.00260884, -0.01219916,  0.0059711 ,\n",
       "          0.05894898,  0.04760699,  0.04448665,  0.14146328,  0.04171022,\n",
       "          0.00039654,  0.14147858,  0.05612815,  0.03840605,  0.04201587,\n",
       "          0.0598927 ,  0.0404181 , -0.0121826 ,  0.002291  ,  0.02991664,\n",
       "          0.06338561,  0.05918598,  0.10408899, -0.05643817,  0.04786403,\n",
       "          0.17926623,  0.04988811,  0.05208017,  0.05186151,  0.0571902 ,\n",
       "          0.05716937, -0.02336271,  0.04936297], dtype=float32)),\n",
       " (),\n",
       " (array([[-4.78656381e-01, -4.84813273e-01, -5.50405860e-01],\n",
       "         [ 3.35031658e-01,  1.76466942e-01,  1.48843542e-01],\n",
       "         [-3.45053434e-01, -6.55529320e-01, -2.37278402e-01],\n",
       "         [-9.41956460e-01, -9.29954112e-01, -8.69155824e-01],\n",
       "         [ 2.55623072e-01, -3.67746176e-03,  1.26485467e-01],\n",
       "         [-5.47391735e-02, -1.23208657e-01, -1.38787791e-01],\n",
       "         [ 2.61397302e-01,  2.81228703e-02,  6.48772046e-02],\n",
       "         [ 2.01461002e-01,  1.97006389e-01,  1.24496259e-01],\n",
       "         [ 1.88138280e-02,  2.08875373e-01,  2.70739555e-01],\n",
       "         [ 2.38008395e-01,  2.37070963e-01,  4.67405587e-01],\n",
       "         [ 1.37017727e-01,  3.44284713e-01,  1.73349738e-01],\n",
       "         [ 2.18866974e-01,  2.30267376e-01, -6.88656420e-02],\n",
       "         [-6.76326990e-01, -6.99695110e-01, -1.38253331e-01],\n",
       "         [ 7.44611695e-02,  3.46906662e-01,  1.94446564e-01],\n",
       "         [ 1.27352834e-01,  3.37143987e-02,  7.34688267e-02],\n",
       "         [-1.10179520e+00, -9.15884078e-01, -9.38202620e-01],\n",
       "         [ 2.16434851e-01,  1.61506251e-01,  4.67592180e-02],\n",
       "         [-8.43614116e-02, -1.60350174e-01, -4.02493781e-04],\n",
       "         [-2.11055398e-01, -8.97642747e-02,  5.72317876e-02],\n",
       "         [ 2.15646937e-01,  2.57510275e-01,  1.78803712e-01],\n",
       "         [ 2.71565050e-01, -5.99395931e-02,  1.79622740e-01],\n",
       "         [ 7.15189651e-02,  2.59319156e-01,  2.61098385e-01],\n",
       "         [ 1.86891183e-01,  2.48789236e-01,  2.18168437e-01],\n",
       "         [ 1.84291024e-02,  2.42671505e-01,  2.19747853e-02],\n",
       "         [ 2.03428015e-01,  3.54187727e-01,  2.82053471e-01],\n",
       "         [ 7.03351319e-01,  8.09539080e-01,  7.72811830e-01],\n",
       "         [ 9.11437124e-02, -1.44656196e-01,  2.22388536e-01],\n",
       "         [ 2.26557896e-01, -1.10934088e-02,  2.13816017e-01],\n",
       "         [-1.12496905e-01, -1.87045932e-01, -5.97019009e-02],\n",
       "         [-7.61769235e-01, -7.72123635e-01, -9.75890219e-01],\n",
       "         [ 3.05190325e-01,  1.32497445e-01,  2.17855945e-01],\n",
       "         [ 1.31501675e-01,  1.12660259e-01,  1.65270157e-02],\n",
       "         [-5.56640387e-01, -4.99232233e-01, -2.92703152e-01],\n",
       "         [ 2.19774038e-01,  3.95686179e-02,  2.31017187e-01],\n",
       "         [-1.77604914e-01, -6.38101920e-02, -4.09325399e-02],\n",
       "         [-1.03784680e+00, -9.10168588e-01, -1.07743847e+00],\n",
       "         [-1.00170982e+00, -1.04068625e+00, -8.59334171e-01],\n",
       "         [ 8.45464468e-01,  2.08024696e-01, -4.88651544e-02],\n",
       "         [-4.31112051e-01, -1.91040486e-01, -3.56914222e-01],\n",
       "         [ 2.79779643e-01,  2.50112742e-01,  2.09560946e-01],\n",
       "         [ 5.63736148e-02,  2.27240503e-01,  2.81559199e-01],\n",
       "         [-7.16340959e-01, -4.02274430e-01, -5.70875406e-01],\n",
       "         [ 2.46527553e-01, -8.15471187e-02,  2.10321933e-01],\n",
       "         [ 1.37722507e-01, -1.67197183e-01,  3.23957533e-01],\n",
       "         [-8.45782340e-01, -1.05558038e+00, -1.12943280e+00],\n",
       "         [-3.96439135e-01, -2.55469799e-01, -4.35159922e-01],\n",
       "         [-2.39666134e-01,  1.18508175e-01, -3.05553824e-01],\n",
       "         [-6.16362095e-01, -5.21952748e-01, -6.37968063e-01],\n",
       "         [ 1.39270779e-02,  2.06092358e-01,  2.47910649e-01],\n",
       "         [-6.25008523e-01, -6.01777017e-01, -5.92815816e-01],\n",
       "         [ 1.96474746e-01,  1.98963687e-01, -1.47557515e-03],\n",
       "         [ 1.63086876e-01,  1.93513006e-01,  2.37006247e-01],\n",
       "         [ 1.29517719e-01,  1.98047608e-01,  2.71610498e-01],\n",
       "         [-1.42343462e-01,  7.90357590e-02, -8.58355612e-02],\n",
       "         [-5.27097523e-01, -3.60084742e-01, -4.36733454e-01],\n",
       "         [-8.70184779e-01, -2.06790432e-01, -1.00296281e-01],\n",
       "         [ 1.94708794e-01,  6.13125302e-02,  4.15276922e-02],\n",
       "         [ 1.23108901e-01, -2.63996720e-01, -2.07525179e-01],\n",
       "         [ 8.23504180e-02,  2.37032309e-01,  1.45315722e-01],\n",
       "         [-3.39615971e-01, -5.39651752e-01, -5.03607452e-01],\n",
       "         [-1.77049398e-01, -7.85850435e-02, -1.31696507e-01],\n",
       "         [ 4.49967720e-02,  3.20405841e-01,  1.52601779e-01],\n",
       "         [ 2.26537839e-01,  2.06401661e-01, -1.26141608e-01],\n",
       "         [-9.73755196e-02,  3.00717533e-01,  2.03305751e-01],\n",
       "         [-1.77933872e-02, -1.02676630e-01, -3.10888700e-02],\n",
       "         [ 2.64976263e-01,  2.50689447e-01,  1.67717174e-01],\n",
       "         [-2.89391667e-01, -5.38424611e-01, -5.13043404e-01],\n",
       "         [-1.12035535e-01, -2.91938297e-02,  5.71100600e-02],\n",
       "         [-6.81093931e-01, -7.79274285e-01, -8.95485103e-01],\n",
       "         [ 7.11113261e-03,  2.08368346e-01,  1.09029703e-01],\n",
       "         [ 2.67163366e-01,  9.01261866e-02,  2.32021391e-01],\n",
       "         [ 7.61629567e-02,  1.28208548e-01,  1.77933559e-01],\n",
       "         [-2.42862012e-02, -1.42082199e-01,  9.67771187e-02],\n",
       "         [ 1.93336159e-01,  8.01900402e-02,  1.84268087e-01],\n",
       "         [ 3.80656809e-01,  1.73509553e-01,  3.48442614e-01],\n",
       "         [-4.12368387e-01, -5.81474602e-01, -3.72003049e-01],\n",
       "         [ 2.31199354e-01,  9.51954871e-02,  9.01686102e-02],\n",
       "         [-2.30810836e-01,  3.19271423e-02, -2.17658013e-01],\n",
       "         [ 1.37645110e-01,  1.10636175e-01,  1.41822726e-01],\n",
       "         [-8.80627453e-01, -1.19069552e+00, -1.06030595e+00],\n",
       "         [ 1.34634405e-01,  2.07669675e-01,  3.21988791e-01],\n",
       "         [ 1.95426956e-01,  2.12161362e-01,  1.53630190e-02],\n",
       "         [-1.22733235e-01,  2.31809001e-02, -2.72758193e-02],\n",
       "         [ 3.04959603e-02, -6.61364049e-02, -2.81280249e-01],\n",
       "         [ 1.67098984e-01,  5.76136671e-02,  2.03342289e-01],\n",
       "         [ 2.42621675e-01,  4.24271375e-01,  3.72970521e-01],\n",
       "         [ 3.52295369e-01,  1.11584626e-01, -6.89266324e-02],\n",
       "         [-4.39384192e-01, -4.31890994e-01, -6.38583899e-01],\n",
       "         [ 5.71117282e-01,  4.89224911e-01,  3.75584066e-01],\n",
       "         [-3.42314690e-01, -6.00230023e-02,  3.19120228e-01],\n",
       "         [-5.33911943e-01, -4.10487771e-01, -4.53867435e-01],\n",
       "         [ 6.27191663e-02,  1.59758374e-01,  2.63538938e-02],\n",
       "         [ 1.95248798e-01,  3.79788578e-02,  2.10875288e-01],\n",
       "         [-5.45423508e-01, -3.39853108e-01, -3.81522626e-01],\n",
       "         [-2.18804523e-01, -5.64338192e-02, -2.85992641e-02],\n",
       "         [-5.62148280e-02,  2.20772356e-01,  8.28550979e-02],\n",
       "         [-4.09969002e-01, -3.73499215e-01, -1.92373544e-01],\n",
       "         [-5.19106209e-01, -1.23261869e-01, -1.96268767e-01],\n",
       "         [-1.57062620e-01, -1.10868244e-02,  6.20706715e-02],\n",
       "         [-1.57321051e-01, -3.06500614e-01, -2.30024591e-01],\n",
       "         [ 3.59437205e-02,  3.52994859e-01,  2.38882601e-01],\n",
       "         [ 1.36312008e-01,  1.38561815e-01,  2.23111033e-01],\n",
       "         [ 1.66426688e-01,  1.44103363e-01,  1.08864978e-01],\n",
       "         [-4.31933135e-01, -4.29439902e-01, -5.28308690e-01],\n",
       "         [-4.10688035e-02,  2.73244053e-01,  1.24709614e-01],\n",
       "         [-1.84629008e-01, -1.24577269e-01,  5.33142388e-02],\n",
       "         [-1.08149683e+00, -8.98993015e-01, -1.14275980e+00],\n",
       "         [ 2.08761305e-01,  1.56309798e-01, -1.25824418e-02],\n",
       "         [-4.95516181e-01, -3.53564203e-01, -1.31432191e-01],\n",
       "         [ 3.55273299e-02,  1.20648474e-01,  2.36399055e-01],\n",
       "         [ 8.50410089e-02, -1.47752538e-02,  2.15277553e-01],\n",
       "         [ 2.11633042e-01,  1.01077348e-01,  3.30886878e-02],\n",
       "         [-1.06111094e-01,  1.07693918e-01, -9.53614414e-02],\n",
       "         [-1.75395906e-01, -3.53530228e-01, -1.19211458e-01],\n",
       "         [ 2.68203467e-01,  2.82129109e-01, -1.54477522e-01],\n",
       "         [ 1.70596585e-01,  1.52597874e-01,  6.76318184e-02],\n",
       "         [ 5.46143129e-02,  1.23157211e-01,  8.29520896e-02],\n",
       "         [-5.31307220e-01, -1.78458467e-01, -5.32431602e-01],\n",
       "         [-1.97006300e-01, -1.22562185e-01, -7.49048591e-02],\n",
       "         [ 2.81229258e-01, -6.29485771e-02,  2.03068763e-01],\n",
       "         [-4.78337079e-01, -7.24266708e-01, -7.22120702e-01],\n",
       "         [ 3.39150280e-01,  6.52333498e-02,  1.42264619e-01],\n",
       "         [ 1.33290380e-01,  3.07468604e-02,  2.74779916e-01],\n",
       "         [-7.64167402e-04,  4.02096054e-03,  2.88234293e-01],\n",
       "         [ 2.67466605e-01,  2.52607644e-01,  2.24442825e-01],\n",
       "         [ 1.75580591e-01,  1.17959879e-01,  2.54109591e-01],\n",
       "         [-1.54530272e-01, -1.21206172e-01,  6.84056804e-02],\n",
       "         [ 3.03603262e-01,  1.25999466e-01,  8.91618878e-02]], dtype=float32),\n",
       "  array([0.02325003, 0.04449695, 0.04215444], dtype=float32))]"
      ]
     },
     "execution_count": 31,
     "metadata": {},
     "output_type": "execute_result"
    }
   ],
   "source": [
    "obj['params']"
   ]
  },
  {
   "cell_type": "code",
   "execution_count": null,
   "metadata": {},
   "outputs": [],
   "source": []
  }
 ],
 "metadata": {
  "kernelspec": {
   "display_name": "Python 3",
   "language": "python",
   "name": "python3"
  },
  "language_info": {
   "codemirror_mode": {
    "name": "ipython",
    "version": 3
   },
   "file_extension": ".py",
   "mimetype": "text/x-python",
   "name": "python",
   "nbconvert_exporter": "python",
   "pygments_lexer": "ipython3",
   "version": "3.6.13"
  }
 },
 "nbformat": 4,
 "nbformat_minor": 4
}
