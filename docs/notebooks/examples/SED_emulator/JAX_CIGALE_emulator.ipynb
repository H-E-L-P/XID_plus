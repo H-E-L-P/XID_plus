{
 "cells": [
  {
   "cell_type": "markdown",
   "metadata": {},
   "source": [
    "# The JAX emulator: CIGALE prototype\n",
    "In this notebook, I will prototype my idea for emulating radiative transfer codes with a Deepnet in order for it to be used inside xidplus. As `numpyro` uses JAX, the Deepnet wil ideally be trained with a JAX network. I will use CIGALE"
   ]
  },
  {
   "cell_type": "code",
   "execution_count": 1,
   "metadata": {},
   "outputs": [
    {
     "name": "stderr",
     "output_type": "stream",
     "text": [
      "/Users/pdh21/anaconda3/envs/xidplus/lib/python3.6/site-packages/jax/lib/xla_bridge.py:130: UserWarning: No GPU/TPU found, falling back to CPU.\n",
      "  warnings.warn('No GPU/TPU found, falling back to CPU.')\n"
     ]
    }
   ],
   "source": [
    "import fitIR\n",
    "import fitIR.models as models\n",
    "import fitIR.analyse as analyse\n",
    "from astropy.cosmology import WMAP9 as cosmo\n",
    "import jax\n",
    "import numpy as onp\n",
    "import pylab as plt\n",
    "import astropy.units as u\n",
    "import scipy.integrate as integrate\n",
    "%matplotlib inline\n",
    "\n",
    "import jax.numpy as np\n",
    "from jax import grad, jit, vmap, value_and_grad\n",
    "from jax import random\n",
    "from jax import vmap # for auto-vectorizing functions\n",
    "from functools import partial # for use with vmap\n",
    "from jax import jit # for compiling functions for speedup\n",
    "from jax.experimental import stax # neural network library\n",
    "from jax.experimental.stax import Conv, Dense, MaxPool, Relu, Flatten, LogSoftmax, LeakyRelu # neural network layers\n",
    "\n",
    "from jax.experimental import optimizers\n",
    "from jax.tree_util import tree_multimap  # Element-wise manipulation of collections of numpy arrays \n",
    "import matplotlib.pyplot as plt # visualization\n",
    "# Generate key which is used to generate random numbers\n",
    "key = random.PRNGKey(1)"
   ]
  },
  {
   "cell_type": "markdown",
   "metadata": {},
   "source": [
    "### Read in CIGALE SEDs"
   ]
  },
  {
   "cell_type": "code",
   "execution_count": 136,
   "metadata": {},
   "outputs": [],
   "source": [
    "from astropy.io import fits\n",
    "from astropy.table import Table"
   ]
  },
  {
   "cell_type": "markdown",
   "metadata": {},
   "source": [
    "### Generate values for CIGALE"
   ]
  },
  {
   "cell_type": "code",
   "execution_count": 181,
   "metadata": {},
   "outputs": [
    {
     "data": {
      "text/plain": [
       "'[0.0032,0.0033,0.0035,0.0036,0.0038,0.0040,0.0042,0.0044,0.0046,0.0048, 0.0050,0.0052,0.0055,0.0058,0.0060,0.0063,0.0066,0.0069,0.0072,0.0076, 0.0079,0.0083,0.0087,0.0091,0.0095,0.0100,0.0105,0.0110,0.0115,0.0120, 0.0126,0.0132,0.0138,0.0145,0.0151,0.0158,0.0166,0.0174,0.0182,0.0191, 0.0200,0.0209,0.0219,0.0229,0.0240,0.0251,0.0263,0.0275,0.0288,0.0302, 0.0316,0.0331,0.0347,0.0363,0.0380,0.0398,0.0417,0.0437,0.0457,0.0479, 0.0501,0.0525,0.0550,0.0575,0.0603,0.0631,0.0661,0.0692,0.0724,0.0759, 0.0794,0.0832,0.0871,0.0912,0.0955,0.1000,0.1047,0.1096,0.1148,0.1202, 0.1259,0.1318,0.1380,0.1445,0.1514,0.1585,0.1660,0.1738,0.1820,0.1905, 0.1995,0.2089,0.2188,0.2291,0.2399,0.2512,0.2630,0.2754,0.2884,0.3020, 0.3162,0.3311,0.3467,0.3631,0.3802,0.3981,0.4169,0.4365,0.4571,0.4786, 0.5012,0.5248,0.5495,0.5754,0.6026,0.6310,0.6607,0.6918,0.7244,0.7586, 0.7943,0.8318,0.8710,0.9120,0.9550,1.0000,1.0471,1.0965,1.1481,1.2023, 1.2589,1.3182,1.3804,1.4454,1.5136,1.5849,1.6596,1.7378,1.8197,1.9054, 1.9953,2.0893,2.1877,2.2909,2.3988,2.5119,2.6303,2.7542,2.8840,3.0199, 3.1623,3.3113,3.4673,3.6308,3.8019,3.9810,4.1687,4.3651,4.5709,4.7863, 5.0118,5.2480,5.4954,5.7544]'"
      ]
     },
     "execution_count": 181,
     "metadata": {},
     "output_type": "execute_result"
    }
   ],
   "source": [
    "onp.array2string(10.0**np.arange(-2.5,0.77,0.02), separator=',',formatter={'float_kind':lambda x: \"%.4f\" % x}).replace('\\n','')"
   ]
  },
  {
   "cell_type": "code",
   "execution_count": 184,
   "metadata": {},
   "outputs": [
    {
     "data": {
      "text/plain": [
       "'[0.00,0.05,0.10,0.15,0.20,0.25,0.30,0.35,0.40,0.45,0.50,0.55,0.60,0.65, 0.70,0.75,0.80,0.85,0.90,0.95]'"
      ]
     },
     "execution_count": 184,
     "metadata": {},
     "output_type": "execute_result"
    }
   ],
   "source": [
    "onp.array2string(np.arange(0,1,0.05),separator=',',formatter={'float_kind':lambda x: \"%.2f\" % x}).replace('\\n','')"
   ]
  },
  {
   "cell_type": "code",
   "execution_count": 185,
   "metadata": {},
   "outputs": [],
   "source": [
    "SEDs=Table.read('/Volumes/pdh_storage/cigale/out/models-block-0.fits')\n",
    "#set more appropriate units for dust\n",
    "from astropy.constants import L_sun, M_sun\n",
    "SEDs['dust.luminosity']=SEDs['dust.luminosity']/L_sun.value\n",
    "SEDs['dust.mass']=SEDs['dust.mass']/M_sun.value"
   ]
  },
  {
   "cell_type": "code",
   "execution_count": 186,
   "metadata": {},
   "outputs": [],
   "source": [
    "from astropy.table import vstack"
   ]
  },
  {
   "cell_type": "code",
   "execution_count": 187,
   "metadata": {},
   "outputs": [],
   "source": [
    "dataset=vstack([SEDs for i in range(0,scale.size)])"
   ]
  },
  {
   "cell_type": "code",
   "execution_count": 217,
   "metadata": {},
   "outputs": [],
   "source": [
    "# define a range of scales\n",
    "scale=np.arange(8,13,0.1)\n",
    "#repeat the SED table by the number of scale steps\n",
    "dataset=vstack([SEDs for i in range(0,scale.size)])\n",
    "#repeat the scale range by the number of entries in table (so I can easily multiply each column)\n",
    "scale_table=np.repeat(scale,len(SEDs))\n",
    "#parameters to scale\n",
    "col_scale=['mips_24','spire_250','spire_350','spire_500','dust.luminosity','dust.mass','sfh.sfr','stellar.m_star']\n",
    "for c in col_scale:\n",
    "    dataset[c]=dataset[c]*10.0**scale_table\n",
    "dataset['log10_sfh.sfr']=onp.log10(dataset['sfh.sfr'])\n",
    "dataset['log10_universe.redshift']=onp.log10(dataset['universe.redshift'])\n",
    "#shuffle dataset\n",
    "dataset=dataset[onp.random.choice(len(dataset), len(dataset), replace=False)]"
   ]
  },
  {
   "cell_type": "code",
   "execution_count": 218,
   "metadata": {},
   "outputs": [
    {
     "data": {
      "text/html": [
       "<i>Table length=164000</i>\n",
       "<table id=\"table140191908333384\" class=\"table-striped table-bordered table-condensed\">\n",
       "<thead><tr><th>id</th><th>mips_24</th><th>spire_250</th><th>spire_350</th><th>spire_500</th><th>dust.luminosity</th><th>dust.mass</th><th>sfh.sfr</th><th>stellar.m_star</th><th>agn.fracAGN</th><th>attenuation.BC_to_ISM_factor</th><th>attenuation.bessell_b</th><th>attenuation.galex_fuv</th><th>attenuation.slope_BC</th><th>attenuation.slope_ISM</th><th>dust.qpah</th><th>dust.umin</th><th>sfh.age</th><th>sfh.burst_age</th><th>sfh.f_burst</th><th>sfh.tau_main</th><th>universe.redshift</th><th>log10_sfh.sfr</th><th>log10_universe.redshift</th></tr></thead>\n",
       "<thead><tr><th></th><th></th><th></th><th></th><th></th><th></th><th></th><th></th><th></th><th></th><th></th><th>mag</th><th>mag</th><th>mag</th><th></th><th></th><th></th><th>Myr</th><th></th><th></th><th></th><th></th><th></th><th></th></tr></thead>\n",
       "<thead><tr><th>int64</th><th>float32</th><th>float32</th><th>float32</th><th>float32</th><th>float32</th><th>float32</th><th>float32</th><th>float32</th><th>float64</th><th>float64</th><th>float64</th><th>float64</th><th>float64</th><th>float64</th><th>float64</th><th>float64</th><th>float64</th><th>float64</th><th>float64</th><th>float64</th><th>float64</th><th>float32</th><th>float64</th></tr></thead>\n",
       "<tr><td>3127</td><td>11528.916</td><td>1424.4673</td><td>538.9485</td><td>182.0339</td><td>4028081700.0</td><td>2162379.5</td><td>0.4533572</td><td>87733320.0</td><td>0.95</td><td>0.5</td><td>4.376290746740257</td><td>9.392077535240679</td><td>-0.7</td><td>-0.7</td><td>1.12</td><td>10.0</td><td>1000.0</td><td>50.0</td><td>0.1</td><td>3000.0</td><td>0.0052</td><td>-0.3435595</td><td>-2.283996656365201</td></tr>\n",
       "<tr><td>1035</td><td>127333.37</td><td>356658.84</td><td>137868.55</td><td>46874.28</td><td>40282234000000.0</td><td>21624558000.0</td><td>4533.7314</td><td>877364100000.0</td><td>0.3</td><td>0.5</td><td>4.376290746740257</td><td>9.392077535240679</td><td>-0.7</td><td>-0.7</td><td>1.12</td><td>10.0</td><td>1000.0</td><td>50.0</td><td>0.1</td><td>3000.0</td><td>0.0331</td><td>3.6564558</td><td>-1.4801720062242814</td></tr>\n",
       "<tr><td>2499</td><td>149678.61</td><td>104915.27</td><td>40223.492</td><td>13641.377</td><td>4028187800000.0</td><td>2162436600.0</td><td>453.36914</td><td>87735630000.0</td><td>0.75</td><td>0.5</td><td>4.376290746740257</td><td>9.392077535240679</td><td>-0.7</td><td>-0.7</td><td>1.12</td><td>10.0</td><td>1000.0</td><td>50.0</td><td>0.1</td><td>3000.0</td><td>0.0191</td><td>2.656452</td><td>-1.7189666327522726</td></tr>\n",
       "<tr><td>3158</td><td>1263432.5</td><td>165551.5</td><td>63132.234</td><td>21372.398</td><td>8037312500000.0</td><td>4314639400.0</td><td>904.5928</td><td>175056060000.0</td><td>0.95</td><td>0.5</td><td>4.376290746740257</td><td>9.392077535240679</td><td>-0.7</td><td>-0.7</td><td>1.12</td><td>10.0</td><td>1000.0</td><td>50.0</td><td>0.1</td><td>3000.0</td><td>0.0219</td><td>2.956453</td><td>-1.6595558851598817</td></tr>\n",
       "<tr><td>1805</td><td>201086.69</td><td>269793.88</td><td>102711.49</td><td>34760.223</td><td>319967260000.0</td><td>171766780.0</td><td>36.012047</td><td>6969022000.0</td><td>0.55</td><td>0.5</td><td>4.376290746740257</td><td>9.392077535240679</td><td>-0.7</td><td>-0.7</td><td>1.12</td><td>10.0</td><td>1000.0</td><td>50.0</td><td>0.1</td><td>3000.0</td><td>0.0033</td><td>1.5564479</td><td>-2.4814860601221125</td></tr>\n",
       "<tr><td>1929</td><td>6.719679</td><td>63.46345</td><td>41.00637</td><td>18.971764</td><td>2541610300000.0</td><td>1364403000.0</td><td>286.05612</td><td>55357346000.0</td><td>0.55</td><td>0.5</td><td>4.376290746740257</td><td>9.392077535240679</td><td>-0.7</td><td>-0.7</td><td>1.12</td><td>10.0</td><td>1000.0</td><td>50.0</td><td>0.1</td><td>3000.0</td><td>1.0</td><td>2.4564512</td><td>0.0</td></tr>\n",
       "<tr><td>2322</td><td>811.24554</td><td>680.3846</td><td>259.81805</td><td>88.0098</td><td>8037100500.0</td><td>4314526.0</td><td>0.9045689</td><td>175051460.0</td><td>0.7</td><td>0.5</td><td>4.376290746740257</td><td>9.392077535240679</td><td>-0.7</td><td>-0.7</td><td>1.12</td><td>10.0</td><td>1000.0</td><td>50.0</td><td>0.1</td><td>3000.0</td><td>0.0105</td><td>-0.043558344</td><td>-1.978810700930062</td></tr>\n",
       "<tr><td>1637</td><td>1.3700674</td><td>11.580974</td><td>21.746723</td><td>34.19813</td><td>25416325000000.0</td><td>13644148000.0</td><td>2860.586</td><td>553578300000.0</td><td>0.45</td><td>0.5</td><td>4.376290746740257</td><td>9.392077535240679</td><td>-0.7</td><td>-0.7</td><td>1.12</td><td>10.0</td><td>1000.0</td><td>50.0</td><td>0.1</td><td>3000.0</td><td>5.248</td><td>3.456455</td><td>0.7199938263676039</td></tr>\n",
       "<tr><td>1170</td><td>5449.2544</td><td>12386.239</td><td>4729.3135</td><td>1601.9572</td><td>101182090000.0</td><td>54317188.0</td><td>11.387959</td><td>2203788500.0</td><td>0.35</td><td>0.5</td><td>4.376290746740257</td><td>9.392077535240679</td><td>-0.7</td><td>-0.7</td><td>1.12</td><td>10.0</td><td>1000.0</td><td>50.0</td><td>0.1</td><td>3000.0</td><td>0.0087</td><td>1.0564458</td><td>-2.0604807473813813</td></tr>\n",
       "<tr><td>...</td><td>...</td><td>...</td><td>...</td><td>...</td><td>...</td><td>...</td><td>...</td><td>...</td><td>...</td><td>...</td><td>...</td><td>...</td><td>...</td><td>...</td><td>...</td><td>...</td><td>...</td><td>...</td><td>...</td><td>...</td><td>...</td><td>...</td><td>...</td></tr>\n",
       "<tr><td>2569</td><td>5.1169114</td><td>12.657877</td><td>6.154222</td><td>2.339156</td><td>160363070000.0</td><td>86087090.0</td><td>18.048729</td><td>3492775400.0</td><td>0.75</td><td>0.5</td><td>4.376290746740257</td><td>9.392077535240679</td><td>-0.7</td><td>-0.7</td><td>1.12</td><td>10.0</td><td>1000.0</td><td>50.0</td><td>0.1</td><td>3000.0</td><td>0.4786</td><td>1.2564466</td><td>-0.3200273057225814</td></tr>\n",
       "<tr><td>308</td><td>0.6273728</td><td>44.215023</td><td>51.75547</td><td>41.4117</td><td>10118386000000.0</td><td>5431814000.0</td><td>1138.8158</td><td>220382720000.0</td><td>0.05</td><td>0.5</td><td>4.376290746740257</td><td>9.392077535240679</td><td>-0.7</td><td>-0.7</td><td>1.12</td><td>10.0</td><td>1000.0</td><td>50.0</td><td>0.1</td><td>3000.0</td><td>2.3988</td><td>3.0564535</td><td>0.3799940401657418</td></tr>\n",
       "<tr><td>1233</td><td>3933.799</td><td>15242.908</td><td>6319.104</td><td>2194.7312</td><td>31997286000000.0</td><td>17176979000.0</td><td>3601.2676</td><td>696914400000.0</td><td>0.35</td><td>0.5</td><td>4.376290746740257</td><td>9.392077535240679</td><td>-0.7</td><td>-0.7</td><td>1.12</td><td>10.0</td><td>1000.0</td><td>50.0</td><td>0.1</td><td>3000.0</td><td>0.1585</td><td>3.5564554</td><td>-0.7999707334462297</td></tr>\n",
       "<tr><td>3155</td><td>66415.01</td><td>8617.949</td><td>3282.0222</td><td>1110.6439</td><td>319967260000.0</td><td>171766780.0</td><td>36.012047</td><td>6969022000.0</td><td>0.95</td><td>0.5</td><td>4.376290746740257</td><td>9.392077535240679</td><td>-0.7</td><td>-0.7</td><td>1.12</td><td>10.0</td><td>1000.0</td><td>50.0</td><td>0.1</td><td>3000.0</td><td>0.0191</td><td>1.5564479</td><td>-1.7189666327522726</td></tr>\n",
       "<tr><td>1146</td><td>0.2615223</td><td>3.351701</td><td>7.1208587</td><td>12.180681</td><td>10118386000000.0</td><td>5431814000.0</td><td>1138.8158</td><td>220382720000.0</td><td>0.3</td><td>0.5</td><td>4.376290746740257</td><td>9.392077535240679</td><td>-0.7</td><td>-0.7</td><td>1.12</td><td>10.0</td><td>1000.0</td><td>50.0</td><td>0.1</td><td>3000.0</td><td>5.4954</td><td>3.0564535</td><td>0.7399993094019679</td></tr>\n",
       "<tr><td>224</td><td>3134.627</td><td>16044.977</td><td>6258.5625</td><td>2133.6794</td><td>4028187800000.0</td><td>2162436600.0</td><td>453.36914</td><td>87735630000.0</td><td>0.05</td><td>0.5</td><td>4.376290746740257</td><td>9.392077535240679</td><td>-0.7</td><td>-0.7</td><td>1.12</td><td>10.0</td><td>1000.0</td><td>50.0</td><td>0.1</td><td>3000.0</td><td>0.0501</td><td>2.656452</td><td>-1.3001622741327543</td></tr>\n",
       "<tr><td>551</td><td>8490.692</td><td>34893.26</td><td>13594.043</td><td>4632.7793</td><td>8037312500000.0</td><td>4314639400.0</td><td>904.5928</td><td>175056060000.0</td><td>0.15</td><td>0.5</td><td>4.376290746740257</td><td>9.392077535240679</td><td>-0.7</td><td>-0.7</td><td>1.12</td><td>10.0</td><td>1000.0</td><td>50.0</td><td>0.1</td><td>3000.0</td><td>0.0479</td><td>2.956453</td><td>-1.3196644865854368</td></tr>\n",
       "<tr><td>1841</td><td>28057.691</td><td>39696.637</td><td>15218.065</td><td>5161.048</td><td>1273819200000.0</td><td>683819460.0</td><td>143.36728</td><td>27744322000.0</td><td>0.55</td><td>0.5</td><td>4.376290746740257</td><td>9.392077535240679</td><td>-0.7</td><td>-0.7</td><td>1.12</td><td>10.0</td><td>1000.0</td><td>50.0</td><td>0.1</td><td>3000.0</td><td>0.0174</td><td>2.15645</td><td>-1.7594507517174003</td></tr>\n",
       "<tr><td>1158</td><td>525682.5</td><td>1177424.2</td><td>448747.9</td><td>151920.77</td><td>3199700600000.0</td><td>1717683000.0</td><td>360.1236</td><td>69690830000.0</td><td>0.35</td><td>0.5</td><td>4.376290746740257</td><td>9.392077535240679</td><td>-0.7</td><td>-0.7</td><td>1.12</td><td>10.0</td><td>1000.0</td><td>50.0</td><td>0.1</td><td>3000.0</td><td>0.005</td><td>2.5564516</td><td>-2.3010299956639813</td></tr>\n",
       "<tr><td>564</td><td>1877.039</td><td>8976.691</td><td>3572.213</td><td>1225.262</td><td>6384259000000.0</td><td>3427237000.0</td><td>718.54297</td><td>139051860000.0</td><td>0.15</td><td>0.5</td><td>4.376290746740257</td><td>9.392077535240679</td><td>-0.7</td><td>-0.7</td><td>1.12</td><td>10.0</td><td>1000.0</td><td>50.0</td><td>0.1</td><td>3000.0</td><td>0.0871</td><td>2.8564527</td><td>-1.0599818449923368</td></tr>\n",
       "</table>"
      ],
      "text/plain": [
       "<Table length=164000>\n",
       "  id   mips_24  spire_250 ... log10_sfh.sfr log10_universe.redshift\n",
       "                          ...                                      \n",
       "int64  float32   float32  ...    float32            float64        \n",
       "----- --------- --------- ... ------------- -----------------------\n",
       " 3127 11528.916 1424.4673 ...    -0.3435595      -2.283996656365201\n",
       " 1035 127333.37 356658.84 ...     3.6564558     -1.4801720062242814\n",
       " 2499 149678.61 104915.27 ...      2.656452     -1.7189666327522726\n",
       " 3158 1263432.5  165551.5 ...      2.956453     -1.6595558851598817\n",
       " 1805 201086.69 269793.88 ...     1.5564479     -2.4814860601221125\n",
       " 1929  6.719679  63.46345 ...     2.4564512                     0.0\n",
       " 2322 811.24554  680.3846 ...  -0.043558344      -1.978810700930062\n",
       " 1637 1.3700674 11.580974 ...      3.456455      0.7199938263676039\n",
       " 1170 5449.2544 12386.239 ...     1.0564458     -2.0604807473813813\n",
       "  ...       ...       ... ...           ...                     ...\n",
       " 2569 5.1169114 12.657877 ...     1.2564466     -0.3200273057225814\n",
       "  308 0.6273728 44.215023 ...     3.0564535      0.3799940401657418\n",
       " 1233  3933.799 15242.908 ...     3.5564554     -0.7999707334462297\n",
       " 3155  66415.01  8617.949 ...     1.5564479     -1.7189666327522726\n",
       " 1146 0.2615223  3.351701 ...     3.0564535      0.7399993094019679\n",
       "  224  3134.627 16044.977 ...      2.656452     -1.3001622741327543\n",
       "  551  8490.692  34893.26 ...      2.956453     -1.3196644865854368\n",
       " 1841 28057.691 39696.637 ...       2.15645     -1.7594507517174003\n",
       " 1158  525682.5 1177424.2 ...     2.5564516     -2.3010299956639813\n",
       "  564  1877.039  8976.691 ...     2.8564527     -1.0599818449923368"
      ]
     },
     "execution_count": 218,
     "metadata": {},
     "output_type": "execute_result"
    }
   ],
   "source": [
    "dataset\n"
   ]
  },
  {
   "cell_type": "markdown",
   "metadata": {},
   "source": [
    "The first step is to create a training and validation dataset. To do this I will randomly sample from parameter space (rather than a grid). I will create a function to do the sampling. I will also define function to do the transform and inverse_transform from standardised values to physical values.\n",
    "parameters:\n",
    "* sfr\n",
    "* redshift\n",
    "* AGNfraction\n",
    "\n",
    "Things to do:\n",
    "* need to transform\n",
    "* need to batch up and split"
   ]
  },
  {
   "cell_type": "code",
   "execution_count": 202,
   "metadata": {},
   "outputs": [
    {
     "data": {
      "text/plain": [
       "DeviceArray(1.4430925, dtype=float32)"
      ]
     },
     "execution_count": 202,
     "metadata": {},
     "output_type": "execute_result"
    }
   ],
   "source": [
    "\n",
    "\n"
   ]
  },
  {
   "cell_type": "code",
   "execution_count": null,
   "metadata": {},
   "outputs": [],
   "source": []
  },
  {
   "cell_type": "code",
   "execution_count": 4,
   "metadata": {},
   "outputs": [],
   "source": [
    "def standarise_uniform(lims):\n",
    "    param_sd=(lims[1]-lims[0])/np.sqrt(12.0)\n",
    "    param_mean=0.5*(lims[1]+lims[0])\n",
    "    return param_sd,param_mean\n",
    "\n",
    "def generate_samples(size=100,lims=np.array([[6,16],[-2,1],[1,1.85]])):\n",
    "    \"\"\"Sample from uniform space\"\"\"\n",
    "    #get parameter values from uniform distribution\n",
    "    LIR=onp.random.uniform(low=lims[0,0],high=lims[0,1],size=size)\n",
    "    #sample in log10 space for redshift\n",
    "    redshift=onp.random.uniform(low=lims[1,0],high=lims[1,1],size=size)\n",
    "    #sample in log10 space\n",
    "    temperature=onp.random.uniform(low=lims[2,0],high=lims[2,1],size=size)\n",
    "    #get standard deviation and mean for uniform dist\n",
    "    LIR_sd,LIR_mean=standarise_uniform(lims[0,:])\n",
    "    \n",
    "    red_sd, red_mean=standarise_uniform(lims[1,:])\n",
    "    \n",
    "    temp_sd,temp_mean=standarise_uniform(lims[2,:])\n",
    "    \n",
    "    return onp.vstack((LIR,redshift,temperature)).T,onp.vstack(((LIR-LIR_mean)/LIR_sd,(redshift-red_mean)/red_sd,(temperature-temp_mean)/temp_sd)).T"
   ]
  },
  {
   "cell_type": "code",
   "execution_count": 5,
   "metadata": {},
   "outputs": [],
   "source": [
    "def transform_parameters(param,lims=np.array([[6,16],[-2,1],[1,1.85]])):\n",
    "    \"\"\"transform from physical values to standardised values\"\"\"\n",
    "    LIR_sd,LIR_mean=standarise_uniform(lims[0,:])\n",
    "    \n",
    "    red_sd, red_mean=standarise_uniform(lims[1,:])\n",
    "    \n",
    "    temp_sd,temp_mean=standarise_uniform(lims[2,:])\n",
    "    \n",
    "    LIR_norm=(param[0]-LIR_mean)/LIR_sd\n",
    "    red_norm=(param[1]-red_mean)/red_sd\n",
    "    temp_norm=(param[2]-temp_mean)/temp_sd\n",
    "    return np.vstack((LIR_norm,red_norm,temp_norm)).T\n",
    "\n",
    "def inverse_transform_parameters(param,lims=np.array([[6,16],[-2,1],[1,1.85]])):\n",
    "    \"\"\" Transform from standardised parameters to physical values\n",
    "    function works with posterior samples\"\"\"\n",
    "    LIR_sd,LIR_mean=standarise_uniform(lims[0,:])\n",
    "    \n",
    "    red_sd, red_mean=standarise_uniform(lims[1,:])\n",
    "    \n",
    "    temp_sd,temp_mean=standarise_uniform(lims[2,:])\n",
    "    \n",
    "    LIR=param[...,0]*LIR_sd+LIR_mean\n",
    "    red=param[...,1]*red_sd+red_mean\n",
    "    temp=param[...,2]*temp_sd+temp_mean\n",
    "    return np.stack((LIR.T,red.T,temp.T)).T"
   ]
  },
  {
   "cell_type": "markdown",
   "metadata": {},
   "source": [
    "## DeepNet building\n",
    "I will build a multi input, multi output deepnet model as my emulator, with parameters as input and the observed flux as outputs. I will train on log10 flux to make the model easier to train, and have already standarised the input parameters. I wilkl be using `stax` which can be thought of as the `Keras` equivalent for `JAX`. This [blog](https://blog.evjang.com/2019/02/maml-jax.html) was useful starting point."
   ]
  },
  {
   "cell_type": "markdown",
   "metadata": {},
   "source": [
    "I will use batches to help train the network"
   ]
  },
  {
   "cell_type": "code",
   "execution_count": 294,
   "metadata": {},
   "outputs": [
    {
     "name": "stderr",
     "output_type": "stream",
     "text": [
      "/Users/pdh21/anaconda3/envs/xidplus/lib/python3.6/site-packages/jax/lax/lax.py:6188: UserWarning: Explicitly requested dtype <class 'float'> requested in astype is not available, and will be truncated to dtype float32. To enable more dtypes, set the jax_enable_x64 configuration option or the JAX_ENABLE_X64 shell environment variable. See https://github.com/google/jax#current-gotchas for more.\n",
      "  warnings.warn(msg.format(dtype, fun_name , truncated_dtype))\n"
     ]
    }
   ],
   "source": [
    "split=0.75\n",
    "inner_batch_size=1000\n",
    "\n",
    "train_ind=onp.round(0.75*len(dataset)).astype(int)\n",
    "train=dataset[0:train_ind]\n",
    "validation=dataset[train_ind:]\n",
    "input_cols=['log10_sfh.sfr','agn.fracAGN','log10_universe.redshift']\n",
    "output_cols=['mips_24','spire_250','spire_350','spire_500']\n",
    "train_batch_X=np.asarray([i.data for i in train[input_cols].values()]).reshape(len(input_cols)\n",
    "                                                                               ,inner_batch_size,onp.round(len(train)/inner_batch_size).astype(int)).T.astype(float)\n",
    "train_batch_Y=np.asarray([np.log10(i.data) for i in train[output_cols].values()]).reshape(len(output_cols),\n",
    "                                                                                          inner_batch_size,onp.round(len(train)/inner_batch_size).astype(int)).T.astype(float)\n",
    "validation_batch_X=np.asarray([i.data for i in validation[input_cols].values()]).reshape(len(input_cols)\n",
    "                                                                               ,inner_batch_size,onp.round(len(validation)/inner_batch_size).astype(int)).T.astype(float)\n",
    "validation_batch_Y=np.asarray([np.log10(i.data) for i in validation[output_cols].values()]).reshape(len(output_cols),\n",
    "                                                                                          inner_batch_size,onp.round(len(validation)/inner_batch_size).astype(int)).T.astype(float)"
   ]
  },
  {
   "cell_type": "code",
   "execution_count": 295,
   "metadata": {},
   "outputs": [],
   "source": [
    "# Use stax to set up network initialization and evaluation functions\n",
    "net_init, net_apply = stax.serial(\n",
    "    Dense(128), LeakyRelu,\n",
    "    Dense(128), LeakyRelu,\n",
    "    Dense(len(output_cols))\n",
    ")\n",
    "in_shape = (-1, len(input_cols),)\n",
    "out_shape, net_params = net_init(key,in_shape)"
   ]
  },
  {
   "cell_type": "code",
   "execution_count": 296,
   "metadata": {},
   "outputs": [],
   "source": [
    "def loss(params, inputs, targets):\n",
    "    # Computes average loss for the batch\n",
    "    predictions = net_apply(params, inputs)\n",
    "    return np.mean((targets - predictions)**2)\n",
    "\n",
    "def batch_loss(p,x_b,y_b):\n",
    "    loss_b=vmap(partial(loss,p))(x_b,y_b)\n",
    "    return np.mean(loss_b)"
   ]
  },
  {
   "cell_type": "code",
   "execution_count": 297,
   "metadata": {},
   "outputs": [
    {
     "name": "stdout",
     "output_type": "stream",
     "text": [
      "0\n",
      "100\n",
      "200\n",
      "300\n",
      "400\n",
      "500\n",
      "600\n",
      "700\n",
      "800\n",
      "900\n",
      "1000\n",
      "1100\n",
      "1200\n",
      "1300\n",
      "1400\n",
      "1500\n",
      "1600\n",
      "1700\n",
      "1800\n",
      "1900\n"
     ]
    }
   ],
   "source": [
    "opt_init, opt_update, get_params= optimizers.adam(step_size=1e-3)\n",
    "out_shape, net_params = net_init(key,in_shape)\n",
    "opt_state = opt_init(net_params)\n",
    "\n",
    "@jit\n",
    "def step(i, opt_state, x1, y1):\n",
    "    p = get_params(opt_state)\n",
    "    g = grad(batch_loss)(p, x1, y1)\n",
    "    loss_tmp=batch_loss(p,x1,y1)\n",
    "    return opt_update(i, g, opt_state),loss_tmp\n",
    "\n",
    "np_batched_loss_1 = []\n",
    "valid_loss=[]\n",
    "for i in range(2000):\n",
    "    opt_state, l = step(i, opt_state, train_batch_X, train_batch_Y)\n",
    "    p = get_params(opt_state)\n",
    "    valid_loss.append(batch_loss(p,validation_batch_X,validation_batch_Y))\n",
    "    np_batched_loss_1.append(l)\n",
    "    if i % 100 == 0:\n",
    "        print(i)\n",
    "net_params = get_params(opt_state)"
   ]
  },
  {
   "cell_type": "code",
   "execution_count": 305,
   "metadata": {},
   "outputs": [
    {
     "data": {
      "text/plain": [
       "<matplotlib.legend.Legend at 0x7f801b59ef28>"
      ]
     },
     "execution_count": 305,
     "metadata": {},
     "output_type": "execute_result"
    },
    {
     "data": {
      "image/png": "[encoded data removed]",
      "text/plain": [
       "<Figure size 720x360 with 1 Axes>"
      ]
     },
     "metadata": {
      "needs_background": "light"
     },
     "output_type": "display_data"
    }
   ],
   "source": [
    "plt.figure(figsize=(10,5))\n",
    "plt.semilogy(np_batched_loss_1,label='Training loss')\n",
    "plt.semilogy(valid_loss,label='Validation loss')\n",
    "plt.xlabel('Iteration')\n",
    "plt.ylabel('Loss (MSE)')\n",
    "plt.legend()\n"
   ]
  },
  {
   "cell_type": "markdown",
   "metadata": {},
   "source": [
    "## Investigate performance of each band of emulator\n",
    "To visulise performance of the trainied emulator, I will show the difference between real and emulated for each band."
   ]
  },
  {
   "cell_type": "code",
   "execution_count": 307,
   "metadata": {},
   "outputs": [],
   "source": [
    "predictions = net_apply(net_params,validation_batch_X)"
   ]
  },
  {
   "cell_type": "code",
   "execution_count": 309,
   "metadata": {},
   "outputs": [
    {
     "data": {
      "text/plain": [
       "(41, 1000, 3)"
      ]
     },
     "execution_count": 309,
     "metadata": {},
     "output_type": "execute_result"
    }
   ],
   "source": [
    "validation_batch_X.shape"
   ]
  },
  {
   "cell_type": "code",
   "execution_count": 301,
   "metadata": {},
   "outputs": [
    {
     "data": {
      "text/plain": [
       "(1000, 3)"
      ]
     },
     "execution_count": 301,
     "metadata": {},
     "output_type": "execute_result"
    }
   ],
   "source": [
    "validation_batch_X[0,:,:].shape"
   ]
  },
  {
   "cell_type": "code",
   "execution_count": 308,
   "metadata": {},
   "outputs": [
    {
     "data": {
      "image/png": "[encoded data removed]",
      "text/plain": [
       "<Figure size 3600x288 with 4 Axes>"
      ]
     },
     "metadata": {
      "needs_background": "light"
     },
     "output_type": "display_data"
    }
   ],
   "source": [
    "res=((predictions-validation_batch_Y)/validation_batch_Y)\n",
    "fig,axes=plt.subplots(1,len(output_cols),figsize=(50,len(output_cols)))\n",
    "for i in range(0,len(output_cols)):\n",
    "    axes[i].hist(res[:,:,i].flatten()*100.0,np.arange(-20,20))\n",
    "    axes[i].set_title(output_cols[i])\n",
    "    axes[i].set_xlabel(r'$\\frac{f_{pred} - f_{True}}{f_{True}} \\ \\%$ error')\n",
    "plt.subplots_adjust(wspace=0.5)"
   ]
  },
  {
   "cell_type": "markdown",
   "metadata": {},
   "source": [
    "## Save network\n",
    "Having trained and validated network, I need to save the network and relevant functions"
   ]
  },
  {
   "cell_type": "code",
   "execution_count": null,
   "metadata": {},
   "outputs": [],
   "source": [
    "import cloudpickle\n"
   ]
  },
  {
   "cell_type": "code",
   "execution_count": null,
   "metadata": {},
   "outputs": [],
   "source": [
    "with open('CIGALE_emulator_20210303.pkl', 'wb') as f:\n",
    "    cloudpickle.dump({'net_init':net_init,'net_apply': net_apply,'params':net_params}, f)\n",
    "    \n",
    "net_init, net_apply"
   ]
  },
  {
   "cell_type": "markdown",
   "metadata": {},
   "source": [
    "## Does SED look right?"
   ]
  },
  {
   "cell_type": "code",
   "execution_count": null,
   "metadata": {},
   "outputs": [],
   "source": [
    "net_apply(net_params,validation_batch_X)"
   ]
  },
  {
   "cell_type": "code",
   "execution_count": 310,
   "metadata": {},
   "outputs": [
    {
     "data": {
      "text/plain": [
       "(41, 1000, 3)"
      ]
     },
     "execution_count": 310,
     "metadata": {},
     "output_type": "execute_result"
    }
   ],
   "source": [
    "validation_batch_X.shape"
   ]
  },
  {
   "cell_type": "code",
   "execution_count": 315,
   "metadata": {},
   "outputs": [],
   "source": [
    "wave=np.array([24,250,350,500])"
   ]
  },
  {
   "cell_type": "code",
   "execution_count": 347,
   "metadata": {},
   "outputs": [
    {
     "data": {
      "text/plain": [
       "[<matplotlib.lines.Line2D at 0x7f8021112b70>]"
      ]
     },
     "execution_count": 347,
     "metadata": {},
     "output_type": "execute_result"
    },
    {
     "data": {
      "image/png": "[encoded data removed]",
      "text/plain": [
       "<Figure size 432x288 with 1 Axes>"
      ]
     },
     "metadata": {
      "needs_background": "light"
     },
     "output_type": "display_data"
    }
   ],
   "source": [
    "plt.loglog(wave,10.0**net_apply(net_params,np.array([3.0,0.5,0.0])),'o')\n",
    "plt.loglog(wave,10.0**net_apply(net_params,np.array([3.0,0.5,0.0])),'o')\n",
    "plt.loglog(wave,dataset[(dataset['universe.redshift']==1.0) & (dataset['agn.fracAGN'] == 0.5) & (dataset['sfh.sfr']>900) & (dataset['sfh.sfr']<1100)][output_cols].values())"
   ]
  },
  {
   "cell_type": "code",
   "execution_count": 342,
   "metadata": {},
   "outputs": [
    {
     "data": {
      "text/plain": [
       "DeviceArray([2.0539596, 2.6960201, 2.279064 , 1.8092766], dtype=float32)"
      ]
     },
     "execution_count": 342,
     "metadata": {},
     "output_type": "execute_result"
    }
   ],
   "source": [
    "validation_batch_Y[0,0,:]"
   ]
  },
  {
   "cell_type": "code",
   "execution_count": 343,
   "metadata": {},
   "outputs": [
    {
     "data": {
      "text/plain": [
       "DeviceArray([2.0435352, 2.6978173, 2.2898817, 1.8142447], dtype=float32)"
      ]
     },
     "execution_count": 343,
     "metadata": {},
     "output_type": "execute_result"
    }
   ],
   "source": [
    "predictions[0,0,:]"
   ]
  },
  {
   "cell_type": "code",
   "execution_count": 346,
   "metadata": {},
   "outputs": [
    {
     "data": {
      "text/plain": [
       "DeviceArray([ 0.05644206,  0.05      , -1.8601209 ], dtype=float32)"
      ]
     },
     "execution_count": 346,
     "metadata": {},
     "output_type": "execute_result"
    }
   ],
   "source": [
    "validation_batch_X[0,0,:]"
   ]
  },
  {
   "cell_type": "code",
   "execution_count": null,
   "metadata": {},
   "outputs": [],
   "source": []
  }
 ],
 "metadata": {
  "kernelspec": {
   "display_name": "Python 3",
   "language": "python",
   "name": "python3"
  },
  "language_info": {
   "codemirror_mode": {
    "name": "ipython",
    "version": 3
   },
   "file_extension": ".py",
   "mimetype": "text/x-python",
   "name": "python",
   "nbconvert_exporter": "python",
   "pygments_lexer": "ipython3",
   "version": "3.6.6"
  }
 },
 "nbformat": 4,
 "nbformat_minor": 2
}
