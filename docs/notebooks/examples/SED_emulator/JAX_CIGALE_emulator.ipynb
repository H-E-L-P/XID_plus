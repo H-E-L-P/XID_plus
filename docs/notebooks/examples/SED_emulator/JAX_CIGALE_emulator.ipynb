{
 "cells": [
  {
   "cell_type": "markdown",
   "metadata": {},
   "source": [
    "# The JAX emulator: CIGALE prototype\n",
    "In this notebook, I will prototype my idea for emulating radiative transfer codes with a Deepnet in order for it to be used inside xidplus. As `numpyro` uses JAX, the Deepnet wil ideally be trained with a JAX network. I will use CIGALE"
   ]
  },
  {
   "cell_type": "code",
   "execution_count": 1,
   "metadata": {},
   "outputs": [
    {
     "name": "stderr",
     "output_type": "stream",
     "text": [
      "W0329 11:48:54.943562 4378119616 xla_bridge.py:135] No GPU/TPU found, falling back to CPU. (Set TF_CPP_MIN_LOG_LEVEL=0 and rerun for more info.)\n"
     ]
    }
   ],
   "source": [
    "\n",
    "from astropy.cosmology import WMAP9 as cosmo\n",
    "import jax\n",
    "import numpy as onp\n",
    "import pylab as plt\n",
    "import astropy.units as u\n",
    "import scipy.integrate as integrate\n",
    "%matplotlib inline\n",
    "\n",
    "import jax.numpy as np\n",
    "from jax import grad, jit, vmap, value_and_grad\n",
    "from jax import random\n",
    "from jax import vmap # for auto-vectorizing functions\n",
    "from functools import partial # for use with vmap\n",
    "from jax import jit # for compiling functions for speedup\n",
    "from jax.experimental import stax # neural network library\n",
    "from jax.experimental.stax import Conv, Dense, MaxPool, Relu, Flatten, LogSoftmax, LeakyRelu # neural network layers\n",
    "\n",
    "from jax.experimental import optimizers\n",
    "from jax.tree_util import tree_multimap  # Element-wise manipulation of collections of numpy arrays \n",
    "import matplotlib.pyplot as plt # visualization\n",
    "# Generate key which is used to generate random numbers\n",
    "key = random.PRNGKey(1)"
   ]
  },
  {
   "cell_type": "markdown",
   "metadata": {},
   "source": [
    "### Read in CIGALE SEDs"
   ]
  },
  {
   "cell_type": "code",
   "execution_count": 2,
   "metadata": {},
   "outputs": [
    {
     "name": "stderr",
     "output_type": "stream",
     "text": [
      "/Users/pdh21/anaconda3/envs/xidplus/lib/python3.6/site-packages/dask/config.py:168: YAMLLoadWarning: calling yaml.load() without Loader=... is deprecated, as the default Loader is unsafe. Please read https://msg.pyyaml.org/load for full details.\n",
      "  data = yaml.load(f.read()) or {}\n"
     ]
    }
   ],
   "source": [
    "from astropy.io import fits\n",
    "from astropy.table import Table"
   ]
  },
  {
   "cell_type": "markdown",
   "metadata": {},
   "source": [
    "### Generate values for CIGALE"
   ]
  },
  {
   "cell_type": "markdown",
   "metadata": {},
   "source": [
    "Redshift"
   ]
  },
  {
   "cell_type": "code",
   "execution_count": 3,
   "metadata": {},
   "outputs": [
    {
     "data": {
      "text/plain": [
       "'[0.0032,0.0033,0.0035,0.0036,0.0038,0.0040,0.0042,0.0044,0.0046,0.0048, 0.0050,0.0052,0.0055,0.0058,0.0060,0.0063,0.0066,0.0069,0.0072,0.0076, 0.0079,0.0083,0.0087,0.0091,0.0095,0.0100,0.0105,0.0110,0.0115,0.0120, 0.0126,0.0132,0.0138,0.0145,0.0151,0.0158,0.0166,0.0174,0.0182,0.0191, 0.0200,0.0209,0.0219,0.0229,0.0240,0.0251,0.0263,0.0275,0.0288,0.0302, 0.0316,0.0331,0.0347,0.0363,0.0380,0.0398,0.0417,0.0437,0.0457,0.0479, 0.0501,0.0525,0.0550,0.0575,0.0603,0.0631,0.0661,0.0692,0.0724,0.0759, 0.0794,0.0832,0.0871,0.0912,0.0955,0.1000,0.1047,0.1096,0.1148,0.1202, 0.1259,0.1318,0.1380,0.1445,0.1514,0.1585,0.1660,0.1738,0.1820,0.1905, 0.1995,0.2089,0.2188,0.2291,0.2399,0.2512,0.2630,0.2754,0.2884,0.3020, 0.3162,0.3311,0.3467,0.3631,0.3802,0.3981,0.4169,0.4365,0.4571,0.4786, 0.5012,0.5248,0.5495,0.5754,0.6026,0.6310,0.6607,0.6918,0.7244,0.7586, 0.7943,0.8318,0.8710,0.9120,0.9550,1.0000,1.0471,1.0965,1.1481,1.2023, 1.2589,1.3182,1.3804,1.4454,1.5136,1.5849,1.6596,1.7378,1.8197,1.9054, 1.9953,2.0893,2.1877,2.2909,2.3988,2.5119,2.6303,2.7542,2.8840,3.0199, 3.1623,3.3113,3.4673,3.6308,3.8019,3.9810,4.1687,4.3651,4.5709,4.7863, 5.0118,5.2480,5.4954,5.7544]'"
      ]
     },
     "execution_count": 3,
     "metadata": {},
     "output_type": "execute_result"
    }
   ],
   "source": [
    "onp.array2string(10.0**np.arange(-2.5,0.77,0.02), separator=',',formatter={'float_kind':lambda x: \"%.4f\" % x}).replace('\\n','')"
   ]
  },
  {
   "cell_type": "markdown",
   "metadata": {},
   "source": [
    "AGN frac"
   ]
  },
  {
   "cell_type": "code",
   "execution_count": 4,
   "metadata": {},
   "outputs": [
    {
     "data": {
      "text/plain": [
       "'[0.001,0.051,0.101,0.151,0.201,0.251,0.301,0.351,0.401,0.451,0.501,0.551, 0.601,0.651,0.701,0.751,0.801,0.851,0.901,0.951]'"
      ]
     },
     "execution_count": 4,
     "metadata": {},
     "output_type": "execute_result"
    }
   ],
   "source": [
    "onp.array2string(np.arange(0.001,1,0.05),separator=',',formatter={'float_kind':lambda x: \"%.3f\" % x}).replace('\\n','')"
   ]
  },
  {
   "cell_type": "code",
   "execution_count": 5,
   "metadata": {},
   "outputs": [],
   "source": [
    "SEDs=Table.read('/Volumes/pdh_storage/cigale/2021-03-15_11:52:42_out//models-block-0.fits')\n",
    "#set more appropriate units for dust\n",
    "from astropy.constants import L_sun, M_sun\n",
    "SEDs['dust.luminosity']=SEDs['dust.luminosity']/L_sun.value\n",
    "SEDs['dust.mass']=SEDs['dust.mass']/M_sun.value"
   ]
  },
  {
   "cell_type": "code",
   "execution_count": 6,
   "metadata": {},
   "outputs": [
    {
     "data": {
      "text/html": [
       "<i>Table length=3280</i>\n",
       "<table id=\"table140451299173488\" class=\"table-striped table-bordered table-condensed\">\n",
       "<thead><tr><th>id</th><th>IRAC1</th><th>megacam_g</th><th>megacam_i</th><th>megacam_r</th><th>megacam_u</th><th>megacam_y</th><th>megacam_z</th><th>mips_24</th><th>spire_250</th><th>spire_350</th><th>spire_500</th><th>dust.luminosity</th><th>dust.mass</th><th>sfh.sfr</th><th>stellar.m_star</th><th>agn.fracAGN</th><th>attenuation.BC_to_ISM_factor</th><th>attenuation.bessell_b</th><th>attenuation.galex_fuv</th><th>attenuation.slope_BC</th><th>attenuation.slope_ISM</th><th>dust.qpah</th><th>dust.umin</th><th>sfh.age</th><th>sfh.burst_age</th><th>sfh.f_burst</th><th>sfh.tau_main</th><th>universe.redshift</th></tr></thead>\n",
       "<thead><tr><th></th><th>mJy</th><th>mJy</th><th>mJy</th><th>mJy</th><th>mJy</th><th>mJy</th><th>mJy</th><th>mJy</th><th>mJy</th><th>mJy</th><th>mJy</th><th>W</th><th>kg</th><th>solMass / yr</th><th>solMass</th><th></th><th></th><th>mag</th><th>mag</th><th>mag</th><th></th><th></th><th></th><th>Myr</th><th></th><th></th><th></th><th></th></tr></thead>\n",
       "<thead><tr><th>int64</th><th>float64</th><th>float64</th><th>float64</th><th>float64</th><th>float64</th><th>float64</th><th>float64</th><th>float64</th><th>float64</th><th>float64</th><th>float64</th><th>float64</th><th>float64</th><th>float64</th><th>float64</th><th>float64</th><th>float64</th><th>float64</th><th>float64</th><th>float64</th><th>float64</th><th>float64</th><th>float64</th><th>float64</th><th>float64</th><th>float64</th><th>float64</th><th>float64</th></tr></thead>\n",
       "<tr><td>0</td><td>1.0893700290160224e-07</td><td>4.277375681543152e-09</td><td>1.1824289763043319e-08</td><td>7.798121660412185e-09</td><td>1.777989256103348e-09</td><td>1.2304162230857001e-08</td><td>1.7054977663496222e-08</td><td>6.193894640285195e-06</td><td>2.8612034146739133e-05</td><td>1.0897664019213495e-05</td><td>3.688584055077046e-06</td><td>31.99616305125483</td><td>0.017176376845766003</td><td>3.6011411610560557e-09</td><td>0.6968899218426298</td><td>0.001</td><td>0.5</td><td>4.376290746740257</td><td>9.392077535240679</td><td>-0.7</td><td>-0.7</td><td>1.12</td><td>10.0</td><td>1000.0</td><td>50.0</td><td>0.1</td><td>3000.0</td><td>0.0032</td></tr>\n",
       "<tr><td>1</td><td>1.0242388186338501e-07</td><td>4.020819062006951e-09</td><td>1.1115475041403518e-08</td><td>7.330602680929944e-09</td><td>1.6708763677153773e-09</td><td>1.1566603330970226e-08</td><td>1.603232961482222e-08</td><td>5.822685333049485e-06</td><td>2.6909489755942493e-05</td><td>1.0249702314812148e-05</td><td>3.4693157070610693e-06</td><td>31.99616305125483</td><td>0.017176376845766003</td><td>3.6011411610560557e-09</td><td>0.6968899218426298</td><td>0.001</td><td>0.5</td><td>4.376290746740257</td><td>9.392077535240679</td><td>-0.7</td><td>-0.7</td><td>1.12</td><td>10.0</td><td>1000.0</td><td>50.0</td><td>0.1</td><td>3000.0</td><td>0.0033</td></tr>\n",
       "<tr><td>2</td><td>9.103331341237172e-08</td><td>3.572206200057256e-09</td><td>9.876011063757583e-09</td><td>6.5130826736568e-09</td><td>1.48361591749095e-09</td><td>1.0276885920014647e-08</td><td>1.4244115301572681e-08</td><td>5.1735662520352136e-06</td><td>2.393130041728951e-05</td><td>9.116212348847797e-06</td><td>3.085747125013702e-06</td><td>31.99616305125483</td><td>0.017176376845766003</td><td>3.6011411610560557e-09</td><td>0.6968899218426298</td><td>0.001</td><td>0.5</td><td>4.376290746740257</td><td>9.392077535240679</td><td>-0.7</td><td>-0.7</td><td>1.12</td><td>10.0</td><td>1000.0</td><td>50.0</td><td>0.1</td><td>3000.0</td><td>0.0035</td></tr>\n",
       "<tr><td>3</td><td>8.603695555130602e-08</td><td>3.375458310331776e-09</td><td>9.332402750385152e-09</td><td>6.1545343301667955e-09</td><td>1.4015056082316665e-09</td><td>9.711248577067663e-09</td><td>1.345985243913158e-08</td><td>4.888870982525272e-06</td><td>2.2624649968682522e-05</td><td>8.618886214220273e-06</td><td>2.917452516854994e-06</td><td>31.99616305125483</td><td>0.017176376845766003</td><td>3.6011411610560557e-09</td><td>0.6968899218426298</td><td>0.001</td><td>0.5</td><td>4.376290746740257</td><td>9.392077535240679</td><td>-0.7</td><td>-0.7</td><td>1.12</td><td>10.0</td><td>1000.0</td><td>50.0</td><td>0.1</td><td>3000.0</td><td>0.0036</td></tr>\n",
       "<tr><td>4</td><td>7.720224011090768e-08</td><td>3.0276169197564973e-09</td><td>8.371299045028442e-09</td><td>5.5206214705437795e-09</td><td>1.2563664915318932e-09</td><td>8.711188231930118e-09</td><td>1.2073283452326269e-08</td><td>4.385522855293602e-06</td><td>2.0313677765421176e-05</td><td>7.73927071340886e-06</td><td>2.6197886321423186e-06</td><td>31.99616305125483</td><td>0.017176376845766003</td><td>3.6011411610560557e-09</td><td>0.6968899218426298</td><td>0.001</td><td>0.5</td><td>4.376290746740257</td><td>9.392077535240679</td><td>-0.7</td><td>-0.7</td><td>1.12</td><td>10.0</td><td>1000.0</td><td>50.0</td><td>0.1</td><td>3000.0</td><td>0.0038</td></tr>\n",
       "<tr><td>5</td><td>6.966009367077697e-08</td><td>2.730729067588272e-09</td><td>7.550948717424769e-09</td><td>4.97954934592474e-09</td><td>1.1325206490784163e-09</td><td>7.857580832698825e-09</td><td>1.0889796399841026e-08</td><td>3.955884844794926e-06</td><td>1.8340219367195694e-05</td><td>6.98808653322697e-06</td><td>2.365581872817584e-06</td><td>31.99616305125483</td><td>0.017176376845766003</td><td>3.6011411610560557e-09</td><td>0.6968899218426298</td><td>0.001</td><td>0.5</td><td>4.376290746740257</td><td>9.392077535240679</td><td>-0.7</td><td>-0.7</td><td>1.12</td><td>10.0</td><td>1000.0</td><td>50.0</td><td>0.1</td><td>3000.0</td><td>0.004</td></tr>\n",
       "<tr><td>6</td><td>6.317018702931238e-08</td><td>2.475315756565785e-09</td><td>6.8451710603252375e-09</td><td>4.514048265490808e-09</td><td>1.0260038246653045e-09</td><td>7.123185495475755e-09</td><td>9.871614286975135e-09</td><td>3.586246619708091e-06</td><td>1.664158005457788e-05</td><td>6.341484278810178e-06</td><td>2.1467622116579716e-06</td><td>31.99616305125483</td><td>0.017176376845766003</td><td>3.6011411610560557e-09</td><td>0.6968899218426298</td><td>0.001</td><td>0.5</td><td>4.376290746740257</td><td>9.392077535240679</td><td>-0.7</td><td>-0.7</td><td>1.12</td><td>10.0</td><td>1000.0</td><td>50.0</td><td>0.1</td><td>3000.0</td><td>0.0042</td></tr>\n",
       "<tr><td>7</td><td>5.7545919268305324e-08</td><td>2.2540032478313774e-09</td><td>6.233600384418341e-09</td><td>4.110684648219867e-09</td><td>9.337326149269411e-10</td><td>6.486818450129212e-09</td><td>8.989350000898116e-09</td><td>3.2659426120459205e-06</td><td>1.5168985902744644e-05</td><td>5.7808977976512035e-06</td><td>1.9570486761070138e-06</td><td>31.99616305125483</td><td>0.017176376845766003</td><td>3.6011411610560557e-09</td><td>0.6968899218426298</td><td>0.001</td><td>0.5</td><td>4.376290746740257</td><td>9.392077535240679</td><td>-0.7</td><td>-0.7</td><td>1.12</td><td>10.0</td><td>1000.0</td><td>50.0</td><td>0.1</td><td>3000.0</td><td>0.0044</td></tr>\n",
       "<tr><td>8</td><td>5.263980663966553e-08</td><td>2.060986004074116e-09</td><td>5.700199759643778e-09</td><td>3.758887092752213e-09</td><td>8.532796928447357e-10</td><td>5.931785451406783e-09</td><td>8.219865949329861e-09</td><td>2.9865752967445497e-06</td><td>1.388401162290032e-05</td><td>5.29171315535515e-06</td><td>1.7914951254138202e-06</td><td>31.99616305125483</td><td>0.017176376845766003</td><td>3.6011411610560557e-09</td><td>0.6968899218426298</td><td>0.001</td><td>0.5</td><td>4.376290746740257</td><td>9.392077535240679</td><td>-0.7</td><td>-0.7</td><td>1.12</td><td>10.0</td><td>1000.0</td><td>50.0</td><td>0.1</td><td>3000.0</td><td>0.0046</td></tr>\n",
       "<tr><td>...</td><td>...</td><td>...</td><td>...</td><td>...</td><td>...</td><td>...</td><td>...</td><td>...</td><td>...</td><td>...</td><td>...</td><td>...</td><td>...</td><td>...</td><td>...</td><td>...</td><td>...</td><td>...</td><td>...</td><td>...</td><td>...</td><td>...</td><td>...</td><td>...</td><td>...</td><td>...</td><td>...</td><td>...</td></tr>\n",
       "<tr><td>3270</td><td>9.417396338272729e-15</td><td>6.371120549195082e-19</td><td>2.8203888736663915e-17</td><td>9.0151946132938e-18</td><td>6.90966213930887e-21</td><td>3.097708036119305e-17</td><td>6.681979872666248e-17</td><td>8.499522333101048e-11</td><td>1.5418405586775917e-10</td><td>1.1442787391577905e-10</td><td>9.2272071702177e-11</td><td>31.99616305125483</td><td>0.017176376845766003</td><td>3.6011411610560557e-09</td><td>0.6968899218426298</td><td>0.951</td><td>0.5</td><td>4.376290746740257</td><td>9.392077535240679</td><td>-0.7</td><td>-0.7</td><td>1.12</td><td>10.0</td><td>1000.0</td><td>50.0</td><td>0.1</td><td>3000.0</td><td>3.8019</td></tr>\n",
       "<tr><td>3271</td><td>7.905340546700427e-15</td><td>3.6125185181994457e-19</td><td>2.1325863848346274e-17</td><td>6.045877384565618e-18</td><td>3.337486387639817e-21</td><td>2.3551444322327327e-17</td><td>5.203555508871009e-17</td><td>7.701411579258018e-11</td><td>1.4924854906592225e-10</td><td>1.0887924589980036e-10</td><td>8.789040943655907e-11</td><td>31.99616305125483</td><td>0.017176376845766003</td><td>3.6011411610560557e-09</td><td>0.6968899218426298</td><td>0.951</td><td>0.5</td><td>4.376290746740257</td><td>9.392077535240679</td><td>-0.7</td><td>-0.7</td><td>1.12</td><td>10.0</td><td>1000.0</td><td>50.0</td><td>0.1</td><td>3000.0</td><td>3.981</td></tr>\n",
       "<tr><td>3272</td><td>6.642688687563922e-15</td><td>1.9221483838516696e-19</td><td>1.6139407507592343e-17</td><td>3.696051515597114e-18</td><td>1.5741061486071805e-21</td><td>1.7720041359607804e-17</td><td>3.9900165863484755e-17</td><td>6.957630188243635e-11</td><td>1.4462322171484093e-10</td><td>1.0387355505629866e-10</td><td>8.370862310686913e-11</td><td>31.99616305125483</td><td>0.017176376845766003</td><td>3.6011411610560557e-09</td><td>0.6968899218426298</td><td>0.951</td><td>0.5</td><td>4.376290746740257</td><td>9.392077535240679</td><td>-0.7</td><td>-0.7</td><td>1.12</td><td>10.0</td><td>1000.0</td><td>50.0</td><td>0.1</td><td>3000.0</td><td>4.1687</td></tr>\n",
       "<tr><td>3273</td><td>5.59589529943452e-15</td><td>7.721046295415955e-20</td><td>1.2233228566430762e-17</td><td>2.011760001422383e-18</td><td>5.56584754043683e-22</td><td>1.3524154045215068e-17</td><td>2.969646748547637e-17</td><td>6.268423720571128e-11</td><td>1.402060241656186e-10</td><td>9.938172762816421e-11</td><td>7.972087464710776e-11</td><td>31.99616305125483</td><td>0.017176376845766003</td><td>3.6011411610560557e-09</td><td>0.6968899218426298</td><td>0.951</td><td>0.5</td><td>4.376290746740257</td><td>9.392077535240679</td><td>-0.7</td><td>-0.7</td><td>1.12</td><td>10.0</td><td>1000.0</td><td>50.0</td><td>0.1</td><td>3000.0</td><td>4.3651</td></tr>\n",
       "<tr><td>3274</td><td>4.78014973519746e-15</td><td>2.4970427385282576e-20</td><td>9.2962613598503e-18</td><td>9.34167683234444e-19</td><td>1.0031701181760542e-22</td><td>1.0356131081544532e-17</td><td>2.211885444616714e-17</td><td>5.630647455147856e-11</td><td>1.3587557601763906e-10</td><td>9.539069293244536e-11</td><td>7.591658149359844e-11</td><td>31.99616305125483</td><td>0.017176376845766003</td><td>3.6011411610560557e-09</td><td>0.6968899218426298</td><td>0.951</td><td>0.5</td><td>4.376290746740257</td><td>9.392077535240679</td><td>-0.7</td><td>-0.7</td><td>1.12</td><td>10.0</td><td>1000.0</td><td>50.0</td><td>0.1</td><td>3000.0</td><td>4.5709</td></tr>\n",
       "<tr><td>3275</td><td>4.0569322277144805e-15</td><td>6.189382884423037e-21</td><td>6.167985260438711e-18</td><td>4.806148385193344e-19</td><td>1.695000176153081e-23</td><td>7.472007203632274e-18</td><td>1.6919893266335404e-17</td><td>5.042194602915463e-11</td><td>1.3150997258882296e-10</td><td>9.187214026097258e-11</td><td>7.231182399572495e-11</td><td>31.99616305125483</td><td>0.017176376845766003</td><td>3.6011411610560557e-09</td><td>0.6968899218426298</td><td>0.951</td><td>0.5</td><td>4.376290746740257</td><td>9.392077535240679</td><td>-0.7</td><td>-0.7</td><td>1.12</td><td>10.0</td><td>1000.0</td><td>50.0</td><td>0.1</td><td>3000.0</td><td>4.7863</td></tr>\n",
       "<tr><td>3276</td><td>3.4601770183087152e-15</td><td>5.594127852023588e-22</td><td>3.829973044388309e-18</td><td>2.7215031692240944e-19</td><td>6.819577376832009e-26</td><td>4.687863085463137e-18</td><td>1.2791341043335578e-17</td><td>4.4998882626828926e-11</td><td>1.2702469329698354e-10</td><td>8.877098823778467e-11</td><td>6.890635887429596e-11</td><td>31.99616305125483</td><td>0.017176376845766003</td><td>3.6011411610560557e-09</td><td>0.6968899218426298</td><td>0.951</td><td>0.5</td><td>4.376290746740257</td><td>9.392077535240679</td><td>-0.7</td><td>-0.7</td><td>1.12</td><td>10.0</td><td>1000.0</td><td>50.0</td><td>0.1</td><td>3000.0</td><td>5.0118</td></tr>\n",
       "<tr><td>3277</td><td>2.9389583994887647e-15</td><td>5.7201190439139876e-24</td><td>2.2020635107627996e-18</td><td>1.2751445278747343e-19</td><td>2.3639746228127134e-28</td><td>2.749887977489922e-18</td><td>9.807080548557249e-18</td><td>4.0006704215091655e-11</td><td>1.223376478119989e-10</td><td>8.605070799759253e-11</td><td>6.571118789278721e-11</td><td>31.99616305125483</td><td>0.017176376845766003</td><td>3.6011411610560557e-09</td><td>0.6968899218426298</td><td>0.951</td><td>0.5</td><td>4.376290746740257</td><td>9.392077535240679</td><td>-0.7</td><td>-0.7</td><td>1.12</td><td>10.0</td><td>1000.0</td><td>50.0</td><td>0.1</td><td>3000.0</td><td>5.248</td></tr>\n",
       "<tr><td>3278</td><td>2.5008965272097606e-15</td><td>6.569762588140831e-26</td><td>1.0841078493164516e-18</td><td>4.5525725389691865e-20</td><td>7.229832501530994e-29</td><td>1.388377726066778e-18</td><td>7.386647812329835e-18</td><td>3.541530267147402e-11</td><td>1.173835025075971e-10</td><td>8.365049283857845e-11</td><td>6.274374720096805e-11</td><td>31.99616305125483</td><td>0.017176376845766003</td><td>3.6011411610560557e-09</td><td>0.6968899218426298</td><td>0.951</td><td>0.5</td><td>4.376290746740257</td><td>9.392077535240679</td><td>-0.7</td><td>-0.7</td><td>1.12</td><td>10.0</td><td>1000.0</td><td>50.0</td><td>0.1</td><td>3000.0</td><td>5.4954</td></tr>\n",
       "<tr><td>3279</td><td>2.119157284042556e-15</td><td>3.2284079336855915e-30</td><td>3.7293745143462033e-19</td><td>8.395626343840951e-21</td><td>1.9887710850825572e-29</td><td>5.334677138754371e-19</td><td>5.321868055594935e-18</td><td>3.1187082698679823e-11</td><td>1.1214265596056425e-10</td><td>8.150010819229373e-11</td><td>6.001180868245716e-11</td><td>31.99616305125483</td><td>0.017176376845766003</td><td>3.6011411610560557e-09</td><td>0.6968899218426298</td><td>0.951</td><td>0.5</td><td>4.376290746740257</td><td>9.392077535240679</td><td>-0.7</td><td>-0.7</td><td>1.12</td><td>10.0</td><td>1000.0</td><td>50.0</td><td>0.1</td><td>3000.0</td><td>5.7544</td></tr>\n",
       "</table>"
      ],
      "text/plain": [
       "<Table length=3280>\n",
       "  id          IRAC1          ... sfh.tau_main universe.redshift\n",
       "               mJy           ...                               \n",
       "int64        float64         ...   float64         float64     \n",
       "----- ---------------------- ... ------------ -----------------\n",
       "    0 1.0893700290160224e-07 ...       3000.0            0.0032\n",
       "    1 1.0242388186338501e-07 ...       3000.0            0.0033\n",
       "    2  9.103331341237172e-08 ...       3000.0            0.0035\n",
       "    3  8.603695555130602e-08 ...       3000.0            0.0036\n",
       "    4  7.720224011090768e-08 ...       3000.0            0.0038\n",
       "    5  6.966009367077697e-08 ...       3000.0             0.004\n",
       "    6  6.317018702931238e-08 ...       3000.0            0.0042\n",
       "    7 5.7545919268305324e-08 ...       3000.0            0.0044\n",
       "    8  5.263980663966553e-08 ...       3000.0            0.0046\n",
       "  ...                    ... ...          ...               ...\n",
       " 3270  9.417396338272729e-15 ...       3000.0            3.8019\n",
       " 3271  7.905340546700427e-15 ...       3000.0             3.981\n",
       " 3272  6.642688687563922e-15 ...       3000.0            4.1687\n",
       " 3273   5.59589529943452e-15 ...       3000.0            4.3651\n",
       " 3274   4.78014973519746e-15 ...       3000.0            4.5709\n",
       " 3275 4.0569322277144805e-15 ...       3000.0            4.7863\n",
       " 3276 3.4601770183087152e-15 ...       3000.0            5.0118\n",
       " 3277 2.9389583994887647e-15 ...       3000.0             5.248\n",
       " 3278 2.5008965272097606e-15 ...       3000.0            5.4954\n",
       " 3279  2.119157284042556e-15 ...       3000.0            5.7544"
      ]
     },
     "execution_count": 6,
     "metadata": {},
     "output_type": "execute_result"
    }
   ],
   "source": [
    "SEDs"
   ]
  },
  {
   "cell_type": "code",
   "execution_count": 7,
   "metadata": {},
   "outputs": [],
   "source": [
    "from astropy.table import vstack"
   ]
  },
  {
   "cell_type": "code",
   "execution_count": 8,
   "metadata": {},
   "outputs": [],
   "source": [
    "# define a range of scales\n",
    "scale=np.arange(8,14,0.1)\n",
    "#repeat the SED table by the number of scale steps\n",
    "dataset=vstack([SEDs for i in range(0,scale.size)])\n",
    "#repeat the scale range by the number of entries in table (so I can easily multiply each column)\n",
    "scale_table=np.repeat(scale,len(SEDs))\n",
    "#parameters to scale\n",
    "col_scale=['megacam_u','megacam_g','megacam_r','megacam_i','megacam_z','megacam_y','IRAC1','mips_24','spire_250','spire_350','spire_500','dust.luminosity','dust.mass','sfh.sfr','stellar.m_star']\n",
    "for c in col_scale:\n",
    "    dataset[c]=dataset[c]*10.0**scale_table\n",
    "dataset['log10_sfh.sfr']=onp.log10(dataset['sfh.sfr'])\n",
    "dataset['log10_universe.redshift']=onp.log10(dataset['universe.redshift'])\n",
    "# transform AGN fraction to logit scale\n",
    "dataset['logit_agnfrac']=onp.log(dataset['agn.fracAGN']/(1-dataset['agn.fracAGN']))\n",
    "#shuffle dataset\n",
    "dataset=dataset[onp.random.choice(len(dataset), len(dataset), replace=False)]"
   ]
  },
  {
   "cell_type": "code",
   "execution_count": 9,
   "metadata": {},
   "outputs": [
    {
     "data": {
      "text/html": [
       "<i>Table length=196800</i>\n",
       "<table id=\"table140451288923608\" class=\"table-striped table-bordered table-condensed\">\n",
       "<thead><tr><th>id</th><th>IRAC1</th><th>megacam_g</th><th>megacam_i</th><th>megacam_r</th><th>megacam_u</th><th>megacam_y</th><th>megacam_z</th><th>mips_24</th><th>spire_250</th><th>spire_350</th><th>spire_500</th><th>dust.luminosity</th><th>dust.mass</th><th>sfh.sfr</th><th>stellar.m_star</th><th>agn.fracAGN</th><th>attenuation.BC_to_ISM_factor</th><th>attenuation.bessell_b</th><th>attenuation.galex_fuv</th><th>attenuation.slope_BC</th><th>attenuation.slope_ISM</th><th>dust.qpah</th><th>dust.umin</th><th>sfh.age</th><th>sfh.burst_age</th><th>sfh.f_burst</th><th>sfh.tau_main</th><th>universe.redshift</th><th>log10_sfh.sfr</th><th>log10_universe.redshift</th><th>logit_agnfrac</th></tr></thead>\n",
       "<thead><tr><th></th><th></th><th></th><th></th><th></th><th></th><th></th><th></th><th></th><th></th><th></th><th></th><th></th><th></th><th></th><th></th><th></th><th></th><th>mag</th><th>mag</th><th>mag</th><th></th><th></th><th></th><th>Myr</th><th></th><th></th><th></th><th></th><th></th><th></th><th></th></tr></thead>\n",
       "<thead><tr><th>int64</th><th>float32</th><th>float32</th><th>float32</th><th>float32</th><th>float32</th><th>float32</th><th>float32</th><th>float32</th><th>float32</th><th>float32</th><th>float32</th><th>float32</th><th>float32</th><th>float32</th><th>float32</th><th>float64</th><th>float64</th><th>float64</th><th>float64</th><th>float64</th><th>float64</th><th>float64</th><th>float64</th><th>float64</th><th>float64</th><th>float64</th><th>float64</th><th>float64</th><th>float32</th><th>float64</th><th>float64</th></tr></thead>\n",
       "<tr><td>998</td><td>21526.705</td><td>48.02345</td><td>133.16199</td><td>87.659485</td><td>19.798983</td><td>138.61717</td><td>193.06714</td><td>129904.734</td><td>326071.84</td><td>124340.984</td><td>42101.63</td><td>1273819200000.0</td><td>683819460.0</td><td>143.36728</td><td>27744322000.0</td><td>0.301</td><td>0.5</td><td>4.376290746740257</td><td>9.392077535240679</td><td>-0.7</td><td>-0.7</td><td>1.12</td><td>10.0</td><td>1000.0</td><td>50.0</td><td>0.1</td><td>3000.0</td><td>0.006</td><td>2.15645</td><td>-2.221848749616356</td><td>-0.8425404774849347</td></tr>\n",
       "<tr><td>343</td><td>932520.94</td><td>6896.9307</td><td>19096.502</td><td>12586.322</td><td>2841.0068</td><td>19874.639</td><td>27570.469</td><td>12247261.0</td><td>46870840.0</td><td>17878254.0</td><td>6054085.0</td><td>201890660000000.0</td><td>108380185000.0</td><td>22722.623</td><td>4397263700000.0</td><td>0.101</td><td>0.5</td><td>4.376290746740257</td><td>9.392077535240679</td><td>-0.7</td><td>-0.7</td><td>1.12</td><td>10.0</td><td>1000.0</td><td>50.0</td><td>0.1</td><td>3000.0</td><td>0.0063</td><td>4.3564587</td><td>-2.2006594505464183</td><td>-2.1861625176303607</td></tr>\n",
       "<tr><td>3009</td><td>37639.785</td><td>4.047929</td><td>11.705162</td><td>7.529493</td><td>1.4664596</td><td>12.276423</td><td>18.235569</td><td>119831.77</td><td>33696.062</td><td>13044.643</td><td>4436.5527</td><td>6384259000000.0</td><td>3427237000.0</td><td>718.54297</td><td>139051860000.0</td><td>0.901</td><td>0.5</td><td>4.376290746740257</td><td>9.392077535240679</td><td>-0.7</td><td>-0.7</td><td>1.12</td><td>10.0</td><td>1000.0</td><td>50.0</td><td>0.1</td><td>3000.0</td><td>0.0437</td><td>2.8564527</td><td>-1.359518563029578</td><td>2.2083854074737483</td></tr>\n",
       "<tr><td>1118</td><td>0.014511614</td><td>2.6209274e-05</td><td>0.00015251724</td><td>7.477375e-05</td><td>7.1125914e-06</td><td>0.00016292649</td><td>0.00027154663</td><td>0.8720222</td><td>24.006418</td><td>20.503332</td><td>11.34645</td><td>2018871100000.0</td><td>1083782800.0</td><td>227.22223</td><td>43971863000.0</td><td>0.301</td><td>0.5</td><td>4.376290746740257</td><td>9.392077535240679</td><td>-0.7</td><td>-0.7</td><td>1.12</td><td>10.0</td><td>1000.0</td><td>50.0</td><td>0.1</td><td>3000.0</td><td>1.5136</td><td>2.3564508</td><td>0.18001111905771755</td><td>-0.8425404774849347</td></tr>\n",
       "<tr><td>1096</td><td>0.0055717807</td><td>6.6169246e-06</td><td>3.9692863e-05</td><td>2.185246e-05</td><td>2.7179406e-06</td><td>4.1389707e-05</td><td>5.793417e-05</td><td>0.050276194</td><td>0.64440656</td><td>0.323867</td><td>0.12669584</td><td>10118119000.0</td><td>5431671.0</td><td>1.1387858</td><td>220376910.0</td><td>0.301</td><td>0.5</td><td>4.376290746740257</td><td>9.392077535240679</td><td>-0.7</td><td>-0.7</td><td>1.12</td><td>10.0</td><td>1000.0</td><td>50.0</td><td>0.1</td><td>3000.0</td><td>0.5495</td><td>0.05644206</td><td>-0.26003230324049065</td><td>-0.8425404774849347</td></tr>\n",
       "<tr><td>87</td><td>1.16216</td><td>0.03226287</td><td>0.10337991</td><td>0.067419395</td><td>0.010508706</td><td>0.10754257</td><td>0.14827693</td><td>56.703438</td><td>515.68365</td><td>215.80682</td><td>75.17755</td><td>1273819200000.0</td><td>683819460.0</td><td>143.36728</td><td>27744322000.0</td><td>0.001</td><td>0.5</td><td>4.376290746740257</td><td>9.392077535240679</td><td>-0.7</td><td>-0.7</td><td>1.12</td><td>10.0</td><td>1000.0</td><td>50.0</td><td>0.1</td><td>3000.0</td><td>0.1738</td><td>2.15645</td><td>-0.7599502278873523</td><td>-6.906754778648554</td></tr>\n",
       "<tr><td>2327</td><td>11420568.0</td><td>4864.8135</td><td>13641.31</td><td>8917.476</td><td>1960.8524</td><td>14223.69</td><td>20211.137</td><td>40746840.0</td><td>34377044.0</td><td>13144974.0</td><td>4454471.0</td><td>638437100000000.0</td><td>342729720000.0</td><td>71855.555</td><td>13905430000000.0</td><td>0.701</td><td>0.5</td><td>4.376290746740257</td><td>9.392077535240679</td><td>-0.7</td><td>-0.7</td><td>1.12</td><td>10.0</td><td>1000.0</td><td>50.0</td><td>0.1</td><td>3000.0</td><td>0.0132</td><td>4.8564606</td><td>-1.8794260687941502</td><td>0.8520643136439034</td></tr>\n",
       "<tr><td>109</td><td>14.389067</td><td>0.26250234</td><td>1.4759973</td><td>0.8993957</td><td>0.10912605</td><td>1.5358495</td><td>2.1582398</td><td>784.9382</td><td>19848.898</td><td>9689.69</td><td>3688.243</td><td>254165500000000.0</td><td>136442680000.0</td><td>28606.113</td><td>5535831700000.0</td><td>0.001</td><td>0.5</td><td>4.376290746740257</td><td>9.392077535240679</td><td>-0.7</td><td>-0.7</td><td>1.12</td><td>10.0</td><td>1000.0</td><td>50.0</td><td>0.1</td><td>3000.0</td><td>0.4786</td><td>4.456459</td><td>-0.3200273057225814</td><td>-6.906754778648554</td></tr>\n",
       "<tr><td>1116</td><td>0.17624326</td><td>0.00031662185</td><td>0.0017378991</td><td>0.0008753109</td><td>9.2936956e-05</td><td>0.0018436251</td><td>0.0034178789</td><td>8.300868</td><td>225.9103</td><td>182.38432</td><td>95.66406</td><td>16036590000000.0</td><td>8608861000.0</td><td>1804.9047</td><td>349283700000.0</td><td>0.301</td><td>0.5</td><td>4.376290746740257</td><td>9.392077535240679</td><td>-0.7</td><td>-0.7</td><td>1.12</td><td>10.0</td><td>1000.0</td><td>50.0</td><td>0.1</td><td>3000.0</td><td>1.3804</td><td>3.2564542</td><td>0.14000495061944926</td><td>-0.8425404774849347</td></tr>\n",
       "<tr><td>...</td><td>...</td><td>...</td><td>...</td><td>...</td><td>...</td><td>...</td><td>...</td><td>...</td><td>...</td><td>...</td><td>...</td><td>...</td><td>...</td><td>...</td><td>...</td><td>...</td><td>...</td><td>...</td><td>...</td><td>...</td><td>...</td><td>...</td><td>...</td><td>...</td><td>...</td><td>...</td><td>...</td><td>...</td><td>...</td><td>...</td><td>...</td></tr>\n",
       "<tr><td>951</td><td>0.00019408503</td><td>3.8624916e-07</td><td>2.0630323e-06</td><td>1.062766e-06</td><td>1.1756856e-07</td><td>2.1852445e-06</td><td>4.3717023e-06</td><td>0.007834254</td><td>0.24520993</td><td>0.19238093</td><td>0.09858478</td><td>16036167000.0</td><td>8608633.0</td><td>1.804857</td><td>349274460.0</td><td>0.251</td><td>0.5</td><td>4.376290746740257</td><td>9.392077535240679</td><td>-0.7</td><td>-0.7</td><td>1.12</td><td>10.0</td><td>1000.0</td><td>50.0</td><td>0.1</td><td>3000.0</td><td>1.3182</td><td>0.25644282</td><td>0.11998130730415395</td><td>-1.0932860443854355</td></tr>\n",
       "<tr><td>229</td><td>24323.299</td><td>289.11194</td><td>817.1566</td><td>540.30676</td><td>98.62871</td><td>852.91144</td><td>1174.0908</td><td>482665.84</td><td>2600194.8</td><td>1021293.1</td><td>348917.62</td><td>1011856400000000.0</td><td>543190940000.0</td><td>113883.58</td><td>22038658000000.0</td><td>0.051</td><td>0.5</td><td>4.376290746740257</td><td>9.392077535240679</td><td>-0.7</td><td>-0.7</td><td>1.12</td><td>10.0</td><td>1000.0</td><td>50.0</td><td>0.1</td><td>3000.0</td><td>0.0631</td><td>5.0564613</td><td>-1.1999706407558657</td><td>-2.923583165885602</td></tr>\n",
       "<tr><td>1386</td><td>107.55909</td><td>0.14305148</td><td>0.41373897</td><td>0.27249244</td><td>0.045184255</td><td>0.43156332</td><td>0.59947026</td><td>544.891</td><td>1512.7454</td><td>604.65533</td><td>207.6744</td><td>1273819200000.0</td><td>683819460.0</td><td>143.36728</td><td>27744322000.0</td><td>0.401</td><td>0.5</td><td>4.376290746740257</td><td>9.392077535240679</td><td>-0.7</td><td>-0.7</td><td>1.12</td><td>10.0</td><td>1000.0</td><td>50.0</td><td>0.1</td><td>3000.0</td><td>0.0955</td><td>2.15645</td><td>-1.0199966284162536</td><td>-0.40130017080888003</td></tr>\n",
       "<tr><td>2145</td><td>60327.82</td><td>32.455193</td><td>90.61491</td><td>59.324554</td><td>13.385598</td><td>94.41837</td><td>133.83856</td><td>223698.25</td><td>220753.19</td><td>84121.48</td><td>28477.135</td><td>803724200000.0</td><td>431460160.0</td><td>90.45848</td><td>17505452000.0</td><td>0.651</td><td>0.5</td><td>4.376290746740257</td><td>9.392077535240679</td><td>-0.7</td><td>-0.7</td><td>1.12</td><td>10.0</td><td>1000.0</td><td>50.0</td><td>0.1</td><td>3000.0</td><td>0.0058</td><td>1.9564493</td><td>-2.2365720064370627</td><td>0.6234377200061422</td></tr>\n",
       "<tr><td>1792</td><td>9.388715e-06</td><td>1.4250198e-09</td><td>3.8542684e-08</td><td>1.37439296e-08</td><td>1.4847158e-11</td><td>4.2906567e-08</td><td>8.6799446e-08</td><td>0.0043602902</td><td>0.04229413</td><td>0.06554895</td><td>0.06887625</td><td>25415657000.0</td><td>13643789.0</td><td>2.8605108</td><td>553563700.0</td><td>0.501</td><td>0.5</td><td>4.376290746740257</td><td>9.392077535240679</td><td>-0.7</td><td>-0.7</td><td>1.12</td><td>10.0</td><td>1000.0</td><td>50.0</td><td>0.1</td><td>3000.0</td><td>3.4673</td><td>0.4564436</td><td>0.539991419593507</td><td>0.004000005333346137</td></tr>\n",
       "<tr><td>1519</td><td>3338338.8</td><td>3940.3716</td><td>11002.805</td><td>7235.3794</td><td>1535.377</td><td>11470.67</td><td>15976.87</td><td>15456312.0</td><td>29130068.0</td><td>11200071.0</td><td>3801752.2</td><td>1603687100000000.0</td><td>860901150000.0</td><td>180493.64</td><td>34928983000000.0</td><td>0.451</td><td>0.5</td><td>4.376290746740257</td><td>9.392077535240679</td><td>-0.7</td><td>-0.7</td><td>1.12</td><td>10.0</td><td>1000.0</td><td>50.0</td><td>0.1</td><td>3000.0</td><td>0.0229</td><td>5.256462</td><td>-1.640164517660112</td><td>-0.19663110200685208</td></tr>\n",
       "<tr><td>1127</td><td>0.0007575707</td><td>7.4368035e-07</td><td>6.469975e-06</td><td>2.846175e-06</td><td>1.1666445e-07</td><td>6.932961e-06</td><td>1.2103667e-05</td><td>0.10435002</td><td>2.517185</td><td>2.807897</td><td>2.1660273</td><td>507114800000.0</td><td>272232480.0</td><td>57.075344</td><td>11045175000.0</td><td>0.301</td><td>0.5</td><td>4.376290746740257</td><td>9.392077535240679</td><td>-0.7</td><td>-0.7</td><td>1.12</td><td>10.0</td><td>1000.0</td><td>50.0</td><td>0.1</td><td>3000.0</td><td>2.2909</td><td>1.7564485</td><td>0.36000613222909844</td><td>-0.8425404774849347</td></tr>\n",
       "<tr><td>2508</td><td>1880552.1</td><td>614.94794</td><td>1734.9464</td><td>1133.1625</td><td>234.61328</td><td>1811.7898</td><td>2575.3027</td><td>6507372.0</td><td>4699852.5</td><td>1810665.4</td><td>614965.4</td><td>402825860000000.0</td><td>216247450000.0</td><td>45337.71</td><td>8773717500000.0</td><td>0.751</td><td>0.5</td><td>4.376290746740257</td><td>9.392077535240679</td><td>-0.7</td><td>-0.7</td><td>1.12</td><td>10.0</td><td>1000.0</td><td>50.0</td><td>0.1</td><td>3000.0</td><td>0.0288</td><td>4.65646</td><td>-1.5406075122407692</td><td>1.1039527552994273</td></tr>\n",
       "<tr><td>947</td><td>1.1274673</td><td>0.0021039525</td><td>0.011498777</td><td>0.0055669704</td><td>0.00071091834</td><td>0.012589143</td><td>0.026514677</td><td>33.013405</td><td>852.7456</td><td>589.17535</td><td>280.80466</td><td>40282234000000.0</td><td>21624558000.0</td><td>4533.7314</td><td>877364100000.0</td><td>0.251</td><td>0.5</td><td>4.376290746740257</td><td>9.392077535240679</td><td>-0.7</td><td>-0.7</td><td>1.12</td><td>10.0</td><td>1000.0</td><td>50.0</td><td>0.1</td><td>3000.0</td><td>1.0965</td><td>3.6564558</td><td>0.04000863601354171</td><td>-1.0932860443854355</td></tr>\n",
       "<tr><td>1346</td><td>127.71501</td><td>0.18516214</td><td>0.5155741</td><td>0.3391091</td><td>0.074191965</td><td>0.5371058</td><td>0.7484013</td><td>636.503</td><td>1316.67</td><td>504.2973</td><td>170.98076</td><td>31996443000.0</td><td>17176528.0</td><td>3.6011727</td><td>696896060.0</td><td>0.401</td><td>0.5</td><td>4.376290746740257</td><td>9.392077535240679</td><td>-0.7</td><td>-0.7</td><td>1.12</td><td>10.0</td><td>1000.0</td><td>50.0</td><td>0.1</td><td>3000.0</td><td>0.0151</td><td>0.5564439</td><td>-1.8210230527068305</td><td>-0.40130017080888003</td></tr>\n",
       "</table>"
      ],
      "text/plain": [
       "<Table length=196800>\n",
       "  id      IRAC1     ... log10_universe.redshift    logit_agnfrac    \n",
       "                    ...                                             \n",
       "int64    float32    ...         float64               float64       \n",
       "----- ------------- ... ----------------------- --------------------\n",
       "  998     21526.705 ...      -2.221848749616356  -0.8425404774849347\n",
       "  343     932520.94 ...     -2.2006594505464183  -2.1861625176303607\n",
       " 3009     37639.785 ...      -1.359518563029578   2.2083854074737483\n",
       " 1118   0.014511614 ...     0.18001111905771755  -0.8425404774849347\n",
       " 1096  0.0055717807 ...    -0.26003230324049065  -0.8425404774849347\n",
       "   87       1.16216 ...     -0.7599502278873523   -6.906754778648554\n",
       " 2327    11420568.0 ...     -1.8794260687941502   0.8520643136439034\n",
       "  109     14.389067 ...     -0.3200273057225814   -6.906754778648554\n",
       " 1116    0.17624326 ...     0.14000495061944926  -0.8425404774849347\n",
       "  ...           ... ...                     ...                  ...\n",
       "  951 0.00019408503 ...     0.11998130730415395  -1.0932860443854355\n",
       "  229     24323.299 ...     -1.1999706407558657   -2.923583165885602\n",
       " 1386     107.55909 ...     -1.0199966284162536 -0.40130017080888003\n",
       " 2145      60327.82 ...     -2.2365720064370627   0.6234377200061422\n",
       " 1792  9.388715e-06 ...       0.539991419593507 0.004000005333346137\n",
       " 1519     3338338.8 ...      -1.640164517660112 -0.19663110200685208\n",
       " 1127  0.0007575707 ...     0.36000613222909844  -0.8425404774849347\n",
       " 2508     1880552.1 ...     -1.5406075122407692   1.1039527552994273\n",
       "  947     1.1274673 ...     0.04000863601354171  -1.0932860443854355\n",
       " 1346     127.71501 ...     -1.8210230527068305 -0.40130017080888003"
      ]
     },
     "execution_count": 9,
     "metadata": {},
     "output_type": "execute_result"
    }
   ],
   "source": [
    "dataset\n"
   ]
  },
  {
   "cell_type": "markdown",
   "metadata": {},
   "source": [
    "## DeepNet building\n",
    "I will build a multi input, multi output deepnet model as my emulator, with parameters as input and the observed flux as outputs. I will train on log10 flux to make the model easier to train, and have already standarised the input parameters. I wilkl be using `stax` which can be thought of as the `Keras` equivalent for `JAX`. This [blog](https://blog.evjang.com/2019/02/maml-jax.html) was useful starting point."
   ]
  },
  {
   "cell_type": "markdown",
   "metadata": {},
   "source": [
    "I will use batches to help train the network"
   ]
  },
  {
   "cell_type": "code",
   "execution_count": 37,
   "metadata": {},
   "outputs": [],
   "source": [
    "split=0.75\n",
    "inner_batch_size=1200\n",
    "\n",
    "train_ind=onp.round(0.75*len(dataset)).astype(int)\n",
    "train=dataset[0:train_ind]\n",
    "validation=dataset[train_ind:]\n",
    "input_cols=['log10_sfh.sfr','agn.fracAGN','universe.redshift']\n",
    "output_cols=['spire_250','spire_350','spire_500']\n",
    "train_batch_X=np.asarray([i.data for i in train[input_cols].values()]).reshape(len(input_cols)\n",
    "                                                                               ,inner_batch_size,onp.round(len(train)/inner_batch_size).astype(int)).T.astype(float)\n",
    "train_batch_Y=np.asarray([np.log(i.data) for i in train[output_cols].values()]).reshape(len(output_cols),\n",
    "                                                                                          inner_batch_size,onp.round(len(train)/inner_batch_size).astype(int)).T.astype(float)\n",
    "validation_batch_X=np.asarray([i.data for i in validation[input_cols].values()]).reshape(len(input_cols)\n",
    "                                                                               ,inner_batch_size,onp.round(len(validation)/inner_batch_size).astype(int)).T.astype(float)\n",
    "validation_batch_Y=np.asarray([np.log(i.data) for i in validation[output_cols].values()]).reshape(len(output_cols),\n",
    "                                                                                          inner_batch_size,onp.round(len(validation)/inner_batch_size).astype(int)).T.astype(float)"
   ]
  },
  {
   "cell_type": "code",
   "execution_count": 38,
   "metadata": {},
   "outputs": [],
   "source": [
    "# Use stax to set up network initialization and evaluation functions\n",
    "net_init, net_apply = stax.serial(\n",
    "    Dense(128), LeakyRelu,\n",
    "    Dense(128), LeakyRelu,\n",
    "    Dense(len(output_cols))\n",
    ")\n",
    "in_shape = (-1, len(input_cols),)\n",
    "out_shape, net_params = net_init(key,in_shape)"
   ]
  },
  {
   "cell_type": "code",
   "execution_count": 39,
   "metadata": {},
   "outputs": [],
   "source": [
    "def loss(params, inputs, targets):\n",
    "    # Computes average loss for the batch\n",
    "    predictions = net_apply(params, inputs)\n",
    "    return np.mean((targets - predictions)**2)\n",
    "\n",
    "def batch_loss(p,x_b,y_b):\n",
    "    loss_b=vmap(partial(loss,p))(x_b,y_b)\n",
    "    return np.mean(loss_b)"
   ]
  },
  {
   "cell_type": "code",
   "execution_count": 40,
   "metadata": {},
   "outputs": [
    {
     "name": "stdout",
     "output_type": "stream",
     "text": [
      "0\n",
      "100\n",
      "200\n",
      "300\n",
      "400\n",
      "500\n",
      "600\n",
      "700\n",
      "800\n",
      "900\n",
      "1000\n",
      "1100\n",
      "1200\n",
      "1300\n",
      "1400\n",
      "1500\n",
      "1600\n",
      "1700\n",
      "1800\n",
      "1900\n",
      "2000\n",
      "2100\n",
      "2200\n",
      "2300\n",
      "2400\n",
      "2500\n",
      "2600\n",
      "2700\n",
      "2800\n",
      "2900\n",
      "3000\n",
      "3100\n",
      "3200\n",
      "3300\n",
      "3400\n",
      "3500\n",
      "3600\n",
      "3700\n",
      "3800\n",
      "3900\n",
      "4000\n",
      "4100\n",
      "4200\n",
      "4300\n",
      "4400\n",
      "4500\n",
      "4600\n",
      "4700\n",
      "4800\n",
      "4900\n",
      "5000\n",
      "5100\n",
      "5200\n",
      "5300\n",
      "5400\n",
      "5500\n",
      "5600\n",
      "5700\n",
      "5800\n",
      "5900\n",
      "6000\n",
      "6100\n",
      "6200\n",
      "6300\n",
      "6400\n",
      "6500\n",
      "6600\n",
      "6700\n",
      "6800\n",
      "6900\n",
      "7000\n",
      "7100\n",
      "7200\n",
      "7300\n",
      "7400\n",
      "7500\n",
      "7600\n",
      "7700\n",
      "7800\n",
      "7900\n",
      "8000\n",
      "8100\n",
      "8200\n",
      "8300\n",
      "8400\n",
      "8500\n",
      "8600\n",
      "8700\n",
      "8800\n",
      "8900\n",
      "9000\n",
      "9100\n",
      "9200\n",
      "9300\n",
      "9400\n",
      "9500\n",
      "9600\n",
      "9700\n",
      "9800\n",
      "9900\n"
     ]
    }
   ],
   "source": [
    "opt_init, opt_update, get_params= optimizers.adam(step_size=5e-4)\n",
    "out_shape, net_params = net_init(key,in_shape)\n",
    "opt_state = opt_init(net_params)\n",
    "\n",
    "@jit\n",
    "def step(i, opt_state, x1, y1):\n",
    "    p = get_params(opt_state)\n",
    "    g = grad(batch_loss)(p, x1, y1)\n",
    "    loss_tmp=batch_loss(p,x1,y1)\n",
    "    return opt_update(i, g, opt_state),loss_tmp\n",
    "\n",
    "np_batched_loss_1 = []\n",
    "valid_loss=[]\n",
    "for i in range(10000):\n",
    "    opt_state, l = step(i, opt_state, train_batch_X, train_batch_Y)\n",
    "    p = get_params(opt_state)\n",
    "    valid_loss.append(batch_loss(p,validation_batch_X,validation_batch_Y))\n",
    "    np_batched_loss_1.append(l)\n",
    "    if i % 100 == 0:\n",
    "        print(i)\n",
    "net_params = get_params(opt_state)"
   ]
  },
  {
   "cell_type": "code",
   "execution_count": 51,
   "metadata": {},
   "outputs": [
    {
     "name": "stdout",
     "output_type": "stream",
     "text": [
      "0\n",
      "100\n",
      "200\n",
      "300\n",
      "400\n",
      "500\n",
      "600\n",
      "700\n",
      "800\n",
      "900\n",
      "1000\n",
      "1100\n",
      "1200\n",
      "1300\n",
      "1400\n",
      "1500\n",
      "1600\n",
      "1700\n",
      "1800\n",
      "1900\n"
     ]
    }
   ],
   "source": [
    "for i in range(2000):\n",
    "    opt_state, l = step(i, opt_state, train_batch_X, train_batch_Y)\n",
    "    p = get_params(opt_state)\n",
    "    valid_loss.append(batch_loss(p,validation_batch_X,validation_batch_Y))\n",
    "    np_batched_loss_1.append(l)\n",
    "    if i % 100 == 0:\n",
    "        print(i)\n",
    "net_params = get_params(opt_state)"
   ]
  },
  {
   "cell_type": "code",
   "execution_count": 52,
   "metadata": {},
   "outputs": [
    {
     "data": {
      "text/plain": [
       "<matplotlib.legend.Legend at 0x7fbc8e8fedd8>"
      ]
     },
     "execution_count": 52,
     "metadata": {},
     "output_type": "execute_result"
    },
    {
     "data": {
      "image/png": "[encoded data removed]",
      "text/plain": [
       "<Figure size 1440x720 with 1 Axes>"
      ]
     },
     "metadata": {
      "needs_background": "light"
     },
     "output_type": "display_data"
    }
   ],
   "source": [
    "plt.figure(figsize=(20,10))\n",
    "plt.semilogy(np_batched_loss_1,label='Training loss')\n",
    "plt.semilogy(valid_loss,label='Validation loss')\n",
    "plt.xlabel('Iteration')\n",
    "plt.ylabel('Loss (MSE)')\n",
    "plt.legend()\n"
   ]
  },
  {
   "cell_type": "markdown",
   "metadata": {},
   "source": [
    "## Investigate performance of each band of emulator\n",
    "To visulise performance of the trainied emulator, I will show the difference between real and emulated for each band."
   ]
  },
  {
   "cell_type": "code",
   "execution_count": 53,
   "metadata": {},
   "outputs": [],
   "source": [
    "net_params = get_params(opt_state)\n",
    "predictions = net_apply(net_params,validation_batch_X)"
   ]
  },
  {
   "cell_type": "code",
   "execution_count": 54,
   "metadata": {},
   "outputs": [
    {
     "data": {
      "text/plain": [
       "(41, 1200, 3)"
      ]
     },
     "execution_count": 54,
     "metadata": {},
     "output_type": "execute_result"
    }
   ],
   "source": [
    "validation_batch_X.shape"
   ]
  },
  {
   "cell_type": "code",
   "execution_count": 55,
   "metadata": {},
   "outputs": [
    {
     "data": {
      "text/plain": [
       "(1200, 3)"
      ]
     },
     "execution_count": 55,
     "metadata": {},
     "output_type": "execute_result"
    }
   ],
   "source": [
    "validation_batch_X[0,:,:].shape"
   ]
  },
  {
   "cell_type": "code",
   "execution_count": 56,
   "metadata": {},
   "outputs": [
    {
     "data": {
      "image/png": "[encoded data removed]",
      "text/plain": [
       "<Figure size 3600x216 with 3 Axes>"
      ]
     },
     "metadata": {
      "needs_background": "light"
     },
     "output_type": "display_data"
    }
   ],
   "source": [
    "res=((np.exp(predictions)-np.exp(validation_batch_Y))/(np.exp(validation_batch_Y)))\n",
    "fig,axes=plt.subplots(1,len(output_cols),figsize=(50,len(output_cols)))\n",
    "for i in range(0,len(output_cols)):\n",
    "    axes[i].hist(res[:,:,i].flatten()*100.0,np.arange(-10,10,0.1))\n",
    "    axes[i].set_title(output_cols[i])\n",
    "    axes[i].set_xlabel(r'$\\frac{f_{pred} - f_{True}}{f_{True}} \\ \\%$ error')\n",
    "plt.subplots_adjust(wspace=0.5)"
   ]
  },
  {
   "cell_type": "markdown",
   "metadata": {},
   "source": [
    "## Save network\n",
    "Having trained and validated network, I need to save the network and relevant functions"
   ]
  },
  {
   "cell_type": "code",
   "execution_count": 57,
   "metadata": {},
   "outputs": [],
   "source": [
    "import cloudpickle\n"
   ]
  },
  {
   "cell_type": "code",
   "execution_count": 58,
   "metadata": {},
   "outputs": [
    {
     "data": {
      "text/plain": [
       "(<function jax.experimental.stax.serial.<locals>.init_fun(rng, input_shape)>,\n",
       " <function jax.experimental.stax.serial.<locals>.apply_fun(params, inputs, **kwargs)>)"
      ]
     },
     "execution_count": 58,
     "metadata": {},
     "output_type": "execute_result"
    }
   ],
   "source": [
    "with open('CIGALE_emulator_20210330_log10sfr_uniformAGN_z.pkl', 'wb') as f:\n",
    "    cloudpickle.dump({'net_init':net_init,'net_apply': net_apply,'params':net_params}, f)\n",
    "    \n",
    "net_init, net_apply"
   ]
  },
  {
   "cell_type": "markdown",
   "metadata": {},
   "source": [
    "## Does SED look right?"
   ]
  },
  {
   "cell_type": "code",
   "execution_count": 59,
   "metadata": {},
   "outputs": [],
   "source": [
    "wave=np.array([250,350,500])"
   ]
  },
  {
   "cell_type": "code",
   "execution_count": 63,
   "metadata": {},
   "outputs": [
    {
     "data": {
      "text/plain": [
       "[<matplotlib.lines.Line2D at 0x7fbc8a5d20b8>]"
      ]
     },
     "execution_count": 63,
     "metadata": {},
     "output_type": "execute_result"
    },
    {
     "data": {
      "image/png": "[encoded data removed]",
      "text/plain": [
       "<Figure size 432x288 with 1 Axes>"
      ]
     },
     "metadata": {
      "needs_background": "light"
     },
     "output_type": "display_data"
    }
   ],
   "source": [
    "plt.loglog(wave,np.exp(net_apply(net_params,np.array([2.95, 0.801, 0.1]))),'o')\n",
    "#plt.loglog(wave,10.0**net_apply(net_params,np.array([3.0,0.0,0.0])),'o')\n",
    "plt.loglog(wave,dataset[(dataset['universe.redshift']==0.1) & (dataset['agn.fracAGN'] == 0.801) & (dataset['sfh.sfr']>900) & (dataset['sfh.sfr']<1100)][output_cols].values())"
   ]
  },
  {
   "cell_type": "code",
   "execution_count": 65,
   "metadata": {},
   "outputs": [
    {
     "data": {
      "text/html": [
       "<i>Table length=1</i>\n",
       "<table id=\"table140447713941040\" class=\"table-striped table-bordered table-condensed\">\n",
       "<thead><tr><th>id</th><th>IRAC1</th><th>megacam_g</th><th>megacam_i</th><th>megacam_r</th><th>megacam_u</th><th>megacam_y</th><th>megacam_z</th><th>mips_24</th><th>spire_250</th><th>spire_350</th><th>spire_500</th><th>dust.luminosity</th><th>dust.mass</th><th>sfh.sfr</th><th>stellar.m_star</th><th>agn.fracAGN</th><th>attenuation.BC_to_ISM_factor</th><th>attenuation.bessell_b</th><th>attenuation.galex_fuv</th><th>attenuation.slope_BC</th><th>attenuation.slope_ISM</th><th>dust.qpah</th><th>dust.umin</th><th>sfh.age</th><th>sfh.burst_age</th><th>sfh.f_burst</th><th>sfh.tau_main</th><th>universe.redshift</th><th>log10_sfh.sfr</th><th>log10_universe.redshift</th><th>logit_agnfrac</th></tr></thead>\n",
       "<thead><tr><th></th><th></th><th></th><th></th><th></th><th></th><th></th><th></th><th></th><th></th><th></th><th></th><th></th><th></th><th></th><th></th><th></th><th></th><th>mag</th><th>mag</th><th>mag</th><th></th><th></th><th></th><th>Myr</th><th></th><th></th><th></th><th></th><th></th><th></th><th></th></tr></thead>\n",
       "<thead><tr><th>int64</th><th>float32</th><th>float32</th><th>float32</th><th>float32</th><th>float32</th><th>float32</th><th>float32</th><th>float32</th><th>float32</th><th>float32</th><th>float32</th><th>float32</th><th>float32</th><th>float32</th><th>float32</th><th>float64</th><th>float64</th><th>float64</th><th>float64</th><th>float64</th><th>float64</th><th>float64</th><th>float64</th><th>float64</th><th>float64</th><th>float64</th><th>float64</th><th>float64</th><th>float32</th><th>float64</th><th>float64</th></tr></thead>\n",
       "<tr><td>2699</td><td>3561.7131</td><td>0.81075984</td><td>2.373399</td><td>1.5528784</td><td>0.25492316</td><td>2.4790812</td><td>3.5117917</td><td>12396.599</td><td>8839.021</td><td>3535.3625</td><td>1214.4366</td><td>8037312500000.0</td><td>4314639400.0</td><td>904.5928</td><td>175056060000.0</td><td>0.801</td><td>0.5</td><td>4.376290746740257</td><td>9.392077535240679</td><td>-0.7</td><td>-0.7</td><td>1.12</td><td>10.0</td><td>1000.0</td><td>50.0</td><td>0.1</td><td>3000.0</td><td>0.1</td><td>2.956453</td><td>-1.0</td><td>1.3925561223438672</td></tr>\n",
       "</table>"
      ],
      "text/plain": [
       "<Table length=1>\n",
       "  id    IRAC1   megacam_g  ... log10_universe.redshift   logit_agnfrac   \n",
       "                           ...                                           \n",
       "int64  float32   float32   ...         float64              float64      \n",
       "----- --------- ---------- ... ----------------------- ------------------\n",
       " 2699 3561.7131 0.81075984 ...                    -1.0 1.3925561223438672"
      ]
     },
     "execution_count": 65,
     "metadata": {},
     "output_type": "execute_result"
    }
   ],
   "source": [
    "dataset[(dataset['universe.redshift']==0.1) & (dataset['agn.fracAGN'] == 0.801) & (dataset['sfh.sfr']>900) & (dataset['sfh.sfr']<1100)]"
   ]
  },
  {
   "cell_type": "code",
   "execution_count": null,
   "metadata": {},
   "outputs": [],
   "source": []
  }
 ],
 "metadata": {
  "kernelspec": {
   "display_name": "Python 3",
   "language": "python",
   "name": "python3"
  },
  "language_info": {
   "codemirror_mode": {
    "name": "ipython",
    "version": 3
   },
   "file_extension": ".py",
   "mimetype": "text/x-python",
   "name": "python",
   "nbconvert_exporter": "python",
   "pygments_lexer": "ipython3",
   "version": "3.6.6"
  }
 },
 "nbformat": 4,
 "nbformat_minor": 2
}
