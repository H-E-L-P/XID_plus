{
 "cells": [
  {
   "cell_type": "markdown",
   "metadata": {},
   "source": [
    "# The JAX emulator: CIGALE prototype\n",
    "In this notebook, I will prototype my idea for emulating radiative transfer codes with a Deepnet in order for it to be used inside xidplus. As `numpyro` uses JAX, the Deepnet wil ideally be trained with a JAX network. I will use CIGALE"
   ]
  },
  {
   "cell_type": "code",
   "execution_count": 1,
   "metadata": {},
   "outputs": [
    {
     "name": "stderr",
     "output_type": "stream",
     "text": [
      "W0312 12:25:44.579481 4571688384 xla_bridge.py:135] No GPU/TPU found, falling back to CPU. (Set TF_CPP_MIN_LOG_LEVEL=0 and rerun for more info.)\n"
     ]
    }
   ],
   "source": [
    "import fitIR\n",
    "import fitIR.models as models\n",
    "import fitIR.analyse as analyse\n",
    "from astropy.cosmology import WMAP9 as cosmo\n",
    "import jax\n",
    "import numpy as onp\n",
    "import pylab as plt\n",
    "import astropy.units as u\n",
    "import scipy.integrate as integrate\n",
    "%matplotlib inline\n",
    "\n",
    "import jax.numpy as np\n",
    "from jax import grad, jit, vmap, value_and_grad\n",
    "from jax import random\n",
    "from jax import vmap # for auto-vectorizing functions\n",
    "from functools import partial # for use with vmap\n",
    "from jax import jit # for compiling functions for speedup\n",
    "from jax.experimental import stax # neural network library\n",
    "from jax.experimental.stax import Conv, Dense, MaxPool, Relu, Flatten, LogSoftmax, LeakyRelu # neural network layers\n",
    "\n",
    "from jax.experimental import optimizers\n",
    "from jax.tree_util import tree_multimap  # Element-wise manipulation of collections of numpy arrays \n",
    "import matplotlib.pyplot as plt # visualization\n",
    "# Generate key which is used to generate random numbers\n",
    "key = random.PRNGKey(1)"
   ]
  },
  {
   "cell_type": "markdown",
   "metadata": {},
   "source": [
    "### Read in CIGALE SEDs"
   ]
  },
  {
   "cell_type": "code",
   "execution_count": 2,
   "metadata": {},
   "outputs": [
    {
     "name": "stderr",
     "output_type": "stream",
     "text": [
      "/Users/pdh21/anaconda3/envs/xidplus/lib/python3.6/site-packages/dask/config.py:168: YAMLLoadWarning: calling yaml.load() without Loader=... is deprecated, as the default Loader is unsafe. Please read https://msg.pyyaml.org/load for full details.\n",
      "  data = yaml.load(f.read()) or {}\n"
     ]
    }
   ],
   "source": [
    "from astropy.io import fits\n",
    "from astropy.table import Table"
   ]
  },
  {
   "cell_type": "markdown",
   "metadata": {},
   "source": [
    "### Generate values for CIGALE"
   ]
  },
  {
   "cell_type": "markdown",
   "metadata": {},
   "source": [
    "Redshift"
   ]
  },
  {
   "cell_type": "code",
   "execution_count": 3,
   "metadata": {},
   "outputs": [
    {
     "data": {
      "text/plain": [
       "'[0.0032,0.0033,0.0035,0.0036,0.0038,0.0040,0.0042,0.0044,0.0046,0.0048, 0.0050,0.0052,0.0055,0.0058,0.0060,0.0063,0.0066,0.0069,0.0072,0.0076, 0.0079,0.0083,0.0087,0.0091,0.0095,0.0100,0.0105,0.0110,0.0115,0.0120, 0.0126,0.0132,0.0138,0.0145,0.0151,0.0158,0.0166,0.0174,0.0182,0.0191, 0.0200,0.0209,0.0219,0.0229,0.0240,0.0251,0.0263,0.0275,0.0288,0.0302, 0.0316,0.0331,0.0347,0.0363,0.0380,0.0398,0.0417,0.0437,0.0457,0.0479, 0.0501,0.0525,0.0550,0.0575,0.0603,0.0631,0.0661,0.0692,0.0724,0.0759, 0.0794,0.0832,0.0871,0.0912,0.0955,0.1000,0.1047,0.1096,0.1148,0.1202, 0.1259,0.1318,0.1380,0.1445,0.1514,0.1585,0.1660,0.1738,0.1820,0.1905, 0.1995,0.2089,0.2188,0.2291,0.2399,0.2512,0.2630,0.2754,0.2884,0.3020, 0.3162,0.3311,0.3467,0.3631,0.3802,0.3981,0.4169,0.4365,0.4571,0.4786, 0.5012,0.5248,0.5495,0.5754,0.6026,0.6310,0.6607,0.6918,0.7244,0.7586, 0.7943,0.8318,0.8710,0.9120,0.9550,1.0000,1.0471,1.0965,1.1481,1.2023, 1.2589,1.3182,1.3804,1.4454,1.5136,1.5849,1.6596,1.7378,1.8197,1.9054, 1.9953,2.0893,2.1877,2.2909,2.3988,2.5119,2.6303,2.7542,2.8840,3.0199, 3.1623,3.3113,3.4673,3.6308,3.8019,3.9810,4.1687,4.3651,4.5709,4.7863, 5.0118,5.2480,5.4954,5.7544]'"
      ]
     },
     "execution_count": 3,
     "metadata": {},
     "output_type": "execute_result"
    }
   ],
   "source": [
    "onp.array2string(10.0**np.arange(-2.5,0.77,0.02), separator=',',formatter={'float_kind':lambda x: \"%.4f\" % x}).replace('\\n','')"
   ]
  },
  {
   "cell_type": "markdown",
   "metadata": {},
   "source": [
    "AGN frac"
   ]
  },
  {
   "cell_type": "code",
   "execution_count": 4,
   "metadata": {},
   "outputs": [
    {
     "data": {
      "text/plain": [
       "'[0.001,0.051,0.101,0.151,0.201,0.251,0.301,0.351,0.401,0.451,0.501,0.551, 0.601,0.651,0.701,0.751,0.801,0.851,0.901,0.951]'"
      ]
     },
     "execution_count": 4,
     "metadata": {},
     "output_type": "execute_result"
    }
   ],
   "source": [
    "onp.array2string(np.arange(0.001,1,0.05),separator=',',formatter={'float_kind':lambda x: \"%.3f\" % x}).replace('\\n','')"
   ]
  },
  {
   "cell_type": "code",
   "execution_count": 5,
   "metadata": {},
   "outputs": [],
   "source": [
    "SEDs=Table.read('/Volumes/pdh_storage/cigale/2021-03-11_17:36:27_out/models-block-0.fits')\n",
    "#set more appropriate units for dust\n",
    "from astropy.constants import L_sun, M_sun\n",
    "SEDs['dust.luminosity']=SEDs['dust.luminosity']/L_sun.value\n",
    "SEDs['dust.mass']=SEDs['dust.mass']/M_sun.value"
   ]
  },
  {
   "cell_type": "code",
   "execution_count": 6,
   "metadata": {},
   "outputs": [
    {
     "data": {
      "text/html": [
       "<i>Table length=3280</i>\n",
       "<table id=\"table140643878720568\" class=\"table-striped table-bordered table-condensed\">\n",
       "<thead><tr><th>id</th><th>irac_i1</th><th>mips_24</th><th>spire_250</th><th>spire_350</th><th>spire_500</th><th>dust.luminosity</th><th>dust.mass</th><th>sfh.sfr</th><th>stellar.m_star</th><th>agn.fracAGN</th><th>attenuation.BC_to_ISM_factor</th><th>attenuation.bessell_b</th><th>attenuation.galex_fuv</th><th>attenuation.slope_BC</th><th>attenuation.slope_ISM</th><th>dust.qpah</th><th>dust.umin</th><th>sfh.age</th><th>sfh.burst_age</th><th>sfh.f_burst</th><th>sfh.tau_main</th><th>universe.redshift</th></tr></thead>\n",
       "<thead><tr><th></th><th>mJy</th><th>mJy</th><th>mJy</th><th>mJy</th><th>mJy</th><th>W</th><th>kg</th><th>solMass / yr</th><th>solMass</th><th></th><th></th><th>mag</th><th>mag</th><th>mag</th><th></th><th></th><th></th><th>Myr</th><th></th><th></th><th></th><th></th></tr></thead>\n",
       "<thead><tr><th>int64</th><th>float64</th><th>float64</th><th>float64</th><th>float64</th><th>float64</th><th>float64</th><th>float64</th><th>float64</th><th>float64</th><th>float64</th><th>float64</th><th>float64</th><th>float64</th><th>float64</th><th>float64</th><th>float64</th><th>float64</th><th>float64</th><th>float64</th><th>float64</th><th>float64</th><th>float64</th></tr></thead>\n",
       "<tr><td>0</td><td>1.109446379347917e-07</td><td>6.193894640285195e-06</td><td>2.8612034146739133e-05</td><td>1.0897664019213495e-05</td><td>3.688584055077046e-06</td><td>31.99616305125483</td><td>0.017176376845766003</td><td>3.6011411610560557e-09</td><td>0.6968899218426298</td><td>0.001</td><td>0.5</td><td>4.376290746740257</td><td>9.392077535240679</td><td>-0.7</td><td>-0.7</td><td>1.12</td><td>10.0</td><td>1000.0</td><td>50.0</td><td>0.1</td><td>3000.0</td><td>0.0032</td></tr>\n",
       "<tr><td>1</td><td>1.0430804017414532e-07</td><td>5.822685333049485e-06</td><td>2.6909489755942493e-05</td><td>1.0249702314812148e-05</td><td>3.4693157070610693e-06</td><td>31.99616305125483</td><td>0.017176376845766003</td><td>3.6011411610560557e-09</td><td>0.6968899218426298</td><td>0.001</td><td>0.5</td><td>4.376290746740257</td><td>9.392077535240679</td><td>-0.7</td><td>-0.7</td><td>1.12</td><td>10.0</td><td>1000.0</td><td>50.0</td><td>0.1</td><td>3000.0</td><td>0.0033</td></tr>\n",
       "<tr><td>2</td><td>9.2701773943457e-08</td><td>5.1735662520352136e-06</td><td>2.393130041728951e-05</td><td>9.116212348847797e-06</td><td>3.085747125013702e-06</td><td>31.99616305125483</td><td>0.017176376845766003</td><td>3.6011411610560557e-09</td><td>0.6968899218426298</td><td>0.001</td><td>0.5</td><td>4.376290746740257</td><td>9.392077535240679</td><td>-0.7</td><td>-0.7</td><td>1.12</td><td>10.0</td><td>1000.0</td><td>50.0</td><td>0.1</td><td>3000.0</td><td>0.0035</td></tr>\n",
       "<tr><td>3</td><td>8.76109015482281e-08</td><td>4.888870982525272e-06</td><td>2.2624649968682522e-05</td><td>8.618886214220273e-06</td><td>2.917452516854994e-06</td><td>31.99616305125483</td><td>0.017176376845766003</td><td>3.6011411610560557e-09</td><td>0.6968899218426298</td><td>0.001</td><td>0.5</td><td>4.376290746740257</td><td>9.392077535240679</td><td>-0.7</td><td>-0.7</td><td>1.12</td><td>10.0</td><td>1000.0</td><td>50.0</td><td>0.1</td><td>3000.0</td><td>0.0036</td></tr>\n",
       "<tr><td>4</td><td>7.860921220945713e-08</td><td>4.385522855293602e-06</td><td>2.0313677765421176e-05</td><td>7.73927071340886e-06</td><td>2.6197886321423186e-06</td><td>31.99616305125483</td><td>0.017176376845766003</td><td>3.6011411610560557e-09</td><td>0.6968899218426298</td><td>0.001</td><td>0.5</td><td>4.376290746740257</td><td>9.392077535240679</td><td>-0.7</td><td>-0.7</td><td>1.12</td><td>10.0</td><td>1000.0</td><td>50.0</td><td>0.1</td><td>3000.0</td><td>0.0038</td></tr>\n",
       "<tr><td>5</td><td>7.092467822454393e-08</td><td>3.955884844794926e-06</td><td>1.8340219367195694e-05</td><td>6.98808653322697e-06</td><td>2.365581872817584e-06</td><td>31.99616305125483</td><td>0.017176376845766003</td><td>3.6011411610560557e-09</td><td>0.6968899218426298</td><td>0.001</td><td>0.5</td><td>4.376290746740257</td><td>9.392077535240679</td><td>-0.7</td><td>-0.7</td><td>1.12</td><td>10.0</td><td>1000.0</td><td>50.0</td><td>0.1</td><td>3000.0</td><td>0.004</td></tr>\n",
       "<tr><td>6</td><td>6.431243631152925e-08</td><td>3.586246619708091e-06</td><td>1.664158005457788e-05</td><td>6.341484278810178e-06</td><td>2.1467622116579716e-06</td><td>31.99616305125483</td><td>0.017176376845766003</td><td>3.6011411610560557e-09</td><td>0.6968899218426298</td><td>0.001</td><td>0.5</td><td>4.376290746740257</td><td>9.392077535240679</td><td>-0.7</td><td>-0.7</td><td>1.12</td><td>10.0</td><td>1000.0</td><td>50.0</td><td>0.1</td><td>3000.0</td><td>0.0042</td></tr>\n",
       "<tr><td>7</td><td>5.858195995961719e-08</td><td>3.2659426120459205e-06</td><td>1.5168985902744644e-05</td><td>5.7808977976512035e-06</td><td>1.9570486761070138e-06</td><td>31.99616305125483</td><td>0.017176376845766003</td><td>3.6011411610560557e-09</td><td>0.6968899218426298</td><td>0.001</td><td>0.5</td><td>4.376290746740257</td><td>9.392077535240679</td><td>-0.7</td><td>-0.7</td><td>1.12</td><td>10.0</td><td>1000.0</td><td>50.0</td><td>0.1</td><td>3000.0</td><td>0.0044</td></tr>\n",
       "<tr><td>8</td><td>5.358320889202179e-08</td><td>2.9865752967445497e-06</td><td>1.388401162290032e-05</td><td>5.29171315535515e-06</td><td>1.7914951254138202e-06</td><td>31.99616305125483</td><td>0.017176376845766003</td><td>3.6011411610560557e-09</td><td>0.6968899218426298</td><td>0.001</td><td>0.5</td><td>4.376290746740257</td><td>9.392077535240679</td><td>-0.7</td><td>-0.7</td><td>1.12</td><td>10.0</td><td>1000.0</td><td>50.0</td><td>0.1</td><td>3000.0</td><td>0.0046</td></tr>\n",
       "<tr><td>...</td><td>...</td><td>...</td><td>...</td><td>...</td><td>...</td><td>...</td><td>...</td><td>...</td><td>...</td><td>...</td><td>...</td><td>...</td><td>...</td><td>...</td><td>...</td><td>...</td><td>...</td><td>...</td><td>...</td><td>...</td><td>...</td><td>...</td></tr>\n",
       "<tr><td>3270</td><td>9.276025299512582e-15</td><td>8.499522333101048e-11</td><td>1.5418405586775917e-10</td><td>1.1442787391577905e-10</td><td>9.2272071702177e-11</td><td>31.99616305125483</td><td>0.017176376845766003</td><td>3.6011411610560557e-09</td><td>0.6968899218426298</td><td>0.951</td><td>0.5</td><td>4.376290746740257</td><td>9.392077535240679</td><td>-0.7</td><td>-0.7</td><td>1.12</td><td>10.0</td><td>1000.0</td><td>50.0</td><td>0.1</td><td>3000.0</td><td>3.8019</td></tr>\n",
       "<tr><td>3271</td><td>7.791290647773844e-15</td><td>7.701411579258018e-11</td><td>1.4924854906592225e-10</td><td>1.0887924589980036e-10</td><td>8.789040943655907e-11</td><td>31.99616305125483</td><td>0.017176376845766003</td><td>3.6011411610560557e-09</td><td>0.6968899218426298</td><td>0.951</td><td>0.5</td><td>4.376290746740257</td><td>9.392077535240679</td><td>-0.7</td><td>-0.7</td><td>1.12</td><td>10.0</td><td>1000.0</td><td>50.0</td><td>0.1</td><td>3000.0</td><td>3.981</td></tr>\n",
       "<tr><td>3272</td><td>6.547570486151781e-15</td><td>6.957630188243635e-11</td><td>1.4462322171484093e-10</td><td>1.0387355505629866e-10</td><td>8.370862310686913e-11</td><td>31.99616305125483</td><td>0.017176376845766003</td><td>3.6011411610560557e-09</td><td>0.6968899218426298</td><td>0.951</td><td>0.5</td><td>4.376290746740257</td><td>9.392077535240679</td><td>-0.7</td><td>-0.7</td><td>1.12</td><td>10.0</td><td>1000.0</td><td>50.0</td><td>0.1</td><td>3000.0</td><td>4.1687</td></tr>\n",
       "<tr><td>3273</td><td>5.5250882131676595e-15</td><td>6.268423720571128e-11</td><td>1.402060241656186e-10</td><td>9.938172762816421e-11</td><td>7.972087464710776e-11</td><td>31.99616305125483</td><td>0.017176376845766003</td><td>3.6011411610560557e-09</td><td>0.6968899218426298</td><td>0.951</td><td>0.5</td><td>4.376290746740257</td><td>9.392077535240679</td><td>-0.7</td><td>-0.7</td><td>1.12</td><td>10.0</td><td>1000.0</td><td>50.0</td><td>0.1</td><td>3000.0</td><td>4.3651</td></tr>\n",
       "<tr><td>3274</td><td>4.72022459248568e-15</td><td>5.630647455147856e-11</td><td>1.3587557601763906e-10</td><td>9.539069293244536e-11</td><td>7.591658149359844e-11</td><td>31.99616305125483</td><td>0.017176376845766003</td><td>3.6011411610560557e-09</td><td>0.6968899218426298</td><td>0.951</td><td>0.5</td><td>4.376290746740257</td><td>9.392077535240679</td><td>-0.7</td><td>-0.7</td><td>1.12</td><td>10.0</td><td>1000.0</td><td>50.0</td><td>0.1</td><td>3000.0</td><td>4.5709</td></tr>\n",
       "<tr><td>3275</td><td>4.007068314909985e-15</td><td>5.042194602915463e-11</td><td>1.3150997258882296e-10</td><td>9.187214026097258e-11</td><td>7.231182399572495e-11</td><td>31.99616305125483</td><td>0.017176376845766003</td><td>3.6011411610560557e-09</td><td>0.6968899218426298</td><td>0.951</td><td>0.5</td><td>4.376290746740257</td><td>9.392077535240679</td><td>-0.7</td><td>-0.7</td><td>1.12</td><td>10.0</td><td>1000.0</td><td>50.0</td><td>0.1</td><td>3000.0</td><td>4.7863</td></tr>\n",
       "<tr><td>3276</td><td>3.417723892308131e-15</td><td>4.4998882626828926e-11</td><td>1.2702469329698354e-10</td><td>8.877098823778467e-11</td><td>6.890635887429596e-11</td><td>31.99616305125483</td><td>0.017176376845766003</td><td>3.6011411610560557e-09</td><td>0.6968899218426298</td><td>0.951</td><td>0.5</td><td>4.376290746740257</td><td>9.392077535240679</td><td>-0.7</td><td>-0.7</td><td>1.12</td><td>10.0</td><td>1000.0</td><td>50.0</td><td>0.1</td><td>3000.0</td><td>5.0118</td></tr>\n",
       "<tr><td>3277</td><td>2.901769409518389e-15</td><td>4.0006704215091655e-11</td><td>1.223376478119989e-10</td><td>8.605070799759253e-11</td><td>6.571118789278721e-11</td><td>31.99616305125483</td><td>0.017176376845766003</td><td>3.6011411610560557e-09</td><td>0.6968899218426298</td><td>0.951</td><td>0.5</td><td>4.376290746740257</td><td>9.392077535240679</td><td>-0.7</td><td>-0.7</td><td>1.12</td><td>10.0</td><td>1000.0</td><td>50.0</td><td>0.1</td><td>3000.0</td><td>5.248</td></tr>\n",
       "<tr><td>3278</td><td>2.4674133686690463e-15</td><td>3.541530267147402e-11</td><td>1.173835025075971e-10</td><td>8.365049283857845e-11</td><td>6.274374720096805e-11</td><td>31.99616305125483</td><td>0.017176376845766003</td><td>3.6011411610560557e-09</td><td>0.6968899218426298</td><td>0.951</td><td>0.5</td><td>4.376290746740257</td><td>9.392077535240679</td><td>-0.7</td><td>-0.7</td><td>1.12</td><td>10.0</td><td>1000.0</td><td>50.0</td><td>0.1</td><td>3000.0</td><td>5.4954</td></tr>\n",
       "<tr><td>3279</td><td>2.0915866185355507e-15</td><td>3.1187082698679823e-11</td><td>1.1214265596056425e-10</td><td>8.150010819229373e-11</td><td>6.001180868245716e-11</td><td>31.99616305125483</td><td>0.017176376845766003</td><td>3.6011411610560557e-09</td><td>0.6968899218426298</td><td>0.951</td><td>0.5</td><td>4.376290746740257</td><td>9.392077535240679</td><td>-0.7</td><td>-0.7</td><td>1.12</td><td>10.0</td><td>1000.0</td><td>50.0</td><td>0.1</td><td>3000.0</td><td>5.7544</td></tr>\n",
       "</table>"
      ],
      "text/plain": [
       "<Table length=3280>\n",
       "  id         irac_i1         ... sfh.tau_main universe.redshift\n",
       "               mJy           ...                               \n",
       "int64        float64         ...   float64         float64     \n",
       "----- ---------------------- ... ------------ -----------------\n",
       "    0  1.109446379347917e-07 ...       3000.0            0.0032\n",
       "    1 1.0430804017414532e-07 ...       3000.0            0.0033\n",
       "    2    9.2701773943457e-08 ...       3000.0            0.0035\n",
       "    3   8.76109015482281e-08 ...       3000.0            0.0036\n",
       "    4  7.860921220945713e-08 ...       3000.0            0.0038\n",
       "    5  7.092467822454393e-08 ...       3000.0             0.004\n",
       "    6  6.431243631152925e-08 ...       3000.0            0.0042\n",
       "    7  5.858195995961719e-08 ...       3000.0            0.0044\n",
       "    8  5.358320889202179e-08 ...       3000.0            0.0046\n",
       "  ...                    ... ...          ...               ...\n",
       " 3270  9.276025299512582e-15 ...       3000.0            3.8019\n",
       " 3271  7.791290647773844e-15 ...       3000.0             3.981\n",
       " 3272  6.547570486151781e-15 ...       3000.0            4.1687\n",
       " 3273 5.5250882131676595e-15 ...       3000.0            4.3651\n",
       " 3274   4.72022459248568e-15 ...       3000.0            4.5709\n",
       " 3275  4.007068314909985e-15 ...       3000.0            4.7863\n",
       " 3276  3.417723892308131e-15 ...       3000.0            5.0118\n",
       " 3277  2.901769409518389e-15 ...       3000.0             5.248\n",
       " 3278 2.4674133686690463e-15 ...       3000.0            5.4954\n",
       " 3279 2.0915866185355507e-15 ...       3000.0            5.7544"
      ]
     },
     "execution_count": 6,
     "metadata": {},
     "output_type": "execute_result"
    }
   ],
   "source": [
    "SEDs"
   ]
  },
  {
   "cell_type": "code",
   "execution_count": 7,
   "metadata": {},
   "outputs": [],
   "source": [
    "from astropy.table import vstack"
   ]
  },
  {
   "cell_type": "code",
   "execution_count": 8,
   "metadata": {},
   "outputs": [],
   "source": [
    "# define a range of scales\n",
    "scale=np.arange(8,14,0.1)\n",
    "#repeat the SED table by the number of scale steps\n",
    "dataset=vstack([SEDs for i in range(0,scale.size)])\n",
    "#repeat the scale range by the number of entries in table (so I can easily multiply each column)\n",
    "scale_table=np.repeat(scale,len(SEDs))\n",
    "#parameters to scale\n",
    "col_scale=['irac_i1','mips_24','spire_250','spire_350','spire_500','dust.luminosity','dust.mass','sfh.sfr','stellar.m_star']\n",
    "for c in col_scale:\n",
    "    dataset[c]=dataset[c]*10.0**scale_table\n",
    "dataset['log10_sfh.sfr']=onp.log10(dataset['sfh.sfr'])\n",
    "dataset['log10_universe.redshift']=onp.log10(dataset['universe.redshift'])\n",
    "# transform AGN fraction to logit scale\n",
    "dataset['logit_agnfrac']=onp.log(dataset['agn.fracAGN']/(1-dataset['agn.fracAGN']))\n",
    "#shuffle dataset\n",
    "dataset=dataset[onp.random.choice(len(dataset), len(dataset), replace=False)]"
   ]
  },
  {
   "cell_type": "code",
   "execution_count": 9,
   "metadata": {},
   "outputs": [
    {
     "data": {
      "text/plain": [
       "60"
      ]
     },
     "execution_count": 9,
     "metadata": {},
     "output_type": "execute_result"
    }
   ],
   "source": [
    "scale.size"
   ]
  },
  {
   "cell_type": "code",
   "execution_count": 10,
   "metadata": {},
   "outputs": [
    {
     "data": {
      "text/html": [
       "<i>Table length=196800</i>\n",
       "<table id=\"table140643874303952\" class=\"table-striped table-bordered table-condensed\">\n",
       "<thead><tr><th>id</th><th>irac_i1</th><th>mips_24</th><th>spire_250</th><th>spire_350</th><th>spire_500</th><th>dust.luminosity</th><th>dust.mass</th><th>sfh.sfr</th><th>stellar.m_star</th><th>agn.fracAGN</th><th>attenuation.BC_to_ISM_factor</th><th>attenuation.bessell_b</th><th>attenuation.galex_fuv</th><th>attenuation.slope_BC</th><th>attenuation.slope_ISM</th><th>dust.qpah</th><th>dust.umin</th><th>sfh.age</th><th>sfh.burst_age</th><th>sfh.f_burst</th><th>sfh.tau_main</th><th>universe.redshift</th><th>log10_sfh.sfr</th><th>log10_universe.redshift</th><th>logit_agnfrac</th></tr></thead>\n",
       "<thead><tr><th></th><th></th><th></th><th></th><th></th><th></th><th></th><th></th><th></th><th></th><th></th><th></th><th>mag</th><th>mag</th><th>mag</th><th></th><th></th><th></th><th>Myr</th><th></th><th></th><th></th><th></th><th></th><th></th><th></th></tr></thead>\n",
       "<thead><tr><th>int64</th><th>float32</th><th>float32</th><th>float32</th><th>float32</th><th>float32</th><th>float32</th><th>float32</th><th>float32</th><th>float32</th><th>float64</th><th>float64</th><th>float64</th><th>float64</th><th>float64</th><th>float64</th><th>float64</th><th>float64</th><th>float64</th><th>float64</th><th>float64</th><th>float64</th><th>float64</th><th>float32</th><th>float64</th><th>float64</th></tr></thead>\n",
       "<tr><td>884</td><td>14.9787245</td><td>102.9439</td><td>356.8976</td><td>139.95053</td><td>47.788746</td><td>127380810000.0</td><td>68381350.0</td><td>14.336603</td><td>2774408000.0</td><td>0.251</td><td>0.5</td><td>4.376290746740257</td><td>9.392077535240679</td><td>-0.7</td><td>-0.7</td><td>1.12</td><td>10.0</td><td>1000.0</td><td>50.0</td><td>0.1</td><td>3000.0</td><td>0.0603</td><td>1.1564462</td><td>-1.2196826878598488</td><td>-1.0932860443854355</td></tr>\n",
       "<tr><td>456</td><td>0.0069528115</td><td>0.22146478</td><td>9.885967</td><td>7.0669794</td><td>3.4212918</td><td>507114800000.0</td><td>272232480.0</td><td>57.075344</td><td>11045175000.0</td><td>0.101</td><td>0.5</td><td>4.376290746740257</td><td>9.392077535240679</td><td>-0.7</td><td>-0.7</td><td>1.12</td><td>10.0</td><td>1000.0</td><td>50.0</td><td>0.1</td><td>3000.0</td><td>1.1481</td><td>1.7564485</td><td>0.05997971694416171</td><td>-2.1861625176303607</td></tr>\n",
       "<tr><td>1636</td><td>0.26740965</td><td>154.30086</td><td>1326.5872</td><td>2498.0461</td><td>3755.5383</td><td>2541677000000000.0</td><td>1364438800000.0</td><td>286063.62</td><td>55358802000000.0</td><td>0.451</td><td>0.5</td><td>4.376290746740257</td><td>9.392077535240679</td><td>-0.7</td><td>-0.7</td><td>1.12</td><td>10.0</td><td>1000.0</td><td>50.0</td><td>0.1</td><td>3000.0</td><td>5.0118</td><td>5.456463</td><td>0.6999937317895015</td><td>-0.19663110200685208</td></tr>\n",
       "<tr><td>367</td><td>1967.3649</td><td>25790.197</td><td>104269.28</td><td>40025.844</td><td>13579.845</td><td>4028187800000.0</td><td>2162436600.0</td><td>453.36914</td><td>87735630000.0</td><td>0.101</td><td>0.5</td><td>4.376290746740257</td><td>9.392077535240679</td><td>-0.7</td><td>-0.7</td><td>1.12</td><td>10.0</td><td>1000.0</td><td>50.0</td><td>0.1</td><td>3000.0</td><td>0.0191</td><td>2.656452</td><td>-1.7189666327522726</td><td>-2.1861625176303607</td></tr>\n",
       "<tr><td>1048</td><td>7.5347314</td><td>45.84408</td><td>142.11328</td><td>55.724346</td><td>19.027834</td><td>50711036000.0</td><td>27223010.0</td><td>5.7074842</td><td>1104507800.0</td><td>0.301</td><td>0.5</td><td>4.376290746740257</td><td>9.392077535240679</td><td>-0.7</td><td>-0.7</td><td>1.12</td><td>10.0</td><td>1000.0</td><td>50.0</td><td>0.1</td><td>3000.0</td><td>0.0603</td><td>0.7564447</td><td>-1.2196826878598488</td><td>-0.8425404774849347</td></tr>\n",
       "<tr><td>3123</td><td>8516444.0</td><td>26088426.0</td><td>3150925.5</td><td>1191524.2</td><td>402381.6</td><td>6384259000000.0</td><td>3427237000.0</td><td>718.54297</td><td>139051860000.0</td><td>0.951</td><td>0.5</td><td>4.376290746740257</td><td>9.392077535240679</td><td>-0.7</td><td>-0.7</td><td>1.12</td><td>10.0</td><td>1000.0</td><td>50.0</td><td>0.1</td><td>3000.0</td><td>0.0044</td><td>2.8564527</td><td>-2.3565473235138126</td><td>2.965693764434763</td></tr>\n",
       "<tr><td>2645</td><td>2479947.8</td><td>8292845.5</td><td>4332070.5</td><td>1651341.2</td><td>559067.8</td><td>31997286000000.0</td><td>17176979000.0</td><td>3601.2676</td><td>696914400000.0</td><td>0.801</td><td>0.5</td><td>4.376290746740257</td><td>9.392077535240679</td><td>-0.7</td><td>-0.7</td><td>1.12</td><td>10.0</td><td>1000.0</td><td>50.0</td><td>0.1</td><td>3000.0</td><td>0.0083</td><td>3.5564554</td><td>-2.0809219076239263</td><td>1.3925561223438672</td></tr>\n",
       "<tr><td>13</td><td>10.639714</td><td>592.22626</td><td>2768.1418</td><td>1055.6615</td><td>357.4545</td><td>10118119000.0</td><td>5431671.0</td><td>1.1387858</td><td>220376910.0</td><td>0.001</td><td>0.5</td><td>4.376290746740257</td><td>9.392077535240679</td><td>-0.7</td><td>-0.7</td><td>1.12</td><td>10.0</td><td>1000.0</td><td>50.0</td><td>0.1</td><td>3000.0</td><td>0.0058</td><td>0.05644206</td><td>-2.2365720064370627</td><td>-6.906754778648554</td></tr>\n",
       "<tr><td>2681</td><td>20.84966</td><td>70.91111</td><td>41.955814</td><td>16.280201</td><td>5.541257</td><td>8037100500.0</td><td>4314526.0</td><td>0.9045689</td><td>175051460.0</td><td>0.801</td><td>0.5</td><td>4.376290746740257</td><td>9.392077535240679</td><td>-0.7</td><td>-0.7</td><td>1.12</td><td>10.0</td><td>1000.0</td><td>50.0</td><td>0.1</td><td>3000.0</td><td>0.0437</td><td>-0.043558344</td><td>-1.359518563029578</td><td>1.3925561223438672</td></tr>\n",
       "<tr><td>...</td><td>...</td><td>...</td><td>...</td><td>...</td><td>...</td><td>...</td><td>...</td><td>...</td><td>...</td><td>...</td><td>...</td><td>...</td><td>...</td><td>...</td><td>...</td><td>...</td><td>...</td><td>...</td><td>...</td><td>...</td><td>...</td><td>...</td><td>...</td><td>...</td><td>...</td></tr>\n",
       "<tr><td>2449</td><td>0.00031874483</td><td>0.36132854</td><td>1.7277832</td><td>2.458887</td><td>2.605579</td><td>1011829700000.0</td><td>543176640.0</td><td>113.880585</td><td>22038080000.0</td><td>0.701</td><td>0.5</td><td>4.376290746740257</td><td>9.392077535240679</td><td>-0.7</td><td>-0.7</td><td>1.12</td><td>10.0</td><td>1000.0</td><td>50.0</td><td>0.1</td><td>3000.0</td><td>3.6308</td><td>2.0564497</td><td>0.5600023267733669</td><td>0.8520643136439034</td></tr>\n",
       "<tr><td>2352</td><td>13457.289</td><td>48971.555</td><td>45742.074</td><td>17744.893</td><td>6039.4414</td><td>8037312500000.0</td><td>4314639400.0</td><td>904.5928</td><td>175056060000.0</td><td>0.701</td><td>0.5</td><td>4.376290746740257</td><td>9.392077535240679</td><td>-0.7</td><td>-0.7</td><td>1.12</td><td>10.0</td><td>1000.0</td><td>50.0</td><td>0.1</td><td>3000.0</td><td>0.0417</td><td>2.956453</td><td>-1.3798639450262424</td><td>0.8520643136439034</td></tr>\n",
       "<tr><td>357</td><td>505.3973</td><td>6644.2563</td><td>26060.434</td><td>9968.3955</td><td>3378.425</td><td>402815250000.0</td><td>216241760.0</td><td>45.336517</td><td>8773487000.0</td><td>0.101</td><td>0.5</td><td>4.376290746740257</td><td>9.392077535240679</td><td>-0.7</td><td>-0.7</td><td>1.12</td><td>10.0</td><td>1000.0</td><td>50.0</td><td>0.1</td><td>3000.0</td><td>0.012</td><td>1.6564481</td><td>-1.9208187539523751</td><td>-2.1861625176303607</td></tr>\n",
       "<tr><td>2967</td><td>7735.662</td><td>24352.168</td><td>6012.8413</td><td>2285.0708</td><td>772.8833</td><td>25415657000.0</td><td>13643789.0</td><td>2.8605108</td><td>553563700.0</td><td>0.901</td><td>0.5</td><td>4.376290746740257</td><td>9.392077535240679</td><td>-0.7</td><td>-0.7</td><td>1.12</td><td>10.0</td><td>1000.0</td><td>50.0</td><td>0.1</td><td>3000.0</td><td>0.0063</td><td>0.4564436</td><td>-2.2006594505464183</td><td>2.2083854074737483</td></tr>\n",
       "<tr><td>989</td><td>765743.2</td><td>4652009.0</td><td>11582792.0</td><td>4412550.5</td><td>1493636.9</td><td>20188886000000.0</td><td>10837923000.0</td><td>2272.2422</td><td>439722480000.0</td><td>0.301</td><td>0.5</td><td>4.376290746740257</td><td>9.392077535240679</td><td>-0.7</td><td>-0.7</td><td>1.12</td><td>10.0</td><td>1000.0</td><td>50.0</td><td>0.1</td><td>3000.0</td><td>0.004</td><td>3.3564546</td><td>-2.3979400086720375</td><td>-0.8425404774849347</td></tr>\n",
       "<tr><td>1532</td><td>1522.0806</td><td>7130.276</td><td>14416.775</td><td>5596.726</td><td>1905.2806</td><td>2541610300000.0</td><td>1364403000.0</td><td>286.05612</td><td>55357346000.0</td><td>0.451</td><td>0.5</td><td>4.376290746740257</td><td>9.392077535240679</td><td>-0.7</td><td>-0.7</td><td>1.12</td><td>10.0</td><td>1000.0</td><td>50.0</td><td>0.1</td><td>3000.0</td><td>0.0417</td><td>2.4564512</td><td>-1.3798639450262424</td><td>-0.19663110200685208</td></tr>\n",
       "<tr><td>2322</td><td>5694.421</td><td>20458.193</td><td>17091.102</td><td>6526.538</td><td>2210.772</td><td>201885320000.0</td><td>108377320.0</td><td>22.722023</td><td>4397147600.0</td><td>0.701</td><td>0.5</td><td>4.376290746740257</td><td>9.392077535240679</td><td>-0.7</td><td>-0.7</td><td>1.12</td><td>10.0</td><td>1000.0</td><td>50.0</td><td>0.1</td><td>3000.0</td><td>0.0105</td><td>1.356447</td><td>-1.978810700930062</td><td>0.8520643136439034</td></tr>\n",
       "<tr><td>713</td><td>28560.006</td><td>229028.1</td><td>830278.2</td><td>322744.28</td><td>109915.734</td><td>160367300000000.0</td><td>86089360000.0</td><td>18049.203</td><td>3492867500000.0</td><td>0.201</td><td>0.5</td><td>4.376290746740257</td><td>9.392077535240679</td><td>-0.7</td><td>-0.7</td><td>1.12</td><td>10.0</td><td>1000.0</td><td>50.0</td><td>0.1</td><td>3000.0</td><td>0.0437</td><td>4.256458</td><td>-1.359518563029578</td><td>-1.3800560377071986</td></tr>\n",
       "<tr><td>2944</td><td>2.0003305e-05</td><td>0.064912595</td><td>0.18884014</td><td>0.20905891</td><td>0.22282863</td><td>101182090000.0</td><td>54317188.0</td><td>11.387959</td><td>2203788500.0</td><td>0.851</td><td>0.5</td><td>4.376290746740257</td><td>9.392077535240679</td><td>-0.7</td><td>-0.7</td><td>1.12</td><td>10.0</td><td>1000.0</td><td>50.0</td><td>0.1</td><td>3000.0</td><td>4.1687</td><td>1.0564458</td><td>0.6200006423000678</td><td>1.7424658226279148</td></tr>\n",
       "<tr><td>1903</td><td>0.29584292</td><td>1.5105163</td><td>5.129903</td><td>2.3053615</td><td>0.8272199</td><td>31996443000.0</td><td>17176528.0</td><td>3.6011727</td><td>696896060.0</td><td>0.551</td><td>0.5</td><td>4.376290746740257</td><td>9.392077535240679</td><td>-0.7</td><td>-0.7</td><td>1.12</td><td>10.0</td><td>1000.0</td><td>50.0</td><td>0.1</td><td>3000.0</td><td>0.302</td><td>0.5564439</td><td>-0.5199930570428494</td><td>0.20471192141066033</td></tr>\n",
       "</table>"
      ],
      "text/plain": [
       "<Table length=196800>\n",
       "  id     irac_i1      mips_24   ... log10_universe.redshift    logit_agnfrac    \n",
       "                                ...                                             \n",
       "int64    float32      float32   ...         float64               float64       \n",
       "----- ------------- ----------- ... ----------------------- --------------------\n",
       "  884    14.9787245    102.9439 ...     -1.2196826878598488  -1.0932860443854355\n",
       "  456  0.0069528115  0.22146478 ...     0.05997971694416171  -2.1861625176303607\n",
       " 1636    0.26740965   154.30086 ...      0.6999937317895015 -0.19663110200685208\n",
       "  367     1967.3649   25790.197 ...     -1.7189666327522726  -2.1861625176303607\n",
       " 1048     7.5347314    45.84408 ...     -1.2196826878598488  -0.8425404774849347\n",
       " 3123     8516444.0  26088426.0 ...     -2.3565473235138126    2.965693764434763\n",
       " 2645     2479947.8   8292845.5 ...     -2.0809219076239263   1.3925561223438672\n",
       "   13     10.639714   592.22626 ...     -2.2365720064370627   -6.906754778648554\n",
       " 2681      20.84966    70.91111 ...      -1.359518563029578   1.3925561223438672\n",
       "  ...           ...         ... ...                     ...                  ...\n",
       " 2449 0.00031874483  0.36132854 ...      0.5600023267733669   0.8520643136439034\n",
       " 2352     13457.289   48971.555 ...     -1.3798639450262424   0.8520643136439034\n",
       "  357      505.3973   6644.2563 ...     -1.9208187539523751  -2.1861625176303607\n",
       " 2967      7735.662   24352.168 ...     -2.2006594505464183   2.2083854074737483\n",
       "  989      765743.2   4652009.0 ...     -2.3979400086720375  -0.8425404774849347\n",
       " 1532     1522.0806    7130.276 ...     -1.3798639450262424 -0.19663110200685208\n",
       " 2322      5694.421   20458.193 ...      -1.978810700930062   0.8520643136439034\n",
       "  713     28560.006    229028.1 ...      -1.359518563029578  -1.3800560377071986\n",
       " 2944 2.0003305e-05 0.064912595 ...      0.6200006423000678   1.7424658226279148\n",
       " 1903    0.29584292   1.5105163 ...     -0.5199930570428494  0.20471192141066033"
      ]
     },
     "execution_count": 10,
     "metadata": {},
     "output_type": "execute_result"
    }
   ],
   "source": [
    "dataset\n"
   ]
  },
  {
   "cell_type": "markdown",
   "metadata": {},
   "source": [
    "## DeepNet building\n",
    "I will build a multi input, multi output deepnet model as my emulator, with parameters as input and the observed flux as outputs. I will train on log10 flux to make the model easier to train, and have already standarised the input parameters. I wilkl be using `stax` which can be thought of as the `Keras` equivalent for `JAX`. This [blog](https://blog.evjang.com/2019/02/maml-jax.html) was useful starting point."
   ]
  },
  {
   "cell_type": "markdown",
   "metadata": {},
   "source": [
    "I will use batches to help train the network"
   ]
  },
  {
   "cell_type": "code",
   "execution_count": 11,
   "metadata": {},
   "outputs": [],
   "source": [
    "split=0.75\n",
    "inner_batch_size=1200\n",
    "\n",
    "train_ind=onp.round(0.75*len(dataset)).astype(int)\n",
    "train=dataset[0:train_ind]\n",
    "validation=dataset[train_ind:]\n",
    "input_cols=['log10_sfh.sfr','agn.fracAGN','log10_universe.redshift']\n",
    "output_cols=['irac_i1','mips_24','spire_250','spire_350','spire_500']\n",
    "train_batch_X=np.asarray([i.data for i in train[input_cols].values()]).reshape(len(input_cols)\n",
    "                                                                               ,inner_batch_size,onp.round(len(train)/inner_batch_size).astype(int)).T.astype(float)\n",
    "train_batch_Y=np.asarray([np.log10(i.data) for i in train[output_cols].values()]).reshape(len(output_cols),\n",
    "                                                                                          inner_batch_size,onp.round(len(train)/inner_batch_size).astype(int)).T.astype(float)\n",
    "validation_batch_X=np.asarray([i.data for i in validation[input_cols].values()]).reshape(len(input_cols)\n",
    "                                                                               ,inner_batch_size,onp.round(len(validation)/inner_batch_size).astype(int)).T.astype(float)\n",
    "validation_batch_Y=np.asarray([np.log10(i.data) for i in validation[output_cols].values()]).reshape(len(output_cols),\n",
    "                                                                                          inner_batch_size,onp.round(len(validation)/inner_batch_size).astype(int)).T.astype(float)"
   ]
  },
  {
   "cell_type": "code",
   "execution_count": 12,
   "metadata": {},
   "outputs": [],
   "source": [
    "# Use stax to set up network initialization and evaluation functions\n",
    "net_init, net_apply = stax.serial(\n",
    "    Dense(128), LeakyRelu,\n",
    "    Dense(128), LeakyRelu,\n",
    "    Dense(len(output_cols))\n",
    ")\n",
    "in_shape = (-1, len(input_cols),)\n",
    "out_shape, net_params = net_init(key,in_shape)"
   ]
  },
  {
   "cell_type": "code",
   "execution_count": 13,
   "metadata": {},
   "outputs": [],
   "source": [
    "def loss(params, inputs, targets):\n",
    "    # Computes average loss for the batch\n",
    "    predictions = net_apply(params, inputs)\n",
    "    return np.mean((targets - predictions)**2)\n",
    "\n",
    "def batch_loss(p,x_b,y_b):\n",
    "    loss_b=vmap(partial(loss,p))(x_b,y_b)\n",
    "    return np.mean(loss_b)"
   ]
  },
  {
   "cell_type": "code",
   "execution_count": 14,
   "metadata": {},
   "outputs": [
    {
     "name": "stdout",
     "output_type": "stream",
     "text": [
      "0\n",
      "100\n",
      "200\n",
      "300\n",
      "400\n",
      "500\n",
      "600\n",
      "700\n",
      "800\n",
      "900\n",
      "1000\n",
      "1100\n",
      "1200\n",
      "1300\n",
      "1400\n",
      "1500\n",
      "1600\n",
      "1700\n",
      "1800\n",
      "1900\n"
     ]
    }
   ],
   "source": [
    "opt_init, opt_update, get_params= optimizers.adam(step_size=1e-3)\n",
    "out_shape, net_params = net_init(key,in_shape)\n",
    "opt_state = opt_init(net_params)\n",
    "\n",
    "@jit\n",
    "def step(i, opt_state, x1, y1):\n",
    "    p = get_params(opt_state)\n",
    "    g = grad(batch_loss)(p, x1, y1)\n",
    "    loss_tmp=batch_loss(p,x1,y1)\n",
    "    return opt_update(i, g, opt_state),loss_tmp\n",
    "\n",
    "np_batched_loss_1 = []\n",
    "valid_loss=[]\n",
    "for i in range(2000):\n",
    "    opt_state, l = step(i, opt_state, train_batch_X, train_batch_Y)\n",
    "    p = get_params(opt_state)\n",
    "    valid_loss.append(batch_loss(p,validation_batch_X,validation_batch_Y))\n",
    "    np_batched_loss_1.append(l)\n",
    "    if i % 100 == 0:\n",
    "        print(i)\n",
    "net_params = get_params(opt_state)"
   ]
  },
  {
   "cell_type": "code",
   "execution_count": 15,
   "metadata": {},
   "outputs": [
    {
     "data": {
      "text/plain": [
       "<matplotlib.legend.Legend at 0x7fe90cbcd390>"
      ]
     },
     "execution_count": 15,
     "metadata": {},
     "output_type": "execute_result"
    },
    {
     "data": {
      "image/png": "[encoded data removed]",
      "text/plain": [
       "<Figure size 720x360 with 1 Axes>"
      ]
     },
     "metadata": {
      "needs_background": "light"
     },
     "output_type": "display_data"
    }
   ],
   "source": [
    "plt.figure(figsize=(10,5))\n",
    "plt.semilogy(np_batched_loss_1,label='Training loss')\n",
    "plt.semilogy(valid_loss,label='Validation loss')\n",
    "plt.xlabel('Iteration')\n",
    "plt.ylabel('Loss (MSE)')\n",
    "plt.legend()\n"
   ]
  },
  {
   "cell_type": "markdown",
   "metadata": {},
   "source": [
    "## Investigate performance of each band of emulator\n",
    "To visulise performance of the trainied emulator, I will show the difference between real and emulated for each band."
   ]
  },
  {
   "cell_type": "code",
   "execution_count": 16,
   "metadata": {},
   "outputs": [],
   "source": [
    "predictions = net_apply(net_params,validation_batch_X)"
   ]
  },
  {
   "cell_type": "code",
   "execution_count": 17,
   "metadata": {},
   "outputs": [
    {
     "data": {
      "text/plain": [
       "(41, 1200, 3)"
      ]
     },
     "execution_count": 17,
     "metadata": {},
     "output_type": "execute_result"
    }
   ],
   "source": [
    "validation_batch_X.shape"
   ]
  },
  {
   "cell_type": "code",
   "execution_count": 18,
   "metadata": {},
   "outputs": [
    {
     "data": {
      "text/plain": [
       "(1200, 3)"
      ]
     },
     "execution_count": 18,
     "metadata": {},
     "output_type": "execute_result"
    }
   ],
   "source": [
    "validation_batch_X[0,:,:].shape"
   ]
  },
  {
   "cell_type": "code",
   "execution_count": 25,
   "metadata": {},
   "outputs": [
    {
     "data": {
      "image/png": "[encoded data removed]",
      "text/plain": [
       "<Figure size 3600x360 with 5 Axes>"
      ]
     },
     "metadata": {
      "needs_background": "light"
     },
     "output_type": "display_data"
    }
   ],
   "source": [
    "res=((10.0**predictions-10.0**validation_batch_Y)/(10.0**validation_batch_Y))\n",
    "fig,axes=plt.subplots(1,len(output_cols),figsize=(50,len(output_cols)))\n",
    "for i in range(0,len(output_cols)):\n",
    "    axes[i].hist(res[:,:,i].flatten()*100.0)\n",
    "    axes[i].set_title(output_cols[i])\n",
    "    axes[i].set_xlabel(r'$\\frac{f_{pred} - f_{True}}{f_{True}} \\ \\%$ error')\n",
    "plt.subplots_adjust(wspace=0.5)"
   ]
  },
  {
   "cell_type": "markdown",
   "metadata": {},
   "source": [
    "## Save network\n",
    "Having trained and validated network, I need to save the network and relevant functions"
   ]
  },
  {
   "cell_type": "code",
   "execution_count": 20,
   "metadata": {},
   "outputs": [],
   "source": [
    "import cloudpickle\n"
   ]
  },
  {
   "cell_type": "code",
   "execution_count": 21,
   "metadata": {},
   "outputs": [
    {
     "data": {
      "text/plain": [
       "(<function jax.experimental.stax.serial.<locals>.init_fun(rng, input_shape)>,\n",
       " <function jax.experimental.stax.serial.<locals>.apply_fun(params, inputs, **kwargs)>)"
      ]
     },
     "execution_count": 21,
     "metadata": {},
     "output_type": "execute_result"
    }
   ],
   "source": [
    "with open('CIGALE_emulator_20210311_log10sfr_uniformAGN_log10z_irac1.pkl', 'wb') as f:\n",
    "    cloudpickle.dump({'net_init':net_init,'net_apply': net_apply,'params':net_params}, f)\n",
    "    \n",
    "net_init, net_apply"
   ]
  },
  {
   "cell_type": "markdown",
   "metadata": {},
   "source": [
    "## Does SED look right?"
   ]
  },
  {
   "cell_type": "code",
   "execution_count": 22,
   "metadata": {},
   "outputs": [],
   "source": [
    "wave=np.array([3.6,24,250,350,500])"
   ]
  },
  {
   "cell_type": "code",
   "execution_count": 23,
   "metadata": {},
   "outputs": [
    {
     "data": {
      "text/plain": [
       "[<matplotlib.lines.Line2D at 0x7fe90e07bdd8>]"
      ]
     },
     "execution_count": 23,
     "metadata": {},
     "output_type": "execute_result"
    },
    {
     "data": {
      "image/png": "[encoded data removed]",
      "text/plain": [
       "<Figure size 432x288 with 1 Axes>"
      ]
     },
     "metadata": {
      "needs_background": "light"
     },
     "output_type": "display_data"
    }
   ],
   "source": [
    "plt.loglog(wave,10.0**net_apply(net_params,np.array([2.95, 0.801, 0.0])),'o')\n",
    "#plt.loglog(wave,10.0**net_apply(net_params,np.array([3.0,0.0,0.0])),'o')\n",
    "plt.loglog(wave,dataset[(dataset['universe.redshift']==1.0) & (dataset['agn.fracAGN'] == 0.801) & (dataset['sfh.sfr']>900) & (dataset['sfh.sfr']<1100)][output_cols].values())"
   ]
  },
  {
   "cell_type": "code",
   "execution_count": 35,
   "metadata": {},
   "outputs": [
    {
     "data": {
      "text/html": [
       "<i>Table length=1</i>\n",
       "<table id=\"table140706162577592\" class=\"table-striped table-bordered table-condensed\">\n",
       "<thead><tr><th>id</th><th>mips_24</th><th>spire_250</th><th>spire_350</th><th>spire_500</th><th>dust.luminosity</th><th>dust.mass</th><th>sfh.sfr</th><th>stellar.m_star</th><th>agn.fracAGN</th><th>attenuation.BC_to_ISM_factor</th><th>attenuation.bessell_b</th><th>attenuation.galex_fuv</th><th>attenuation.slope_BC</th><th>attenuation.slope_ISM</th><th>dust.qpah</th><th>dust.umin</th><th>sfh.age</th><th>sfh.burst_age</th><th>sfh.f_burst</th><th>sfh.tau_main</th><th>universe.redshift</th><th>log10_sfh.sfr</th><th>log10_universe.redshift</th><th>logit_agnfrac</th></tr></thead>\n",
       "<thead><tr><th></th><th></th><th></th><th></th><th></th><th></th><th></th><th></th><th></th><th></th><th></th><th>mag</th><th>mag</th><th>mag</th><th></th><th></th><th></th><th>Myr</th><th></th><th></th><th></th><th></th><th></th><th></th><th></th></tr></thead>\n",
       "<thead><tr><th>int64</th><th>float32</th><th>float32</th><th>float32</th><th>float32</th><th>float32</th><th>float32</th><th>float32</th><th>float32</th><th>float64</th><th>float64</th><th>float64</th><th>float64</th><th>float64</th><th>float64</th><th>float64</th><th>float64</th><th>float64</th><th>float64</th><th>float64</th><th>float64</th><th>float64</th><th>float32</th><th>float64</th><th>float64</th></tr></thead>\n",
       "<tr><td>2749</td><td>61.562428</td><td>204.47318</td><td>130.891</td><td>60.35406</td><td>8037312500000.0</td><td>4314639400.0</td><td>904.5928</td><td>175056060000.0</td><td>0.801</td><td>0.5</td><td>4.376290746740257</td><td>9.392077535240679</td><td>-0.7</td><td>-0.7</td><td>1.12</td><td>10.0</td><td>1000.0</td><td>50.0</td><td>0.1</td><td>3000.0</td><td>1.0</td><td>2.956453</td><td>0.0</td><td>1.3925561223438672</td></tr>\n",
       "</table>"
      ],
      "text/plain": [
       "<Table length=1>\n",
       "  id   mips_24  spire_250 ... log10_universe.redshift   logit_agnfrac   \n",
       "                          ...                                           \n",
       "int64  float32   float32  ...         float64              float64      \n",
       "----- --------- --------- ... ----------------------- ------------------\n",
       " 2749 61.562428 204.47318 ...                     0.0 1.3925561223438672"
      ]
     },
     "execution_count": 35,
     "metadata": {},
     "output_type": "execute_result"
    }
   ],
   "source": [
    "dataset[(dataset['universe.redshift']==1.0) & (dataset['agn.fracAGN'] == 0.801) & (dataset['sfh.sfr']>900) & (dataset['sfh.sfr']<1100)]"
   ]
  },
  {
   "cell_type": "code",
   "execution_count": null,
   "metadata": {},
   "outputs": [],
   "source": []
  }
 ],
 "metadata": {
  "kernelspec": {
   "display_name": "Python 3",
   "language": "python",
   "name": "python3"
  },
  "language_info": {
   "codemirror_mode": {
    "name": "ipython",
    "version": 3
   },
   "file_extension": ".py",
   "mimetype": "text/x-python",
   "name": "python",
   "nbconvert_exporter": "python",
   "pygments_lexer": "ipython3",
   "version": "3.6.6"
  }
 },
 "nbformat": 4,
 "nbformat_minor": 2
}
