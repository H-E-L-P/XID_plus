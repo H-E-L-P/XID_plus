{
 "cells": [
  {
   "cell_type": "code",
   "execution_count": 1,
   "id": "89c29385",
   "metadata": {},
   "outputs": [
    {
     "name": "stderr",
     "output_type": "stream",
     "text": [
      "/Users/pdh21/anaconda3/envs/xidplus/lib/python3.6/site-packages/dask/config.py:168: YAMLLoadWarning: calling yaml.load() without Loader=... is deprecated, as the default Loader is unsafe. Please read https://msg.pyyaml.org/load for full details.\n",
      "  data = yaml.load(f.read()) or {}\n"
     ]
    }
   ],
   "source": [
    "import numpy as np\n",
    "import matplotlib.pyplot as plt\n",
    "from scipy.stats.distributions import norm, uniform\n",
    "from pyDOE2 import lhs\n",
    "import numpy as onp\n",
    "from astropy.cosmology import Planck13\n",
    "from astropy.table import Table, vstack\n",
    "import subprocess\n",
    "from astropy.constants import L_sun, M_sun\n",
    "import glob\n",
    "import pylab as plt"
   ]
  },
  {
   "cell_type": "markdown",
   "id": "0b2000be",
   "metadata": {},
   "source": [
    "# Latin HyperCube sampling of CIGALE\n",
    "In this notebook, we use Latin Hypercube sampling to generate CIGALE SEDs, which in turn get used to train a neural network emulator."
   ]
  },
  {
   "cell_type": "code",
   "execution_count": 2,
   "id": "4c0fccb6",
   "metadata": {},
   "outputs": [],
   "source": [
    "# a function to generate a string as required by pcigiale.ini\n",
    "def generate_CIGALE_String(vals):\n",
    "    return onp.array2string(vals, separator=',',formatter={'float_kind':lambda x: \"%.4f\" % x}).replace('\\n','')"
   ]
  },
  {
   "cell_type": "markdown",
   "id": "6a5699c5",
   "metadata": {},
   "source": [
    "### Parameter definitions\n",
    "First we need to define upper and lower limits we want to sample from. The $alpha$ parameter is distinct in that CIGALE only accepts certain values, we therefore need to pass the set values we want to use."
   ]
  },
  {
   "cell_type": "code",
   "execution_count": 3,
   "id": "5e3f9fbf",
   "metadata": {},
   "outputs": [],
   "source": [
    "alpha=np.array([0.0625, 0.1250, 0.1875, 0.2500,0.3125, 0.3750, 0.4375, 0.5000, 0.5625, 0.6250, 0.6875, 0.7500,0.8125, 0.8750, 0.9375, 1.0000, 1.0625, 1.1250, 1.1875, 1.2500,1.3125, 1.3750, 1.4375, 1.5000, 1.5625, 1.6250, 1.6875, 1.7500, 1.8125, 1.8750, 1.9375, 2.0000, 2.0625, 2.1250, 2.1875, 2.2500,2.3125, 2.3750, 2.4375, 2.5000, 2.5625, 2.6250, 2.6875, 2.7500,2.8125, 2.8750, 2.9375, 3.0000, 3.0625, 3.1250, 3.1875, 3.2500, 3.3125, 3.3750, 3.4375, 3.5000, 3.5625, 3.6250, 3.6875, 3.7500, 3.8125, 3.8750, 3.9375, 4.0000])\n",
    "alpha=alpha[::4]\n",
    "#av_bc=onp.arange(0.1,4.0,0.2)\n",
    "av_bc=[0.1,4.0]\n",
    "#tau=onp.arange(500,6500,200)\n",
    "tau=[500,6500]\n",
    "age=[1000,10001]\n",
    "z=[0.05,6.5]#10.0**onp.arange(-2.5,0.77,0.1)\n",
    "#sfr=10.0**onp.arange(-2,4.75,0.25)\n",
    "sfr=[-2,4.6]\n",
    "agn_frac=[0,1.0]\n"
   ]
  },
  {
   "cell_type": "code",
   "execution_count": 4,
   "id": "26cf5a42",
   "metadata": {},
   "outputs": [],
   "source": [
    "#an array of the parameter names used by CIGALE\n",
    "parameter_names=np.array(['tau_main','age_main','Av_BC','alpha','fracAGN','redshift'])\n",
    "# a dictionary containing parameters with upper limits (Note: not alpha since it has distinct values)\n",
    "parameters={'tau_main':tau,'age_main':age,\n",
    "                'Av_BC':av_bc,'fracAGN':agn_frac,'redshift':z,'sfr':sfr}"
   ]
  },
  {
   "cell_type": "code",
   "execution_count": 6,
   "id": "4da51600",
   "metadata": {},
   "outputs": [],
   "source": [
    "# a function that takes in the dictionary of parameter limits, and used latin hypercube sampling to generate values\n",
    "def sample_params(nsamp,parameters):\n",
    "    new_param=parameters.copy()\n",
    "    lhd = lhs(len(parameters), samples=nsamp,criterion='correlation')\n",
    "    for i,s in enumerate(parameters):\n",
    "        lhd[:,i]=lhd[:,i]*(parameters[s][1]-parameters[s][0])+parameters[s][0]\n",
    "        new_param[s]=lhd[:,i]\n",
    "    new_param['age_main']=np.round(new_param['age_main'])\n",
    "    new_param['tau_main']=np.round(new_param['tau_main'])\n",
    "    new_param['sfr']=10.0**new_param['sfr']\n",
    "    new_param['alpha']=alpha\n",
    "    return new_param"
   ]
  },
  {
   "cell_type": "code",
   "execution_count": 7,
   "id": "5c28f321",
   "metadata": {},
   "outputs": [
    {
     "data": {
      "text/plain": [
       "{'tau_main': array([3800., 5180., 2869., 5381.,  612.]),\n",
       " 'age_main': array([5298., 2698., 4391., 6785., 9862.]),\n",
       " 'Av_BC': array([1.7287771 , 0.21802514, 2.59981293, 1.09354032, 3.27472263]),\n",
       " 'fracAGN': array([0.05450618, 0.9748011 , 0.29862853, 0.72503896, 0.51076031]),\n",
       " 'redshift': array([5.32345227, 2.82136079, 4.32401895, 2.05595922, 0.37094197]),\n",
       " 'sfr': array([5.14549956e-01, 5.00087365e+01, 1.45995585e+02, 4.49477446e-02,\n",
       "        8.06745298e+03]),\n",
       " 'alpha': array([0.0625, 0.3125, 0.5625, 0.8125, 1.0625, 1.3125, 1.5625, 1.8125,\n",
       "        2.0625, 2.3125, 2.5625, 2.8125, 3.0625, 3.3125, 3.5625, 3.8125])}"
      ]
     },
     "execution_count": 7,
     "metadata": {},
     "output_type": "execute_result"
    }
   ],
   "source": [
    "# test of function\n",
    "sample_params(5,parameters)"
   ]
  },
  {
   "cell_type": "code",
   "execution_count": null,
   "id": "449e1252",
   "metadata": {},
   "outputs": [],
   "source": [
    "#col scale is the bands you want to generte fluxes for\n",
    "col_scale=['F560W','F770W','F1000W','F1130W','1280W','F1500W','F1800W','F2100W','F2550W',' spire_250',' spire_350',' spire_500',' SCUBA450','SCUBA850',' ALMA_band10','ALMA_band9','ALMA_band8','ALMA_band7','ALMA_band6','ALMA_band5','ALMA_band4','ALMA_band3']\n"
   ]
  },
  {
   "cell_type": "code",
   "execution_count": 39,
   "id": "6cb5bc37",
   "metadata": {},
   "outputs": [],
   "source": [
    "def generate_SEDs(parameter_names,parameters_bounds,col_scale,path_to_cigale,path_to_ini_file,filename='tmp',nbatch=5,):\n",
    "    #loop over batchs\n",
    "    for b in range(0,nbatch):\n",
    "        print(b)\n",
    "        #generate samples of parameters\n",
    "        parameters=sample_params(3,parameters_bounds)\n",
    "        #loop over values in redshift (cant sample from prior due to link between redshift and main_age)\n",
    "        for i,z in enumerate(parameters['redshift']):\n",
    "            \n",
    "            #set up boolean for frac to deal with the two fracagn variables in cigale (first one needs to be set to zero)\n",
    "            fracagn=True\n",
    "            #copy dictionary of parameters\n",
    "            parameters_tmp = dict(parameters)\n",
    "            #add redshift\n",
    "            parameters_tmp['redshift']=[z]\n",
    "            #add age_main\n",
    "            parameters_tmp['age_main']=[np.floor(Planck13.age(z).value*1000.0)]\n",
    "            \n",
    "            #open the template cigale file\n",
    "            fin = open(path_to_cigale+path_to_ini_file)\n",
    "            #open the standard pcigale ini file to copy edits to\n",
    "            fout = open(path_to_cigale+\"pcigale.ini\", \"wt\")\n",
    "            #for each line\n",
    "            for line in fin:\n",
    "                #check if the line match any parameter names\n",
    "                ind_line=[param + \" =\" in line for param in parameter_names]\n",
    "\n",
    "                if any(ind_line):\n",
    "                    param=parameter_names[onp.array(ind_line)]\n",
    "                    #if parameter name is fracAGN check if this is the first \n",
    "                    if param[0]=='fracAGN':\n",
    "                        if fracagn:\n",
    "                            fout.write(line)\n",
    "                            fracagn=False\n",
    "                        else:\n",
    "                            #otherwise write out parameter values\n",
    "                            fout.write(\"   \"+param[0]+\" = \" + \", \".join(['{:.13f}'.format(i) for i in parameters_tmp[param[0]]]) + ' \\n')\n",
    "                            fracagn=True\n",
    "                    else:\n",
    "                        fout.write(\"   \"+param[0]+\" = \" + \", \".join(['{:.13f}'.format(i) for i in parameters_tmp[param[0]]]) + ' \\n')\n",
    "                else:\n",
    "                    fout.write(line)\n",
    "                    \n",
    "            #close files\n",
    "            fin.close()\n",
    "            fout.close()\n",
    "            \n",
    "            from shutil import copyfile, move, rmtree\n",
    "            #copy corresponding ini.spec file to standard path\n",
    "            copyfile(path_to_cigale+path_to_ini_file+\".spec\",path_to_cigale+\"pcigale.ini.spec\")\n",
    "            #run cigale\n",
    "            p = subprocess.Popen(['pcigale', 'run'], cwd=path_to_cigale)\n",
    "            p.wait()\n",
    "            #check if folder already exists\n",
    "            try:\n",
    "                rmtree(path_to_cigale+'{}/'.format(filename))\n",
    "            except(FileNotFoundError):\n",
    "                print('---')\n",
    "            #move cigale output to folder\n",
    "            move(path_to_cigale+'/out/', path_to_cigale+'/{}/'.format(filename))\n",
    "            #read in SEDs\n",
    "            SEDs = Table.read(path_to_cigale+'/{}//models-block-0.fits'.format(filename))\n",
    "            #change units\n",
    "            SEDs['dust.luminosity']=SEDs['dust.luminosity']/L_sun.value\n",
    "            #repeat the SED table by the number of scale steps\n",
    "            dataset=vstack([SEDs for i in range(0,parameters_tmp['sfr'].size)])\n",
    "            #repeat the scale range by the number of entries in table (so I can easily multiply each column)\n",
    "            scale_table=onp.repeat(parameters_tmp['sfr'],len(SEDs))/dataset['sfh.sfr']\n",
    "            #scale each column that should be scaled as SFR is scaled\n",
    "            for c in col_scale:\n",
    "                dataset[c]=dataset[c]*scale_table\n",
    "            #create log10 version of SFR\n",
    "            dataset['log10_sfh.sfr']=onp.log10(dataset['sfh.sfr'])\n",
    "            #write out scaled file\n",
    "            dataset.write('/Volumes/pdh_storage_2/kasia_gen_SEDs_z{}_b{}.fits'.format(i,b),overwrite=True)"
   ]
  },
  {
   "cell_type": "code",
   "execution_count": 40,
   "id": "40138df6",
   "metadata": {},
   "outputs": [
    {
     "name": "stdout",
     "output_type": "stream",
     "text": [
      "0\n",
      "1\n",
      "2\n",
      "3\n",
      "4\n",
      "5\n",
      "6\n",
      "7\n",
      "8\n",
      "9\n",
      "10\n",
      "11\n",
      "12\n",
      "13\n",
      "14\n",
      "15\n",
      "16\n",
      "17\n",
      "18\n",
      "19\n",
      "20\n",
      "21\n",
      "22\n",
      "23\n",
      "24\n",
      "25\n",
      "26\n",
      "27\n",
      "28\n",
      "29\n",
      "30\n",
      "31\n",
      "32\n",
      "33\n",
      "34\n",
      "35\n",
      "36\n",
      "37\n",
      "38\n",
      "39\n",
      "40\n",
      "41\n",
      "42\n",
      "43\n",
      "44\n",
      "45\n",
      "46\n",
      "47\n",
      "48\n",
      "49\n",
      "50\n",
      "51\n",
      "52\n",
      "53\n",
      "54\n",
      "55\n",
      "56\n",
      "57\n",
      "58\n",
      "59\n",
      "60\n",
      "61\n",
      "62\n",
      "63\n",
      "64\n",
      "65\n",
      "66\n",
      "67\n",
      "68\n",
      "69\n",
      "70\n",
      "71\n",
      "72\n",
      "73\n",
      "74\n",
      "75\n",
      "76\n",
      "77\n",
      "78\n",
      "79\n",
      "80\n",
      "81\n",
      "82\n",
      "83\n",
      "84\n",
      "85\n",
      "86\n",
      "87\n",
      "88\n",
      "89\n",
      "90\n",
      "91\n",
      "92\n",
      "93\n",
      "94\n",
      "95\n",
      "96\n",
      "97\n",
      "98\n",
      "99\n"
     ]
    }
   ],
   "source": [
    "path_to_cigale='/Volumes/pdh_storage/cigale/'\n",
    "path_to_ini_file='pcigale_kasia_nn_consGrant.ini'\n",
    "generate_SEDs(parameter_names,parameters,path_to_cigale,path_to_ini_file,filename='tmp',nbatch=100)"
   ]
  },
  {
   "cell_type": "markdown",
   "id": "d858cb8c",
   "metadata": {},
   "source": [
    "## you can combine files with topcat or astropy table functions"
   ]
  },
  {
   "cell_type": "code",
   "execution_count": null,
   "id": "e9bfaf59",
   "metadata": {},
   "outputs": [],
   "source": []
  }
 ],
 "metadata": {
  "kernelspec": {
   "display_name": "Python 3 (ipykernel)",
   "language": "python",
   "name": "python3"
  },
  "language_info": {
   "codemirror_mode": {
    "name": "ipython",
    "version": 3
   },
   "file_extension": ".py",
   "mimetype": "text/x-python",
   "name": "python",
   "nbconvert_exporter": "python",
   "pygments_lexer": "ipython3",
   "version": "3.9.12"
  }
 },
 "nbformat": 4,
 "nbformat_minor": 5
}
