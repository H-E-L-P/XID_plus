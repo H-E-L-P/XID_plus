{
 "cells": [
  {
   "cell_type": "code",
   "execution_count": 1,
   "metadata": {},
   "outputs": [
    {
     "name": "stderr",
     "output_type": "stream",
     "text": [
      "/Users/pdh21/anaconda3/envs/xidplus/lib/python3.6/site-packages/jax/lib/xla_bridge.py:130: UserWarning: No GPU/TPU found, falling back to CPU.\n",
      "  warnings.warn('No GPU/TPU found, falling back to CPU.')\n"
     ]
    }
   ],
   "source": [
    "import fitIR\n",
    "import fitIR.models as models\n",
    "import fitIR.analyse as analyse\n",
    "from astropy.cosmology import WMAP9 as cosmo\n",
    "import jax\n",
    "import numpy as onp\n",
    "import pylab as plt\n",
    "import astropy.units as u\n",
    "import scipy.integrate as integrate\n",
    "%matplotlib inline\n",
    "\n",
    "import jax.numpy as np\n",
    "from jax import grad, jit, vmap, value_and_grad\n",
    "from jax import random\n",
    "from jax import vmap # for auto-vectorizing functions\n",
    "from functools import partial # for use with vmap\n",
    "from jax import jit # for compiling functions for speedup\n",
    "from jax.experimental import stax # neural network library\n",
    "from jax.experimental.stax import Conv, Dense, MaxPool, Relu, Flatten, LogSoftmax, LeakyRelu # neural network layers\n",
    "\n",
    "from jax.experimental import optimizers\n",
    "from jax.tree_util import tree_multimap  # Element-wise manipulation of collections of numpy arrays \n",
    "import matplotlib.pyplot as plt # visualization\n",
    "# Generate key which is used to generate random numbers\n",
    "key = random.PRNGKey(1)"
   ]
  },
  {
   "cell_type": "code",
   "execution_count": 2,
   "metadata": {},
   "outputs": [],
   "source": [
    "def generate_samples(size=100):\n",
    "    #get parameter values from uniform distribution\n",
    "    LIR=onp.random.uniform(low=8,high=15,size=size)\n",
    "    redshift=onp.random.uniform(low=0.01,high=6,size=size)\n",
    "    temperature=onp.random.uniform(low=10,high=70,size=size)\n",
    "    #get standard deviation and mean for uniform dist\n",
    "    LIR_sd=(15-8.0)/np.sqrt(12.0)\n",
    "    LIR_mean=0.5*(15+8.0)\n",
    "    \n",
    "    red_sd=(6-0.01)/np.sqrt(12.0)\n",
    "    red_mean=0.5*(0.01+6)\n",
    "    \n",
    "    temp_sd=(70.0-10.0)/np.sqrt(12.0)\n",
    "    temp_mean=0.5*(70.0+10.0)\n",
    "    return onp.vstack((LIR,redshift,temperature)).T,onp.vstack(((LIR-LIR_mean)/LIR_sd,(redshift-red_mean)/red_sd,(temperature-temp_mean)/temp_sd)).T"
   ]
  },
  {
   "cell_type": "code",
   "execution_count": 3,
   "metadata": {},
   "outputs": [],
   "source": [
    "def transform_parameters(param):\n",
    "    LIR_sd=(15.0-8)/np.sqrt(12.0)\n",
    "    LIR_mean=0.5*(15+8.0)\n",
    "    \n",
    "    red_sd=(6-0.01)/np.sqrt(12.0)\n",
    "    red_mean=0.5*(0.01+6)\n",
    "    \n",
    "    temp_sd=(70-10.0)/np.sqrt(12.0)\n",
    "    temp_mean=0.5*(70+10.0)\n",
    "    \n",
    "    LIR_norm=(param[0]-LIR_mean)/LIR_sd\n",
    "    red_norm=(param[1]-red_mean)/red_sd\n",
    "    temp_norm=(param[2]-temp_mean)/temp_sd\n",
    "    return np.vstack((LIR_norm,red_norm,temp_norm)).T"
   ]
  },
  {
   "cell_type": "code",
   "execution_count": 4,
   "metadata": {},
   "outputs": [
    {
     "name": "stderr",
     "output_type": "stream",
     "text": [
      "/Users/pdh21/anaconda3/envs/xidplus/lib/python3.6/site-packages/dask/config.py:168: YAMLLoadWarning: calling yaml.load() without Loader=... is deprecated, as the default Loader is unsafe. Please read https://msg.pyyaml.org/load for full details.\n",
      "  data = yaml.load(f.read()) or {}\n",
      "WARNING: AstropyDeprecationWarning: block_reduce was moved to the astropy.nddata.blocks module.  Please update your import statement. [astropy.nddata.utils]\n",
      "WARNING: Logging before flag parsing goes to stderr.\n",
      "W0106 11:49:16.412850 4433116608 logger.py:204] AstropyDeprecationWarning: block_reduce was moved to the astropy.nddata.blocks module.  Please update your import statement.\n"
     ]
    }
   ],
   "source": [
    "import xidplus\n",
    "from xidplus import filters\n",
    "filter_=filters.FilterFile(file=xidplus.__path__[0]+'/../test_files/filters.res')\n",
    "SPIRE_250=filter_.filters[215]\n",
    "SPIRE_350=filter_.filters[216]\n",
    "SPIRE_500=filter_.filters[217]\n",
    "MIPS_24=filter_.filters[201]\n",
    "PACS_100=filter_.filters[250]\n",
    "PACS_160=filter_.filters[251]\n",
    "\n",
    "bands=[SPIRE_250,SPIRE_350,SPIRE_500,MIPS_24,PACS_100,PACS_160]\n",
    "eff_lam=[250.0,350.0,500.0,24.0, 100.0,160.0]\n",
    "\n",
    "from scipy.interpolate import interp1d\n",
    "\n",
    "def get_fluxes(samples):\n",
    "    measured=onp.empty_like(samples)\n",
    "    val = onp.linspace(onp.log10(3E8/8E-6),onp.log10(3E8/1E-3),1000)\n",
    "    val = 10**val\n",
    "    for i,s in enumerate(samples):\n",
    "        z=s[1]\n",
    "        prior = {}\n",
    "        prior['z'] = s[1]\n",
    "        prior['log10LIR'] = s[0]\n",
    "        prior['T'] = s[2]\n",
    "        prior['emissivity'] = 1.5\n",
    "\n",
    "\n",
    "\n",
    "        source = models.greybody(prior)\n",
    "\n",
    "        nu,lnu = source.generate_greybody(val,z)\n",
    "        wave = 3E8/nu*1E6\n",
    "        sed=interp1d(wave,lnu)\n",
    "        dist = cosmo.luminosity_distance(z).to(u.cm).value\n",
    "\n",
    "        for b in range(0,3):\n",
    "            measured[i,b]=(1.0+z)*filters.fnu_filt(sed(bands[b].wavelength/1E4),\n",
    "                                     3E8/(bands[b].wavelength/1E10),\n",
    "                                     bands[b].transmission,\n",
    "                                     3E8/(eff_lam[b]*1E-6),\n",
    "                                     sed(eff_lam[b]))/(4*onp.pi*dist**2)\n",
    "    return measured/10**(-26)"
   ]
  },
  {
   "cell_type": "code",
   "execution_count": 5,
   "metadata": {},
   "outputs": [],
   "source": [
    "import torch\n",
    "from torch.utils.data import Dataset, DataLoader\n",
    "## class for sed using the torch dataset class\n",
    "class sed_data(Dataset):\n",
    "    \n",
    "    def __init__(self,params,fluxes):\n",
    "        self.X=params\n",
    "        self.y=fluxes\n",
    "    def __len__(self):\n",
    "        return len(self.X)\n",
    "    def __getitem__(self,idx):\n",
    "        return self.X[idx],self.y[idx]"
   ]
  },
  {
   "cell_type": "code",
   "execution_count": 6,
   "metadata": {},
   "outputs": [],
   "source": [
    "batch_size=10\n",
    "## generate random SED samples\n",
    "samp_train,samp_stand_train=generate_samples(2000)\n",
    "## Use Steve's code and xidplus filters to get fluxes\n",
    "measured_train=get_fluxes(samp_train)\n",
    "## use data in SED dataclass\n",
    "ds = sed_data(samp_stand_train,measured_train)\n",
    "## use torch DataLoader\n",
    "train_loader = DataLoader(ds, batch_size=batch_size,)\n",
    "## do same but for test set\n",
    "samp_test,samp_stand_test=generate_samples(500)\n",
    "measured_test=get_fluxes(samp_test)\n",
    "\n",
    "ds = sed_data(samp_stand_test,measured_test)\n",
    "test_loader = DataLoader(ds, batch_size=batch_size)"
   ]
  },
  {
   "cell_type": "code",
   "execution_count": 7,
   "metadata": {},
   "outputs": [],
   "source": [
    "# Use stax to set up network initialization and evaluation functions\n",
    "net_init, net_apply = stax.serial(\n",
    "    Dense(128), LeakyRelu,\n",
    "    Dense(128), LeakyRelu,\n",
    "    Dense(3)\n",
    ")\n",
    "in_shape = (-1, 3,)\n",
    "out_shape, net_params = net_init(key,in_shape)"
   ]
  },
  {
   "cell_type": "code",
   "execution_count": 8,
   "metadata": {},
   "outputs": [],
   "source": [
    "def loss(params, inputs, targets):\n",
    "    # Computes average loss for the batch\n",
    "    predictions = net_apply(params, inputs)\n",
    "    return np.mean((targets - predictions)**2)\n",
    "\n",
    "def batch_loss(p,x_b,y_b):\n",
    "    loss_b=vmap(partial(loss,p))(x_b,y_b)\n",
    "    return np.mean(loss_b)"
   ]
  },
  {
   "cell_type": "code",
   "execution_count": 9,
   "metadata": {},
   "outputs": [],
   "source": [
    "def sample_batch(outer_batch_size,inner_batch_size):\n",
    "    def get_batch():\n",
    "        xs, ys = [], []\n",
    "        for i in range(0,outer_batch_size):\n",
    "            samp_train,samp_stand_train=generate_samples(inner_batch_size)\n",
    "            ## Use Steve's code and xidplus filters to get fluxes\n",
    "            measured_train=get_fluxes(samp_train)\n",
    "            xs.append(samp_stand_train)\n",
    "            ys.append(np.log(measured_train))\n",
    "        return np.stack(xs), np.stack(ys)\n",
    "    x1, y1 = get_batch()\n",
    "    return x1, y1"
   ]
  },
  {
   "cell_type": "code",
   "execution_count": 10,
   "metadata": {},
   "outputs": [],
   "source": [
    "x,y=sample_batch(10,10)"
   ]
  },
  {
   "cell_type": "code",
   "execution_count": 11,
   "metadata": {},
   "outputs": [
    {
     "data": {
      "text/plain": [
       "(array([1., 6., 2., 1., 2., 1., 4., 6., 4., 3.]),\n",
       " array([-7.3337173, -5.7218084, -4.109899 , -2.4979901, -0.8860809,\n",
       "         0.7258282,  2.3377373,  3.9496465,  5.5615554,  7.173465 ,\n",
       "         8.785374 ], dtype=float32),\n",
       " <a list of 10 Patch objects>)"
      ]
     },
     "execution_count": 11,
     "metadata": {},
     "output_type": "execute_result"
    },
    {
     "data": {
      "image/png": "[encoded data removed]",
      "text/plain": [
       "<Figure size 432x288 with 1 Axes>"
      ]
     },
     "metadata": {
      "needs_background": "light"
     },
     "output_type": "display_data"
    }
   ],
   "source": [
    "plt.hist(y[0,:].flatten())"
   ]
  },
  {
   "cell_type": "code",
   "execution_count": 24,
   "metadata": {},
   "outputs": [
    {
     "name": "stdout",
     "output_type": "stream",
     "text": [
      "0\n",
      "100\n",
      "200\n",
      "300\n",
      "400\n",
      "500\n",
      "600\n",
      "700\n",
      "800\n",
      "900\n",
      "1000\n",
      "1100\n",
      "1200\n",
      "1300\n",
      "1400\n",
      "1500\n",
      "1600\n",
      "1700\n",
      "1800\n",
      "1900\n"
     ]
    }
   ],
   "source": [
    "opt_init, opt_update, get_params= optimizers.adam(step_size=1e-3)\n",
    "out_shape, net_params = net_init(key,in_shape)\n",
    "opt_state = opt_init(net_params)\n",
    "\n",
    "@jit\n",
    "def step(i, opt_state, x1, y1):\n",
    "    p = get_params(opt_state)\n",
    "    g = grad(batch_loss)(p, x1, y1)\n",
    "    loss_tmp=batch_loss(p,x1,y1)\n",
    "    return opt_update(i, g, opt_state),loss_tmp\n",
    "\n",
    "np_batched_loss_1 = []\n",
    "valid_loss=[]\n",
    "K=40\n",
    "for i in range(2000):\n",
    "    x1_b, y1_b = sample_batch(10, K)\n",
    "    x2_b,y2_b = sample_batch(1,K)\n",
    "    opt_state, l = step(i, opt_state, x1_b, y1_b)\n",
    "    p = get_params(opt_state)\n",
    "    valid_loss.append(batch_loss(p,x2_b,y2_b))\n",
    "    np_batched_loss_1.append(l)\n",
    "    if i % 100 == 0:\n",
    "        print(i)\n",
    "net_params = get_params(opt_state)"
   ]
  },
  {
   "cell_type": "code",
   "execution_count": 25,
   "metadata": {},
   "outputs": [
    {
     "data": {
      "text/plain": [
       "[<matplotlib.lines.Line2D at 0x7fddee876b38>]"
      ]
     },
     "execution_count": 25,
     "metadata": {},
     "output_type": "execute_result"
    },
    {
     "data": {
      "image/png": "[encoded data removed]",
      "text/plain": [
       "<Figure size 432x288 with 1 Axes>"
      ]
     },
     "metadata": {
      "needs_background": "light"
     },
     "output_type": "display_data"
    }
   ],
   "source": [
    "plt.plot(np_batched_loss_1)\n",
    "plt.plot(valid_loss)"
   ]
  },
  {
   "cell_type": "code",
   "execution_count": 26,
   "metadata": {},
   "outputs": [],
   "source": [
    "x,y=sample_batch(100,100)\n",
    "predictions = net_apply(net_params,x)"
   ]
  },
  {
   "cell_type": "code",
   "execution_count": 27,
   "metadata": {},
   "outputs": [],
   "source": [
    "res=predictions-y"
   ]
  },
  {
   "cell_type": "code",
   "execution_count": 35,
   "metadata": {},
   "outputs": [
    {
     "data": {
      "image/png": "[encoded data removed]",
      "text/plain": [
       "<Figure size 3600x216 with 3 Axes>"
      ]
     },
     "metadata": {
      "needs_background": "light"
     },
     "output_type": "display_data"
    }
   ],
   "source": [
    "fig,axes=plt.subplots(1,3,figsize=(50,3))\n",
    "for i in range(0,3):\n",
    "    axes[i].hist(res[:,:,0].flatten(),np.arange(-2,2,0.05))\n",
    "    axes[i].set_title(bands[i].name)\n",
    "    axes[i].set_xlabel('$\\log f_{pred} - \\log f_{True}$')\n",
    "plt.subplots_adjust(wspace=0.5)"
   ]
  },
  {
   "cell_type": "code",
   "execution_count": 148,
   "metadata": {},
   "outputs": [
    {
     "data": {
      "text/plain": [
       "DeviceArray([[-3.5368469, -4.215907 , -5.1577616]], dtype=float32)"
      ]
     },
     "execution_count": 148,
     "metadata": {},
     "output_type": "execute_result"
    }
   ],
   "source": [
    "net_apply(net_params,transform_parameters(np.array([10,2,70])))"
   ]
  },
  {
   "cell_type": "code",
   "execution_count": 29,
   "metadata": {},
   "outputs": [],
   "source": [
    "samples=np.vstack((np.arange(8,15),0.1*np.ones((7)),60.0*np.ones((7))))\n",
    "samples_norm=transform_parameters(samples)\n",
    "pred=net_apply(net_params,samples_norm)\n",
    "truth=onp.log(get_fluxes(samples.T))"
   ]
  },
  {
   "cell_type": "code",
   "execution_count": 30,
   "metadata": {},
   "outputs": [
    {
     "data": {
      "text/plain": [
       "[<matplotlib.lines.Line2D at 0x7fde0c55dc50>]"
      ]
     },
     "execution_count": 30,
     "metadata": {},
     "output_type": "execute_result"
    },
    {
     "data": {
      "image/png": "[encoded data removed]",
      "text/plain": [
       "<Figure size 432x288 with 1 Axes>"
      ]
     },
     "metadata": {
      "needs_background": "light"
     },
     "output_type": "display_data"
    }
   ],
   "source": [
    "plt.plot(pred[:,0],pred[:,2],'bo',alpha=0.5)\n",
    "plt.plot(truth[:,0],truth[:,2],'ro',alpha=0.5)"
   ]
  },
  {
   "cell_type": "code",
   "execution_count": 31,
   "metadata": {},
   "outputs": [],
   "source": [
    "x2_b,y2_b = sample_batch(1,20)\n",
    "p = get_params(opt_state)\n",
    "pred=net_apply(p, x2_b)"
   ]
  },
  {
   "cell_type": "code",
   "execution_count": 32,
   "metadata": {},
   "outputs": [
    {
     "data": {
      "text/plain": [
       "<matplotlib.axes._subplots.AxesSubplot at 0x7fddf08e5320>"
      ]
     },
     "execution_count": 32,
     "metadata": {},
     "output_type": "execute_result"
    },
    {
     "data": {
      "image/png": "[encoded data removed]",
      "text/plain": [
       "<Figure size 432x288 with 2 Axes>"
      ]
     },
     "metadata": {
      "needs_background": "light"
     },
     "output_type": "display_data"
    }
   ],
   "source": [
    "import seaborn as sns\n",
    "sns.heatmap(y2_b[0,:,:]-pred[0,:,:])\n"
   ]
  },
  {
   "cell_type": "code",
   "execution_count": 33,
   "metadata": {},
   "outputs": [
    {
     "data": {
      "text/plain": [
       "[<matplotlib.lines.Line2D at 0x7fddef93ba90>]"
      ]
     },
     "execution_count": 33,
     "metadata": {},
     "output_type": "execute_result"
    },
    {
     "data": {
      "image/png": "[encoded data removed]",
      "text/plain": [
       "<Figure size 432x288 with 1 Axes>"
      ]
     },
     "metadata": {
      "needs_background": "light"
     },
     "output_type": "display_data"
    }
   ],
   "source": [
    "plt.plot(y2_b[0,:,0],y2_b[0,:,1],'o',alpha=0.5)\n",
    "plt.plot(pred[0,:,0],pred[0,:,1],'o',alpha=0.5)"
   ]
  },
  {
   "cell_type": "code",
   "execution_count": 22,
   "metadata": {},
   "outputs": [],
   "source": [
    "samples=np.vstack((np.arange(8,15),0.1*np.ones((7)),60.0*np.ones((7))))\n",
    "samples_norm=transform_parameters(samples)\n",
    "pred=net_apply(net_params,samples_norm[None,:,:])\n",
    "truth=onp.log(get_fluxes(samples.T))[None,:,:]"
   ]
  },
  {
   "cell_type": "code",
   "execution_count": 23,
   "metadata": {},
   "outputs": [
    {
     "data": {
      "text/plain": [
       "[<matplotlib.lines.Line2D at 0x7fddefb42278>]"
      ]
     },
     "execution_count": 23,
     "metadata": {},
     "output_type": "execute_result"
    },
    {
     "data": {
      "image/png": "[encoded data removed]",
      "text/plain": [
       "<Figure size 432x288 with 1 Axes>"
      ]
     },
     "metadata": {
      "needs_background": "light"
     },
     "output_type": "display_data"
    }
   ],
   "source": [
    "plt.plot(pred[0,:,0],pred[0,:,2],'bo',alpha=0.5)\n",
    "plt.plot(truth[0,:,0],truth[0,:,2],'ro',alpha=0.5)"
   ]
  },
  {
   "cell_type": "markdown",
   "metadata": {},
   "source": [
    "## Save network"
   ]
  },
  {
   "cell_type": "code",
   "execution_count": 41,
   "metadata": {},
   "outputs": [],
   "source": [
    "import cloudpickle\n"
   ]
  },
  {
   "cell_type": "code",
   "execution_count": 47,
   "metadata": {},
   "outputs": [
    {
     "data": {
      "text/plain": [
       "(<function jax.experimental.stax.serial.<locals>.init_fun(rng, input_shape)>,\n",
       " <function jax.experimental.stax.serial.<locals>.apply_fun(params, inputs, **kwargs)>)"
      ]
     },
     "execution_count": 47,
     "metadata": {},
     "output_type": "execute_result"
    }
   ],
   "source": [
    "with open('GB_emulator_20210106.pkl', 'wb') as f:\n",
    "    cloudpickle.dump({'net_init':net_init,'net_apply': net_apply,'params':p,'transform_parameters':transform_parameters}, f)\n",
    "    \n",
    "net_init, net_apply"
   ]
  },
  {
   "cell_type": "code",
   "execution_count": 43,
   "metadata": {},
   "outputs": [],
   "source": [
    "with open('GB_emulator_20210106.pkl', \"rb\") as f:\n",
    "    obj = pickle.load(f)"
   ]
  },
  {
   "cell_type": "code",
   "execution_count": 46,
   "metadata": {},
   "outputs": [
    {
     "data": {
      "text/plain": [
       "DeviceArray([[-4.2181034 , -5.3216076 , -6.5342913 ],\n",
       "             [-1.8333745 , -2.9275086 , -4.04571   ],\n",
       "             [ 0.5267367 , -0.58115715, -1.7066201 ],\n",
       "             [ 2.8794906 ,  1.8520129 ,  0.698159  ],\n",
       "             [ 5.244949  ,  4.218356  ,  3.1087701 ],\n",
       "             [ 7.5368524 ,  6.478298  ,  5.381083  ],\n",
       "             [ 9.879081  ,  8.794766  ,  7.6861196 ]], dtype=float32)"
      ]
     },
     "execution_count": 46,
     "metadata": {},
     "output_type": "execute_result"
    }
   ],
   "source": [
    "obj['net_apply'](p,samples_norm)"
   ]
  },
  {
   "cell_type": "code",
   "execution_count": null,
   "metadata": {},
   "outputs": [],
   "source": []
  }
 ],
 "metadata": {
  "kernelspec": {
   "display_name": "Python 3",
   "language": "python",
   "name": "python3"
  },
  "language_info": {
   "codemirror_mode": {
    "name": "ipython",
    "version": 3
   },
   "file_extension": ".py",
   "mimetype": "text/x-python",
   "name": "python",
   "nbconvert_exporter": "python",
   "pygments_lexer": "ipython3",
   "version": "3.6.6"
  }
 },
 "nbformat": 4,
 "nbformat_minor": 2
}
