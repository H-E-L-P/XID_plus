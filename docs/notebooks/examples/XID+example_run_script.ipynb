{
 "cells": [
  {
   "cell_type": "markdown",
   "metadata": {
    "slideshow": {
     "slide_type": "subslide"
    }
   },
   "source": [
    "# XID+ Example Run Script\n",
    "\n",
    "(This is based on a Jupyter notebook, available in the [XID+ package](https://github.com/H-E-L-P/XID_plus/tree/master/docs/notebooks/examples/) and can be interactively run and edited)\n",
    "\n",
    "XID+ is a probababilistic deblender for confusion dominated maps. It is designed to:\n",
    "\n",
    "1. Use a MCMC based approach to get FULL posterior probability distribution on flux\n",
    "2. Provide a natural framework to introduce additional prior information\n",
    "3. Allows more representative estimation of source flux density uncertainties\n",
    "4. Provides a platform for doing science with the maps (e.g XID+ Hierarchical stacking, Luminosity function from the map etc)"
   ]
  },
  {
   "cell_type": "markdown",
   "metadata": {
    "slideshow": {
     "slide_type": "notes"
    }
   },
   "source": [
    "Cross-identification tends to be done with catalogues, then science with the matched catalogues.\n",
    "\n",
    "XID+ takes a different philosophy. Catalogues are a form of data compression. OK in some cases, not so much in others, i.e. confused images: catalogue compression loses correlation information. Ideally, science should be done without compression.\n",
    "\n",
    "XID+ provides a framework to cross identify galaxies we know about in different maps, with the idea that it can be extended to do science with the maps!!\n"
   ]
  },
  {
   "cell_type": "markdown",
   "metadata": {
    "slideshow": {
     "slide_type": "fragment"
    }
   },
   "source": [
    "Philosophy: \n",
    "\n",
    "- build a probabilistic generative model for the SPIRE maps\n",
    "- Infer model on SPIRE maps\n",
    "\n",
    "Bayes Theorem\n",
    "\n",
    "$p(\\mathbf{f}|\\mathbf{d}) \\propto p(\\mathbf{d}|\\mathbf{f}) \\times p(\\mathbf{f})$\n",
    "\n",
    "In order to carry out Bayesian inference, we need a model to carry out inference on.\n",
    "\n",
    "For the SPIRE maps, our model is quite simple, with likelihood defined as:\n",
    "    $L = p(\\mathbf{d}|\\mathbf{f}) \\propto |\\mathbf{N_d}|^{-1/2} \\exp\\big\\{ -\\frac{1}{2}(\\mathbf{d}-\\mathbf{Af})^T\\mathbf{N_d}^{-1}(\\mathbf{d}-\\mathbf{Af})\\big\\}$\n",
    "\n",
    "where:\n",
    "    $\\mathbf{N_{d,ii}} =\\sigma_{inst.,ii}^2+\\sigma_{conf.}^2$"
   ]
  },
  {
   "cell_type": "markdown",
   "metadata": {
    "slideshow": {
     "slide_type": "notes"
    }
   },
   "source": [
    "Simplest model for XID+ assumes following:\n",
    "\n",
    "* All sources are known and have positive flux (fi)\n",
    "* A global background (B) contributes to all pixels \n",
    "* PRF is fixed and known\n",
    "* Confusion noise is constant and not correlated across pixels\n",
    "----\n",
    "Because we are getting the joint probability distribution, our model is generative i.e. given parameters, we generate data and vica-versa\n",
    "    \n",
    "Compared to discriminative model (i.e. neural network), which only obtains conditional probability distribution i.e. Neural network, give inputs, get output. Can't go other way'\n",
    "\n",
    "Generative model is full probabilistic model. Allows more complex relationships between observed and target variables\n"
   ]
  },
  {
   "cell_type": "markdown",
   "metadata": {
    "slideshow": {
     "slide_type": "slide"
    }
   },
   "source": [
    "###  XID+ SPIRE\n",
    "XID+ applied to GALFORM simulation of COSMOS field"
   ]
  },
  {
   "cell_type": "markdown",
   "metadata": {
    "slideshow": {
     "slide_type": "notes"
    }
   },
   "source": [
    "* SAM simulation (with dust) ran through SMAP pipeline_ similar depth and size as COSMOS\n",
    "* Use galaxies with an observed 100 micron flux of gt. $50\\mathbf{\\mu Jy}$. Gives 64823 sources\n",
    "* Uninformative prior: uniform $0 - 10{^3} \\mathbf{mJy}$\n"
   ]
  },
  {
   "cell_type": "markdown",
   "metadata": {},
   "source": [
    "Import required modules"
   ]
  },
  {
   "cell_type": "code",
   "execution_count": 1,
   "metadata": {
    "slideshow": {
     "slide_type": "skip"
    }
   },
   "outputs": [
    {
     "name": "stderr",
     "output_type": "stream",
     "text": [
      "/Users/pdh21/anaconda3/envs/xidplus/lib/python3.6/site-packages/dask/config.py:168: YAMLLoadWarning: calling yaml.load() without Loader=... is deprecated, as the default Loader is unsafe. Please read https://msg.pyyaml.org/load for full details.\n",
      "  data = yaml.load(f.read()) or {}\n",
      "WARNING: AstropyDeprecationWarning: block_reduce was moved to the astropy.nddata.blocks module.  Please update your import statement. [astropy.nddata.utils]\n"
     ]
    }
   ],
   "source": [
    "from astropy.io import ascii, fits\n",
    "import pylab as plt\n",
    "%matplotlib inline\n",
    "from astropy import wcs\n",
    "\n",
    "\n",
    "import numpy as np\n",
    "import xidplus\n",
    "from xidplus import moc_routines\n",
    "import pickle"
   ]
  },
  {
   "cell_type": "markdown",
   "metadata": {
    "collapsed": true
   },
   "source": [
    "Set image and catalogue filenames"
   ]
  },
  {
   "cell_type": "code",
   "execution_count": 2,
   "metadata": {},
   "outputs": [
    {
     "data": {
      "text/plain": [
       "'/Users/pdh21/Google_Drive/WORK/XID_plus/xidplus'"
      ]
     },
     "execution_count": 2,
     "metadata": {},
     "output_type": "execute_result"
    }
   ],
   "source": [
    "xidplus.__path__[0]"
   ]
  },
  {
   "cell_type": "code",
   "execution_count": 3,
   "metadata": {},
   "outputs": [],
   "source": [
    "#Folder containing maps\n",
    "imfolder=xidplus.__path__[0]+'/../test_files/'\n",
    "\n",
    "pswfits=imfolder+'cosmos_itermap_lacey_07012015_simulated_observation_w_noise_PSW_hipe.fits.gz'#SPIRE 250 map\n",
    "pmwfits=imfolder+'cosmos_itermap_lacey_07012015_simulated_observation_w_noise_PMW_hipe.fits.gz'#SPIRE 350 map\n",
    "plwfits=imfolder+'cosmos_itermap_lacey_07012015_simulated_observation_w_noise_PLW_hipe.fits.gz'#SPIRE 500 map\n",
    "\n",
    "\n",
    "#Folder containing prior input catalogue\n",
    "catfolder=xidplus.__path__[0]+'/../test_files/'\n",
    "#prior catalogue\n",
    "prior_cat='lacey_07012015_MillGas.ALLVOLS_cat_PSW_COSMOS_test.fits'\n",
    "\n",
    "\n",
    "#output folder\n",
    "output_folder='./'"
   ]
  },
  {
   "cell_type": "markdown",
   "metadata": {},
   "source": [
    "Load in images, noise maps, header info and WCS information"
   ]
  },
  {
   "cell_type": "code",
   "execution_count": 4,
   "metadata": {},
   "outputs": [],
   "source": [
    "#-----250-------------\n",
    "hdulist = fits.open(pswfits)\n",
    "im250phdu=hdulist[0].header\n",
    "im250hdu=hdulist[1].header\n",
    "\n",
    "im250=hdulist[1].data*1.0E3 #convert to mJy\n",
    "nim250=hdulist[2].data*1.0E3 #convert to mJy\n",
    "w_250 = wcs.WCS(hdulist[1].header)\n",
    "pixsize250=3600.0*w_250.wcs.cd[1,1] #pixel size (in arcseconds)\n",
    "hdulist.close()\n",
    "#-----350-------------\n",
    "hdulist = fits.open(pmwfits)\n",
    "im350phdu=hdulist[0].header\n",
    "im350hdu=hdulist[1].header\n",
    "\n",
    "im350=hdulist[1].data*1.0E3 #convert to mJy\n",
    "nim350=hdulist[2].data*1.0E3 #convert to mJy\n",
    "w_350 = wcs.WCS(hdulist[1].header)\n",
    "pixsize350=3600.0*w_350.wcs.cd[1,1] #pixel size (in arcseconds)\n",
    "hdulist.close()\n",
    "#-----500-------------\n",
    "hdulist = fits.open(plwfits)\n",
    "im500phdu=hdulist[0].header\n",
    "im500hdu=hdulist[1].header \n",
    "im500=hdulist[1].data*1.0E3 #convert to mJy\n",
    "nim500=hdulist[2].data*1.0E3 #convert to mJy\n",
    "w_500 = wcs.WCS(hdulist[1].header)\n",
    "pixsize500=3600.0*w_500.wcs.cd[1,1] #pixel size (in arcseconds)\n",
    "hdulist.close()"
   ]
  },
  {
   "cell_type": "markdown",
   "metadata": {},
   "source": [
    "Load in catalogue you want to fit (and make any cuts)"
   ]
  },
  {
   "cell_type": "code",
   "execution_count": 5,
   "metadata": {},
   "outputs": [],
   "source": [
    "hdulist = fits.open(catfolder+prior_cat)\n",
    "fcat=hdulist[1].data\n",
    "hdulist.close()\n",
    "inra=fcat['RA']\n",
    "indec=fcat['DEC']\n",
    "# select only sources with 100micron flux greater than 50 microJy\n",
    "sgood=fcat['S100']>0.050\n",
    "inra=inra[sgood]\n",
    "indec=indec[sgood]"
   ]
  },
  {
   "cell_type": "markdown",
   "metadata": {},
   "source": [
    "XID+ uses Multi Order Coverage (MOC) maps for cutting down maps and catalogues so they cover the same area. It can also take in MOCs as selection functions to carry out additional cuts. Lets use the python module [pymoc](http://pymoc.readthedocs.io/en/latest/) to create a MOC, centered on a specific position we are interested in. We will use a HEALPix order of 15 (the resolution: higher order means higher resolution), have a radius of 100 arcseconds centered around an R.A. of 150.74 degrees and Declination of 2.03 degrees."
   ]
  },
  {
   "cell_type": "code",
   "execution_count": 6,
   "metadata": {},
   "outputs": [],
   "source": [
    "from astropy.coordinates import SkyCoord\n",
    "from astropy import units as u\n",
    "c = SkyCoord(ra=[150.74]*u.degree, dec=[2.03]*u.degree)  \n",
    "import pymoc\n",
    "moc=pymoc.util.catalog.catalog_to_moc(c,100,15)"
   ]
  },
  {
   "cell_type": "markdown",
   "metadata": {},
   "source": [
    "XID+ is built around two python classes. A prior and posterior class. There should be a prior class for each map being fitted. It is initiated with a map, noise map, primary header and map header and can be set with a MOC. It also requires an input prior catalogue and point spread function.\n"
   ]
  },
  {
   "cell_type": "code",
   "execution_count": 7,
   "metadata": {},
   "outputs": [],
   "source": [
    "#---prior250--------\n",
    "prior250=xidplus.prior(im250,nim250,im250phdu,im250hdu, moc=moc)#Initialise with map, uncertianty map, wcs info and primary header\n",
    "prior250.prior_cat(inra,indec,prior_cat)#Set input catalogue\n",
    "prior250.prior_bkg(-5.0,5)#Set prior on background (assumes Gaussian pdf with mu and sigma)\n",
    "#---prior350--------\n",
    "prior350=xidplus.prior(im350,nim350,im350phdu,im350hdu, moc=moc)\n",
    "prior350.prior_cat(inra,indec,prior_cat)\n",
    "prior350.prior_bkg(-5.0,5)\n",
    "\n",
    "#---prior500--------\n",
    "prior500=xidplus.prior(im500,nim500,im500phdu,im500hdu, moc=moc)\n",
    "prior500.prior_cat(inra,indec,prior_cat)\n",
    "prior500.prior_bkg(-5.0,5)"
   ]
  },
  {
   "cell_type": "markdown",
   "metadata": {},
   "source": [
    "Set PRF. For SPIRE, the PRF can be assumed to be Gaussian with a FWHM of 18.15, 25.15, 36.3 '' for 250, 350 and 500 $\\mathrm{\\mu m}$ respectively. Lets use the astropy module to construct a Gaussian PRF and assign it to the three XID+ prior classes."
   ]
  },
  {
   "cell_type": "code",
   "execution_count": 8,
   "metadata": {},
   "outputs": [],
   "source": [
    "#pixsize array (size of pixels in arcseconds)\n",
    "pixsize=np.array([pixsize250,pixsize350,pixsize500])\n",
    "#point response function for the three bands\n",
    "prfsize=np.array([18.15,25.15,36.3])\n",
    "#use Gaussian2DKernel to create prf (requires stddev rather than fwhm hence pfwhm/2.355)\n",
    "from astropy.convolution import Gaussian2DKernel\n",
    "\n",
    "##---------fit using Gaussian beam-----------------------\n",
    "prf250=Gaussian2DKernel(prfsize[0]/2.355,x_size=101,y_size=101)\n",
    "prf250.normalize(mode='peak')\n",
    "prf350=Gaussian2DKernel(prfsize[1]/2.355,x_size=101,y_size=101)\n",
    "prf350.normalize(mode='peak')\n",
    "prf500=Gaussian2DKernel(prfsize[2]/2.355,x_size=101,y_size=101)\n",
    "prf500.normalize(mode='peak')\n",
    "\n",
    "pind250=np.arange(0,101,1)*1.0/pixsize[0] #get 250 scale in terms of pixel scale of map\n",
    "pind350=np.arange(0,101,1)*1.0/pixsize[1] #get 350 scale in terms of pixel scale of map\n",
    "pind500=np.arange(0,101,1)*1.0/pixsize[2] #get 500 scale in terms of pixel scale of map\n",
    "\n",
    "prior250.set_prf(prf250.array,pind250,pind250)#requires PRF as 2d grid, and x and y bins for grid (in pixel scale)\n",
    "prior350.set_prf(prf350.array,pind350,pind350)\n",
    "prior500.set_prf(prf500.array,pind500,pind500)"
   ]
  },
  {
   "cell_type": "code",
   "execution_count": 9,
   "metadata": {},
   "outputs": [
    {
     "name": "stdout",
     "output_type": "stream",
     "text": [
      "fitting 51 sources \n",
      "\n",
      "using 870, 870 and 219 pixels\n"
     ]
    }
   ],
   "source": [
    "print('fitting '+ str(prior250.nsrc)+' sources \\n')\n",
    "print('using ' +  str(prior250.snpix)+', '+ str(prior250.snpix)+' and '+ str(prior500.snpix)+' pixels')\n"
   ]
  },
  {
   "cell_type": "markdown",
   "metadata": {},
   "source": [
    "Before fitting, the prior classes need to take the PRF and calculate how much each source contributes to each pixel. This process provides what we call a pointing matrix. Lets calculate the pointing matrix for each prior class"
   ]
  },
  {
   "cell_type": "code",
   "execution_count": 10,
   "metadata": {},
   "outputs": [],
   "source": [
    "prior250.get_pointing_matrix()\n",
    "prior350.get_pointing_matrix()\n",
    "prior500.get_pointing_matrix()\n"
   ]
  },
  {
   "cell_type": "markdown",
   "metadata": {},
   "source": [
    "Default prior on flux is a uniform distribution, with a minimum and maximum of 0.00 and 1000.0 $\\mathrm{mJy}$ respectively for each source. running the function upper_lim _map resets the upper limit to the maximum flux value (plus a 5 sigma Background value) found in the map in which the source makes a contribution to."
   ]
  },
  {
   "cell_type": "code",
   "execution_count": 11,
   "metadata": {},
   "outputs": [],
   "source": [
    "prior250.upper_lim_map()\n",
    "prior350.upper_lim_map()\n",
    "prior500.upper_lim_map()"
   ]
  },
  {
   "cell_type": "markdown",
   "metadata": {},
   "source": [
    "Now fit using the XID+ interface to pystan"
   ]
  },
  {
   "cell_type": "code",
   "execution_count": 19,
   "metadata": {},
   "outputs": [
    {
     "name": "stdout",
     "output_type": "stream",
     "text": [
      "/XID+SPIRE found. Reusing\n",
      "CPU times: user 106 ms, sys: 94 ms, total: 200 ms\n",
      "Wall time: 1min 40s\n"
     ]
    }
   ],
   "source": [
    "%%time\n",
    "from xidplus.stan_fit import SPIRE\n",
    "fit=SPIRE.all_bands(prior250,prior350,prior500,iter=1000)\n"
   ]
  },
  {
   "cell_type": "markdown",
   "metadata": {},
   "source": [
    "Initialise the posterior class with the fit object from pystan, and save alongside the prior classes"
   ]
  },
  {
   "cell_type": "code",
   "execution_count": 13,
   "metadata": {},
   "outputs": [],
   "source": [
    "posterior=xidplus.posterior_stan(fit,[prior250,prior350,prior500])\n",
    "xidplus.save([prior250,prior350,prior500],posterior,'test')"
   ]
  },
  {
   "cell_type": "markdown",
   "metadata": {},
   "source": [
    "Alternatively, you can fit with the [pyro](http://pyro.ai/) backend."
   ]
  },
  {
   "cell_type": "code",
   "execution_count": 14,
   "metadata": {},
   "outputs": [
    {
     "name": "stdout",
     "output_type": "stream",
     "text": [
      "ELBO loss: 1260041.3781670125\n",
      "ELBO loss: 1065185.5308887144\n",
      "ELBO loss: 1130646.216561278\n",
      "ELBO loss: 737672.9647120825\n",
      "ELBO loss: 737046.7701195669\n",
      "ELBO loss: 592995.6609225189\n",
      "ELBO loss: 485981.24728407926\n",
      "ELBO loss: 556506.0531864716\n",
      "ELBO loss: 429984.75956812076\n",
      "ELBO loss: 488600.43986501906\n",
      "ELBO loss: 411460.8363188233\n",
      "ELBO loss: 431718.87366976286\n",
      "ELBO loss: 385351.7608406113\n",
      "ELBO loss: 357830.9395776853\n",
      "ELBO loss: 382459.2569340388\n",
      "ELBO loss: 408383.5155558927\n",
      "ELBO loss: 354037.0720273069\n",
      "ELBO loss: 319367.88339216856\n",
      "ELBO loss: 328824.352500674\n",
      "ELBO loss: 344381.9609074172\n",
      "ELBO loss: 332100.2516022554\n",
      "ELBO loss: 329391.8185840579\n",
      "ELBO loss: 343332.345573644\n",
      "ELBO loss: 326011.7572739109\n",
      "ELBO loss: 334392.6077349388\n",
      "ELBO loss: 330918.6817200349\n",
      "ELBO loss: 318738.5096039734\n",
      "ELBO loss: 320144.5685866419\n",
      "ELBO loss: 321469.1003236038\n",
      "ELBO loss: 306684.0381109935\n",
      "ELBO loss: 306222.3041109718\n",
      "ELBO loss: 316213.57674243243\n",
      "ELBO loss: 302028.4815525737\n",
      "ELBO loss: 314143.9146362673\n",
      "ELBO loss: 308849.6712405728\n",
      "ELBO loss: 304463.31772266375\n",
      "ELBO loss: 305575.8903153222\n",
      "ELBO loss: 306456.8666223898\n",
      "ELBO loss: 311497.9229997178\n",
      "ELBO loss: 305731.40075046\n",
      "ELBO loss: 294303.4184477164\n",
      "ELBO loss: 307860.59128134267\n",
      "ELBO loss: 302443.41479888145\n",
      "ELBO loss: 302434.0722589671\n",
      "ELBO loss: 296474.40906456474\n",
      "ELBO loss: 294567.234372047\n",
      "ELBO loss: 285571.05148711114\n",
      "ELBO loss: 294979.9321089596\n",
      "ELBO loss: 307534.403646474\n",
      "ELBO loss: 292749.1740228964\n",
      "ELBO loss: 285536.16612776933\n",
      "ELBO loss: 287366.89226335345\n",
      "ELBO loss: 293459.23931325413\n",
      "ELBO loss: 280305.10191963566\n",
      "ELBO loss: 277065.00076433073\n",
      "ELBO loss: 289451.8705577\n",
      "ELBO loss: 286710.267381722\n",
      "ELBO loss: 282404.6378052321\n",
      "ELBO loss: 281562.6099327593\n",
      "ELBO loss: 295847.5997137869\n",
      "ELBO loss: 273017.52899662626\n",
      "ELBO loss: 274677.29919335956\n",
      "ELBO loss: 276900.04703429725\n",
      "ELBO loss: 284389.59261770954\n",
      "ELBO loss: 281148.13386684057\n",
      "ELBO loss: 271706.70894453634\n",
      "ELBO loss: 270963.3115729156\n",
      "ELBO loss: 269875.1825082948\n",
      "ELBO loss: 272432.86866855825\n",
      "ELBO loss: 279952.82368372695\n",
      "ELBO loss: 272510.6373495866\n",
      "ELBO loss: 267118.82284805377\n",
      "ELBO loss: 273452.2512412447\n",
      "ELBO loss: 269872.35647878784\n",
      "ELBO loss: 272897.5109136318\n",
      "ELBO loss: 268578.04057708185\n",
      "ELBO loss: 276258.8245621037\n",
      "ELBO loss: 274499.3222212271\n",
      "ELBO loss: 274362.63846433384\n",
      "ELBO loss: 283141.263292355\n",
      "ELBO loss: 273089.84374107263\n",
      "ELBO loss: 266347.15409340354\n",
      "ELBO loss: 282845.53845229145\n",
      "ELBO loss: 261515.5676478393\n",
      "ELBO loss: 267451.12136338797\n",
      "ELBO loss: 267560.7407516132\n",
      "ELBO loss: 270542.2910159557\n",
      "ELBO loss: 264882.88356716326\n",
      "ELBO loss: 272371.00116332335\n",
      "ELBO loss: 277567.8845486465\n",
      "ELBO loss: 271701.2737767191\n",
      "ELBO loss: 280858.06437200814\n",
      "ELBO loss: 275251.6272502058\n",
      "ELBO loss: 271682.6055318536\n",
      "ELBO loss: 276401.524773806\n",
      "ELBO loss: 266772.7698369609\n",
      "ELBO loss: 264341.4297489914\n",
      "ELBO loss: 267026.1641769626\n",
      "ELBO loss: 275372.94887385744\n",
      "ELBO loss: 287703.717028579\n",
      "ELBO loss: 266513.15235830535\n",
      "CPU times: user 7min 18s, sys: 9.28 s, total: 7min 27s\n",
      "Wall time: 3min 12s\n"
     ]
    }
   ],
   "source": [
    "%%time\n",
    "from xidplus.pyro_fit import SPIRE\n",
    "fit_pyro=SPIRE.all_bands([prior250,prior350,prior500],n_steps=10000,lr=0.001,sub=0.1)"
   ]
  },
  {
   "cell_type": "code",
   "execution_count": 16,
   "metadata": {},
   "outputs": [],
   "source": [
    "posterior_pyro=xidplus.posterior_pyro(fit_pyro,[prior250,prior350,prior500])\n",
    "xidplus.save([prior250,prior350,prior500],posterior_pyro,'test_pyro')"
   ]
  },
  {
   "cell_type": "code",
   "execution_count": 17,
   "metadata": {},
   "outputs": [
    {
     "data": {
      "text/plain": [
       "[<matplotlib.lines.Line2D at 0x7ff1559eda58>]"
      ]
     },
     "execution_count": 17,
     "metadata": {},
     "output_type": "execute_result"
    },
    {
     "data": {
      "image/png": "[encoded data removed]",
      "text/plain": [
       "<Figure size 432x288 with 1 Axes>"
      ]
     },
     "metadata": {
      "needs_background": "light"
     },
     "output_type": "display_data"
    }
   ],
   "source": [
    "plt.semilogy(posterior_pyro.loss_history)"
   ]
  },
  {
   "cell_type": "markdown",
   "metadata": {},
   "source": [
    "You can fit with the [numpyro](https://github.com/pyro-ppl/numpyro) backend."
   ]
  },
  {
   "cell_type": "code",
   "execution_count": 12,
   "metadata": {},
   "outputs": [
    {
     "name": "stdout",
     "output_type": "stream",
     "text": [
      "CPU times: user 1min 10s, sys: 904 ms, total: 1min 10s\n",
      "Wall time: 38.7 s\n"
     ]
    }
   ],
   "source": [
    "%%time\n",
    "from xidplus.numpyro_fit import SPIRE\n",
    "fit_numpyro=SPIRE.all_bands([prior250,prior350,prior500])"
   ]
  },
  {
   "cell_type": "code",
   "execution_count": 13,
   "metadata": {},
   "outputs": [
    {
     "name": "stdout",
     "output_type": "stream",
     "text": [
      "Number of divergences: 0\n"
     ]
    }
   ],
   "source": [
    "posterior_numpyro=xidplus.posterior_numpyro(fit_numpyro,[prior250,prior350,prior500])\n",
    "xidplus.save([prior250,prior350,prior500],posterior_numpyro,'test_numpyro')"
   ]
  },
  {
   "cell_type": "code",
   "execution_count": null,
   "metadata": {},
   "outputs": [],
   "source": []
  }
 ],
 "metadata": {
  "celltoolbar": "Slideshow",
  "kernelspec": {
   "display_name": "Python 3",
   "language": "python",
   "name": "python3"
  },
  "language_info": {
   "codemirror_mode": {
    "name": "ipython",
    "version": 3
   },
   "file_extension": ".py",
   "mimetype": "text/x-python",
   "name": "python",
   "nbconvert_exporter": "python",
   "pygments_lexer": "ipython3",
   "version": "3.6.6"
  }
 },
 "nbformat": 4,
 "nbformat_minor": 1
}
