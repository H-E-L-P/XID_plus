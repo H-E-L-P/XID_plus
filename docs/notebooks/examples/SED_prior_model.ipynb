{
 "cells": [
  {
   "cell_type": "code",
   "execution_count": 23,
   "metadata": {
    "collapsed": true
   },
   "outputs": [],
   "source": [
    "import os\n",
    "import numpy as np\n",
    "from astropy.io import ascii\n",
    "from scipy.interpolate import interp1d\n",
    "import xidplus\n",
    "temps=os.listdir('/Users/pdh21/astrodata/SEDs/Berta2013/templates_berta_norm_LIR/')"
   ]
  },
  {
   "cell_type": "code",
   "execution_count": 26,
   "metadata": {},
   "outputs": [
    {
     "data": {
      "text/plain": [
       "['Blue_SF_glx.norm_LIR',\n",
       " 'BroadFIR_SF_glx.norm_LIR',\n",
       " 'Cold_glx.norm_LIR',\n",
       " 'Elliptical.norm_LIR',\n",
       " 'Ly_break.norm_LIR',\n",
       " 'MIR_powlaw_SF_glx.norm_LIR',\n",
       " 'MIRex_SF_glx.norm_LIR',\n",
       " 'Mod_SF_glx.norm_LIR',\n",
       " 'Obs_SF_glx.norm_LIR',\n",
       " 'PAH_DF_glx.norm_LIR',\n",
       " 'Red_SF_glx_1.norm_LIR',\n",
       " 'Red_SF_glx_2.norm_LIR',\n",
       " 'Secular_glx.norm_LIR',\n",
       " 'SF_glx_1.norm_LIR',\n",
       " 'SF_glx_2.norm_LIR',\n",
       " 'SF_Type1_AGN_1.norm_LIR',\n",
       " 'SF_Type1_AGN_2.norm_LIR',\n",
       " 'SF_Type1_AGN_3.norm_LIR',\n",
       " 'SF_Type1_AGN_4.norm_LIR',\n",
       " 'SF_Type2_AGN_1.norm_LIR',\n",
       " 'SF_Type2_AGN_2.norm_LIR',\n",
       " 'SF_Type2_AGN_3.norm_LIR',\n",
       " 'Si_break.norm_LIR',\n",
       " 'Spiral.norm_LIR',\n",
       " 'Torus.norm_LIR',\n",
       " 'Type1_AGN_1.norm_LIR',\n",
       " 'Type2_AGN_1.norm_LIR',\n",
       " 'Type2_AGN_2.norm_LIR',\n",
       " 'Warm_SF_glx.norm_LIR',\n",
       " 'WeakPAH_SF_glx_1.norm_LIR',\n",
       " 'WeakPAH_SF_glx_2.norm_LIR',\n",
       " 'Young_SF_glx.norm_LIR']"
      ]
     },
     "execution_count": 26,
     "metadata": {},
     "output_type": "execute_result"
    }
   ],
   "source": [
    "temps"
   ]
  },
  {
   "cell_type": "markdown",
   "metadata": {},
   "source": [
    "Generate Redshift Grid and convert to denominator for flux conversion (e.g. $4 \\pi D_l^2)$"
   ]
  },
  {
   "cell_type": "code",
   "execution_count": 2,
   "metadata": {
    "collapsed": true
   },
   "outputs": [],
   "source": [
    "red=np.arange(0,8,0.01)\n",
    "red[0]=0.000001\n",
    "from astropy.cosmology import Planck13\n",
    "import astropy.units as u\n",
    "div=(4.0*np.pi * np.square(Planck13.luminosity_distance(red).cgs))\n",
    "div=div.value"
   ]
  },
  {
   "cell_type": "markdown",
   "metadata": {},
   "source": [
    "Get appropriate filters"
   ]
  },
  {
   "cell_type": "code",
   "execution_count": 3,
   "metadata": {
    "collapsed": true
   },
   "outputs": [],
   "source": [
    "from xidplus import filters\n",
    "filter=filters.FilterFile(file=xidplus.__path__[0]+'/../test_files/filters.res')"
   ]
  },
  {
   "cell_type": "code",
   "execution_count": 11,
   "metadata": {},
   "outputs": [
    {
     "data": {
      "text/plain": [
       "'PACS 100 Instrument Simulator as of Herschel Launch - 0251'"
      ]
     },
     "execution_count": 11,
     "metadata": {},
     "output_type": "execute_result"
    }
   ],
   "source": [
    "PACS_100.name"
   ]
  },
  {
   "cell_type": "code",
   "execution_count": 12,
   "metadata": {
    "collapsed": true
   },
   "outputs": [],
   "source": [
    "\n",
    "SPIRE_250=filter.filters[215]\n",
    "SPIRE_350=filter.filters[216]\n",
    "SPIRE_500=filter.filters[217]\n",
    "PACS_100=filter.filters[250]\n",
    "bands=[SPIRE_250,SPIRE_350,SPIRE_500,PACS_100]\n",
    "eff_lam=[250.0,350.0,500.0,100.0]"
   ]
  },
  {
   "cell_type": "code",
   "execution_count": 14,
   "metadata": {},
   "outputs": [
    {
     "name": "stdout",
     "output_type": "stream",
     "text": [
      "SPIRE 250 micron - 0216\n",
      "SPIRE 350 micron - 0217\n",
      "SPIRE 500 micron - 0218\n",
      "PACS 100 Instrument Simulator as of Herschel Launch - 0251\n"
     ]
    }
   ],
   "source": [
    "for b in bands:\n",
    "    print(b.name)"
   ]
  },
  {
   "cell_type": "code",
   "execution_count": 15,
   "metadata": {
    "collapsed": true
   },
   "outputs": [],
   "source": [
    "SEDs=np.empty((len(temps),len(bands),red.size))\n",
    "for i in range(0,len(temps)):\n",
    "    template=ascii.read('/Users/pdh21/astrodata/SEDs/Berta2013/templates_berta_norm_LIR/'+temps[i])\n",
    "    flux=template['col2']*((template['col1']/1E4)**2)/3E14\n",
    "    wave=template['col1']/1E4\n",
    "\n",
    "    for z in range(0,red.size):\n",
    "        sed=interp1d((red[z]+1.0)*wave, flux)\n",
    "        for b in range(0,len(bands)):\n",
    "            SEDs[i,b,z]=1E30*3.826E33*(1.0+red[z])*filters.fnu_filt(sed(bands[b].wavelength/1E4),3E8/(bands[b].wavelength/1E10),bands[b].transmission,3E8/(eff_lam[b]*1E-6),sed(eff_lam[b]))/div[z]\n",
    "        "
   ]
  },
  {
   "cell_type": "code",
   "execution_count": 18,
   "metadata": {},
   "outputs": [
    {
     "data": {
      "text/plain": [
       "(0.0001, 10000.0)"
      ]
     },
     "execution_count": 18,
     "metadata": {},
     "output_type": "execute_result"
    },
    {
     "data": {
      "image/png": "[encoded data removed]",
      "text/plain": [
       "<matplotlib.figure.Figure at 0x114bc5518>"
      ]
     },
     "metadata": {},
     "output_type": "display_data"
    }
   ],
   "source": [
    "import pylab as plt\n",
    "%matplotlib inline\n",
    "plt.semilogy(red,SEDs[0,0,:]*np.power(10.0,12))\n",
    "plt.semilogy(red,SEDs[0,1,:]*np.power(10.0,12),c='g')\n",
    "plt.semilogy(red,SEDs[0,2,:]*np.power(10.0,12),c='r')\n",
    "plt.semilogy(red,SEDs[0,3,:]*np.power(10.0,12),c='m')\n",
    "\n",
    "plt.ylim(1E-4,1E4)"
   ]
  },
  {
   "cell_type": "code",
   "execution_count": 21,
   "metadata": {},
   "outputs": [],
   "source": [
    "np.save('SED_SPIRE_PACS100', SEDs)"
   ]
  },
  {
   "cell_type": "code",
   "execution_count": 22,
   "metadata": {},
   "outputs": [
    {
     "name": "stdout",
     "output_type": "stream",
     "text": [
      "SED_SPIRE_PACS100.npy\r\n",
      "SED_prior_model.ipynb\r\n",
      "XID+SPIRE.pkl\r\n",
      "XID+example_run_script.ipynb\r\n",
      "XID+posterior_analysis_validation.ipynb\r\n",
      "test.fits\r\n",
      "test.pkl\r\n"
     ]
    }
   ],
   "source": [
    "ls"
   ]
  },
  {
   "cell_type": "code",
   "execution_count": null,
   "metadata": {
    "collapsed": true
   },
   "outputs": [],
   "source": []
  }
 ],
 "metadata": {
  "kernelspec": {
   "display_name": "Python [conda env:new]",
   "language": "python",
   "name": "conda-env-new-py"
  },
  "language_info": {
   "codemirror_mode": {
    "name": "ipython",
    "version": 3
   },
   "file_extension": ".py",
   "mimetype": "text/x-python",
   "name": "python",
   "nbconvert_exporter": "python",
   "pygments_lexer": "ipython3",
   "version": "3.6.0"
  }
 },
 "nbformat": 4,
 "nbformat_minor": 2
}
